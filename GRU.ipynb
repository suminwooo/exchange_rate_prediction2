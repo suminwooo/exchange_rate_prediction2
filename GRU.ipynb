{
 "cells": [
  {
   "cell_type": "code",
   "execution_count": 1,
   "metadata": {},
   "outputs": [
    {
     "name": "stderr",
     "output_type": "stream",
     "text": [
      "Using TensorFlow backend.\n"
     ]
    }
   ],
   "source": [
    "import pandas as pd\n",
    "import numpy as np\n",
    "\n",
    "import matplotlib.pyplot as plt\n",
    "\n",
    "from keras.models import Sequential\n",
    "from keras import layers\n",
    "from keras.optimizers import RMSprop\n",
    "from keras import backend as K\n",
    "\n",
    "rate=pd.read_csv('data/USD_KRW.csv')\n",
    "rate.columns=['date', 'rate']\n",
    "rate=rate.set_index('date')\n",
    "\n",
    "kolib=pd.read_csv('data/KORIBOR.csv')\n",
    "kolib=kolib[['date', '6month']]\n",
    "kolib.columns=['date','krlibor']\n",
    "kolib=kolib.set_index('date')\n",
    "\n",
    "\n",
    "uslib=pd.read_csv('data/libor.csv')\n",
    "uslib.columns=['date','uslibor']\n",
    "uslib=uslib.set_index('date')\n",
    "\n",
    "del uslib['uslibor']['2018-12-25']\n",
    "del uslib['uslibor']['2019-01-01']\n",
    "del uslib['uslibor']['2019-05-27']\n",
    "del uslib['uslibor']['2019-12-25']\n",
    "del uslib['uslibor']['2020-01-01']\n",
    "\n",
    "uslib['uslibor'].loc['2018-03-30'] = (float(uslib['uslibor'].loc['2018-03-29']) * 2/3 \n",
    "                                            + float(uslib['uslibor'].loc['2018-04-03']) * 1/3)\n",
    "\n",
    "uslib['uslibor'].loc['2018-04-02'] = (float(uslib['uslibor'].loc['2018-03-29']) * 1/3 \n",
    "                                            + float(uslib['uslibor'].loc['2018-04-03']) * 2/3)\n",
    "\n",
    "uslib['uslibor'].loc['2018-05-07'] = (float(uslib['uslibor'].loc['2018-05-04']) * 1/2 \n",
    "                                            + float(uslib['uslibor'].loc['2018-05-08']) * 1/2)\n",
    "\n",
    "uslib['uslibor'].loc['2018-05-28'] = (float(uslib['uslibor'].loc['2018-05-25']) * 1/2 \n",
    "                                            + float(uslib['uslibor'].loc['2018-05-29']) * 1/2)\n",
    "\n",
    "uslib['uslibor'].loc['2018-08-27'] = (float(uslib['uslibor'].loc['2018-08-24']) * 1/2 \n",
    "                                            + float(uslib['uslibor'].loc['2018-08-28']) * 1/2)\n",
    "\n",
    "uslib['uslibor'].loc['2018-12-26'] = (float(uslib['uslibor'].loc['2018-12-24']) * 2/3 \n",
    "                                            + float(uslib['uslibor'].loc['2018-12-27']) * 1/3)\n",
    "\n",
    "uslib['uslibor'].loc['2019-04-19'] = (float(uslib['uslibor'].loc['2019-04-23']) * 2/3 \n",
    "                                            + float(uslib['uslibor'].loc['2019-04-18']) * 1/3)\n",
    "\n",
    "uslib['uslibor'].loc['2019-04-22'] = (float(uslib['uslibor'].loc['2019-04-18']) * 2/3 \n",
    "                                            + float(uslib['uslibor'].loc['2019-04-23']) * 1/3)\n",
    "\n",
    "uslib['uslibor'].loc['2019-05-06'] = (float(uslib['uslibor'].loc['2019-05-03']) * 1/2\n",
    "                                            + float(uslib['uslibor'].loc['2019-05-07']) * 1/2)\n",
    "\n",
    "uslib['uslibor'].loc['2019-08-26'] = (float(uslib['uslibor'].loc['2019-08-23']) * 1/2\n",
    "                                            + float(uslib['uslibor'].loc['2019-08-27']) * 1/2)\n",
    "\n",
    "uslib['uslibor'].loc['2019-12-26'] = (float(uslib['uslibor'].loc['2019-12-24']) * 2/3 \n",
    "                                            + float(uslib['uslibor'].loc['2019-12-27']) * 1/3)\n",
    "\n",
    "uslib['uslibor']=uslib['uslibor'].apply(pd.to_numeric)\n",
    "\n",
    "\n",
    "\n",
    "snp500=pd.read_csv('data/S&P500.csv')\n",
    "snp500 = snp500[::-1]\n",
    "snp500=snp500[['날짜','종가']]\n",
    "snp500.columns=['date','snp500']\n",
    "\n",
    "\n",
    "snp500_date=[]\n",
    "for i in snp500['date']:\n",
    "    snp500_date.append(i.replace('년 ','-').replace('월 ','-').replace('일',''))\n",
    "\n",
    "snp500_price=[]\n",
    "for i in snp500['snp500']:\n",
    "    i=i.replace(',','')\n",
    "    snp500_price.append(np.float(i))\n",
    "\n",
    "snp500['date']=snp500_date\n",
    "snp500['snp500']=snp500_price\n",
    "snp500=snp500.set_index('date')\n",
    "\n",
    "kospi200=pd.read_csv('data/KOSPI200.csv')\n",
    "kospi200=kospi200[['날짜','종가']]\n",
    "kospi200.columns=['date','kospi200']\n",
    "kospi200 = kospi200[::-1]\n",
    "\n",
    "kospi_date=[]\n",
    "for i in kospi200['date']:\n",
    "    kospi_date.append(i.replace('년 ','-').replace('월 ','-').replace('일',''))\n",
    "\n",
    "kospi200['date']=kospi_date\n",
    "kospi200=kospi200.set_index('date')\n",
    "\n",
    "data=pd.concat([rate,kolib,uslib,snp500,kospi200], axis=1,  join = 'inner', sort=False)"
   ]
  },
  {
   "cell_type": "code",
   "execution_count": 2,
   "metadata": {},
   "outputs": [],
   "source": [
    "test = pd.concat([rate,kolib,uslib,snp500,kospi200], axis=1,  join = 'inner', sort=False)\n",
    "test = test.loc['2019-09-01':'2019-12-31']\n",
    "test = test[['rate']]"
   ]
  },
  {
   "cell_type": "code",
   "execution_count": 3,
   "metadata": {
    "scrolled": true
   },
   "outputs": [],
   "source": [
    "data=data[['krlibor','uslibor','snp500','kospi200','rate']]"
   ]
  },
  {
   "cell_type": "code",
   "execution_count": 4,
   "metadata": {},
   "outputs": [],
   "source": [
    "mean = data[:'2019-06-31'].mean(axis=0)\n",
    "data -= mean\n",
    "std = data[:'2019-06-31'].std(axis=0)\n",
    "data /= std"
   ]
  },
  {
   "cell_type": "code",
   "execution_count": 5,
   "metadata": {},
   "outputs": [],
   "source": [
    "#train 크기\n",
    "train_size = len(data.loc[:'2019-06-31'])\n",
    "#train ~ valid 크기\n",
    "valid_size = len(data.loc[:'2019-08-31'])"
   ]
  },
  {
   "cell_type": "code",
   "execution_count": 6,
   "metadata": {},
   "outputs": [],
   "source": [
    "data = np.array(data)"
   ]
  },
  {
   "cell_type": "markdown",
   "metadata": {},
   "source": [
    "## 제네레이터 함수 설정"
   ]
  },
  {
   "cell_type": "markdown",
   "metadata": {},
   "source": [
    "- lookback : 입력으로 사용하기 위해 거슬러 올라갈 타임스텝\n",
    "- delay : 타깃으로 사용할 미래의 타임스텝\n",
    "- min_index와 max_index : 추출할 타임스텝의 범위를 지정하기 위한 data 배열의 인덱스. 검증 데이터와 테스트 데이터를 분리하는 데 사용\n",
    "- shuffle : 샘플을 섞을지 시간 순서대로 추출할지 결정\n",
    "- batch_size : 배치의 샘플 수\n",
    "- step : 데이터를 샘플링할 타임스텝 간격. 한 시간에 하나의 데이터 포인트를 추출하기 위해 6으로 지정"
   ]
  },
  {
   "cell_type": "code",
   "execution_count": 7,
   "metadata": {},
   "outputs": [],
   "source": [
    "def generator(data, lookback, delay, min_index, max_index,shuffle=False, batch_size=32, step=1):\n",
    "    if max_index is None:\n",
    "        max_index = len(data) - delay - 1\n",
    "    i = min_index + lookback\n",
    "    while 1:\n",
    "        if shuffle:\n",
    "            rows = np.random.randint(min_index + lookback, max_index, size=batch_size)\n",
    "        else:\n",
    "            if i + batch_size >= max_index:\n",
    "                i = min_index + lookback\n",
    "            rows = np.arange(i, min(i + batch_size, max_index))\n",
    "            i += len(rows)\n",
    "\n",
    "        samples = np.zeros((len(rows), lookback // step, data.shape[-1]))\n",
    "        targets = np.zeros((len(rows),))\n",
    "        \n",
    "        for j, row in enumerate(rows):\n",
    "            indices = range(rows[j] - lookback, rows[j], step)\n",
    "            samples[j] = data[indices]\n",
    "            targets[j] = data[rows[j] + delay][-1] #target설정\n",
    "        yield samples, targets"
   ]
  },
  {
   "cell_type": "code",
   "execution_count": 8,
   "metadata": {},
   "outputs": [],
   "source": [
    "lookback = 5\n",
    "step = 1\n",
    "delay = 1\n",
    "batch_size = 32"
   ]
  },
  {
   "cell_type": "code",
   "execution_count": 9,
   "metadata": {},
   "outputs": [],
   "source": [
    "train_gen = generator(data, lookback = lookback, delay = delay, min_index = 0, max_index = train_size, \n",
    "                    shuffle = True , step = step, batch_size = batch_size)\n",
    "val_gen = generator(data, lookback = lookback, delay = delay, min_index = train_size+1,\n",
    "                    shuffle = True, max_index = valid_size, step = step, batch_size = batch_size)\n",
    "\n",
    "test_gen = generator(data, lookback = lookback, delay = delay, min_index = valid_size+1,\n",
    "                     shuffle = False, max_index = None, step = step, batch_size = batch_size)"
   ]
  },
  {
   "cell_type": "code",
   "execution_count": 10,
   "metadata": {},
   "outputs": [],
   "source": [
    "val_steps = (valid_size - (train_size+1) - lookback) // batch_size\n",
    "\n",
    "test_steps = (len(data) - (valid_size+1) - lookback) // batch_size"
   ]
  },
  {
   "cell_type": "markdown",
   "metadata": {},
   "source": [
    "### 양방향 제네레이터 설정"
   ]
  },
  {
   "cell_type": "code",
   "execution_count": 11,
   "metadata": {},
   "outputs": [],
   "source": [
    "def reverse_order_generator(data, lookback, delay, min_index, max_index, shuffle=False, batch_size=32, step=1):\n",
    "    if max_index is None:\n",
    "        max_index = len(data) - delay - 1\n",
    "    i = min_index + lookback\n",
    "    while 1:\n",
    "        if shuffle:\n",
    "            rows = np.random.randint(min_index + lookback, max_index, size=batch_size)\n",
    "        else:\n",
    "            if i + batch_size >= max_index:\n",
    "                i = min_index + lookback\n",
    "            rows = np.arange(i, min(i + batch_size, max_index))\n",
    "            i += len(rows)\n",
    "\n",
    "        samples = np.zeros((len(rows), lookback // step, data.shape[-1]))\n",
    "        targets = np.zeros((len(rows),))\n",
    "        for j, row in enumerate(rows):\n",
    "            indices = range(rows[j] - lookback, rows[j], step)\n",
    "            samples[j] = data[indices]\n",
    "            targets[j] = data[rows[j] + delay][-1]\n",
    "        yield samples, targets\n",
    "        \n",
    "train_gen_reverse = reverse_order_generator(data, lookback=lookback, delay=delay, min_index=0,\n",
    "                                            max_index=train_size, shuffle=True, step=step, batch_size=batch_size)\n",
    "val_gen_reverse = reverse_order_generator(data, lookback=lookback, delay=delay, min_index=train_size+1,\n",
    "                                          shuffle = True, max_index=valid_size,step=step, batch_size=batch_size)"
   ]
  },
  {
   "cell_type": "markdown",
   "metadata": {},
   "source": [
    "## 기본적인 머신 러닝 방법"
   ]
  },
  {
   "cell_type": "code",
   "execution_count": 12,
   "metadata": {
    "scrolled": false
   },
   "outputs": [
    {
     "name": "stdout",
     "output_type": "stream",
     "text": [
      "Epoch 1/20\n",
      "500/500 [==============================] - 2s 4ms/step - loss: 0.1711 - val_loss: 0.2477\n",
      "Epoch 2/20\n",
      "500/500 [==============================] - 2s 3ms/step - loss: 0.1119 - val_loss: 0.2919\n",
      "Epoch 3/20\n",
      "500/500 [==============================] - 2s 4ms/step - loss: 0.1019 - val_loss: 0.2271\n",
      "Epoch 4/20\n",
      "500/500 [==============================] - 2s 4ms/step - loss: 0.0949 - val_loss: 0.2816\n",
      "Epoch 5/20\n",
      "500/500 [==============================] - 2s 3ms/step - loss: 0.0897 - val_loss: 0.3912\n",
      "Epoch 6/20\n",
      "500/500 [==============================] - 2s 3ms/step - loss: 0.0869 - val_loss: 0.5228\n",
      "Epoch 7/20\n",
      "500/500 [==============================] - 2s 3ms/step - loss: 0.0837 - val_loss: 0.3534\n",
      "Epoch 8/20\n",
      "500/500 [==============================] - 2s 3ms/step - loss: 0.0817 - val_loss: 0.2468\n",
      "Epoch 9/20\n",
      "500/500 [==============================] - 2s 4ms/step - loss: 0.0805 - val_loss: 0.5246\n",
      "Epoch 10/20\n",
      "500/500 [==============================] - 2s 4ms/step - loss: 0.0794 - val_loss: 0.7476\n",
      "Epoch 11/20\n",
      "500/500 [==============================] - 2s 3ms/step - loss: 0.0775 - val_loss: 0.4708\n",
      "Epoch 12/20\n",
      "500/500 [==============================] - 2s 4ms/step - loss: 0.0766 - val_loss: 0.3262\n",
      "Epoch 13/20\n",
      "500/500 [==============================] - 2s 4ms/step - loss: 0.0751 - val_loss: 0.7069\n",
      "Epoch 14/20\n",
      "500/500 [==============================] - 2s 4ms/step - loss: 0.0743 - val_loss: 0.5065\n",
      "Epoch 15/20\n",
      "500/500 [==============================] - 2s 4ms/step - loss: 0.0733 - val_loss: 0.3131\n",
      "Epoch 16/20\n",
      "500/500 [==============================] - 2s 4ms/step - loss: 0.0727 - val_loss: 0.4916\n",
      "Epoch 17/20\n",
      "500/500 [==============================] - 2s 4ms/step - loss: 0.0715 - val_loss: 0.3648\n",
      "Epoch 18/20\n",
      "500/500 [==============================] - 2s 4ms/step - loss: 0.0709 - val_loss: 0.4613\n",
      "Epoch 19/20\n",
      "500/500 [==============================] - 2s 4ms/step - loss: 0.0703 - val_loss: 0.3698\n",
      "Epoch 20/20\n",
      "500/500 [==============================] - 2s 3ms/step - loss: 0.0697 - val_loss: 0.5397\n"
     ]
    },
    {
     "data": {
      "text/plain": [
       "<keras.callbacks.callbacks.History at 0x7f5ea4295350>"
      ]
     },
     "execution_count": 12,
     "metadata": {},
     "output_type": "execute_result"
    }
   ],
   "source": [
    "model1 = Sequential()\n",
    "model1.add(layers.Flatten(input_shape=(lookback // step, data.shape[-1])))\n",
    "model1.add(layers.Dense(32, activation='relu'))\n",
    "model1.add(layers.Dense(1))\n",
    "\n",
    "model1.compile(optimizer=RMSprop(), loss='mae')\n",
    "\n",
    "model1.fit_generator(train_gen, steps_per_epoch=500, epochs=20, validation_data=val_gen, validation_steps=val_steps)"
   ]
  },
  {
   "cell_type": "code",
   "execution_count": 13,
   "metadata": {},
   "outputs": [],
   "source": [
    "pred1=pd.DataFrame(model1.predict_generator(test_gen, steps=test_steps+1)*std[-1] + mean[-1])\n",
    "pred1=pred1[:len(test.index)]\n",
    "pred1=pred1.set_index(test.index)\n",
    "pred1.columns = ['model1']"
   ]
  },
  {
   "cell_type": "markdown",
   "metadata": {},
   "source": [
    "## 첫 번째 순환 신경망"
   ]
  },
  {
   "cell_type": "code",
   "execution_count": 14,
   "metadata": {
    "scrolled": false
   },
   "outputs": [
    {
     "name": "stdout",
     "output_type": "stream",
     "text": [
      "Epoch 1/20\n",
      "500/500 [==============================] - 6s 12ms/step - loss: 0.1577 - val_loss: 1.1656\n",
      "Epoch 2/20\n",
      "500/500 [==============================] - 6s 11ms/step - loss: 0.1152 - val_loss: 0.9483\n",
      "Epoch 3/20\n",
      "500/500 [==============================] - 5s 11ms/step - loss: 0.1067 - val_loss: 0.9148\n",
      "Epoch 4/20\n",
      "500/500 [==============================] - 5s 11ms/step - loss: 0.1015 - val_loss: 0.8306\n",
      "Epoch 5/20\n",
      "500/500 [==============================] - 5s 11ms/step - loss: 0.0974 - val_loss: 1.0075\n",
      "Epoch 6/20\n",
      "500/500 [==============================] - 6s 12ms/step - loss: 0.0903 - val_loss: 0.9754\n",
      "Epoch 7/20\n",
      "500/500 [==============================] - 6s 11ms/step - loss: 0.0854 - val_loss: 0.8547\n",
      "Epoch 8/20\n",
      "500/500 [==============================] - 6s 12ms/step - loss: 0.0792 - val_loss: 0.8719\n",
      "Epoch 9/20\n",
      "500/500 [==============================] - 6s 11ms/step - loss: 0.0779 - val_loss: 0.9226\n",
      "Epoch 10/20\n",
      "500/500 [==============================] - 6s 11ms/step - loss: 0.0747 - val_loss: 0.9278\n",
      "Epoch 11/20\n",
      "500/500 [==============================] - 6s 11ms/step - loss: 0.0717 - val_loss: 1.0648\n",
      "Epoch 12/20\n",
      "500/500 [==============================] - 5s 11ms/step - loss: 0.0693 - val_loss: 0.9794\n",
      "Epoch 13/20\n",
      "500/500 [==============================] - 5s 11ms/step - loss: 0.0680 - val_loss: 1.0700\n",
      "Epoch 14/20\n",
      "500/500 [==============================] - 5s 10ms/step - loss: 0.0652 - val_loss: 1.0760\n",
      "Epoch 15/20\n",
      "500/500 [==============================] - 5s 10ms/step - loss: 0.0630 - val_loss: 1.0438\n",
      "Epoch 16/20\n",
      "500/500 [==============================] - 5s 10ms/step - loss: 0.0603 - val_loss: 0.9948\n",
      "Epoch 17/20\n",
      "500/500 [==============================] - 5s 10ms/step - loss: 0.0582 - val_loss: 0.9998\n",
      "Epoch 18/20\n",
      "500/500 [==============================] - 5s 10ms/step - loss: 0.0556 - val_loss: 1.1001\n",
      "Epoch 19/20\n",
      "500/500 [==============================] - 5s 10ms/step - loss: 0.0548 - val_loss: 0.8327\n",
      "Epoch 20/20\n",
      "500/500 [==============================] - 5s 10ms/step - loss: 0.0521 - val_loss: 0.9399\n"
     ]
    },
    {
     "data": {
      "text/plain": [
       "<keras.callbacks.callbacks.History at 0x7f5e2c14ac50>"
      ]
     },
     "execution_count": 14,
     "metadata": {},
     "output_type": "execute_result"
    }
   ],
   "source": [
    "model2 = Sequential()\n",
    "model2.add(layers.GRU(32, input_shape=(None, data.shape[-1])))\n",
    "model2.add(layers.Dense(1))\n",
    "\n",
    "model2.compile(optimizer=RMSprop(), loss='mae')\n",
    "\n",
    "model2.fit_generator(train_gen, steps_per_epoch=500, epochs=20, validation_data=val_gen, validation_steps=val_steps)"
   ]
  },
  {
   "cell_type": "code",
   "execution_count": 15,
   "metadata": {},
   "outputs": [],
   "source": [
    "pred2=pd.DataFrame(model2.predict_generator(test_gen, steps=test_steps+1)*std[-1] + mean[-1])\n",
    "pred2=pred2[:len(test.index)]\n",
    "pred2=pred2.set_index(test.index)\n",
    "pred2.columns = ['model2']"
   ]
  },
  {
   "cell_type": "markdown",
   "metadata": {},
   "source": [
    "## 과대적합을 감소하기 위해 순환 드롭아웃 사용하기"
   ]
  },
  {
   "cell_type": "code",
   "execution_count": 16,
   "metadata": {
    "scrolled": false
   },
   "outputs": [
    {
     "name": "stdout",
     "output_type": "stream",
     "text": [
      "Epoch 1/40\n",
      "500/500 [==============================] - 6s 12ms/step - loss: 0.2505 - val_loss: 0.9580\n",
      "Epoch 2/40\n",
      "500/500 [==============================] - 6s 12ms/step - loss: 0.2135 - val_loss: 0.8052\n",
      "Epoch 3/40\n",
      "500/500 [==============================] - 6s 12ms/step - loss: 0.1883 - val_loss: 0.6988\n",
      "Epoch 4/40\n",
      "500/500 [==============================] - 6s 11ms/step - loss: 0.1761 - val_loss: 0.7095\n",
      "Epoch 5/40\n",
      "500/500 [==============================] - 6s 12ms/step - loss: 0.1703 - val_loss: 0.8050\n",
      "Epoch 6/40\n",
      "500/500 [==============================] - 6s 11ms/step - loss: 0.1643 - val_loss: 0.8046\n",
      "Epoch 7/40\n",
      "500/500 [==============================] - 6s 12ms/step - loss: 0.1587 - val_loss: 0.7717\n",
      "Epoch 8/40\n",
      "500/500 [==============================] - 6s 12ms/step - loss: 0.1530 - val_loss: 0.6910\n",
      "Epoch 9/40\n",
      "500/500 [==============================] - 6s 11ms/step - loss: 0.1509 - val_loss: 0.8345\n",
      "Epoch 10/40\n",
      "500/500 [==============================] - 6s 12ms/step - loss: 0.1465 - val_loss: 0.8039\n",
      "Epoch 11/40\n",
      "500/500 [==============================] - 6s 12ms/step - loss: 0.1432 - val_loss: 0.6724\n",
      "Epoch 12/40\n",
      "500/500 [==============================] - 6s 12ms/step - loss: 0.1424 - val_loss: 0.6784\n",
      "Epoch 13/40\n",
      "500/500 [==============================] - 6s 12ms/step - loss: 0.1404 - val_loss: 0.7911\n",
      "Epoch 14/40\n",
      "500/500 [==============================] - 6s 12ms/step - loss: 0.1390 - val_loss: 0.6698\n",
      "Epoch 15/40\n",
      "500/500 [==============================] - 6s 12ms/step - loss: 0.1386 - val_loss: 0.7553\n",
      "Epoch 16/40\n",
      "500/500 [==============================] - 6s 11ms/step - loss: 0.1351 - val_loss: 0.7082\n",
      "Epoch 17/40\n",
      "500/500 [==============================] - 6s 12ms/step - loss: 0.1345 - val_loss: 0.7314\n",
      "Epoch 18/40\n",
      "500/500 [==============================] - 6s 12ms/step - loss: 0.1314 - val_loss: 0.7520\n",
      "Epoch 19/40\n",
      "500/500 [==============================] - 6s 12ms/step - loss: 0.1320 - val_loss: 0.7650\n",
      "Epoch 20/40\n",
      "500/500 [==============================] - 6s 12ms/step - loss: 0.1294 - val_loss: 0.8401\n",
      "Epoch 21/40\n",
      "500/500 [==============================] - 6s 12ms/step - loss: 0.1304 - val_loss: 0.7648\n",
      "Epoch 22/40\n",
      "500/500 [==============================] - 6s 12ms/step - loss: 0.1275 - val_loss: 0.7610\n",
      "Epoch 23/40\n",
      "500/500 [==============================] - 6s 12ms/step - loss: 0.1271 - val_loss: 0.7716\n",
      "Epoch 24/40\n",
      "500/500 [==============================] - 6s 12ms/step - loss: 0.1283 - val_loss: 0.8596\n",
      "Epoch 25/40\n",
      "500/500 [==============================] - 6s 12ms/step - loss: 0.1277 - val_loss: 0.8620\n",
      "Epoch 26/40\n",
      "500/500 [==============================] - 6s 12ms/step - loss: 0.1247 - val_loss: 0.8945\n",
      "Epoch 27/40\n",
      "500/500 [==============================] - 6s 12ms/step - loss: 0.1257 - val_loss: 0.9220\n",
      "Epoch 28/40\n",
      "500/500 [==============================] - 6s 12ms/step - loss: 0.1242 - val_loss: 1.0997\n",
      "Epoch 29/40\n",
      "500/500 [==============================] - 6s 12ms/step - loss: 0.1255 - val_loss: 0.9577\n",
      "Epoch 30/40\n",
      "500/500 [==============================] - 6s 12ms/step - loss: 0.1215 - val_loss: 0.9602\n",
      "Epoch 31/40\n",
      "500/500 [==============================] - 6s 12ms/step - loss: 0.1215 - val_loss: 1.0411\n",
      "Epoch 32/40\n",
      "500/500 [==============================] - 6s 12ms/step - loss: 0.1220 - val_loss: 1.1789\n",
      "Epoch 33/40\n",
      "500/500 [==============================] - 6s 12ms/step - loss: 0.1213 - val_loss: 0.9809\n",
      "Epoch 34/40\n",
      "500/500 [==============================] - 6s 12ms/step - loss: 0.1197 - val_loss: 1.0291\n",
      "Epoch 35/40\n",
      "500/500 [==============================] - 6s 12ms/step - loss: 0.1186 - val_loss: 0.9917\n",
      "Epoch 36/40\n",
      "500/500 [==============================] - 6s 11ms/step - loss: 0.1177 - val_loss: 0.9932\n",
      "Epoch 37/40\n",
      "500/500 [==============================] - 6s 12ms/step - loss: 0.1181 - val_loss: 0.9772\n",
      "Epoch 38/40\n",
      "500/500 [==============================] - 6s 12ms/step - loss: 0.1181 - val_loss: 0.9284\n",
      "Epoch 39/40\n",
      "500/500 [==============================] - 6s 12ms/step - loss: 0.1177 - val_loss: 1.0212\n",
      "Epoch 40/40\n",
      "500/500 [==============================] - 6s 12ms/step - loss: 0.1174 - val_loss: 0.9767\n"
     ]
    },
    {
     "data": {
      "text/plain": [
       "<keras.callbacks.callbacks.History at 0x7f5dfc5a3d90>"
      ]
     },
     "execution_count": 16,
     "metadata": {},
     "output_type": "execute_result"
    }
   ],
   "source": [
    "model3 = Sequential()\n",
    "\n",
    "model3.add(layers.GRU(32, dropout=0.2,recurrent_dropout=0.2,input_shape=(None, data.shape[-1])))\n",
    "model3.add(layers.Dense(1))\n",
    "\n",
    "model3.compile(optimizer=RMSprop(), loss='mae')\n",
    "model3.fit_generator(train_gen, steps_per_epoch=500, epochs=40, validation_data=val_gen,validation_steps=val_steps)"
   ]
  },
  {
   "cell_type": "code",
   "execution_count": 17,
   "metadata": {},
   "outputs": [],
   "source": [
    "pred3=pd.DataFrame(model3.predict_generator(test_gen, steps=test_steps+1)*std[-1] + mean[-1])\n",
    "pred3=pred3[:len(test.index)]\n",
    "pred3=pred3.set_index(test.index)\n",
    "pred3.columns = ['model3']"
   ]
  },
  {
   "cell_type": "markdown",
   "metadata": {},
   "source": [
    "## 스태킹 순환 층"
   ]
  },
  {
   "cell_type": "code",
   "execution_count": 18,
   "metadata": {
    "scrolled": true
   },
   "outputs": [
    {
     "name": "stdout",
     "output_type": "stream",
     "text": [
      "Epoch 1/40\n",
      "500/500 [==============================] - 11s 23ms/step - loss: 0.2604 - val_loss: 1.4914\n",
      "Epoch 2/40\n",
      "500/500 [==============================] - 10s 20ms/step - loss: 0.2088 - val_loss: 0.9661\n",
      "Epoch 3/40\n",
      "500/500 [==============================] - 10s 20ms/step - loss: 0.1872 - val_loss: 0.5245\n",
      "Epoch 4/40\n",
      "500/500 [==============================] - 10s 20ms/step - loss: 0.1724 - val_loss: 0.5644\n",
      "Epoch 5/40\n",
      "500/500 [==============================] - 10s 20ms/step - loss: 0.1624 - val_loss: 0.3779\n",
      "Epoch 6/40\n",
      "500/500 [==============================] - 10s 20ms/step - loss: 0.1546 - val_loss: 0.5491\n",
      "Epoch 7/40\n",
      "500/500 [==============================] - 10s 20ms/step - loss: 0.1512 - val_loss: 0.4733\n",
      "Epoch 8/40\n",
      "500/500 [==============================] - 10s 20ms/step - loss: 0.1463 - val_loss: 0.4148\n",
      "Epoch 9/40\n",
      "500/500 [==============================] - 10s 20ms/step - loss: 0.1398 - val_loss: 0.7093\n",
      "Epoch 10/40\n",
      "500/500 [==============================] - 10s 20ms/step - loss: 0.1363 - val_loss: 0.5209\n",
      "Epoch 11/40\n",
      "500/500 [==============================] - 10s 20ms/step - loss: 0.1342 - val_loss: 0.5423\n",
      "Epoch 12/40\n",
      "500/500 [==============================] - 10s 20ms/step - loss: 0.1329 - val_loss: 0.4178\n",
      "Epoch 13/40\n",
      "500/500 [==============================] - 10s 20ms/step - loss: 0.1308 - val_loss: 0.4843\n",
      "Epoch 14/40\n",
      "500/500 [==============================] - 10s 20ms/step - loss: 0.1292 - val_loss: 0.5398\n",
      "Epoch 15/40\n",
      "500/500 [==============================] - 10s 20ms/step - loss: 0.1258 - val_loss: 0.6409\n",
      "Epoch 16/40\n",
      "500/500 [==============================] - 10s 20ms/step - loss: 0.1246 - val_loss: 0.5690\n",
      "Epoch 17/40\n",
      "500/500 [==============================] - 10s 20ms/step - loss: 0.1228 - val_loss: 0.7533\n",
      "Epoch 18/40\n",
      "500/500 [==============================] - 10s 20ms/step - loss: 0.1230 - val_loss: 0.9237\n",
      "Epoch 19/40\n",
      "500/500 [==============================] - 10s 20ms/step - loss: 0.1226 - val_loss: 0.6375\n",
      "Epoch 20/40\n",
      "500/500 [==============================] - 10s 20ms/step - loss: 0.1213 - val_loss: 0.4988\n",
      "Epoch 21/40\n",
      "500/500 [==============================] - 10s 20ms/step - loss: 0.1216 - val_loss: 0.7836\n",
      "Epoch 22/40\n",
      "500/500 [==============================] - 10s 20ms/step - loss: 0.1188 - val_loss: 0.8173\n",
      "Epoch 23/40\n",
      "500/500 [==============================] - 10s 20ms/step - loss: 0.1183 - val_loss: 0.6632\n",
      "Epoch 24/40\n",
      "500/500 [==============================] - 10s 20ms/step - loss: 0.1188 - val_loss: 0.5576\n",
      "Epoch 25/40\n",
      "500/500 [==============================] - 10s 20ms/step - loss: 0.1154 - val_loss: 0.7603\n",
      "Epoch 26/40\n",
      "500/500 [==============================] - 10s 19ms/step - loss: 0.1160 - val_loss: 0.6461\n",
      "Epoch 27/40\n",
      "500/500 [==============================] - 10s 20ms/step - loss: 0.1143 - val_loss: 0.7363\n",
      "Epoch 28/40\n",
      "500/500 [==============================] - 9s 19ms/step - loss: 0.1148 - val_loss: 0.5463\n",
      "Epoch 29/40\n",
      "500/500 [==============================] - 10s 20ms/step - loss: 0.1149 - val_loss: 0.9431\n",
      "Epoch 30/40\n",
      " 31/500 [>.............................] - ETA: 9s - loss: 0.1163"
     ]
    },
    {
     "ename": "KeyboardInterrupt",
     "evalue": "",
     "output_type": "error",
     "traceback": [
      "\u001b[0;31m---------------------------------------------------------------------------\u001b[0m",
      "\u001b[0;31mKeyboardInterrupt\u001b[0m                         Traceback (most recent call last)",
      "\u001b[0;32m<ipython-input-18-821a18902869>\u001b[0m in \u001b[0;36m<module>\u001b[0;34m\u001b[0m\n\u001b[1;32m      6\u001b[0m \u001b[0;34m\u001b[0m\u001b[0m\n\u001b[1;32m      7\u001b[0m \u001b[0mmodel4\u001b[0m\u001b[0;34m.\u001b[0m\u001b[0mcompile\u001b[0m\u001b[0;34m(\u001b[0m\u001b[0moptimizer\u001b[0m\u001b[0;34m=\u001b[0m\u001b[0mRMSprop\u001b[0m\u001b[0;34m(\u001b[0m\u001b[0;34m)\u001b[0m\u001b[0;34m,\u001b[0m \u001b[0mloss\u001b[0m\u001b[0;34m=\u001b[0m\u001b[0;34m'mae'\u001b[0m\u001b[0;34m)\u001b[0m\u001b[0;34m\u001b[0m\u001b[0;34m\u001b[0m\u001b[0m\n\u001b[0;32m----> 8\u001b[0;31m \u001b[0mmodel4\u001b[0m\u001b[0;34m.\u001b[0m\u001b[0mfit_generator\u001b[0m\u001b[0;34m(\u001b[0m\u001b[0mtrain_gen\u001b[0m\u001b[0;34m,\u001b[0m \u001b[0msteps_per_epoch\u001b[0m\u001b[0;34m=\u001b[0m\u001b[0;36m500\u001b[0m\u001b[0;34m,\u001b[0m \u001b[0mepochs\u001b[0m\u001b[0;34m=\u001b[0m\u001b[0;36m40\u001b[0m\u001b[0;34m,\u001b[0m \u001b[0mvalidation_data\u001b[0m\u001b[0;34m=\u001b[0m\u001b[0mval_gen\u001b[0m\u001b[0;34m,\u001b[0m \u001b[0mvalidation_steps\u001b[0m\u001b[0;34m=\u001b[0m\u001b[0mval_steps\u001b[0m\u001b[0;34m)\u001b[0m\u001b[0;34m\u001b[0m\u001b[0;34m\u001b[0m\u001b[0m\n\u001b[0m",
      "\u001b[0;32m~/anaconda3/lib/python3.7/site-packages/keras/legacy/interfaces.py\u001b[0m in \u001b[0;36mwrapper\u001b[0;34m(*args, **kwargs)\u001b[0m\n\u001b[1;32m     89\u001b[0m                 warnings.warn('Update your `' + object_name + '` call to the ' +\n\u001b[1;32m     90\u001b[0m                               'Keras 2 API: ' + signature, stacklevel=2)\n\u001b[0;32m---> 91\u001b[0;31m             \u001b[0;32mreturn\u001b[0m \u001b[0mfunc\u001b[0m\u001b[0;34m(\u001b[0m\u001b[0;34m*\u001b[0m\u001b[0margs\u001b[0m\u001b[0;34m,\u001b[0m \u001b[0;34m**\u001b[0m\u001b[0mkwargs\u001b[0m\u001b[0;34m)\u001b[0m\u001b[0;34m\u001b[0m\u001b[0;34m\u001b[0m\u001b[0m\n\u001b[0m\u001b[1;32m     92\u001b[0m         \u001b[0mwrapper\u001b[0m\u001b[0;34m.\u001b[0m\u001b[0m_original_function\u001b[0m \u001b[0;34m=\u001b[0m \u001b[0mfunc\u001b[0m\u001b[0;34m\u001b[0m\u001b[0;34m\u001b[0m\u001b[0m\n\u001b[1;32m     93\u001b[0m         \u001b[0;32mreturn\u001b[0m \u001b[0mwrapper\u001b[0m\u001b[0;34m\u001b[0m\u001b[0;34m\u001b[0m\u001b[0m\n",
      "\u001b[0;32m~/anaconda3/lib/python3.7/site-packages/keras/engine/training.py\u001b[0m in \u001b[0;36mfit_generator\u001b[0;34m(self, generator, steps_per_epoch, epochs, verbose, callbacks, validation_data, validation_steps, validation_freq, class_weight, max_queue_size, workers, use_multiprocessing, shuffle, initial_epoch)\u001b[0m\n\u001b[1;32m   1730\u001b[0m             \u001b[0muse_multiprocessing\u001b[0m\u001b[0;34m=\u001b[0m\u001b[0muse_multiprocessing\u001b[0m\u001b[0;34m,\u001b[0m\u001b[0;34m\u001b[0m\u001b[0;34m\u001b[0m\u001b[0m\n\u001b[1;32m   1731\u001b[0m             \u001b[0mshuffle\u001b[0m\u001b[0;34m=\u001b[0m\u001b[0mshuffle\u001b[0m\u001b[0;34m,\u001b[0m\u001b[0;34m\u001b[0m\u001b[0;34m\u001b[0m\u001b[0m\n\u001b[0;32m-> 1732\u001b[0;31m             initial_epoch=initial_epoch)\n\u001b[0m\u001b[1;32m   1733\u001b[0m \u001b[0;34m\u001b[0m\u001b[0m\n\u001b[1;32m   1734\u001b[0m     \u001b[0;34m@\u001b[0m\u001b[0minterfaces\u001b[0m\u001b[0;34m.\u001b[0m\u001b[0mlegacy_generator_methods_support\u001b[0m\u001b[0;34m\u001b[0m\u001b[0;34m\u001b[0m\u001b[0m\n",
      "\u001b[0;32m~/anaconda3/lib/python3.7/site-packages/keras/engine/training_generator.py\u001b[0m in \u001b[0;36mfit_generator\u001b[0;34m(model, generator, steps_per_epoch, epochs, verbose, callbacks, validation_data, validation_steps, validation_freq, class_weight, max_queue_size, workers, use_multiprocessing, shuffle, initial_epoch)\u001b[0m\n\u001b[1;32m    218\u001b[0m                                             \u001b[0msample_weight\u001b[0m\u001b[0;34m=\u001b[0m\u001b[0msample_weight\u001b[0m\u001b[0;34m,\u001b[0m\u001b[0;34m\u001b[0m\u001b[0;34m\u001b[0m\u001b[0m\n\u001b[1;32m    219\u001b[0m                                             \u001b[0mclass_weight\u001b[0m\u001b[0;34m=\u001b[0m\u001b[0mclass_weight\u001b[0m\u001b[0;34m,\u001b[0m\u001b[0;34m\u001b[0m\u001b[0;34m\u001b[0m\u001b[0m\n\u001b[0;32m--> 220\u001b[0;31m                                             reset_metrics=False)\n\u001b[0m\u001b[1;32m    221\u001b[0m \u001b[0;34m\u001b[0m\u001b[0m\n\u001b[1;32m    222\u001b[0m                 \u001b[0mouts\u001b[0m \u001b[0;34m=\u001b[0m \u001b[0mto_list\u001b[0m\u001b[0;34m(\u001b[0m\u001b[0mouts\u001b[0m\u001b[0;34m)\u001b[0m\u001b[0;34m\u001b[0m\u001b[0;34m\u001b[0m\u001b[0m\n",
      "\u001b[0;32m~/anaconda3/lib/python3.7/site-packages/keras/engine/training.py\u001b[0m in \u001b[0;36mtrain_on_batch\u001b[0;34m(self, x, y, sample_weight, class_weight, reset_metrics)\u001b[0m\n\u001b[1;32m   1512\u001b[0m             \u001b[0mins\u001b[0m \u001b[0;34m=\u001b[0m \u001b[0mx\u001b[0m \u001b[0;34m+\u001b[0m \u001b[0my\u001b[0m \u001b[0;34m+\u001b[0m \u001b[0msample_weights\u001b[0m\u001b[0;34m\u001b[0m\u001b[0;34m\u001b[0m\u001b[0m\n\u001b[1;32m   1513\u001b[0m         \u001b[0mself\u001b[0m\u001b[0;34m.\u001b[0m\u001b[0m_make_train_function\u001b[0m\u001b[0;34m(\u001b[0m\u001b[0;34m)\u001b[0m\u001b[0;34m\u001b[0m\u001b[0;34m\u001b[0m\u001b[0m\n\u001b[0;32m-> 1514\u001b[0;31m         \u001b[0moutputs\u001b[0m \u001b[0;34m=\u001b[0m \u001b[0mself\u001b[0m\u001b[0;34m.\u001b[0m\u001b[0mtrain_function\u001b[0m\u001b[0;34m(\u001b[0m\u001b[0mins\u001b[0m\u001b[0;34m)\u001b[0m\u001b[0;34m\u001b[0m\u001b[0;34m\u001b[0m\u001b[0m\n\u001b[0m\u001b[1;32m   1515\u001b[0m \u001b[0;34m\u001b[0m\u001b[0m\n\u001b[1;32m   1516\u001b[0m         \u001b[0;32mif\u001b[0m \u001b[0mreset_metrics\u001b[0m\u001b[0;34m:\u001b[0m\u001b[0;34m\u001b[0m\u001b[0;34m\u001b[0m\u001b[0m\n",
      "\u001b[0;32m~/anaconda3/lib/python3.7/site-packages/tensorflow_core/python/keras/backend.py\u001b[0m in \u001b[0;36m__call__\u001b[0;34m(self, inputs)\u001b[0m\n\u001b[1;32m   3725\u001b[0m         \u001b[0mvalue\u001b[0m \u001b[0;34m=\u001b[0m \u001b[0mmath_ops\u001b[0m\u001b[0;34m.\u001b[0m\u001b[0mcast\u001b[0m\u001b[0;34m(\u001b[0m\u001b[0mvalue\u001b[0m\u001b[0;34m,\u001b[0m \u001b[0mtensor\u001b[0m\u001b[0;34m.\u001b[0m\u001b[0mdtype\u001b[0m\u001b[0;34m)\u001b[0m\u001b[0;34m\u001b[0m\u001b[0;34m\u001b[0m\u001b[0m\n\u001b[1;32m   3726\u001b[0m       \u001b[0mconverted_inputs\u001b[0m\u001b[0;34m.\u001b[0m\u001b[0mappend\u001b[0m\u001b[0;34m(\u001b[0m\u001b[0mvalue\u001b[0m\u001b[0;34m)\u001b[0m\u001b[0;34m\u001b[0m\u001b[0;34m\u001b[0m\u001b[0m\n\u001b[0;32m-> 3727\u001b[0;31m     \u001b[0moutputs\u001b[0m \u001b[0;34m=\u001b[0m \u001b[0mself\u001b[0m\u001b[0;34m.\u001b[0m\u001b[0m_graph_fn\u001b[0m\u001b[0;34m(\u001b[0m\u001b[0;34m*\u001b[0m\u001b[0mconverted_inputs\u001b[0m\u001b[0;34m)\u001b[0m\u001b[0;34m\u001b[0m\u001b[0;34m\u001b[0m\u001b[0m\n\u001b[0m\u001b[1;32m   3728\u001b[0m \u001b[0;34m\u001b[0m\u001b[0m\n\u001b[1;32m   3729\u001b[0m     \u001b[0;31m# EagerTensor.numpy() will often make a copy to ensure memory safety.\u001b[0m\u001b[0;34m\u001b[0m\u001b[0;34m\u001b[0m\u001b[0;34m\u001b[0m\u001b[0m\n",
      "\u001b[0;32m~/anaconda3/lib/python3.7/site-packages/tensorflow_core/python/eager/function.py\u001b[0m in \u001b[0;36m__call__\u001b[0;34m(self, *args, **kwargs)\u001b[0m\n\u001b[1;32m   1549\u001b[0m       \u001b[0mTypeError\u001b[0m\u001b[0;34m:\u001b[0m \u001b[0mFor\u001b[0m \u001b[0minvalid\u001b[0m \u001b[0mpositional\u001b[0m\u001b[0;34m/\u001b[0m\u001b[0mkeyword\u001b[0m \u001b[0margument\u001b[0m \u001b[0mcombinations\u001b[0m\u001b[0;34m.\u001b[0m\u001b[0;34m\u001b[0m\u001b[0;34m\u001b[0m\u001b[0m\n\u001b[1;32m   1550\u001b[0m     \"\"\"\n\u001b[0;32m-> 1551\u001b[0;31m     \u001b[0;32mreturn\u001b[0m \u001b[0mself\u001b[0m\u001b[0;34m.\u001b[0m\u001b[0m_call_impl\u001b[0m\u001b[0;34m(\u001b[0m\u001b[0margs\u001b[0m\u001b[0;34m,\u001b[0m \u001b[0mkwargs\u001b[0m\u001b[0;34m)\u001b[0m\u001b[0;34m\u001b[0m\u001b[0;34m\u001b[0m\u001b[0m\n\u001b[0m\u001b[1;32m   1552\u001b[0m \u001b[0;34m\u001b[0m\u001b[0m\n\u001b[1;32m   1553\u001b[0m   \u001b[0;32mdef\u001b[0m \u001b[0m_call_impl\u001b[0m\u001b[0;34m(\u001b[0m\u001b[0mself\u001b[0m\u001b[0;34m,\u001b[0m \u001b[0margs\u001b[0m\u001b[0;34m,\u001b[0m \u001b[0mkwargs\u001b[0m\u001b[0;34m,\u001b[0m \u001b[0mcancellation_manager\u001b[0m\u001b[0;34m=\u001b[0m\u001b[0;32mNone\u001b[0m\u001b[0;34m)\u001b[0m\u001b[0;34m:\u001b[0m\u001b[0;34m\u001b[0m\u001b[0;34m\u001b[0m\u001b[0m\n",
      "\u001b[0;32m~/anaconda3/lib/python3.7/site-packages/tensorflow_core/python/eager/function.py\u001b[0m in \u001b[0;36m_call_impl\u001b[0;34m(self, args, kwargs, cancellation_manager)\u001b[0m\n\u001b[1;32m   1589\u001b[0m       raise TypeError(\"Keyword arguments {} unknown. Expected {}.\".format(\n\u001b[1;32m   1590\u001b[0m           list(kwargs.keys()), list(self._arg_keywords)))\n\u001b[0;32m-> 1591\u001b[0;31m     \u001b[0;32mreturn\u001b[0m \u001b[0mself\u001b[0m\u001b[0;34m.\u001b[0m\u001b[0m_call_flat\u001b[0m\u001b[0;34m(\u001b[0m\u001b[0margs\u001b[0m\u001b[0;34m,\u001b[0m \u001b[0mself\u001b[0m\u001b[0;34m.\u001b[0m\u001b[0mcaptured_inputs\u001b[0m\u001b[0;34m,\u001b[0m \u001b[0mcancellation_manager\u001b[0m\u001b[0;34m)\u001b[0m\u001b[0;34m\u001b[0m\u001b[0;34m\u001b[0m\u001b[0m\n\u001b[0m\u001b[1;32m   1592\u001b[0m \u001b[0;34m\u001b[0m\u001b[0m\n\u001b[1;32m   1593\u001b[0m   \u001b[0;32mdef\u001b[0m \u001b[0m_filtered_call\u001b[0m\u001b[0;34m(\u001b[0m\u001b[0mself\u001b[0m\u001b[0;34m,\u001b[0m \u001b[0margs\u001b[0m\u001b[0;34m,\u001b[0m \u001b[0mkwargs\u001b[0m\u001b[0;34m)\u001b[0m\u001b[0;34m:\u001b[0m\u001b[0;34m\u001b[0m\u001b[0;34m\u001b[0m\u001b[0m\n",
      "\u001b[0;32m~/anaconda3/lib/python3.7/site-packages/tensorflow_core/python/eager/function.py\u001b[0m in \u001b[0;36m_call_flat\u001b[0;34m(self, args, captured_inputs, cancellation_manager)\u001b[0m\n\u001b[1;32m   1690\u001b[0m       \u001b[0;31m# No tape is watching; skip to running the function.\u001b[0m\u001b[0;34m\u001b[0m\u001b[0;34m\u001b[0m\u001b[0;34m\u001b[0m\u001b[0m\n\u001b[1;32m   1691\u001b[0m       return self._build_call_outputs(self._inference_function.call(\n\u001b[0;32m-> 1692\u001b[0;31m           ctx, args, cancellation_manager=cancellation_manager))\n\u001b[0m\u001b[1;32m   1693\u001b[0m     forward_backward = self._select_forward_and_backward_functions(\n\u001b[1;32m   1694\u001b[0m         \u001b[0margs\u001b[0m\u001b[0;34m,\u001b[0m\u001b[0;34m\u001b[0m\u001b[0;34m\u001b[0m\u001b[0m\n",
      "\u001b[0;32m~/anaconda3/lib/python3.7/site-packages/tensorflow_core/python/eager/function.py\u001b[0m in \u001b[0;36mcall\u001b[0;34m(self, ctx, args, cancellation_manager)\u001b[0m\n\u001b[1;32m    543\u001b[0m               \u001b[0minputs\u001b[0m\u001b[0;34m=\u001b[0m\u001b[0margs\u001b[0m\u001b[0;34m,\u001b[0m\u001b[0;34m\u001b[0m\u001b[0;34m\u001b[0m\u001b[0m\n\u001b[1;32m    544\u001b[0m               \u001b[0mattrs\u001b[0m\u001b[0;34m=\u001b[0m\u001b[0;34m(\u001b[0m\u001b[0;34m\"executor_type\"\u001b[0m\u001b[0;34m,\u001b[0m \u001b[0mexecutor_type\u001b[0m\u001b[0;34m,\u001b[0m \u001b[0;34m\"config_proto\"\u001b[0m\u001b[0;34m,\u001b[0m \u001b[0mconfig\u001b[0m\u001b[0;34m)\u001b[0m\u001b[0;34m,\u001b[0m\u001b[0;34m\u001b[0m\u001b[0;34m\u001b[0m\u001b[0m\n\u001b[0;32m--> 545\u001b[0;31m               ctx=ctx)\n\u001b[0m\u001b[1;32m    546\u001b[0m         \u001b[0;32melse\u001b[0m\u001b[0;34m:\u001b[0m\u001b[0;34m\u001b[0m\u001b[0;34m\u001b[0m\u001b[0m\n\u001b[1;32m    547\u001b[0m           outputs = execute.execute_with_cancellation(\n",
      "\u001b[0;32m~/anaconda3/lib/python3.7/site-packages/tensorflow_core/python/eager/execute.py\u001b[0m in \u001b[0;36mquick_execute\u001b[0;34m(op_name, num_outputs, inputs, attrs, ctx, name)\u001b[0m\n\u001b[1;32m     59\u001b[0m     tensors = pywrap_tensorflow.TFE_Py_Execute(ctx._handle, device_name,\n\u001b[1;32m     60\u001b[0m                                                \u001b[0mop_name\u001b[0m\u001b[0;34m,\u001b[0m \u001b[0minputs\u001b[0m\u001b[0;34m,\u001b[0m \u001b[0mattrs\u001b[0m\u001b[0;34m,\u001b[0m\u001b[0;34m\u001b[0m\u001b[0;34m\u001b[0m\u001b[0m\n\u001b[0;32m---> 61\u001b[0;31m                                                num_outputs)\n\u001b[0m\u001b[1;32m     62\u001b[0m   \u001b[0;32mexcept\u001b[0m \u001b[0mcore\u001b[0m\u001b[0;34m.\u001b[0m\u001b[0m_NotOkStatusException\u001b[0m \u001b[0;32mas\u001b[0m \u001b[0me\u001b[0m\u001b[0;34m:\u001b[0m\u001b[0;34m\u001b[0m\u001b[0;34m\u001b[0m\u001b[0m\n\u001b[1;32m     63\u001b[0m     \u001b[0;32mif\u001b[0m \u001b[0mname\u001b[0m \u001b[0;32mis\u001b[0m \u001b[0;32mnot\u001b[0m \u001b[0;32mNone\u001b[0m\u001b[0;34m:\u001b[0m\u001b[0;34m\u001b[0m\u001b[0;34m\u001b[0m\u001b[0m\n",
      "\u001b[0;31mKeyboardInterrupt\u001b[0m: "
     ]
    }
   ],
   "source": [
    "model4 = Sequential()\n",
    "\n",
    "model4.add(layers.GRU(32, dropout=0.1, recurrent_dropout=0.5, return_sequences=True, input_shape=(None, data.shape[-1])))\n",
    "model4.add(layers.GRU(64, activation='relu', dropout=0.1, recurrent_dropout=0.5))\n",
    "model4.add(layers.Dense(1))\n",
    "\n",
    "model4.compile(optimizer=RMSprop(), loss='mae')\n",
    "model4.fit_generator(train_gen, steps_per_epoch=500, epochs=40, validation_data=val_gen, validation_steps=val_steps)"
   ]
  },
  {
   "cell_type": "code",
   "execution_count": 19,
   "metadata": {},
   "outputs": [],
   "source": [
    "pred4=pd.DataFrame(model4.predict_generator(test_gen, steps=test_steps+1)*std[-1] + mean[-1])\n",
    "pred4=pred4[:len(test.index)]\n",
    "pred4=pred4.set_index(test.index)\n",
    "pred4.columns = ['model4']"
   ]
  },
  {
   "cell_type": "markdown",
   "metadata": {},
   "source": [
    "## 양방향 RNN 사용하기"
   ]
  },
  {
   "cell_type": "code",
   "execution_count": 20,
   "metadata": {
    "scrolled": true
   },
   "outputs": [
    {
     "name": "stdout",
     "output_type": "stream",
     "text": [
      "Epoch 1/20\n",
      "500/500 [==============================] - 5s 10ms/step - loss: 0.1550 - val_loss: 0.9275\n",
      "Epoch 2/20\n",
      "500/500 [==============================] - 5s 10ms/step - loss: 0.1148 - val_loss: 1.1901\n",
      "Epoch 3/20\n",
      "500/500 [==============================] - 5s 10ms/step - loss: 0.1056 - val_loss: 0.9475\n",
      "Epoch 4/20\n",
      "500/500 [==============================] - 5s 10ms/step - loss: 0.1002 - val_loss: 1.0144\n",
      "Epoch 5/20\n",
      "500/500 [==============================] - 5s 10ms/step - loss: 0.0936 - val_loss: 1.1134\n",
      "Epoch 6/20\n",
      "500/500 [==============================] - 5s 10ms/step - loss: 0.0887 - val_loss: 0.9763\n",
      "Epoch 7/20\n",
      "500/500 [==============================] - 5s 10ms/step - loss: 0.0843 - val_loss: 0.8485\n",
      "Epoch 8/20\n",
      "500/500 [==============================] - 5s 10ms/step - loss: 0.0803 - val_loss: 0.8709\n",
      "Epoch 9/20\n",
      "500/500 [==============================] - 5s 9ms/step - loss: 0.0766 - val_loss: 0.9078\n",
      "Epoch 10/20\n",
      "500/500 [==============================] - 5s 10ms/step - loss: 0.0744 - val_loss: 0.9556\n",
      "Epoch 11/20\n",
      "500/500 [==============================] - 5s 10ms/step - loss: 0.0713 - val_loss: 0.8632\n",
      "Epoch 12/20\n",
      "500/500 [==============================] - 5s 10ms/step - loss: 0.0675 - val_loss: 0.8579\n",
      "Epoch 13/20\n",
      "500/500 [==============================] - 5s 10ms/step - loss: 0.0652 - val_loss: 1.0287\n",
      "Epoch 14/20\n",
      "500/500 [==============================] - 5s 10ms/step - loss: 0.0619 - val_loss: 1.0515\n",
      "Epoch 15/20\n",
      "500/500 [==============================] - 5s 10ms/step - loss: 0.0596 - val_loss: 0.8866\n",
      "Epoch 16/20\n",
      "500/500 [==============================] - 5s 10ms/step - loss: 0.0588 - val_loss: 1.0018\n",
      "Epoch 17/20\n",
      "500/500 [==============================] - 5s 10ms/step - loss: 0.0563 - val_loss: 0.9733\n",
      "Epoch 18/20\n",
      "500/500 [==============================] - 5s 10ms/step - loss: 0.0553 - val_loss: 0.9642\n",
      "Epoch 19/20\n",
      "500/500 [==============================] - 5s 10ms/step - loss: 0.0526 - val_loss: 1.0992\n",
      "Epoch 20/20\n",
      "500/500 [==============================] - 5s 10ms/step - loss: 0.0516 - val_loss: 0.9573\n"
     ]
    },
    {
     "data": {
      "text/plain": [
       "<keras.callbacks.callbacks.History at 0x7f5df426aa90>"
      ]
     },
     "execution_count": 20,
     "metadata": {},
     "output_type": "execute_result"
    }
   ],
   "source": [
    "model5 = Sequential()\n",
    "model5.add(layers.GRU(32, input_shape=(None, data.shape[-1])))\n",
    "model5.add(layers.Dense(1))\n",
    "model5.compile(optimizer=RMSprop(), loss='mae')\n",
    "model5.fit_generator(train_gen_reverse, steps_per_epoch=500, epochs=20, validation_data=val_gen_reverse,validation_steps=val_steps)"
   ]
  },
  {
   "cell_type": "code",
   "execution_count": 21,
   "metadata": {},
   "outputs": [],
   "source": [
    "pred5=pd.DataFrame(model5.predict_generator(test_gen, steps=test_steps+1)*std[-1] + mean[-1])\n",
    "pred5=pred5[:len(test.index)]\n",
    "pred5=pred5.set_index(test.index)\n",
    "pred5.columns = ['model5']"
   ]
  },
  {
   "cell_type": "markdown",
   "metadata": {},
   "source": [
    "## 양방향 RNN"
   ]
  },
  {
   "cell_type": "code",
   "execution_count": null,
   "metadata": {
    "scrolled": true
   },
   "outputs": [],
   "source": [
    "# model6 = Sequential()\n",
    "# model6.add(layers.Bidirectional(layers.GRU(32), input_shape=(None, data.shape[-1])))\n",
    "# model6.add(layers.Dense(1))\n",
    "\n",
    "# model6.compile(optimizer=RMSprop(), loss='mae')\n",
    "# model6.fit_generator(train_gen, steps_per_epoch=500, epochs=40, validation_data=val_gen, validation_steps=val_steps)"
   ]
  },
  {
   "cell_type": "code",
   "execution_count": null,
   "metadata": {},
   "outputs": [],
   "source": [
    "# pred6=pd.DataFrame(model6.predict_generator(test_gen, steps=test_steps+1)*std[-1] + mean[-1])\n",
    "# pred6=pred6[:len(test.index)]\n",
    "# pred6=pred6.set_index(test.index)\n",
    "# pred6.columns = ['model6']"
   ]
  },
  {
   "cell_type": "markdown",
   "metadata": {},
   "source": [
    "#### 최종 dataframe 만들기"
   ]
  },
  {
   "cell_type": "code",
   "execution_count": 22,
   "metadata": {},
   "outputs": [
    {
     "data": {
      "text/html": [
       "<div>\n",
       "<style scoped>\n",
       "    .dataframe tbody tr th:only-of-type {\n",
       "        vertical-align: middle;\n",
       "    }\n",
       "\n",
       "    .dataframe tbody tr th {\n",
       "        vertical-align: top;\n",
       "    }\n",
       "\n",
       "    .dataframe thead th {\n",
       "        text-align: right;\n",
       "    }\n",
       "</style>\n",
       "<table border=\"1\" class=\"dataframe\">\n",
       "  <thead>\n",
       "    <tr style=\"text-align: right;\">\n",
       "      <th></th>\n",
       "      <th>model1</th>\n",
       "      <th>model2</th>\n",
       "      <th>model3</th>\n",
       "      <th>model4</th>\n",
       "      <th>model5</th>\n",
       "    </tr>\n",
       "    <tr>\n",
       "      <th>date</th>\n",
       "      <th></th>\n",
       "      <th></th>\n",
       "      <th></th>\n",
       "      <th></th>\n",
       "      <th></th>\n",
       "    </tr>\n",
       "  </thead>\n",
       "  <tbody>\n",
       "    <tr>\n",
       "      <td>2019-09-03</td>\n",
       "      <td>1165.133545</td>\n",
       "      <td>1155.648926</td>\n",
       "      <td>1151.181519</td>\n",
       "      <td>1158.374878</td>\n",
       "      <td>1144.427246</td>\n",
       "    </tr>\n",
       "    <tr>\n",
       "      <td>2019-09-04</td>\n",
       "      <td>1160.491821</td>\n",
       "      <td>1151.798218</td>\n",
       "      <td>1147.690552</td>\n",
       "      <td>1156.518799</td>\n",
       "      <td>1141.972290</td>\n",
       "    </tr>\n",
       "    <tr>\n",
       "      <td>2019-09-05</td>\n",
       "      <td>1162.735596</td>\n",
       "      <td>1150.618530</td>\n",
       "      <td>1147.871338</td>\n",
       "      <td>1157.894653</td>\n",
       "      <td>1143.834106</td>\n",
       "    </tr>\n",
       "    <tr>\n",
       "      <td>2019-09-06</td>\n",
       "      <td>1158.064209</td>\n",
       "      <td>1147.594727</td>\n",
       "      <td>1145.832275</td>\n",
       "      <td>1154.756958</td>\n",
       "      <td>1142.048340</td>\n",
       "    </tr>\n",
       "    <tr>\n",
       "      <td>2019-09-09</td>\n",
       "      <td>1160.765015</td>\n",
       "      <td>1146.602051</td>\n",
       "      <td>1146.469727</td>\n",
       "      <td>1156.739990</td>\n",
       "      <td>1142.193481</td>\n",
       "    </tr>\n",
       "  </tbody>\n",
       "</table>\n",
       "</div>"
      ],
      "text/plain": [
       "                 model1       model2       model3       model4       model5\n",
       "date                                                                       \n",
       "2019-09-03  1165.133545  1155.648926  1151.181519  1158.374878  1144.427246\n",
       "2019-09-04  1160.491821  1151.798218  1147.690552  1156.518799  1141.972290\n",
       "2019-09-05  1162.735596  1150.618530  1147.871338  1157.894653  1143.834106\n",
       "2019-09-06  1158.064209  1147.594727  1145.832275  1154.756958  1142.048340\n",
       "2019-09-09  1160.765015  1146.602051  1146.469727  1156.739990  1142.193481"
      ]
     },
     "execution_count": 22,
     "metadata": {},
     "output_type": "execute_result"
    }
   ],
   "source": [
    "pred_df = pd.concat([pred1, pred2, pred3, pred4, pred5],axis=1)\n",
    "pred_df.columns = ['model1','model2','model3','model4','model5']\n",
    "pred_df.head()"
   ]
  },
  {
   "cell_type": "code",
   "execution_count": null,
   "metadata": {
    "scrolled": true
   },
   "outputs": [],
   "source": [
    "# pred_df = pd.concat([pred1, pred2, pred3, pred4, pred5, pred6],axis=1)\n",
    "# pred_df.columns = ['model1','model2','model3','model4','model5','model6']\n",
    "# pred_df.head()"
   ]
  },
  {
   "cell_type": "code",
   "execution_count": 23,
   "metadata": {},
   "outputs": [
    {
     "data": {
      "image/png": "[encoded data removed]",
      "text/plain": [
       "<Figure size 1152x576 with 1 Axes>"
      ]
     },
     "metadata": {
      "needs_background": "light"
     },
     "output_type": "display_data"
    }
   ],
   "source": [
    "plt.figure(figsize=(16,8))\n",
    "plt.plot(test, label='actual')\n",
    "plt.plot(pred_df['model1'],label='model1')\n",
    "plt.plot(pred_df['model2'],label='model2')\n",
    "plt.plot(pred_df['model3'],label='model3')\n",
    "plt.plot(pred_df['model4'],label='model4')\n",
    "plt.plot(pred_df['model5'],label='model5')\n",
    "#plt.plot(pred_df['model6'],label='model6')\n",
    "plt.legend()\n",
    "\n",
    "plt.show()"
   ]
  },
  {
   "cell_type": "code",
   "execution_count": 26,
   "metadata": {},
   "outputs": [
    {
     "name": "stdout",
     "output_type": "stream",
     "text": [
      "RMSE model1 번모델 : 30.642202861059452\n",
      "RMSE model2 번모델 : 49.367232621167126\n",
      "RMSE model3 번모델 : 45.706315525695054\n",
      "RMSE model4 번모델 : 37.1276356021913\n",
      "RMSE model5 번모델 : 51.62647393037229\n"
     ]
    }
   ],
   "source": [
    "from sklearn.metrics import mean_squared_error\n",
    "for i in pred_df.columns:\n",
    "    RMSE = mean_squared_error(test, pred_df[i])**0.5    \n",
    "    print(\"RMSE\",i,'번모델 :',RMSE)"
   ]
  },
  {
   "cell_type": "markdown",
   "metadata": {},
   "source": [
    "해볼것\n",
    "- 스태킹한 각 순환 층의 유닛 수를 조정합니다. 지금 설정은 대부분 임의로 한 것이라 최적화가 덜 되었을 것입니다.\n",
    "- RMSprop 옵티마이저가 사용한 학습률을 조정합니다.\n",
    "- GRU 대신 LSTM 층을 사용합니다.\n",
    "- 순환 층 위에 용량이 큰 완전 연결된 회귀 층을 사용합니다. 즉 유닛 수가 많은 Dense 층이나 Dense 층을 스태킹합니다.\n",
    "- 최종적으로 (검증 MAE 기준으로 봤을 때) 최선의 모델을 테스트 세트에서 확인해야 합니다. 이를 잊으면 검증 세트에 과대적합된 네트워크 구조를 만들게 될 것입니다."
   ]
  },
  {
   "cell_type": "code",
   "execution_count": null,
   "metadata": {},
   "outputs": [],
   "source": []
  }
 ],
 "metadata": {
  "kernelspec": {
   "display_name": "Python 3",
   "language": "python",
   "name": "python3"
  },
  "language_info": {
   "codemirror_mode": {
    "name": "ipython",
    "version": 3
   },
   "file_extension": ".py",
   "mimetype": "text/x-python",
   "name": "python",
   "nbconvert_exporter": "python",
   "pygments_lexer": "ipython3",
   "version": "3.7.4"
  }
 },
 "nbformat": 4,
 "nbformat_minor": 2
}
