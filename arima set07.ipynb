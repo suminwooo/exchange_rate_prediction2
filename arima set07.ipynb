{
 "cells": [
  {
   "cell_type": "code",
   "execution_count": 1,
   "metadata": {},
   "outputs": [],
   "source": [
    "import pandas as pd\n",
    "import matplotlib.pyplot as plt\n",
    "\n",
    "from statsmodels.tsa.arima_model import ARIMA\n",
    "from sklearn.metrics import mean_squared_error"
   ]
  },
  {
   "cell_type": "code",
   "execution_count": 2,
   "metadata": {},
   "outputs": [],
   "source": [
    "data = pd.read_csv('exchange_data/set07.csv', header=0, squeeze=True)"
   ]
  },
  {
   "cell_type": "code",
   "execution_count": 3,
   "metadata": {},
   "outputs": [],
   "source": [
    "data = data.set_index('Date')"
   ]
  },
  {
   "cell_type": "code",
   "execution_count": 4,
   "metadata": {},
   "outputs": [],
   "source": [
    "#2018년 2월~2019년1월 train set/ 2019년 2월 test set\n",
    "df_train=data.loc['2018-08-01': '2019-07-31' ]\n",
    "df_test=data.loc['2019-08-01':]"
   ]
  },
  {
   "cell_type": "markdown",
   "metadata": {},
   "source": [
    "### 모형구축"
   ]
  },
  {
   "cell_type": "code",
   "execution_count": 5,
   "metadata": {},
   "outputs": [
    {
     "name": "stderr",
     "output_type": "stream",
     "text": [
      "C:\\Users\\sm.woo\\Anaconda3\\lib\\site-packages\\statsmodels\\tsa\\base\\tsa_model.py:219: ValueWarning: A date index has been provided, but it has no associated frequency information and so will be ignored when e.g. forecasting.\n",
      "  ' ignored when e.g. forecasting.', ValueWarning)\n",
      "C:\\Users\\sm.woo\\Anaconda3\\lib\\site-packages\\statsmodels\\tsa\\base\\tsa_model.py:219: ValueWarning: A date index has been provided, but it has no associated frequency information and so will be ignored when e.g. forecasting.\n",
      "  ' ignored when e.g. forecasting.', ValueWarning)\n"
     ]
    },
    {
     "name": "stdout",
     "output_type": "stream",
     "text": [
      "                             ARIMA Model Results                              \n",
      "==============================================================================\n",
      "Dep. Variable:                 D.Rate   No. Observations:                  245\n",
      "Model:                 ARIMA(1, 1, 1)   Log Likelihood                -682.126\n",
      "Method:                       css-mle   S.D. of innovations              3.916\n",
      "Date:                Fri, 07 Feb 2020   AIC                           1370.251\n",
      "Time:                        15:53:42   BIC                           1380.755\n",
      "Sample:                             1   HQIC                          1374.481\n",
      "                                                                              \n",
      "================================================================================\n",
      "                   coef    std err          z      P>|z|      [0.025      0.975]\n",
      "--------------------------------------------------------------------------------\n",
      "ar.L1.D.Rate    -0.3398      0.326     -1.043      0.298      -0.979       0.299\n",
      "ma.L1.D.Rate     0.4734      0.304      1.557      0.121      -0.122       1.069\n",
      "                                    Roots                                    \n",
      "=============================================================================\n",
      "                  Real          Imaginary           Modulus         Frequency\n",
      "-----------------------------------------------------------------------------\n",
      "AR.1           -2.9425           +0.0000j            2.9425            0.5000\n",
      "MA.1           -2.1125           +0.0000j            2.1125            0.5000\n",
      "-----------------------------------------------------------------------------\n"
     ]
    }
   ],
   "source": [
    "model_1 = ARIMA(df_train, order=(1,1,1))\n",
    "model_1_fit = model_1.fit(trend='nc',full_output=True, disp=1)\n",
    "print(model_1_fit.summary())"
   ]
  },
  {
   "cell_type": "code",
   "execution_count": 6,
   "metadata": {},
   "outputs": [
    {
     "name": "stderr",
     "output_type": "stream",
     "text": [
      "C:\\Users\\sm.woo\\Anaconda3\\lib\\site-packages\\statsmodels\\tsa\\base\\tsa_model.py:219: ValueWarning: A date index has been provided, but it has no associated frequency information and so will be ignored when e.g. forecasting.\n",
      "  ' ignored when e.g. forecasting.', ValueWarning)\n",
      "C:\\Users\\sm.woo\\Anaconda3\\lib\\site-packages\\statsmodels\\tsa\\base\\tsa_model.py:219: ValueWarning: A date index has been provided, but it has no associated frequency information and so will be ignored when e.g. forecasting.\n",
      "  ' ignored when e.g. forecasting.', ValueWarning)\n"
     ]
    },
    {
     "name": "stdout",
     "output_type": "stream",
     "text": [
      "                             ARIMA Model Results                              \n",
      "==============================================================================\n",
      "Dep. Variable:                 D.Rate   No. Observations:                  245\n",
      "Model:                 ARIMA(1, 1, 1)   Log Likelihood                -681.669\n",
      "Method:                       css-mle   S.D. of innovations              3.909\n",
      "Date:                Fri, 07 Feb 2020   AIC                           1371.339\n",
      "Time:                        15:53:42   BIC                           1385.344\n",
      "Sample:                             1   HQIC                          1376.978\n",
      "                                                                              \n",
      "================================================================================\n",
      "                   coef    std err          z      P>|z|      [0.025      0.975]\n",
      "--------------------------------------------------------------------------------\n",
      "const            0.2622      0.274      0.958      0.339      -0.274       0.799\n",
      "ar.L1.D.Rate    -0.3528      0.316     -1.117      0.265      -0.972       0.266\n",
      "ma.L1.D.Rate     0.4834      0.294      1.645      0.101      -0.093       1.059\n",
      "                                    Roots                                    \n",
      "=============================================================================\n",
      "                  Real          Imaginary           Modulus         Frequency\n",
      "-----------------------------------------------------------------------------\n",
      "AR.1           -2.8348           +0.0000j            2.8348            0.5000\n",
      "MA.1           -2.0688           +0.0000j            2.0688            0.5000\n",
      "-----------------------------------------------------------------------------\n"
     ]
    }
   ],
   "source": [
    "model_2 = ARIMA(df_train, order=(1,1,1))\n",
    "model_2_fit = model_2.fit(trend='c',full_output=True, disp=1)\n",
    "print(model_2_fit.summary())"
   ]
  },
  {
   "cell_type": "code",
   "execution_count": 7,
   "metadata": {},
   "outputs": [
    {
     "name": "stderr",
     "output_type": "stream",
     "text": [
      "C:\\Users\\sm.woo\\Anaconda3\\lib\\site-packages\\statsmodels\\tsa\\base\\tsa_model.py:219: ValueWarning: A date index has been provided, but it has no associated frequency information and so will be ignored when e.g. forecasting.\n",
      "  ' ignored when e.g. forecasting.', ValueWarning)\n",
      "C:\\Users\\sm.woo\\Anaconda3\\lib\\site-packages\\statsmodels\\tsa\\base\\tsa_model.py:219: ValueWarning: A date index has been provided, but it has no associated frequency information and so will be ignored when e.g. forecasting.\n",
      "  ' ignored when e.g. forecasting.', ValueWarning)\n"
     ]
    },
    {
     "name": "stdout",
     "output_type": "stream",
     "text": [
      "                             ARIMA Model Results                              \n",
      "==============================================================================\n",
      "Dep. Variable:                 D.Rate   No. Observations:                  245\n",
      "Model:                 ARIMA(2, 1, 1)   Log Likelihood                -680.379\n",
      "Method:                       css-mle   S.D. of innovations              3.875\n",
      "Date:                Fri, 07 Feb 2020   AIC                           1370.757\n",
      "Time:                        15:53:49   BIC                           1388.264\n",
      "Sample:                             1   HQIC                          1377.807\n",
      "                                                                              \n",
      "================================================================================\n",
      "                   coef    std err          z      P>|z|      [0.025      0.975]\n",
      "--------------------------------------------------------------------------------\n",
      "const            0.2643      0.077      3.419      0.001       0.113       0.416\n",
      "ar.L1.D.Rate     1.1075      0.063     17.555      0.000       0.984       1.231\n",
      "ar.L2.D.Rate    -0.1421      0.063     -2.249      0.025      -0.266      -0.018\n",
      "ma.L1.D.Rate    -1.0000      0.013    -75.954      0.000      -1.026      -0.974\n",
      "                                    Roots                                    \n",
      "=============================================================================\n",
      "                  Real          Imaginary           Modulus         Frequency\n",
      "-----------------------------------------------------------------------------\n",
      "AR.1            1.0423           +0.0000j            1.0423            0.0000\n",
      "AR.2            6.7523           +0.0000j            6.7523            0.0000\n",
      "MA.1            1.0000           +0.0000j            1.0000            0.0000\n",
      "-----------------------------------------------------------------------------\n"
     ]
    }
   ],
   "source": [
    "model_3 = ARIMA(df_train, order=(2,1,1))\n",
    "model_3_fit = model_3.fit(trend='c',full_output=True, disp=1)\n",
    "print(model_3_fit.summary())"
   ]
  },
  {
   "cell_type": "code",
   "execution_count": 8,
   "metadata": {},
   "outputs": [
    {
     "name": "stderr",
     "output_type": "stream",
     "text": [
      "C:\\Users\\sm.woo\\Anaconda3\\lib\\site-packages\\statsmodels\\tsa\\base\\tsa_model.py:219: ValueWarning: A date index has been provided, but it has no associated frequency information and so will be ignored when e.g. forecasting.\n",
      "  ' ignored when e.g. forecasting.', ValueWarning)\n",
      "C:\\Users\\sm.woo\\Anaconda3\\lib\\site-packages\\statsmodels\\tsa\\base\\tsa_model.py:219: ValueWarning: A date index has been provided, but it has no associated frequency information and so will be ignored when e.g. forecasting.\n",
      "  ' ignored when e.g. forecasting.', ValueWarning)\n"
     ]
    },
    {
     "name": "stdout",
     "output_type": "stream",
     "text": [
      "                             ARIMA Model Results                              \n",
      "==============================================================================\n",
      "Dep. Variable:                 D.Rate   No. Observations:                  245\n",
      "Model:                 ARIMA(2, 1, 1)   Log Likelihood                -681.822\n",
      "Method:                       css-mle   S.D. of innovations              3.911\n",
      "Date:                Fri, 07 Feb 2020   AIC                           1371.645\n",
      "Time:                        15:53:53   BIC                           1385.650\n",
      "Sample:                             1   HQIC                          1377.285\n",
      "                                                                              \n",
      "================================================================================\n",
      "                   coef    std err          z      P>|z|      [0.025      0.975]\n",
      "--------------------------------------------------------------------------------\n",
      "ar.L1.D.Rate     1.0185      0.182      5.589      0.000       0.661       1.376\n",
      "ar.L2.D.Rate    -0.1487      0.063     -2.358      0.019      -0.272      -0.025\n",
      "ma.L1.D.Rate    -0.8894      0.175     -5.074      0.000      -1.233      -0.546\n",
      "                                    Roots                                    \n",
      "=============================================================================\n",
      "                  Real          Imaginary           Modulus         Frequency\n",
      "-----------------------------------------------------------------------------\n",
      "AR.1            1.1878           +0.0000j            1.1878            0.0000\n",
      "AR.2            5.6615           +0.0000j            5.6615            0.0000\n",
      "MA.1            1.1244           +0.0000j            1.1244            0.0000\n",
      "-----------------------------------------------------------------------------\n"
     ]
    }
   ],
   "source": [
    "model_4 = ARIMA(df_train, order=(2,1,1))\n",
    "model_4_fit = model_4.fit(trend='nc',full_output=True, disp=1)\n",
    "print(model_4_fit.summary())"
   ]
  },
  {
   "cell_type": "code",
   "execution_count": 9,
   "metadata": {},
   "outputs": [
    {
     "name": "stderr",
     "output_type": "stream",
     "text": [
      "C:\\Users\\sm.woo\\Anaconda3\\lib\\site-packages\\statsmodels\\tsa\\base\\tsa_model.py:219: ValueWarning: A date index has been provided, but it has no associated frequency information and so will be ignored when e.g. forecasting.\n",
      "  ' ignored when e.g. forecasting.', ValueWarning)\n",
      "C:\\Users\\sm.woo\\Anaconda3\\lib\\site-packages\\statsmodels\\tsa\\base\\tsa_model.py:219: ValueWarning: A date index has been provided, but it has no associated frequency information and so will be ignored when e.g. forecasting.\n",
      "  ' ignored when e.g. forecasting.', ValueWarning)\n"
     ]
    },
    {
     "name": "stdout",
     "output_type": "stream",
     "text": [
      "                             ARIMA Model Results                              \n",
      "==============================================================================\n",
      "Dep. Variable:                 D.Rate   No. Observations:                  245\n",
      "Model:                 ARIMA(2, 1, 2)   Log Likelihood                -681.481\n",
      "Method:                       css-mle   S.D. of innovations              3.906\n",
      "Date:                Fri, 07 Feb 2020   AIC                           1372.962\n",
      "Time:                        15:53:55   BIC                           1390.468\n",
      "Sample:                             1   HQIC                          1380.011\n",
      "                                                                              \n",
      "================================================================================\n",
      "                   coef    std err          z      P>|z|      [0.025      0.975]\n",
      "--------------------------------------------------------------------------------\n",
      "ar.L1.D.Rate     1.6022      0.380      4.214      0.000       0.857       2.347\n",
      "ar.L2.D.Rate    -0.7480      0.340     -2.202      0.029      -1.414      -0.082\n",
      "ma.L1.D.Rate    -1.5172      0.447     -3.395      0.001      -2.393      -0.641\n",
      "ma.L2.D.Rate     0.6451      0.406      1.588      0.114      -0.151       1.441\n",
      "                                    Roots                                    \n",
      "=============================================================================\n",
      "                  Real          Imaginary           Modulus         Frequency\n",
      "-----------------------------------------------------------------------------\n",
      "AR.1            1.0710           -0.4357j            1.1563           -0.0615\n",
      "AR.2            1.0710           +0.4357j            1.1563            0.0615\n",
      "MA.1            1.1759           -0.4092j            1.2450           -0.0533\n",
      "MA.2            1.1759           +0.4092j            1.2450            0.0533\n",
      "-----------------------------------------------------------------------------\n"
     ]
    }
   ],
   "source": [
    "model_5 = ARIMA(df_train, order=(2,1,2))\n",
    "model_5_fit = model_5.fit(trend='nc',full_output=True, disp=1)\n",
    "print(model_5_fit.summary())"
   ]
  },
  {
   "cell_type": "code",
   "execution_count": 10,
   "metadata": {},
   "outputs": [
    {
     "name": "stderr",
     "output_type": "stream",
     "text": [
      "C:\\Users\\sm.woo\\Anaconda3\\lib\\site-packages\\statsmodels\\tsa\\base\\tsa_model.py:219: ValueWarning: A date index has been provided, but it has no associated frequency information and so will be ignored when e.g. forecasting.\n",
      "  ' ignored when e.g. forecasting.', ValueWarning)\n",
      "C:\\Users\\sm.woo\\Anaconda3\\lib\\site-packages\\statsmodels\\tsa\\base\\tsa_model.py:219: ValueWarning: A date index has been provided, but it has no associated frequency information and so will be ignored when e.g. forecasting.\n",
      "  ' ignored when e.g. forecasting.', ValueWarning)\n"
     ]
    },
    {
     "name": "stdout",
     "output_type": "stream",
     "text": [
      "                             ARIMA Model Results                              \n",
      "==============================================================================\n",
      "Dep. Variable:                 D.Rate   No. Observations:                  245\n",
      "Model:                 ARIMA(2, 1, 2)   Log Likelihood                -680.179\n",
      "Method:                       css-mle   S.D. of innovations              3.872\n",
      "Date:                Fri, 07 Feb 2020   AIC                           1372.358\n",
      "Time:                        15:54:00   BIC                           1393.366\n",
      "Sample:                             1   HQIC                          1380.818\n",
      "                                                                              \n",
      "================================================================================\n",
      "                   coef    std err          z      P>|z|      [0.025      0.975]\n",
      "--------------------------------------------------------------------------------\n",
      "const            0.2645      0.080      3.303      0.001       0.108       0.421\n",
      "ar.L1.D.Rate     0.6719      0.378      1.778      0.077      -0.069       1.413\n",
      "ar.L2.D.Rate     0.2816      0.369      0.763      0.446      -0.442       1.005\n",
      "ma.L1.D.Rate    -0.5632      0.357     -1.577      0.116      -1.263       0.137\n",
      "ma.L2.D.Rate    -0.4368      0.357     -1.224      0.222      -1.136       0.263\n",
      "                                    Roots                                    \n",
      "=============================================================================\n",
      "                  Real          Imaginary           Modulus         Frequency\n",
      "-----------------------------------------------------------------------------\n",
      "AR.1            1.0374           +0.0000j            1.0374            0.0000\n",
      "AR.2           -3.4236           +0.0000j            3.4236            0.5000\n",
      "MA.1            1.0000           +0.0000j            1.0000            0.0000\n",
      "MA.2           -2.2895           +0.0000j            2.2895            0.5000\n",
      "-----------------------------------------------------------------------------\n"
     ]
    }
   ],
   "source": [
    "model_6 = ARIMA(df_train, order=(2,1,2))\n",
    "model_6_fit = model_6.fit(trend='c',full_output=True, disp=1)\n",
    "print(model_6_fit.summary())"
   ]
  },
  {
   "cell_type": "code",
   "execution_count": 11,
   "metadata": {},
   "outputs": [
    {
     "name": "stderr",
     "output_type": "stream",
     "text": [
      "C:\\Users\\sm.woo\\Anaconda3\\lib\\site-packages\\statsmodels\\tsa\\base\\tsa_model.py:219: ValueWarning: A date index has been provided, but it has no associated frequency information and so will be ignored when e.g. forecasting.\n",
      "  ' ignored when e.g. forecasting.', ValueWarning)\n",
      "C:\\Users\\sm.woo\\Anaconda3\\lib\\site-packages\\statsmodels\\tsa\\base\\tsa_model.py:219: ValueWarning: A date index has been provided, but it has no associated frequency information and so will be ignored when e.g. forecasting.\n",
      "  ' ignored when e.g. forecasting.', ValueWarning)\n"
     ]
    },
    {
     "name": "stdout",
     "output_type": "stream",
     "text": [
      "                             ARIMA Model Results                              \n",
      "==============================================================================\n",
      "Dep. Variable:                 D.Rate   No. Observations:                  245\n",
      "Model:                 ARIMA(4, 1, 3)   Log Likelihood                -680.387\n",
      "Method:                       css-mle   S.D. of innovations              3.888\n",
      "Date:                Fri, 07 Feb 2020   AIC                           1376.775\n",
      "Time:                        15:54:03   BIC                           1404.785\n",
      "Sample:                             1   HQIC                          1388.054\n",
      "                                                                              \n",
      "================================================================================\n",
      "                   coef    std err          z      P>|z|      [0.025      0.975]\n",
      "--------------------------------------------------------------------------------\n",
      "ar.L1.D.Rate     0.1692      0.477      0.354      0.723      -0.766       1.105\n",
      "ar.L2.D.Rate     0.1353      0.408      0.332      0.740      -0.664       0.935\n",
      "ar.L3.D.Rate     0.4367      0.441      0.991      0.323      -0.427       1.300\n",
      "ar.L4.D.Rate    -0.1540      0.080     -1.913      0.057      -0.312       0.004\n",
      "ma.L1.D.Rate    -0.0325      0.481     -0.068      0.946      -0.975       0.909\n",
      "ma.L2.D.Rate    -0.1871      0.410     -0.456      0.649      -0.992       0.617\n",
      "ma.L3.D.Rate    -0.4201      0.452     -0.929      0.354      -1.307       0.467\n",
      "                                    Roots                                    \n",
      "=============================================================================\n",
      "                  Real          Imaginary           Modulus         Frequency\n",
      "-----------------------------------------------------------------------------\n",
      "AR.1           -0.7490           -1.0341j            1.2768           -0.3498\n",
      "AR.2           -0.7490           +1.0341j            1.2768            0.3498\n",
      "AR.3            1.3230           -0.0000j            1.3230           -0.0000\n",
      "AR.4            3.0104           -0.0000j            3.0104           -0.0000\n",
      "MA.1            1.1849           -0.0000j            1.1849           -0.0000\n",
      "MA.2           -0.8151           -1.1596j            1.4174           -0.3475\n",
      "MA.3           -0.8151           +1.1596j            1.4174            0.3475\n",
      "-----------------------------------------------------------------------------\n"
     ]
    }
   ],
   "source": [
    "model_9 = ARIMA(df_train, order=(4,1,3))\n",
    "model_9_fit = model_9.fit(trend='nc',full_output=True, disp=1)\n",
    "print(model_9_fit.summary())"
   ]
  },
  {
   "cell_type": "code",
   "execution_count": 12,
   "metadata": {},
   "outputs": [
    {
     "name": "stderr",
     "output_type": "stream",
     "text": [
      "C:\\Users\\sm.woo\\Anaconda3\\lib\\site-packages\\statsmodels\\tsa\\base\\tsa_model.py:219: ValueWarning: A date index has been provided, but it has no associated frequency information and so will be ignored when e.g. forecasting.\n",
      "  ' ignored when e.g. forecasting.', ValueWarning)\n",
      "C:\\Users\\sm.woo\\Anaconda3\\lib\\site-packages\\statsmodels\\tsa\\base\\tsa_model.py:219: ValueWarning: A date index has been provided, but it has no associated frequency information and so will be ignored when e.g. forecasting.\n",
      "  ' ignored when e.g. forecasting.', ValueWarning)\n"
     ]
    },
    {
     "name": "stdout",
     "output_type": "stream",
     "text": [
      "                             ARIMA Model Results                              \n",
      "==============================================================================\n",
      "Dep. Variable:                 D.Rate   No. Observations:                  245\n",
      "Model:                 ARIMA(4, 1, 3)   Log Likelihood                -679.084\n",
      "Method:                       css-mle   S.D. of innovations              3.854\n",
      "Date:                Fri, 07 Feb 2020   AIC                           1376.167\n",
      "Time:                        15:54:06   BIC                           1407.679\n",
      "Sample:                             1   HQIC                          1388.857\n",
      "                                                                              \n",
      "================================================================================\n",
      "                   coef    std err          z      P>|z|      [0.025      0.975]\n",
      "--------------------------------------------------------------------------------\n",
      "const            0.2653      0.076      3.477      0.001       0.116       0.415\n",
      "ar.L1.D.Rate     0.1196      1.123      0.107      0.915      -2.081       2.320\n",
      "ar.L2.D.Rate     0.3846      0.869      0.442      0.659      -1.319       2.088\n",
      "ar.L3.D.Rate     0.5373      0.296      1.815      0.071      -0.043       1.118\n",
      "ar.L4.D.Rate    -0.1311      0.109     -1.206      0.229      -0.344       0.082\n",
      "ma.L1.D.Rate    -0.0020      1.139     -0.002      0.999      -2.235       2.231\n",
      "ma.L2.D.Rate    -0.4486      0.817     -0.549      0.584      -2.051       1.153\n",
      "ma.L3.D.Rate    -0.5493      0.422     -1.303      0.194      -1.376       0.277\n",
      "                                    Roots                                    \n",
      "=============================================================================\n",
      "                  Real          Imaginary           Modulus         Frequency\n",
      "-----------------------------------------------------------------------------\n",
      "AR.1           -0.8185           -0.9419j            1.2478           -0.3639\n",
      "AR.2           -0.8185           +0.9419j            1.2478            0.3639\n",
      "AR.3            1.0441           -0.0000j            1.0441           -0.0000\n",
      "AR.4            4.6917           -0.0000j            4.6917           -0.0000\n",
      "MA.1            1.0000           -0.0000j            1.0000           -0.0000\n",
      "MA.2           -0.9084           -0.9976j            1.3492           -0.3675\n",
      "MA.3           -0.9084           +0.9976j            1.3492            0.3675\n",
      "-----------------------------------------------------------------------------\n"
     ]
    }
   ],
   "source": [
    "model_10 = ARIMA(df_train, order=(4,1,3))\n",
    "model_10_fit = model_10.fit(trend='c',full_output=True, disp=1)\n",
    "print(model_10_fit.summary())"
   ]
  },
  {
   "cell_type": "code",
   "execution_count": 13,
   "metadata": {
    "scrolled": false
   },
   "outputs": [
    {
     "name": "stderr",
     "output_type": "stream",
     "text": [
      "C:\\Users\\sm.woo\\Anaconda3\\lib\\site-packages\\statsmodels\\tsa\\base\\tsa_model.py:219: ValueWarning: A date index has been provided, but it has no associated frequency information and so will be ignored when e.g. forecasting.\n",
      "  ' ignored when e.g. forecasting.', ValueWarning)\n",
      "C:\\Users\\sm.woo\\Anaconda3\\lib\\site-packages\\statsmodels\\tsa\\base\\tsa_model.py:219: ValueWarning: A date index has been provided, but it has no associated frequency information and so will be ignored when e.g. forecasting.\n",
      "  ' ignored when e.g. forecasting.', ValueWarning)\n",
      "C:\\Users\\sm.woo\\Anaconda3\\lib\\site-packages\\statsmodels\\base\\model.py:492: HessianInversionWarning: Inverting hessian failed, no bse or cov_params available\n",
      "  'available', HessianInversionWarning)\n"
     ]
    },
    {
     "name": "stdout",
     "output_type": "stream",
     "text": [
      "                             ARIMA Model Results                              \n",
      "==============================================================================\n",
      "Dep. Variable:                 D.Rate   No. Observations:                  245\n",
      "Model:                 ARIMA(4, 1, 4)   Log Likelihood                -677.175\n",
      "Method:                       css-mle   S.D. of innovations              3.786\n",
      "Date:                Fri, 07 Feb 2020   AIC                           1372.350\n",
      "Time:                        15:54:15   BIC                           1403.862\n",
      "Sample:                             1   HQIC                          1385.040\n",
      "                                                                              \n",
      "================================================================================\n",
      "                   coef    std err          z      P>|z|      [0.025      0.975]\n",
      "--------------------------------------------------------------------------------\n",
      "ar.L1.D.Rate    -0.6543      0.048    -13.557      0.000      -0.749      -0.560\n",
      "ar.L2.D.Rate    -0.0434      0.059     -0.741      0.459      -0.158       0.071\n",
      "ar.L3.D.Rate    -0.7538      0.039    -19.365      0.000      -0.830      -0.678\n",
      "ar.L4.D.Rate    -0.8621      0.041    -21.131      0.000      -0.942      -0.782\n",
      "ma.L1.D.Rate     0.7919      0.032     24.983      0.000       0.730       0.854\n",
      "ma.L2.D.Rate     0.0475      0.039      1.229      0.220      -0.028       0.123\n",
      "ma.L3.D.Rate     0.7919      0.034     23.176      0.000       0.725       0.859\n",
      "ma.L4.D.Rate     1.0000      0.030     33.740      0.000       0.942       1.058\n",
      "                                    Roots                                    \n",
      "=============================================================================\n",
      "                  Real          Imaginary           Modulus         Frequency\n",
      "-----------------------------------------------------------------------------\n",
      "AR.1            0.5394           -0.8526j            1.0089           -0.1602\n",
      "AR.2            0.5394           +0.8526j            1.0089            0.1602\n",
      "AR.3           -0.9766           -0.4310j            1.0675           -0.4338\n",
      "AR.4           -0.9766           +0.4310j            1.0675            0.4338\n",
      "MA.1            0.5282           -0.8491j            1.0000           -0.1614\n",
      "MA.2            0.5282           +0.8491j            1.0000            0.1614\n",
      "MA.3           -0.9241           -0.3821j            1.0000           -0.4376\n",
      "MA.4           -0.9241           +0.3821j            1.0000            0.4376\n",
      "-----------------------------------------------------------------------------\n"
     ]
    }
   ],
   "source": [
    "model_11 = ARIMA(df_train, order=(4,1,4))\n",
    "model_11_fit = model_11.fit(trend='nc',full_output=True, disp=1)\n",
    "print(model_11_fit.summary())"
   ]
  },
  {
   "cell_type": "code",
   "execution_count": 14,
   "metadata": {
    "scrolled": false
   },
   "outputs": [
    {
     "name": "stderr",
     "output_type": "stream",
     "text": [
      "C:\\Users\\sm.woo\\Anaconda3\\lib\\site-packages\\statsmodels\\tsa\\base\\tsa_model.py:219: ValueWarning: A date index has been provided, but it has no associated frequency information and so will be ignored when e.g. forecasting.\n",
      "  ' ignored when e.g. forecasting.', ValueWarning)\n",
      "C:\\Users\\sm.woo\\Anaconda3\\lib\\site-packages\\statsmodels\\tsa\\base\\tsa_model.py:219: ValueWarning: A date index has been provided, but it has no associated frequency information and so will be ignored when e.g. forecasting.\n",
      "  ' ignored when e.g. forecasting.', ValueWarning)\n",
      "C:\\Users\\sm.woo\\Anaconda3\\lib\\site-packages\\statsmodels\\base\\model.py:492: HessianInversionWarning: Inverting hessian failed, no bse or cov_params available\n",
      "  'available', HessianInversionWarning)\n"
     ]
    },
    {
     "name": "stdout",
     "output_type": "stream",
     "text": [
      "                             ARIMA Model Results                              \n",
      "==============================================================================\n",
      "Dep. Variable:                 D.Rate   No. Observations:                  245\n",
      "Model:                 ARIMA(4, 1, 4)   Log Likelihood                -676.662\n",
      "Method:                       css-mle   S.D. of innovations              3.778\n",
      "Date:                Fri, 07 Feb 2020   AIC                           1373.325\n",
      "Time:                        15:54:27   BIC                           1408.337\n",
      "Sample:                             1   HQIC                          1387.424\n",
      "                                                                              \n",
      "================================================================================\n",
      "                   coef    std err          z      P>|z|      [0.025      0.975]\n",
      "--------------------------------------------------------------------------------\n",
      "const            0.2680      0.264      1.014      0.312      -0.250       0.786\n",
      "ar.L1.D.Rate    -0.6551      0.049    -13.450      0.000      -0.751      -0.560\n",
      "ar.L2.D.Rate    -0.0444      0.059     -0.748      0.455      -0.161       0.072\n",
      "ar.L3.D.Rate    -0.7543      0.039    -19.362      0.000      -0.831      -0.678\n",
      "ar.L4.D.Rate    -0.8626      0.041    -21.106      0.000      -0.943      -0.783\n",
      "ma.L1.D.Rate     0.7920      0.032     24.907      0.000       0.730       0.854\n",
      "ma.L2.D.Rate     0.0479      0.039      1.216      0.225      -0.029       0.125\n",
      "ma.L3.D.Rate     0.7920      0.034     23.242      0.000       0.725       0.859\n",
      "ma.L4.D.Rate     1.0000      0.029     34.136      0.000       0.943       1.057\n",
      "                                    Roots                                    \n",
      "=============================================================================\n",
      "                  Real          Imaginary           Modulus         Frequency\n",
      "-----------------------------------------------------------------------------\n",
      "AR.1            0.5391           -0.8528j            1.0089           -0.1603\n",
      "AR.2            0.5391           +0.8528j            1.0089            0.1603\n",
      "AR.3           -0.9763           -0.4310j            1.0672           -0.4338\n",
      "AR.4           -0.9763           +0.4310j            1.0672            0.4338\n",
      "MA.1            0.5281           -0.8492j            1.0000           -0.1615\n",
      "MA.2            0.5281           +0.8492j            1.0000            0.1615\n",
      "MA.3           -0.9241           -0.3821j            1.0000           -0.4376\n",
      "MA.4           -0.9241           +0.3821j            1.0000            0.4376\n",
      "-----------------------------------------------------------------------------\n"
     ]
    }
   ],
   "source": [
    "model_12 = ARIMA(df_train, order=(4,1,4))\n",
    "model_12_fit = model_12.fit(trend='c',full_output=True, disp=1)\n",
    "print(model_12_fit.summary())"
   ]
  },
  {
   "cell_type": "code",
   "execution_count": 15,
   "metadata": {},
   "outputs": [
    {
     "name": "stderr",
     "output_type": "stream",
     "text": [
      "C:\\Users\\sm.woo\\Anaconda3\\lib\\site-packages\\statsmodels\\tsa\\base\\tsa_model.py:219: ValueWarning: A date index has been provided, but it has no associated frequency information and so will be ignored when e.g. forecasting.\n",
      "  ' ignored when e.g. forecasting.', ValueWarning)\n",
      "C:\\Users\\sm.woo\\Anaconda3\\lib\\site-packages\\statsmodels\\tsa\\base\\tsa_model.py:219: ValueWarning: A date index has been provided, but it has no associated frequency information and so will be ignored when e.g. forecasting.\n",
      "  ' ignored when e.g. forecasting.', ValueWarning)\n",
      "C:\\Users\\sm.woo\\Anaconda3\\lib\\site-packages\\statsmodels\\base\\model.py:492: HessianInversionWarning: Inverting hessian failed, no bse or cov_params available\n",
      "  'available', HessianInversionWarning)\n"
     ]
    },
    {
     "name": "stdout",
     "output_type": "stream",
     "text": [
      "                             ARIMA Model Results                              \n",
      "==============================================================================\n",
      "Dep. Variable:                 D.Rate   No. Observations:                  245\n",
      "Model:                 ARIMA(5, 1, 4)   Log Likelihood                -674.916\n",
      "Method:                       css-mle   S.D. of innovations              3.754\n",
      "Date:                Fri, 07 Feb 2020   AIC                           1371.833\n",
      "Time:                        15:54:37   BIC                           1410.347\n",
      "Sample:                             1   HQIC                          1387.342\n",
      "                                                                              \n",
      "================================================================================\n",
      "                   coef    std err          z      P>|z|      [0.025      0.975]\n",
      "--------------------------------------------------------------------------------\n",
      "const            0.2673      0.076      3.516      0.001       0.118       0.416\n",
      "ar.L1.D.Rate    -0.6698      0.836     -0.802      0.424      -2.308       0.968\n",
      "ar.L2.D.Rate     0.8901      0.570      1.563      0.119      -0.226       2.007\n",
      "ar.L3.D.Rate     0.8220      0.708      1.161      0.247      -0.566       2.210\n",
      "ar.L4.D.Rate    -0.1237      0.663     -0.187      0.852      -1.422       1.175\n",
      "ar.L5.D.Rate    -0.0498      0.094     -0.531      0.596      -0.234       0.134\n",
      "ma.L1.D.Rate     0.8361      0.837      0.999      0.319      -0.804       2.476\n",
      "ma.L2.D.Rate    -0.8574      0.709     -1.209      0.228      -2.248       0.533\n",
      "ma.L3.D.Rate    -0.9901      0.709     -1.396      0.164      -2.381       0.400\n",
      "ma.L4.D.Rate     0.0115      0.836      0.014      0.989      -1.627       1.651\n",
      "                                    Roots                                    \n",
      "=============================================================================\n",
      "                  Real          Imaginary           Modulus         Frequency\n",
      "-----------------------------------------------------------------------------\n",
      "AR.1            1.0448           -0.0000j            1.0448           -0.0000\n",
      "AR.2           -0.9707           -0.4317j            1.0624           -0.4334\n",
      "AR.3           -0.9707           +0.4317j            1.0624            0.4334\n",
      "AR.4            3.4091           -0.0000j            3.4091           -0.0000\n",
      "AR.5           -4.9965           -0.0000j            4.9965           -0.5000\n",
      "MA.1            1.0000           -0.0000j            1.0000           -0.0000\n",
      "MA.2           -0.9239           -0.3828j            1.0000           -0.4375\n",
      "MA.3           -0.9239           +0.3828j            1.0000            0.4375\n",
      "MA.4           86.7112           -0.0000j           86.7112           -0.0000\n",
      "-----------------------------------------------------------------------------\n"
     ]
    }
   ],
   "source": [
    "model_13 = ARIMA(df_train, order=(5,1,4))\n",
    "model_13_fit = model_13.fit(trend='c',full_output=True, disp=1)\n",
    "print(model_13_fit.summary())"
   ]
  },
  {
   "cell_type": "code",
   "execution_count": 16,
   "metadata": {},
   "outputs": [
    {
     "name": "stderr",
     "output_type": "stream",
     "text": [
      "C:\\Users\\sm.woo\\Anaconda3\\lib\\site-packages\\statsmodels\\tsa\\base\\tsa_model.py:219: ValueWarning: A date index has been provided, but it has no associated frequency information and so will be ignored when e.g. forecasting.\n",
      "  ' ignored when e.g. forecasting.', ValueWarning)\n",
      "C:\\Users\\sm.woo\\Anaconda3\\lib\\site-packages\\statsmodels\\tsa\\base\\tsa_model.py:219: ValueWarning: A date index has been provided, but it has no associated frequency information and so will be ignored when e.g. forecasting.\n",
      "  ' ignored when e.g. forecasting.', ValueWarning)\n",
      "C:\\Users\\sm.woo\\Anaconda3\\lib\\site-packages\\statsmodels\\base\\model.py:492: HessianInversionWarning: Inverting hessian failed, no bse or cov_params available\n",
      "  'available', HessianInversionWarning)\n"
     ]
    },
    {
     "name": "stdout",
     "output_type": "stream",
     "text": [
      "                             ARIMA Model Results                              \n",
      "==============================================================================\n",
      "Dep. Variable:                 D.Rate   No. Observations:                  245\n",
      "Model:                 ARIMA(5, 1, 4)   Log Likelihood                -672.406\n",
      "Method:                       css-mle   S.D. of innovations              3.698\n",
      "Date:                Fri, 07 Feb 2020   AIC                           1364.812\n",
      "Time:                        15:54:47   BIC                           1399.824\n",
      "Sample:                             1   HQIC                          1378.911\n",
      "                                                                              \n",
      "================================================================================\n",
      "                   coef    std err          z      P>|z|      [0.025      0.975]\n",
      "--------------------------------------------------------------------------------\n",
      "ar.L1.D.Rate     0.2265      0.065      3.507      0.001       0.100       0.353\n",
      "ar.L2.D.Rate     1.3961      0.041     34.241      0.000       1.316       1.476\n",
      "ar.L3.D.Rate    -0.0839      0.097     -0.866      0.388      -0.274       0.106\n",
      "ar.L4.D.Rate    -0.8635      0.042    -20.435      0.000      -0.946      -0.781\n",
      "ar.L5.D.Rate     0.0652      0.068      0.965      0.336      -0.067       0.198\n",
      "ma.L1.D.Rate    -0.0894      0.027     -3.276      0.001      -0.143      -0.036\n",
      "ma.L2.D.Rate    -1.5782      0.027    -57.423      0.000      -1.632      -1.524\n",
      "ma.L3.D.Rate    -0.0896      0.028     -3.246      0.001      -0.144      -0.036\n",
      "ma.L4.D.Rate     0.9999      0.027     36.652      0.000       0.946       1.053\n",
      "                                    Roots                                    \n",
      "=============================================================================\n",
      "                  Real          Imaginary           Modulus         Frequency\n",
      "-----------------------------------------------------------------------------\n",
      "AR.1           -0.9667           -0.4254j            1.0562           -0.4340\n",
      "AR.2           -0.9667           +0.4254j            1.0562            0.4340\n",
      "AR.3            0.9798           -0.2830j            1.0199           -0.0447\n",
      "AR.4            0.9798           +0.2830j            1.0199            0.0447\n",
      "AR.5           13.2184           -0.0000j           13.2184           -0.0000\n",
      "MA.1           -0.9237           -0.3831j            1.0000           -0.4374\n",
      "MA.2           -0.9237           +0.3831j            1.0000            0.4374\n",
      "MA.3            0.9685           -0.2491j            1.0001           -0.0401\n",
      "MA.4            0.9685           +0.2491j            1.0001            0.0401\n",
      "-----------------------------------------------------------------------------\n"
     ]
    }
   ],
   "source": [
    "model_14 = ARIMA(df_train, order=(5,1,4))\n",
    "model_14_fit = model_14.fit(trend='nc',full_output=True, disp=1)\n",
    "print(model_14_fit.summary())"
   ]
  },
  {
   "cell_type": "code",
   "execution_count": 17,
   "metadata": {},
   "outputs": [
    {
     "name": "stderr",
     "output_type": "stream",
     "text": [
      "C:\\Users\\sm.woo\\Anaconda3\\lib\\site-packages\\statsmodels\\tsa\\base\\tsa_model.py:219: ValueWarning: A date index has been provided, but it has no associated frequency information and so will be ignored when e.g. forecasting.\n",
      "  ' ignored when e.g. forecasting.', ValueWarning)\n",
      "C:\\Users\\sm.woo\\Anaconda3\\lib\\site-packages\\statsmodels\\tsa\\base\\tsa_model.py:219: ValueWarning: A date index has been provided, but it has no associated frequency information and so will be ignored when e.g. forecasting.\n",
      "  ' ignored when e.g. forecasting.', ValueWarning)\n"
     ]
    },
    {
     "name": "stdout",
     "output_type": "stream",
     "text": [
      "                             ARIMA Model Results                              \n",
      "==============================================================================\n",
      "Dep. Variable:                 D.Rate   No. Observations:                  245\n",
      "Model:                 ARIMA(5, 1, 3)   Log Likelihood                -677.025\n",
      "Method:                       css-mle   S.D. of innovations              3.832\n",
      "Date:                Fri, 07 Feb 2020   AIC                           1372.051\n",
      "Time:                        15:54:51   BIC                           1403.562\n",
      "Sample:                             1   HQIC                          1384.741\n",
      "                                                                              \n",
      "================================================================================\n",
      "                   coef    std err          z      P>|z|      [0.025      0.975]\n",
      "--------------------------------------------------------------------------------\n",
      "ar.L1.D.Rate    -0.7768      0.196     -3.960      0.000      -1.161      -0.392\n",
      "ar.L2.D.Rate     0.6286      0.299      2.101      0.037       0.042       1.215\n",
      "ar.L3.D.Rate     0.5982      0.166      3.606      0.000       0.273       0.923\n",
      "ar.L4.D.Rate    -0.1234      0.083     -1.485      0.139      -0.286       0.039\n",
      "ar.L5.D.Rate    -0.1150      0.069     -1.676      0.095      -0.250       0.019\n",
      "ma.L1.D.Rate     0.9386      0.190      4.939      0.000       0.566       1.311\n",
      "ma.L2.D.Rate    -0.5442      0.323     -1.685      0.093      -1.177       0.089\n",
      "ma.L3.D.Rate    -0.6917      0.175     -3.956      0.000      -1.034      -0.349\n",
      "                                    Roots                                    \n",
      "=============================================================================\n",
      "                  Real          Imaginary           Modulus         Frequency\n",
      "-----------------------------------------------------------------------------\n",
      "AR.1            1.6356           -0.2435j            1.6536           -0.0235\n",
      "AR.2            1.6356           +0.2435j            1.6536            0.0235\n",
      "AR.3           -1.1679           -0.4685j            1.2584           -0.4393\n",
      "AR.4           -1.1679           +0.4685j            1.2584            0.4393\n",
      "AR.5           -2.0078           -0.0000j            2.0078           -0.5000\n",
      "MA.1            1.2423           -0.0000j            1.2423           -0.0000\n",
      "MA.2           -1.0146           -0.3667j            1.0788           -0.4448\n",
      "MA.3           -1.0146           +0.3667j            1.0788            0.4448\n",
      "-----------------------------------------------------------------------------\n"
     ]
    }
   ],
   "source": [
    "model_15 = ARIMA(df_train, order=(5,1,3))\n",
    "model_15_fit = model_15.fit(trend='nc',full_output=True, disp=1)\n",
    "print(model_15_fit.summary())"
   ]
  },
  {
   "cell_type": "code",
   "execution_count": 18,
   "metadata": {},
   "outputs": [
    {
     "name": "stderr",
     "output_type": "stream",
     "text": [
      "C:\\Users\\sm.woo\\Anaconda3\\lib\\site-packages\\statsmodels\\tsa\\base\\tsa_model.py:219: ValueWarning: A date index has been provided, but it has no associated frequency information and so will be ignored when e.g. forecasting.\n",
      "  ' ignored when e.g. forecasting.', ValueWarning)\n",
      "C:\\Users\\sm.woo\\Anaconda3\\lib\\site-packages\\statsmodels\\tsa\\base\\tsa_model.py:219: ValueWarning: A date index has been provided, but it has no associated frequency information and so will be ignored when e.g. forecasting.\n",
      "  ' ignored when e.g. forecasting.', ValueWarning)\n",
      "C:\\Users\\sm.woo\\Anaconda3\\lib\\site-packages\\statsmodels\\base\\model.py:492: HessianInversionWarning: Inverting hessian failed, no bse or cov_params available\n",
      "  'available', HessianInversionWarning)\n"
     ]
    },
    {
     "name": "stdout",
     "output_type": "stream",
     "text": [
      "                             ARIMA Model Results                              \n",
      "==============================================================================\n",
      "Dep. Variable:                 D.Rate   No. Observations:                  245\n",
      "Model:                 ARIMA(5, 1, 3)   Log Likelihood                -675.939\n",
      "Method:                       css-mle   S.D. of innovations              3.801\n",
      "Date:                Fri, 07 Feb 2020   AIC                           1371.877\n",
      "Time:                        15:54:56   BIC                           1406.890\n",
      "Sample:                             1   HQIC                          1385.977\n",
      "                                                                              \n",
      "================================================================================\n",
      "                   coef    std err          z      P>|z|      [0.025      0.975]\n",
      "--------------------------------------------------------------------------------\n",
      "const            0.2656      0.075      3.534      0.000       0.118       0.413\n",
      "ar.L1.D.Rate    -0.6143      0.095     -6.443      0.000      -0.801      -0.427\n",
      "ar.L2.D.Rate     0.9080      0.088     10.313      0.000       0.735       1.081\n",
      "ar.L3.D.Rate     0.7426      0.101      7.383      0.000       0.545       0.940\n",
      "ar.L4.D.Rate    -0.0824      0.077     -1.072      0.285      -0.233       0.068\n",
      "ar.L5.D.Rate    -0.0831      0.068     -1.215      0.226      -0.217       0.051\n",
      "ma.L1.D.Rate     0.7560      0.075     10.016      0.000       0.608       0.904\n",
      "ma.L2.D.Rate    -0.8872      0.049    -18.169      0.000      -0.983      -0.791\n",
      "ma.L3.D.Rate    -0.8688      0.069    -12.605      0.000      -1.004      -0.734\n",
      "                                    Roots                                    \n",
      "=============================================================================\n",
      "                  Real          Imaginary           Modulus         Frequency\n",
      "-----------------------------------------------------------------------------\n",
      "AR.1            1.0467           -0.0000j            1.0467           -0.0000\n",
      "AR.2           -1.1451           -0.4226j            1.2206           -0.4437\n",
      "AR.3           -1.1451           +0.4226j            1.2206            0.4437\n",
      "AR.4            2.9071           -0.0000j            2.9071           -0.0000\n",
      "AR.5           -2.6560           -0.0000j            2.6560           -0.5000\n",
      "MA.1            1.0000           -0.0000j            1.0000           -0.0000\n",
      "MA.2           -1.0106           -0.3602j            1.0729           -0.4455\n",
      "MA.3           -1.0106           +0.3602j            1.0729            0.4455\n",
      "-----------------------------------------------------------------------------\n"
     ]
    }
   ],
   "source": [
    "model_16 = ARIMA(df_train, order=(5,1,3))\n",
    "model_16_fit = model_16.fit(trend='c',full_output=True, disp=1)\n",
    "print(model_16_fit.summary())"
   ]
  },
  {
   "cell_type": "code",
   "execution_count": 19,
   "metadata": {},
   "outputs": [
    {
     "name": "stderr",
     "output_type": "stream",
     "text": [
      "C:\\Users\\sm.woo\\Anaconda3\\lib\\site-packages\\statsmodels\\tsa\\base\\tsa_model.py:219: ValueWarning: A date index has been provided, but it has no associated frequency information and so will be ignored when e.g. forecasting.\n",
      "  ' ignored when e.g. forecasting.', ValueWarning)\n",
      "C:\\Users\\sm.woo\\Anaconda3\\lib\\site-packages\\statsmodels\\tsa\\base\\tsa_model.py:219: ValueWarning: A date index has been provided, but it has no associated frequency information and so will be ignored when e.g. forecasting.\n",
      "  ' ignored when e.g. forecasting.', ValueWarning)\n"
     ]
    },
    {
     "name": "stdout",
     "output_type": "stream",
     "text": [
      "                             ARIMA Model Results                              \n",
      "==============================================================================\n",
      "Dep. Variable:                 D.Rate   No. Observations:                  245\n",
      "Model:                 ARIMA(5, 1, 2)   Log Likelihood                -679.455\n",
      "Method:                       css-mle   S.D. of innovations              3.873\n",
      "Date:                Fri, 07 Feb 2020   AIC                           1376.909\n",
      "Time:                        15:55:01   BIC                           1408.420\n",
      "Sample:                             1   HQIC                          1389.599\n",
      "                                                                              \n",
      "================================================================================\n",
      "                   coef    std err          z      P>|z|      [0.025      0.975]\n",
      "--------------------------------------------------------------------------------\n",
      "const            0.2548      0.211      1.210      0.228      -0.158       0.668\n",
      "ar.L1.D.Rate     0.0001      0.263      0.000      1.000      -0.515       0.515\n",
      "ar.L2.D.Rate     0.5682      0.215      2.646      0.009       0.147       0.989\n",
      "ar.L3.D.Rate    -0.0374      0.078     -0.481      0.631      -0.189       0.115\n",
      "ar.L4.D.Rate    -0.0230      0.067     -0.343      0.732      -0.155       0.109\n",
      "ar.L5.D.Rate    -0.1281      0.067     -1.908      0.058      -0.260       0.004\n",
      "ma.L1.D.Rate     0.1227      0.261      0.470      0.639      -0.389       0.634\n",
      "ma.L2.D.Rate    -0.5983      0.228     -2.629      0.009      -1.044      -0.152\n",
      "                                    Roots                                    \n",
      "=============================================================================\n",
      "                  Real          Imaginary           Modulus         Frequency\n",
      "-----------------------------------------------------------------------------\n",
      "AR.1           -1.1394           -0.0000j            1.1394           -0.5000\n",
      "AR.2            1.2799           -0.5379j            1.3884           -0.0633\n",
      "AR.3            1.2799           +0.5379j            1.3884            0.0633\n",
      "AR.4           -0.8001           -1.7070j            1.8852           -0.3198\n",
      "AR.5           -0.8001           +1.7070j            1.8852            0.3198\n",
      "MA.1           -1.1944           +0.0000j            1.1944            0.5000\n",
      "MA.2            1.3995           +0.0000j            1.3995            0.0000\n",
      "-----------------------------------------------------------------------------\n"
     ]
    }
   ],
   "source": [
    "model_17 = ARIMA(df_train, order=(5,1,2))\n",
    "model_17_fit = model_17.fit(trend='c',full_output=True, disp=1)\n",
    "print(model_17_fit.summary())"
   ]
  },
  {
   "cell_type": "code",
   "execution_count": 20,
   "metadata": {},
   "outputs": [
    {
     "name": "stderr",
     "output_type": "stream",
     "text": [
      "C:\\Users\\sm.woo\\Anaconda3\\lib\\site-packages\\statsmodels\\tsa\\base\\tsa_model.py:219: ValueWarning: A date index has been provided, but it has no associated frequency information and so will be ignored when e.g. forecasting.\n",
      "  ' ignored when e.g. forecasting.', ValueWarning)\n",
      "C:\\Users\\sm.woo\\Anaconda3\\lib\\site-packages\\statsmodels\\tsa\\base\\tsa_model.py:219: ValueWarning: A date index has been provided, but it has no associated frequency information and so will be ignored when e.g. forecasting.\n",
      "  ' ignored when e.g. forecasting.', ValueWarning)\n"
     ]
    },
    {
     "name": "stdout",
     "output_type": "stream",
     "text": [
      "                             ARIMA Model Results                              \n",
      "==============================================================================\n",
      "Dep. Variable:                 D.Rate   No. Observations:                  245\n",
      "Model:                 ARIMA(5, 1, 2)   Log Likelihood                -680.146\n",
      "Method:                       css-mle   S.D. of innovations              3.884\n",
      "Date:                Fri, 07 Feb 2020   AIC                           1376.292\n",
      "Time:                        15:55:07   BIC                           1404.302\n",
      "Sample:                             1   HQIC                          1387.572\n",
      "                                                                              \n",
      "================================================================================\n",
      "                   coef    std err          z      P>|z|      [0.025      0.975]\n",
      "--------------------------------------------------------------------------------\n",
      "ar.L1.D.Rate    -0.0416      0.309     -0.135      0.893      -0.648       0.565\n",
      "ar.L2.D.Rate     0.5385      0.244      2.204      0.028       0.060       1.017\n",
      "ar.L3.D.Rate    -0.0323      0.078     -0.412      0.681      -0.186       0.121\n",
      "ar.L4.D.Rate    -0.0225      0.067     -0.337      0.736      -0.153       0.108\n",
      "ar.L5.D.Rate    -0.1273      0.066     -1.920      0.056      -0.257       0.003\n",
      "ma.L1.D.Rate     0.1706      0.309      0.552      0.582      -0.436       0.777\n",
      "ma.L2.D.Rate    -0.5566      0.269     -2.069      0.040      -1.084      -0.029\n",
      "                                    Roots                                    \n",
      "=============================================================================\n",
      "                  Real          Imaginary           Modulus         Frequency\n",
      "-----------------------------------------------------------------------------\n",
      "AR.1           -1.1390           -0.0000j            1.1390           -0.5000\n",
      "AR.2            1.2829           -0.5773j            1.4068           -0.0673\n",
      "AR.3            1.2829           +0.5773j            1.4068            0.0673\n",
      "AR.4           -0.8017           -1.6859j            1.8668           -0.3206\n",
      "AR.5           -0.8017           +1.6859j            1.8668            0.3206\n",
      "MA.1           -1.1958           +0.0000j            1.1958            0.5000\n",
      "MA.2            1.5023           +0.0000j            1.5023            0.0000\n",
      "-----------------------------------------------------------------------------\n"
     ]
    }
   ],
   "source": [
    "model_18 = ARIMA(df_train, order=(5,1,2))\n",
    "model_18_fit = model_18.fit(trend='nc',full_output=True, disp=1)\n",
    "print(model_18_fit.summary())"
   ]
  },
  {
   "cell_type": "code",
   "execution_count": 21,
   "metadata": {},
   "outputs": [
    {
     "name": "stderr",
     "output_type": "stream",
     "text": [
      "C:\\Users\\sm.woo\\Anaconda3\\lib\\site-packages\\statsmodels\\tsa\\base\\tsa_model.py:219: ValueWarning: A date index has been provided, but it has no associated frequency information and so will be ignored when e.g. forecasting.\n",
      "  ' ignored when e.g. forecasting.', ValueWarning)\n",
      "C:\\Users\\sm.woo\\Anaconda3\\lib\\site-packages\\statsmodels\\tsa\\base\\tsa_model.py:219: ValueWarning: A date index has been provided, but it has no associated frequency information and so will be ignored when e.g. forecasting.\n",
      "  ' ignored when e.g. forecasting.', ValueWarning)\n"
     ]
    },
    {
     "name": "stdout",
     "output_type": "stream",
     "text": [
      "                             ARIMA Model Results                              \n",
      "==============================================================================\n",
      "Dep. Variable:                 D.Rate   No. Observations:                  245\n",
      "Model:                 ARIMA(5, 1, 1)   Log Likelihood                -680.165\n",
      "Method:                       css-mle   S.D. of innovations              3.885\n",
      "Date:                Fri, 07 Feb 2020   AIC                           1374.331\n",
      "Time:                        15:55:12   BIC                           1398.839\n",
      "Sample:                             1   HQIC                          1384.200\n",
      "                                                                              \n",
      "================================================================================\n",
      "                   coef    std err          z      P>|z|      [0.025      0.975]\n",
      "--------------------------------------------------------------------------------\n",
      "ar.L1.D.Rate    -0.6611      0.136     -4.876      0.000      -0.927      -0.395\n",
      "ar.L2.D.Rate     0.0751      0.078      0.966      0.335      -0.077       0.227\n",
      "ar.L3.D.Rate     0.0217      0.077      0.283      0.778      -0.128       0.172\n",
      "ar.L4.D.Rate    -0.0365      0.076     -0.478      0.633      -0.186       0.113\n",
      "ar.L5.D.Rate    -0.1265      0.064     -1.978      0.049      -0.252      -0.001\n",
      "ma.L1.D.Rate     0.8018      0.122      6.551      0.000       0.562       1.042\n",
      "                                    Roots                                    \n",
      "=============================================================================\n",
      "                  Real          Imaginary           Modulus         Frequency\n",
      "-----------------------------------------------------------------------------\n",
      "AR.1           -1.1394           -0.0000j            1.1394           -0.5000\n",
      "AR.2           -0.8670           -1.3100j            1.5709           -0.3430\n",
      "AR.3           -0.8670           +1.3100j            1.5709            0.3430\n",
      "AR.4            1.2923           -1.0686j            1.6769           -0.1100\n",
      "AR.5            1.2923           +1.0686j            1.6769            0.1100\n",
      "MA.1           -1.2471           +0.0000j            1.2471            0.5000\n",
      "-----------------------------------------------------------------------------\n"
     ]
    }
   ],
   "source": [
    "model_19 = ARIMA(df_train, order=(5,1,1))\n",
    "model_19_fit = model_19.fit(trend='nc',full_output=True, disp=1)\n",
    "print(model_19_fit.summary())"
   ]
  },
  {
   "cell_type": "code",
   "execution_count": 22,
   "metadata": {},
   "outputs": [
    {
     "name": "stderr",
     "output_type": "stream",
     "text": [
      "C:\\Users\\sm.woo\\Anaconda3\\lib\\site-packages\\statsmodels\\tsa\\base\\tsa_model.py:219: ValueWarning: A date index has been provided, but it has no associated frequency information and so will be ignored when e.g. forecasting.\n",
      "  ' ignored when e.g. forecasting.', ValueWarning)\n",
      "C:\\Users\\sm.woo\\Anaconda3\\lib\\site-packages\\statsmodels\\tsa\\base\\tsa_model.py:219: ValueWarning: A date index has been provided, but it has no associated frequency information and so will be ignored when e.g. forecasting.\n",
      "  ' ignored when e.g. forecasting.', ValueWarning)\n"
     ]
    },
    {
     "name": "stdout",
     "output_type": "stream",
     "text": [
      "                             ARIMA Model Results                              \n",
      "==============================================================================\n",
      "Dep. Variable:                 D.Rate   No. Observations:                  245\n",
      "Model:                 ARIMA(5, 1, 1)   Log Likelihood                -679.662\n",
      "Method:                       css-mle   S.D. of innovations              3.877\n",
      "Date:                Fri, 07 Feb 2020   AIC                           1375.324\n",
      "Time:                        15:55:18   BIC                           1403.334\n",
      "Sample:                             1   HQIC                          1386.604\n",
      "                                                                              \n",
      "================================================================================\n",
      "                   coef    std err          z      P>|z|      [0.025      0.975]\n",
      "--------------------------------------------------------------------------------\n",
      "const            0.2579      0.255      1.010      0.313      -0.242       0.758\n",
      "ar.L1.D.Rate    -0.6636      0.136     -4.884      0.000      -0.930      -0.397\n",
      "ar.L2.D.Rate     0.0687      0.078      0.885      0.377      -0.083       0.221\n",
      "ar.L3.D.Rate     0.0164      0.077      0.214      0.831      -0.134       0.167\n",
      "ar.L4.D.Rate    -0.0418      0.076     -0.547      0.585      -0.192       0.108\n",
      "ar.L5.D.Rate    -0.1295      0.064     -2.028      0.044      -0.255      -0.004\n",
      "ma.L1.D.Rate     0.8006      0.123      6.518      0.000       0.560       1.041\n",
      "                                    Roots                                    \n",
      "=============================================================================\n",
      "                  Real          Imaginary           Modulus         Frequency\n",
      "-----------------------------------------------------------------------------\n",
      "AR.1           -1.1399           -0.0000j            1.1399           -0.5000\n",
      "AR.2           -0.8655           -1.3034j            1.5646           -0.3433\n",
      "AR.3           -0.8655           +1.3034j            1.5646            0.3433\n",
      "AR.4            1.2740           -1.0696j            1.6635           -0.1112\n",
      "AR.5            1.2740           +1.0696j            1.6635            0.1112\n",
      "MA.1           -1.2490           +0.0000j            1.2490            0.5000\n",
      "-----------------------------------------------------------------------------\n"
     ]
    }
   ],
   "source": [
    "model_20 = ARIMA(df_train, order=(5,1,1))\n",
    "model_20_fit = model_20.fit(trend='c',full_output=True, disp=1)\n",
    "print(model_20_fit.summary())"
   ]
  },
  {
   "cell_type": "code",
   "execution_count": 23,
   "metadata": {},
   "outputs": [
    {
     "name": "stderr",
     "output_type": "stream",
     "text": [
      "C:\\Users\\sm.woo\\Anaconda3\\lib\\site-packages\\statsmodels\\tsa\\base\\tsa_model.py:219: ValueWarning: A date index has been provided, but it has no associated frequency information and so will be ignored when e.g. forecasting.\n",
      "  ' ignored when e.g. forecasting.', ValueWarning)\n",
      "C:\\Users\\sm.woo\\Anaconda3\\lib\\site-packages\\statsmodels\\tsa\\base\\tsa_model.py:219: ValueWarning: A date index has been provided, but it has no associated frequency information and so will be ignored when e.g. forecasting.\n",
      "  ' ignored when e.g. forecasting.', ValueWarning)\n",
      "C:\\Users\\sm.woo\\Anaconda3\\lib\\site-packages\\statsmodels\\base\\model.py:512: ConvergenceWarning: Maximum Likelihood optimization failed to converge. Check mle_retvals\n",
      "  \"Check mle_retvals\", ConvergenceWarning)\n"
     ]
    },
    {
     "name": "stdout",
     "output_type": "stream",
     "text": [
      "                             ARIMA Model Results                              \n",
      "==============================================================================\n",
      "Dep. Variable:                 D.Rate   No. Observations:                  245\n",
      "Model:                 ARIMA(5, 1, 5)   Log Likelihood                -673.968\n",
      "Method:                       css-mle   S.D. of innovations              3.742\n",
      "Date:                Fri, 07 Feb 2020   AIC                           1371.936\n",
      "Time:                        15:55:36   BIC                           1413.951\n",
      "Sample:                             1   HQIC                          1388.855\n",
      "                                                                              \n",
      "================================================================================\n",
      "                   coef    std err          z      P>|z|      [0.025      0.975]\n",
      "--------------------------------------------------------------------------------\n",
      "const            0.2620      0.087      3.004      0.003       0.091       0.433\n",
      "ar.L1.D.Rate     0.9728      0.191      5.097      0.000       0.599       1.347\n",
      "ar.L2.D.Rate     1.2271      0.086     14.255      0.000       1.058       1.396\n",
      "ar.L3.D.Rate    -1.1398      0.273     -4.168      0.000      -1.676      -0.604\n",
      "ar.L4.D.Rate    -0.8121      0.078    -10.385      0.000      -0.965      -0.659\n",
      "ar.L5.D.Rate     0.7401      0.144      5.142      0.000       0.458       1.022\n",
      "ma.L1.D.Rate    -0.8227      0.219     -3.752      0.000      -1.252      -0.393\n",
      "ma.L2.D.Rate    -1.4734      0.071    -20.851      0.000      -1.612      -1.335\n",
      "ma.L3.D.Rate     1.0863      0.357      3.043      0.003       0.387       1.786\n",
      "ma.L4.D.Rate     1.0003      0.081     12.294      0.000       0.841       1.160\n",
      "ma.L5.D.Rate    -0.7905      0.206     -3.836      0.000      -1.194      -0.387\n",
      "                                    Roots                                    \n",
      "=============================================================================\n",
      "                  Real          Imaginary           Modulus         Frequency\n",
      "-----------------------------------------------------------------------------\n",
      "AR.1           -0.9709           -0.4288j            1.0613           -0.4338\n",
      "AR.2           -0.9709           +0.4288j            1.0613            0.4338\n",
      "AR.3            1.0069           -0.3951j            1.0816           -0.0595\n",
      "AR.4            1.0069           +0.3951j            1.0816            0.0595\n",
      "AR.5            1.0253           -0.0000j            1.0253           -0.0000\n",
      "MA.1           -0.9239           -0.3827j            1.0000           -0.4375\n",
      "MA.2           -0.9239           +0.3827j            1.0000            0.4375\n",
      "MA.3            1.0000           -0.0000j            1.0000           -0.0000\n",
      "MA.4            1.0565           -0.3856j            1.1247           -0.0557\n",
      "MA.5            1.0565           +0.3856j            1.1247            0.0557\n",
      "-----------------------------------------------------------------------------\n"
     ]
    }
   ],
   "source": [
    "model_22 = ARIMA(df_train, order=(5,1,5))\n",
    "model_22_fit = model_22.fit(trend='c',full_output=True, disp=1)\n",
    "print(model_22_fit.summary())"
   ]
  },
  {
   "cell_type": "code",
   "execution_count": 24,
   "metadata": {},
   "outputs": [
    {
     "name": "stderr",
     "output_type": "stream",
     "text": [
      "C:\\Users\\sm.woo\\Anaconda3\\lib\\site-packages\\statsmodels\\tsa\\base\\tsa_model.py:219: ValueWarning: A date index has been provided, but it has no associated frequency information and so will be ignored when e.g. forecasting.\n",
      "  ' ignored when e.g. forecasting.', ValueWarning)\n",
      "C:\\Users\\sm.woo\\Anaconda3\\lib\\site-packages\\statsmodels\\base\\model.py:492: HessianInversionWarning: Inverting hessian failed, no bse or cov_params available\n",
      "  'available', HessianInversionWarning)\n"
     ]
    },
    {
     "name": "stdout",
     "output_type": "stream",
     "text": [
      "                              ARMA Model Results                              \n",
      "==============================================================================\n",
      "Dep. Variable:                   Rate   No. Observations:                  246\n",
      "Model:                     ARMA(5, 5)   Log Likelihood                -680.780\n",
      "Method:                       css-mle   S.D. of innovations              3.773\n",
      "Date:                Fri, 07 Feb 2020   AIC                           1385.559\n",
      "Time:                        15:55:58   BIC                           1427.623\n",
      "Sample:                             0   HQIC                          1402.496\n",
      "                                                                              \n",
      "==============================================================================\n",
      "                 coef    std err          z      P>|z|      [0.025      0.975]\n",
      "------------------------------------------------------------------------------\n",
      "const       1143.6479     16.494     69.338      0.000    1111.320    1175.975\n",
      "ar.L1.Rate     0.2974      0.070      4.245      0.000       0.160       0.435\n",
      "ar.L2.Rate     0.6141      0.053     11.581      0.000       0.510       0.718\n",
      "ar.L3.Rate    -0.6949      0.065    -10.723      0.000      -0.822      -0.568\n",
      "ar.L4.Rate    -0.1260      0.062     -2.047      0.042      -0.247      -0.005\n",
      "ar.L5.Rate     0.8635      0.043     20.214      0.000       0.780       0.947\n",
      "ma.L1.Rate     0.8780      0.093      9.447      0.000       0.696       1.060\n",
      "ma.L2.Rate     0.1254      0.094      1.329      0.185      -0.060       0.310\n",
      "ma.L3.Rate     0.8033      0.039     20.603      0.000       0.727       0.880\n",
      "ma.L4.Rate     1.0635      0.069     15.469      0.000       0.929       1.198\n",
      "ma.L5.Rate     0.0796      0.078      1.015      0.311      -0.074       0.233\n",
      "                                    Roots                                    \n",
      "=============================================================================\n",
      "                  Real          Imaginary           Modulus         Frequency\n",
      "-----------------------------------------------------------------------------\n",
      "AR.1            1.0137           -0.0000j            1.0137           -0.0000\n",
      "AR.2            0.5335           -0.8591j            1.0113           -0.1616\n",
      "AR.3            0.5335           +0.8591j            1.0113            0.1616\n",
      "AR.4           -0.9674           -0.4254j            1.0568           -0.4341\n",
      "AR.5           -0.9674           +0.4254j            1.0568            0.4341\n",
      "MA.1            0.5245           -0.8514j            1.0000           -0.1621\n",
      "MA.2            0.5245           +0.8514j            1.0000            0.1621\n",
      "MA.3           -0.9237           -0.3830j            1.0000           -0.4374\n",
      "MA.4           -0.9237           +0.3830j            1.0000            0.4374\n",
      "MA.5          -12.5701           -0.0000j           12.5701           -0.5000\n",
      "-----------------------------------------------------------------------------\n"
     ]
    }
   ],
   "source": [
    "model_23 = ARIMA(df_train, order=(5,0,5))\n",
    "model_23_fit = model_23.fit(trend='c',full_output=True, disp=1)\n",
    "print(model_23_fit.summary())"
   ]
  },
  {
   "cell_type": "code",
   "execution_count": 25,
   "metadata": {},
   "outputs": [
    {
     "name": "stderr",
     "output_type": "stream",
     "text": [
      "C:\\Users\\sm.woo\\Anaconda3\\lib\\site-packages\\statsmodels\\tsa\\base\\tsa_model.py:219: ValueWarning: A date index has been provided, but it has no associated frequency information and so will be ignored when e.g. forecasting.\n",
      "  ' ignored when e.g. forecasting.', ValueWarning)\n",
      "C:\\Users\\sm.woo\\Anaconda3\\lib\\site-packages\\statsmodels\\base\\model.py:512: ConvergenceWarning: Maximum Likelihood optimization failed to converge. Check mle_retvals\n",
      "  \"Check mle_retvals\", ConvergenceWarning)\n"
     ]
    },
    {
     "name": "stdout",
     "output_type": "stream",
     "text": [
      "                              ARMA Model Results                              \n",
      "==============================================================================\n",
      "Dep. Variable:                   Rate   No. Observations:                  246\n",
      "Model:                     ARMA(5, 0)   Log Likelihood                -692.217\n",
      "Method:                       css-mle   S.D. of innovations              3.893\n",
      "Date:                Fri, 07 Feb 2020   AIC                           1396.434\n",
      "Time:                        15:56:03   BIC                           1417.466\n",
      "Sample:                             0   HQIC                          1404.903\n",
      "                                                                              \n",
      "==============================================================================\n",
      "                 coef    std err          z      P>|z|      [0.025      0.975]\n",
      "------------------------------------------------------------------------------\n",
      "ar.L1.Rate     1.1385   1.12e-05   1.01e+05      0.000       1.138       1.139\n",
      "ar.L2.Rate    -0.1751   2.28e-06  -7.67e+04      0.000      -0.175      -0.175\n",
      "ar.L3.Rate     0.0920        nan        nan        nan         nan         nan\n",
      "ar.L4.Rate    -0.1436        nan        nan        nan         nan         nan\n",
      "ar.L5.Rate     0.0882   1.53e-06   5.77e+04      0.000       0.088       0.088\n",
      "                                    Roots                                    \n",
      "=============================================================================\n",
      "                  Real          Imaginary           Modulus         Frequency\n",
      "-----------------------------------------------------------------------------\n",
      "AR.1            1.0000           -0.0000j            1.0000           -0.0000\n",
      "AR.2           -1.1100           -1.4245j            1.8059           -0.3553\n",
      "AR.3           -1.1100           +1.4245j            1.8059            0.3553\n",
      "AR.4            1.4242           -1.2036j            1.8647           -0.1117\n",
      "AR.5            1.4242           +1.2036j            1.8647            0.1117\n",
      "-----------------------------------------------------------------------------\n"
     ]
    },
    {
     "name": "stderr",
     "output_type": "stream",
     "text": [
      "C:\\Users\\sm.woo\\Anaconda3\\lib\\site-packages\\statsmodels\\tsa\\arima_model.py:1441: RuntimeWarning: invalid value encountered in sqrt\n",
      "  return np.sqrt(np.diag(-inv(hess)))\n",
      "C:\\Users\\sm.woo\\Anaconda3\\lib\\site-packages\\scipy\\stats\\_distn_infrastructure.py:901: RuntimeWarning: invalid value encountered in greater\n",
      "  return (a < x) & (x < b)\n",
      "C:\\Users\\sm.woo\\Anaconda3\\lib\\site-packages\\scipy\\stats\\_distn_infrastructure.py:901: RuntimeWarning: invalid value encountered in less\n",
      "  return (a < x) & (x < b)\n",
      "C:\\Users\\sm.woo\\Anaconda3\\lib\\site-packages\\scipy\\stats\\_distn_infrastructure.py:1892: RuntimeWarning: invalid value encountered in less_equal\n",
      "  cond2 = cond0 & (x <= _a)\n"
     ]
    }
   ],
   "source": [
    "#non값 사용 불가능\n",
    "model_24 = ARIMA(df_train, order=(5,0,0))\n",
    "model_24_fit = model_24.fit(trend='nc',full_output=True, disp=1)\n",
    "print(model_24_fit.summary())"
   ]
  },
  {
   "cell_type": "code",
   "execution_count": 26,
   "metadata": {},
   "outputs": [
    {
     "name": "stderr",
     "output_type": "stream",
     "text": [
      "C:\\Users\\sm.woo\\Anaconda3\\lib\\site-packages\\statsmodels\\tsa\\base\\tsa_model.py:219: ValueWarning: A date index has been provided, but it has no associated frequency information and so will be ignored when e.g. forecasting.\n",
      "  ' ignored when e.g. forecasting.', ValueWarning)\n"
     ]
    },
    {
     "name": "stdout",
     "output_type": "stream",
     "text": [
      "                              ARMA Model Results                              \n",
      "==============================================================================\n",
      "Dep. Variable:                   Rate   No. Observations:                  246\n",
      "Model:                     ARMA(5, 0)   Log Likelihood                -685.231\n",
      "Method:                       css-mle   S.D. of innovations              3.891\n",
      "Date:                Fri, 07 Feb 2020   AIC                           1384.462\n",
      "Time:                        15:56:06   BIC                           1408.999\n",
      "Sample:                             0   HQIC                          1394.342\n",
      "                                                                              \n",
      "==============================================================================\n",
      "                 coef    std err          z      P>|z|      [0.025      0.975]\n",
      "------------------------------------------------------------------------------\n",
      "const       1143.6783     16.497     69.325      0.000    1111.344    1176.013\n",
      "ar.L1.Rate     1.1330      0.063     17.876      0.000       1.009       1.257\n",
      "ar.L2.Rate    -0.1762      0.096     -1.840      0.067      -0.364       0.012\n",
      "ar.L3.Rate     0.0924      0.096      0.959      0.338      -0.096       0.281\n",
      "ar.L4.Rate    -0.1428      0.096     -1.482      0.140      -0.332       0.046\n",
      "ar.L5.Rate     0.0817      0.064      1.276      0.203      -0.044       0.207\n",
      "                                    Roots                                    \n",
      "=============================================================================\n",
      "                  Real          Imaginary           Modulus         Frequency\n",
      "-----------------------------------------------------------------------------\n",
      "AR.1            1.0133           -0.0000j            1.0133           -0.0000\n",
      "AR.2           -1.1112           -1.4462j            1.8239           -0.3543\n",
      "AR.3           -1.1112           +1.4462j            1.8239            0.3543\n",
      "AR.4            1.4784           -1.2024j            1.9056           -0.1087\n",
      "AR.5            1.4784           +1.2024j            1.9056            0.1087\n",
      "-----------------------------------------------------------------------------\n"
     ]
    }
   ],
   "source": [
    "model_25 = ARIMA(df_train, order=(5,0,0))\n",
    "model_25_fit = model_25.fit(trend='c',full_output=True, disp=1)\n",
    "print(model_25_fit.summary())"
   ]
  },
  {
   "cell_type": "code",
   "execution_count": 27,
   "metadata": {},
   "outputs": [
    {
     "name": "stderr",
     "output_type": "stream",
     "text": [
      "C:\\Users\\sm.woo\\Anaconda3\\lib\\site-packages\\statsmodels\\tsa\\base\\tsa_model.py:219: ValueWarning: A date index has been provided, but it has no associated frequency information and so will be ignored when e.g. forecasting.\n",
      "  ' ignored when e.g. forecasting.', ValueWarning)\n",
      "C:\\Users\\sm.woo\\Anaconda3\\lib\\site-packages\\statsmodels\\tsa\\base\\tsa_model.py:219: ValueWarning: A date index has been provided, but it has no associated frequency information and so will be ignored when e.g. forecasting.\n",
      "  ' ignored when e.g. forecasting.', ValueWarning)\n"
     ]
    },
    {
     "name": "stdout",
     "output_type": "stream",
     "text": [
      "                             ARIMA Model Results                              \n",
      "==============================================================================\n",
      "Dep. Variable:                 D.Rate   No. Observations:                  245\n",
      "Model:                 ARIMA(0, 1, 5)   Log Likelihood                -680.953\n",
      "Method:                       css-mle   S.D. of innovations              3.897\n",
      "Date:                Fri, 07 Feb 2020   AIC                           1373.907\n",
      "Time:                        15:56:07   BIC                           1394.914\n",
      "Sample:                             1   HQIC                          1382.367\n",
      "                                                                              \n",
      "================================================================================\n",
      "                   coef    std err          z      P>|z|      [0.025      0.975]\n",
      "--------------------------------------------------------------------------------\n",
      "ma.L1.D.Rate     0.1367      0.064      2.128      0.034       0.011       0.263\n",
      "ma.L2.D.Rate    -0.0343      0.066     -0.518      0.605      -0.164       0.095\n",
      "ma.L3.D.Rate     0.0321      0.066      0.484      0.629      -0.098       0.162\n",
      "ma.L4.D.Rate    -0.0684      0.066     -1.039      0.300      -0.198       0.061\n",
      "ma.L5.D.Rate    -0.0776      0.065     -1.199      0.232      -0.204       0.049\n",
      "                                    Roots                                    \n",
      "=============================================================================\n",
      "                  Real          Imaginary           Modulus         Frequency\n",
      "-----------------------------------------------------------------------------\n",
      "MA.1            1.6002           -0.0000j            1.6002           -0.0000\n",
      "MA.2            0.3385           -1.5781j            1.6140           -0.2164\n",
      "MA.3            0.3385           +1.5781j            1.6140            0.2164\n",
      "MA.4           -1.5798           -0.7729j            1.7587           -0.4276\n",
      "MA.5           -1.5798           +0.7729j            1.7587            0.4276\n",
      "-----------------------------------------------------------------------------\n"
     ]
    }
   ],
   "source": [
    "model_26 = ARIMA(df_train, order=(0,1,5))\n",
    "model_26_fit = model_26.fit(trend='nc',full_output=True, disp=1)\n",
    "print(model_26_fit.summary())"
   ]
  },
  {
   "cell_type": "code",
   "execution_count": 28,
   "metadata": {},
   "outputs": [
    {
     "name": "stderr",
     "output_type": "stream",
     "text": [
      "C:\\Users\\sm.woo\\Anaconda3\\lib\\site-packages\\statsmodels\\tsa\\base\\tsa_model.py:219: ValueWarning: A date index has been provided, but it has no associated frequency information and so will be ignored when e.g. forecasting.\n",
      "  ' ignored when e.g. forecasting.', ValueWarning)\n",
      "C:\\Users\\sm.woo\\Anaconda3\\lib\\site-packages\\statsmodels\\tsa\\base\\tsa_model.py:219: ValueWarning: A date index has been provided, but it has no associated frequency information and so will be ignored when e.g. forecasting.\n",
      "  ' ignored when e.g. forecasting.', ValueWarning)\n"
     ]
    },
    {
     "name": "stdout",
     "output_type": "stream",
     "text": [
      "                             ARIMA Model Results                              \n",
      "==============================================================================\n",
      "Dep. Variable:                 D.Rate   No. Observations:                  245\n",
      "Model:                 ARIMA(0, 1, 5)   Log Likelihood                -680.389\n",
      "Method:                       css-mle   S.D. of innovations              3.888\n",
      "Date:                Fri, 07 Feb 2020   AIC                           1374.778\n",
      "Time:                        15:56:08   BIC                           1399.286\n",
      "Sample:                             1   HQIC                          1384.647\n",
      "                                                                              \n",
      "================================================================================\n",
      "                   coef    std err          z      P>|z|      [0.025      0.975]\n",
      "--------------------------------------------------------------------------------\n",
      "const            0.2575      0.239      1.080      0.281      -0.210       0.725\n",
      "ma.L1.D.Rate     0.1317      0.064      2.049      0.042       0.006       0.258\n",
      "ma.L2.D.Rate    -0.0415      0.066     -0.626      0.532      -0.171       0.088\n",
      "ma.L3.D.Rate     0.0259      0.067      0.388      0.698      -0.105       0.157\n",
      "ma.L4.D.Rate    -0.0753      0.066     -1.137      0.257      -0.205       0.055\n",
      "ma.L5.D.Rate    -0.0833      0.065     -1.285      0.200      -0.210       0.044\n",
      "                                    Roots                                    \n",
      "=============================================================================\n",
      "                  Real          Imaginary           Modulus         Frequency\n",
      "-----------------------------------------------------------------------------\n",
      "MA.1            1.5561           -0.0000j            1.5561           -0.0000\n",
      "MA.2            0.3296           -1.5633j            1.5977           -0.2169\n",
      "MA.3            0.3296           +1.5633j            1.5977            0.2169\n",
      "MA.4           -1.5598           -0.7670j            1.7382           -0.4273\n",
      "MA.5           -1.5598           +0.7670j            1.7382            0.4273\n",
      "-----------------------------------------------------------------------------\n"
     ]
    }
   ],
   "source": [
    "model_27 = ARIMA(df_train, order=(0,1,5))\n",
    "model_27_fit = model_27.fit(trend='c',full_output=True, disp=1)\n",
    "print(model_27_fit.summary())"
   ]
  },
  {
   "cell_type": "code",
   "execution_count": 29,
   "metadata": {},
   "outputs": [
    {
     "name": "stderr",
     "output_type": "stream",
     "text": [
      "C:\\Users\\sm.woo\\Anaconda3\\lib\\site-packages\\statsmodels\\tsa\\base\\tsa_model.py:219: ValueWarning: A date index has been provided, but it has no associated frequency information and so will be ignored when e.g. forecasting.\n",
      "  ' ignored when e.g. forecasting.', ValueWarning)\n",
      "C:\\Users\\sm.woo\\Anaconda3\\lib\\site-packages\\statsmodels\\tsa\\base\\tsa_model.py:219: ValueWarning: A date index has been provided, but it has no associated frequency information and so will be ignored when e.g. forecasting.\n",
      "  ' ignored when e.g. forecasting.', ValueWarning)\n"
     ]
    },
    {
     "name": "stdout",
     "output_type": "stream",
     "text": [
      "                             ARIMA Model Results                              \n",
      "==============================================================================\n",
      "Dep. Variable:                 D.Rate   No. Observations:                  245\n",
      "Model:                 ARIMA(0, 1, 4)   Log Likelihood                -681.656\n",
      "Method:                       css-mle   S.D. of innovations              3.909\n",
      "Date:                Fri, 07 Feb 2020   AIC                           1373.312\n",
      "Time:                        15:56:10   BIC                           1390.818\n",
      "Sample:                             1   HQIC                          1380.361\n",
      "                                                                              \n",
      "================================================================================\n",
      "                   coef    std err          z      P>|z|      [0.025      0.975]\n",
      "--------------------------------------------------------------------------------\n",
      "ma.L1.D.Rate     0.1314      0.065      2.034      0.043       0.005       0.258\n",
      "ma.L2.D.Rate    -0.0140      0.065     -0.214      0.830      -0.142       0.114\n",
      "ma.L3.D.Rate     0.0330      0.067      0.489      0.625      -0.099       0.165\n",
      "ma.L4.D.Rate    -0.0509      0.066     -0.771      0.441      -0.180       0.079\n",
      "                                    Roots                                    \n",
      "=============================================================================\n",
      "                  Real          Imaginary           Modulus         Frequency\n",
      "-----------------------------------------------------------------------------\n",
      "MA.1           -1.7945           -0.0000j            1.7945           -0.5000\n",
      "MA.2            0.0210           -2.1346j            2.1347           -0.2484\n",
      "MA.3            0.0210           +2.1346j            2.1347            0.2484\n",
      "MA.4            2.4004           -0.0000j            2.4004           -0.0000\n",
      "-----------------------------------------------------------------------------\n"
     ]
    }
   ],
   "source": [
    "model_28 = ARIMA(df_train, order=(0,1,4))\n",
    "model_28_fit = model_28.fit(trend='nc',full_output=True, disp=1)\n",
    "print(model_28_fit.summary())"
   ]
  },
  {
   "cell_type": "code",
   "execution_count": 30,
   "metadata": {},
   "outputs": [
    {
     "name": "stderr",
     "output_type": "stream",
     "text": [
      "C:\\Users\\sm.woo\\Anaconda3\\lib\\site-packages\\statsmodels\\tsa\\base\\tsa_model.py:219: ValueWarning: A date index has been provided, but it has no associated frequency information and so will be ignored when e.g. forecasting.\n",
      "  ' ignored when e.g. forecasting.', ValueWarning)\n",
      "C:\\Users\\sm.woo\\Anaconda3\\lib\\site-packages\\statsmodels\\tsa\\base\\tsa_model.py:219: ValueWarning: A date index has been provided, but it has no associated frequency information and so will be ignored when e.g. forecasting.\n",
      "  ' ignored when e.g. forecasting.', ValueWarning)\n"
     ]
    },
    {
     "name": "stdout",
     "output_type": "stream",
     "text": [
      "                             ARIMA Model Results                              \n",
      "==============================================================================\n",
      "Dep. Variable:                 D.Rate   No. Observations:                  245\n",
      "Model:                 ARIMA(0, 1, 4)   Log Likelihood                -681.193\n",
      "Method:                       css-mle   S.D. of innovations              3.902\n",
      "Date:                Fri, 07 Feb 2020   AIC                           1374.386\n",
      "Time:                        15:56:11   BIC                           1395.394\n",
      "Sample:                             1   HQIC                          1382.846\n",
      "                                                                              \n",
      "================================================================================\n",
      "                   coef    std err          z      P>|z|      [0.025      0.975]\n",
      "--------------------------------------------------------------------------------\n",
      "const            0.2613      0.269      0.971      0.332      -0.266       0.789\n",
      "ma.L1.D.Rate     0.1267      0.065      1.957      0.052      -0.000       0.254\n",
      "ma.L2.D.Rate    -0.0191      0.065     -0.291      0.771      -0.147       0.109\n",
      "ma.L3.D.Rate     0.0275      0.068      0.404      0.686      -0.106       0.161\n",
      "ma.L4.D.Rate    -0.0561      0.067     -0.842      0.400      -0.186       0.074\n",
      "                                    Roots                                    \n",
      "=============================================================================\n",
      "                  Real          Imaginary           Modulus         Frequency\n",
      "-----------------------------------------------------------------------------\n",
      "MA.1           -1.7778           -0.0000j            1.7778           -0.5000\n",
      "MA.2           -0.0059           -2.0977j            2.0977           -0.2504\n",
      "MA.3           -0.0059           +2.0977j            2.0977            0.2504\n",
      "MA.4            2.2805           -0.0000j            2.2805           -0.0000\n",
      "-----------------------------------------------------------------------------\n"
     ]
    }
   ],
   "source": [
    "model_29 = ARIMA(df_train, order=(0,1,4))\n",
    "model_29_fit = model_29.fit(trend='c',full_output=True, disp=1)\n",
    "print(model_29_fit.summary())"
   ]
  },
  {
   "cell_type": "markdown",
   "metadata": {},
   "source": [
    "### 예측"
   ]
  },
  {
   "cell_type": "code",
   "execution_count": 31,
   "metadata": {
    "scrolled": true
   },
   "outputs": [
    {
     "data": {
      "image/png": "[encoded data removed]",
      "text/plain": [
       "<Figure size 432x288 with 1 Axes>"
      ]
     },
     "metadata": {
      "needs_background": "light"
     },
     "output_type": "display_data"
    },
    {
     "data": {
      "image/png": "[encoded data removed]",
      "text/plain": [
       "<Figure size 432x288 with 1 Axes>"
      ]
     },
     "metadata": {
      "needs_background": "light"
     },
     "output_type": "display_data"
    },
    {
     "data": {
      "image/png": "[encoded data removed]",
      "text/plain": [
       "<Figure size 432x288 with 1 Axes>"
      ]
     },
     "metadata": {
      "needs_background": "light"
     },
     "output_type": "display_data"
    },
    {
     "data": {
      "image/png": "[encoded data removed]",
      "text/plain": [
       "<Figure size 432x288 with 1 Axes>"
      ]
     },
     "metadata": {
      "needs_background": "light"
     },
     "output_type": "display_data"
    },
    {
     "data": {
      "image/png": "[encoded data removed]",
      "text/plain": [
       "<Figure size 432x288 with 1 Axes>"
      ]
     },
     "metadata": {
      "needs_background": "light"
     },
     "output_type": "display_data"
    },
    {
     "data": {
      "image/png": "[encoded data removed]",
      "text/plain": [
       "<Figure size 432x288 with 1 Axes>"
      ]
     },
     "metadata": {
      "needs_background": "light"
     },
     "output_type": "display_data"
    },
    {
     "data": {
      "image/png": "[encoded data removed]",
      "text/plain": [
       "<Figure size 432x288 with 1 Axes>"
      ]
     },
     "metadata": {
      "needs_background": "light"
     },
     "output_type": "display_data"
    },
    {
     "data": {
      "image/png": "[encoded data removed]",
      "text/plain": [
       "<Figure size 432x288 with 1 Axes>"
      ]
     },
     "metadata": {
      "needs_background": "light"
     },
     "output_type": "display_data"
    },
    {
     "data": {
      "image/png": "[encoded data removed]",
      "text/plain": [
       "<Figure size 432x288 with 1 Axes>"
      ]
     },
     "metadata": {
      "needs_background": "light"
     },
     "output_type": "display_data"
    },
    {
     "data": {
      "image/png": "[encoded data removed]",
      "text/plain": [
       "<Figure size 432x288 with 1 Axes>"
      ]
     },
     "metadata": {
      "needs_background": "light"
     },
     "output_type": "display_data"
    },
    {
     "data": {
      "image/png": "[encoded data removed]",
      "text/plain": [
       "<Figure size 432x288 with 1 Axes>"
      ]
     },
     "metadata": {
      "needs_background": "light"
     },
     "output_type": "display_data"
    },
    {
     "data": {
      "image/png": "[encoded data removed]",
      "text/plain": [
       "<Figure size 432x288 with 1 Axes>"
      ]
     },
     "metadata": {
      "needs_background": "light"
     },
     "output_type": "display_data"
    }
   ],
   "source": [
    "Models = [model_1_fit, model_2_fit, model_3_fit, model_4_fit, model_18_fit, model_19_fit, model_20_fit, \n",
    "          model_25_fit, model_26_fit, model_27_fit, model_28_fit, model_29_fit]\n",
    "\n",
    "df_test=df_test[:5]\n",
    "actual_price=df_test['Rate'].tolist()[:5]\n",
    "RMSE_total=[]\n",
    "pred_price=[]\n",
    "\n",
    "for model in Models:\n",
    "    pred = model.forecast(steps=5)\n",
    "    pred_price_0=pred[0][:5]\n",
    "    pred_price.extend(pred_price_0)\n",
    "\n",
    "    plt.plot(pred_price_0)\n",
    "    plt.plot(df_test)\n",
    "    plt.show()\n",
    "    \n",
    "    RMSE = mean_squared_error(pred_price_0, actual_price)**0.5    \n",
    "    RMSE_total.append(RMSE)"
   ]
  },
  {
   "cell_type": "markdown",
   "metadata": {},
   "source": [
    "#### 예측값, stderr, upper bound, lower bound"
   ]
  },
  {
   "cell_type": "code",
   "execution_count": 32,
   "metadata": {},
   "outputs": [],
   "source": [
    "n = 5\n",
    "result = [pred_price[i * n:(i + 1) * n] for i in range((len(pred_price) + n - 1) // n )] \n",
    "pred_final = []\n",
    "for i in result:\n",
    "    pred_final.append(i)"
   ]
  },
  {
   "cell_type": "code",
   "execution_count": 33,
   "metadata": {
    "scrolled": true
   },
   "outputs": [],
   "source": [
    "pred_final=pd.DataFrame(pred_final)\n",
    "RMSE_total=pd.DataFrame(RMSE_total)\n",
    "final_df=pd.concat([pred_final, RMSE_total], axis=1)\n",
    "final_df.columns=[df_test.index[0],df_test.index[1],df_test.index[2],df_test.index[3],df_test.index[4],'RMSE']"
   ]
  },
  {
   "cell_type": "code",
   "execution_count": 34,
   "metadata": {},
   "outputs": [
    {
     "data": {
      "text/html": [
       "<div>\n",
       "<style scoped>\n",
       "    .dataframe tbody tr th:only-of-type {\n",
       "        vertical-align: middle;\n",
       "    }\n",
       "\n",
       "    .dataframe tbody tr th {\n",
       "        vertical-align: top;\n",
       "    }\n",
       "\n",
       "    .dataframe thead th {\n",
       "        text-align: right;\n",
       "    }\n",
       "</style>\n",
       "<table border=\"1\" class=\"dataframe\">\n",
       "  <thead>\n",
       "    <tr style=\"text-align: right;\">\n",
       "      <th></th>\n",
       "      <th>2019-08-01</th>\n",
       "      <th>2019-08-02</th>\n",
       "      <th>2019-08-05</th>\n",
       "      <th>2019-08-06</th>\n",
       "      <th>2019-08-07</th>\n",
       "      <th>RMSE</th>\n",
       "    </tr>\n",
       "  </thead>\n",
       "  <tbody>\n",
       "    <tr>\n",
       "      <td>0</td>\n",
       "      <td>1181.900000</td>\n",
       "      <td>1188.500000</td>\n",
       "      <td>1194.800000</td>\n",
       "      <td>1211.800000</td>\n",
       "      <td>1214.300000</td>\n",
       "      <td>0.000000</td>\n",
       "    </tr>\n",
       "    <tr>\n",
       "      <td>0</td>\n",
       "      <td>1181.978791</td>\n",
       "      <td>1181.985999</td>\n",
       "      <td>1181.983549</td>\n",
       "      <td>1181.984381</td>\n",
       "      <td>1181.984099</td>\n",
       "      <td>20.688105</td>\n",
       "    </tr>\n",
       "    <tr>\n",
       "      <td>1</td>\n",
       "      <td>1182.224461</td>\n",
       "      <td>1182.499956</td>\n",
       "      <td>1182.757448</td>\n",
       "      <td>1183.021290</td>\n",
       "      <td>1183.282893</td>\n",
       "      <td>19.856505</td>\n",
       "    </tr>\n",
       "    <tr>\n",
       "      <td>2</td>\n",
       "      <td>1181.754492</td>\n",
       "      <td>1181.690655</td>\n",
       "      <td>1181.663981</td>\n",
       "      <td>1181.652651</td>\n",
       "      <td>1181.653036</td>\n",
       "      <td>20.945788</td>\n",
       "    </tr>\n",
       "    <tr>\n",
       "      <td>3</td>\n",
       "      <td>1181.608563</td>\n",
       "      <td>1181.418058</td>\n",
       "      <td>1181.282229</td>\n",
       "      <td>1181.172211</td>\n",
       "      <td>1181.080352</td>\n",
       "      <td>21.328739</td>\n",
       "    </tr>\n",
       "    <tr>\n",
       "      <td>4</td>\n",
       "      <td>1181.707918</td>\n",
       "      <td>1181.476191</td>\n",
       "      <td>1180.831718</td>\n",
       "      <td>1180.876546</td>\n",
       "      <td>1180.719882</td>\n",
       "      <td>21.579472</td>\n",
       "    </tr>\n",
       "    <tr>\n",
       "      <td>5</td>\n",
       "      <td>1181.573186</td>\n",
       "      <td>1181.369982</td>\n",
       "      <td>1180.914697</td>\n",
       "      <td>1181.343502</td>\n",
       "      <td>1181.214074</td>\n",
       "      <td>21.288600</td>\n",
       "    </tr>\n",
       "    <tr>\n",
       "      <td>6</td>\n",
       "      <td>1181.813649</td>\n",
       "      <td>1181.888012</td>\n",
       "      <td>1181.717758</td>\n",
       "      <td>1182.446156</td>\n",
       "      <td>1182.592611</td>\n",
       "      <td>20.405282</td>\n",
       "    </tr>\n",
       "    <tr>\n",
       "      <td>7</td>\n",
       "      <td>1181.503089</td>\n",
       "      <td>1180.615359</td>\n",
       "      <td>1180.041503</td>\n",
       "      <td>1179.636375</td>\n",
       "      <td>1179.153068</td>\n",
       "      <td>22.582931</td>\n",
       "    </tr>\n",
       "    <tr>\n",
       "      <td>8</td>\n",
       "      <td>1181.935490</td>\n",
       "      <td>1181.582994</td>\n",
       "      <td>1181.286402</td>\n",
       "      <td>1181.438786</td>\n",
       "      <td>1181.438786</td>\n",
       "      <td>21.128778</td>\n",
       "    </tr>\n",
       "    <tr>\n",
       "      <td>9</td>\n",
       "      <td>1182.185908</td>\n",
       "      <td>1182.117368</td>\n",
       "      <td>1182.098938</td>\n",
       "      <td>1182.558504</td>\n",
       "      <td>1182.815981</td>\n",
       "      <td>20.240777</td>\n",
       "    </tr>\n",
       "    <tr>\n",
       "      <td>10</td>\n",
       "      <td>1181.952162</td>\n",
       "      <td>1181.694911</td>\n",
       "      <td>1181.725023</td>\n",
       "      <td>1181.785928</td>\n",
       "      <td>1181.785928</td>\n",
       "      <td>20.857978</td>\n",
       "    </tr>\n",
       "    <tr>\n",
       "      <td>11</td>\n",
       "      <td>1182.179327</td>\n",
       "      <td>1182.184122</td>\n",
       "      <td>1182.495147</td>\n",
       "      <td>1182.835954</td>\n",
       "      <td>1183.097266</td>\n",
       "      <td>20.019512</td>\n",
       "    </tr>\n",
       "  </tbody>\n",
       "</table>\n",
       "</div>"
      ],
      "text/plain": [
       "     2019-08-01   2019-08-02   2019-08-05   2019-08-06   2019-08-07       RMSE\n",
       "0   1181.900000  1188.500000  1194.800000  1211.800000  1214.300000   0.000000\n",
       "0   1181.978791  1181.985999  1181.983549  1181.984381  1181.984099  20.688105\n",
       "1   1182.224461  1182.499956  1182.757448  1183.021290  1183.282893  19.856505\n",
       "2   1181.754492  1181.690655  1181.663981  1181.652651  1181.653036  20.945788\n",
       "3   1181.608563  1181.418058  1181.282229  1181.172211  1181.080352  21.328739\n",
       "4   1181.707918  1181.476191  1180.831718  1180.876546  1180.719882  21.579472\n",
       "5   1181.573186  1181.369982  1180.914697  1181.343502  1181.214074  21.288600\n",
       "6   1181.813649  1181.888012  1181.717758  1182.446156  1182.592611  20.405282\n",
       "7   1181.503089  1180.615359  1180.041503  1179.636375  1179.153068  22.582931\n",
       "8   1181.935490  1181.582994  1181.286402  1181.438786  1181.438786  21.128778\n",
       "9   1182.185908  1182.117368  1182.098938  1182.558504  1182.815981  20.240777\n",
       "10  1181.952162  1181.694911  1181.725023  1181.785928  1181.785928  20.857978\n",
       "11  1182.179327  1182.184122  1182.495147  1182.835954  1183.097266  20.019512"
      ]
     },
     "execution_count": 34,
     "metadata": {},
     "output_type": "execute_result"
    }
   ],
   "source": [
    "actual_price = pd.DataFrame(actual_price + [0]).T\n",
    "actual_price.columns=[df_test.index[0],df_test.index[1],df_test.index[2],df_test.index[3],df_test.index[4],'RMSE']\n",
    "final_df=pd.concat([actual_price, final_df], axis=0)\n",
    "final_df"
   ]
  },
  {
   "cell_type": "code",
   "execution_count": 36,
   "metadata": {},
   "outputs": [],
   "source": [
    "final_df.to_csv('data/final07.csv', index=False)"
   ]
  },
  {
   "cell_type": "code",
   "execution_count": null,
   "metadata": {},
   "outputs": [],
   "source": []
  }
 ],
 "metadata": {
  "kernelspec": {
   "display_name": "Python 3",
   "language": "python",
   "name": "python3"
  },
  "language_info": {
   "codemirror_mode": {
    "name": "ipython",
    "version": 3
   },
   "file_extension": ".py",
   "mimetype": "text/x-python",
   "name": "python",
   "nbconvert_exporter": "python",
   "pygments_lexer": "ipython3",
   "version": "3.7.4"
  }
 },
 "nbformat": 4,
 "nbformat_minor": 2
}
