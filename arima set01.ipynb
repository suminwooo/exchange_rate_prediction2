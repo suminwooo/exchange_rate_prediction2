{
 "cells": [
  {
   "cell_type": "code",
   "execution_count": 1,
   "metadata": {},
   "outputs": [],
   "source": [
    "import pandas as pd\n",
    "import matplotlib.pyplot as plt\n",
    "\n",
    "from statsmodels.tsa.arima_model import ARIMA\n",
    "from statsmodels.graphics.tsaplots import plot_acf, plot_pacf\n",
    "from sklearn.metrics import mean_squared_error"
   ]
  },
  {
   "cell_type": "code",
   "execution_count": 2,
   "metadata": {},
   "outputs": [],
   "source": [
    "data = pd.read_csv('exchange_data/set01.csv', header=0, squeeze=True)"
   ]
  },
  {
   "cell_type": "code",
   "execution_count": 3,
   "metadata": {},
   "outputs": [],
   "source": [
    "data = data.set_index('Date')"
   ]
  },
  {
   "cell_type": "code",
   "execution_count": 4,
   "metadata": {},
   "outputs": [],
   "source": [
    "#2018년 2월~2019년1월 train set/ 2019년 2월 test set\n",
    "df_train=data.loc['2018-02-01': '2019-01-31' ]\n",
    "df_test=data.loc['2019-02-01':]"
   ]
  },
  {
   "cell_type": "markdown",
   "metadata": {},
   "source": [
    "### 모형구축"
   ]
  },
  {
   "cell_type": "code",
   "execution_count": 5,
   "metadata": {},
   "outputs": [
    {
     "name": "stdout",
     "output_type": "stream",
     "text": [
      "                             ARIMA Model Results                              \n",
      "==============================================================================\n",
      "Dep. Variable:                 D.Rate   No. Observations:                  244\n",
      "Model:                 ARIMA(1, 1, 1)   Log Likelihood                -713.668\n",
      "Method:                       css-mle   S.D. of innovations              4.508\n",
      "Date:                Fri, 07 Feb 2020   AIC                           1433.336\n",
      "Time:                        15:33:07   BIC                           1443.827\n",
      "Sample:                             1   HQIC                          1437.561\n",
      "                                                                              \n",
      "================================================================================\n",
      "                   coef    std err          z      P>|z|      [0.025      0.975]\n",
      "--------------------------------------------------------------------------------\n",
      "ar.L1.D.Rate    -0.3835      0.293     -1.308      0.192      -0.958       0.191\n",
      "ma.L1.D.Rate     0.4948      0.273      1.814      0.071      -0.040       1.030\n",
      "                                    Roots                                    \n",
      "=============================================================================\n",
      "                  Real          Imaginary           Modulus         Frequency\n",
      "-----------------------------------------------------------------------------\n",
      "AR.1           -2.6078           +0.0000j            2.6078            0.5000\n",
      "MA.1           -2.0209           +0.0000j            2.0209            0.5000\n",
      "-----------------------------------------------------------------------------\n"
     ]
    },
    {
     "name": "stderr",
     "output_type": "stream",
     "text": [
      "C:\\Users\\sm.woo\\Anaconda3\\lib\\site-packages\\statsmodels\\tsa\\base\\tsa_model.py:219: ValueWarning: A date index has been provided, but it has no associated frequency information and so will be ignored when e.g. forecasting.\n",
      "  ' ignored when e.g. forecasting.', ValueWarning)\n",
      "C:\\Users\\sm.woo\\Anaconda3\\lib\\site-packages\\statsmodels\\tsa\\base\\tsa_model.py:219: ValueWarning: A date index has been provided, but it has no associated frequency information and so will be ignored when e.g. forecasting.\n",
      "  ' ignored when e.g. forecasting.', ValueWarning)\n"
     ]
    }
   ],
   "source": [
    "model_1 = ARIMA(df_train, order=(1,1,1))\n",
    "model_1_fit = model_1.fit(trend='nc',full_output=True, disp=1)\n",
    "print(model_1_fit.summary())"
   ]
  },
  {
   "cell_type": "code",
   "execution_count": 6,
   "metadata": {},
   "outputs": [
    {
     "name": "stderr",
     "output_type": "stream",
     "text": [
      "C:\\Users\\sm.woo\\Anaconda3\\lib\\site-packages\\statsmodels\\tsa\\base\\tsa_model.py:219: ValueWarning: A date index has been provided, but it has no associated frequency information and so will be ignored when e.g. forecasting.\n",
      "  ' ignored when e.g. forecasting.', ValueWarning)\n",
      "C:\\Users\\sm.woo\\Anaconda3\\lib\\site-packages\\statsmodels\\tsa\\base\\tsa_model.py:219: ValueWarning: A date index has been provided, but it has no associated frequency information and so will be ignored when e.g. forecasting.\n",
      "  ' ignored when e.g. forecasting.', ValueWarning)\n"
     ]
    },
    {
     "name": "stdout",
     "output_type": "stream",
     "text": [
      "                             ARIMA Model Results                              \n",
      "==============================================================================\n",
      "Dep. Variable:                 D.Rate   No. Observations:                  244\n",
      "Model:                 ARIMA(1, 1, 1)   Log Likelihood                -713.472\n",
      "Method:                       css-mle   S.D. of innovations              4.505\n",
      "Date:                Fri, 07 Feb 2020   AIC                           1434.944\n",
      "Time:                        15:33:07   BIC                           1448.933\n",
      "Sample:                             1   HQIC                          1440.578\n",
      "                                                                              \n",
      "================================================================================\n",
      "                   coef    std err          z      P>|z|      [0.025      0.975]\n",
      "--------------------------------------------------------------------------------\n",
      "const            0.1949      0.311      0.626      0.532      -0.415       0.805\n",
      "ar.L1.D.Rate    -0.3870      0.292     -1.324      0.187      -0.960       0.186\n",
      "ma.L1.D.Rate     0.4972      0.272      1.828      0.069      -0.036       1.030\n",
      "                                    Roots                                    \n",
      "=============================================================================\n",
      "                  Real          Imaginary           Modulus         Frequency\n",
      "-----------------------------------------------------------------------------\n",
      "AR.1           -2.5842           +0.0000j            2.5842            0.5000\n",
      "MA.1           -2.0112           +0.0000j            2.0112            0.5000\n",
      "-----------------------------------------------------------------------------\n"
     ]
    }
   ],
   "source": [
    "model_2 = ARIMA(df_train, order=(1,1,1))\n",
    "model_2_fit = model_2.fit(trend='c',full_output=True, disp=1)\n",
    "print(model_2_fit.summary())"
   ]
  },
  {
   "cell_type": "code",
   "execution_count": 7,
   "metadata": {},
   "outputs": [
    {
     "name": "stderr",
     "output_type": "stream",
     "text": [
      "C:\\Users\\sm.woo\\Anaconda3\\lib\\site-packages\\statsmodels\\tsa\\base\\tsa_model.py:219: ValueWarning: A date index has been provided, but it has no associated frequency information and so will be ignored when e.g. forecasting.\n",
      "  ' ignored when e.g. forecasting.', ValueWarning)\n",
      "C:\\Users\\sm.woo\\Anaconda3\\lib\\site-packages\\statsmodels\\tsa\\base\\tsa_model.py:219: ValueWarning: A date index has been provided, but it has no associated frequency information and so will be ignored when e.g. forecasting.\n",
      "  ' ignored when e.g. forecasting.', ValueWarning)\n"
     ]
    },
    {
     "name": "stdout",
     "output_type": "stream",
     "text": [
      "                             ARIMA Model Results                              \n",
      "==============================================================================\n",
      "Dep. Variable:                 D.Rate   No. Observations:                  244\n",
      "Model:                 ARIMA(2, 1, 1)   Log Likelihood                -711.109\n",
      "Method:                       css-mle   S.D. of innovations              4.460\n",
      "Date:                Fri, 07 Feb 2020   AIC                           1432.219\n",
      "Time:                        15:33:07   BIC                           1449.705\n",
      "Sample:                             1   HQIC                          1439.261\n",
      "                                                                              \n",
      "================================================================================\n",
      "                   coef    std err          z      P>|z|      [0.025      0.975]\n",
      "--------------------------------------------------------------------------------\n",
      "const            0.1900      0.178      1.066      0.288      -0.160       0.540\n",
      "ar.L1.D.Rate     0.9504      0.099      9.620      0.000       0.757       1.144\n",
      "ar.L2.D.Rate    -0.1599      0.065     -2.466      0.014      -0.287      -0.033\n",
      "ma.L1.D.Rate    -0.8713      0.080    -10.900      0.000      -1.028      -0.715\n",
      "                                    Roots                                    \n",
      "=============================================================================\n",
      "                  Real          Imaginary           Modulus         Frequency\n",
      "-----------------------------------------------------------------------------\n",
      "AR.1            1.3661           +0.0000j            1.3661            0.0000\n",
      "AR.2            4.5785           +0.0000j            4.5785            0.0000\n",
      "MA.1            1.1477           +0.0000j            1.1477            0.0000\n",
      "-----------------------------------------------------------------------------\n"
     ]
    }
   ],
   "source": [
    "model_3 = ARIMA(df_train, order=(2,1,1))\n",
    "model_3_fit = model_3.fit(trend='c',full_output=True, disp=1)\n",
    "print(model_3_fit.summary())"
   ]
  },
  {
   "cell_type": "code",
   "execution_count": 8,
   "metadata": {},
   "outputs": [
    {
     "name": "stdout",
     "output_type": "stream",
     "text": [
      "                             ARIMA Model Results                              \n",
      "==============================================================================\n",
      "Dep. Variable:                 D.Rate   No. Observations:                  244\n",
      "Model:                 ARIMA(2, 1, 1)   Log Likelihood                -711.637\n",
      "Method:                       css-mle   S.D. of innovations              4.470\n",
      "Date:                Fri, 07 Feb 2020   AIC                           1431.273\n",
      "Time:                        15:33:07   BIC                           1445.262\n",
      "Sample:                             1   HQIC                          1436.907\n",
      "                                                                              \n",
      "================================================================================\n",
      "                   coef    std err          z      P>|z|      [0.025      0.975]\n",
      "--------------------------------------------------------------------------------\n",
      "ar.L1.D.Rate     0.9386      0.101      9.293      0.000       0.741       1.137\n",
      "ar.L2.D.Rate    -0.1592      0.064     -2.470      0.014      -0.285      -0.033\n",
      "ma.L1.D.Rate    -0.8551      0.082    -10.373      0.000      -1.017      -0.693\n",
      "                                    Roots                                    \n",
      "=============================================================================\n",
      "                  Real          Imaginary           Modulus         Frequency\n",
      "-----------------------------------------------------------------------------\n",
      "AR.1            1.3959           +0.0000j            1.3959            0.0000\n",
      "AR.2            4.5011           +0.0000j            4.5011            0.0000\n",
      "MA.1            1.1695           +0.0000j            1.1695            0.0000\n",
      "-----------------------------------------------------------------------------\n"
     ]
    },
    {
     "name": "stderr",
     "output_type": "stream",
     "text": [
      "C:\\Users\\sm.woo\\Anaconda3\\lib\\site-packages\\statsmodels\\tsa\\base\\tsa_model.py:219: ValueWarning: A date index has been provided, but it has no associated frequency information and so will be ignored when e.g. forecasting.\n",
      "  ' ignored when e.g. forecasting.', ValueWarning)\n",
      "C:\\Users\\sm.woo\\Anaconda3\\lib\\site-packages\\statsmodels\\tsa\\base\\tsa_model.py:219: ValueWarning: A date index has been provided, but it has no associated frequency information and so will be ignored when e.g. forecasting.\n",
      "  ' ignored when e.g. forecasting.', ValueWarning)\n"
     ]
    }
   ],
   "source": [
    "model_4 = ARIMA(df_train, order=(2,1,1))\n",
    "model_4_fit = model_4.fit(trend='nc',full_output=True, disp=1)\n",
    "print(model_4_fit.summary())"
   ]
  },
  {
   "cell_type": "code",
   "execution_count": 9,
   "metadata": {},
   "outputs": [
    {
     "name": "stderr",
     "output_type": "stream",
     "text": [
      "C:\\Users\\sm.woo\\Anaconda3\\lib\\site-packages\\statsmodels\\tsa\\base\\tsa_model.py:219: ValueWarning: A date index has been provided, but it has no associated frequency information and so will be ignored when e.g. forecasting.\n",
      "  ' ignored when e.g. forecasting.', ValueWarning)\n",
      "C:\\Users\\sm.woo\\Anaconda3\\lib\\site-packages\\statsmodels\\tsa\\base\\tsa_model.py:219: ValueWarning: A date index has been provided, but it has no associated frequency information and so will be ignored when e.g. forecasting.\n",
      "  ' ignored when e.g. forecasting.', ValueWarning)\n"
     ]
    },
    {
     "name": "stdout",
     "output_type": "stream",
     "text": [
      "                             ARIMA Model Results                              \n",
      "==============================================================================\n",
      "Dep. Variable:                 D.Rate   No. Observations:                  244\n",
      "Model:                 ARIMA(2, 1, 2)   Log Likelihood                -710.011\n",
      "Method:                       css-mle   S.D. of innovations              4.435\n",
      "Date:                Fri, 07 Feb 2020   AIC                           1430.023\n",
      "Time:                        15:33:08   BIC                           1447.509\n",
      "Sample:                             1   HQIC                          1437.065\n",
      "                                                                              \n",
      "================================================================================\n",
      "                   coef    std err          z      P>|z|      [0.025      0.975]\n",
      "--------------------------------------------------------------------------------\n",
      "ar.L1.D.Rate     1.8456      0.049     37.912      0.000       1.750       1.941\n",
      "ar.L2.D.Rate    -0.9358      0.045    -20.902      0.000      -1.023      -0.848\n",
      "ma.L1.D.Rate    -1.8678      0.055    -33.715      0.000      -1.976      -1.759\n",
      "ma.L2.D.Rate     0.9343      0.055     17.036      0.000       0.827       1.042\n",
      "                                    Roots                                    \n",
      "=============================================================================\n",
      "                  Real          Imaginary           Modulus         Frequency\n",
      "-----------------------------------------------------------------------------\n",
      "AR.1            0.9861           -0.3102j            1.0338           -0.0485\n",
      "AR.2            0.9861           +0.3102j            1.0338            0.0485\n",
      "MA.1            0.9996           -0.2668j            1.0346           -0.0415\n",
      "MA.2            0.9996           +0.2668j            1.0346            0.0415\n",
      "-----------------------------------------------------------------------------\n"
     ]
    },
    {
     "name": "stderr",
     "output_type": "stream",
     "text": [
      "C:\\Users\\sm.woo\\Anaconda3\\lib\\site-packages\\statsmodels\\base\\model.py:512: ConvergenceWarning: Maximum Likelihood optimization failed to converge. Check mle_retvals\n",
      "  \"Check mle_retvals\", ConvergenceWarning)\n"
     ]
    }
   ],
   "source": [
    "model_5 = ARIMA(df_train, order=(2,1,2))\n",
    "model_5_fit = model_5.fit(trend='nc',full_output=True, disp=1)\n",
    "print(model_5_fit.summary())"
   ]
  },
  {
   "cell_type": "code",
   "execution_count": 10,
   "metadata": {},
   "outputs": [
    {
     "name": "stderr",
     "output_type": "stream",
     "text": [
      "C:\\Users\\sm.woo\\Anaconda3\\lib\\site-packages\\statsmodels\\tsa\\base\\tsa_model.py:219: ValueWarning: A date index has been provided, but it has no associated frequency information and so will be ignored when e.g. forecasting.\n",
      "  ' ignored when e.g. forecasting.', ValueWarning)\n",
      "C:\\Users\\sm.woo\\Anaconda3\\lib\\site-packages\\statsmodels\\tsa\\base\\tsa_model.py:219: ValueWarning: A date index has been provided, but it has no associated frequency information and so will be ignored when e.g. forecasting.\n",
      "  ' ignored when e.g. forecasting.', ValueWarning)\n"
     ]
    },
    {
     "name": "stdout",
     "output_type": "stream",
     "text": [
      "                             ARIMA Model Results                              \n",
      "==============================================================================\n",
      "Dep. Variable:                 D.Rate   No. Observations:                  244\n",
      "Model:                 ARIMA(2, 1, 2)   Log Likelihood                -709.607\n",
      "Method:                       css-mle   S.D. of innovations              4.427\n",
      "Date:                Fri, 07 Feb 2020   AIC                           1431.214\n",
      "Time:                        15:33:08   BIC                           1452.197\n",
      "Sample:                             1   HQIC                          1439.665\n",
      "                                                                              \n",
      "================================================================================\n",
      "                   coef    std err          z      P>|z|      [0.025      0.975]\n",
      "--------------------------------------------------------------------------------\n",
      "const            0.1872      0.207      0.904      0.367      -0.219       0.593\n",
      "ar.L1.D.Rate     1.8424      0.052     35.536      0.000       1.741       1.944\n",
      "ar.L2.D.Rate    -0.9333      0.048    -19.647      0.000      -1.026      -0.840\n",
      "ma.L1.D.Rate    -1.8647      0.059    -31.565      0.000      -1.980      -1.749\n",
      "ma.L2.D.Rate     0.9310      0.059     15.760      0.000       0.815       1.047\n",
      "                                    Roots                                    \n",
      "=============================================================================\n",
      "                  Real          Imaginary           Modulus         Frequency\n",
      "-----------------------------------------------------------------------------\n",
      "AR.1            0.9870           -0.3118j            1.0351           -0.0487\n",
      "AR.2            0.9870           +0.3118j            1.0351            0.0487\n",
      "MA.1            1.0015           -0.2669j            1.0364           -0.0415\n",
      "MA.2            1.0015           +0.2669j            1.0364            0.0415\n",
      "-----------------------------------------------------------------------------\n"
     ]
    }
   ],
   "source": [
    "model_6 = ARIMA(df_train, order=(2,1,2))\n",
    "model_6_fit = model_6.fit(trend='c',full_output=True, disp=1)\n",
    "print(model_6_fit.summary())"
   ]
  },
  {
   "cell_type": "code",
   "execution_count": 11,
   "metadata": {},
   "outputs": [
    {
     "name": "stderr",
     "output_type": "stream",
     "text": [
      "C:\\Users\\sm.woo\\Anaconda3\\lib\\site-packages\\statsmodels\\tsa\\base\\tsa_model.py:219: ValueWarning: A date index has been provided, but it has no associated frequency information and so will be ignored when e.g. forecasting.\n",
      "  ' ignored when e.g. forecasting.', ValueWarning)\n",
      "C:\\Users\\sm.woo\\Anaconda3\\lib\\site-packages\\statsmodels\\tsa\\base\\tsa_model.py:219: ValueWarning: A date index has been provided, but it has no associated frequency information and so will be ignored when e.g. forecasting.\n",
      "  ' ignored when e.g. forecasting.', ValueWarning)\n"
     ]
    },
    {
     "name": "stdout",
     "output_type": "stream",
     "text": [
      "                             ARIMA Model Results                              \n",
      "==============================================================================\n",
      "Dep. Variable:                 D.Rate   No. Observations:                  244\n",
      "Model:                 ARIMA(1, 1, 2)   Log Likelihood                -711.145\n",
      "Method:                       css-mle   S.D. of innovations              4.461\n",
      "Date:                Fri, 07 Feb 2020   AIC                           1432.289\n",
      "Time:                        15:33:09   BIC                           1449.775\n",
      "Sample:                             1   HQIC                          1439.331\n",
      "                                                                              \n",
      "================================================================================\n",
      "                   coef    std err          z      P>|z|      [0.025      0.975]\n",
      "--------------------------------------------------------------------------------\n",
      "const            0.1914      0.178      1.077      0.283      -0.157       0.540\n",
      "ar.L1.D.Rate     0.7770      0.117      6.657      0.000       0.548       1.006\n",
      "ma.L1.D.Rate    -0.6968      0.128     -5.452      0.000      -0.947      -0.446\n",
      "ma.L2.D.Rate    -0.1669      0.068     -2.465      0.014      -0.300      -0.034\n",
      "                                    Roots                                    \n",
      "=============================================================================\n",
      "                  Real          Imaginary           Modulus         Frequency\n",
      "-----------------------------------------------------------------------------\n",
      "AR.1            1.2870           +0.0000j            1.2870            0.0000\n",
      "MA.1            1.1295           +0.0000j            1.1295            0.0000\n",
      "MA.2           -5.3034           +0.0000j            5.3034            0.5000\n",
      "-----------------------------------------------------------------------------\n"
     ]
    }
   ],
   "source": [
    "model_7 = ARIMA(df_train, order=(1,1,2))\n",
    "model_7_fit = model_7.fit(trend='c',full_output=True, disp=1)\n",
    "print(model_7_fit.summary())"
   ]
  },
  {
   "cell_type": "code",
   "execution_count": 12,
   "metadata": {},
   "outputs": [
    {
     "name": "stdout",
     "output_type": "stream",
     "text": [
      "                             ARIMA Model Results                              \n",
      "==============================================================================\n",
      "Dep. Variable:                 D.Rate   No. Observations:                  244\n",
      "Model:                 ARIMA(1, 1, 2)   Log Likelihood                -711.677\n",
      "Method:                       css-mle   S.D. of innovations              4.471\n",
      "Date:                Fri, 07 Feb 2020   AIC                           1431.354\n",
      "Time:                        15:33:09   BIC                           1445.342\n",
      "Sample:                             1   HQIC                          1436.988\n",
      "                                                                              \n",
      "================================================================================\n",
      "                   coef    std err          z      P>|z|      [0.025      0.975]\n",
      "--------------------------------------------------------------------------------\n",
      "ar.L1.D.Rate     0.7627      0.117      6.509      0.000       0.533       0.992\n",
      "ma.L1.D.Rate    -0.6782      0.128     -5.290      0.000      -0.929      -0.427\n",
      "ma.L2.D.Rate    -0.1652      0.067     -2.469      0.014      -0.296      -0.034\n",
      "                                    Roots                                    \n",
      "=============================================================================\n",
      "                  Real          Imaginary           Modulus         Frequency\n",
      "-----------------------------------------------------------------------------\n",
      "AR.1            1.3112           +0.0000j            1.3112            0.0000\n",
      "MA.1            1.1515           +0.0000j            1.1515            0.0000\n",
      "MA.2           -5.2557           +0.0000j            5.2557            0.5000\n",
      "-----------------------------------------------------------------------------\n"
     ]
    },
    {
     "name": "stderr",
     "output_type": "stream",
     "text": [
      "C:\\Users\\sm.woo\\Anaconda3\\lib\\site-packages\\statsmodels\\tsa\\base\\tsa_model.py:219: ValueWarning: A date index has been provided, but it has no associated frequency information and so will be ignored when e.g. forecasting.\n",
      "  ' ignored when e.g. forecasting.', ValueWarning)\n",
      "C:\\Users\\sm.woo\\Anaconda3\\lib\\site-packages\\statsmodels\\tsa\\base\\tsa_model.py:219: ValueWarning: A date index has been provided, but it has no associated frequency information and so will be ignored when e.g. forecasting.\n",
      "  ' ignored when e.g. forecasting.', ValueWarning)\n"
     ]
    }
   ],
   "source": [
    "model_8 = ARIMA(df_train, order=(1,1,2))\n",
    "model_8_fit = model_8.fit(trend='nc',full_output=True, disp=1)\n",
    "print(model_8_fit.summary())"
   ]
  },
  {
   "cell_type": "code",
   "execution_count": 13,
   "metadata": {},
   "outputs": [
    {
     "name": "stderr",
     "output_type": "stream",
     "text": [
      "C:\\Users\\sm.woo\\Anaconda3\\lib\\site-packages\\statsmodels\\tsa\\base\\tsa_model.py:219: ValueWarning: A date index has been provided, but it has no associated frequency information and so will be ignored when e.g. forecasting.\n",
      "  ' ignored when e.g. forecasting.', ValueWarning)\n",
      "C:\\Users\\sm.woo\\Anaconda3\\lib\\site-packages\\statsmodels\\tsa\\base\\tsa_model.py:219: ValueWarning: A date index has been provided, but it has no associated frequency information and so will be ignored when e.g. forecasting.\n",
      "  ' ignored when e.g. forecasting.', ValueWarning)\n",
      "C:\\Users\\sm.woo\\Anaconda3\\lib\\site-packages\\statsmodels\\tsa\\tsatools.py:668: RuntimeWarning: invalid value encountered in true_divide\n",
      "  newparams = ((1-np.exp(-params))/(1+np.exp(-params))).copy()\n",
      "C:\\Users\\sm.woo\\Anaconda3\\lib\\site-packages\\statsmodels\\tsa\\tsatools.py:669: RuntimeWarning: invalid value encountered in true_divide\n",
      "  tmp = ((1-np.exp(-params))/(1+np.exp(-params))).copy()\n"
     ]
    },
    {
     "name": "stdout",
     "output_type": "stream",
     "text": [
      "                             ARIMA Model Results                              \n",
      "==============================================================================\n",
      "Dep. Variable:                 D.Rate   No. Observations:                  244\n",
      "Model:                 ARIMA(4, 1, 3)   Log Likelihood                -710.157\n",
      "Method:                       css-mle   S.D. of innovations              4.417\n",
      "Date:                Fri, 07 Feb 2020   AIC                           1436.314\n",
      "Time:                        15:33:11   BIC                           1464.291\n",
      "Sample:                             1   HQIC                          1447.582\n",
      "                                                                              \n",
      "================================================================================\n",
      "                   coef    std err          z      P>|z|      [0.025      0.975]\n",
      "--------------------------------------------------------------------------------\n",
      "ar.L1.D.Rate     0.4536      0.101      4.484      0.000       0.255       0.652\n",
      "ar.L2.D.Rate    -0.6905      0.066    -10.397      0.000      -0.821      -0.560\n",
      "ar.L3.D.Rate     0.8661      0.094      9.248      0.000       0.683       1.050\n",
      "ar.L4.D.Rate    -0.1748      0.066     -2.651      0.009      -0.304      -0.046\n",
      "ma.L1.D.Rate    -0.3618      0.084     -4.325      0.000      -0.526      -0.198\n",
      "ma.L2.D.Rate     0.5788      0.050     11.686      0.000       0.482       0.676\n",
      "ma.L3.D.Rate    -0.8544      0.085    -10.056      0.000      -1.021      -0.688\n",
      "                                    Roots                                    \n",
      "=============================================================================\n",
      "                  Real          Imaginary           Modulus         Frequency\n",
      "-----------------------------------------------------------------------------\n",
      "AR.1           -0.2525           -0.9691j            1.0014           -0.2906\n",
      "AR.2           -0.2525           +0.9691j            1.0014            0.2906\n",
      "AR.3            1.4079           -0.0000j            1.4079           -0.0000\n",
      "AR.4            4.0514           -0.0000j            4.0514           -0.0000\n",
      "MA.1           -0.2464           -0.9692j            1.0001           -0.2896\n",
      "MA.2           -0.2464           +0.9692j            1.0001            0.2896\n",
      "MA.3            1.1703           -0.0000j            1.1703           -0.0000\n",
      "-----------------------------------------------------------------------------\n"
     ]
    }
   ],
   "source": [
    "model_9 = ARIMA(df_train, order=(4,1,3))\n",
    "model_9_fit = model_9.fit(trend='nc',full_output=True, disp=1)\n",
    "print(model_9_fit.summary())"
   ]
  },
  {
   "cell_type": "code",
   "execution_count": 14,
   "metadata": {},
   "outputs": [
    {
     "name": "stderr",
     "output_type": "stream",
     "text": [
      "C:\\Users\\sm.woo\\Anaconda3\\lib\\site-packages\\statsmodels\\tsa\\base\\tsa_model.py:219: ValueWarning: A date index has been provided, but it has no associated frequency information and so will be ignored when e.g. forecasting.\n",
      "  ' ignored when e.g. forecasting.', ValueWarning)\n",
      "C:\\Users\\sm.woo\\Anaconda3\\lib\\site-packages\\statsmodels\\tsa\\base\\tsa_model.py:219: ValueWarning: A date index has been provided, but it has no associated frequency information and so will be ignored when e.g. forecasting.\n",
      "  ' ignored when e.g. forecasting.', ValueWarning)\n"
     ]
    },
    {
     "name": "stdout",
     "output_type": "stream",
     "text": [
      "                             ARIMA Model Results                              \n",
      "==============================================================================\n",
      "Dep. Variable:                 D.Rate   No. Observations:                  244\n",
      "Model:                 ARIMA(4, 1, 3)   Log Likelihood                -709.629\n",
      "Method:                       css-mle   S.D. of innovations              4.408\n",
      "Date:                Fri, 07 Feb 2020   AIC                           1437.259\n",
      "Time:                        15:33:14   BIC                           1468.733\n",
      "Sample:                             1   HQIC                          1449.935\n",
      "                                                                              \n",
      "================================================================================\n",
      "                   coef    std err          z      P>|z|      [0.025      0.975]\n",
      "--------------------------------------------------------------------------------\n",
      "const            0.1901      0.178      1.066      0.288      -0.159       0.540\n",
      "ar.L1.D.Rate     0.4653      0.099      4.701      0.000       0.271       0.659\n",
      "ar.L2.D.Rate    -0.6855      0.067    -10.268      0.000      -0.816      -0.555\n",
      "ar.L3.D.Rate     0.8774      0.092      9.538      0.000       0.697       1.058\n",
      "ar.L4.D.Rate    -0.1756      0.066     -2.649      0.009      -0.306      -0.046\n",
      "ma.L1.D.Rate    -0.3780      0.081     -4.654      0.000      -0.537      -0.219\n",
      "ma.L2.D.Rate     0.5708      0.049     11.687      0.000       0.475       0.666\n",
      "ma.L3.D.Rate    -0.8706      0.083    -10.515      0.000      -1.033      -0.708\n",
      "                                    Roots                                    \n",
      "=============================================================================\n",
      "                  Real          Imaginary           Modulus         Frequency\n",
      "-----------------------------------------------------------------------------\n",
      "AR.1           -0.2525           -0.9691j            1.0014           -0.2906\n",
      "AR.2           -0.2525           +0.9691j            1.0014            0.2906\n",
      "AR.3            1.3769           -0.0000j            1.3769           -0.0000\n",
      "AR.4            4.1232           -0.0000j            4.1232           -0.0000\n",
      "MA.1           -0.2464           -0.9693j            1.0001           -0.2896\n",
      "MA.2           -0.2464           +0.9693j            1.0001            0.2896\n",
      "MA.3            1.1485           -0.0000j            1.1485           -0.0000\n",
      "-----------------------------------------------------------------------------\n"
     ]
    }
   ],
   "source": [
    "model_10 = ARIMA(df_train, order=(4,1,3))\n",
    "model_10_fit = model_10.fit(trend='c',full_output=True, disp=1)\n",
    "print(model_10_fit.summary())"
   ]
  },
  {
   "cell_type": "code",
   "execution_count": 15,
   "metadata": {},
   "outputs": [
    {
     "name": "stderr",
     "output_type": "stream",
     "text": [
      "C:\\Users\\sm.woo\\Anaconda3\\lib\\site-packages\\statsmodels\\tsa\\base\\tsa_model.py:219: ValueWarning: A date index has been provided, but it has no associated frequency information and so will be ignored when e.g. forecasting.\n",
      "  ' ignored when e.g. forecasting.', ValueWarning)\n",
      "C:\\Users\\sm.woo\\Anaconda3\\lib\\site-packages\\statsmodels\\tsa\\base\\tsa_model.py:219: ValueWarning: A date index has been provided, but it has no associated frequency information and so will be ignored when e.g. forecasting.\n",
      "  ' ignored when e.g. forecasting.', ValueWarning)\n",
      "C:\\Users\\sm.woo\\Anaconda3\\lib\\site-packages\\statsmodels\\base\\model.py:492: HessianInversionWarning: Inverting hessian failed, no bse or cov_params available\n",
      "  'available', HessianInversionWarning)\n"
     ]
    },
    {
     "name": "stdout",
     "output_type": "stream",
     "text": [
      "                             ARIMA Model Results                              \n",
      "==============================================================================\n",
      "Dep. Variable:                 D.Rate   No. Observations:                  244\n",
      "Model:                 ARIMA(4, 1, 4)   Log Likelihood                -707.935\n",
      "Method:                       css-mle   S.D. of innovations              4.370\n",
      "Date:                Fri, 07 Feb 2020   AIC                           1433.870\n",
      "Time:                        15:33:16   BIC                           1465.344\n",
      "Sample:                             1   HQIC                          1446.546\n",
      "                                                                              \n",
      "================================================================================\n",
      "                   coef    std err          z      P>|z|      [0.025      0.975]\n",
      "--------------------------------------------------------------------------------\n",
      "ar.L1.D.Rate     1.3042      0.056     23.224      0.000       1.194       1.414\n",
      "ar.L2.D.Rate    -0.9066      0.068    -13.251      0.000      -1.041      -0.773\n",
      "ar.L3.D.Rate     1.2852      0.064     20.054      0.000       1.160       1.411\n",
      "ar.L4.D.Rate    -0.9072      0.050    -18.257      0.000      -1.005      -0.810\n",
      "ma.L1.D.Rate    -1.2933      0.057    -22.611      0.000      -1.405      -1.181\n",
      "ma.L2.D.Rate     0.8570      0.047     18.224      0.000       0.765       0.949\n",
      "ma.L3.D.Rate    -1.3300      0.045    -29.434      0.000      -1.419      -1.241\n",
      "ma.L4.D.Rate     0.9364      0.056     16.708      0.000       0.827       1.046\n",
      "                                    Roots                                    \n",
      "=============================================================================\n",
      "                  Real          Imaginary           Modulus         Frequency\n",
      "-----------------------------------------------------------------------------\n",
      "AR.1           -0.2788           -0.9760j            1.0151           -0.2943\n",
      "AR.2           -0.2788           +0.9760j            1.0151            0.2943\n",
      "AR.3            0.9871           -0.3089j            1.0343           -0.0483\n",
      "AR.4            0.9871           +0.3089j            1.0343            0.0483\n",
      "MA.1           -0.2885           -0.9575j            1.0000           -0.2966\n",
      "MA.2           -0.2885           +0.9575j            1.0000            0.2966\n",
      "MA.3            0.9987           -0.2655j            1.0334           -0.0414\n",
      "MA.4            0.9987           +0.2655j            1.0334            0.0414\n",
      "-----------------------------------------------------------------------------\n"
     ]
    }
   ],
   "source": [
    "model_11 = ARIMA(df_train, order=(4,1,4))\n",
    "model_11_fit = model_11.fit(trend='nc',full_output=True, disp=1)\n",
    "print(model_11_fit.summary())"
   ]
  },
  {
   "cell_type": "code",
   "execution_count": 16,
   "metadata": {},
   "outputs": [
    {
     "name": "stderr",
     "output_type": "stream",
     "text": [
      "C:\\Users\\sm.woo\\Anaconda3\\lib\\site-packages\\statsmodels\\tsa\\base\\tsa_model.py:219: ValueWarning: A date index has been provided, but it has no associated frequency information and so will be ignored when e.g. forecasting.\n",
      "  ' ignored when e.g. forecasting.', ValueWarning)\n",
      "C:\\Users\\sm.woo\\Anaconda3\\lib\\site-packages\\statsmodels\\tsa\\base\\tsa_model.py:219: ValueWarning: A date index has been provided, but it has no associated frequency information and so will be ignored when e.g. forecasting.\n",
      "  ' ignored when e.g. forecasting.', ValueWarning)\n"
     ]
    },
    {
     "name": "stdout",
     "output_type": "stream",
     "text": [
      "                             ARIMA Model Results                              \n",
      "==============================================================================\n",
      "Dep. Variable:                 D.Rate   No. Observations:                  244\n",
      "Model:                 ARIMA(4, 1, 4)   Log Likelihood                -707.532\n",
      "Method:                       css-mle   S.D. of innovations              4.363\n",
      "Date:                Fri, 07 Feb 2020   AIC                           1435.065\n",
      "Time:                        15:33:18   BIC                           1470.037\n",
      "Sample:                             1   HQIC                          1449.150\n",
      "                                                                              \n",
      "================================================================================\n",
      "                   coef    std err          z      P>|z|      [0.025      0.975]\n",
      "--------------------------------------------------------------------------------\n",
      "const            0.1892      0.210      0.901      0.368      -0.222       0.601\n",
      "ar.L1.D.Rate     1.3014      0.058     22.258      0.000       1.187       1.416\n",
      "ar.L2.D.Rate    -0.9067      0.069    -13.213      0.000      -1.041      -0.772\n",
      "ar.L3.D.Rate     1.2843      0.064     19.930      0.000       1.158       1.411\n",
      "ar.L4.D.Rate    -0.9053      0.052    -17.527      0.000      -1.007      -0.804\n",
      "ma.L1.D.Rate    -1.2906      0.060    -21.531      0.000      -1.408      -1.173\n",
      "ma.L2.D.Rate     0.8562      0.048     17.854      0.000       0.762       0.950\n",
      "ma.L3.D.Rate    -1.3291      0.045    -29.233      0.000      -1.418      -1.240\n",
      "ma.L4.D.Rate     0.9333      0.059     15.732      0.000       0.817       1.050\n",
      "                                    Roots                                    \n",
      "=============================================================================\n",
      "                  Real          Imaginary           Modulus         Frequency\n",
      "-----------------------------------------------------------------------------\n",
      "AR.1           -0.2786           -0.9759j            1.0149           -0.2943\n",
      "AR.2           -0.2786           +0.9759j            1.0149            0.2943\n",
      "AR.3            0.9879           -0.3105j            1.0356           -0.0485\n",
      "AR.4            0.9879           +0.3105j            1.0356            0.0485\n",
      "MA.1           -0.2884           -0.9575j            1.0000           -0.2966\n",
      "MA.2           -0.2884           +0.9575j            1.0000            0.2966\n",
      "MA.3            1.0005           -0.2657j            1.0351           -0.0413\n",
      "MA.4            1.0005           +0.2657j            1.0351            0.0413\n",
      "-----------------------------------------------------------------------------\n"
     ]
    },
    {
     "name": "stderr",
     "output_type": "stream",
     "text": [
      "C:\\Users\\sm.woo\\Anaconda3\\lib\\site-packages\\statsmodels\\base\\model.py:492: HessianInversionWarning: Inverting hessian failed, no bse or cov_params available\n",
      "  'available', HessianInversionWarning)\n"
     ]
    }
   ],
   "source": [
    "model_12 = ARIMA(df_train, order=(4,1,4))\n",
    "model_12_fit = model_12.fit(trend='c',full_output=True, disp=1)\n",
    "print(model_12_fit.summary())"
   ]
  },
  {
   "cell_type": "code",
   "execution_count": 17,
   "metadata": {},
   "outputs": [
    {
     "name": "stderr",
     "output_type": "stream",
     "text": [
      "C:\\Users\\sm.woo\\Anaconda3\\lib\\site-packages\\statsmodels\\tsa\\base\\tsa_model.py:219: ValueWarning: A date index has been provided, but it has no associated frequency information and so will be ignored when e.g. forecasting.\n",
      "  ' ignored when e.g. forecasting.', ValueWarning)\n",
      "C:\\Users\\sm.woo\\Anaconda3\\lib\\site-packages\\statsmodels\\tsa\\base\\tsa_model.py:219: ValueWarning: A date index has been provided, but it has no associated frequency information and so will be ignored when e.g. forecasting.\n",
      "  ' ignored when e.g. forecasting.', ValueWarning)\n"
     ]
    },
    {
     "name": "stdout",
     "output_type": "stream",
     "text": [
      "                             ARIMA Model Results                              \n",
      "==============================================================================\n",
      "Dep. Variable:                 D.Rate   No. Observations:                  244\n",
      "Model:                 ARIMA(5, 1, 4)   Log Likelihood                -706.241\n",
      "Method:                       css-mle   S.D. of innovations              4.357\n",
      "Date:                Fri, 07 Feb 2020   AIC                           1434.483\n",
      "Time:                        15:33:21   BIC                           1472.951\n",
      "Sample:                             1   HQIC                          1449.976\n",
      "                                                                              \n",
      "================================================================================\n",
      "                   coef    std err          z      P>|z|      [0.025      0.975]\n",
      "--------------------------------------------------------------------------------\n",
      "const            0.1875      0.221      0.847      0.398      -0.246       0.621\n",
      "ar.L1.D.Rate     0.3576      0.101      3.543      0.000       0.160       0.555\n",
      "ar.L2.D.Rate     0.9379      0.097      9.677      0.000       0.748       1.128\n",
      "ar.L3.D.Rate     0.2629      0.076      3.458      0.001       0.114       0.412\n",
      "ar.L4.D.Rate    -0.9039      0.061    -14.848      0.000      -1.023      -0.785\n",
      "ar.L5.D.Rate     0.0602      0.070      0.865      0.388      -0.076       0.197\n",
      "ma.L1.D.Rate    -0.2837      0.087     -3.268      0.001      -0.454      -0.114\n",
      "ma.L2.D.Rate    -1.0611      0.083    -12.844      0.000      -1.223      -0.899\n",
      "ma.L3.D.Rate    -0.3505      0.059     -5.922      0.000      -0.467      -0.235\n",
      "ma.L4.D.Rate     0.9215      0.074     12.486      0.000       0.777       1.066\n",
      "                                    Roots                                    \n",
      "=============================================================================\n",
      "                  Real          Imaginary           Modulus         Frequency\n",
      "-----------------------------------------------------------------------------\n",
      "AR.1           -0.8085           -0.6266j            1.0229           -0.3951\n",
      "AR.2           -0.8085           +0.6266j            1.0229            0.3951\n",
      "AR.3            0.9947           -0.3079j            1.0413           -0.0478\n",
      "AR.4            0.9947           +0.3079j            1.0413            0.0478\n",
      "AR.5           14.6489           -0.0000j           14.6489           -0.0000\n",
      "MA.1           -0.8093           -0.6022j            1.0087           -0.3982\n",
      "MA.2           -0.8093           +0.6022j            1.0087            0.3982\n",
      "MA.3            0.9995           -0.2598j            1.0327           -0.0405\n",
      "MA.4            0.9995           +0.2598j            1.0327            0.0405\n",
      "-----------------------------------------------------------------------------\n"
     ]
    }
   ],
   "source": [
    "model_13 = ARIMA(df_train, order=(5,1,4))\n",
    "model_13_fit = model_13.fit(trend='c',full_output=True, disp=1)\n",
    "print(model_13_fit.summary())"
   ]
  },
  {
   "cell_type": "code",
   "execution_count": 18,
   "metadata": {},
   "outputs": [
    {
     "name": "stderr",
     "output_type": "stream",
     "text": [
      "C:\\Users\\sm.woo\\Anaconda3\\lib\\site-packages\\statsmodels\\tsa\\base\\tsa_model.py:219: ValueWarning: A date index has been provided, but it has no associated frequency information and so will be ignored when e.g. forecasting.\n",
      "  ' ignored when e.g. forecasting.', ValueWarning)\n",
      "C:\\Users\\sm.woo\\Anaconda3\\lib\\site-packages\\statsmodels\\tsa\\base\\tsa_model.py:219: ValueWarning: A date index has been provided, but it has no associated frequency information and so will be ignored when e.g. forecasting.\n",
      "  ' ignored when e.g. forecasting.', ValueWarning)\n"
     ]
    },
    {
     "name": "stdout",
     "output_type": "stream",
     "text": [
      "                             ARIMA Model Results                              \n",
      "==============================================================================\n",
      "Dep. Variable:                 D.Rate   No. Observations:                  244\n",
      "Model:                 ARIMA(5, 1, 4)   Log Likelihood                -706.775\n",
      "Method:                       css-mle   S.D. of innovations              4.375\n",
      "Date:                Fri, 07 Feb 2020   AIC                           1433.551\n",
      "Time:                        15:33:23   BIC                           1468.523\n",
      "Sample:                             1   HQIC                          1447.636\n",
      "                                                                              \n",
      "================================================================================\n",
      "                   coef    std err          z      P>|z|      [0.025      0.975]\n",
      "--------------------------------------------------------------------------------\n",
      "ar.L1.D.Rate     0.2594      0.200      1.300      0.195      -0.132       0.650\n",
      "ar.L2.D.Rate     1.2241      0.273      4.480      0.000       0.689       1.760\n",
      "ar.L3.D.Rate    -0.0613      0.130     -0.473      0.636      -0.315       0.193\n",
      "ar.L4.D.Rate    -0.7176      0.164     -4.382      0.000      -1.039      -0.397\n",
      "ar.L5.D.Rate     0.0042      0.083      0.051      0.960      -0.158       0.166\n",
      "ma.L1.D.Rate    -0.1851      0.189     -0.977      0.329      -0.556       0.186\n",
      "ma.L2.D.Rate    -1.3642      0.223     -6.107      0.000      -1.802      -0.926\n",
      "ma.L3.D.Rate    -0.0404      0.114     -0.354      0.724      -0.264       0.183\n",
      "ma.L4.D.Rate     0.8189      0.137      5.997      0.000       0.551       1.086\n",
      "                                    Roots                                    \n",
      "=============================================================================\n",
      "                  Real          Imaginary           Modulus         Frequency\n",
      "-----------------------------------------------------------------------------\n",
      "AR.1           -1.0287           -0.4864j            1.1379           -0.4297\n",
      "AR.2           -1.0287           +0.4864j            1.1379            0.4297\n",
      "AR.3            0.9910           -0.3061j            1.0372           -0.0477\n",
      "AR.4            0.9910           +0.3061j            1.0372            0.0477\n",
      "AR.5          171.4668           -0.0000j          171.4668           -0.0000\n",
      "MA.1           -0.9724           -0.4517j            1.0722           -0.4308\n",
      "MA.2           -0.9724           +0.4517j            1.0722            0.4308\n",
      "MA.3            0.9970           -0.2614j            1.0307           -0.0408\n",
      "MA.4            0.9970           +0.2614j            1.0307            0.0408\n",
      "-----------------------------------------------------------------------------\n"
     ]
    }
   ],
   "source": [
    "model_14 = ARIMA(df_train, order=(5,1,4))\n",
    "model_14_fit = model_14.fit(trend='nc',full_output=True, disp=1)\n",
    "print(model_14_fit.summary())"
   ]
  },
  {
   "cell_type": "code",
   "execution_count": 19,
   "metadata": {},
   "outputs": [
    {
     "name": "stderr",
     "output_type": "stream",
     "text": [
      "C:\\Users\\sm.woo\\Anaconda3\\lib\\site-packages\\statsmodels\\tsa\\base\\tsa_model.py:219: ValueWarning: A date index has been provided, but it has no associated frequency information and so will be ignored when e.g. forecasting.\n",
      "  ' ignored when e.g. forecasting.', ValueWarning)\n",
      "C:\\Users\\sm.woo\\Anaconda3\\lib\\site-packages\\statsmodels\\tsa\\base\\tsa_model.py:219: ValueWarning: A date index has been provided, but it has no associated frequency information and so will be ignored when e.g. forecasting.\n",
      "  ' ignored when e.g. forecasting.', ValueWarning)\n"
     ]
    },
    {
     "name": "stdout",
     "output_type": "stream",
     "text": [
      "                             ARIMA Model Results                              \n",
      "==============================================================================\n",
      "Dep. Variable:                 D.Rate   No. Observations:                  244\n",
      "Model:                 ARIMA(5, 1, 3)   Log Likelihood                -708.931\n",
      "Method:                       css-mle   S.D. of innovations              4.419\n",
      "Date:                Fri, 07 Feb 2020   AIC                           1435.862\n",
      "Time:                        15:33:24   BIC                           1467.337\n",
      "Sample:                             1   HQIC                          1448.539\n",
      "                                                                              \n",
      "================================================================================\n",
      "                   coef    std err          z      P>|z|      [0.025      0.975]\n",
      "--------------------------------------------------------------------------------\n",
      "ar.L1.D.Rate    -0.5212      0.274     -1.900      0.059      -1.059       0.016\n",
      "ar.L2.D.Rate     0.4462      0.196      2.278      0.024       0.062       0.830\n",
      "ar.L3.D.Rate     0.4255      0.181      2.356      0.019       0.071       0.780\n",
      "ar.L4.D.Rate    -0.1178      0.083     -1.427      0.155      -0.280       0.044\n",
      "ar.L5.D.Rate    -0.1255      0.073     -1.712      0.088      -0.269       0.018\n",
      "ma.L1.D.Rate     0.6161      0.273      2.253      0.025       0.080       1.152\n",
      "ma.L2.D.Rate    -0.4871      0.185     -2.635      0.009      -0.849      -0.125\n",
      "ma.L3.D.Rate    -0.5405      0.203     -2.659      0.008      -0.939      -0.142\n",
      "                                    Roots                                    \n",
      "=============================================================================\n",
      "                  Real          Imaginary           Modulus         Frequency\n",
      "-----------------------------------------------------------------------------\n",
      "AR.1            1.4703           -0.5468j            1.5687           -0.0567\n",
      "AR.2            1.4703           +0.5468j            1.5687            0.0567\n",
      "AR.3           -1.0502           -0.8467j            1.3490           -0.3920\n",
      "AR.4           -1.0502           +0.8467j            1.3490            0.3920\n",
      "AR.5           -1.7794           -0.0000j            1.7794           -0.5000\n",
      "MA.1            1.2349           -0.0000j            1.2349           -0.0000\n",
      "MA.2           -1.0680           -0.5978j            1.2239           -0.4188\n",
      "MA.3           -1.0680           +0.5978j            1.2239            0.4188\n",
      "-----------------------------------------------------------------------------\n"
     ]
    }
   ],
   "source": [
    "model_15 = ARIMA(df_train, order=(5,1,3))\n",
    "model_15_fit = model_15.fit(trend='nc',full_output=True, disp=1)\n",
    "print(model_15_fit.summary())"
   ]
  },
  {
   "cell_type": "code",
   "execution_count": 20,
   "metadata": {},
   "outputs": [
    {
     "name": "stderr",
     "output_type": "stream",
     "text": [
      "C:\\Users\\sm.woo\\Anaconda3\\lib\\site-packages\\statsmodels\\tsa\\base\\tsa_model.py:219: ValueWarning: A date index has been provided, but it has no associated frequency information and so will be ignored when e.g. forecasting.\n",
      "  ' ignored when e.g. forecasting.', ValueWarning)\n",
      "C:\\Users\\sm.woo\\Anaconda3\\lib\\site-packages\\statsmodels\\tsa\\base\\tsa_model.py:219: ValueWarning: A date index has been provided, but it has no associated frequency information and so will be ignored when e.g. forecasting.\n",
      "  ' ignored when e.g. forecasting.', ValueWarning)\n"
     ]
    },
    {
     "name": "stdout",
     "output_type": "stream",
     "text": [
      "                             ARIMA Model Results                              \n",
      "==============================================================================\n",
      "Dep. Variable:                 D.Rate   No. Observations:                  244\n",
      "Model:                 ARIMA(5, 1, 3)   Log Likelihood                -708.415\n",
      "Method:                       css-mle   S.D. of innovations              4.410\n",
      "Date:                Fri, 07 Feb 2020   AIC                           1436.831\n",
      "Time:                        15:33:25   BIC                           1471.802\n",
      "Sample:                             1   HQIC                          1450.915\n",
      "                                                                              \n",
      "================================================================================\n",
      "                   coef    std err          z      P>|z|      [0.025      0.975]\n",
      "--------------------------------------------------------------------------------\n",
      "const            0.1870      0.179      1.044      0.298      -0.164       0.538\n",
      "ar.L1.D.Rate    -0.5100      0.274     -1.864      0.064      -1.046       0.026\n",
      "ar.L2.D.Rate     0.4625      0.192      2.411      0.017       0.086       0.839\n",
      "ar.L3.D.Rate     0.4327      0.181      2.388      0.018       0.078       0.788\n",
      "ar.L4.D.Rate    -0.1181      0.083     -1.426      0.155      -0.280       0.044\n",
      "ar.L5.D.Rate    -0.1256      0.074     -1.705      0.089      -0.270       0.019\n",
      "ma.L1.D.Rate     0.6007      0.273      2.201      0.029       0.066       1.135\n",
      "ma.L2.D.Rate    -0.5109      0.180     -2.844      0.005      -0.863      -0.159\n",
      "ma.L3.D.Rate    -0.5521      0.205     -2.690      0.008      -0.954      -0.150\n",
      "                                    Roots                                    \n",
      "=============================================================================\n",
      "                  Real          Imaginary           Modulus         Frequency\n",
      "-----------------------------------------------------------------------------\n",
      "AR.1            1.4745           -0.5224j            1.5643           -0.0542\n",
      "AR.2            1.4745           +0.5224j            1.5643            0.0542\n",
      "AR.3           -1.0522           -0.8456j            1.3499           -0.3923\n",
      "AR.4           -1.0522           +0.8456j            1.3499            0.3923\n",
      "AR.5           -1.7848           -0.0000j            1.7848           -0.5000\n",
      "MA.1            1.2102           -0.0000j            1.2102           -0.0000\n",
      "MA.2           -1.0678           -0.5970j            1.2234           -0.4189\n",
      "MA.3           -1.0678           +0.5970j            1.2234            0.4189\n",
      "-----------------------------------------------------------------------------\n"
     ]
    }
   ],
   "source": [
    "model_16 = ARIMA(df_train, order=(5,1,3))\n",
    "model_16_fit = model_16.fit(trend='c',full_output=True, disp=1)\n",
    "print(model_16_fit.summary())"
   ]
  },
  {
   "cell_type": "code",
   "execution_count": 21,
   "metadata": {},
   "outputs": [
    {
     "name": "stderr",
     "output_type": "stream",
     "text": [
      "C:\\Users\\sm.woo\\Anaconda3\\lib\\site-packages\\statsmodels\\tsa\\base\\tsa_model.py:219: ValueWarning: A date index has been provided, but it has no associated frequency information and so will be ignored when e.g. forecasting.\n",
      "  ' ignored when e.g. forecasting.', ValueWarning)\n",
      "C:\\Users\\sm.woo\\Anaconda3\\lib\\site-packages\\statsmodels\\tsa\\base\\tsa_model.py:219: ValueWarning: A date index has been provided, but it has no associated frequency information and so will be ignored when e.g. forecasting.\n",
      "  ' ignored when e.g. forecasting.', ValueWarning)\n"
     ]
    },
    {
     "name": "stdout",
     "output_type": "stream",
     "text": [
      "                             ARIMA Model Results                              \n",
      "==============================================================================\n",
      "Dep. Variable:                 D.Rate   No. Observations:                  244\n",
      "Model:                 ARIMA(5, 1, 2)   Log Likelihood                -710.360\n",
      "Method:                       css-mle   S.D. of innovations              4.446\n",
      "Date:                Fri, 07 Feb 2020   AIC                           1438.720\n",
      "Time:                        15:33:26   BIC                           1470.194\n",
      "Sample:                             1   HQIC                          1451.396\n",
      "                                                                              \n",
      "================================================================================\n",
      "                   coef    std err          z      P>|z|      [0.025      0.975]\n",
      "--------------------------------------------------------------------------------\n",
      "const            0.1877      0.265      0.707      0.480      -0.332       0.708\n",
      "ar.L1.D.Rate    -0.9334      0.466     -2.001      0.047      -1.848      -0.019\n",
      "ar.L2.D.Rate    -0.3354      0.396     -0.846      0.398      -1.112       0.442\n",
      "ar.L3.D.Rate    -0.0448      0.092     -0.486      0.627      -0.225       0.136\n",
      "ar.L4.D.Rate    -0.1218      0.092     -1.330      0.185      -0.301       0.058\n",
      "ar.L5.D.Rate    -0.1513      0.071     -2.131      0.034      -0.290      -0.012\n",
      "ma.L1.D.Rate     1.0420      0.473      2.202      0.029       0.114       1.970\n",
      "ma.L2.D.Rate     0.3653      0.441      0.828      0.409      -0.500       1.230\n",
      "                                    Roots                                    \n",
      "=============================================================================\n",
      "                  Real          Imaginary           Modulus         Frequency\n",
      "-----------------------------------------------------------------------------\n",
      "AR.1            1.0888           -1.2883j            1.6868           -0.1383\n",
      "AR.2            1.0888           +1.2883j            1.6868            0.1383\n",
      "AR.3           -0.8270           -1.0316j            1.3222           -0.3575\n",
      "AR.4           -0.8270           +1.0316j            1.3222            0.3575\n",
      "AR.5           -1.3287           -0.0000j            1.3287           -0.5000\n",
      "MA.1           -1.4260           -0.8388j            1.6544           -0.4154\n",
      "MA.2           -1.4260           +0.8388j            1.6544            0.4154\n",
      "-----------------------------------------------------------------------------\n"
     ]
    }
   ],
   "source": [
    "model_17 = ARIMA(df_train, order=(5,1,2))\n",
    "model_17_fit = model_17.fit(trend='c',full_output=True, disp=1)\n",
    "print(model_17_fit.summary())"
   ]
  },
  {
   "cell_type": "code",
   "execution_count": 22,
   "metadata": {},
   "outputs": [
    {
     "name": "stderr",
     "output_type": "stream",
     "text": [
      "C:\\Users\\sm.woo\\Anaconda3\\lib\\site-packages\\statsmodels\\tsa\\base\\tsa_model.py:219: ValueWarning: A date index has been provided, but it has no associated frequency information and so will be ignored when e.g. forecasting.\n",
      "  ' ignored when e.g. forecasting.', ValueWarning)\n",
      "C:\\Users\\sm.woo\\Anaconda3\\lib\\site-packages\\statsmodels\\tsa\\base\\tsa_model.py:219: ValueWarning: A date index has been provided, but it has no associated frequency information and so will be ignored when e.g. forecasting.\n",
      "  ' ignored when e.g. forecasting.', ValueWarning)\n"
     ]
    },
    {
     "name": "stdout",
     "output_type": "stream",
     "text": [
      "                             ARIMA Model Results                              \n",
      "==============================================================================\n",
      "Dep. Variable:                 D.Rate   No. Observations:                  244\n",
      "Model:                 ARIMA(5, 1, 2)   Log Likelihood                -710.608\n",
      "Method:                       css-mle   S.D. of innovations              4.451\n",
      "Date:                Fri, 07 Feb 2020   AIC                           1437.216\n",
      "Time:                        15:33:27   BIC                           1465.194\n",
      "Sample:                             1   HQIC                          1448.484\n",
      "                                                                              \n",
      "================================================================================\n",
      "                   coef    std err          z      P>|z|      [0.025      0.975]\n",
      "--------------------------------------------------------------------------------\n",
      "ar.L1.D.Rate    -0.9454      0.456     -2.072      0.039      -1.840      -0.051\n",
      "ar.L2.D.Rate    -0.3433      0.385     -0.892      0.373      -1.097       0.411\n",
      "ar.L3.D.Rate    -0.0410      0.093     -0.442      0.659      -0.223       0.141\n",
      "ar.L4.D.Rate    -0.1193      0.092     -1.297      0.196      -0.300       0.061\n",
      "ar.L5.D.Rate    -0.1491      0.071     -2.087      0.038      -0.289      -0.009\n",
      "ma.L1.D.Rate     1.0561      0.462      2.284      0.023       0.150       1.962\n",
      "ma.L2.D.Rate     0.3783      0.428      0.883      0.378      -0.461       1.218\n",
      "                                    Roots                                    \n",
      "=============================================================================\n",
      "                  Real          Imaginary           Modulus         Frequency\n",
      "-----------------------------------------------------------------------------\n",
      "AR.1            1.0970           -1.2992j            1.7004           -0.1384\n",
      "AR.2            1.0970           +1.2992j            1.7004            0.1384\n",
      "AR.3           -0.8301           -1.0245j            1.3186           -0.3584\n",
      "AR.4           -0.8301           +1.0245j            1.3186            0.3584\n",
      "AR.5           -1.3344           -0.0000j            1.3344           -0.5000\n",
      "MA.1           -1.3958           -0.8337j            1.6258           -0.4143\n",
      "MA.2           -1.3958           +0.8337j            1.6258            0.4143\n",
      "-----------------------------------------------------------------------------\n"
     ]
    }
   ],
   "source": [
    "model_18 = ARIMA(df_train, order=(5,1,2))\n",
    "model_18_fit = model_18.fit(trend='nc',full_output=True, disp=1)\n",
    "print(model_18_fit.summary())"
   ]
  },
  {
   "cell_type": "code",
   "execution_count": 23,
   "metadata": {},
   "outputs": [
    {
     "name": "stderr",
     "output_type": "stream",
     "text": [
      "C:\\Users\\sm.woo\\Anaconda3\\lib\\site-packages\\statsmodels\\tsa\\base\\tsa_model.py:219: ValueWarning: A date index has been provided, but it has no associated frequency information and so will be ignored when e.g. forecasting.\n",
      "  ' ignored when e.g. forecasting.', ValueWarning)\n",
      "C:\\Users\\sm.woo\\Anaconda3\\lib\\site-packages\\statsmodels\\tsa\\base\\tsa_model.py:219: ValueWarning: A date index has been provided, but it has no associated frequency information and so will be ignored when e.g. forecasting.\n",
      "  ' ignored when e.g. forecasting.', ValueWarning)\n"
     ]
    },
    {
     "name": "stdout",
     "output_type": "stream",
     "text": [
      "                             ARIMA Model Results                              \n",
      "==============================================================================\n",
      "Dep. Variable:                 D.Rate   No. Observations:                  244\n",
      "Model:                 ARIMA(5, 1, 1)   Log Likelihood                -710.828\n",
      "Method:                       css-mle   S.D. of innovations              4.455\n",
      "Date:                Fri, 07 Feb 2020   AIC                           1435.656\n",
      "Time:                        15:33:27   BIC                           1460.136\n",
      "Sample:                             1   HQIC                          1445.515\n",
      "                                                                              \n",
      "================================================================================\n",
      "                   coef    std err          z      P>|z|      [0.025      0.975]\n",
      "--------------------------------------------------------------------------------\n",
      "ar.L1.D.Rate    -0.5972      0.224     -2.668      0.008      -1.036      -0.158\n",
      "ar.L2.D.Rate    -0.0098      0.077     -0.128      0.898      -0.160       0.141\n",
      "ar.L3.D.Rate    -0.0515      0.077     -0.672      0.502      -0.201       0.099\n",
      "ar.L4.D.Rate    -0.0965      0.076     -1.271      0.205      -0.245       0.052\n",
      "ar.L5.D.Rate    -0.1555      0.065     -2.399      0.017      -0.283      -0.028\n",
      "ma.L1.D.Rate     0.6995      0.220      3.183      0.002       0.269       1.130\n",
      "                                    Roots                                    \n",
      "=============================================================================\n",
      "                  Real          Imaginary           Modulus         Frequency\n",
      "-----------------------------------------------------------------------------\n",
      "AR.1            1.1027           -1.0622j            1.5310           -0.1220\n",
      "AR.2            1.1027           +1.0622j            1.5310            0.1220\n",
      "AR.3           -1.2124           -0.0000j            1.2124           -0.5000\n",
      "AR.4           -0.8069           -1.2696j            1.5043           -0.3401\n",
      "AR.5           -0.8069           +1.2696j            1.5043            0.3401\n",
      "MA.1           -1.4295           +0.0000j            1.4295            0.5000\n",
      "-----------------------------------------------------------------------------\n"
     ]
    }
   ],
   "source": [
    "model_19 = ARIMA(df_train, order=(5,1,1))\n",
    "model_19_fit = model_19.fit(trend='nc',full_output=True, disp=1)\n",
    "print(model_19_fit.summary())"
   ]
  },
  {
   "cell_type": "code",
   "execution_count": 24,
   "metadata": {},
   "outputs": [
    {
     "name": "stderr",
     "output_type": "stream",
     "text": [
      "C:\\Users\\sm.woo\\Anaconda3\\lib\\site-packages\\statsmodels\\tsa\\base\\tsa_model.py:219: ValueWarning: A date index has been provided, but it has no associated frequency information and so will be ignored when e.g. forecasting.\n",
      "  ' ignored when e.g. forecasting.', ValueWarning)\n",
      "C:\\Users\\sm.woo\\Anaconda3\\lib\\site-packages\\statsmodels\\tsa\\base\\tsa_model.py:219: ValueWarning: A date index has been provided, but it has no associated frequency information and so will be ignored when e.g. forecasting.\n",
      "  ' ignored when e.g. forecasting.', ValueWarning)\n"
     ]
    },
    {
     "name": "stdout",
     "output_type": "stream",
     "text": [
      "                             ARIMA Model Results                              \n",
      "==============================================================================\n",
      "Dep. Variable:                 D.Rate   No. Observations:                  244\n",
      "Model:                 ARIMA(5, 1, 1)   Log Likelihood                -710.551\n",
      "Method:                       css-mle   S.D. of innovations              4.450\n",
      "Date:                Fri, 07 Feb 2020   AIC                           1437.102\n",
      "Time:                        15:33:28   BIC                           1465.079\n",
      "Sample:                             1   HQIC                          1448.370\n",
      "                                                                              \n",
      "================================================================================\n",
      "                   coef    std err          z      P>|z|      [0.025      0.975]\n",
      "--------------------------------------------------------------------------------\n",
      "const            0.1885      0.252      0.747      0.456      -0.306       0.683\n",
      "ar.L1.D.Rate    -0.5967      0.225     -2.653      0.009      -1.037      -0.156\n",
      "ar.L2.D.Rate    -0.0130      0.077     -0.169      0.866      -0.163       0.137\n",
      "ar.L3.D.Rate    -0.0538      0.077     -0.704      0.482      -0.204       0.096\n",
      "ar.L4.D.Rate    -0.0991      0.076     -1.306      0.193      -0.248       0.050\n",
      "ar.L5.D.Rate    -0.1572      0.065     -2.426      0.016      -0.284      -0.030\n",
      "ma.L1.D.Rate     0.6970      0.221      3.154      0.002       0.264       1.130\n",
      "                                    Roots                                    \n",
      "=============================================================================\n",
      "                  Real          Imaginary           Modulus         Frequency\n",
      "-----------------------------------------------------------------------------\n",
      "AR.1            1.0964           -1.0610j            1.5257           -0.1224\n",
      "AR.2            1.0964           +1.0610j            1.5257            0.1224\n",
      "AR.3           -1.2136           -0.0000j            1.2136           -0.5000\n",
      "AR.4           -0.8049           -1.2667j            1.5008           -0.3401\n",
      "AR.5           -0.8049           +1.2667j            1.5008            0.3401\n",
      "MA.1           -1.4346           +0.0000j            1.4346            0.5000\n",
      "-----------------------------------------------------------------------------\n"
     ]
    }
   ],
   "source": [
    "model_20 = ARIMA(df_train, order=(5,1,1))\n",
    "model_20_fit = model_20.fit(trend='c',full_output=True, disp=1)\n",
    "print(model_20_fit.summary())"
   ]
  },
  {
   "cell_type": "code",
   "execution_count": 25,
   "metadata": {},
   "outputs": [
    {
     "name": "stderr",
     "output_type": "stream",
     "text": [
      "C:\\Users\\sm.woo\\Anaconda3\\lib\\site-packages\\statsmodels\\tsa\\base\\tsa_model.py:219: ValueWarning: A date index has been provided, but it has no associated frequency information and so will be ignored when e.g. forecasting.\n",
      "  ' ignored when e.g. forecasting.', ValueWarning)\n",
      "C:\\Users\\sm.woo\\Anaconda3\\lib\\site-packages\\statsmodels\\tsa\\base\\tsa_model.py:219: ValueWarning: A date index has been provided, but it has no associated frequency information and so will be ignored when e.g. forecasting.\n",
      "  ' ignored when e.g. forecasting.', ValueWarning)\n",
      "C:\\Users\\sm.woo\\Anaconda3\\lib\\site-packages\\statsmodels\\base\\model.py:512: ConvergenceWarning: Maximum Likelihood optimization failed to converge. Check mle_retvals\n",
      "  \"Check mle_retvals\", ConvergenceWarning)\n"
     ]
    },
    {
     "name": "stdout",
     "output_type": "stream",
     "text": [
      "                             ARIMA Model Results                              \n",
      "==============================================================================\n",
      "Dep. Variable:                 D.Rate   No. Observations:                  244\n",
      "Model:                 ARIMA(5, 1, 5)   Log Likelihood                -706.506\n",
      "Method:                       css-mle   S.D. of innovations              4.344\n",
      "Date:                Fri, 07 Feb 2020   AIC                           1435.013\n",
      "Time:                        15:33:38   BIC                           1473.482\n",
      "Sample:                             1   HQIC                          1450.506\n",
      "                                                                              \n",
      "================================================================================\n",
      "                   coef    std err          z      P>|z|      [0.025      0.975]\n",
      "--------------------------------------------------------------------------------\n",
      "ar.L1.D.Rate    -0.0805      0.609     -0.132      0.895      -1.274       1.113\n",
      "ar.L2.D.Rate     1.0845      0.193      5.626      0.000       0.707       1.462\n",
      "ar.L3.D.Rate     0.6781      0.588      1.153      0.250      -0.475       1.831\n",
      "ar.L4.D.Rate    -0.7756      0.197     -3.937      0.000      -1.162      -0.389\n",
      "ar.L5.D.Rate    -0.3244      0.547     -0.593      0.554      -1.397       0.749\n",
      "ma.L1.D.Rate     0.1657      0.599      0.277      0.782      -1.008       1.339\n",
      "ma.L2.D.Rate    -1.1945      0.168     -7.129      0.000      -1.523      -0.866\n",
      "ma.L3.D.Rate    -0.8308      0.642     -1.294      0.197      -2.089       0.428\n",
      "ma.L4.D.Rate     0.7831      0.224      3.500      0.001       0.345       1.222\n",
      "ma.L5.D.Rate     0.4087      0.553      0.739      0.461      -0.675       1.493\n",
      "                                    Roots                                    \n",
      "=============================================================================\n",
      "                  Real          Imaginary           Modulus         Frequency\n",
      "-----------------------------------------------------------------------------\n",
      "AR.1            0.9914           -0.3061j            1.0375           -0.0477\n",
      "AR.2            0.9914           +0.3061j            1.0375            0.0477\n",
      "AR.3           -0.8114           -0.6186j            1.0203           -0.3963\n",
      "AR.4           -0.8114           +0.6186j            1.0203            0.3963\n",
      "AR.5           -2.7505           -0.0000j            2.7505           -0.5000\n",
      "MA.1            0.9972           -0.2612j            1.0308           -0.0408\n",
      "MA.2            0.9972           +0.2612j            1.0308            0.0408\n",
      "MA.3           -0.8045           -0.5944j            1.0003           -0.3987\n",
      "MA.4           -0.8045           +0.5944j            1.0003            0.3987\n",
      "MA.5           -2.3014           -0.0000j            2.3014           -0.5000\n",
      "-----------------------------------------------------------------------------\n"
     ]
    }
   ],
   "source": [
    "model_21 = ARIMA(df_train, order=(5,1,5))\n",
    "model_21_fit = model_21.fit(trend='nc',full_output=True, disp=1)\n",
    "print(model_21_fit.summary())"
   ]
  },
  {
   "cell_type": "code",
   "execution_count": 27,
   "metadata": {},
   "outputs": [
    {
     "name": "stderr",
     "output_type": "stream",
     "text": [
      "C:\\Users\\sm.woo\\Anaconda3\\lib\\site-packages\\statsmodels\\tsa\\base\\tsa_model.py:219: ValueWarning: A date index has been provided, but it has no associated frequency information and so will be ignored when e.g. forecasting.\n",
      "  ' ignored when e.g. forecasting.', ValueWarning)\n",
      "C:\\Users\\sm.woo\\Anaconda3\\lib\\site-packages\\statsmodels\\tsa\\base\\tsa_model.py:219: ValueWarning: A date index has been provided, but it has no associated frequency information and so will be ignored when e.g. forecasting.\n",
      "  ' ignored when e.g. forecasting.', ValueWarning)\n",
      "C:\\Users\\sm.woo\\Anaconda3\\lib\\site-packages\\statsmodels\\base\\model.py:512: ConvergenceWarning: Maximum Likelihood optimization failed to converge. Check mle_retvals\n",
      "  \"Check mle_retvals\", ConvergenceWarning)\n"
     ]
    },
    {
     "name": "stdout",
     "output_type": "stream",
     "text": [
      "                             ARIMA Model Results                              \n",
      "==============================================================================\n",
      "Dep. Variable:                 D.Rate   No. Observations:                  244\n",
      "Model:                 ARIMA(5, 1, 5)   Log Likelihood                -706.295\n",
      "Method:                       css-mle   S.D. of innovations              4.341\n",
      "Date:                Fri, 07 Feb 2020   AIC                           1436.590\n",
      "Time:                        15:33:57   BIC                           1478.556\n",
      "Sample:                             1   HQIC                          1453.491\n",
      "                                                                              \n",
      "================================================================================\n",
      "                   coef    std err          z      P>|z|      [0.025      0.975]\n",
      "--------------------------------------------------------------------------------\n",
      "const            0.1853      0.219      0.846      0.398      -0.244       0.615\n",
      "ar.L1.D.Rate     0.0695      0.510      0.136      0.892      -0.929       1.068\n",
      "ar.L2.D.Rate     0.8732      0.217      4.025      0.000       0.448       1.298\n",
      "ar.L3.D.Rate     0.7133      0.373      1.913      0.057      -0.017       1.444\n",
      "ar.L4.D.Rate    -0.7562      0.239     -3.166      0.002      -1.224      -0.288\n",
      "ar.L5.D.Rate    -0.2985      0.469     -0.636      0.525      -1.218       0.621\n",
      "ma.L1.D.Rate     0.0104      0.494      0.021      0.983      -0.957       0.978\n",
      "ma.L2.D.Rate    -0.9884      0.201     -4.922      0.000      -1.382      -0.595\n",
      "ma.L3.D.Rate    -0.8313      0.399     -2.082      0.038      -1.614      -0.049\n",
      "ma.L4.D.Rate     0.7359      0.248      2.973      0.003       0.251       1.221\n",
      "ma.L5.D.Rate     0.3874      0.457      0.848      0.398      -0.508       1.283\n",
      "                                    Roots                                    \n",
      "=============================================================================\n",
      "                  Real          Imaginary           Modulus         Frequency\n",
      "-----------------------------------------------------------------------------\n",
      "AR.1            0.9921           -0.3075j            1.0387           -0.0478\n",
      "AR.2            0.9921           +0.3075j            1.0387            0.0478\n",
      "AR.3           -0.7341           -0.6924j            1.0091           -0.3797\n",
      "AR.4           -0.7341           +0.6924j            1.0091            0.3797\n",
      "AR.5           -3.0494           -0.0000j            3.0494           -0.5000\n",
      "MA.1            0.9984           -0.2611j            1.0320           -0.0407\n",
      "MA.2            0.9984           +0.2611j            1.0320            0.0407\n",
      "MA.3           -0.7364           -0.6766j            1.0001           -0.3817\n",
      "MA.4           -0.7364           +0.6766j            1.0001            0.3817\n",
      "MA.5           -2.4233           -0.0000j            2.4233           -0.5000\n",
      "-----------------------------------------------------------------------------\n"
     ]
    }
   ],
   "source": [
    "model_22 = ARIMA(df_train, order=(5,1,5))\n",
    "model_22_fit = model_22.fit(trend='c',full_output=True, disp=1)\n",
    "print(model_22_fit.summary())"
   ]
  },
  {
   "cell_type": "code",
   "execution_count": 28,
   "metadata": {},
   "outputs": [
    {
     "name": "stderr",
     "output_type": "stream",
     "text": [
      "C:\\Users\\sm.woo\\Anaconda3\\lib\\site-packages\\statsmodels\\tsa\\base\\tsa_model.py:219: ValueWarning: A date index has been provided, but it has no associated frequency information and so will be ignored when e.g. forecasting.\n",
      "  ' ignored when e.g. forecasting.', ValueWarning)\n"
     ]
    },
    {
     "name": "stdout",
     "output_type": "stream",
     "text": [
      "                              ARMA Model Results                              \n",
      "==============================================================================\n",
      "Dep. Variable:                   Rate   No. Observations:                  245\n",
      "Model:                     ARMA(5, 5)   Log Likelihood                -713.068\n",
      "Method:                       css-mle   S.D. of innovations              4.411\n",
      "Date:                Fri, 07 Feb 2020   AIC                           1450.136\n",
      "Time:                        15:33:59   BIC                           1492.151\n",
      "Sample:                             0   HQIC                          1467.056\n",
      "                                                                              \n",
      "==============================================================================\n",
      "                 coef    std err          z      P>|z|      [0.025      0.975]\n",
      "------------------------------------------------------------------------------\n",
      "const       1101.2729     17.300     63.656      0.000    1067.365    1135.181\n",
      "ar.L1.Rate     0.3652      0.561      0.650      0.516      -0.735       1.466\n",
      "ar.L2.Rate     0.7860      0.380      2.067      0.040       0.041       1.531\n",
      "ar.L3.Rate     0.1735      0.766      0.226      0.821      -1.329       1.676\n",
      "ar.L4.Rate    -0.2827      0.323     -0.877      0.382      -0.915       0.349\n",
      "ar.L5.Rate    -0.0507      0.423     -0.120      0.905      -0.881       0.779\n",
      "ma.L1.Rate     0.7271      0.558      1.304      0.194      -0.366       1.820\n",
      "ma.L2.Rate    -0.1875      0.616     -0.305      0.761      -1.394       1.019\n",
      "ma.L3.Rate    -0.4381      0.343     -1.276      0.203      -1.111       0.235\n",
      "ma.L4.Rate    -0.2008      0.518     -0.388      0.698      -1.215       0.814\n",
      "ma.L5.Rate    -0.1570      0.098     -1.596      0.112      -0.350       0.036\n",
      "                                    Roots                                    \n",
      "=============================================================================\n",
      "                  Real          Imaginary           Modulus         Frequency\n",
      "-----------------------------------------------------------------------------\n",
      "AR.1            1.0081           -0.0000j            1.0081           -0.0000\n",
      "AR.2            1.5591           -0.0000j            1.5591           -0.0000\n",
      "AR.3           -1.1924           -0.8702j            1.4761           -0.3997\n",
      "AR.4           -1.1924           +0.8702j            1.4761            0.3997\n",
      "AR.5           -5.7572           -0.0000j            5.7572           -0.5000\n",
      "MA.1            1.2082           -0.0000j            1.2082           -0.0000\n",
      "MA.2           -1.0714           -0.5665j            1.2120           -0.4226\n",
      "MA.3           -1.0714           +0.5665j            1.2120            0.4226\n",
      "MA.4           -0.1720           -1.8865j            1.8943           -0.2645\n",
      "MA.5           -0.1720           +1.8865j            1.8943            0.2645\n",
      "-----------------------------------------------------------------------------\n"
     ]
    }
   ],
   "source": [
    "model_23 = ARIMA(df_train, order=(5,0,5))\n",
    "model_23_fit = model_23.fit(trend='c',full_output=True, disp=1)\n",
    "print(model_23_fit.summary())"
   ]
  },
  {
   "cell_type": "code",
   "execution_count": 29,
   "metadata": {},
   "outputs": [
    {
     "name": "stderr",
     "output_type": "stream",
     "text": [
      "C:\\Users\\sm.woo\\Anaconda3\\lib\\site-packages\\statsmodels\\tsa\\base\\tsa_model.py:219: ValueWarning: A date index has been provided, but it has no associated frequency information and so will be ignored when e.g. forecasting.\n",
      "  ' ignored when e.g. forecasting.', ValueWarning)\n"
     ]
    },
    {
     "name": "stdout",
     "output_type": "stream",
     "text": [
      "                              ARMA Model Results                              \n",
      "==============================================================================\n",
      "Dep. Variable:                   Rate   No. Observations:                  245\n",
      "Model:                     ARMA(5, 0)   Log Likelihood                -723.330\n",
      "Method:                       css-mle   S.D. of innovations              4.472\n",
      "Date:                Fri, 07 Feb 2020   AIC                           1458.660\n",
      "Time:                        15:34:01   BIC                           1479.668\n",
      "Sample:                             0   HQIC                          1467.120\n",
      "                                                                              \n",
      "==============================================================================\n",
      "                 coef    std err          z      P>|z|      [0.025      0.975]\n",
      "------------------------------------------------------------------------------\n",
      "ar.L1.Rate     1.1031   1.09e-05   1.01e+05      0.000       1.103       1.103\n",
      "ar.L2.Rate    -0.1788    2.3e-06  -7.76e+04      0.000      -0.179      -0.179\n",
      "ar.L3.Rate     0.0848        nan        nan        nan         nan         nan\n",
      "ar.L4.Rate    -0.1160   2.34e-06  -4.97e+04      0.000      -0.116      -0.116\n",
      "ar.L5.Rate     0.1069   3.25e-06   3.29e+04      0.000       0.107       0.107\n",
      "                                    Roots                                    \n",
      "=============================================================================\n",
      "                  Real          Imaginary           Modulus         Frequency\n",
      "-----------------------------------------------------------------------------\n",
      "AR.1            1.0000           -0.0000j            1.0000           -0.0000\n",
      "AR.2           -1.1425           -1.3812j            1.7924           -0.3600\n",
      "AR.3           -1.1425           +1.3812j            1.7924            0.3600\n",
      "AR.4            1.1851           -1.2274j            1.7061           -0.1278\n",
      "AR.5            1.1851           +1.2274j            1.7061            0.1278\n",
      "-----------------------------------------------------------------------------\n"
     ]
    },
    {
     "name": "stderr",
     "output_type": "stream",
     "text": [
      "C:\\Users\\sm.woo\\Anaconda3\\lib\\site-packages\\statsmodels\\tsa\\arima_model.py:1441: RuntimeWarning: invalid value encountered in sqrt\n",
      "  return np.sqrt(np.diag(-inv(hess)))\n",
      "C:\\Users\\sm.woo\\Anaconda3\\lib\\site-packages\\scipy\\stats\\_distn_infrastructure.py:901: RuntimeWarning: invalid value encountered in greater\n",
      "  return (a < x) & (x < b)\n",
      "C:\\Users\\sm.woo\\Anaconda3\\lib\\site-packages\\scipy\\stats\\_distn_infrastructure.py:901: RuntimeWarning: invalid value encountered in less\n",
      "  return (a < x) & (x < b)\n",
      "C:\\Users\\sm.woo\\Anaconda3\\lib\\site-packages\\scipy\\stats\\_distn_infrastructure.py:1892: RuntimeWarning: invalid value encountered in less_equal\n",
      "  cond2 = cond0 & (x <= _a)\n"
     ]
    }
   ],
   "source": [
    "#non값 사용 불가능\n",
    "model_24 = ARIMA(df_train, order=(5,0,0))\n",
    "model_24_fit = model_24.fit(trend='nc',full_output=True, disp=1)\n",
    "print(model_24_fit.summary())"
   ]
  },
  {
   "cell_type": "code",
   "execution_count": 30,
   "metadata": {},
   "outputs": [
    {
     "name": "stderr",
     "output_type": "stream",
     "text": [
      "C:\\Users\\sm.woo\\Anaconda3\\lib\\site-packages\\statsmodels\\tsa\\base\\tsa_model.py:219: ValueWarning: A date index has been provided, but it has no associated frequency information and so will be ignored when e.g. forecasting.\n",
      "  ' ignored when e.g. forecasting.', ValueWarning)\n"
     ]
    },
    {
     "name": "stdout",
     "output_type": "stream",
     "text": [
      "                              ARMA Model Results                              \n",
      "==============================================================================\n",
      "Dep. Variable:                   Rate   No. Observations:                  245\n",
      "Model:                     ARMA(5, 0)   Log Likelihood                -715.992\n",
      "Method:                       css-mle   S.D. of innovations              4.465\n",
      "Date:                Fri, 07 Feb 2020   AIC                           1445.983\n",
      "Time:                        15:34:01   BIC                           1470.492\n",
      "Sample:                             0   HQIC                          1455.853\n",
      "                                                                              \n",
      "==============================================================================\n",
      "                 coef    std err          z      P>|z|      [0.025      0.975]\n",
      "------------------------------------------------------------------------------\n",
      "const       1101.6001     15.101     72.947      0.000    1072.002    1131.198\n",
      "ar.L1.Rate     1.0940      0.063     17.238      0.000       0.970       1.218\n",
      "ar.L2.Rate    -0.1830      0.094     -1.941      0.053      -0.368       0.002\n",
      "ar.L3.Rate     0.0897      0.095      0.939      0.348      -0.097       0.277\n",
      "ar.L4.Rate    -0.1195      0.095     -1.254      0.211      -0.306       0.067\n",
      "ar.L5.Rate     0.1035      0.065      1.595      0.112      -0.024       0.231\n",
      "                                    Roots                                    \n",
      "=============================================================================\n",
      "                  Real          Imaginary           Modulus         Frequency\n",
      "-----------------------------------------------------------------------------\n",
      "AR.1            1.0146           -0.0000j            1.0146           -0.0000\n",
      "AR.2           -1.1331           -1.3904j            1.7936           -0.3588\n",
      "AR.3           -1.1331           +1.3904j            1.7936            0.3588\n",
      "AR.4            1.2028           -1.2299j            1.7203           -0.1268\n",
      "AR.5            1.2028           +1.2299j            1.7203            0.1268\n",
      "-----------------------------------------------------------------------------\n"
     ]
    }
   ],
   "source": [
    "model_25 = ARIMA(df_train, order=(5,0,0))\n",
    "model_25_fit = model_25.fit(trend='c',full_output=True, disp=1)\n",
    "print(model_25_fit.summary())"
   ]
  },
  {
   "cell_type": "code",
   "execution_count": 31,
   "metadata": {},
   "outputs": [
    {
     "name": "stderr",
     "output_type": "stream",
     "text": [
      "C:\\Users\\sm.woo\\Anaconda3\\lib\\site-packages\\statsmodels\\tsa\\base\\tsa_model.py:219: ValueWarning: A date index has been provided, but it has no associated frequency information and so will be ignored when e.g. forecasting.\n",
      "  ' ignored when e.g. forecasting.', ValueWarning)\n",
      "C:\\Users\\sm.woo\\Anaconda3\\lib\\site-packages\\statsmodels\\tsa\\base\\tsa_model.py:219: ValueWarning: A date index has been provided, but it has no associated frequency information and so will be ignored when e.g. forecasting.\n",
      "  ' ignored when e.g. forecasting.', ValueWarning)\n"
     ]
    },
    {
     "name": "stdout",
     "output_type": "stream",
     "text": [
      "                             ARIMA Model Results                              \n",
      "==============================================================================\n",
      "Dep. Variable:                 D.Rate   No. Observations:                  244\n",
      "Model:                 ARIMA(0, 1, 5)   Log Likelihood                -710.420\n",
      "Method:                       css-mle   S.D. of innovations              4.447\n",
      "Date:                Fri, 07 Feb 2020   AIC                           1432.840\n",
      "Time:                        15:34:02   BIC                           1453.823\n",
      "Sample:                             1   HQIC                          1441.291\n",
      "                                                                              \n",
      "================================================================================\n",
      "                   coef    std err          z      P>|z|      [0.025      0.975]\n",
      "--------------------------------------------------------------------------------\n",
      "ma.L1.D.Rate     0.0989      0.065      1.524      0.129      -0.028       0.226\n",
      "ma.L2.D.Rate    -0.0963      0.065     -1.490      0.137      -0.223       0.030\n",
      "ma.L3.D.Rate    -0.0448      0.062     -0.717      0.474      -0.167       0.078\n",
      "ma.L4.D.Rate    -0.1232      0.066     -1.853      0.065      -0.253       0.007\n",
      "ma.L5.D.Rate    -0.1408      0.067     -2.113      0.036      -0.271      -0.010\n",
      "                                    Roots                                    \n",
      "=============================================================================\n",
      "                  Real          Imaginary           Modulus         Frequency\n",
      "-----------------------------------------------------------------------------\n",
      "MA.1            1.2979           -0.0000j            1.2979           -0.0000\n",
      "MA.2            0.2822           -1.4702j            1.4970           -0.2198\n",
      "MA.3            0.2822           +1.4702j            1.4970            0.2198\n",
      "MA.4           -1.3684           -0.7540j            1.5623           -0.4198\n",
      "MA.5           -1.3684           +0.7540j            1.5623            0.4198\n",
      "-----------------------------------------------------------------------------\n"
     ]
    }
   ],
   "source": [
    "model_26 = ARIMA(df_train, order=(0,1,5))\n",
    "model_26_fit = model_26.fit(trend='nc',full_output=True, disp=1)\n",
    "print(model_26_fit.summary())"
   ]
  },
  {
   "cell_type": "code",
   "execution_count": 32,
   "metadata": {},
   "outputs": [
    {
     "name": "stderr",
     "output_type": "stream",
     "text": [
      "C:\\Users\\sm.woo\\Anaconda3\\lib\\site-packages\\statsmodels\\tsa\\base\\tsa_model.py:219: ValueWarning: A date index has been provided, but it has no associated frequency information and so will be ignored when e.g. forecasting.\n",
      "  ' ignored when e.g. forecasting.', ValueWarning)\n",
      "C:\\Users\\sm.woo\\Anaconda3\\lib\\site-packages\\statsmodels\\tsa\\base\\tsa_model.py:219: ValueWarning: A date index has been provided, but it has no associated frequency information and so will be ignored when e.g. forecasting.\n",
      "  ' ignored when e.g. forecasting.', ValueWarning)\n"
     ]
    },
    {
     "name": "stdout",
     "output_type": "stream",
     "text": [
      "                             ARIMA Model Results                              \n",
      "==============================================================================\n",
      "Dep. Variable:                 D.Rate   No. Observations:                  244\n",
      "Model:                 ARIMA(0, 1, 5)   Log Likelihood                -709.966\n",
      "Method:                       css-mle   S.D. of innovations              4.439\n",
      "Date:                Fri, 07 Feb 2020   AIC                           1433.933\n",
      "Time:                        15:34:02   BIC                           1458.413\n",
      "Sample:                             1   HQIC                          1443.792\n",
      "                                                                              \n",
      "================================================================================\n",
      "                   coef    std err          z      P>|z|      [0.025      0.975]\n",
      "--------------------------------------------------------------------------------\n",
      "const            0.1861      0.192      0.971      0.333      -0.190       0.562\n",
      "ma.L1.D.Rate     0.0949      0.065      1.463      0.145      -0.032       0.222\n",
      "ma.L2.D.Rate    -0.1017      0.065     -1.576      0.116      -0.228       0.025\n",
      "ma.L3.D.Rate    -0.0500      0.063     -0.799      0.425      -0.173       0.073\n",
      "ma.L4.D.Rate    -0.1287      0.066     -1.937      0.054      -0.259       0.002\n",
      "ma.L5.D.Rate    -0.1461      0.067     -2.191      0.029      -0.277      -0.015\n",
      "                                    Roots                                    \n",
      "=============================================================================\n",
      "                  Real          Imaginary           Modulus         Frequency\n",
      "-----------------------------------------------------------------------------\n",
      "MA.1            1.2806           -0.0000j            1.2806           -0.0000\n",
      "MA.2            0.2789           -1.4621j            1.4884           -0.2200\n",
      "MA.3            0.2789           +1.4621j            1.4884            0.2200\n",
      "MA.4           -1.3597           -0.7504j            1.5531           -0.4197\n",
      "MA.5           -1.3597           +0.7504j            1.5531            0.4197\n",
      "-----------------------------------------------------------------------------\n"
     ]
    }
   ],
   "source": [
    "model_27 = ARIMA(df_train, order=(0,1,5))\n",
    "model_27_fit = model_27.fit(trend='c',full_output=True, disp=1)\n",
    "print(model_27_fit.summary())"
   ]
  },
  {
   "cell_type": "code",
   "execution_count": 33,
   "metadata": {},
   "outputs": [
    {
     "name": "stderr",
     "output_type": "stream",
     "text": [
      "C:\\Users\\sm.woo\\Anaconda3\\lib\\site-packages\\statsmodels\\tsa\\base\\tsa_model.py:219: ValueWarning: A date index has been provided, but it has no associated frequency information and so will be ignored when e.g. forecasting.\n",
      "  ' ignored when e.g. forecasting.', ValueWarning)\n",
      "C:\\Users\\sm.woo\\Anaconda3\\lib\\site-packages\\statsmodels\\tsa\\base\\tsa_model.py:219: ValueWarning: A date index has been provided, but it has no associated frequency information and so will be ignored when e.g. forecasting.\n",
      "  ' ignored when e.g. forecasting.', ValueWarning)\n"
     ]
    },
    {
     "name": "stdout",
     "output_type": "stream",
     "text": [
      "                             ARIMA Model Results                              \n",
      "==============================================================================\n",
      "Dep. Variable:                 D.Rate   No. Observations:                  244\n",
      "Model:                 ARIMA(0, 1, 4)   Log Likelihood                -712.520\n",
      "Method:                       css-mle   S.D. of innovations              4.487\n",
      "Date:                Fri, 07 Feb 2020   AIC                           1435.040\n",
      "Time:                        15:34:02   BIC                           1452.525\n",
      "Sample:                             1   HQIC                          1442.082\n",
      "                                                                              \n",
      "================================================================================\n",
      "                   coef    std err          z      P>|z|      [0.025      0.975]\n",
      "--------------------------------------------------------------------------------\n",
      "ma.L1.D.Rate     0.0760      0.066      1.155      0.249      -0.053       0.205\n",
      "ma.L2.D.Rate    -0.0761      0.067     -1.132      0.259      -0.208       0.056\n",
      "ma.L3.D.Rate    -0.0456      0.070     -0.655      0.513      -0.182       0.091\n",
      "ma.L4.D.Rate    -0.1054      0.072     -1.461      0.145      -0.247       0.036\n",
      "                                    Roots                                    \n",
      "=============================================================================\n",
      "                  Real          Imaginary           Modulus         Frequency\n",
      "-----------------------------------------------------------------------------\n",
      "MA.1            1.6214           -0.0000j            1.6214           -0.0000\n",
      "MA.2           -1.6973           -0.0000j            1.6973           -0.5000\n",
      "MA.3           -0.1784           -1.8478j            1.8564           -0.2653\n",
      "MA.4           -0.1784           +1.8478j            1.8564            0.2653\n",
      "-----------------------------------------------------------------------------\n"
     ]
    }
   ],
   "source": [
    "model_28 = ARIMA(df_train, order=(0,1,4))\n",
    "model_28_fit = model_28.fit(trend='nc',full_output=True, disp=1)\n",
    "print(model_28_fit.summary())"
   ]
  },
  {
   "cell_type": "code",
   "execution_count": 34,
   "metadata": {},
   "outputs": [
    {
     "name": "stdout",
     "output_type": "stream",
     "text": [
      "                             ARIMA Model Results                              \n",
      "==============================================================================\n",
      "Dep. Variable:                 D.Rate   No. Observations:                  244\n",
      "Model:                 ARIMA(0, 1, 4)   Log Likelihood                -712.221\n",
      "Method:                       css-mle   S.D. of innovations              4.481\n",
      "Date:                Fri, 07 Feb 2020   AIC                           1436.443\n",
      "Time:                        15:34:02   BIC                           1457.426\n",
      "Sample:                             1   HQIC                          1444.893\n",
      "                                                                              \n",
      "================================================================================\n",
      "                   coef    std err          z      P>|z|      [0.025      0.975]\n",
      "--------------------------------------------------------------------------------\n",
      "const            0.1867      0.239      0.780      0.436      -0.282       0.656\n",
      "ma.L1.D.Rate     0.0719      0.066      1.091      0.277      -0.057       0.201\n",
      "ma.L2.D.Rate    -0.0802      0.067     -1.189      0.236      -0.212       0.052\n",
      "ma.L3.D.Rate    -0.0506      0.070     -0.719      0.473      -0.188       0.087\n",
      "ma.L4.D.Rate    -0.1102      0.073     -1.518      0.130      -0.252       0.032\n",
      "                                    Roots                                    \n",
      "=============================================================================\n",
      "                  Real          Imaginary           Modulus         Frequency\n",
      "-----------------------------------------------------------------------------\n",
      "MA.1            1.5918           -0.0000j            1.5918           -0.0000\n",
      "MA.2           -1.6874           -0.0000j            1.6874           -0.5000\n",
      "MA.3           -0.1817           -1.8291j            1.8381           -0.2658\n",
      "MA.4           -0.1817           +1.8291j            1.8381            0.2658\n",
      "-----------------------------------------------------------------------------"
     ]
    },
    {
     "name": "stderr",
     "output_type": "stream",
     "text": [
      "C:\\Users\\sm.woo\\Anaconda3\\lib\\site-packages\\statsmodels\\tsa\\base\\tsa_model.py:219: ValueWarning: A date index has been provided, but it has no associated frequency information and so will be ignored when e.g. forecasting.\n",
      "  ' ignored when e.g. forecasting.', ValueWarning)\n",
      "C:\\Users\\sm.woo\\Anaconda3\\lib\\site-packages\\statsmodels\\tsa\\base\\tsa_model.py:219: ValueWarning: A date index has been provided, but it has no associated frequency information and so will be ignored when e.g. forecasting.\n",
      "  ' ignored when e.g. forecasting.', ValueWarning)\n"
     ]
    },
    {
     "name": "stdout",
     "output_type": "stream",
     "text": [
      "\n"
     ]
    }
   ],
   "source": [
    "model_29 = ARIMA(df_train, order=(0,1,4))\n",
    "model_29_fit = model_29.fit(trend='c',full_output=True, disp=1)\n",
    "print(model_29_fit.summary())"
   ]
  },
  {
   "cell_type": "code",
   "execution_count": 35,
   "metadata": {},
   "outputs": [
    {
     "name": "stderr",
     "output_type": "stream",
     "text": [
      "C:\\Users\\sm.woo\\Anaconda3\\lib\\site-packages\\statsmodels\\tsa\\base\\tsa_model.py:219: ValueWarning: A date index has been provided, but it has no associated frequency information and so will be ignored when e.g. forecasting.\n",
      "  ' ignored when e.g. forecasting.', ValueWarning)\n",
      "C:\\Users\\sm.woo\\Anaconda3\\lib\\site-packages\\statsmodels\\tsa\\base\\tsa_model.py:219: ValueWarning: A date index has been provided, but it has no associated frequency information and so will be ignored when e.g. forecasting.\n",
      "  ' ignored when e.g. forecasting.', ValueWarning)\n"
     ]
    },
    {
     "name": "stdout",
     "output_type": "stream",
     "text": [
      "                             ARIMA Model Results                              \n",
      "==============================================================================\n",
      "Dep. Variable:                D2.Rate   No. Observations:                  243\n",
      "Model:                 ARIMA(5, 2, 5)   Log Likelihood                -709.188\n",
      "Method:                       css-mle   S.D. of innovations              4.419\n",
      "Date:                Fri, 07 Feb 2020   AIC                           1440.376\n",
      "Time:                        15:34:04   BIC                           1478.800\n",
      "Sample:                             2   HQIC                          1455.853\n",
      "                                                                              \n",
      "=================================================================================\n",
      "                    coef    std err          z      P>|z|      [0.025      0.975]\n",
      "---------------------------------------------------------------------------------\n",
      "ar.L1.D2.Rate    -0.5660      0.712     -0.795      0.428      -1.962       0.830\n",
      "ar.L2.D2.Rate     0.4044      0.644      0.628      0.531      -0.857       1.666\n",
      "ar.L3.D2.Rate     0.4511      0.386      1.168      0.244      -0.306       1.208\n",
      "ar.L4.D2.Rate    -0.0821      0.502     -0.163      0.870      -1.066       0.902\n",
      "ar.L5.D2.Rate    -0.1311      0.112     -1.176      0.241      -0.350       0.087\n",
      "ma.L1.D2.Rate    -0.3387      0.717     -0.473      0.637      -1.744       1.066\n",
      "ma.L2.D2.Rate    -1.1011      0.320     -3.436      0.001      -1.729      -0.473\n",
      "ma.L3.D2.Rate    -0.1267      1.067     -0.119      0.906      -2.217       1.964\n",
      "ma.L4.D2.Rate     0.5210      0.355      1.469      0.143      -0.174       1.216\n",
      "ma.L5.D2.Rate     0.0455      0.644      0.071      0.944      -1.217       1.308\n",
      "                                    Roots                                    \n",
      "=============================================================================\n",
      "                  Real          Imaginary           Modulus         Frequency\n",
      "-----------------------------------------------------------------------------\n",
      "AR.1            1.5199           -0.5326j            1.6105           -0.0536\n",
      "AR.2            1.5199           +0.5326j            1.6105            0.0536\n",
      "AR.3           -1.0090           -0.8753j            1.3357           -0.3863\n",
      "AR.4           -1.0090           +0.8753j            1.3357            0.3863\n",
      "AR.5           -1.6477           -0.0000j            1.6477           -0.5000\n",
      "MA.1           -1.0808           -0.6226j            1.2473           -0.4168\n",
      "MA.2           -1.0808           +0.6226j            1.2473            0.4168\n",
      "MA.3            1.0000           -0.0000j            1.0000           -0.0000\n",
      "MA.4            1.2268           -0.0000j            1.2268           -0.0000\n",
      "MA.5          -11.5038           -0.0000j           11.5038           -0.5000\n",
      "-----------------------------------------------------------------------------\n"
     ]
    }
   ],
   "source": [
    "model_30 = ARIMA(df_train, order=(5,2,5))\n",
    "model_30_fit = model_30.fit(trend='nc',full_output=True, disp=1)\n",
    "print(model_30_fit.summary())"
   ]
  },
  {
   "cell_type": "code",
   "execution_count": 36,
   "metadata": {},
   "outputs": [
    {
     "name": "stderr",
     "output_type": "stream",
     "text": [
      "C:\\Users\\sm.woo\\Anaconda3\\lib\\site-packages\\statsmodels\\tsa\\base\\tsa_model.py:219: ValueWarning: A date index has been provided, but it has no associated frequency information and so will be ignored when e.g. forecasting.\n",
      "  ' ignored when e.g. forecasting.', ValueWarning)\n",
      "C:\\Users\\sm.woo\\Anaconda3\\lib\\site-packages\\statsmodels\\tsa\\base\\tsa_model.py:219: ValueWarning: A date index has been provided, but it has no associated frequency information and so will be ignored when e.g. forecasting.\n",
      "  ' ignored when e.g. forecasting.', ValueWarning)\n"
     ]
    },
    {
     "name": "stdout",
     "output_type": "stream",
     "text": [
      "                             ARIMA Model Results                              \n",
      "==============================================================================\n",
      "Dep. Variable:                D2.Rate   No. Observations:                  243\n",
      "Model:                 ARIMA(5, 2, 5)   Log Likelihood                -709.007\n",
      "Method:                       css-mle   S.D. of innovations              4.416\n",
      "Date:                Fri, 07 Feb 2020   AIC                           1442.014\n",
      "Time:                        15:34:08   BIC                           1483.931\n",
      "Sample:                             2   HQIC                          1458.897\n",
      "                                                                              \n",
      "=================================================================================\n",
      "                    coef    std err          z      P>|z|      [0.025      0.975]\n",
      "---------------------------------------------------------------------------------\n",
      "const            -0.0016      0.003     -0.603      0.547      -0.007       0.004\n",
      "ar.L1.D2.Rate    -0.5667      0.708     -0.800      0.424      -1.954       0.821\n",
      "ar.L2.D2.Rate     0.4065      0.634      0.641      0.522      -0.836       1.649\n",
      "ar.L3.D2.Rate     0.4570      0.388      1.177      0.241      -0.304       1.218\n",
      "ar.L4.D2.Rate    -0.0766      0.501     -0.153      0.879      -1.058       0.905\n",
      "ar.L5.D2.Rate    -0.1302      0.110     -1.182      0.238      -0.346       0.086\n",
      "ma.L1.D2.Rate    -0.3395      0.712     -0.477      0.634      -1.735       1.056\n",
      "ma.L2.D2.Rate    -1.1047      0.321     -3.446      0.001      -1.733      -0.476\n",
      "ma.L3.D2.Rate    -0.1289      1.058     -0.122      0.903      -2.203       1.945\n",
      "ma.L4.D2.Rate     0.5233      0.351      1.493      0.137      -0.164       1.210\n",
      "ma.L5.D2.Rate     0.0497      0.641      0.078      0.938      -1.207       1.306\n",
      "                                    Roots                                    \n",
      "=============================================================================\n",
      "                  Real          Imaginary           Modulus         Frequency\n",
      "-----------------------------------------------------------------------------\n",
      "AR.1            1.5344           -0.5152j            1.6186           -0.0516\n",
      "AR.2            1.5344           +0.5152j            1.6186            0.0516\n",
      "AR.3           -1.0079           -0.8775j            1.3363           -0.3860\n",
      "AR.4           -1.0079           +0.8775j            1.3363            0.3860\n",
      "AR.5           -1.6413           -0.0000j            1.6413           -0.5000\n",
      "MA.1           -1.0822           -0.6241j            1.2492           -0.4167\n",
      "MA.2           -1.0822           +0.6241j            1.2492            0.4167\n",
      "MA.3            1.0000           -0.0000j            1.0000           -0.0000\n",
      "MA.4            1.2183           -0.0000j            1.2183           -0.0000\n",
      "MA.5          -10.5837           -0.0000j           10.5837           -0.5000\n",
      "-----------------------------------------------------------------------------\n"
     ]
    }
   ],
   "source": [
    "model_31 = ARIMA(df_train, order=(5,2,5))\n",
    "model_31_fit = model_31.fit(trend='c',full_output=True, disp=1)\n",
    "print(model_31_fit.summary())"
   ]
  },
  {
   "cell_type": "markdown",
   "metadata": {},
   "source": [
    "### 예측"
   ]
  },
  {
   "cell_type": "code",
   "execution_count": 105,
   "metadata": {
    "scrolled": true
   },
   "outputs": [
    {
     "data": {
      "image/png": "[encoded data removed]",
      "text/plain": [
       "<Figure size 432x288 with 1 Axes>"
      ]
     },
     "metadata": {
      "needs_background": "light"
     },
     "output_type": "display_data"
    },
    {
     "data": {
      "image/png": "[encoded data removed]",
      "text/plain": [
       "<Figure size 432x288 with 1 Axes>"
      ]
     },
     "metadata": {
      "needs_background": "light"
     },
     "output_type": "display_data"
    },
    {
     "data": {
      "image/png": "[encoded data removed]",
      "text/plain": [
       "<Figure size 432x288 with 1 Axes>"
      ]
     },
     "metadata": {
      "needs_background": "light"
     },
     "output_type": "display_data"
    },
    {
     "data": {
      "image/png": "[encoded data removed]",
      "text/plain": [
       "<Figure size 432x288 with 1 Axes>"
      ]
     },
     "metadata": {
      "needs_background": "light"
     },
     "output_type": "display_data"
    },
    {
     "data": {
      "image/png": "[encoded data removed]",
      "text/plain": [
       "<Figure size 432x288 with 1 Axes>"
      ]
     },
     "metadata": {
      "needs_background": "light"
     },
     "output_type": "display_data"
    },
    {
     "data": {
      "image/png": "[encoded data removed]",
      "text/plain": [
       "<Figure size 432x288 with 1 Axes>"
      ]
     },
     "metadata": {
      "needs_background": "light"
     },
     "output_type": "display_data"
    },
    {
     "data": {
      "image/png": "[encoded data removed]",
      "text/plain": [
       "<Figure size 432x288 with 1 Axes>"
      ]
     },
     "metadata": {
      "needs_background": "light"
     },
     "output_type": "display_data"
    },
    {
     "data": {
      "image/png": "[encoded data removed]",
      "text/plain": [
       "<Figure size 432x288 with 1 Axes>"
      ]
     },
     "metadata": {
      "needs_background": "light"
     },
     "output_type": "display_data"
    },
    {
     "data": {
      "image/png": "[encoded data removed]",
      "text/plain": [
       "<Figure size 432x288 with 1 Axes>"
      ]
     },
     "metadata": {
      "needs_background": "light"
     },
     "output_type": "display_data"
    },
    {
     "data": {
      "image/png": "[encoded data removed]",
      "text/plain": [
       "<Figure size 432x288 with 1 Axes>"
      ]
     },
     "metadata": {
      "needs_background": "light"
     },
     "output_type": "display_data"
    },
    {
     "data": {
      "image/png": "[encoded data removed]",
      "text/plain": [
       "<Figure size 432x288 with 1 Axes>"
      ]
     },
     "metadata": {
      "needs_background": "light"
     },
     "output_type": "display_data"
    },
    {
     "data": {
      "image/png": "[encoded data removed]",
      "text/plain": [
       "<Figure size 432x288 with 1 Axes>"
      ]
     },
     "metadata": {
      "needs_background": "light"
     },
     "output_type": "display_data"
    }
   ],
   "source": [
    "Models = [model_1_fit, model_2_fit, model_3_fit, model_4_fit, model_18_fit, model_19_fit, model_20_fit, \n",
    "          model_25_fit, model_26_fit, model_27_fit, model_28_fit, model_29_fit]\n",
    "\n",
    "df_test=df_test[:5]\n",
    "actual_price=df_test['Rate'].tolist()[:5]\n",
    "RMSE_total=[]\n",
    "pred_price=[]\n",
    "\n",
    "for model in Models:\n",
    "    pred = model.forecast(steps=5)\n",
    "    pred_price_0=pred[0][:5]\n",
    "    pred_price.extend(pred_price_0)\n",
    "\n",
    "    plt.plot(pred_price_0)\n",
    "    plt.plot(df_test)\n",
    "    plt.show()\n",
    "    \n",
    "    RMSE = mean_squared_error(pred_price_0, actual_price)**0.5    \n",
    "    RMSE_total.append(RMSE)"
   ]
  },
  {
   "cell_type": "markdown",
   "metadata": {},
   "source": [
    "#### 예측값, stderr, upper bound, lower bound"
   ]
  },
  {
   "cell_type": "code",
   "execution_count": 106,
   "metadata": {},
   "outputs": [],
   "source": [
    "n = 5\n",
    "result = [pred_price[i * n:(i + 1) * n] for i in range((len(pred_price) + n - 1) // n )] \n",
    "pred_final = []\n",
    "for i in result:\n",
    "    pred_final.append(i)"
   ]
  },
  {
   "cell_type": "code",
   "execution_count": 107,
   "metadata": {
    "scrolled": true
   },
   "outputs": [],
   "source": [
    "pred_final=pd.DataFrame(pred_final)\n",
    "RMSE_total=pd.DataFrame(RMSE_total)\n",
    "final_df=pd.concat([pred_final, RMSE_total], axis=1)\n",
    "final_df.columns=[df_test.index[0],df_test.index[1],df_test.index[2],df_test.index[3],df_test.index[4],'RMSE']"
   ]
  },
  {
   "cell_type": "code",
   "execution_count": 108,
   "metadata": {
    "scrolled": true
   },
   "outputs": [],
   "source": [
    "actual_price = pd.DataFrame(actual_price + [0]).T\n",
    "actual_price.columns=[df_test.index[0],df_test.index[1],df_test.index[2],df_test.index[3],df_test.index[4],'RMSE']\n",
    "final_df=pd.concat([actual_price, final_df], axis=0)\n",
    "final_df"
   ]
  },
  {
   "cell_type": "code",
   "execution_count": 114,
   "metadata": {
    "scrolled": false
   },
   "outputs": [],
   "source": [
    "final_df.to_csv('data/final01.csv', index=False)"
   ]
  }
 ],
 "metadata": {
  "kernelspec": {
   "display_name": "Python 3",
   "language": "python",
   "name": "python3"
  },
  "language_info": {
   "codemirror_mode": {
    "name": "ipython",
    "version": 3
   },
   "file_extension": ".py",
   "mimetype": "text/x-python",
   "name": "python",
   "nbconvert_exporter": "python",
   "pygments_lexer": "ipython3",
   "version": "3.7.4"
  }
 },
 "nbformat": 4,
 "nbformat_minor": 2
}
