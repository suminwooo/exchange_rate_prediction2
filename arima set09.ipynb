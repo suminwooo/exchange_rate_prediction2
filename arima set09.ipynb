{
 "cells": [
  {
   "cell_type": "code",
   "execution_count": 1,
   "metadata": {},
   "outputs": [],
   "source": [
    "import pandas as pd\n",
    "import matplotlib.pyplot as plt\n",
    "\n",
    "from statsmodels.tsa.arima_model import ARIMA\n",
    "from sklearn.metrics import mean_squared_error"
   ]
  },
  {
   "cell_type": "code",
   "execution_count": 2,
   "metadata": {},
   "outputs": [],
   "source": [
    "data = pd.read_csv('exchange_data/set09.csv', header=0, squeeze=True)"
   ]
  },
  {
   "cell_type": "code",
   "execution_count": 3,
   "metadata": {},
   "outputs": [],
   "source": [
    "data = data.set_index('Date')"
   ]
  },
  {
   "cell_type": "code",
   "execution_count": 4,
   "metadata": {},
   "outputs": [],
   "source": [
    "#2018년 2월~2019년1월 train set/ 2019년 2월 test set\n",
    "df_train=data.loc['2018-10-01': '2019-09-31' ]\n",
    "df_test=data.loc['2019-10-01':]"
   ]
  },
  {
   "cell_type": "markdown",
   "metadata": {},
   "source": [
    "### 모형구축"
   ]
  },
  {
   "cell_type": "code",
   "execution_count": 5,
   "metadata": {},
   "outputs": [
    {
     "name": "stderr",
     "output_type": "stream",
     "text": [
      "C:\\Users\\sm.woo\\Anaconda3\\lib\\site-packages\\statsmodels\\tsa\\base\\tsa_model.py:219: ValueWarning: A date index has been provided, but it has no associated frequency information and so will be ignored when e.g. forecasting.\n",
      "  ' ignored when e.g. forecasting.', ValueWarning)\n",
      "C:\\Users\\sm.woo\\Anaconda3\\lib\\site-packages\\statsmodels\\tsa\\base\\tsa_model.py:219: ValueWarning: A date index has been provided, but it has no associated frequency information and so will be ignored when e.g. forecasting.\n",
      "  ' ignored when e.g. forecasting.', ValueWarning)\n"
     ]
    },
    {
     "name": "stdout",
     "output_type": "stream",
     "text": [
      "                             ARIMA Model Results                              \n",
      "==============================================================================\n",
      "Dep. Variable:                 D.Rate   No. Observations:                  246\n",
      "Model:                 ARIMA(1, 1, 1)   Log Likelihood                -696.923\n",
      "Method:                       css-mle   S.D. of innovations              4.113\n",
      "Date:                Fri, 07 Feb 2020   AIC                           1399.846\n",
      "Time:                        15:54:11   BIC                           1410.362\n",
      "Sample:                             1   HQIC                          1404.080\n",
      "                                                                              \n",
      "================================================================================\n",
      "                   coef    std err          z      P>|z|      [0.025      0.975]\n",
      "--------------------------------------------------------------------------------\n",
      "ar.L1.D.Rate    -0.1803      0.546     -0.330      0.742      -1.250       0.890\n",
      "ma.L1.D.Rate     0.3142      0.529      0.594      0.553      -0.722       1.351\n",
      "                                    Roots                                    \n",
      "=============================================================================\n",
      "                  Real          Imaginary           Modulus         Frequency\n",
      "-----------------------------------------------------------------------------\n",
      "AR.1           -5.5475           +0.0000j            5.5475            0.5000\n",
      "MA.1           -3.1827           +0.0000j            3.1827            0.5000\n",
      "-----------------------------------------------------------------------------\n"
     ]
    }
   ],
   "source": [
    "model_1 = ARIMA(df_train, order=(1,1,1))\n",
    "model_1_fit = model_1.fit(trend='nc',full_output=True, disp=1)\n",
    "print(model_1_fit.summary())"
   ]
  },
  {
   "cell_type": "code",
   "execution_count": 6,
   "metadata": {},
   "outputs": [
    {
     "name": "stderr",
     "output_type": "stream",
     "text": [
      "C:\\Users\\sm.woo\\Anaconda3\\lib\\site-packages\\statsmodels\\tsa\\base\\tsa_model.py:219: ValueWarning: A date index has been provided, but it has no associated frequency information and so will be ignored when e.g. forecasting.\n",
      "  ' ignored when e.g. forecasting.', ValueWarning)\n",
      "C:\\Users\\sm.woo\\Anaconda3\\lib\\site-packages\\statsmodels\\tsa\\base\\tsa_model.py:219: ValueWarning: A date index has been provided, but it has no associated frequency information and so will be ignored when e.g. forecasting.\n",
      "  ' ignored when e.g. forecasting.', ValueWarning)\n"
     ]
    },
    {
     "name": "stdout",
     "output_type": "stream",
     "text": [
      "                             ARIMA Model Results                              \n",
      "==============================================================================\n",
      "Dep. Variable:                 D.Rate   No. Observations:                  246\n",
      "Model:                 ARIMA(1, 1, 1)   Log Likelihood                -696.104\n",
      "Method:                       css-mle   S.D. of innovations              4.099\n",
      "Date:                Fri, 07 Feb 2020   AIC                           1400.208\n",
      "Time:                        15:54:15   BIC                           1414.229\n",
      "Sample:                             1   HQIC                          1405.854\n",
      "                                                                              \n",
      "================================================================================\n",
      "                   coef    std err          z      P>|z|      [0.025      0.975]\n",
      "--------------------------------------------------------------------------------\n",
      "const            0.3712      0.288      1.287      0.199      -0.194       0.936\n",
      "ar.L1.D.Rate    -0.2280      0.465     -0.490      0.625      -1.140       0.684\n",
      "ma.L1.D.Rate     0.3556      0.447      0.795      0.427      -0.521       1.232\n",
      "                                    Roots                                    \n",
      "=============================================================================\n",
      "                  Real          Imaginary           Modulus         Frequency\n",
      "-----------------------------------------------------------------------------\n",
      "AR.1           -4.3869           +0.0000j            4.3869            0.5000\n",
      "MA.1           -2.8123           +0.0000j            2.8123            0.5000\n",
      "-----------------------------------------------------------------------------\n"
     ]
    }
   ],
   "source": [
    "model_2 = ARIMA(df_train, order=(1,1,1))\n",
    "model_2_fit = model_2.fit(trend='c',full_output=True, disp=1)\n",
    "print(model_2_fit.summary())"
   ]
  },
  {
   "cell_type": "code",
   "execution_count": 7,
   "metadata": {},
   "outputs": [
    {
     "name": "stderr",
     "output_type": "stream",
     "text": [
      "C:\\Users\\sm.woo\\Anaconda3\\lib\\site-packages\\statsmodels\\tsa\\base\\tsa_model.py:219: ValueWarning: A date index has been provided, but it has no associated frequency information and so will be ignored when e.g. forecasting.\n",
      "  ' ignored when e.g. forecasting.', ValueWarning)\n",
      "C:\\Users\\sm.woo\\Anaconda3\\lib\\site-packages\\statsmodels\\tsa\\base\\tsa_model.py:219: ValueWarning: A date index has been provided, but it has no associated frequency information and so will be ignored when e.g. forecasting.\n",
      "  ' ignored when e.g. forecasting.', ValueWarning)\n"
     ]
    },
    {
     "name": "stdout",
     "output_type": "stream",
     "text": [
      "                             ARIMA Model Results                              \n",
      "==============================================================================\n",
      "Dep. Variable:                 D.Rate   No. Observations:                  246\n",
      "Model:                 ARIMA(2, 1, 1)   Log Likelihood                -694.429\n",
      "Method:                       css-mle   S.D. of innovations              4.056\n",
      "Date:                Fri, 07 Feb 2020   AIC                           1398.857\n",
      "Time:                        15:54:20   BIC                           1416.384\n",
      "Sample:                             1   HQIC                          1405.914\n",
      "                                                                              \n",
      "================================================================================\n",
      "                   coef    std err          z      P>|z|      [0.025      0.975]\n",
      "--------------------------------------------------------------------------------\n",
      "const            0.3805      0.080      4.776      0.000       0.224       0.537\n",
      "ar.L1.D.Rate     1.1066      0.063     17.575      0.000       0.983       1.230\n",
      "ar.L2.D.Rate    -0.1417      0.063     -2.252      0.025      -0.265      -0.018\n",
      "ma.L1.D.Rate    -1.0000      0.011    -87.091      0.000      -1.022      -0.977\n",
      "                                    Roots                                    \n",
      "=============================================================================\n",
      "                  Real          Imaginary           Modulus         Frequency\n",
      "-----------------------------------------------------------------------------\n",
      "AR.1            1.0429           +0.0000j            1.0429            0.0000\n",
      "AR.2            6.7654           +0.0000j            6.7654            0.0000\n",
      "MA.1            1.0000           +0.0000j            1.0000            0.0000\n",
      "-----------------------------------------------------------------------------\n"
     ]
    }
   ],
   "source": [
    "model_3 = ARIMA(df_train, order=(2,1,1))\n",
    "model_3_fit = model_3.fit(trend='c',full_output=True, disp=1)\n",
    "print(model_3_fit.summary())"
   ]
  },
  {
   "cell_type": "code",
   "execution_count": 8,
   "metadata": {},
   "outputs": [
    {
     "name": "stderr",
     "output_type": "stream",
     "text": [
      "C:\\Users\\sm.woo\\Anaconda3\\lib\\site-packages\\statsmodels\\tsa\\base\\tsa_model.py:219: ValueWarning: A date index has been provided, but it has no associated frequency information and so will be ignored when e.g. forecasting.\n",
      "  ' ignored when e.g. forecasting.', ValueWarning)\n",
      "C:\\Users\\sm.woo\\Anaconda3\\lib\\site-packages\\statsmodels\\tsa\\base\\tsa_model.py:219: ValueWarning: A date index has been provided, but it has no associated frequency information and so will be ignored when e.g. forecasting.\n",
      "  ' ignored when e.g. forecasting.', ValueWarning)\n"
     ]
    },
    {
     "name": "stdout",
     "output_type": "stream",
     "text": [
      "                             ARIMA Model Results                              \n",
      "==============================================================================\n",
      "Dep. Variable:                 D.Rate   No. Observations:                  246\n",
      "Model:                 ARIMA(2, 1, 1)   Log Likelihood                -696.973\n",
      "Method:                       css-mle   S.D. of innovations              4.113\n",
      "Date:                Fri, 07 Feb 2020   AIC                           1401.945\n",
      "Time:                        15:54:23   BIC                           1415.966\n",
      "Sample:                             1   HQIC                          1407.591\n",
      "                                                                              \n",
      "================================================================================\n",
      "                   coef    std err          z      P>|z|      [0.025      0.975]\n",
      "--------------------------------------------------------------------------------\n",
      "ar.L1.D.Rate     0.6018      0.973      0.618      0.537      -1.305       2.509\n",
      "ar.L2.D.Rate    -0.0509      0.150     -0.340      0.734      -0.344       0.242\n",
      "ma.L1.D.Rate    -0.4706      0.970     -0.485      0.628      -2.372       1.431\n",
      "                                    Roots                                    \n",
      "=============================================================================\n",
      "                  Real          Imaginary           Modulus         Frequency\n",
      "-----------------------------------------------------------------------------\n",
      "AR.1            2.0005           +0.0000j            2.0005            0.0000\n",
      "AR.2            9.8131           +0.0000j            9.8131            0.0000\n",
      "MA.1            2.1252           +0.0000j            2.1252            0.0000\n",
      "-----------------------------------------------------------------------------\n"
     ]
    }
   ],
   "source": [
    "model_4 = ARIMA(df_train, order=(2,1,1))\n",
    "model_4_fit = model_4.fit(trend='nc',full_output=True, disp=1)\n",
    "print(model_4_fit.summary())"
   ]
  },
  {
   "cell_type": "code",
   "execution_count": 9,
   "metadata": {},
   "outputs": [
    {
     "name": "stderr",
     "output_type": "stream",
     "text": [
      "C:\\Users\\sm.woo\\Anaconda3\\lib\\site-packages\\statsmodels\\tsa\\base\\tsa_model.py:219: ValueWarning: A date index has been provided, but it has no associated frequency information and so will be ignored when e.g. forecasting.\n",
      "  ' ignored when e.g. forecasting.', ValueWarning)\n",
      "C:\\Users\\sm.woo\\Anaconda3\\lib\\site-packages\\statsmodels\\tsa\\base\\tsa_model.py:219: ValueWarning: A date index has been provided, but it has no associated frequency information and so will be ignored when e.g. forecasting.\n",
      "  ' ignored when e.g. forecasting.', ValueWarning)\n"
     ]
    },
    {
     "name": "stdout",
     "output_type": "stream",
     "text": [
      "                             ARIMA Model Results                              \n",
      "==============================================================================\n",
      "Dep. Variable:                 D.Rate   No. Observations:                  246\n",
      "Model:                 ARIMA(2, 1, 2)   Log Likelihood                -696.346\n",
      "Method:                       css-mle   S.D. of innovations              4.102\n",
      "Date:                Fri, 07 Feb 2020   AIC                           1402.691\n",
      "Time:                        15:54:29   BIC                           1420.218\n",
      "Sample:                             1   HQIC                          1409.748\n",
      "                                                                              \n",
      "================================================================================\n",
      "                   coef    std err          z      P>|z|      [0.025      0.975]\n",
      "--------------------------------------------------------------------------------\n",
      "ar.L1.D.Rate     1.7305      0.340      5.093      0.000       1.065       2.397\n",
      "ar.L2.D.Rate    -0.8655      0.283     -3.063      0.002      -1.419      -0.312\n",
      "ma.L1.D.Rate    -1.6543      0.421     -3.930      0.000      -2.479      -0.829\n",
      "ma.L2.D.Rate     0.7876      0.344      2.287      0.023       0.112       1.463\n",
      "                                    Roots                                    \n",
      "=============================================================================\n",
      "                  Real          Imaginary           Modulus         Frequency\n",
      "-----------------------------------------------------------------------------\n",
      "AR.1            0.9997           -0.3950j            1.0749           -0.0599\n",
      "AR.2            0.9997           +0.3950j            1.0749            0.0599\n",
      "MA.1            1.0503           -0.4083j            1.1268           -0.0590\n",
      "MA.2            1.0503           +0.4083j            1.1268            0.0590\n",
      "-----------------------------------------------------------------------------\n"
     ]
    }
   ],
   "source": [
    "model_5 = ARIMA(df_train, order=(2,1,2))\n",
    "model_5_fit = model_5.fit(trend='nc',full_output=True, disp=1)\n",
    "print(model_5_fit.summary())"
   ]
  },
  {
   "cell_type": "code",
   "execution_count": 10,
   "metadata": {},
   "outputs": [
    {
     "name": "stderr",
     "output_type": "stream",
     "text": [
      "C:\\Users\\sm.woo\\Anaconda3\\lib\\site-packages\\statsmodels\\tsa\\base\\tsa_model.py:219: ValueWarning: A date index has been provided, but it has no associated frequency information and so will be ignored when e.g. forecasting.\n",
      "  ' ignored when e.g. forecasting.', ValueWarning)\n",
      "C:\\Users\\sm.woo\\Anaconda3\\lib\\site-packages\\statsmodels\\tsa\\base\\tsa_model.py:219: ValueWarning: A date index has been provided, but it has no associated frequency information and so will be ignored when e.g. forecasting.\n",
      "  ' ignored when e.g. forecasting.', ValueWarning)\n"
     ]
    },
    {
     "name": "stdout",
     "output_type": "stream",
     "text": [
      "                             ARIMA Model Results                              \n",
      "==============================================================================\n",
      "Dep. Variable:                 D.Rate   No. Observations:                  246\n",
      "Model:                 ARIMA(2, 1, 2)   Log Likelihood                -695.371\n",
      "Method:                       css-mle   S.D. of innovations              4.085\n",
      "Date:                Fri, 07 Feb 2020   AIC                           1402.742\n",
      "Time:                        15:54:34   BIC                           1423.774\n",
      "Sample:                             1   HQIC                          1411.211\n",
      "                                                                              \n",
      "================================================================================\n",
      "                   coef    std err          z      P>|z|      [0.025      0.975]\n",
      "--------------------------------------------------------------------------------\n",
      "const            0.3508      0.247      1.418      0.157      -0.134       0.836\n",
      "ar.L1.D.Rate     1.7990      0.180      9.990      0.000       1.446       2.152\n",
      "ar.L2.D.Rate    -0.9225      0.165     -5.586      0.000      -1.246      -0.599\n",
      "ma.L1.D.Rate    -1.7454      0.242     -7.209      0.000      -2.220      -1.271\n",
      "ma.L2.D.Rate     0.8623      0.226      3.822      0.000       0.420       1.305\n",
      "                                    Roots                                    \n",
      "=============================================================================\n",
      "                  Real          Imaginary           Modulus         Frequency\n",
      "-----------------------------------------------------------------------------\n",
      "AR.1            0.9750           -0.3651j            1.0411           -0.0570\n",
      "AR.2            0.9750           +0.3651j            1.0411            0.0570\n",
      "MA.1            1.0121           -0.3680j            1.0769           -0.0555\n",
      "MA.2            1.0121           +0.3680j            1.0769            0.0555\n",
      "-----------------------------------------------------------------------------\n"
     ]
    }
   ],
   "source": [
    "model_6 = ARIMA(df_train, order=(2,1,2))\n",
    "model_6_fit = model_6.fit(trend='c',full_output=True, disp=1)\n",
    "print(model_6_fit.summary())"
   ]
  },
  {
   "cell_type": "code",
   "execution_count": 11,
   "metadata": {},
   "outputs": [
    {
     "name": "stderr",
     "output_type": "stream",
     "text": [
      "C:\\Users\\sm.woo\\Anaconda3\\lib\\site-packages\\statsmodels\\tsa\\base\\tsa_model.py:219: ValueWarning: A date index has been provided, but it has no associated frequency information and so will be ignored when e.g. forecasting.\n",
      "  ' ignored when e.g. forecasting.', ValueWarning)\n",
      "C:\\Users\\sm.woo\\Anaconda3\\lib\\site-packages\\statsmodels\\tsa\\base\\tsa_model.py:219: ValueWarning: A date index has been provided, but it has no associated frequency information and so will be ignored when e.g. forecasting.\n",
      "  ' ignored when e.g. forecasting.', ValueWarning)\n",
      "C:\\Users\\sm.woo\\Anaconda3\\lib\\site-packages\\statsmodels\\base\\model.py:492: HessianInversionWarning: Inverting hessian failed, no bse or cov_params available\n",
      "  'available', HessianInversionWarning)\n",
      "C:\\Users\\sm.woo\\Anaconda3\\lib\\site-packages\\statsmodels\\base\\model.py:512: ConvergenceWarning: Maximum Likelihood optimization failed to converge. Check mle_retvals\n",
      "  \"Check mle_retvals\", ConvergenceWarning)\n"
     ]
    },
    {
     "name": "stdout",
     "output_type": "stream",
     "text": [
      "                             ARIMA Model Results                              \n",
      "==============================================================================\n",
      "Dep. Variable:                 D.Rate   No. Observations:                  246\n",
      "Model:                 ARIMA(4, 1, 3)   Log Likelihood                -695.242\n",
      "Method:                       css-mle   S.D. of innovations              4.060\n",
      "Date:                Fri, 07 Feb 2020   AIC                           1406.483\n",
      "Time:                        15:54:54   BIC                           1434.526\n",
      "Sample:                             1   HQIC                          1417.775\n",
      "                                                                              \n",
      "================================================================================\n",
      "                   coef    std err          z      P>|z|      [0.025      0.975]\n",
      "--------------------------------------------------------------------------------\n",
      "ar.L1.D.Rate     0.1338      0.064      2.076      0.039       0.007       0.260\n",
      "ar.L2.D.Rate     0.0160      0.007      2.184      0.030       0.002       0.030\n",
      "ar.L3.D.Rate     0.9970        nan        nan        nan         nan         nan\n",
      "ar.L4.D.Rate    -0.1479      0.064     -2.320      0.021      -0.273      -0.023\n",
      "ma.L1.D.Rate     0.0106      0.008      1.348      0.179      -0.005       0.026\n",
      "ma.L2.D.Rate    -0.0086      0.007     -1.205      0.230      -0.022       0.005\n",
      "ma.L3.D.Rate    -0.9982        nan        nan        nan         nan         nan\n",
      "                                    Roots                                    \n",
      "=============================================================================\n",
      "                  Real          Imaginary           Modulus         Frequency\n",
      "-----------------------------------------------------------------------------\n",
      "AR.1           -0.5072           -0.8622j            1.0003           -0.3346\n",
      "AR.2           -0.5072           +0.8622j            1.0003            0.3346\n",
      "AR.3            1.0004           -0.0000j            1.0004           -0.0000\n",
      "AR.4            6.7569           -0.0000j            6.7569           -0.0000\n",
      "MA.1           -0.5049           -0.8635j            1.0003           -0.3342\n",
      "MA.2           -0.5049           +0.8635j            1.0003            0.3342\n",
      "MA.3            1.0013           -0.0000j            1.0013           -0.0000\n",
      "-----------------------------------------------------------------------------\n"
     ]
    },
    {
     "name": "stderr",
     "output_type": "stream",
     "text": [
      "C:\\Users\\sm.woo\\Anaconda3\\lib\\site-packages\\statsmodels\\tsa\\arima_model.py:1441: RuntimeWarning: invalid value encountered in sqrt\n",
      "  return np.sqrt(np.diag(-inv(hess)))\n",
      "C:\\Users\\sm.woo\\Anaconda3\\lib\\site-packages\\scipy\\stats\\_distn_infrastructure.py:901: RuntimeWarning: invalid value encountered in greater\n",
      "  return (a < x) & (x < b)\n",
      "C:\\Users\\sm.woo\\Anaconda3\\lib\\site-packages\\scipy\\stats\\_distn_infrastructure.py:901: RuntimeWarning: invalid value encountered in less\n",
      "  return (a < x) & (x < b)\n",
      "C:\\Users\\sm.woo\\Anaconda3\\lib\\site-packages\\scipy\\stats\\_distn_infrastructure.py:1892: RuntimeWarning: invalid value encountered in less_equal\n",
      "  cond2 = cond0 & (x <= _a)\n"
     ]
    }
   ],
   "source": [
    "model_9 = ARIMA(df_train, order=(4,1,3))\n",
    "model_9_fit = model_9.fit(trend='nc',full_output=True, disp=1)\n",
    "print(model_9_fit.summary())"
   ]
  },
  {
   "cell_type": "code",
   "execution_count": 12,
   "metadata": {},
   "outputs": [
    {
     "name": "stderr",
     "output_type": "stream",
     "text": [
      "C:\\Users\\sm.woo\\Anaconda3\\lib\\site-packages\\statsmodels\\tsa\\base\\tsa_model.py:219: ValueWarning: A date index has been provided, but it has no associated frequency information and so will be ignored when e.g. forecasting.\n",
      "  ' ignored when e.g. forecasting.', ValueWarning)\n",
      "C:\\Users\\sm.woo\\Anaconda3\\lib\\site-packages\\statsmodels\\tsa\\base\\tsa_model.py:219: ValueWarning: A date index has been provided, but it has no associated frequency information and so will be ignored when e.g. forecasting.\n",
      "  ' ignored when e.g. forecasting.', ValueWarning)\n",
      "C:\\Users\\sm.woo\\Anaconda3\\lib\\site-packages\\statsmodels\\base\\model.py:492: HessianInversionWarning: Inverting hessian failed, no bse or cov_params available\n",
      "  'available', HessianInversionWarning)\n"
     ]
    },
    {
     "name": "stdout",
     "output_type": "stream",
     "text": [
      "                             ARIMA Model Results                              \n",
      "==============================================================================\n",
      "Dep. Variable:                 D.Rate   No. Observations:                  246\n",
      "Model:                 ARIMA(4, 1, 3)   Log Likelihood                -692.686\n",
      "Method:                       css-mle   S.D. of innovations              4.004\n",
      "Date:                Fri, 07 Feb 2020   AIC                           1403.373\n",
      "Time:                        15:55:06   BIC                           1434.921\n",
      "Sample:                             1   HQIC                          1416.075\n",
      "                                                                              \n",
      "================================================================================\n",
      "                   coef    std err          z      P>|z|      [0.025      0.975]\n",
      "--------------------------------------------------------------------------------\n",
      "const            0.3818      0.079      4.815      0.000       0.226       0.537\n",
      "ar.L1.D.Rate     0.1112      0.065      1.709      0.089      -0.016       0.239\n",
      "ar.L2.D.Rate    -0.0189      0.021     -0.911      0.363      -0.060       0.022\n",
      "ar.L3.D.Rate     0.9622      0.017     55.757      0.000       0.928       0.996\n",
      "ar.L4.D.Rate    -0.1595      0.063     -2.526      0.012      -0.283      -0.036\n",
      "ma.L1.D.Rate     0.0086      0.024      0.357      0.721      -0.038       0.056\n",
      "ma.L2.D.Rate    -0.0087      0.024     -0.362      0.717      -0.056       0.038\n",
      "ma.L3.D.Rate    -0.9999      0.022    -46.324      0.000      -1.042      -0.958\n",
      "                                    Roots                                    \n",
      "=============================================================================\n",
      "                  Real          Imaginary           Modulus         Frequency\n",
      "-----------------------------------------------------------------------------\n",
      "AR.1           -0.5071           -0.8623j            1.0004           -0.3346\n",
      "AR.2           -0.5071           +0.8623j            1.0004            0.3346\n",
      "AR.3            1.0437           -0.0000j            1.0437           -0.0000\n",
      "AR.4            6.0025           -0.0000j            6.0025           -0.0000\n",
      "MA.1           -0.5043           -0.8636j            1.0001           -0.3341\n",
      "MA.2           -0.5043           +0.8636j            1.0001            0.3341\n",
      "MA.3            1.0000           -0.0000j            1.0000           -0.0000\n",
      "-----------------------------------------------------------------------------\n"
     ]
    }
   ],
   "source": [
    "model_10 = ARIMA(df_train, order=(4,1,3))\n",
    "model_10_fit = model_10.fit(trend='c',full_output=True, disp=1)\n",
    "print(model_10_fit.summary())"
   ]
  },
  {
   "cell_type": "code",
   "execution_count": 13,
   "metadata": {},
   "outputs": [
    {
     "name": "stderr",
     "output_type": "stream",
     "text": [
      "C:\\Users\\sm.woo\\Anaconda3\\lib\\site-packages\\statsmodels\\tsa\\base\\tsa_model.py:219: ValueWarning: A date index has been provided, but it has no associated frequency information and so will be ignored when e.g. forecasting.\n",
      "  ' ignored when e.g. forecasting.', ValueWarning)\n",
      "C:\\Users\\sm.woo\\Anaconda3\\lib\\site-packages\\statsmodels\\tsa\\base\\tsa_model.py:219: ValueWarning: A date index has been provided, but it has no associated frequency information and so will be ignored when e.g. forecasting.\n",
      "  ' ignored when e.g. forecasting.', ValueWarning)\n",
      "C:\\Users\\sm.woo\\Anaconda3\\lib\\site-packages\\statsmodels\\base\\model.py:492: HessianInversionWarning: Inverting hessian failed, no bse or cov_params available\n",
      "  'available', HessianInversionWarning)\n"
     ]
    },
    {
     "name": "stdout",
     "output_type": "stream",
     "text": [
      "                             ARIMA Model Results                              \n",
      "==============================================================================\n",
      "Dep. Variable:                 D.Rate   No. Observations:                  246\n",
      "Model:                 ARIMA(4, 1, 4)   Log Likelihood                -691.809\n",
      "Method:                       css-mle   S.D. of innovations              3.999\n",
      "Date:                Fri, 07 Feb 2020   AIC                           1401.618\n",
      "Time:                        15:55:18   BIC                           1433.166\n",
      "Sample:                             1   HQIC                          1414.321\n",
      "                                                                              \n",
      "================================================================================\n",
      "                   coef    std err          z      P>|z|      [0.025      0.975]\n",
      "--------------------------------------------------------------------------------\n",
      "ar.L1.D.Rate    -1.3459      0.100    -13.520      0.000      -1.541      -1.151\n",
      "ar.L2.D.Rate    -1.1745      0.087    -13.474      0.000      -1.345      -1.004\n",
      "ar.L3.D.Rate    -1.3503      0.081    -16.735      0.000      -1.508      -1.192\n",
      "ar.L4.D.Rate    -0.7122      0.104     -6.833      0.000      -0.916      -0.508\n",
      "ma.L1.D.Rate     1.5038      0.069     21.821      0.000       1.369       1.639\n",
      "ma.L2.D.Rate     1.3550      0.058     23.193      0.000       1.241       1.470\n",
      "ma.L3.D.Rate     1.5344      0.059     26.057      0.000       1.419       1.650\n",
      "ma.L4.D.Rate     0.8984      0.074     12.116      0.000       0.753       1.044\n",
      "                                    Roots                                    \n",
      "=============================================================================\n",
      "                  Real          Imaginary           Modulus         Frequency\n",
      "-----------------------------------------------------------------------------\n",
      "AR.1            0.1658           -1.0101j            1.0236           -0.2241\n",
      "AR.2            0.1658           +1.0101j            1.0236            0.2241\n",
      "AR.3           -1.1138           -0.3154j            1.1576           -0.4561\n",
      "AR.4           -1.1138           +0.3154j            1.1576            0.4561\n",
      "MA.1            0.1505           -0.9886j            1.0000           -0.2260\n",
      "MA.2            0.1505           +0.9886j            1.0000            0.2260\n",
      "MA.3           -1.0045           -0.3226j            1.0550           -0.4505\n",
      "MA.4           -1.0045           +0.3226j            1.0550            0.4505\n",
      "-----------------------------------------------------------------------------\n"
     ]
    }
   ],
   "source": [
    "model_11 = ARIMA(df_train, order=(4,1,4))\n",
    "model_11_fit = model_11.fit(trend='nc',full_output=True, disp=1)\n",
    "print(model_11_fit.summary())"
   ]
  },
  {
   "cell_type": "code",
   "execution_count": 14,
   "metadata": {},
   "outputs": [
    {
     "name": "stderr",
     "output_type": "stream",
     "text": [
      "C:\\Users\\sm.woo\\Anaconda3\\lib\\site-packages\\statsmodels\\tsa\\base\\tsa_model.py:219: ValueWarning: A date index has been provided, but it has no associated frequency information and so will be ignored when e.g. forecasting.\n",
      "  ' ignored when e.g. forecasting.', ValueWarning)\n",
      "C:\\Users\\sm.woo\\Anaconda3\\lib\\site-packages\\statsmodels\\tsa\\base\\tsa_model.py:219: ValueWarning: A date index has been provided, but it has no associated frequency information and so will be ignored when e.g. forecasting.\n",
      "  ' ignored when e.g. forecasting.', ValueWarning)\n",
      "C:\\Users\\sm.woo\\Anaconda3\\lib\\site-packages\\statsmodels\\tsa\\tsatools.py:668: RuntimeWarning: invalid value encountered in true_divide\n",
      "  newparams = ((1-np.exp(-params))/(1+np.exp(-params))).copy()\n",
      "C:\\Users\\sm.woo\\Anaconda3\\lib\\site-packages\\statsmodels\\tsa\\tsatools.py:669: RuntimeWarning: invalid value encountered in true_divide\n",
      "  tmp = ((1-np.exp(-params))/(1+np.exp(-params))).copy()\n",
      "C:\\Users\\sm.woo\\Anaconda3\\lib\\site-packages\\statsmodels\\base\\model.py:492: HessianInversionWarning: Inverting hessian failed, no bse or cov_params available\n",
      "  'available', HessianInversionWarning)\n"
     ]
    },
    {
     "name": "stdout",
     "output_type": "stream",
     "text": [
      "                             ARIMA Model Results                              \n",
      "==============================================================================\n",
      "Dep. Variable:                 D.Rate   No. Observations:                  246\n",
      "Model:                 ARIMA(4, 1, 4)   Log Likelihood                -691.022\n",
      "Method:                       css-mle   S.D. of innovations              3.987\n",
      "Date:                Fri, 07 Feb 2020   AIC                           1402.043\n",
      "Time:                        15:55:35   BIC                           1437.097\n",
      "Sample:                             1   HQIC                          1416.158\n",
      "                                                                              \n",
      "================================================================================\n",
      "                   coef    std err          z      P>|z|      [0.025      0.975]\n",
      "--------------------------------------------------------------------------------\n",
      "const            0.3596      0.286      1.259      0.209      -0.200       0.920\n",
      "ar.L1.D.Rate    -1.3505      0.099    -13.600      0.000      -1.545      -1.156\n",
      "ar.L2.D.Rate    -1.1797      0.087    -13.554      0.000      -1.350      -1.009\n",
      "ar.L3.D.Rate    -1.3548      0.081    -16.813      0.000      -1.513      -1.197\n",
      "ar.L4.D.Rate    -0.7171      0.104     -6.910      0.000      -0.921      -0.514\n",
      "ma.L1.D.Rate     1.5054      0.069     21.916      0.000       1.371       1.640\n",
      "ma.L2.D.Rate     1.3564      0.058     23.307      0.000       1.242       1.470\n",
      "ma.L3.D.Rate     1.5355      0.059     26.169      0.000       1.420       1.650\n",
      "ma.L4.D.Rate     0.9002      0.074     12.207      0.000       0.756       1.045\n",
      "                                    Roots                                    \n",
      "=============================================================================\n",
      "                  Real          Imaginary           Modulus         Frequency\n",
      "-----------------------------------------------------------------------------\n",
      "AR.1            0.1653           -1.0097j            1.0231           -0.2242\n",
      "AR.2            0.1653           +1.0097j            1.0231            0.2242\n",
      "AR.3           -1.1099           -0.3166j            1.1542           -0.4558\n",
      "AR.4           -1.1099           +0.3166j            1.1542            0.4558\n",
      "MA.1            0.1505           -0.9886j            1.0000           -0.2260\n",
      "MA.2            0.1505           +0.9886j            1.0000            0.2260\n",
      "MA.3           -1.0034           -0.3226j            1.0540           -0.4505\n",
      "MA.4           -1.0034           +0.3226j            1.0540            0.4505\n",
      "-----------------------------------------------------------------------------\n"
     ]
    }
   ],
   "source": [
    "model_12 = ARIMA(df_train, order=(4,1,4))\n",
    "model_12_fit = model_12.fit(trend='c',full_output=True, disp=1)\n",
    "print(model_12_fit.summary())"
   ]
  },
  {
   "cell_type": "code",
   "execution_count": 15,
   "metadata": {},
   "outputs": [
    {
     "name": "stderr",
     "output_type": "stream",
     "text": [
      "C:\\Users\\sm.woo\\Anaconda3\\lib\\site-packages\\statsmodels\\tsa\\base\\tsa_model.py:219: ValueWarning: A date index has been provided, but it has no associated frequency information and so will be ignored when e.g. forecasting.\n",
      "  ' ignored when e.g. forecasting.', ValueWarning)\n",
      "C:\\Users\\sm.woo\\Anaconda3\\lib\\site-packages\\statsmodels\\tsa\\base\\tsa_model.py:219: ValueWarning: A date index has been provided, but it has no associated frequency information and so will be ignored when e.g. forecasting.\n",
      "  ' ignored when e.g. forecasting.', ValueWarning)\n",
      "C:\\Users\\sm.woo\\Anaconda3\\lib\\site-packages\\statsmodels\\base\\model.py:492: HessianInversionWarning: Inverting hessian failed, no bse or cov_params available\n",
      "  'available', HessianInversionWarning)\n"
     ]
    },
    {
     "name": "stdout",
     "output_type": "stream",
     "text": [
      "                             ARIMA Model Results                              \n",
      "==============================================================================\n",
      "Dep. Variable:                 D.Rate   No. Observations:                  246\n",
      "Model:                 ARIMA(5, 1, 4)   Log Likelihood                -692.702\n",
      "Method:                       css-mle   S.D. of innovations              4.005\n",
      "Date:                Fri, 07 Feb 2020   AIC                           1407.404\n",
      "Time:                        15:55:52   BIC                           1445.963\n",
      "Sample:                             1   HQIC                          1422.930\n",
      "                                                                              \n",
      "================================================================================\n",
      "                   coef    std err          z      P>|z|      [0.025      0.975]\n",
      "--------------------------------------------------------------------------------\n",
      "const            0.3781      0.079      4.773      0.000       0.223       0.533\n",
      "ar.L1.D.Rate     0.4226      0.068      6.175      0.000       0.288       0.557\n",
      "ar.L2.D.Rate    -0.0425      0.044     -0.965      0.335      -0.129       0.044\n",
      "ar.L3.D.Rate    -0.3226      0.044     -7.363      0.000      -0.408      -0.237\n",
      "ar.L4.D.Rate     0.9614      0.041     23.441      0.000       0.881       1.042\n",
      "ar.L5.D.Rate    -0.1370      0.066     -2.077      0.039      -0.266      -0.008\n",
      "ma.L1.D.Rate    -0.3191      0.029    -10.818      0.000      -0.377      -0.261\n",
      "ma.L2.D.Rate     0.0255      0.034      0.741      0.459      -0.042       0.093\n",
      "ma.L3.D.Rate     0.2740      0.033      8.218      0.000       0.209       0.339\n",
      "ma.L4.D.Rate    -0.9804      0.030    -32.530      0.000      -1.039      -0.921\n",
      "                                    Roots                                    \n",
      "=============================================================================\n",
      "                  Real          Imaginary           Modulus         Frequency\n",
      "-----------------------------------------------------------------------------\n",
      "AR.1           -1.0087           -0.0000j            1.0087           -0.5000\n",
      "AR.2            0.1592           -1.0074j            1.0199           -0.2251\n",
      "AR.3            0.1592           +1.0074j            1.0199            0.2251\n",
      "AR.4            1.0440           -0.0000j            1.0440           -0.0000\n",
      "AR.5            6.6643           -0.0000j            6.6643           -0.0000\n",
      "MA.1            1.0000           -0.0000j            1.0000           -0.0000\n",
      "MA.2            0.1497           -0.9887j            1.0000           -0.2261\n",
      "MA.3            0.1497           +0.9887j            1.0000            0.2261\n",
      "MA.4           -1.0200           -0.0000j            1.0200           -0.5000\n",
      "-----------------------------------------------------------------------------\n"
     ]
    }
   ],
   "source": [
    "model_13 = ARIMA(df_train, order=(5,1,4))\n",
    "model_13_fit = model_13.fit(trend='c',full_output=True, disp=1)\n",
    "print(model_13_fit.summary())"
   ]
  },
  {
   "cell_type": "code",
   "execution_count": 16,
   "metadata": {},
   "outputs": [
    {
     "name": "stderr",
     "output_type": "stream",
     "text": [
      "C:\\Users\\sm.woo\\Anaconda3\\lib\\site-packages\\statsmodels\\tsa\\base\\tsa_model.py:219: ValueWarning: A date index has been provided, but it has no associated frequency information and so will be ignored when e.g. forecasting.\n",
      "  ' ignored when e.g. forecasting.', ValueWarning)\n",
      "C:\\Users\\sm.woo\\Anaconda3\\lib\\site-packages\\statsmodels\\tsa\\base\\tsa_model.py:219: ValueWarning: A date index has been provided, but it has no associated frequency information and so will be ignored when e.g. forecasting.\n",
      "  ' ignored when e.g. forecasting.', ValueWarning)\n"
     ]
    },
    {
     "name": "stdout",
     "output_type": "stream",
     "text": [
      "                             ARIMA Model Results                              \n",
      "==============================================================================\n",
      "Dep. Variable:                 D.Rate   No. Observations:                  246\n",
      "Model:                 ARIMA(5, 1, 4)   Log Likelihood                -695.135\n",
      "Method:                       css-mle   S.D. of innovations              4.060\n",
      "Date:                Fri, 07 Feb 2020   AIC                           1410.270\n",
      "Time:                        15:56:10   BIC                           1445.324\n",
      "Sample:                             1   HQIC                          1424.385\n",
      "                                                                              \n",
      "================================================================================\n",
      "                   coef    std err          z      P>|z|      [0.025      0.975]\n",
      "--------------------------------------------------------------------------------\n",
      "ar.L1.D.Rate     0.3997      0.111      3.597      0.000       0.182       0.617\n",
      "ar.L2.D.Rate    -0.0527      0.072     -0.733      0.464      -0.193       0.088\n",
      "ar.L3.D.Rate    -0.3356      0.070     -4.807      0.000      -0.472      -0.199\n",
      "ar.L4.D.Rate     0.9426      0.092     10.217      0.000       0.762       1.123\n",
      "ar.L5.D.Rate    -0.1307      0.066     -1.977      0.049      -0.260      -0.001\n",
      "ma.L1.D.Rate    -0.2694      0.093     -2.898      0.004      -0.452      -0.087\n",
      "ma.L2.D.Rate     0.0597      0.069      0.868      0.386      -0.075       0.195\n",
      "ma.L3.D.Rate     0.3098      0.070      4.453      0.000       0.173       0.446\n",
      "ma.L4.D.Rate    -0.9311      0.091    -10.215      0.000      -1.110      -0.752\n",
      "                                    Roots                                    \n",
      "=============================================================================\n",
      "                  Real          Imaginary           Modulus         Frequency\n",
      "-----------------------------------------------------------------------------\n",
      "AR.1           -1.0087           -0.0000j            1.0087           -0.5000\n",
      "AR.2            0.1600           -1.0073j            1.0199           -0.2249\n",
      "AR.3            0.1600           +1.0073j            1.0199            0.2249\n",
      "AR.4            1.0671           -0.0000j            1.0671           -0.0000\n",
      "AR.5            6.8320           -0.0000j            6.8320           -0.0000\n",
      "MA.1           -1.0201           -0.0000j            1.0201           -0.5000\n",
      "MA.2            0.1500           -0.9887j            1.0000           -0.2260\n",
      "MA.3            0.1500           +0.9887j            1.0000            0.2260\n",
      "MA.4            1.0528           -0.0000j            1.0528           -0.0000\n",
      "-----------------------------------------------------------------------------\n"
     ]
    }
   ],
   "source": [
    "model_14 = ARIMA(df_train, order=(5,1,4))\n",
    "model_14_fit = model_14.fit(trend='nc',full_output=True, disp=1)\n",
    "print(model_14_fit.summary())"
   ]
  },
  {
   "cell_type": "code",
   "execution_count": 17,
   "metadata": {},
   "outputs": [
    {
     "name": "stderr",
     "output_type": "stream",
     "text": [
      "C:\\Users\\sm.woo\\Anaconda3\\lib\\site-packages\\statsmodels\\tsa\\base\\tsa_model.py:219: ValueWarning: A date index has been provided, but it has no associated frequency information and so will be ignored when e.g. forecasting.\n",
      "  ' ignored when e.g. forecasting.', ValueWarning)\n",
      "C:\\Users\\sm.woo\\Anaconda3\\lib\\site-packages\\statsmodels\\tsa\\base\\tsa_model.py:219: ValueWarning: A date index has been provided, but it has no associated frequency information and so will be ignored when e.g. forecasting.\n",
      "  ' ignored when e.g. forecasting.', ValueWarning)\n"
     ]
    },
    {
     "name": "stdout",
     "output_type": "stream",
     "text": [
      "                             ARIMA Model Results                              \n",
      "==============================================================================\n",
      "Dep. Variable:                 D.Rate   No. Observations:                  246\n",
      "Model:                 ARIMA(5, 1, 3)   Log Likelihood                -694.569\n",
      "Method:                       css-mle   S.D. of innovations              4.071\n",
      "Date:                Fri, 07 Feb 2020   AIC                           1407.138\n",
      "Time:                        15:56:18   BIC                           1438.686\n",
      "Sample:                             1   HQIC                          1419.840\n",
      "                                                                              \n",
      "================================================================================\n",
      "                   coef    std err          z      P>|z|      [0.025      0.975]\n",
      "--------------------------------------------------------------------------------\n",
      "ar.L1.D.Rate     0.5915      0.285      2.077      0.039       0.033       1.150\n",
      "ar.L2.D.Rate     0.6589      0.175      3.765      0.000       0.316       1.002\n",
      "ar.L3.D.Rate    -0.6771      0.297     -2.279      0.024      -1.259      -0.095\n",
      "ar.L4.D.Rate     0.1129      0.087      1.297      0.196      -0.058       0.283\n",
      "ar.L5.D.Rate    -0.1085      0.068     -1.585      0.114      -0.243       0.026\n",
      "ma.L1.D.Rate    -0.4589      0.283     -1.622      0.106      -1.013       0.096\n",
      "ma.L2.D.Rate    -0.7437      0.166     -4.472      0.000      -1.070      -0.418\n",
      "ma.L3.D.Rate     0.6409      0.280      2.287      0.023       0.092       1.190\n",
      "                                    Roots                                    \n",
      "=============================================================================\n",
      "                  Real          Imaginary           Modulus         Frequency\n",
      "-----------------------------------------------------------------------------\n",
      "AR.1           -1.0090           -0.0000j            1.0090           -0.5000\n",
      "AR.2            1.0293           -0.4901j            1.1400           -0.0707\n",
      "AR.3            1.0293           +0.4901j            1.1400            0.0707\n",
      "AR.4           -0.0048           -2.6506j            2.6506           -0.2503\n",
      "AR.5           -0.0048           +2.6506j            2.6506            0.2503\n",
      "MA.1           -1.0246           -0.0000j            1.0246           -0.5000\n",
      "MA.2            1.0925           -0.5738j            1.2340           -0.0770\n",
      "MA.3            1.0925           +0.5738j            1.2340            0.0770\n",
      "-----------------------------------------------------------------------------\n"
     ]
    }
   ],
   "source": [
    "model_15 = ARIMA(df_train, order=(5,1,3))\n",
    "model_15_fit = model_15.fit(trend='nc',full_output=True, disp=1)\n",
    "print(model_15_fit.summary())"
   ]
  },
  {
   "cell_type": "code",
   "execution_count": 18,
   "metadata": {},
   "outputs": [
    {
     "name": "stderr",
     "output_type": "stream",
     "text": [
      "C:\\Users\\sm.woo\\Anaconda3\\lib\\site-packages\\statsmodels\\tsa\\base\\tsa_model.py:219: ValueWarning: A date index has been provided, but it has no associated frequency information and so will be ignored when e.g. forecasting.\n",
      "  ' ignored when e.g. forecasting.', ValueWarning)\n",
      "C:\\Users\\sm.woo\\Anaconda3\\lib\\site-packages\\statsmodels\\tsa\\base\\tsa_model.py:219: ValueWarning: A date index has been provided, but it has no associated frequency information and so will be ignored when e.g. forecasting.\n",
      "  ' ignored when e.g. forecasting.', ValueWarning)\n"
     ]
    },
    {
     "name": "stdout",
     "output_type": "stream",
     "text": [
      "                             ARIMA Model Results                              \n",
      "==============================================================================\n",
      "Dep. Variable:                 D.Rate   No. Observations:                  246\n",
      "Model:                 ARIMA(5, 1, 3)   Log Likelihood                -693.669\n",
      "Method:                       css-mle   S.D. of innovations              4.056\n",
      "Date:                Fri, 07 Feb 2020   AIC                           1407.338\n",
      "Time:                        15:56:22   BIC                           1442.391\n",
      "Sample:                             1   HQIC                          1421.452\n",
      "                                                                              \n",
      "================================================================================\n",
      "                   coef    std err          z      P>|z|      [0.025      0.975]\n",
      "--------------------------------------------------------------------------------\n",
      "const            0.3517      0.258      1.366      0.173      -0.153       0.856\n",
      "ar.L1.D.Rate     0.5935      0.307      1.935      0.054      -0.008       1.194\n",
      "ar.L2.D.Rate     0.6781      0.144      4.723      0.000       0.397       0.959\n",
      "ar.L3.D.Rate    -0.6611      0.291     -2.269      0.024      -1.232      -0.090\n",
      "ar.L4.D.Rate     0.1072      0.085      1.268      0.206      -0.059       0.273\n",
      "ar.L5.D.Rate    -0.1130      0.069     -1.628      0.105      -0.249       0.023\n",
      "ma.L1.D.Rate    -0.4679      0.306     -1.529      0.128      -1.068       0.132\n",
      "ma.L2.D.Rate    -0.7670      0.136     -5.624      0.000      -1.034      -0.500\n",
      "ma.L3.D.Rate     0.6266      0.266      2.357      0.019       0.105       1.148\n",
      "                                    Roots                                    \n",
      "=============================================================================\n",
      "                  Real          Imaginary           Modulus         Frequency\n",
      "-----------------------------------------------------------------------------\n",
      "AR.1           -1.0090           -0.0000j            1.0090           -0.5000\n",
      "AR.2            1.0372           -0.4684j            1.1380           -0.0675\n",
      "AR.3            1.0372           +0.4684j            1.1380            0.0675\n",
      "AR.4           -0.0581           -2.6021j            2.6027           -0.2536\n",
      "AR.5           -0.0581           +2.6021j            2.6027            0.2536\n",
      "MA.1           -1.0247           -0.0000j            1.0247           -0.5000\n",
      "MA.2            1.1243           -0.5416j            1.2480           -0.0714\n",
      "MA.3            1.1243           +0.5416j            1.2480            0.0714\n",
      "-----------------------------------------------------------------------------\n"
     ]
    }
   ],
   "source": [
    "model_16 = ARIMA(df_train, order=(5,1,3))\n",
    "model_16_fit = model_16.fit(trend='c',full_output=True, disp=1)\n",
    "print(model_16_fit.summary())"
   ]
  },
  {
   "cell_type": "code",
   "execution_count": 19,
   "metadata": {},
   "outputs": [
    {
     "name": "stderr",
     "output_type": "stream",
     "text": [
      "C:\\Users\\sm.woo\\Anaconda3\\lib\\site-packages\\statsmodels\\tsa\\base\\tsa_model.py:219: ValueWarning: A date index has been provided, but it has no associated frequency information and so will be ignored when e.g. forecasting.\n",
      "  ' ignored when e.g. forecasting.', ValueWarning)\n",
      "C:\\Users\\sm.woo\\Anaconda3\\lib\\site-packages\\statsmodels\\tsa\\base\\tsa_model.py:219: ValueWarning: A date index has been provided, but it has no associated frequency information and so will be ignored when e.g. forecasting.\n",
      "  ' ignored when e.g. forecasting.', ValueWarning)\n",
      "C:\\Users\\sm.woo\\Anaconda3\\lib\\site-packages\\statsmodels\\base\\model.py:492: HessianInversionWarning: Inverting hessian failed, no bse or cov_params available\n",
      "  'available', HessianInversionWarning)\n",
      "C:\\Users\\sm.woo\\Anaconda3\\lib\\site-packages\\statsmodels\\base\\model.py:512: ConvergenceWarning: Maximum Likelihood optimization failed to converge. Check mle_retvals\n",
      "  \"Check mle_retvals\", ConvergenceWarning)\n"
     ]
    },
    {
     "name": "stdout",
     "output_type": "stream",
     "text": [
      "                             ARIMA Model Results                              \n",
      "==============================================================================\n",
      "Dep. Variable:                 D.Rate   No. Observations:                  246\n",
      "Model:                 ARIMA(5, 1, 2)   Log Likelihood                -704.039\n",
      "Method:                       css-mle   S.D. of innovations                nan\n",
      "Date:                Fri, 07 Feb 2020   AIC                           1426.078\n",
      "Time:                        15:56:26   BIC                           1457.626\n",
      "Sample:                             1   HQIC                          1438.781\n",
      "                                                                              \n",
      "================================================================================\n",
      "                   coef    std err          z      P>|z|      [0.025      0.975]\n",
      "--------------------------------------------------------------------------------\n",
      "const            0.3527        nan        nan        nan         nan         nan\n",
      "ar.L1.D.Rate     0.1744        nan        nan        nan         nan         nan\n",
      "ar.L2.D.Rate     0.9851        nan        nan        nan         nan         nan\n",
      "ar.L3.D.Rate    -0.0949      0.018     -5.316      0.000      -0.130      -0.060\n",
      "ar.L4.D.Rate    -0.0216      0.018     -1.209      0.228      -0.057       0.013\n",
      "ar.L5.D.Rate    -0.1160        nan        nan        nan         nan         nan\n",
      "ma.L1.D.Rate    -0.0161      0.018     -0.901      0.369      -0.051       0.019\n",
      "ma.L2.D.Rate    -0.9839      0.018    -53.374      0.000      -1.020      -0.948\n",
      "                                    Roots                                    \n",
      "=============================================================================\n",
      "                  Real          Imaginary           Modulus         Frequency\n",
      "-----------------------------------------------------------------------------\n",
      "AR.1           -1.0000           -0.0000j            1.0000           -0.5000\n",
      "AR.2            1.0633           -0.0000j            1.0633           -0.0000\n",
      "AR.3            1.6321           -0.0000j            1.6321           -0.0000\n",
      "AR.4           -0.9407           -2.0205j            2.2288           -0.3193\n",
      "AR.5           -0.9407           +2.0205j            2.2288            0.3193\n",
      "MA.1            1.0000           +0.0000j            1.0000            0.0000\n",
      "MA.2           -1.0164           +0.0000j            1.0164            0.5000\n",
      "-----------------------------------------------------------------------------\n"
     ]
    }
   ],
   "source": [
    "model_17 = ARIMA(df_train, order=(5,1,2))\n",
    "model_17_fit = model_17.fit(trend='c',full_output=True, disp=1)\n",
    "print(model_17_fit.summary())"
   ]
  },
  {
   "cell_type": "code",
   "execution_count": 20,
   "metadata": {},
   "outputs": [
    {
     "name": "stderr",
     "output_type": "stream",
     "text": [
      "C:\\Users\\sm.woo\\Anaconda3\\lib\\site-packages\\statsmodels\\tsa\\base\\tsa_model.py:219: ValueWarning: A date index has been provided, but it has no associated frequency information and so will be ignored when e.g. forecasting.\n",
      "  ' ignored when e.g. forecasting.', ValueWarning)\n",
      "C:\\Users\\sm.woo\\Anaconda3\\lib\\site-packages\\statsmodels\\tsa\\base\\tsa_model.py:219: ValueWarning: A date index has been provided, but it has no associated frequency information and so will be ignored when e.g. forecasting.\n",
      "  ' ignored when e.g. forecasting.', ValueWarning)\n"
     ]
    },
    {
     "name": "stdout",
     "output_type": "stream",
     "text": [
      "                             ARIMA Model Results                              \n",
      "==============================================================================\n",
      "Dep. Variable:                 D.Rate   No. Observations:                  246\n",
      "Model:                 ARIMA(5, 1, 2)   Log Likelihood                -694.910\n",
      "Method:                       css-mle   S.D. of innovations              4.078\n",
      "Date:                Fri, 07 Feb 2020   AIC                           1405.821\n",
      "Time:                        15:56:31   BIC                           1433.863\n",
      "Sample:                             1   HQIC                          1417.112\n",
      "                                                                              \n",
      "================================================================================\n",
      "                   coef    std err          z      P>|z|      [0.025      0.975]\n",
      "--------------------------------------------------------------------------------\n",
      "ar.L1.D.Rate    -0.0261      0.318     -0.082      0.935      -0.648       0.596\n",
      "ar.L2.D.Rate     0.6579      0.281      2.338      0.020       0.106       1.209\n",
      "ar.L3.D.Rate    -0.0248      0.085     -0.291      0.771      -0.192       0.142\n",
      "ar.L4.D.Rate     0.0295      0.066      0.448      0.654      -0.100       0.159\n",
      "ar.L5.D.Rate    -0.1228      0.067     -1.840      0.067      -0.254       0.008\n",
      "ma.L1.D.Rate     0.1657      0.316      0.524      0.600      -0.454       0.785\n",
      "ma.L2.D.Rate    -0.6564      0.306     -2.148      0.033      -1.255      -0.057\n",
      "                                    Roots                                    \n",
      "=============================================================================\n",
      "                  Real          Imaginary           Modulus         Frequency\n",
      "-----------------------------------------------------------------------------\n",
      "AR.1           -1.0608           -0.0000j            1.0608           -0.5000\n",
      "AR.2            1.3968           -0.3946j            1.4515           -0.0438\n",
      "AR.3            1.3968           +0.3946j            1.4515            0.0438\n",
      "AR.4           -0.7461           -1.7572j            1.9090           -0.3139\n",
      "AR.5           -0.7461           +1.7572j            1.9090            0.3139\n",
      "MA.1           -1.1145           +0.0000j            1.1145            0.5000\n",
      "MA.2            1.3669           +0.0000j            1.3669            0.0000\n",
      "-----------------------------------------------------------------------------\n"
     ]
    }
   ],
   "source": [
    "model_18 = ARIMA(df_train, order=(5,1,2))\n",
    "model_18_fit = model_18.fit(trend='nc',full_output=True, disp=1)\n",
    "print(model_18_fit.summary())"
   ]
  },
  {
   "cell_type": "code",
   "execution_count": 21,
   "metadata": {},
   "outputs": [
    {
     "name": "stderr",
     "output_type": "stream",
     "text": [
      "C:\\Users\\sm.woo\\Anaconda3\\lib\\site-packages\\statsmodels\\tsa\\base\\tsa_model.py:219: ValueWarning: A date index has been provided, but it has no associated frequency information and so will be ignored when e.g. forecasting.\n",
      "  ' ignored when e.g. forecasting.', ValueWarning)\n",
      "C:\\Users\\sm.woo\\Anaconda3\\lib\\site-packages\\statsmodels\\tsa\\base\\tsa_model.py:219: ValueWarning: A date index has been provided, but it has no associated frequency information and so will be ignored when e.g. forecasting.\n",
      "  ' ignored when e.g. forecasting.', ValueWarning)\n"
     ]
    },
    {
     "name": "stdout",
     "output_type": "stream",
     "text": [
      "                             ARIMA Model Results                              \n",
      "==============================================================================\n",
      "Dep. Variable:                 D.Rate   No. Observations:                  246\n",
      "Model:                 ARIMA(5, 1, 1)   Log Likelihood                -695.002\n",
      "Method:                       css-mle   S.D. of innovations              4.080\n",
      "Date:                Fri, 07 Feb 2020   AIC                           1404.004\n",
      "Time:                        15:56:35   BIC                           1428.542\n",
      "Sample:                             1   HQIC                          1413.884\n",
      "                                                                              \n",
      "================================================================================\n",
      "                   coef    std err          z      P>|z|      [0.025      0.975]\n",
      "--------------------------------------------------------------------------------\n",
      "ar.L1.D.Rate    -0.7199      0.132     -5.437      0.000      -0.979      -0.460\n",
      "ar.L2.D.Rate     0.1022      0.080      1.285      0.200      -0.054       0.258\n",
      "ar.L3.D.Rate     0.0518      0.080      0.650      0.517      -0.104       0.208\n",
      "ar.L4.D.Rate     0.0511      0.080      0.636      0.526      -0.106       0.209\n",
      "ar.L5.D.Rate    -0.0705      0.068     -1.037      0.301      -0.204       0.063\n",
      "ma.L1.D.Rate     0.8645      0.118      7.319      0.000       0.633       1.096\n",
      "                                    Roots                                    \n",
      "=============================================================================\n",
      "                  Real          Imaginary           Modulus         Frequency\n",
      "-----------------------------------------------------------------------------\n",
      "AR.1           -1.0768           -0.0000j            1.0768           -0.5000\n",
      "AR.2           -0.8736           -1.4829j            1.7211           -0.3347\n",
      "AR.3           -0.8736           +1.4829j            1.7211            0.3347\n",
      "AR.4            1.7745           -1.1382j            2.1082           -0.0908\n",
      "AR.5            1.7745           +1.1382j            2.1082            0.0908\n",
      "MA.1           -1.1568           +0.0000j            1.1568            0.5000\n",
      "-----------------------------------------------------------------------------\n"
     ]
    }
   ],
   "source": [
    "model_19 = ARIMA(df_train, order=(5,1,1))\n",
    "model_19_fit = model_19.fit(trend='nc',full_output=True, disp=1)\n",
    "print(model_19_fit.summary())"
   ]
  },
  {
   "cell_type": "code",
   "execution_count": 22,
   "metadata": {},
   "outputs": [
    {
     "name": "stderr",
     "output_type": "stream",
     "text": [
      "C:\\Users\\sm.woo\\Anaconda3\\lib\\site-packages\\statsmodels\\tsa\\base\\tsa_model.py:219: ValueWarning: A date index has been provided, but it has no associated frequency information and so will be ignored when e.g. forecasting.\n",
      "  ' ignored when e.g. forecasting.', ValueWarning)\n",
      "C:\\Users\\sm.woo\\Anaconda3\\lib\\site-packages\\statsmodels\\tsa\\base\\tsa_model.py:219: ValueWarning: A date index has been provided, but it has no associated frequency information and so will be ignored when e.g. forecasting.\n",
      "  ' ignored when e.g. forecasting.', ValueWarning)\n"
     ]
    },
    {
     "name": "stdout",
     "output_type": "stream",
     "text": [
      "                             ARIMA Model Results                              \n",
      "==============================================================================\n",
      "Dep. Variable:                 D.Rate   No. Observations:                  246\n",
      "Model:                 ARIMA(5, 1, 1)   Log Likelihood                -694.256\n",
      "Method:                       css-mle   S.D. of innovations              4.067\n",
      "Date:                Fri, 07 Feb 2020   AIC                           1404.512\n",
      "Time:                        15:56:38   BIC                           1432.555\n",
      "Sample:                             1   HQIC                          1415.804\n",
      "                                                                              \n",
      "================================================================================\n",
      "                   coef    std err          z      P>|z|      [0.025      0.975]\n",
      "--------------------------------------------------------------------------------\n",
      "const            0.3682      0.298      1.234      0.218      -0.217       0.953\n",
      "ar.L1.D.Rate    -0.7243      0.132     -5.483      0.000      -0.983      -0.465\n",
      "ar.L2.D.Rate     0.0921      0.080      1.158      0.248      -0.064       0.248\n",
      "ar.L3.D.Rate     0.0434      0.080      0.544      0.587      -0.113       0.200\n",
      "ar.L4.D.Rate     0.0434      0.080      0.540      0.590      -0.114       0.201\n",
      "ar.L5.D.Rate    -0.0746      0.068     -1.101      0.272      -0.207       0.058\n",
      "ma.L1.D.Rate     0.8631      0.118      7.324      0.000       0.632       1.094\n",
      "                                    Roots                                    \n",
      "=============================================================================\n",
      "                  Real          Imaginary           Modulus         Frequency\n",
      "-----------------------------------------------------------------------------\n",
      "AR.1           -1.0776           -0.0000j            1.0776           -0.5000\n",
      "AR.2           -0.8756           -1.4698j            1.7108           -0.3355\n",
      "AR.3           -0.8756           +1.4698j            1.7108            0.3355\n",
      "AR.4            1.7055           -1.1594j            2.0623           -0.0950\n",
      "AR.5            1.7055           +1.1594j            2.0623            0.0950\n",
      "MA.1           -1.1586           +0.0000j            1.1586            0.5000\n",
      "-----------------------------------------------------------------------------\n"
     ]
    }
   ],
   "source": [
    "model_20 = ARIMA(df_train, order=(5,1,1))\n",
    "model_20_fit = model_20.fit(trend='c',full_output=True, disp=1)\n",
    "print(model_20_fit.summary())"
   ]
  },
  {
   "cell_type": "code",
   "execution_count": 23,
   "metadata": {},
   "outputs": [
    {
     "name": "stderr",
     "output_type": "stream",
     "text": [
      "C:\\Users\\sm.woo\\Anaconda3\\lib\\site-packages\\statsmodels\\tsa\\base\\tsa_model.py:219: ValueWarning: A date index has been provided, but it has no associated frequency information and so will be ignored when e.g. forecasting.\n",
      "  ' ignored when e.g. forecasting.', ValueWarning)\n",
      "C:\\Users\\sm.woo\\Anaconda3\\lib\\site-packages\\statsmodels\\tsa\\base\\tsa_model.py:219: ValueWarning: A date index has been provided, but it has no associated frequency information and so will be ignored when e.g. forecasting.\n",
      "  ' ignored when e.g. forecasting.', ValueWarning)\n"
     ]
    },
    {
     "name": "stdout",
     "output_type": "stream",
     "text": [
      "                             ARIMA Model Results                              \n",
      "==============================================================================\n",
      "Dep. Variable:                 D.Rate   No. Observations:                  246\n",
      "Model:                 ARIMA(5, 1, 5)   Log Likelihood                -694.650\n",
      "Method:                       css-mle   S.D. of innovations              4.053\n",
      "Date:                Fri, 07 Feb 2020   AIC                           1411.299\n",
      "Time:                        15:56:51   BIC                           1449.858\n",
      "Sample:                             1   HQIC                          1426.825\n",
      "                                                                              \n",
      "================================================================================\n",
      "                   coef    std err          z      P>|z|      [0.025      0.975]\n",
      "--------------------------------------------------------------------------------\n",
      "ar.L1.D.Rate     0.3390      0.244      1.387      0.167      -0.140       0.818\n",
      "ar.L2.D.Rate     0.0853      0.144      0.591      0.555      -0.198       0.368\n",
      "ar.L3.D.Rate     0.1655      0.097      1.709      0.089      -0.024       0.355\n",
      "ar.L4.D.Rate     0.5519      0.075      7.326      0.000       0.404       0.700\n",
      "ar.L5.D.Rate    -0.8181      0.199     -4.108      0.000      -1.208      -0.428\n",
      "ma.L1.D.Rate    -0.2474      0.288     -0.858      0.392      -0.813       0.318\n",
      "ma.L2.D.Rate    -0.0443      0.182     -0.244      0.808      -0.401       0.312\n",
      "ma.L3.D.Rate    -0.1800      0.128     -1.412      0.159      -0.430       0.070\n",
      "ma.L4.D.Rate    -0.5643      0.091     -6.179      0.000      -0.743      -0.385\n",
      "ma.L5.D.Rate     0.7227      0.230      3.136      0.002       0.271       1.174\n",
      "                                    Roots                                    \n",
      "=============================================================================\n",
      "                  Real          Imaginary           Modulus         Frequency\n",
      "-----------------------------------------------------------------------------\n",
      "AR.1           -1.0086           -0.0000j            1.0086           -0.5000\n",
      "AR.2           -0.1760           -0.9852j            1.0008           -0.2781\n",
      "AR.3           -0.1760           +0.9852j            1.0008            0.2781\n",
      "AR.4            1.0176           -0.4178j            1.1000           -0.0620\n",
      "AR.5            1.0176           +0.4178j            1.1000            0.0620\n",
      "MA.1           -1.0179           -0.0000j            1.0179           -0.5000\n",
      "MA.2           -0.1800           -0.9841j            1.0004           -0.2788\n",
      "MA.3           -0.1800           +0.9841j            1.0004            0.2788\n",
      "MA.4            1.0793           -0.4395j            1.1654           -0.0615\n",
      "MA.5            1.0793           +0.4395j            1.1654            0.0615\n",
      "-----------------------------------------------------------------------------\n"
     ]
    }
   ],
   "source": [
    "model_21 = ARIMA(df_train, order=(5,1,5))\n",
    "model_21_fit = model_21.fit(trend='nc',full_output=True, disp=1)\n",
    "print(model_21_fit.summary())"
   ]
  },
  {
   "cell_type": "code",
   "execution_count": 24,
   "metadata": {},
   "outputs": [
    {
     "name": "stderr",
     "output_type": "stream",
     "text": [
      "C:\\Users\\sm.woo\\Anaconda3\\lib\\site-packages\\statsmodels\\tsa\\base\\tsa_model.py:219: ValueWarning: A date index has been provided, but it has no associated frequency information and so will be ignored when e.g. forecasting.\n",
      "  ' ignored when e.g. forecasting.', ValueWarning)\n",
      "C:\\Users\\sm.woo\\Anaconda3\\lib\\site-packages\\statsmodels\\tsa\\base\\tsa_model.py:219: ValueWarning: A date index has been provided, but it has no associated frequency information and so will be ignored when e.g. forecasting.\n",
      "  ' ignored when e.g. forecasting.', ValueWarning)\n"
     ]
    },
    {
     "name": "stdout",
     "output_type": "stream",
     "text": [
      "                             ARIMA Model Results                              \n",
      "==============================================================================\n",
      "Dep. Variable:                 D.Rate   No. Observations:                  246\n",
      "Model:                 ARIMA(5, 1, 5)   Log Likelihood                -693.703\n",
      "Method:                       css-mle   S.D. of innovations              4.037\n",
      "Date:                Fri, 07 Feb 2020   AIC                           1411.406\n",
      "Time:                        15:57:09   BIC                           1453.470\n",
      "Sample:                             1   HQIC                          1428.343\n",
      "                                                                              \n",
      "================================================================================\n",
      "                   coef    std err          z      P>|z|      [0.025      0.975]\n",
      "--------------------------------------------------------------------------------\n",
      "const            0.3522      0.251      1.402      0.162      -0.140       0.844\n",
      "ar.L1.D.Rate     0.3819      0.280      1.363      0.174      -0.167       0.931\n",
      "ar.L2.D.Rate     0.1106      0.148      0.746      0.456      -0.180       0.401\n",
      "ar.L3.D.Rate     0.1798      0.081      2.229      0.027       0.022       0.338\n",
      "ar.L4.D.Rate     0.5508      0.070      7.843      0.000       0.413       0.688\n",
      "ar.L5.D.Rate    -0.8501      0.236     -3.606      0.000      -1.312      -0.388\n",
      "ma.L1.D.Rate    -0.3023      0.346     -0.873      0.383      -0.981       0.376\n",
      "ma.L2.D.Rate    -0.0798      0.190     -0.420      0.675      -0.452       0.293\n",
      "ma.L3.D.Rate    -0.2029      0.107     -1.904      0.058      -0.412       0.006\n",
      "ma.L4.D.Rate    -0.5666      0.087     -6.482      0.000      -0.738      -0.395\n",
      "ma.L5.D.Rate     0.7609      0.293      2.597      0.010       0.187       1.335\n",
      "                                    Roots                                    \n",
      "=============================================================================\n",
      "                  Real          Imaginary           Modulus         Frequency\n",
      "-----------------------------------------------------------------------------\n",
      "AR.1           -1.0086           -0.0000j            1.0086           -0.5000\n",
      "AR.2           -0.1760           -0.9852j            1.0008           -0.2781\n",
      "AR.3           -0.1760           +0.9852j            1.0008            0.2781\n",
      "AR.4            1.0042           -0.3949j            1.0791           -0.0596\n",
      "AR.5            1.0042           +0.3949j            1.0791            0.0596\n",
      "MA.1           -1.0178           -0.0000j            1.0178           -0.5000\n",
      "MA.2           -0.1800           -0.9840j            1.0003           -0.2788\n",
      "MA.3           -0.1800           +0.9840j            1.0003            0.2788\n",
      "MA.4            1.0612           -0.4054j            1.1360           -0.0581\n",
      "MA.5            1.0612           +0.4054j            1.1360            0.0581\n",
      "-----------------------------------------------------------------------------\n"
     ]
    }
   ],
   "source": [
    "model_22 = ARIMA(df_train, order=(5,1,5))\n",
    "model_22_fit = model_22.fit(trend='c',full_output=True, disp=1)\n",
    "print(model_22_fit.summary())"
   ]
  },
  {
   "cell_type": "code",
   "execution_count": 25,
   "metadata": {},
   "outputs": [
    {
     "name": "stderr",
     "output_type": "stream",
     "text": [
      "C:\\Users\\sm.woo\\Anaconda3\\lib\\site-packages\\statsmodels\\tsa\\base\\tsa_model.py:219: ValueWarning: A date index has been provided, but it has no associated frequency information and so will be ignored when e.g. forecasting.\n",
      "  ' ignored when e.g. forecasting.', ValueWarning)\n"
     ]
    },
    {
     "name": "stdout",
     "output_type": "stream",
     "text": [
      "                              ARMA Model Results                              \n",
      "==============================================================================\n",
      "Dep. Variable:                   Rate   No. Observations:                  247\n",
      "Model:                     ARMA(5, 5)   Log Likelihood                -695.733\n",
      "Method:                       css-mle   S.D. of innovations              3.981\n",
      "Date:                Fri, 07 Feb 2020   AIC                           1415.466\n",
      "Time:                        15:57:35   BIC                           1457.579\n",
      "Sample:                             0   HQIC                          1432.421\n",
      "                                                                              \n",
      "==============================================================================\n",
      "                 coef    std err          z      P>|z|      [0.025      0.975]\n",
      "------------------------------------------------------------------------------\n",
      "const       1154.8751     25.657     45.012      0.000    1104.588    1205.162\n",
      "ar.L1.Rate     0.9978      0.126      7.914      0.000       0.751       1.245\n",
      "ar.L2.Rate     1.0766      0.210      5.131      0.000       0.665       1.488\n",
      "ar.L3.Rate    -1.4496      0.091    -15.883      0.000      -1.628      -1.271\n",
      "ar.L4.Rate    -0.3804      0.225     -1.691      0.092      -0.821       0.060\n",
      "ar.L5.Rate     0.7472      0.125      5.962      0.000       0.502       0.993\n",
      "ma.L1.Rate     0.1404      0.140      1.001      0.318      -0.134       0.415\n",
      "ma.L2.Rate    -1.1431      0.054    -21.151      0.000      -1.249      -1.037\n",
      "ma.L3.Rate     0.2753      0.142      1.945      0.053      -0.002       0.553\n",
      "ma.L4.Rate     0.9075      0.091      9.947      0.000       0.729       1.086\n",
      "ma.L5.Rate     0.0113      0.084      0.135      0.893      -0.153       0.176\n",
      "                                    Roots                                    \n",
      "=============================================================================\n",
      "                  Real          Imaginary           Modulus         Frequency\n",
      "-----------------------------------------------------------------------------\n",
      "AR.1           -1.1024           -0.3114j            1.1455           -0.4562\n",
      "AR.2           -1.1024           +0.3114j            1.1455            0.4562\n",
      "AR.3            0.8529           -0.5332j            1.0058           -0.0889\n",
      "AR.4            0.8529           +0.5332j            1.0058            0.0889\n",
      "AR.5            1.0080           -0.0000j            1.0080           -0.0000\n",
      "MA.1            0.8416           -0.5400j            1.0000           -0.0908\n",
      "MA.2            0.8416           +0.5400j            1.0000            0.0908\n",
      "MA.3           -1.0018           -0.3203j            1.0518           -0.4507\n",
      "MA.4           -1.0018           +0.3203j            1.0518            0.4507\n",
      "MA.5          -79.8664           -0.0000j           79.8664           -0.5000\n",
      "-----------------------------------------------------------------------------\n"
     ]
    }
   ],
   "source": [
    "model_23 = ARIMA(df_train, order=(5,0,5))\n",
    "model_23_fit = model_23.fit(trend='c',full_output=True, disp=1)\n",
    "print(model_23_fit.summary())"
   ]
  },
  {
   "cell_type": "code",
   "execution_count": 26,
   "metadata": {},
   "outputs": [
    {
     "name": "stderr",
     "output_type": "stream",
     "text": [
      "C:\\Users\\sm.woo\\Anaconda3\\lib\\site-packages\\statsmodels\\tsa\\base\\tsa_model.py:219: ValueWarning: A date index has been provided, but it has no associated frequency information and so will be ignored when e.g. forecasting.\n",
      "  ' ignored when e.g. forecasting.', ValueWarning)\n"
     ]
    },
    {
     "name": "stdout",
     "output_type": "stream",
     "text": [
      "                              ARMA Model Results                              \n",
      "==============================================================================\n",
      "Dep. Variable:                   Rate   No. Observations:                  247\n",
      "Model:                     ARMA(5, 0)   Log Likelihood                -707.356\n",
      "Method:                       css-mle   S.D. of innovations              4.095\n",
      "Date:                Fri, 07 Feb 2020   AIC                           1426.712\n",
      "Time:                        15:57:37   BIC                           1447.768\n",
      "Sample:                             0   HQIC                          1435.190\n",
      "                                                                              \n",
      "==============================================================================\n",
      "                 coef    std err          z      P>|z|      [0.025      0.975]\n",
      "------------------------------------------------------------------------------\n",
      "ar.L1.Rate     1.1394   1.12e-05   1.02e+05      0.000       1.139       1.139\n",
      "ar.L2.Rate    -0.1569   2.21e-06  -7.09e+04      0.000      -0.157      -0.157\n",
      "ar.L3.Rate     0.0844        nan        nan        nan         nan         nan\n",
      "ar.L4.Rate    -0.0809        nan        nan        nan         nan         nan\n",
      "ar.L5.Rate     0.0140      0.040      0.354      0.723      -0.063       0.091\n",
      "                                    Roots                                    \n",
      "=============================================================================\n",
      "                  Real          Imaginary           Modulus         Frequency\n",
      "-----------------------------------------------------------------------------\n",
      "AR.1            1.0000           -0.0000j            1.0000           -0.0000\n",
      "AR.2           -1.1922           -2.0492j            2.3708           -0.3339\n",
      "AR.3           -1.1922           +2.0492j            2.3708            0.3339\n",
      "AR.4            3.2451           -0.0000j            3.2451           -0.0000\n",
      "AR.5            3.9145           -0.0000j            3.9145           -0.0000\n",
      "-----------------------------------------------------------------------------\n"
     ]
    }
   ],
   "source": [
    "#non값 사용 불가능\n",
    "model_24 = ARIMA(df_train, order=(5,0,0))\n",
    "model_24_fit = model_24.fit(trend='nc',full_output=True, disp=1)\n",
    "print(model_24_fit.summary())"
   ]
  },
  {
   "cell_type": "code",
   "execution_count": 27,
   "metadata": {},
   "outputs": [
    {
     "name": "stderr",
     "output_type": "stream",
     "text": [
      "C:\\Users\\sm.woo\\Anaconda3\\lib\\site-packages\\statsmodels\\tsa\\base\\tsa_model.py:219: ValueWarning: A date index has been provided, but it has no associated frequency information and so will be ignored when e.g. forecasting.\n",
      "  ' ignored when e.g. forecasting.', ValueWarning)\n"
     ]
    },
    {
     "name": "stdout",
     "output_type": "stream",
     "text": [
      "                              ARMA Model Results                              \n",
      "==============================================================================\n",
      "Dep. Variable:                   Rate   No. Observations:                  247\n",
      "Model:                     ARMA(5, 0)   Log Likelihood                -701.000\n",
      "Method:                       css-mle   S.D. of innovations              4.097\n",
      "Date:                Fri, 07 Feb 2020   AIC                           1416.000\n",
      "Time:                        15:57:38   BIC                           1440.566\n",
      "Sample:                             0   HQIC                          1425.890\n",
      "                                                                              \n",
      "==============================================================================\n",
      "                 coef    std err          z      P>|z|      [0.025      0.975]\n",
      "------------------------------------------------------------------------------\n",
      "const       1154.3328     25.101     45.988      0.000    1105.136    1203.529\n",
      "ar.L1.Rate     1.1320      0.063     17.828      0.000       1.008       1.256\n",
      "ar.L2.Rate    -0.1520      0.096     -1.582      0.115      -0.340       0.036\n",
      "ar.L3.Rate     0.0861      0.097      0.893      0.373      -0.103       0.275\n",
      "ar.L4.Rate    -0.0854      0.097     -0.883      0.378      -0.275       0.104\n",
      "ar.L5.Rate     0.0116      0.065      0.179      0.858      -0.115       0.138\n",
      "                                    Roots                                    \n",
      "=============================================================================\n",
      "                  Real          Imaginary           Modulus         Frequency\n",
      "-----------------------------------------------------------------------------\n",
      "AR.1            1.0095           -0.0000j            1.0095           -0.0000\n",
      "AR.2           -1.1534           -2.0469j            2.3495           -0.3317\n",
      "AR.3           -1.1534           +2.0469j            2.3495            0.3317\n",
      "AR.4            2.5186           -0.0000j            2.5186           -0.0000\n",
      "AR.5            6.1611           -0.0000j            6.1611           -0.0000\n",
      "-----------------------------------------------------------------------------\n"
     ]
    }
   ],
   "source": [
    "model_25 = ARIMA(df_train, order=(5,0,0))\n",
    "model_25_fit = model_25.fit(trend='c',full_output=True, disp=1)\n",
    "print(model_25_fit.summary())"
   ]
  },
  {
   "cell_type": "code",
   "execution_count": 28,
   "metadata": {},
   "outputs": [
    {
     "name": "stderr",
     "output_type": "stream",
     "text": [
      "C:\\Users\\sm.woo\\Anaconda3\\lib\\site-packages\\statsmodels\\tsa\\base\\tsa_model.py:219: ValueWarning: A date index has been provided, but it has no associated frequency information and so will be ignored when e.g. forecasting.\n",
      "  ' ignored when e.g. forecasting.', ValueWarning)\n",
      "C:\\Users\\sm.woo\\Anaconda3\\lib\\site-packages\\statsmodels\\tsa\\base\\tsa_model.py:219: ValueWarning: A date index has been provided, but it has no associated frequency information and so will be ignored when e.g. forecasting.\n",
      "  ' ignored when e.g. forecasting.', ValueWarning)\n"
     ]
    },
    {
     "name": "stdout",
     "output_type": "stream",
     "text": [
      "                             ARIMA Model Results                              \n",
      "==============================================================================\n",
      "Dep. Variable:                 D.Rate   No. Observations:                  246\n",
      "Model:                 ARIMA(0, 1, 5)   Log Likelihood                -696.296\n",
      "Method:                       css-mle   S.D. of innovations              4.102\n",
      "Date:                Fri, 07 Feb 2020   AIC                           1404.591\n",
      "Time:                        15:57:39   BIC                           1425.623\n",
      "Sample:                             1   HQIC                          1413.060\n",
      "                                                                              \n",
      "================================================================================\n",
      "                   coef    std err          z      P>|z|      [0.025      0.975]\n",
      "--------------------------------------------------------------------------------\n",
      "ma.L1.D.Rate     0.1373      0.064      2.147      0.033       0.012       0.263\n",
      "ma.L2.D.Rate    -0.0041      0.066     -0.062      0.951      -0.134       0.126\n",
      "ma.L3.D.Rate     0.0674      0.066      1.028      0.305      -0.061       0.196\n",
      "ma.L4.D.Rate     0.0173      0.069      0.250      0.803      -0.118       0.153\n",
      "ma.L5.D.Rate    -0.0286      0.065     -0.439      0.661      -0.156       0.099\n",
      "                                    Roots                                    \n",
      "=============================================================================\n",
      "                  Real          Imaginary           Modulus         Frequency\n",
      "-----------------------------------------------------------------------------\n",
      "MA.1           -1.6786           -0.9455j            1.9266           -0.4184\n",
      "MA.2           -1.6786           +0.9455j            1.9266            0.4184\n",
      "MA.3            0.6932           -1.7829j            1.9129           -0.1910\n",
      "MA.4            0.6932           +1.7829j            1.9129            0.1910\n",
      "MA.5            2.5752           -0.0000j            2.5752           -0.0000\n",
      "-----------------------------------------------------------------------------\n"
     ]
    }
   ],
   "source": [
    "model_26 = ARIMA(df_train, order=(0,1,5))\n",
    "model_26_fit = model_26.fit(trend='nc',full_output=True, disp=1)\n",
    "print(model_26_fit.summary())"
   ]
  },
  {
   "cell_type": "code",
   "execution_count": 29,
   "metadata": {},
   "outputs": [
    {
     "name": "stderr",
     "output_type": "stream",
     "text": [
      "C:\\Users\\sm.woo\\Anaconda3\\lib\\site-packages\\statsmodels\\tsa\\base\\tsa_model.py:219: ValueWarning: A date index has been provided, but it has no associated frequency information and so will be ignored when e.g. forecasting.\n",
      "  ' ignored when e.g. forecasting.', ValueWarning)\n",
      "C:\\Users\\sm.woo\\Anaconda3\\lib\\site-packages\\statsmodels\\tsa\\base\\tsa_model.py:219: ValueWarning: A date index has been provided, but it has no associated frequency information and so will be ignored when e.g. forecasting.\n",
      "  ' ignored when e.g. forecasting.', ValueWarning)\n"
     ]
    },
    {
     "name": "stdout",
     "output_type": "stream",
     "text": [
      "                             ARIMA Model Results                              \n",
      "==============================================================================\n",
      "Dep. Variable:                 D.Rate   No. Observations:                  246\n",
      "Model:                 ARIMA(0, 1, 5)   Log Likelihood                -695.548\n",
      "Method:                       css-mle   S.D. of innovations              4.089\n",
      "Date:                Fri, 07 Feb 2020   AIC                           1405.096\n",
      "Time:                        15:57:39   BIC                           1429.633\n",
      "Sample:                             1   HQIC                          1414.976\n",
      "                                                                              \n",
      "================================================================================\n",
      "                   coef    std err          z      P>|z|      [0.025      0.975]\n",
      "--------------------------------------------------------------------------------\n",
      "const            0.3733      0.302      1.238      0.217      -0.218       0.964\n",
      "ma.L1.D.Rate     0.1316      0.064      2.057      0.041       0.006       0.257\n",
      "ma.L2.D.Rate    -0.0116      0.066     -0.174      0.862      -0.142       0.119\n",
      "ma.L3.D.Rate     0.0610      0.066      0.922      0.358      -0.069       0.191\n",
      "ma.L4.D.Rate     0.0100      0.070      0.143      0.886      -0.127       0.147\n",
      "ma.L5.D.Rate    -0.0347      0.065     -0.531      0.596      -0.163       0.094\n",
      "                                    Roots                                    \n",
      "=============================================================================\n",
      "                  Real          Imaginary           Modulus         Frequency\n",
      "-----------------------------------------------------------------------------\n",
      "MA.1           -1.6427           -0.9237j            1.8846           -0.4185\n",
      "MA.2           -1.6427           +0.9237j            1.8846            0.4185\n",
      "MA.3            0.6324           -1.7638j            1.8738           -0.1952\n",
      "MA.4            0.6324           +1.7638j            1.8738            0.1952\n",
      "MA.5            2.3082           -0.0000j            2.3082           -0.0000\n",
      "-----------------------------------------------------------------------------\n"
     ]
    }
   ],
   "source": [
    "model_27 = ARIMA(df_train, order=(0,1,5))\n",
    "model_27_fit = model_27.fit(trend='c',full_output=True, disp=1)\n",
    "print(model_27_fit.summary())"
   ]
  },
  {
   "cell_type": "code",
   "execution_count": 30,
   "metadata": {},
   "outputs": [
    {
     "name": "stderr",
     "output_type": "stream",
     "text": [
      "C:\\Users\\sm.woo\\Anaconda3\\lib\\site-packages\\statsmodels\\tsa\\base\\tsa_model.py:219: ValueWarning: A date index has been provided, but it has no associated frequency information and so will be ignored when e.g. forecasting.\n",
      "  ' ignored when e.g. forecasting.', ValueWarning)\n",
      "C:\\Users\\sm.woo\\Anaconda3\\lib\\site-packages\\statsmodels\\tsa\\base\\tsa_model.py:219: ValueWarning: A date index has been provided, but it has no associated frequency information and so will be ignored when e.g. forecasting.\n",
      "  ' ignored when e.g. forecasting.', ValueWarning)\n"
     ]
    },
    {
     "name": "stdout",
     "output_type": "stream",
     "text": [
      "                             ARIMA Model Results                              \n",
      "==============================================================================\n",
      "Dep. Variable:                 D.Rate   No. Observations:                  246\n",
      "Model:                 ARIMA(0, 1, 4)   Log Likelihood                -696.391\n",
      "Method:                       css-mle   S.D. of innovations              4.104\n",
      "Date:                Fri, 07 Feb 2020   AIC                           1402.782\n",
      "Time:                        15:57:40   BIC                           1420.309\n",
      "Sample:                             1   HQIC                          1409.839\n",
      "                                                                              \n",
      "================================================================================\n",
      "                   coef    std err          z      P>|z|      [0.025      0.975]\n",
      "--------------------------------------------------------------------------------\n",
      "ma.L1.D.Rate     0.1360      0.064      2.129      0.034       0.011       0.261\n",
      "ma.L2.D.Rate     0.0036      0.064      0.056      0.956      -0.122       0.129\n",
      "ma.L3.D.Rate     0.0695      0.065      1.066      0.287      -0.058       0.197\n",
      "ma.L4.D.Rate     0.0256      0.066      0.386      0.700      -0.105       0.156\n",
      "                                    Roots                                    \n",
      "=============================================================================\n",
      "                  Real          Imaginary           Modulus         Frequency\n",
      "-----------------------------------------------------------------------------\n",
      "MA.1            1.2322           -1.8267j            2.2035           -0.1556\n",
      "MA.2            1.2322           +1.8267j            2.2035            0.1556\n",
      "MA.3           -2.5895           -1.1582j            2.8367           -0.4331\n",
      "MA.4           -2.5895           +1.1582j            2.8367            0.4331\n",
      "-----------------------------------------------------------------------------\n"
     ]
    }
   ],
   "source": [
    "model_28 = ARIMA(df_train, order=(0,1,4))\n",
    "model_28_fit = model_28.fit(trend='nc',full_output=True, disp=1)\n",
    "print(model_28_fit.summary())"
   ]
  },
  {
   "cell_type": "code",
   "execution_count": 31,
   "metadata": {},
   "outputs": [
    {
     "name": "stderr",
     "output_type": "stream",
     "text": [
      "C:\\Users\\sm.woo\\Anaconda3\\lib\\site-packages\\statsmodels\\tsa\\base\\tsa_model.py:219: ValueWarning: A date index has been provided, but it has no associated frequency information and so will be ignored when e.g. forecasting.\n",
      "  ' ignored when e.g. forecasting.', ValueWarning)\n",
      "C:\\Users\\sm.woo\\Anaconda3\\lib\\site-packages\\statsmodels\\tsa\\base\\tsa_model.py:219: ValueWarning: A date index has been provided, but it has no associated frequency information and so will be ignored when e.g. forecasting.\n",
      "  ' ignored when e.g. forecasting.', ValueWarning)\n"
     ]
    },
    {
     "name": "stdout",
     "output_type": "stream",
     "text": [
      "                             ARIMA Model Results                              \n",
      "==============================================================================\n",
      "Dep. Variable:                 D.Rate   No. Observations:                  246\n",
      "Model:                 ARIMA(0, 1, 4)   Log Likelihood                -695.688\n",
      "Method:                       css-mle   S.D. of innovations              4.092\n",
      "Date:                Fri, 07 Feb 2020   AIC                           1403.375\n",
      "Time:                        15:57:40   BIC                           1424.407\n",
      "Sample:                             1   HQIC                          1411.844\n",
      "                                                                              \n",
      "================================================================================\n",
      "                   coef    std err          z      P>|z|      [0.025      0.975]\n",
      "--------------------------------------------------------------------------------\n",
      "const            0.3782      0.316      1.197      0.233      -0.241       0.998\n",
      "ma.L1.D.Rate     0.1303      0.064      2.037      0.043       0.005       0.256\n",
      "ma.L2.D.Rate    -0.0020      0.064     -0.031      0.975      -0.128       0.124\n",
      "ma.L3.D.Rate     0.0638      0.066      0.971      0.333      -0.065       0.193\n",
      "ma.L4.D.Rate     0.0203      0.067      0.305      0.761      -0.111       0.151\n",
      "                                    Roots                                    \n",
      "=============================================================================\n",
      "                  Real          Imaginary           Modulus         Frequency\n",
      "-----------------------------------------------------------------------------\n",
      "MA.1            1.2854           -1.9098j            2.3021           -0.1557\n",
      "MA.2            1.2854           +1.9098j            2.3021            0.1557\n",
      "MA.3           -2.8532           -1.0640j            3.0451           -0.4432\n",
      "MA.4           -2.8532           +1.0640j            3.0451            0.4432\n",
      "-----------------------------------------------------------------------------\n"
     ]
    }
   ],
   "source": [
    "model_29 = ARIMA(df_train, order=(0,1,4))\n",
    "model_29_fit = model_29.fit(trend='c',full_output=True, disp=1)\n",
    "print(model_29_fit.summary())"
   ]
  },
  {
   "cell_type": "markdown",
   "metadata": {},
   "source": [
    "### 예측"
   ]
  },
  {
   "cell_type": "code",
   "execution_count": 32,
   "metadata": {
    "scrolled": true
   },
   "outputs": [
    {
     "data": {
      "image/png": "[encoded data removed]",
      "text/plain": [
       "<Figure size 432x288 with 1 Axes>"
      ]
     },
     "metadata": {
      "needs_background": "light"
     },
     "output_type": "display_data"
    },
    {
     "data": {
      "image/png": "[encoded data removed]",
      "text/plain": [
       "<Figure size 432x288 with 1 Axes>"
      ]
     },
     "metadata": {
      "needs_background": "light"
     },
     "output_type": "display_data"
    },
    {
     "data": {
      "image/png": "[encoded data removed]",
      "text/plain": [
       "<Figure size 432x288 with 1 Axes>"
      ]
     },
     "metadata": {
      "needs_background": "light"
     },
     "output_type": "display_data"
    },
    {
     "data": {
      "image/png": "[encoded data removed]",
      "text/plain": [
       "<Figure size 432x288 with 1 Axes>"
      ]
     },
     "metadata": {
      "needs_background": "light"
     },
     "output_type": "display_data"
    },
    {
     "data": {
      "image/png": "[encoded data removed]",
      "text/plain": [
       "<Figure size 432x288 with 1 Axes>"
      ]
     },
     "metadata": {
      "needs_background": "light"
     },
     "output_type": "display_data"
    },
    {
     "data": {
      "image/png": "[encoded data removed]",
      "text/plain": [
       "<Figure size 432x288 with 1 Axes>"
      ]
     },
     "metadata": {
      "needs_background": "light"
     },
     "output_type": "display_data"
    },
    {
     "data": {
      "image/png": "[encoded data removed]",
      "text/plain": [
       "<Figure size 432x288 with 1 Axes>"
      ]
     },
     "metadata": {
      "needs_background": "light"
     },
     "output_type": "display_data"
    },
    {
     "data": {
      "image/png": "[encoded data removed]",
      "text/plain": [
       "<Figure size 432x288 with 1 Axes>"
      ]
     },
     "metadata": {
      "needs_background": "light"
     },
     "output_type": "display_data"
    },
    {
     "data": {
      "image/png": "[encoded data removed]",
      "text/plain": [
       "<Figure size 432x288 with 1 Axes>"
      ]
     },
     "metadata": {
      "needs_background": "light"
     },
     "output_type": "display_data"
    },
    {
     "data": {
      "image/png": "[encoded data removed]",
      "text/plain": [
       "<Figure size 432x288 with 1 Axes>"
      ]
     },
     "metadata": {
      "needs_background": "light"
     },
     "output_type": "display_data"
    },
    {
     "data": {
      "image/png": "[encoded data removed]",
      "text/plain": [
       "<Figure size 432x288 with 1 Axes>"
      ]
     },
     "metadata": {
      "needs_background": "light"
     },
     "output_type": "display_data"
    },
    {
     "data": {
      "image/png": "[encoded data removed]",
      "text/plain": [
       "<Figure size 432x288 with 1 Axes>"
      ]
     },
     "metadata": {
      "needs_background": "light"
     },
     "output_type": "display_data"
    }
   ],
   "source": [
    "Models = [model_1_fit, model_2_fit, model_3_fit, model_4_fit, model_18_fit, model_19_fit, model_20_fit, \n",
    "          model_25_fit, model_26_fit, model_27_fit, model_28_fit, model_29_fit]\n",
    "\n",
    "df_test=df_test[:5]\n",
    "actual_price=df_test['Rate'].tolist()[:5]\n",
    "RMSE_total=[]\n",
    "pred_price=[]\n",
    "\n",
    "for model in Models:\n",
    "    pred = model.forecast(steps=5)\n",
    "    pred_price_0=pred[0][:5]\n",
    "    pred_price.extend(pred_price_0)\n",
    "\n",
    "    plt.plot(pred_price_0)\n",
    "    plt.plot(df_test)\n",
    "    plt.show()\n",
    "    \n",
    "    RMSE = mean_squared_error(pred_price_0, actual_price)**0.5    \n",
    "    RMSE_total.append(RMSE)"
   ]
  },
  {
   "cell_type": "markdown",
   "metadata": {},
   "source": [
    "#### 예측값, stderr, upper bound, lower bound"
   ]
  },
  {
   "cell_type": "code",
   "execution_count": 33,
   "metadata": {},
   "outputs": [],
   "source": [
    "n = 5\n",
    "result = [pred_price[i * n:(i + 1) * n] for i in range((len(pred_price) + n - 1) // n )] \n",
    "pred_final = []\n",
    "for i in result:\n",
    "    pred_final.append(i)"
   ]
  },
  {
   "cell_type": "code",
   "execution_count": 34,
   "metadata": {
    "scrolled": true
   },
   "outputs": [],
   "source": [
    "pred_final=pd.DataFrame(pred_final)\n",
    "RMSE_total=pd.DataFrame(RMSE_total)\n",
    "final_df=pd.concat([pred_final, RMSE_total], axis=1)\n",
    "final_df.columns=[df_test.index[0],df_test.index[1],df_test.index[2],df_test.index[3],df_test.index[4],'RMSE']"
   ]
  },
  {
   "cell_type": "code",
   "execution_count": 35,
   "metadata": {},
   "outputs": [
    {
     "data": {
      "text/html": [
       "<div>\n",
       "<style scoped>\n",
       "    .dataframe tbody tr th:only-of-type {\n",
       "        vertical-align: middle;\n",
       "    }\n",
       "\n",
       "    .dataframe tbody tr th {\n",
       "        vertical-align: top;\n",
       "    }\n",
       "\n",
       "    .dataframe thead th {\n",
       "        text-align: right;\n",
       "    }\n",
       "</style>\n",
       "<table border=\"1\" class=\"dataframe\">\n",
       "  <thead>\n",
       "    <tr style=\"text-align: right;\">\n",
       "      <th></th>\n",
       "      <th>2019-10-01</th>\n",
       "      <th>2019-10-02</th>\n",
       "      <th>2019-10-04</th>\n",
       "      <th>2019-10-07</th>\n",
       "      <th>2019-10-08</th>\n",
       "      <th>RMSE</th>\n",
       "    </tr>\n",
       "  </thead>\n",
       "  <tbody>\n",
       "    <tr>\n",
       "      <td>0</td>\n",
       "      <td>1199.200000</td>\n",
       "      <td>1198.200000</td>\n",
       "      <td>1203.700000</td>\n",
       "      <td>1197.000000</td>\n",
       "      <td>1196.500000</td>\n",
       "      <td>0.000000</td>\n",
       "    </tr>\n",
       "    <tr>\n",
       "      <td>0</td>\n",
       "      <td>1201.618942</td>\n",
       "      <td>1201.561449</td>\n",
       "      <td>1201.571813</td>\n",
       "      <td>1201.569945</td>\n",
       "      <td>1201.570282</td>\n",
       "      <td>3.695185</td>\n",
       "    </tr>\n",
       "    <tr>\n",
       "      <td>1</td>\n",
       "      <td>1201.953160</td>\n",
       "      <td>1202.260110</td>\n",
       "      <td>1202.645979</td>\n",
       "      <td>1203.013858</td>\n",
       "      <td>1203.385838</td>\n",
       "      <td>4.663831</td>\n",
       "    </tr>\n",
       "    <tr>\n",
       "      <td>2</td>\n",
       "      <td>1201.906204</td>\n",
       "      <td>1202.278608</td>\n",
       "      <td>1202.618162</td>\n",
       "      <td>1202.954497</td>\n",
       "      <td>1203.291928</td>\n",
       "      <td>4.619855</td>\n",
       "    </tr>\n",
       "    <tr>\n",
       "      <td>3</td>\n",
       "      <td>1201.622894</td>\n",
       "      <td>1201.705137</td>\n",
       "      <td>1201.738181</td>\n",
       "      <td>1201.753876</td>\n",
       "      <td>1201.761638</td>\n",
       "      <td>3.802350</td>\n",
       "    </tr>\n",
       "    <tr>\n",
       "      <td>4</td>\n",
       "      <td>1201.258439</td>\n",
       "      <td>1201.732867</td>\n",
       "      <td>1201.134272</td>\n",
       "      <td>1201.429805</td>\n",
       "      <td>1200.745178</td>\n",
       "      <td>3.491303</td>\n",
       "    </tr>\n",
       "    <tr>\n",
       "      <td>5</td>\n",
       "      <td>1201.157091</td>\n",
       "      <td>1201.682664</td>\n",
       "      <td>1201.141241</td>\n",
       "      <td>1201.633412</td>\n",
       "      <td>1201.088476</td>\n",
       "      <td>3.606356</td>\n",
       "    </tr>\n",
       "    <tr>\n",
       "      <td>6</td>\n",
       "      <td>1201.435685</td>\n",
       "      <td>1202.290718</td>\n",
       "      <td>1202.089916</td>\n",
       "      <td>1202.952253</td>\n",
       "      <td>1202.784559</td>\n",
       "      <td>4.455325</td>\n",
       "    </tr>\n",
       "    <tr>\n",
       "      <td>7</td>\n",
       "      <td>1201.545808</td>\n",
       "      <td>1201.201879</td>\n",
       "      <td>1200.946121</td>\n",
       "      <td>1200.551483</td>\n",
       "      <td>1200.118444</td>\n",
       "      <td>3.092058</td>\n",
       "    </tr>\n",
       "    <tr>\n",
       "      <td>8</td>\n",
       "      <td>1201.817649</td>\n",
       "      <td>1201.894709</td>\n",
       "      <td>1201.902582</td>\n",
       "      <td>1201.929686</td>\n",
       "      <td>1201.929686</td>\n",
       "      <td>3.937435</td>\n",
       "    </tr>\n",
       "    <tr>\n",
       "      <td>9</td>\n",
       "      <td>1202.084892</td>\n",
       "      <td>1202.476125</td>\n",
       "      <td>1202.803717</td>\n",
       "      <td>1203.195114</td>\n",
       "      <td>1203.568425</td>\n",
       "      <td>4.811512</td>\n",
       "    </tr>\n",
       "    <tr>\n",
       "      <td>10</td>\n",
       "      <td>1201.900876</td>\n",
       "      <td>1202.033122</td>\n",
       "      <td>1202.181954</td>\n",
       "      <td>1202.235388</td>\n",
       "      <td>1202.235388</td>\n",
       "      <td>4.113295</td>\n",
       "    </tr>\n",
       "    <tr>\n",
       "      <td>11</td>\n",
       "      <td>1202.179065</td>\n",
       "      <td>1202.628787</td>\n",
       "      <td>1203.119483</td>\n",
       "      <td>1203.534548</td>\n",
       "      <td>1203.912740</td>\n",
       "      <td>5.029414</td>\n",
       "    </tr>\n",
       "  </tbody>\n",
       "</table>\n",
       "</div>"
      ],
      "text/plain": [
       "     2019-10-01   2019-10-02   2019-10-04   2019-10-07   2019-10-08      RMSE\n",
       "0   1199.200000  1198.200000  1203.700000  1197.000000  1196.500000  0.000000\n",
       "0   1201.618942  1201.561449  1201.571813  1201.569945  1201.570282  3.695185\n",
       "1   1201.953160  1202.260110  1202.645979  1203.013858  1203.385838  4.663831\n",
       "2   1201.906204  1202.278608  1202.618162  1202.954497  1203.291928  4.619855\n",
       "3   1201.622894  1201.705137  1201.738181  1201.753876  1201.761638  3.802350\n",
       "4   1201.258439  1201.732867  1201.134272  1201.429805  1200.745178  3.491303\n",
       "5   1201.157091  1201.682664  1201.141241  1201.633412  1201.088476  3.606356\n",
       "6   1201.435685  1202.290718  1202.089916  1202.952253  1202.784559  4.455325\n",
       "7   1201.545808  1201.201879  1200.946121  1200.551483  1200.118444  3.092058\n",
       "8   1201.817649  1201.894709  1201.902582  1201.929686  1201.929686  3.937435\n",
       "9   1202.084892  1202.476125  1202.803717  1203.195114  1203.568425  4.811512\n",
       "10  1201.900876  1202.033122  1202.181954  1202.235388  1202.235388  4.113295\n",
       "11  1202.179065  1202.628787  1203.119483  1203.534548  1203.912740  5.029414"
      ]
     },
     "execution_count": 35,
     "metadata": {},
     "output_type": "execute_result"
    }
   ],
   "source": [
    "actual_price = pd.DataFrame(actual_price + [0]).T\n",
    "actual_price.columns=[df_test.index[0],df_test.index[1],df_test.index[2],df_test.index[3],df_test.index[4],'RMSE']\n",
    "final_df=pd.concat([actual_price, final_df], axis=0)\n",
    "final_df"
   ]
  },
  {
   "cell_type": "code",
   "execution_count": 36,
   "metadata": {},
   "outputs": [],
   "source": [
    "final_df.to_csv('data/final09.csv', index=False)"
   ]
  },
  {
   "cell_type": "code",
   "execution_count": null,
   "metadata": {},
   "outputs": [],
   "source": []
  }
 ],
 "metadata": {
  "kernelspec": {
   "display_name": "Python 3",
   "language": "python",
   "name": "python3"
  },
  "language_info": {
   "codemirror_mode": {
    "name": "ipython",
    "version": 3
   },
   "file_extension": ".py",
   "mimetype": "text/x-python",
   "name": "python",
   "nbconvert_exporter": "python",
   "pygments_lexer": "ipython3",
   "version": "3.7.4"
  }
 },
 "nbformat": 4,
 "nbformat_minor": 2
}
