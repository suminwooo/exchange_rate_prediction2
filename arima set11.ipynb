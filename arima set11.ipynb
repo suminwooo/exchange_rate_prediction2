{
 "cells": [
  {
   "cell_type": "code",
   "execution_count": 1,
   "metadata": {},
   "outputs": [],
   "source": [
    "import pandas as pd\n",
    "import matplotlib.pyplot as plt\n",
    "\n",
    "from statsmodels.tsa.arima_model import ARIMA\n",
    "from sklearn.metrics import mean_squared_error"
   ]
  },
  {
   "cell_type": "code",
   "execution_count": 2,
   "metadata": {},
   "outputs": [],
   "source": [
    "data = pd.read_csv('exchange_data/set11.csv', header=0, squeeze=True)"
   ]
  },
  {
   "cell_type": "code",
   "execution_count": 3,
   "metadata": {},
   "outputs": [],
   "source": [
    "data = data.set_index('Date')"
   ]
  },
  {
   "cell_type": "code",
   "execution_count": 4,
   "metadata": {},
   "outputs": [],
   "source": [
    "#2018년 2월~2019년1월 train set/ 2019년 2월 test set\n",
    "df_train=data.loc['2018-12-01': '2019-11-31' ]\n",
    "df_test=data.loc['2019-12-01':]"
   ]
  },
  {
   "cell_type": "markdown",
   "metadata": {},
   "source": [
    "### 모형구축"
   ]
  },
  {
   "cell_type": "code",
   "execution_count": 5,
   "metadata": {},
   "outputs": [
    {
     "name": "stderr",
     "output_type": "stream",
     "text": [
      "C:\\Users\\sm.woo\\Anaconda3\\lib\\site-packages\\statsmodels\\tsa\\base\\tsa_model.py:219: ValueWarning: A date index has been provided, but it has no associated frequency information and so will be ignored when e.g. forecasting.\n",
      "  ' ignored when e.g. forecasting.', ValueWarning)\n",
      "C:\\Users\\sm.woo\\Anaconda3\\lib\\site-packages\\statsmodels\\tsa\\base\\tsa_model.py:219: ValueWarning: A date index has been provided, but it has no associated frequency information and so will be ignored when e.g. forecasting.\n",
      "  ' ignored when e.g. forecasting.', ValueWarning)\n"
     ]
    },
    {
     "name": "stdout",
     "output_type": "stream",
     "text": [
      "                             ARIMA Model Results                              \n",
      "==============================================================================\n",
      "Dep. Variable:                 D.Rate   No. Observations:                  245\n",
      "Model:                 ARIMA(1, 1, 1)   Log Likelihood                -685.668\n",
      "Method:                       css-mle   S.D. of innovations              3.974\n",
      "Date:                Fri, 07 Feb 2020   AIC                           1377.335\n",
      "Time:                        15:54:36   BIC                           1387.839\n",
      "Sample:                             1   HQIC                          1381.565\n",
      "                                                                              \n",
      "================================================================================\n",
      "                   coef    std err          z      P>|z|      [0.025      0.975]\n",
      "--------------------------------------------------------------------------------\n",
      "ar.L1.D.Rate     0.0096      0.844      0.011      0.991      -1.644       1.663\n",
      "ma.L1.D.Rate     0.0964      0.841      0.115      0.909      -1.552       1.745\n",
      "                                    Roots                                    \n",
      "=============================================================================\n",
      "                  Real          Imaginary           Modulus         Frequency\n",
      "-----------------------------------------------------------------------------\n",
      "AR.1          103.9272           +0.0000j          103.9272            0.0000\n",
      "MA.1          -10.3712           +0.0000j           10.3712            0.5000\n",
      "-----------------------------------------------------------------------------\n"
     ]
    }
   ],
   "source": [
    "model_1 = ARIMA(df_train, order=(1,1,1))\n",
    "model_1_fit = model_1.fit(trend='nc',full_output=True, disp=1)\n",
    "print(model_1_fit.summary())"
   ]
  },
  {
   "cell_type": "code",
   "execution_count": 6,
   "metadata": {},
   "outputs": [
    {
     "name": "stderr",
     "output_type": "stream",
     "text": [
      "C:\\Users\\sm.woo\\Anaconda3\\lib\\site-packages\\statsmodels\\tsa\\base\\tsa_model.py:219: ValueWarning: A date index has been provided, but it has no associated frequency information and so will be ignored when e.g. forecasting.\n",
      "  ' ignored when e.g. forecasting.', ValueWarning)\n",
      "C:\\Users\\sm.woo\\Anaconda3\\lib\\site-packages\\statsmodels\\tsa\\base\\tsa_model.py:219: ValueWarning: A date index has been provided, but it has no associated frequency information and so will be ignored when e.g. forecasting.\n",
      "  ' ignored when e.g. forecasting.', ValueWarning)\n"
     ]
    },
    {
     "name": "stdout",
     "output_type": "stream",
     "text": [
      "                             ARIMA Model Results                              \n",
      "==============================================================================\n",
      "Dep. Variable:                 D.Rate   No. Observations:                  245\n",
      "Model:                 ARIMA(1, 1, 1)   Log Likelihood                -685.301\n",
      "Method:                       css-mle   S.D. of innovations              3.968\n",
      "Date:                Fri, 07 Feb 2020   AIC                           1378.602\n",
      "Time:                        15:54:39   BIC                           1392.607\n",
      "Sample:                             1   HQIC                          1384.242\n",
      "                                                                              \n",
      "================================================================================\n",
      "                   coef    std err          z      P>|z|      [0.025      0.975]\n",
      "--------------------------------------------------------------------------------\n",
      "const            0.2395      0.278      0.860      0.391      -0.306       0.785\n",
      "ar.L1.D.Rate    -0.0419      0.756     -0.055      0.956      -1.525       1.441\n",
      "ma.L1.D.Rate     0.1447      0.750      0.193      0.847      -1.325       1.614\n",
      "                                    Roots                                    \n",
      "=============================================================================\n",
      "                  Real          Imaginary           Modulus         Frequency\n",
      "-----------------------------------------------------------------------------\n",
      "AR.1          -23.8625           +0.0000j           23.8625            0.5000\n",
      "MA.1           -6.9116           +0.0000j            6.9116            0.5000\n",
      "-----------------------------------------------------------------------------\n"
     ]
    }
   ],
   "source": [
    "model_2 = ARIMA(df_train, order=(1,1,1))\n",
    "model_2_fit = model_2.fit(trend='c',full_output=True, disp=1)\n",
    "print(model_2_fit.summary())"
   ]
  },
  {
   "cell_type": "code",
   "execution_count": 7,
   "metadata": {},
   "outputs": [
    {
     "name": "stderr",
     "output_type": "stream",
     "text": [
      "C:\\Users\\sm.woo\\Anaconda3\\lib\\site-packages\\statsmodels\\tsa\\base\\tsa_model.py:219: ValueWarning: A date index has been provided, but it has no associated frequency information and so will be ignored when e.g. forecasting.\n",
      "  ' ignored when e.g. forecasting.', ValueWarning)\n",
      "C:\\Users\\sm.woo\\Anaconda3\\lib\\site-packages\\statsmodels\\tsa\\base\\tsa_model.py:219: ValueWarning: A date index has been provided, but it has no associated frequency information and so will be ignored when e.g. forecasting.\n",
      "  ' ignored when e.g. forecasting.', ValueWarning)\n"
     ]
    },
    {
     "name": "stdout",
     "output_type": "stream",
     "text": [
      "                             ARIMA Model Results                              \n",
      "==============================================================================\n",
      "Dep. Variable:                 D.Rate   No. Observations:                  245\n",
      "Model:                 ARIMA(2, 1, 1)   Log Likelihood                -685.292\n",
      "Method:                       css-mle   S.D. of innovations              3.968\n",
      "Date:                Fri, 07 Feb 2020   AIC                           1380.584\n",
      "Time:                        15:54:44   BIC                           1398.091\n",
      "Sample:                             1   HQIC                          1387.634\n",
      "                                                                              \n",
      "================================================================================\n",
      "                   coef    std err          z      P>|z|      [0.025      0.975]\n",
      "--------------------------------------------------------------------------------\n",
      "const            0.2394      0.279      0.857      0.392      -0.308       0.787\n",
      "ar.L1.D.Rate    -0.2379      1.355     -0.176      0.861      -2.894       2.419\n",
      "ar.L2.D.Rate     0.0215      0.158      0.136      0.892      -0.289       0.332\n",
      "ma.L1.D.Rate     0.3410      1.353      0.252      0.801      -2.312       2.994\n",
      "                                    Roots                                    \n",
      "=============================================================================\n",
      "                  Real          Imaginary           Modulus         Frequency\n",
      "-----------------------------------------------------------------------------\n",
      "AR.1           -3.2498           +0.0000j            3.2498            0.5000\n",
      "AR.2           14.3171           +0.0000j           14.3171            0.0000\n",
      "MA.1           -2.9325           +0.0000j            2.9325            0.5000\n",
      "-----------------------------------------------------------------------------\n"
     ]
    }
   ],
   "source": [
    "model_3 = ARIMA(df_train, order=(2,1,1))\n",
    "model_3_fit = model_3.fit(trend='c',full_output=True, disp=1)\n",
    "print(model_3_fit.summary())"
   ]
  },
  {
   "cell_type": "code",
   "execution_count": 8,
   "metadata": {},
   "outputs": [
    {
     "name": "stderr",
     "output_type": "stream",
     "text": [
      "C:\\Users\\sm.woo\\Anaconda3\\lib\\site-packages\\statsmodels\\tsa\\base\\tsa_model.py:219: ValueWarning: A date index has been provided, but it has no associated frequency information and so will be ignored when e.g. forecasting.\n",
      "  ' ignored when e.g. forecasting.', ValueWarning)\n",
      "C:\\Users\\sm.woo\\Anaconda3\\lib\\site-packages\\statsmodels\\tsa\\base\\tsa_model.py:219: ValueWarning: A date index has been provided, but it has no associated frequency information and so will be ignored when e.g. forecasting.\n",
      "  ' ignored when e.g. forecasting.', ValueWarning)\n"
     ]
    },
    {
     "name": "stdout",
     "output_type": "stream",
     "text": [
      "                             ARIMA Model Results                              \n",
      "==============================================================================\n",
      "Dep. Variable:                 D.Rate   No. Observations:                  245\n",
      "Model:                 ARIMA(2, 1, 1)   Log Likelihood                -685.657\n",
      "Method:                       css-mle   S.D. of innovations              3.973\n",
      "Date:                Fri, 07 Feb 2020   AIC                           1379.313\n",
      "Time:                        15:54:48   BIC                           1393.318\n",
      "Sample:                             1   HQIC                          1384.953\n",
      "                                                                              \n",
      "================================================================================\n",
      "                   coef    std err          z      P>|z|      [0.025      0.975]\n",
      "--------------------------------------------------------------------------------\n",
      "ar.L1.D.Rate    -0.2511      1.443     -0.174      0.862      -3.080       2.578\n",
      "ar.L2.D.Rate     0.0267      0.171      0.156      0.876      -0.308       0.361\n",
      "ma.L1.D.Rate     0.3575      1.441      0.248      0.804      -2.467       3.183\n",
      "                                    Roots                                    \n",
      "=============================================================================\n",
      "                  Real          Imaginary           Modulus         Frequency\n",
      "-----------------------------------------------------------------------------\n",
      "AR.1           -3.0158           +0.0000j            3.0158            0.5000\n",
      "AR.2           12.4236           +0.0000j           12.4236            0.0000\n",
      "MA.1           -2.7970           +0.0000j            2.7970            0.5000\n",
      "-----------------------------------------------------------------------------\n"
     ]
    }
   ],
   "source": [
    "model_4 = ARIMA(df_train, order=(2,1,1))\n",
    "model_4_fit = model_4.fit(trend='nc',full_output=True, disp=1)\n",
    "print(model_4_fit.summary())"
   ]
  },
  {
   "cell_type": "code",
   "execution_count": 9,
   "metadata": {},
   "outputs": [
    {
     "name": "stderr",
     "output_type": "stream",
     "text": [
      "C:\\Users\\sm.woo\\Anaconda3\\lib\\site-packages\\statsmodels\\tsa\\base\\tsa_model.py:219: ValueWarning: A date index has been provided, but it has no associated frequency information and so will be ignored when e.g. forecasting.\n",
      "  ' ignored when e.g. forecasting.', ValueWarning)\n",
      "C:\\Users\\sm.woo\\Anaconda3\\lib\\site-packages\\statsmodels\\tsa\\base\\tsa_model.py:219: ValueWarning: A date index has been provided, but it has no associated frequency information and so will be ignored when e.g. forecasting.\n",
      "  ' ignored when e.g. forecasting.', ValueWarning)\n"
     ]
    },
    {
     "name": "stdout",
     "output_type": "stream",
     "text": [
      "                             ARIMA Model Results                              \n",
      "==============================================================================\n",
      "Dep. Variable:                 D.Rate   No. Observations:                  245\n",
      "Model:                 ARIMA(2, 1, 2)   Log Likelihood                -685.831\n",
      "Method:                       css-mle   S.D. of innovations              3.958\n",
      "Date:                Fri, 07 Feb 2020   AIC                           1381.662\n",
      "Time:                        15:54:52   BIC                           1399.168\n",
      "Sample:                             1   HQIC                          1388.712\n",
      "                                                                              \n",
      "================================================================================\n",
      "                   coef    std err          z      P>|z|      [0.025      0.975]\n",
      "--------------------------------------------------------------------------------\n",
      "ar.L1.D.Rate    -0.3625      0.034    -10.769      0.000      -0.428      -0.297\n",
      "ar.L2.D.Rate    -0.9716      0.023    -43.011      0.000      -1.016      -0.927\n",
      "ma.L1.D.Rate     0.3822      0.020     18.980      0.000       0.343       0.422\n",
      "ma.L2.D.Rate     0.9999      0.016     64.248      0.000       0.969       1.030\n",
      "                                    Roots                                    \n",
      "=============================================================================\n",
      "                  Real          Imaginary           Modulus         Frequency\n",
      "-----------------------------------------------------------------------------\n",
      "AR.1           -0.1865           -0.9972j            1.0145           -0.2794\n",
      "AR.2           -0.1865           +0.9972j            1.0145            0.2794\n",
      "MA.1           -0.1911           -0.9816j            1.0000           -0.2806\n",
      "MA.2           -0.1911           +0.9816j            1.0000            0.2806\n",
      "-----------------------------------------------------------------------------\n"
     ]
    }
   ],
   "source": [
    "model_5 = ARIMA(df_train, order=(2,1,2))\n",
    "model_5_fit = model_5.fit(trend='nc',full_output=True, disp=1)\n",
    "print(model_5_fit.summary())"
   ]
  },
  {
   "cell_type": "code",
   "execution_count": 10,
   "metadata": {},
   "outputs": [
    {
     "name": "stderr",
     "output_type": "stream",
     "text": [
      "C:\\Users\\sm.woo\\Anaconda3\\lib\\site-packages\\statsmodels\\tsa\\base\\tsa_model.py:219: ValueWarning: A date index has been provided, but it has no associated frequency information and so will be ignored when e.g. forecasting.\n",
      "  ' ignored when e.g. forecasting.', ValueWarning)\n",
      "C:\\Users\\sm.woo\\Anaconda3\\lib\\site-packages\\statsmodels\\tsa\\base\\tsa_model.py:219: ValueWarning: A date index has been provided, but it has no associated frequency information and so will be ignored when e.g. forecasting.\n",
      "  ' ignored when e.g. forecasting.', ValueWarning)\n"
     ]
    },
    {
     "name": "stdout",
     "output_type": "stream",
     "text": [
      "                             ARIMA Model Results                              \n",
      "==============================================================================\n",
      "Dep. Variable:                 D.Rate   No. Observations:                  245\n",
      "Model:                 ARIMA(2, 1, 2)   Log Likelihood                -685.090\n",
      "Method:                       css-mle   S.D. of innovations              3.964\n",
      "Date:                Fri, 07 Feb 2020   AIC                           1382.181\n",
      "Time:                        15:54:55   BIC                           1403.188\n",
      "Sample:                             1   HQIC                          1390.641\n",
      "                                                                              \n",
      "================================================================================\n",
      "                   coef    std err          z      P>|z|      [0.025      0.975]\n",
      "--------------------------------------------------------------------------------\n",
      "const            0.2394      0.305      0.786      0.433      -0.358       0.836\n",
      "ar.L1.D.Rate     0.4266      0.811      0.526      0.599      -1.162       2.015\n",
      "ar.L2.D.Rate     0.2287      0.459      0.498      0.619      -0.672       1.129\n",
      "ma.L1.D.Rate    -0.3228      0.805     -0.401      0.689      -1.901       1.255\n",
      "ma.L2.D.Rate    -0.2619      0.414     -0.632      0.528      -1.074       0.550\n",
      "                                    Roots                                    \n",
      "=============================================================================\n",
      "                  Real          Imaginary           Modulus         Frequency\n",
      "-----------------------------------------------------------------------------\n",
      "AR.1            1.3569           +0.0000j            1.3569            0.0000\n",
      "AR.2           -3.2225           +0.0000j            3.2225            0.5000\n",
      "MA.1            1.4327           +0.0000j            1.4327            0.0000\n",
      "MA.2           -2.6652           +0.0000j            2.6652            0.5000\n",
      "-----------------------------------------------------------------------------\n"
     ]
    }
   ],
   "source": [
    "model_6 = ARIMA(df_train, order=(2,1,2))\n",
    "model_6_fit = model_6.fit(trend='c',full_output=True, disp=1)\n",
    "print(model_6_fit.summary())"
   ]
  },
  {
   "cell_type": "code",
   "execution_count": 11,
   "metadata": {},
   "outputs": [
    {
     "name": "stderr",
     "output_type": "stream",
     "text": [
      "C:\\Users\\sm.woo\\Anaconda3\\lib\\site-packages\\statsmodels\\tsa\\base\\tsa_model.py:219: ValueWarning: A date index has been provided, but it has no associated frequency information and so will be ignored when e.g. forecasting.\n",
      "  ' ignored when e.g. forecasting.', ValueWarning)\n",
      "C:\\Users\\sm.woo\\Anaconda3\\lib\\site-packages\\statsmodels\\tsa\\base\\tsa_model.py:219: ValueWarning: A date index has been provided, but it has no associated frequency information and so will be ignored when e.g. forecasting.\n",
      "  ' ignored when e.g. forecasting.', ValueWarning)\n"
     ]
    },
    {
     "name": "stdout",
     "output_type": "stream",
     "text": [
      "                             ARIMA Model Results                              \n",
      "==============================================================================\n",
      "Dep. Variable:                 D.Rate   No. Observations:                  245\n",
      "Model:                 ARIMA(4, 1, 3)   Log Likelihood                -682.592\n",
      "Method:                       css-mle   S.D. of innovations              3.897\n",
      "Date:                Fri, 07 Feb 2020   AIC                           1381.185\n",
      "Time:                        15:55:05   BIC                           1409.195\n",
      "Sample:                             1   HQIC                          1392.464\n",
      "                                                                              \n",
      "================================================================================\n",
      "                   coef    std err          z      P>|z|      [0.025      0.975]\n",
      "--------------------------------------------------------------------------------\n",
      "ar.L1.D.Rate     0.5921      0.093      6.368      0.000       0.410       0.774\n",
      "ar.L2.D.Rate     0.3279      0.104      3.144      0.002       0.123       0.532\n",
      "ar.L3.D.Rate    -0.9639      0.075    -12.800      0.000      -1.112      -0.816\n",
      "ar.L4.D.Rate     0.1445      0.064      2.252      0.025       0.019       0.270\n",
      "ma.L1.D.Rate    -0.5107      0.073     -7.006      0.000      -0.654      -0.368\n",
      "ma.L2.D.Rate    -0.3723      0.102     -3.658      0.000      -0.572      -0.173\n",
      "ma.L3.D.Rate     0.9435      0.074     12.688      0.000       0.798       1.089\n",
      "                                    Roots                                    \n",
      "=============================================================================\n",
      "                  Real          Imaginary           Modulus         Frequency\n",
      "-----------------------------------------------------------------------------\n",
      "AR.1           -1.0420           -0.0000j            1.0420           -0.5000\n",
      "AR.2            0.7416           -0.7184j            1.0325           -0.1225\n",
      "AR.3            0.7416           +0.7184j            1.0325            0.1225\n",
      "AR.4            6.2296           -0.0000j            6.2296           -0.0000\n",
      "MA.1           -1.0598           -0.0000j            1.0598           -0.5000\n",
      "MA.2            0.7272           -0.6865j            1.0001           -0.1204\n",
      "MA.3            0.7272           +0.6865j            1.0001            0.1204\n",
      "-----------------------------------------------------------------------------\n"
     ]
    }
   ],
   "source": [
    "model_9 = ARIMA(df_train, order=(4,1,3))\n",
    "model_9_fit = model_9.fit(trend='nc',full_output=True, disp=1)\n",
    "print(model_9_fit.summary())"
   ]
  },
  {
   "cell_type": "code",
   "execution_count": 12,
   "metadata": {},
   "outputs": [
    {
     "name": "stderr",
     "output_type": "stream",
     "text": [
      "C:\\Users\\sm.woo\\Anaconda3\\lib\\site-packages\\statsmodels\\tsa\\base\\tsa_model.py:219: ValueWarning: A date index has been provided, but it has no associated frequency information and so will be ignored when e.g. forecasting.\n",
      "  ' ignored when e.g. forecasting.', ValueWarning)\n",
      "C:\\Users\\sm.woo\\Anaconda3\\lib\\site-packages\\statsmodels\\tsa\\base\\tsa_model.py:219: ValueWarning: A date index has been provided, but it has no associated frequency information and so will be ignored when e.g. forecasting.\n",
      "  ' ignored when e.g. forecasting.', ValueWarning)\n"
     ]
    },
    {
     "name": "stdout",
     "output_type": "stream",
     "text": [
      "                             ARIMA Model Results                              \n",
      "==============================================================================\n",
      "Dep. Variable:                 D.Rate   No. Observations:                  245\n",
      "Model:                 ARIMA(4, 1, 3)   Log Likelihood                -684.403\n",
      "Method:                       css-mle   S.D. of innovations              3.953\n",
      "Date:                Fri, 07 Feb 2020   AIC                           1386.805\n",
      "Time:                        15:55:11   BIC                           1418.316\n",
      "Sample:                             1   HQIC                          1399.495\n",
      "                                                                              \n",
      "================================================================================\n",
      "                   coef    std err          z      P>|z|      [0.025      0.975]\n",
      "--------------------------------------------------------------------------------\n",
      "const            0.2408      0.308      0.783      0.434      -0.362       0.844\n",
      "ar.L1.D.Rate    -0.6354      0.894     -0.711      0.478      -2.388       1.117\n",
      "ar.L2.D.Rate     0.4720      0.557      0.847      0.398      -0.620       1.564\n",
      "ar.L3.D.Rate     0.2090      0.653      0.320      0.749      -1.071       1.489\n",
      "ar.L4.D.Rate     0.0456      0.112      0.405      0.686      -0.175       0.266\n",
      "ma.L1.D.Rate     0.7406      0.895      0.827      0.409      -1.014       2.496\n",
      "ma.L2.D.Rate    -0.4094      0.610     -0.672      0.502      -1.604       0.785\n",
      "ma.L3.D.Rate    -0.2217      0.650     -0.341      0.733      -1.495       1.052\n",
      "                                    Roots                                    \n",
      "=============================================================================\n",
      "                  Real          Imaginary           Modulus         Frequency\n",
      "-----------------------------------------------------------------------------\n",
      "AR.1           -1.0491           -0.0000j            1.0491           -0.5000\n",
      "AR.2            1.4838           -0.0000j            1.4838           -0.0000\n",
      "AR.3           -2.5103           -2.7923j            3.7548           -0.3665\n",
      "AR.4           -2.5103           +2.7923j            3.7548            0.3665\n",
      "MA.1            1.6947           +0.0000j            1.6947            0.0000\n",
      "MA.2           -1.0822           +0.0000j            1.0822            0.5000\n",
      "MA.3           -2.4589           +0.0000j            2.4589            0.5000\n",
      "-----------------------------------------------------------------------------\n"
     ]
    }
   ],
   "source": [
    "model_10 = ARIMA(df_train, order=(4,1,3))\n",
    "model_10_fit = model_10.fit(trend='c',full_output=True, disp=1)\n",
    "print(model_10_fit.summary())"
   ]
  },
  {
   "cell_type": "code",
   "execution_count": 13,
   "metadata": {},
   "outputs": [
    {
     "name": "stderr",
     "output_type": "stream",
     "text": [
      "C:\\Users\\sm.woo\\Anaconda3\\lib\\site-packages\\statsmodels\\tsa\\base\\tsa_model.py:219: ValueWarning: A date index has been provided, but it has no associated frequency information and so will be ignored when e.g. forecasting.\n",
      "  ' ignored when e.g. forecasting.', ValueWarning)\n",
      "C:\\Users\\sm.woo\\Anaconda3\\lib\\site-packages\\statsmodels\\tsa\\base\\tsa_model.py:219: ValueWarning: A date index has been provided, but it has no associated frequency information and so will be ignored when e.g. forecasting.\n",
      "  ' ignored when e.g. forecasting.', ValueWarning)\n"
     ]
    },
    {
     "name": "stdout",
     "output_type": "stream",
     "text": [
      "                             ARIMA Model Results                              \n",
      "==============================================================================\n",
      "Dep. Variable:                 D.Rate   No. Observations:                  245\n",
      "Model:                 ARIMA(4, 1, 4)   Log Likelihood                -684.319\n",
      "Method:                       css-mle   S.D. of innovations              3.932\n",
      "Date:                Fri, 07 Feb 2020   AIC                           1386.638\n",
      "Time:                        15:55:21   BIC                           1418.150\n",
      "Sample:                             1   HQIC                          1399.328\n",
      "                                                                              \n",
      "================================================================================\n",
      "                   coef    std err          z      P>|z|      [0.025      0.975]\n",
      "--------------------------------------------------------------------------------\n",
      "ar.L1.D.Rate    -0.4120      0.647     -0.636      0.525      -1.681       0.857\n",
      "ar.L2.D.Rate    -0.3242      0.450     -0.721      0.472      -1.206       0.557\n",
      "ar.L3.D.Rate     0.6517      0.509      1.282      0.201      -0.345       1.648\n",
      "ar.L4.D.Rate     0.2510      0.353      0.711      0.478      -0.441       0.943\n",
      "ma.L1.D.Rate     0.5309      0.643      0.826      0.410      -0.729       1.791\n",
      "ma.L2.D.Rate     0.4079      0.526      0.776      0.439      -0.622       1.438\n",
      "ma.L3.D.Rate    -0.5949      0.595     -0.999      0.319      -1.762       0.572\n",
      "ma.L4.D.Rate    -0.3090      0.338     -0.915      0.361      -0.971       0.353\n",
      "                                    Roots                                    \n",
      "=============================================================================\n",
      "                  Real          Imaginary           Modulus         Frequency\n",
      "-----------------------------------------------------------------------------\n",
      "AR.1            1.2845           -0.0000j            1.2845           -0.0000\n",
      "AR.2           -0.4438           -0.9161j            1.0180           -0.3218\n",
      "AR.3           -0.4438           +0.9161j            1.0180            0.3218\n",
      "AR.4           -2.9938           -0.0000j            2.9938           -0.5000\n",
      "MA.1            1.3435           -0.0000j            1.3435           -0.0000\n",
      "MA.2           -0.4300           -0.9028j            1.0000           -0.3207\n",
      "MA.3           -0.4300           +0.9028j            1.0000            0.3207\n",
      "MA.4           -2.4088           -0.0000j            2.4088           -0.5000\n",
      "-----------------------------------------------------------------------------\n"
     ]
    }
   ],
   "source": [
    "model_11 = ARIMA(df_train, order=(4,1,4))\n",
    "model_11_fit = model_11.fit(trend='nc',full_output=True, disp=1)\n",
    "print(model_11_fit.summary())"
   ]
  },
  {
   "cell_type": "code",
   "execution_count": 14,
   "metadata": {},
   "outputs": [
    {
     "name": "stderr",
     "output_type": "stream",
     "text": [
      "C:\\Users\\sm.woo\\Anaconda3\\lib\\site-packages\\statsmodels\\tsa\\base\\tsa_model.py:219: ValueWarning: A date index has been provided, but it has no associated frequency information and so will be ignored when e.g. forecasting.\n",
      "  ' ignored when e.g. forecasting.', ValueWarning)\n",
      "C:\\Users\\sm.woo\\Anaconda3\\lib\\site-packages\\statsmodels\\tsa\\base\\tsa_model.py:219: ValueWarning: A date index has been provided, but it has no associated frequency information and so will be ignored when e.g. forecasting.\n",
      "  ' ignored when e.g. forecasting.', ValueWarning)\n"
     ]
    },
    {
     "name": "stdout",
     "output_type": "stream",
     "text": [
      "                             ARIMA Model Results                              \n",
      "==============================================================================\n",
      "Dep. Variable:                 D.Rate   No. Observations:                  245\n",
      "Model:                 ARIMA(4, 1, 4)   Log Likelihood                -680.423\n",
      "Method:                       css-mle   S.D. of innovations              3.834\n",
      "Date:                Fri, 07 Feb 2020   AIC                           1380.846\n",
      "Time:                        15:55:38   BIC                           1415.858\n",
      "Sample:                             1   HQIC                          1394.945\n",
      "                                                                              \n",
      "================================================================================\n",
      "                   coef    std err          z      P>|z|      [0.025      0.975]\n",
      "--------------------------------------------------------------------------------\n",
      "const            0.2465      0.275      0.897      0.371      -0.292       0.785\n",
      "ar.L1.D.Rate    -0.1599      0.042     -3.806      0.000      -0.242      -0.078\n",
      "ar.L2.D.Rate     0.8759      0.048     18.193      0.000       0.782       0.970\n",
      "ar.L3.D.Rate    -0.1474      0.040     -3.672      0.000      -0.226      -0.069\n",
      "ar.L4.D.Rate    -0.8607      0.039    -22.095      0.000      -0.937      -0.784\n",
      "ma.L1.D.Rate     0.1861      0.032      5.741      0.000       0.123       0.250\n",
      "ma.L2.D.Rate    -0.9207      0.026    -35.673      0.000      -0.971      -0.870\n",
      "ma.L3.D.Rate     0.1860      0.030      6.212      0.000       0.127       0.245\n",
      "ma.L4.D.Rate     0.9999      0.034     29.042      0.000       0.932       1.067\n",
      "                                    Roots                                    \n",
      "=============================================================================\n",
      "                  Real          Imaginary           Modulus         Frequency\n",
      "-----------------------------------------------------------------------------\n",
      "AR.1            0.8489           -0.5980j            1.0384           -0.0977\n",
      "AR.2            0.8489           +0.5980j            1.0384            0.0977\n",
      "AR.3           -0.9346           -0.4519j            1.0381           -0.4283\n",
      "AR.4           -0.9346           +0.4519j            1.0381            0.4283\n",
      "MA.1            0.8093           -0.5875j            1.0000           -0.0999\n",
      "MA.2            0.8093           +0.5875j            1.0000            0.0999\n",
      "MA.3           -0.9023           -0.4311j            1.0000           -0.4291\n",
      "MA.4           -0.9023           +0.4311j            1.0000            0.4291\n",
      "-----------------------------------------------------------------------------\n"
     ]
    }
   ],
   "source": [
    "model_12 = ARIMA(df_train, order=(4,1,4))\n",
    "model_12_fit = model_12.fit(trend='c',full_output=True, disp=1)\n",
    "print(model_12_fit.summary())"
   ]
  },
  {
   "cell_type": "code",
   "execution_count": 15,
   "metadata": {},
   "outputs": [
    {
     "name": "stderr",
     "output_type": "stream",
     "text": [
      "C:\\Users\\sm.woo\\Anaconda3\\lib\\site-packages\\statsmodels\\tsa\\base\\tsa_model.py:219: ValueWarning: A date index has been provided, but it has no associated frequency information and so will be ignored when e.g. forecasting.\n",
      "  ' ignored when e.g. forecasting.', ValueWarning)\n",
      "C:\\Users\\sm.woo\\Anaconda3\\lib\\site-packages\\statsmodels\\tsa\\base\\tsa_model.py:219: ValueWarning: A date index has been provided, but it has no associated frequency information and so will be ignored when e.g. forecasting.\n",
      "  ' ignored when e.g. forecasting.', ValueWarning)\n",
      "C:\\Users\\sm.woo\\Anaconda3\\lib\\site-packages\\statsmodels\\base\\model.py:492: HessianInversionWarning: Inverting hessian failed, no bse or cov_params available\n",
      "  'available', HessianInversionWarning)\n",
      "C:\\Users\\sm.woo\\Anaconda3\\lib\\site-packages\\statsmodels\\base\\model.py:512: ConvergenceWarning: Maximum Likelihood optimization failed to converge. Check mle_retvals\n",
      "  \"Check mle_retvals\", ConvergenceWarning)\n"
     ]
    },
    {
     "name": "stdout",
     "output_type": "stream",
     "text": [
      "                             ARIMA Model Results                              \n",
      "==============================================================================\n",
      "Dep. Variable:                 D.Rate   No. Observations:                  245\n",
      "Model:                 ARIMA(5, 1, 4)   Log Likelihood                -680.657\n",
      "Method:                       css-mle   S.D. of innovations              3.844\n",
      "Date:                Fri, 07 Feb 2020   AIC                           1383.313\n",
      "Time:                        15:56:20   BIC                           1421.827\n",
      "Sample:                             1   HQIC                          1398.823\n",
      "                                                                              \n",
      "================================================================================\n",
      "                   coef    std err          z      P>|z|      [0.025      0.975]\n",
      "--------------------------------------------------------------------------------\n",
      "const            0.2446      0.303      0.808      0.420      -0.349       0.838\n",
      "ar.L1.D.Rate     0.3100      0.006     48.622      0.000       0.297       0.322\n",
      "ar.L2.D.Rate     0.2045      0.025      8.227      0.000       0.156       0.253\n",
      "ar.L3.D.Rate     0.2558      0.008     33.959      0.000       0.241       0.271\n",
      "ar.L4.D.Rate    -0.9540        nan        nan        nan         nan         nan\n",
      "ar.L5.D.Rate     0.1294      0.001    124.935      0.000       0.127       0.131\n",
      "ma.L1.D.Rate    -0.2326      0.015    -15.264      0.000      -0.262      -0.203\n",
      "ma.L2.D.Rate    -0.2331      0.016    -14.442      0.000      -0.265      -0.201\n",
      "ma.L3.D.Rate    -0.2326      0.011    -21.331      0.000      -0.254      -0.211\n",
      "ma.L4.D.Rate     1.0000      0.016     62.251      0.000       0.969       1.031\n",
      "                                    Roots                                    \n",
      "=============================================================================\n",
      "                  Real          Imaginary           Modulus         Frequency\n",
      "-----------------------------------------------------------------------------\n",
      "AR.1           -0.6909           -0.7230j            1.0000           -0.3714\n",
      "AR.2           -0.6909           +0.7230j            1.0000            0.3714\n",
      "AR.3            0.8486           -0.6123j            1.0464           -0.0995\n",
      "AR.4            0.8486           +0.6123j            1.0464            0.0995\n",
      "AR.5            7.0562           -0.0000j            7.0562           -0.0000\n",
      "MA.1           -0.6913           -0.7226j            1.0000           -0.3715\n",
      "MA.2           -0.6913           +0.7226j            1.0000            0.3715\n",
      "MA.3            0.8076           -0.5898j            1.0000           -0.1004\n",
      "MA.4            0.8076           +0.5898j            1.0000            0.1004\n",
      "-----------------------------------------------------------------------------\n"
     ]
    },
    {
     "name": "stderr",
     "output_type": "stream",
     "text": [
      "C:\\Users\\sm.woo\\Anaconda3\\lib\\site-packages\\statsmodels\\tsa\\arima_model.py:1441: RuntimeWarning: invalid value encountered in sqrt\n",
      "  return np.sqrt(np.diag(-inv(hess)))\n",
      "C:\\Users\\sm.woo\\Anaconda3\\lib\\site-packages\\scipy\\stats\\_distn_infrastructure.py:901: RuntimeWarning: invalid value encountered in greater\n",
      "  return (a < x) & (x < b)\n",
      "C:\\Users\\sm.woo\\Anaconda3\\lib\\site-packages\\scipy\\stats\\_distn_infrastructure.py:901: RuntimeWarning: invalid value encountered in less\n",
      "  return (a < x) & (x < b)\n",
      "C:\\Users\\sm.woo\\Anaconda3\\lib\\site-packages\\scipy\\stats\\_distn_infrastructure.py:1892: RuntimeWarning: invalid value encountered in less_equal\n",
      "  cond2 = cond0 & (x <= _a)\n"
     ]
    }
   ],
   "source": [
    "model_13 = ARIMA(df_train, order=(5,1,4))\n",
    "model_13_fit = model_13.fit(trend='c',full_output=True, disp=1)\n",
    "print(model_13_fit.summary())"
   ]
  },
  {
   "cell_type": "code",
   "execution_count": 16,
   "metadata": {},
   "outputs": [
    {
     "name": "stderr",
     "output_type": "stream",
     "text": [
      "C:\\Users\\sm.woo\\Anaconda3\\lib\\site-packages\\statsmodels\\tsa\\base\\tsa_model.py:219: ValueWarning: A date index has been provided, but it has no associated frequency information and so will be ignored when e.g. forecasting.\n",
      "  ' ignored when e.g. forecasting.', ValueWarning)\n",
      "C:\\Users\\sm.woo\\Anaconda3\\lib\\site-packages\\statsmodels\\tsa\\base\\tsa_model.py:219: ValueWarning: A date index has been provided, but it has no associated frequency information and so will be ignored when e.g. forecasting.\n",
      "  ' ignored when e.g. forecasting.', ValueWarning)\n"
     ]
    },
    {
     "name": "stdout",
     "output_type": "stream",
     "text": [
      "                             ARIMA Model Results                              \n",
      "==============================================================================\n",
      "Dep. Variable:                 D.Rate   No. Observations:                  245\n",
      "Model:                 ARIMA(5, 1, 4)   Log Likelihood                -680.976\n",
      "Method:                       css-mle   S.D. of innovations              3.849\n",
      "Date:                Fri, 07 Feb 2020   AIC                           1381.952\n",
      "Time:                        15:56:37   BIC                           1416.965\n",
      "Sample:                             1   HQIC                          1396.052\n",
      "                                                                              \n",
      "================================================================================\n",
      "                   coef    std err          z      P>|z|      [0.025      0.975]\n",
      "--------------------------------------------------------------------------------\n",
      "ar.L1.D.Rate     0.3135      0.006     53.584      0.000       0.302       0.325\n",
      "ar.L2.D.Rate     0.2045      0.063      3.239      0.001       0.081       0.328\n",
      "ar.L3.D.Rate     0.2558      0.012     21.221      0.000       0.232       0.279\n",
      "ar.L4.D.Rate    -0.9545        nan        nan        nan         nan         nan\n",
      "ar.L5.D.Rate     0.1326      0.000    367.285      0.000       0.132       0.133\n",
      "ma.L1.D.Rate    -0.2328      0.020    -11.388      0.000      -0.273      -0.193\n",
      "ma.L2.D.Rate    -0.2329      0.041     -5.697      0.000      -0.313      -0.153\n",
      "ma.L3.D.Rate    -0.2330      0.017    -13.356      0.000      -0.267      -0.199\n",
      "ma.L4.D.Rate     0.9999      0.016     61.428      0.000       0.968       1.032\n",
      "                                    Roots                                    \n",
      "=============================================================================\n",
      "                  Real          Imaginary           Modulus         Frequency\n",
      "-----------------------------------------------------------------------------\n",
      "AR.1           -0.6908           -0.7230j            1.0000           -0.3714\n",
      "AR.2           -0.6908           +0.7230j            1.0000            0.3714\n",
      "AR.3            0.8492           -0.6121j            1.0468           -0.0994\n",
      "AR.4            0.8492           +0.6121j            1.0468            0.0994\n",
      "AR.5            6.8844           -0.0000j            6.8844           -0.0000\n",
      "MA.1           -0.6912           -0.7227j            1.0000           -0.3715\n",
      "MA.2           -0.6912           +0.7227j            1.0000            0.3715\n",
      "MA.3            0.8077           -0.5897j            1.0001           -0.1004\n",
      "MA.4            0.8077           +0.5897j            1.0001            0.1004\n",
      "-----------------------------------------------------------------------------\n"
     ]
    }
   ],
   "source": [
    "model_14 = ARIMA(df_train, order=(5,1,4))\n",
    "model_14_fit = model_14.fit(trend='nc',full_output=True, disp=1)\n",
    "print(model_14_fit.summary())"
   ]
  },
  {
   "cell_type": "code",
   "execution_count": 17,
   "metadata": {},
   "outputs": [
    {
     "name": "stderr",
     "output_type": "stream",
     "text": [
      "C:\\Users\\sm.woo\\Anaconda3\\lib\\site-packages\\statsmodels\\tsa\\base\\tsa_model.py:219: ValueWarning: A date index has been provided, but it has no associated frequency information and so will be ignored when e.g. forecasting.\n",
      "  ' ignored when e.g. forecasting.', ValueWarning)\n",
      "C:\\Users\\sm.woo\\Anaconda3\\lib\\site-packages\\statsmodels\\tsa\\base\\tsa_model.py:219: ValueWarning: A date index has been provided, but it has no associated frequency information and so will be ignored when e.g. forecasting.\n",
      "  ' ignored when e.g. forecasting.', ValueWarning)\n",
      "C:\\Users\\sm.woo\\Anaconda3\\lib\\site-packages\\statsmodels\\base\\model.py:492: HessianInversionWarning: Inverting hessian failed, no bse or cov_params available\n",
      "  'available', HessianInversionWarning)\n"
     ]
    },
    {
     "name": "stdout",
     "output_type": "stream",
     "text": [
      "                             ARIMA Model Results                              \n",
      "==============================================================================\n",
      "Dep. Variable:                 D.Rate   No. Observations:                  245\n",
      "Model:                 ARIMA(5, 1, 3)   Log Likelihood                -684.453\n",
      "Method:                       css-mle   S.D. of innovations              3.938\n",
      "Date:                Fri, 07 Feb 2020   AIC                           1386.905\n",
      "Time:                        15:56:41   BIC                           1418.417\n",
      "Sample:                             1   HQIC                          1399.595\n",
      "                                                                              \n",
      "================================================================================\n",
      "                   coef    std err          z      P>|z|      [0.025      0.975]\n",
      "--------------------------------------------------------------------------------\n",
      "ar.L1.D.Rate    -0.8705      0.454     -1.917      0.056      -1.761       0.020\n",
      "ar.L2.D.Rate     0.0286      0.660      0.043      0.966      -1.266       1.323\n",
      "ar.L3.D.Rate     0.6262      0.364      1.722      0.086      -0.086       1.339\n",
      "ar.L4.D.Rate     0.0084      0.113      0.074      0.941      -0.213       0.230\n",
      "ar.L5.D.Rate     0.0373      0.069      0.544      0.587      -0.097       0.172\n",
      "ma.L1.D.Rate     0.9853      0.451      2.187      0.030       0.102       1.869\n",
      "ma.L2.D.Rate     0.0698      0.708      0.099      0.922      -1.317       1.457\n",
      "ma.L3.D.Rate    -0.5903      0.450     -1.313      0.190      -1.471       0.291\n",
      "                                    Roots                                    \n",
      "=============================================================================\n",
      "                  Real          Imaginary           Modulus         Frequency\n",
      "-----------------------------------------------------------------------------\n",
      "AR.1           -0.7927           -0.6265j            1.0104           -0.3936\n",
      "AR.2           -0.7927           +0.6265j            1.0104            0.3936\n",
      "AR.3            1.4542           -0.0000j            1.4542           -0.0000\n",
      "AR.4           -0.0469           -4.2511j            4.2514           -0.2518\n",
      "AR.5           -0.0469           +4.2511j            4.2514            0.2518\n",
      "MA.1           -0.7878           -0.6159j            1.0000           -0.3944\n",
      "MA.2           -0.7878           +0.6159j            1.0000            0.3944\n",
      "MA.3            1.6939           -0.0000j            1.6939           -0.0000\n",
      "-----------------------------------------------------------------------------\n"
     ]
    }
   ],
   "source": [
    "model_15 = ARIMA(df_train, order=(5,1,3))\n",
    "model_15_fit = model_15.fit(trend='nc',full_output=True, disp=1)\n",
    "print(model_15_fit.summary())"
   ]
  },
  {
   "cell_type": "code",
   "execution_count": 18,
   "metadata": {},
   "outputs": [
    {
     "name": "stderr",
     "output_type": "stream",
     "text": [
      "C:\\Users\\sm.woo\\Anaconda3\\lib\\site-packages\\statsmodels\\tsa\\base\\tsa_model.py:219: ValueWarning: A date index has been provided, but it has no associated frequency information and so will be ignored when e.g. forecasting.\n",
      "  ' ignored when e.g. forecasting.', ValueWarning)\n",
      "C:\\Users\\sm.woo\\Anaconda3\\lib\\site-packages\\statsmodels\\tsa\\base\\tsa_model.py:219: ValueWarning: A date index has been provided, but it has no associated frequency information and so will be ignored when e.g. forecasting.\n",
      "  ' ignored when e.g. forecasting.', ValueWarning)\n",
      "C:\\Users\\sm.woo\\Anaconda3\\lib\\site-packages\\statsmodels\\base\\model.py:492: HessianInversionWarning: Inverting hessian failed, no bse or cov_params available\n",
      "  'available', HessianInversionWarning)\n"
     ]
    },
    {
     "name": "stdout",
     "output_type": "stream",
     "text": [
      "                             ARIMA Model Results                              \n",
      "==============================================================================\n",
      "Dep. Variable:                 D.Rate   No. Observations:                  245\n",
      "Model:                 ARIMA(5, 1, 3)   Log Likelihood                -683.362\n",
      "Method:                       css-mle   S.D. of innovations              3.910\n",
      "Date:                Fri, 07 Feb 2020   AIC                           1386.724\n",
      "Time:                        15:57:05   BIC                           1421.736\n",
      "Sample:                             1   HQIC                          1400.823\n",
      "                                                                              \n",
      "================================================================================\n",
      "                   coef    std err          z      P>|z|      [0.025      0.975]\n",
      "--------------------------------------------------------------------------------\n",
      "const            0.2763      0.129      2.148      0.033       0.024       0.528\n",
      "ar.L1.D.Rate    -0.2794        nan        nan        nan         nan         nan\n",
      "ar.L2.D.Rate     0.4039        nan        nan        nan         nan         nan\n",
      "ar.L3.D.Rate     0.9378        nan        nan        nan         nan         nan\n",
      "ar.L4.D.Rate    -0.1189   6.23e-05  -1907.540      0.000      -0.119      -0.119\n",
      "ar.L5.D.Rate     0.0002   9.18e-05      1.637      0.103   -2.96e-05       0.000\n",
      "ma.L1.D.Rate     0.3839      0.010     38.107      0.000       0.364       0.404\n",
      "ma.L2.D.Rate    -0.3794      0.014    -26.180      0.000      -0.408      -0.351\n",
      "ma.L3.D.Rate    -0.9981      0.010   -100.192      0.000      -1.018      -0.979\n",
      "                                    Roots                                    \n",
      "=============================================================================\n",
      "                  Real          Imaginary           Modulus         Frequency\n",
      "-----------------------------------------------------------------------------\n",
      "AR.1           -0.6909           -0.7230j            1.0000           -0.3714\n",
      "AR.2           -0.6909           +0.7230j            1.0000            0.3714\n",
      "AR.3            1.0193           -0.0000j            1.0193           -0.0000\n",
      "AR.4            8.3342           -0.0000j            8.3342           -0.0000\n",
      "AR.5          783.4321           -0.0000j          783.4321           -0.0000\n",
      "MA.1            1.0019           -0.0000j            1.0019           -0.0000\n",
      "MA.2           -0.6910           -0.7228j            1.0000           -0.3714\n",
      "MA.3           -0.6910           +0.7228j            1.0000            0.3714\n",
      "-----------------------------------------------------------------------------\n"
     ]
    }
   ],
   "source": [
    "model_16 = ARIMA(df_train, order=(5,1,3))\n",
    "model_16_fit = model_16.fit(trend='c',full_output=True, disp=1)\n",
    "print(model_16_fit.summary())"
   ]
  },
  {
   "cell_type": "code",
   "execution_count": 19,
   "metadata": {},
   "outputs": [
    {
     "name": "stderr",
     "output_type": "stream",
     "text": [
      "C:\\Users\\sm.woo\\Anaconda3\\lib\\site-packages\\statsmodels\\tsa\\base\\tsa_model.py:219: ValueWarning: A date index has been provided, but it has no associated frequency information and so will be ignored when e.g. forecasting.\n",
      "  ' ignored when e.g. forecasting.', ValueWarning)\n",
      "C:\\Users\\sm.woo\\Anaconda3\\lib\\site-packages\\statsmodels\\tsa\\base\\tsa_model.py:219: ValueWarning: A date index has been provided, but it has no associated frequency information and so will be ignored when e.g. forecasting.\n",
      "  ' ignored when e.g. forecasting.', ValueWarning)\n"
     ]
    },
    {
     "name": "stdout",
     "output_type": "stream",
     "text": [
      "                             ARIMA Model Results                              \n",
      "==============================================================================\n",
      "Dep. Variable:                 D.Rate   No. Observations:                  245\n",
      "Model:                 ARIMA(5, 1, 2)   Log Likelihood                -684.427\n",
      "Method:                       css-mle   S.D. of innovations              3.953\n",
      "Date:                Fri, 07 Feb 2020   AIC                           1386.855\n",
      "Time:                        15:57:12   BIC                           1418.366\n",
      "Sample:                             1   HQIC                          1399.545\n",
      "                                                                              \n",
      "================================================================================\n",
      "                   coef    std err          z      P>|z|      [0.025      0.975]\n",
      "--------------------------------------------------------------------------------\n",
      "const            0.2403      0.310      0.776      0.439      -0.367       0.848\n",
      "ar.L1.D.Rate    -0.3287      0.596     -0.551      0.582      -1.497       0.840\n",
      "ar.L2.D.Rate     0.4968      0.488      1.018      0.310      -0.459       1.453\n",
      "ar.L3.D.Rate    -0.0232      0.089     -0.261      0.794      -0.198       0.151\n",
      "ar.L4.D.Rate     0.0712      0.071      0.999      0.319      -0.068       0.211\n",
      "ar.L5.D.Rate    -0.0008      0.080     -0.010      0.992      -0.158       0.157\n",
      "ma.L1.D.Rate     0.4324      0.593      0.729      0.466      -0.730       1.594\n",
      "ma.L2.D.Rate    -0.4675      0.545     -0.858      0.392      -1.536       0.601\n",
      "                                    Roots                                    \n",
      "=============================================================================\n",
      "                  Real          Imaginary           Modulus         Frequency\n",
      "-----------------------------------------------------------------------------\n",
      "AR.1           -1.0459           -0.0000j            1.0459           -0.5000\n",
      "AR.2            1.5493           -0.0000j            1.5493           -0.0000\n",
      "AR.3           -0.1275           -2.9453j            2.9480           -0.2569\n",
      "AR.4           -0.1275           +2.9453j            2.9480            0.2569\n",
      "AR.5           88.1234           -0.0000j           88.1234           -0.0000\n",
      "MA.1           -1.0715           +0.0000j            1.0715            0.5000\n",
      "MA.2            1.9965           +0.0000j            1.9965            0.0000\n",
      "-----------------------------------------------------------------------------\n"
     ]
    }
   ],
   "source": [
    "model_17 = ARIMA(df_train, order=(5,1,2))\n",
    "model_17_fit = model_17.fit(trend='c',full_output=True, disp=1)\n",
    "print(model_17_fit.summary())"
   ]
  },
  {
   "cell_type": "code",
   "execution_count": 20,
   "metadata": {},
   "outputs": [
    {
     "name": "stderr",
     "output_type": "stream",
     "text": [
      "C:\\Users\\sm.woo\\Anaconda3\\lib\\site-packages\\statsmodels\\tsa\\base\\tsa_model.py:219: ValueWarning: A date index has been provided, but it has no associated frequency information and so will be ignored when e.g. forecasting.\n",
      "  ' ignored when e.g. forecasting.', ValueWarning)\n",
      "C:\\Users\\sm.woo\\Anaconda3\\lib\\site-packages\\statsmodels\\tsa\\base\\tsa_model.py:219: ValueWarning: A date index has been provided, but it has no associated frequency information and so will be ignored when e.g. forecasting.\n",
      "  ' ignored when e.g. forecasting.', ValueWarning)\n"
     ]
    },
    {
     "name": "stdout",
     "output_type": "stream",
     "text": [
      "                             ARIMA Model Results                              \n",
      "==============================================================================\n",
      "Dep. Variable:                 D.Rate   No. Observations:                  245\n",
      "Model:                 ARIMA(5, 1, 2)   Log Likelihood                -684.722\n",
      "Method:                       css-mle   S.D. of innovations              3.958\n",
      "Date:                Fri, 07 Feb 2020   AIC                           1385.445\n",
      "Time:                        15:57:18   BIC                           1413.455\n",
      "Sample:                             1   HQIC                          1396.724\n",
      "                                                                              \n",
      "================================================================================\n",
      "                   coef    std err          z      P>|z|      [0.025      0.975]\n",
      "--------------------------------------------------------------------------------\n",
      "ar.L1.D.Rate    -0.3167      0.564     -0.562      0.575      -1.422       0.789\n",
      "ar.L2.D.Rate     0.5086      0.459      1.107      0.269      -0.392       1.409\n",
      "ar.L3.D.Rate    -0.0217      0.089     -0.244      0.808      -0.196       0.153\n",
      "ar.L4.D.Rate     0.0738      0.072      1.025      0.307      -0.067       0.215\n",
      "ar.L5.D.Rate     0.0006      0.081      0.007      0.994      -0.158       0.159\n",
      "ma.L1.D.Rate     0.4230      0.560      0.755      0.451      -0.675       1.521\n",
      "ma.L2.D.Rate    -0.4766      0.514     -0.927      0.355      -1.485       0.531\n",
      "                                    Roots                                    \n",
      "=============================================================================\n",
      "                  Real          Imaginary           Modulus         Frequency\n",
      "-----------------------------------------------------------------------------\n",
      "AR.1           -1.0458           -0.0000j            1.0458           -0.5000\n",
      "AR.2            1.5122           -0.0000j            1.5122           -0.0000\n",
      "AR.3           -0.0585           -2.9214j            2.9220           -0.2532\n",
      "AR.4           -0.0585           +2.9214j            2.9220            0.2532\n",
      "AR.5         -123.4087           -0.0000j          123.4087           -0.5000\n",
      "MA.1           -1.0712           +0.0000j            1.0712            0.5000\n",
      "MA.2            1.9586           +0.0000j            1.9586            0.0000\n",
      "-----------------------------------------------------------------------------\n"
     ]
    }
   ],
   "source": [
    "model_18 = ARIMA(df_train, order=(5,1,2))\n",
    "model_18_fit = model_18.fit(trend='nc',full_output=True, disp=1)\n",
    "print(model_18_fit.summary())"
   ]
  },
  {
   "cell_type": "code",
   "execution_count": 21,
   "metadata": {},
   "outputs": [
    {
     "name": "stderr",
     "output_type": "stream",
     "text": [
      "C:\\Users\\sm.woo\\Anaconda3\\lib\\site-packages\\statsmodels\\tsa\\base\\tsa_model.py:219: ValueWarning: A date index has been provided, but it has no associated frequency information and so will be ignored when e.g. forecasting.\n",
      "  ' ignored when e.g. forecasting.', ValueWarning)\n",
      "C:\\Users\\sm.woo\\Anaconda3\\lib\\site-packages\\statsmodels\\tsa\\base\\tsa_model.py:219: ValueWarning: A date index has been provided, but it has no associated frequency information and so will be ignored when e.g. forecasting.\n",
      "  ' ignored when e.g. forecasting.', ValueWarning)\n"
     ]
    },
    {
     "name": "stdout",
     "output_type": "stream",
     "text": [
      "                             ARIMA Model Results                              \n",
      "==============================================================================\n",
      "Dep. Variable:                 D.Rate   No. Observations:                  245\n",
      "Model:                 ARIMA(5, 1, 1)   Log Likelihood                -685.103\n",
      "Method:                       css-mle   S.D. of innovations              3.964\n",
      "Date:                Fri, 07 Feb 2020   AIC                           1384.206\n",
      "Time:                        15:57:23   BIC                           1408.715\n",
      "Sample:                             1   HQIC                          1394.076\n",
      "                                                                              \n",
      "================================================================================\n",
      "                   coef    std err          z      P>|z|      [0.025      0.975]\n",
      "--------------------------------------------------------------------------------\n",
      "ar.L1.D.Rate     0.4226      0.549      0.769      0.443      -0.654       1.499\n",
      "ar.L2.D.Rate    -0.0432      0.090     -0.482      0.630      -0.219       0.132\n",
      "ar.L3.D.Rate     0.0359      0.070      0.514      0.607      -0.101       0.173\n",
      "ar.L4.D.Rate     0.0229      0.072      0.320      0.749      -0.117       0.163\n",
      "ar.L5.D.Rate     0.0293      0.070      0.417      0.677      -0.108       0.167\n",
      "ma.L1.D.Rate    -0.3209      0.547     -0.587      0.558      -1.392       0.750\n",
      "                                    Roots                                    \n",
      "=============================================================================\n",
      "                  Real          Imaginary           Modulus         Frequency\n",
      "-----------------------------------------------------------------------------\n",
      "AR.1            1.5024           -0.0000j            1.5024           -0.0000\n",
      "AR.2            0.6975           -1.8152j            1.9446           -0.1916\n",
      "AR.3            0.6975           +1.8152j            1.9446            0.1916\n",
      "AR.4           -1.8408           -1.6210j            2.4528           -0.3851\n",
      "AR.5           -1.8408           +1.6210j            2.4528            0.3851\n",
      "MA.1            3.1159           +0.0000j            3.1159            0.0000\n",
      "-----------------------------------------------------------------------------\n"
     ]
    }
   ],
   "source": [
    "model_19 = ARIMA(df_train, order=(5,1,1))\n",
    "model_19_fit = model_19.fit(trend='nc',full_output=True, disp=1)\n",
    "print(model_19_fit.summary())"
   ]
  },
  {
   "cell_type": "code",
   "execution_count": 22,
   "metadata": {},
   "outputs": [
    {
     "name": "stderr",
     "output_type": "stream",
     "text": [
      "C:\\Users\\sm.woo\\Anaconda3\\lib\\site-packages\\statsmodels\\tsa\\base\\tsa_model.py:219: ValueWarning: A date index has been provided, but it has no associated frequency information and so will be ignored when e.g. forecasting.\n",
      "  ' ignored when e.g. forecasting.', ValueWarning)\n",
      "C:\\Users\\sm.woo\\Anaconda3\\lib\\site-packages\\statsmodels\\tsa\\base\\tsa_model.py:219: ValueWarning: A date index has been provided, but it has no associated frequency information and so will be ignored when e.g. forecasting.\n",
      "  ' ignored when e.g. forecasting.', ValueWarning)\n"
     ]
    },
    {
     "name": "stdout",
     "output_type": "stream",
     "text": [
      "                             ARIMA Model Results                              \n",
      "==============================================================================\n",
      "Dep. Variable:                 D.Rate   No. Observations:                  245\n",
      "Model:                 ARIMA(5, 1, 1)   Log Likelihood                -684.823\n",
      "Method:                       css-mle   S.D. of innovations              3.960\n",
      "Date:                Fri, 07 Feb 2020   AIC                           1385.646\n",
      "Time:                        15:57:23   BIC                           1413.656\n",
      "Sample:                             1   HQIC                          1396.925\n",
      "                                                                              \n",
      "================================================================================\n",
      "                   coef    std err          z      P>|z|      [0.025      0.975]\n",
      "--------------------------------------------------------------------------------\n",
      "const            0.2389      0.316      0.756      0.450      -0.380       0.858\n",
      "ar.L1.D.Rate     0.4134      0.569      0.726      0.468      -0.702       1.529\n",
      "ar.L2.D.Rate    -0.0441      0.090     -0.492      0.623      -0.220       0.132\n",
      "ar.L3.D.Rate     0.0341      0.070      0.490      0.625      -0.102       0.171\n",
      "ar.L4.D.Rate     0.0216      0.071      0.304      0.762      -0.118       0.161\n",
      "ar.L5.D.Rate     0.0276      0.070      0.396      0.693      -0.109       0.164\n",
      "ma.L1.D.Rate    -0.3142      0.567     -0.555      0.580      -1.425       0.796\n",
      "                                    Roots                                    \n",
      "=============================================================================\n",
      "                  Real          Imaginary           Modulus         Frequency\n",
      "-----------------------------------------------------------------------------\n",
      "AR.1            1.5294           -0.0000j            1.5294           -0.0000\n",
      "AR.2            0.7029           -1.8338j            1.9639           -0.1917\n",
      "AR.3            0.7029           +1.8338j            1.9639            0.1917\n",
      "AR.4           -1.8602           -1.6400j            2.4799           -0.3850\n",
      "AR.5           -1.8602           +1.6400j            2.4799            0.3850\n",
      "MA.1            3.1824           +0.0000j            3.1824            0.0000\n",
      "-----------------------------------------------------------------------------\n"
     ]
    }
   ],
   "source": [
    "model_20 = ARIMA(df_train, order=(5,1,1))\n",
    "model_20_fit = model_20.fit(trend='c',full_output=True, disp=1)\n",
    "print(model_20_fit.summary())"
   ]
  },
  {
   "cell_type": "code",
   "execution_count": 23,
   "metadata": {},
   "outputs": [
    {
     "name": "stderr",
     "output_type": "stream",
     "text": [
      "C:\\Users\\sm.woo\\Anaconda3\\lib\\site-packages\\statsmodels\\tsa\\base\\tsa_model.py:219: ValueWarning: A date index has been provided, but it has no associated frequency information and so will be ignored when e.g. forecasting.\n",
      "  ' ignored when e.g. forecasting.', ValueWarning)\n",
      "C:\\Users\\sm.woo\\Anaconda3\\lib\\site-packages\\statsmodels\\tsa\\base\\tsa_model.py:219: ValueWarning: A date index has been provided, but it has no associated frequency information and so will be ignored when e.g. forecasting.\n",
      "  ' ignored when e.g. forecasting.', ValueWarning)\n"
     ]
    },
    {
     "name": "stdout",
     "output_type": "stream",
     "text": [
      "                             ARIMA Model Results                              \n",
      "==============================================================================\n",
      "Dep. Variable:                 D.Rate   No. Observations:                  245\n",
      "Model:                 ARIMA(5, 1, 5)   Log Likelihood                -680.669\n",
      "Method:                       css-mle   S.D. of innovations              3.843\n",
      "Date:                Fri, 07 Feb 2020   AIC                           1383.338\n",
      "Time:                        15:57:31   BIC                           1421.852\n",
      "Sample:                             1   HQIC                          1398.847\n",
      "                                                                              \n",
      "================================================================================\n",
      "                   coef    std err          z      P>|z|      [0.025      0.975]\n",
      "--------------------------------------------------------------------------------\n",
      "ar.L1.D.Rate     0.0272      0.718      0.038      0.970      -1.381       1.435\n",
      "ar.L2.D.Rate     0.6540      0.051     12.755      0.000       0.553       0.754\n",
      "ar.L3.D.Rate    -0.0557      0.474     -0.117      0.907      -0.984       0.873\n",
      "ar.L4.D.Rate    -0.8752      0.037    -23.650      0.000      -0.948      -0.803\n",
      "ar.L5.D.Rate     0.0831      0.634      0.131      0.896      -1.160       1.326\n",
      "ma.L1.D.Rate     0.0599      0.720      0.083      0.934      -1.351       1.470\n",
      "ma.L2.D.Rate    -0.6797      0.034    -20.249      0.000      -0.745      -0.614\n",
      "ma.L3.D.Rate     0.0318      0.491      0.065      0.948      -0.931       0.995\n",
      "ma.L4.D.Rate     1.0007      0.040     25.236      0.000       0.923       1.078\n",
      "ma.L5.D.Rate     0.0168      0.720      0.023      0.981      -1.394       1.428\n",
      "                                    Roots                                    \n",
      "=============================================================================\n",
      "                  Real          Imaginary           Modulus         Frequency\n",
      "-----------------------------------------------------------------------------\n",
      "AR.1           -0.8468           -0.5723j            1.0221           -0.4054\n",
      "AR.2           -0.8468           +0.5723j            1.0221            0.4054\n",
      "AR.3            0.8501           -0.6097j            1.0462           -0.0990\n",
      "AR.4            0.8501           +0.6097j            1.0462            0.0990\n",
      "AR.5           10.5304           -0.0000j           10.5304           -0.0000\n",
      "MA.1            0.8079           -0.5893j            1.0000           -0.1003\n",
      "MA.2            0.8079           +0.5893j            1.0000            0.1003\n",
      "MA.3           -0.8295           -0.5586j            1.0000           -0.4057\n",
      "MA.4           -0.8295           +0.5586j            1.0000            0.4057\n",
      "MA.5          -59.4885           -0.0000j           59.4885           -0.5000\n",
      "-----------------------------------------------------------------------------\n"
     ]
    }
   ],
   "source": [
    "model_21 = ARIMA(df_train, order=(5,1,5))\n",
    "model_21_fit = model_21.fit(trend='nc',full_output=True, disp=1)\n",
    "print(model_21_fit.summary())"
   ]
  },
  {
   "cell_type": "code",
   "execution_count": 24,
   "metadata": {},
   "outputs": [
    {
     "name": "stderr",
     "output_type": "stream",
     "text": [
      "C:\\Users\\sm.woo\\Anaconda3\\lib\\site-packages\\statsmodels\\tsa\\base\\tsa_model.py:219: ValueWarning: A date index has been provided, but it has no associated frequency information and so will be ignored when e.g. forecasting.\n",
      "  ' ignored when e.g. forecasting.', ValueWarning)\n",
      "C:\\Users\\sm.woo\\Anaconda3\\lib\\site-packages\\statsmodels\\tsa\\base\\tsa_model.py:219: ValueWarning: A date index has been provided, but it has no associated frequency information and so will be ignored when e.g. forecasting.\n",
      "  ' ignored when e.g. forecasting.', ValueWarning)\n",
      "C:\\Users\\sm.woo\\Anaconda3\\lib\\site-packages\\statsmodels\\base\\model.py:492: HessianInversionWarning: Inverting hessian failed, no bse or cov_params available\n",
      "  'available', HessianInversionWarning)\n"
     ]
    },
    {
     "name": "stdout",
     "output_type": "stream",
     "text": [
      "                             ARIMA Model Results                              \n",
      "==============================================================================\n",
      "Dep. Variable:                 D.Rate   No. Observations:                  245\n",
      "Model:                 ARIMA(5, 1, 5)   Log Likelihood                -678.455\n",
      "Method:                       css-mle   S.D. of innovations              3.796\n",
      "Date:                Fri, 07 Feb 2020   AIC                           1380.909\n",
      "Time:                        15:57:44   BIC                           1422.924\n",
      "Sample:                             1   HQIC                          1397.829\n",
      "                                                                              \n",
      "================================================================================\n",
      "                   coef    std err          z      P>|z|      [0.025      0.975]\n",
      "--------------------------------------------------------------------------------\n",
      "const            0.2523      0.299      0.842      0.400      -0.335       0.839\n",
      "ar.L1.D.Rate    -0.1239      0.720     -0.172      0.863      -1.535       1.287\n",
      "ar.L2.D.Rate     1.1867      0.221      5.379      0.000       0.754       1.619\n",
      "ar.L3.D.Rate    -0.5546      0.811     -0.684      0.495      -2.145       1.036\n",
      "ar.L4.D.Rate    -0.7644      0.245     -3.120      0.002      -1.245      -0.284\n",
      "ar.L5.D.Rate     0.1784      0.595      0.300      0.765      -0.988       1.345\n",
      "ma.L1.D.Rate     0.2322      0.725      0.320      0.749      -1.188       1.653\n",
      "ma.L2.D.Rate    -1.2380      0.259     -4.785      0.000      -1.745      -0.731\n",
      "ma.L3.D.Rate     0.5124      0.867      0.591      0.555      -1.187       2.212\n",
      "ma.L4.D.Rate     0.9539      0.263      3.628      0.000       0.439       1.469\n",
      "ma.L5.D.Rate    -0.1278      0.726     -0.176      0.860      -1.550       1.295\n",
      "                                    Roots                                    \n",
      "=============================================================================\n",
      "                  Real          Imaginary           Modulus         Frequency\n",
      "-----------------------------------------------------------------------------\n",
      "AR.1            0.8495           -0.6100j            1.0459           -0.0991\n",
      "AR.2            0.8495           +0.6100j            1.0459            0.0991\n",
      "AR.3           -1.0393           -0.1367j            1.0482           -0.4792\n",
      "AR.4           -1.0393           +0.1367j            1.0482            0.4792\n",
      "AR.5            4.6635           -0.0000j            4.6635           -0.0000\n",
      "MA.1            0.8078           -0.5894j            1.0000           -0.1003\n",
      "MA.2            0.8078           +0.5894j            1.0000            0.1003\n",
      "MA.3           -0.9879           -0.1554j            1.0000           -0.4752\n",
      "MA.4           -0.9879           +0.1554j            1.0000            0.4752\n",
      "MA.5            7.8264           -0.0000j            7.8264           -0.0000\n",
      "-----------------------------------------------------------------------------\n"
     ]
    }
   ],
   "source": [
    "model_22 = ARIMA(df_train, order=(5,1,5))\n",
    "model_22_fit = model_22.fit(trend='c',full_output=True, disp=1)\n",
    "print(model_22_fit.summary())"
   ]
  },
  {
   "cell_type": "code",
   "execution_count": 25,
   "metadata": {},
   "outputs": [
    {
     "name": "stderr",
     "output_type": "stream",
     "text": [
      "C:\\Users\\sm.woo\\Anaconda3\\lib\\site-packages\\statsmodels\\tsa\\base\\tsa_model.py:219: ValueWarning: A date index has been provided, but it has no associated frequency information and so will be ignored when e.g. forecasting.\n",
      "  ' ignored when e.g. forecasting.', ValueWarning)\n"
     ]
    },
    {
     "name": "stdout",
     "output_type": "stream",
     "text": [
      "                              ARMA Model Results                              \n",
      "==============================================================================\n",
      "Dep. Variable:                   Rate   No. Observations:                  246\n",
      "Model:                     ARMA(5, 0)   Log Likelihood                -696.945\n",
      "Method:                       css-mle   S.D. of innovations              3.960\n",
      "Date:                Fri, 07 Feb 2020   AIC                           1405.891\n",
      "Time:                        15:57:45   BIC                           1426.923\n",
      "Sample:                             0   HQIC                          1414.360\n",
      "                                                                              \n",
      "==============================================================================\n",
      "                 coef    std err          z      P>|z|      [0.025      0.975]\n",
      "------------------------------------------------------------------------------\n",
      "ar.L1.Rate     1.1074   1.08e-05   1.02e+05      0.000       1.107       1.107\n",
      "ar.L2.Rate    -0.1142   2.75e-06  -4.15e+04      0.000      -0.114      -0.114\n",
      "ar.L3.Rate     0.0405      0.063      0.639      0.523      -0.084       0.165\n",
      "ar.L4.Rate     0.0002        nan        nan        nan         nan         nan\n",
      "ar.L5.Rate    -0.0340        nan        nan        nan         nan         nan\n",
      "                                    Roots                                    \n",
      "=============================================================================\n",
      "                  Real          Imaginary           Modulus         Frequency\n",
      "-----------------------------------------------------------------------------\n",
      "AR.1            1.0000           -0.0000j            1.0000           -0.0000\n",
      "AR.2            1.9992           -0.0000j            1.9992           -0.0000\n",
      "AR.3           -0.0947           -2.2900j            2.2919           -0.2566\n",
      "AR.4           -0.0947           +2.2900j            2.2919            0.2566\n",
      "AR.5           -2.8031           -0.0000j            2.8031           -0.5000\n",
      "-----------------------------------------------------------------------------\n"
     ]
    },
    {
     "name": "stderr",
     "output_type": "stream",
     "text": [
      "C:\\Users\\sm.woo\\Anaconda3\\lib\\site-packages\\statsmodels\\base\\model.py:512: ConvergenceWarning: Maximum Likelihood optimization failed to converge. Check mle_retvals\n",
      "  \"Check mle_retvals\", ConvergenceWarning)\n"
     ]
    }
   ],
   "source": [
    "#non값 사용 불가능\n",
    "model_24 = ARIMA(df_train, order=(5,0,0))\n",
    "model_24_fit = model_24.fit(trend='nc',full_output=True, disp=1)\n",
    "print(model_24_fit.summary())"
   ]
  },
  {
   "cell_type": "code",
   "execution_count": 26,
   "metadata": {},
   "outputs": [
    {
     "name": "stderr",
     "output_type": "stream",
     "text": [
      "C:\\Users\\sm.woo\\Anaconda3\\lib\\site-packages\\statsmodels\\tsa\\base\\tsa_model.py:219: ValueWarning: A date index has been provided, but it has no associated frequency information and so will be ignored when e.g. forecasting.\n",
      "  ' ignored when e.g. forecasting.', ValueWarning)\n"
     ]
    },
    {
     "name": "stdout",
     "output_type": "stream",
     "text": [
      "                              ARMA Model Results                              \n",
      "==============================================================================\n",
      "Dep. Variable:                   Rate   No. Observations:                  246\n",
      "Model:                     ARMA(5, 0)   Log Likelihood                -689.420\n",
      "Method:                       css-mle   S.D. of innovations              3.956\n",
      "Date:                Fri, 07 Feb 2020   AIC                           1392.841\n",
      "Time:                        15:57:46   BIC                           1417.378\n",
      "Sample:                             0   HQIC                          1402.721\n",
      "                                                                              \n",
      "==============================================================================\n",
      "                 coef    std err          z      P>|z|      [0.025      0.975]\n",
      "------------------------------------------------------------------------------\n",
      "const       1157.1923     19.535     59.236      0.000    1118.904    1195.480\n",
      "ar.L1.Rate     1.0983      0.064     17.185      0.000       0.973       1.224\n",
      "ar.L2.Rate    -0.1108      0.095     -1.168      0.244      -0.297       0.075\n",
      "ar.L3.Rate     0.0413      0.095      0.433      0.665      -0.146       0.228\n",
      "ar.L4.Rate     0.0046      0.095      0.049      0.961      -0.182       0.191\n",
      "ar.L5.Rate    -0.0435      0.064     -0.678      0.499      -0.169       0.082\n",
      "                                    Roots                                    \n",
      "=============================================================================\n",
      "                  Real          Imaginary           Modulus         Frequency\n",
      "-----------------------------------------------------------------------------\n",
      "AR.1            1.0127           -0.0000j            1.0127           -0.0000\n",
      "AR.2            1.8684           -0.0000j            1.8684           -0.0000\n",
      "AR.3           -0.0907           -2.1623j            2.1642           -0.2567\n",
      "AR.4           -0.0907           +2.1623j            2.1642            0.2567\n",
      "AR.5           -2.5934           -0.0000j            2.5934           -0.5000\n",
      "-----------------------------------------------------------------------------\n"
     ]
    }
   ],
   "source": [
    "model_25 = ARIMA(df_train, order=(5,0,0))\n",
    "model_25_fit = model_25.fit(trend='c',full_output=True, disp=1)\n",
    "print(model_25_fit.summary())"
   ]
  },
  {
   "cell_type": "code",
   "execution_count": 27,
   "metadata": {},
   "outputs": [
    {
     "name": "stderr",
     "output_type": "stream",
     "text": [
      "C:\\Users\\sm.woo\\Anaconda3\\lib\\site-packages\\statsmodels\\tsa\\base\\tsa_model.py:219: ValueWarning: A date index has been provided, but it has no associated frequency information and so will be ignored when e.g. forecasting.\n",
      "  ' ignored when e.g. forecasting.', ValueWarning)\n",
      "C:\\Users\\sm.woo\\Anaconda3\\lib\\site-packages\\statsmodels\\tsa\\base\\tsa_model.py:219: ValueWarning: A date index has been provided, but it has no associated frequency information and so will be ignored when e.g. forecasting.\n",
      "  ' ignored when e.g. forecasting.', ValueWarning)\n"
     ]
    },
    {
     "name": "stdout",
     "output_type": "stream",
     "text": [
      "                             ARIMA Model Results                              \n",
      "==============================================================================\n",
      "Dep. Variable:                 D.Rate   No. Observations:                  245\n",
      "Model:                 ARIMA(0, 1, 5)   Log Likelihood                -685.255\n",
      "Method:                       css-mle   S.D. of innovations              3.967\n",
      "Date:                Fri, 07 Feb 2020   AIC                           1382.510\n",
      "Time:                        15:57:46   BIC                           1403.517\n",
      "Sample:                             1   HQIC                          1390.969\n",
      "                                                                              \n",
      "================================================================================\n",
      "                   coef    std err          z      P>|z|      [0.025      0.975]\n",
      "--------------------------------------------------------------------------------\n",
      "ma.L1.D.Rate     0.0972      0.065      1.489      0.138      -0.031       0.225\n",
      "ma.L2.D.Rate    -0.0058      0.066     -0.087      0.930      -0.135       0.123\n",
      "ma.L3.D.Rate     0.0323      0.059      0.547      0.585      -0.084       0.148\n",
      "ma.L4.D.Rate     0.0519      0.069      0.748      0.455      -0.084       0.188\n",
      "ma.L5.D.Rate     0.0319      0.071      0.451      0.652      -0.107       0.170\n",
      "                                    Roots                                    \n",
      "=============================================================================\n",
      "                  Real          Imaginary           Modulus         Frequency\n",
      "-----------------------------------------------------------------------------\n",
      "MA.1            1.3131           -1.2156j            1.7894           -0.1189\n",
      "MA.2            1.3131           +1.2156j            1.7894            0.1189\n",
      "MA.3           -2.1939           -0.0000j            2.1939           -0.5000\n",
      "MA.4           -1.0303           -1.8447j            2.1129           -0.3311\n",
      "MA.5           -1.0303           +1.8447j            2.1129            0.3311\n",
      "-----------------------------------------------------------------------------\n"
     ]
    }
   ],
   "source": [
    "model_26 = ARIMA(df_train, order=(0,1,5))\n",
    "model_26_fit = model_26.fit(trend='nc',full_output=True, disp=1)\n",
    "print(model_26_fit.summary())"
   ]
  },
  {
   "cell_type": "code",
   "execution_count": 28,
   "metadata": {},
   "outputs": [
    {
     "name": "stderr",
     "output_type": "stream",
     "text": [
      "C:\\Users\\sm.woo\\Anaconda3\\lib\\site-packages\\statsmodels\\tsa\\base\\tsa_model.py:219: ValueWarning: A date index has been provided, but it has no associated frequency information and so will be ignored when e.g. forecasting.\n",
      "  ' ignored when e.g. forecasting.', ValueWarning)\n",
      "C:\\Users\\sm.woo\\Anaconda3\\lib\\site-packages\\statsmodels\\tsa\\base\\tsa_model.py:219: ValueWarning: A date index has been provided, but it has no associated frequency information and so will be ignored when e.g. forecasting.\n",
      "  ' ignored when e.g. forecasting.', ValueWarning)\n"
     ]
    },
    {
     "name": "stdout",
     "output_type": "stream",
     "text": [
      "                             ARIMA Model Results                              \n",
      "==============================================================================\n",
      "Dep. Variable:                 D.Rate   No. Observations:                  245\n",
      "Model:                 ARIMA(0, 1, 5)   Log Likelihood                -684.950\n",
      "Method:                       css-mle   S.D. of innovations              3.962\n",
      "Date:                Fri, 07 Feb 2020   AIC                           1383.900\n",
      "Time:                        15:57:47   BIC                           1408.408\n",
      "Sample:                             1   HQIC                          1393.769\n",
      "                                                                              \n",
      "================================================================================\n",
      "                   coef    std err          z      P>|z|      [0.025      0.975]\n",
      "--------------------------------------------------------------------------------\n",
      "const            0.2373      0.302      0.786      0.432      -0.354       0.829\n",
      "ma.L1.D.Rate     0.0952      0.065      1.459      0.146      -0.033       0.223\n",
      "ma.L2.D.Rate    -0.0083      0.066     -0.125      0.900      -0.137       0.121\n",
      "ma.L3.D.Rate     0.0296      0.059      0.499      0.618      -0.087       0.146\n",
      "ma.L4.D.Rate     0.0489      0.070      0.703      0.483      -0.088       0.185\n",
      "ma.L5.D.Rate     0.0286      0.071      0.405      0.686      -0.110       0.167\n",
      "                                    Roots                                    \n",
      "=============================================================================\n",
      "                  Real          Imaginary           Modulus         Frequency\n",
      "-----------------------------------------------------------------------------\n",
      "MA.1            1.3400           -1.2363j            1.8232           -0.1186\n",
      "MA.2            1.3400           +1.2363j            1.8232            0.1186\n",
      "MA.3           -1.0667           -1.8768j            2.1588           -0.3323\n",
      "MA.4           -1.0667           +1.8768j            2.1588            0.3323\n",
      "MA.5           -2.2540           -0.0000j            2.2540           -0.5000\n",
      "-----------------------------------------------------------------------------\n"
     ]
    }
   ],
   "source": [
    "model_27 = ARIMA(df_train, order=(0,1,5))\n",
    "model_27_fit = model_27.fit(trend='c',full_output=True, disp=1)\n",
    "print(model_27_fit.summary())"
   ]
  },
  {
   "cell_type": "code",
   "execution_count": 29,
   "metadata": {},
   "outputs": [
    {
     "name": "stderr",
     "output_type": "stream",
     "text": [
      "C:\\Users\\sm.woo\\Anaconda3\\lib\\site-packages\\statsmodels\\tsa\\base\\tsa_model.py:219: ValueWarning: A date index has been provided, but it has no associated frequency information and so will be ignored when e.g. forecasting.\n",
      "  ' ignored when e.g. forecasting.', ValueWarning)\n",
      "C:\\Users\\sm.woo\\Anaconda3\\lib\\site-packages\\statsmodels\\tsa\\base\\tsa_model.py:219: ValueWarning: A date index has been provided, but it has no associated frequency information and so will be ignored when e.g. forecasting.\n",
      "  ' ignored when e.g. forecasting.', ValueWarning)\n"
     ]
    },
    {
     "name": "stdout",
     "output_type": "stream",
     "text": [
      "                             ARIMA Model Results                              \n",
      "==============================================================================\n",
      "Dep. Variable:                 D.Rate   No. Observations:                  245\n",
      "Model:                 ARIMA(0, 1, 4)   Log Likelihood                -685.357\n",
      "Method:                       css-mle   S.D. of innovations              3.969\n",
      "Date:                Fri, 07 Feb 2020   AIC                           1380.715\n",
      "Time:                        15:57:47   BIC                           1398.221\n",
      "Sample:                             1   HQIC                          1387.765\n",
      "                                                                              \n",
      "================================================================================\n",
      "                   coef    std err          z      P>|z|      [0.025      0.975]\n",
      "--------------------------------------------------------------------------------\n",
      "ma.L1.D.Rate     0.1021      0.065      1.582      0.115      -0.024       0.229\n",
      "ma.L2.D.Rate    -0.0066      0.066     -0.101      0.920      -0.136       0.123\n",
      "ma.L3.D.Rate     0.0307      0.059      0.519      0.604      -0.085       0.147\n",
      "ma.L4.D.Rate     0.0457      0.068      0.671      0.503      -0.088       0.179\n",
      "                                    Roots                                    \n",
      "=============================================================================\n",
      "                  Real          Imaginary           Modulus         Frequency\n",
      "-----------------------------------------------------------------------------\n",
      "MA.1            1.3827           -1.6193j            2.1294           -0.1375\n",
      "MA.2            1.3827           +1.6193j            2.1294            0.1375\n",
      "MA.3           -1.7192           -1.3688j            2.1976           -0.3930\n",
      "MA.4           -1.7192           +1.3688j            2.1976            0.3930\n",
      "-----------------------------------------------------------------------------\n"
     ]
    }
   ],
   "source": [
    "model_28 = ARIMA(df_train, order=(0,1,4))\n",
    "model_28_fit = model_28.fit(trend='nc',full_output=True, disp=1)\n",
    "print(model_28_fit.summary())"
   ]
  },
  {
   "cell_type": "code",
   "execution_count": 30,
   "metadata": {},
   "outputs": [
    {
     "name": "stderr",
     "output_type": "stream",
     "text": [
      "C:\\Users\\sm.woo\\Anaconda3\\lib\\site-packages\\statsmodels\\tsa\\base\\tsa_model.py:219: ValueWarning: A date index has been provided, but it has no associated frequency information and so will be ignored when e.g. forecasting.\n",
      "  ' ignored when e.g. forecasting.', ValueWarning)\n",
      "C:\\Users\\sm.woo\\Anaconda3\\lib\\site-packages\\statsmodels\\tsa\\base\\tsa_model.py:219: ValueWarning: A date index has been provided, but it has no associated frequency information and so will be ignored when e.g. forecasting.\n",
      "  ' ignored when e.g. forecasting.', ValueWarning)\n"
     ]
    },
    {
     "name": "stdout",
     "output_type": "stream",
     "text": [
      "                             ARIMA Model Results                              \n",
      "==============================================================================\n",
      "Dep. Variable:                 D.Rate   No. Observations:                  245\n",
      "Model:                 ARIMA(0, 1, 4)   Log Likelihood                -685.032\n",
      "Method:                       css-mle   S.D. of innovations              3.963\n",
      "Date:                Fri, 07 Feb 2020   AIC                           1382.064\n",
      "Time:                        15:57:47   BIC                           1403.072\n",
      "Sample:                             1   HQIC                          1390.524\n",
      "                                                                              \n",
      "================================================================================\n",
      "                   coef    std err          z      P>|z|      [0.025      0.975]\n",
      "--------------------------------------------------------------------------------\n",
      "const            0.2382      0.294      0.811      0.418      -0.338       0.814\n",
      "ma.L1.D.Rate     0.0995      0.064      1.543      0.124      -0.027       0.226\n",
      "ma.L2.D.Rate    -0.0092      0.066     -0.139      0.890      -0.138       0.120\n",
      "ma.L3.D.Rate     0.0281      0.059      0.473      0.637      -0.088       0.145\n",
      "ma.L4.D.Rate     0.0432      0.068      0.633      0.527      -0.091       0.177\n",
      "                                    Roots                                    \n",
      "=============================================================================\n",
      "                  Real          Imaginary           Modulus         Frequency\n",
      "-----------------------------------------------------------------------------\n",
      "MA.1            1.4140           -1.6377j            2.1637           -0.1366\n",
      "MA.2            1.4140           +1.6377j            2.1637            0.1366\n",
      "MA.3           -1.7394           -1.3853j            2.2237           -0.3930\n",
      "MA.4           -1.7394           +1.3853j            2.2237            0.3930\n",
      "-----------------------------------------------------------------------------\n"
     ]
    }
   ],
   "source": [
    "model_29 = ARIMA(df_train, order=(0,1,4))\n",
    "model_29_fit = model_29.fit(trend='c',full_output=True, disp=1)\n",
    "print(model_29_fit.summary())"
   ]
  },
  {
   "cell_type": "code",
   "execution_count": 31,
   "metadata": {},
   "outputs": [
    {
     "name": "stderr",
     "output_type": "stream",
     "text": [
      "C:\\Users\\sm.woo\\Anaconda3\\lib\\site-packages\\statsmodels\\tsa\\base\\tsa_model.py:219: ValueWarning: A date index has been provided, but it has no associated frequency information and so will be ignored when e.g. forecasting.\n",
      "  ' ignored when e.g. forecasting.', ValueWarning)\n",
      "C:\\Users\\sm.woo\\Anaconda3\\lib\\site-packages\\statsmodels\\tsa\\base\\tsa_model.py:219: ValueWarning: A date index has been provided, but it has no associated frequency information and so will be ignored when e.g. forecasting.\n",
      "  ' ignored when e.g. forecasting.', ValueWarning)\n",
      "C:\\Users\\sm.woo\\Anaconda3\\lib\\site-packages\\statsmodels\\base\\model.py:492: HessianInversionWarning: Inverting hessian failed, no bse or cov_params available\n",
      "  'available', HessianInversionWarning)\n"
     ]
    },
    {
     "name": "stdout",
     "output_type": "stream",
     "text": [
      "                             ARIMA Model Results                              \n",
      "==============================================================================\n",
      "Dep. Variable:                D2.Rate   No. Observations:                  244\n",
      "Model:                 ARIMA(5, 2, 5)   Log Likelihood                -678.218\n",
      "Method:                       css-mle   S.D. of innovations              3.796\n",
      "Date:                Fri, 07 Feb 2020   AIC                           1378.435\n",
      "Time:                        15:57:53   BIC                           1416.904\n",
      "Sample:                             2   HQIC                          1393.928\n",
      "                                                                              \n",
      "=================================================================================\n",
      "                    coef    std err          z      P>|z|      [0.025      0.975]\n",
      "---------------------------------------------------------------------------------\n",
      "ar.L1.D2.Rate    -1.4111      0.068    -20.806      0.000      -1.544      -1.278\n",
      "ar.L2.D2.Rate    -0.9918      0.101     -9.835      0.000      -1.190      -0.794\n",
      "ar.L3.D2.Rate    -1.4114      0.072    -19.718      0.000      -1.552      -1.271\n",
      "ar.L4.D2.Rate    -0.8524      0.097     -8.810      0.000      -1.042      -0.663\n",
      "ar.L5.D2.Rate     0.0250      0.067      0.372      0.710      -0.107       0.157\n",
      "ma.L1.D2.Rate     0.5526      0.034     16.419      0.000       0.487       0.619\n",
      "ma.L2.D2.Rate    -0.3882      0.040     -9.792      0.000      -0.466      -0.311\n",
      "ma.L3.D2.Rate     0.3883      0.038     10.152      0.000       0.313       0.463\n",
      "ma.L4.D2.Rate    -0.5528      0.040    -13.930      0.000      -0.631      -0.475\n",
      "ma.L5.D2.Rate    -0.9998      0.034    -29.471      0.000      -1.066      -0.933\n",
      "                                    Roots                                    \n",
      "=============================================================================\n",
      "                  Real          Imaginary           Modulus         Frequency\n",
      "-----------------------------------------------------------------------------\n",
      "AR.1            0.2316           -0.9835j            1.0104           -0.2132\n",
      "AR.2            0.2316           +0.9835j            1.0104            0.2132\n",
      "AR.3           -1.0383           -0.1380j            1.0474           -0.4790\n",
      "AR.4           -1.0383           +0.1380j            1.0474            0.4790\n",
      "AR.5           35.6873           -0.0000j           35.6873           -0.0000\n",
      "MA.1            1.0000           -0.0000j            1.0000           -0.0000\n",
      "MA.2            0.2115           -0.9774j            1.0000           -0.2161\n",
      "MA.3            0.2115           +0.9774j            1.0000            0.2161\n",
      "MA.4           -0.9879           -0.1555j            1.0001           -0.4751\n",
      "MA.5           -0.9879           +0.1555j            1.0001            0.4751\n",
      "-----------------------------------------------------------------------------\n"
     ]
    }
   ],
   "source": [
    "model_30 = ARIMA(df_train, order=(5,2,5))\n",
    "model_30_fit = model_30.fit(trend='nc',full_output=True, disp=1)\n",
    "print(model_30_fit.summary())"
   ]
  },
  {
   "cell_type": "code",
   "execution_count": 32,
   "metadata": {},
   "outputs": [
    {
     "name": "stderr",
     "output_type": "stream",
     "text": [
      "C:\\Users\\sm.woo\\Anaconda3\\lib\\site-packages\\statsmodels\\tsa\\base\\tsa_model.py:219: ValueWarning: A date index has been provided, but it has no associated frequency information and so will be ignored when e.g. forecasting.\n",
      "  ' ignored when e.g. forecasting.', ValueWarning)\n",
      "C:\\Users\\sm.woo\\Anaconda3\\lib\\site-packages\\statsmodels\\tsa\\base\\tsa_model.py:219: ValueWarning: A date index has been provided, but it has no associated frequency information and so will be ignored when e.g. forecasting.\n",
      "  ' ignored when e.g. forecasting.', ValueWarning)\n"
     ]
    },
    {
     "name": "stdout",
     "output_type": "stream",
     "text": [
      "                             ARIMA Model Results                              \n",
      "==============================================================================\n",
      "Dep. Variable:                D2.Rate   No. Observations:                  244\n",
      "Model:                 ARIMA(5, 2, 5)   Log Likelihood                -677.460\n",
      "Method:                       css-mle   S.D. of innovations              3.788\n",
      "Date:                Fri, 07 Feb 2020   AIC                           1378.920\n",
      "Time:                        15:58:08   BIC                           1420.886\n",
      "Sample:                             2   HQIC                          1395.821\n",
      "                                                                              \n",
      "=================================================================================\n",
      "                    coef    std err          z      P>|z|      [0.025      0.975]\n",
      "---------------------------------------------------------------------------------\n",
      "const            -0.0022      0.004     -0.552      0.581      -0.010       0.006\n",
      "ar.L1.D2.Rate    -0.4636      0.074     -6.235      0.000      -0.609      -0.318\n",
      "ar.L2.D2.Rate    -1.2437      0.052    -23.855      0.000      -1.346      -1.141\n",
      "ar.L3.D2.Rate    -0.3985      0.108     -3.675      0.000      -0.611      -0.186\n",
      "ar.L4.D2.Rate    -0.8952      0.047    -19.041      0.000      -0.987      -0.803\n",
      "ar.L5.D2.Rate     0.1415      0.072      1.967      0.050       0.001       0.282\n",
      "ma.L1.D2.Rate    -0.4180      0.044     -9.508      0.000      -0.504      -0.332\n",
      "ma.L2.D2.Rate     0.7135      0.056     12.795      0.000       0.604       0.823\n",
      "ma.L3.D2.Rate    -0.7134      0.057    -12.428      0.000      -0.826      -0.601\n",
      "ma.L4.D2.Rate     0.4179      0.045      9.268      0.000       0.329       0.506\n",
      "ma.L5.D2.Rate    -0.9999      0.028    -36.108      0.000      -1.054      -0.946\n",
      "                                    Roots                                    \n",
      "=============================================================================\n",
      "                  Real          Imaginary           Modulus         Frequency\n",
      "-----------------------------------------------------------------------------\n",
      "AR.1           -0.5844           -0.8135j            1.0016           -0.3491\n",
      "AR.2           -0.5844           +0.8135j            1.0016            0.3491\n",
      "AR.3            0.2832           -0.9677j            1.0083           -0.2047\n",
      "AR.4            0.2832           +0.9677j            1.0083            0.2047\n",
      "AR.5            6.9289           -0.0000j            6.9289           -0.0000\n",
      "MA.1           -0.5897           -0.8077j            1.0001           -0.3504\n",
      "MA.2           -0.5897           +0.8077j            1.0001            0.3504\n",
      "MA.3            1.0000           -0.0000j            1.0000           -0.0000\n",
      "MA.4            0.2987           -0.9544j            1.0000           -0.2017\n",
      "MA.5            0.2987           +0.9544j            1.0000            0.2017\n",
      "-----------------------------------------------------------------------------\n"
     ]
    }
   ],
   "source": [
    "model_31 = ARIMA(df_train, order=(5,2,5))\n",
    "model_31_fit = model_31.fit(trend='c',full_output=True, disp=1)\n",
    "print(model_31_fit.summary())"
   ]
  },
  {
   "cell_type": "markdown",
   "metadata": {},
   "source": [
    "### 예측"
   ]
  },
  {
   "cell_type": "code",
   "execution_count": 33,
   "metadata": {
    "scrolled": true
   },
   "outputs": [
    {
     "data": {
      "image/png": "[encoded data removed]",
      "text/plain": [
       "<Figure size 432x288 with 1 Axes>"
      ]
     },
     "metadata": {
      "needs_background": "light"
     },
     "output_type": "display_data"
    },
    {
     "data": {
      "image/png": "[encoded data removed]",
      "text/plain": [
       "<Figure size 432x288 with 1 Axes>"
      ]
     },
     "metadata": {
      "needs_background": "light"
     },
     "output_type": "display_data"
    },
    {
     "data": {
      "image/png": "[encoded data removed]",
      "text/plain": [
       "<Figure size 432x288 with 1 Axes>"
      ]
     },
     "metadata": {
      "needs_background": "light"
     },
     "output_type": "display_data"
    },
    {
     "data": {
      "image/png": "[encoded data removed]",
      "text/plain": [
       "<Figure size 432x288 with 1 Axes>"
      ]
     },
     "metadata": {
      "needs_background": "light"
     },
     "output_type": "display_data"
    },
    {
     "data": {
      "image/png": "[encoded data removed]",
      "text/plain": [
       "<Figure size 432x288 with 1 Axes>"
      ]
     },
     "metadata": {
      "needs_background": "light"
     },
     "output_type": "display_data"
    },
    {
     "data": {
      "image/png": "[encoded data removed]",
      "text/plain": [
       "<Figure size 432x288 with 1 Axes>"
      ]
     },
     "metadata": {
      "needs_background": "light"
     },
     "output_type": "display_data"
    },
    {
     "data": {
      "image/png": "[encoded data removed]",
      "text/plain": [
       "<Figure size 432x288 with 1 Axes>"
      ]
     },
     "metadata": {
      "needs_background": "light"
     },
     "output_type": "display_data"
    },
    {
     "data": {
      "image/png": "[encoded data removed]",
      "text/plain": [
       "<Figure size 432x288 with 1 Axes>"
      ]
     },
     "metadata": {
      "needs_background": "light"
     },
     "output_type": "display_data"
    },
    {
     "data": {
      "image/png": "[encoded data removed]",
      "text/plain": [
       "<Figure size 432x288 with 1 Axes>"
      ]
     },
     "metadata": {
      "needs_background": "light"
     },
     "output_type": "display_data"
    },
    {
     "data": {
      "image/png": "[encoded data removed]",
      "text/plain": [
       "<Figure size 432x288 with 1 Axes>"
      ]
     },
     "metadata": {
      "needs_background": "light"
     },
     "output_type": "display_data"
    },
    {
     "data": {
      "image/png": "[encoded data removed]",
      "text/plain": [
       "<Figure size 432x288 with 1 Axes>"
      ]
     },
     "metadata": {
      "needs_background": "light"
     },
     "output_type": "display_data"
    },
    {
     "data": {
      "image/png": "[encoded data removed]",
      "text/plain": [
       "<Figure size 432x288 with 1 Axes>"
      ]
     },
     "metadata": {
      "needs_background": "light"
     },
     "output_type": "display_data"
    }
   ],
   "source": [
    "Models = [model_1_fit, model_2_fit, model_3_fit, model_4_fit, model_18_fit, model_19_fit, model_20_fit, \n",
    "          model_25_fit, model_26_fit, model_27_fit, model_28_fit, model_29_fit]\n",
    "\n",
    "df_test=df_test[:5]\n",
    "actual_price=df_test['Rate'].tolist()[:5]\n",
    "RMSE_total=[]\n",
    "pred_price=[]\n",
    "\n",
    "for model in Models:\n",
    "    pred = model.forecast(steps=5)\n",
    "    pred_price_0=pred[0][:5]\n",
    "    pred_price.extend(pred_price_0)\n",
    "\n",
    "    plt.plot(pred_price_0)\n",
    "    plt.plot(df_test)\n",
    "    plt.show()\n",
    "    \n",
    "    RMSE = mean_squared_error(pred_price_0, actual_price)**0.5    \n",
    "    RMSE_total.append(RMSE)"
   ]
  },
  {
   "cell_type": "markdown",
   "metadata": {},
   "source": [
    "#### 예측값, stderr, upper bound, lower bound"
   ]
  },
  {
   "cell_type": "code",
   "execution_count": 34,
   "metadata": {},
   "outputs": [],
   "source": [
    "n = 5\n",
    "result = [pred_price[i * n:(i + 1) * n] for i in range((len(pred_price) + n - 1) // n )] \n",
    "pred_final = []\n",
    "for i in result:\n",
    "    pred_final.append(i)"
   ]
  },
  {
   "cell_type": "code",
   "execution_count": 35,
   "metadata": {
    "scrolled": true
   },
   "outputs": [],
   "source": [
    "pred_final=pd.DataFrame(pred_final)\n",
    "RMSE_total=pd.DataFrame(RMSE_total)\n",
    "final_df=pd.concat([pred_final, RMSE_total], axis=1)\n",
    "final_df.columns=[df_test.index[0],df_test.index[1],df_test.index[2],df_test.index[3],df_test.index[4],'RMSE']"
   ]
  },
  {
   "cell_type": "code",
   "execution_count": 36,
   "metadata": {},
   "outputs": [
    {
     "data": {
      "text/html": [
       "<div>\n",
       "<style scoped>\n",
       "    .dataframe tbody tr th:only-of-type {\n",
       "        vertical-align: middle;\n",
       "    }\n",
       "\n",
       "    .dataframe tbody tr th {\n",
       "        vertical-align: top;\n",
       "    }\n",
       "\n",
       "    .dataframe thead th {\n",
       "        text-align: right;\n",
       "    }\n",
       "</style>\n",
       "<table border=\"1\" class=\"dataframe\">\n",
       "  <thead>\n",
       "    <tr style=\"text-align: right;\">\n",
       "      <th></th>\n",
       "      <th>2019-12-02</th>\n",
       "      <th>2019-12-03</th>\n",
       "      <th>2019-12-04</th>\n",
       "      <th>2019-12-05</th>\n",
       "      <th>2019-12-06</th>\n",
       "      <th>RMSE</th>\n",
       "    </tr>\n",
       "  </thead>\n",
       "  <tbody>\n",
       "    <tr>\n",
       "      <td>0</td>\n",
       "      <td>1180.300000</td>\n",
       "      <td>1180.400000</td>\n",
       "      <td>1186.200000</td>\n",
       "      <td>1193.700000</td>\n",
       "      <td>1190.200000</td>\n",
       "      <td>0.000000</td>\n",
       "    </tr>\n",
       "    <tr>\n",
       "      <td>0</td>\n",
       "      <td>1179.631966</td>\n",
       "      <td>1179.635160</td>\n",
       "      <td>1179.635191</td>\n",
       "      <td>1179.635191</td>\n",
       "      <td>1179.635191</td>\n",
       "      <td>8.409067</td>\n",
       "    </tr>\n",
       "    <tr>\n",
       "      <td>1</td>\n",
       "      <td>1179.829981</td>\n",
       "      <td>1180.057273</td>\n",
       "      <td>1180.297250</td>\n",
       "      <td>1180.536696</td>\n",
       "      <td>1180.776164</td>\n",
       "      <td>7.710539</td>\n",
       "    </tr>\n",
       "    <tr>\n",
       "      <td>2</td>\n",
       "      <td>1179.829282</td>\n",
       "      <td>1180.065476</td>\n",
       "      <td>1180.311836</td>\n",
       "      <td>1180.549478</td>\n",
       "      <td>1180.789413</td>\n",
       "      <td>7.700641</td>\n",
       "    </tr>\n",
       "    <tr>\n",
       "      <td>3</td>\n",
       "      <td>1179.627525</td>\n",
       "      <td>1179.633362</td>\n",
       "      <td>1179.640638</td>\n",
       "      <td>1179.638967</td>\n",
       "      <td>1179.639580</td>\n",
       "      <td>8.405954</td>\n",
       "    </tr>\n",
       "    <tr>\n",
       "      <td>4</td>\n",
       "      <td>1179.927399</td>\n",
       "      <td>1179.625117</td>\n",
       "      <td>1180.085330</td>\n",
       "      <td>1180.016860</td>\n",
       "      <td>1180.327507</td>\n",
       "      <td>8.035209</td>\n",
       "    </tr>\n",
       "    <tr>\n",
       "      <td>5</td>\n",
       "      <td>1179.651167</td>\n",
       "      <td>1179.626444</td>\n",
       "      <td>1179.703254</td>\n",
       "      <td>1179.871894</td>\n",
       "      <td>1180.043560</td>\n",
       "      <td>8.217017</td>\n",
       "    </tr>\n",
       "    <tr>\n",
       "      <td>6</td>\n",
       "      <td>1179.826229</td>\n",
       "      <td>1180.000366</td>\n",
       "      <td>1180.277426</td>\n",
       "      <td>1180.648520</td>\n",
       "      <td>1181.028759</td>\n",
       "      <td>7.614642</td>\n",
       "    </tr>\n",
       "    <tr>\n",
       "      <td>7</td>\n",
       "      <td>1179.290616</td>\n",
       "      <td>1179.041874</td>\n",
       "      <td>1178.991570</td>\n",
       "      <td>1178.909138</td>\n",
       "      <td>1178.670286</td>\n",
       "      <td>9.016970</td>\n",
       "    </tr>\n",
       "    <tr>\n",
       "      <td>8</td>\n",
       "      <td>1179.445536</td>\n",
       "      <td>1179.311141</td>\n",
       "      <td>1179.414955</td>\n",
       "      <td>1179.613063</td>\n",
       "      <td>1179.613063</td>\n",
       "      <td>8.467321</td>\n",
       "    </tr>\n",
       "    <tr>\n",
       "      <td>9</td>\n",
       "      <td>1179.646742</td>\n",
       "      <td>1179.733276</td>\n",
       "      <td>1180.049433</td>\n",
       "      <td>1180.457090</td>\n",
       "      <td>1180.694407</td>\n",
       "      <td>7.802970</td>\n",
       "    </tr>\n",
       "    <tr>\n",
       "      <td>10</td>\n",
       "      <td>1179.472811</td>\n",
       "      <td>1179.411635</td>\n",
       "      <td>1179.575688</td>\n",
       "      <td>1179.720375</td>\n",
       "      <td>1179.720375</td>\n",
       "      <td>8.376098</td>\n",
       "    </tr>\n",
       "    <tr>\n",
       "      <td>11</td>\n",
       "      <td>1179.676314</td>\n",
       "      <td>1179.834255</td>\n",
       "      <td>1180.210078</td>\n",
       "      <td>1180.576011</td>\n",
       "      <td>1180.814234</td>\n",
       "      <td>7.706100</td>\n",
       "    </tr>\n",
       "  </tbody>\n",
       "</table>\n",
       "</div>"
      ],
      "text/plain": [
       "     2019-12-02   2019-12-03   2019-12-04   2019-12-05   2019-12-06      RMSE\n",
       "0   1180.300000  1180.400000  1186.200000  1193.700000  1190.200000  0.000000\n",
       "0   1179.631966  1179.635160  1179.635191  1179.635191  1179.635191  8.409067\n",
       "1   1179.829981  1180.057273  1180.297250  1180.536696  1180.776164  7.710539\n",
       "2   1179.829282  1180.065476  1180.311836  1180.549478  1180.789413  7.700641\n",
       "3   1179.627525  1179.633362  1179.640638  1179.638967  1179.639580  8.405954\n",
       "4   1179.927399  1179.625117  1180.085330  1180.016860  1180.327507  8.035209\n",
       "5   1179.651167  1179.626444  1179.703254  1179.871894  1180.043560  8.217017\n",
       "6   1179.826229  1180.000366  1180.277426  1180.648520  1181.028759  7.614642\n",
       "7   1179.290616  1179.041874  1178.991570  1178.909138  1178.670286  9.016970\n",
       "8   1179.445536  1179.311141  1179.414955  1179.613063  1179.613063  8.467321\n",
       "9   1179.646742  1179.733276  1180.049433  1180.457090  1180.694407  7.802970\n",
       "10  1179.472811  1179.411635  1179.575688  1179.720375  1179.720375  8.376098\n",
       "11  1179.676314  1179.834255  1180.210078  1180.576011  1180.814234  7.706100"
      ]
     },
     "execution_count": 36,
     "metadata": {},
     "output_type": "execute_result"
    }
   ],
   "source": [
    "actual_price = pd.DataFrame(actual_price + [0]).T\n",
    "actual_price.columns=[df_test.index[0],df_test.index[1],df_test.index[2],df_test.index[3],df_test.index[4],'RMSE']\n",
    "final_df=pd.concat([actual_price, final_df], axis=0)\n",
    "final_df"
   ]
  },
  {
   "cell_type": "code",
   "execution_count": 37,
   "metadata": {},
   "outputs": [],
   "source": [
    "final_df.to_csv('data/final11.csv', index=False)"
   ]
  },
  {
   "cell_type": "code",
   "execution_count": null,
   "metadata": {},
   "outputs": [],
   "source": []
  }
 ],
 "metadata": {
  "kernelspec": {
   "display_name": "Python 3",
   "language": "python",
   "name": "python3"
  },
  "language_info": {
   "codemirror_mode": {
    "name": "ipython",
    "version": 3
   },
   "file_extension": ".py",
   "mimetype": "text/x-python",
   "name": "python",
   "nbconvert_exporter": "python",
   "pygments_lexer": "ipython3",
   "version": "3.7.4"
  }
 },
 "nbformat": 4,
 "nbformat_minor": 2
}
