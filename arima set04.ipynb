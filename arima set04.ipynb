{
 "cells": [
  {
   "cell_type": "code",
   "execution_count": 1,
   "metadata": {},
   "outputs": [],
   "source": [
    "import pandas as pd\n",
    "import matplotlib.pyplot as plt\n",
    "\n",
    "from statsmodels.tsa.arima_model import ARIMA\n",
    "from sklearn.metrics import mean_squared_error"
   ]
  },
  {
   "cell_type": "code",
   "execution_count": 2,
   "metadata": {},
   "outputs": [],
   "source": [
    "data = pd.read_csv('exchange_data/set04.csv', header=0, squeeze=True)"
   ]
  },
  {
   "cell_type": "code",
   "execution_count": 3,
   "metadata": {},
   "outputs": [],
   "source": [
    "data = data.set_index('Date')"
   ]
  },
  {
   "cell_type": "code",
   "execution_count": 4,
   "metadata": {},
   "outputs": [],
   "source": [
    "#2018년 2월~2019년1월 train set/ 2019년 2월 test set\n",
    "df_train=data.loc['2018-05-01': '2019-04-31' ]\n",
    "df_test=data.loc['2019-05-01':]"
   ]
  },
  {
   "cell_type": "markdown",
   "metadata": {},
   "source": [
    "### 모형구축"
   ]
  },
  {
   "cell_type": "code",
   "execution_count": 5,
   "metadata": {},
   "outputs": [
    {
     "name": "stdout",
     "output_type": "stream",
     "text": [
      "                             ARIMA Model Results                              \n",
      "==============================================================================\n",
      "Dep. Variable:                 D.Rate   No. Observations:                  243\n",
      "Model:                 ARIMA(1, 1, 1)   Log Likelihood                -689.882\n",
      "Method:                       css-mle   S.D. of innovations              4.137\n",
      "Date:                Fri, 07 Feb 2020   AIC                           1385.765\n",
      "Time:                        15:52:56   BIC                           1396.244\n",
      "Sample:                             1   HQIC                          1389.986\n",
      "                                                                              \n",
      "================================================================================\n",
      "                   coef    std err          z      P>|z|      [0.025      0.975]\n",
      "--------------------------------------------------------------------------------\n",
      "ar.L1.D.Rate    -0.3747      0.360     -1.040      0.299      -1.081       0.331\n",
      "ma.L1.D.Rate     0.4791      0.339      1.414      0.159      -0.185       1.143\n",
      "                                    Roots                                    \n",
      "=============================================================================\n",
      "                  Real          Imaginary           Modulus         Frequency\n",
      "-----------------------------------------------------------------------------\n",
      "AR.1           -2.6687           +0.0000j            2.6687            0.5000\n",
      "MA.1           -2.0871           +0.0000j            2.0871            0.5000\n",
      "-----------------------------------------------------------------------------\n"
     ]
    },
    {
     "name": "stderr",
     "output_type": "stream",
     "text": [
      "C:\\Users\\sm.woo\\Anaconda3\\lib\\site-packages\\statsmodels\\tsa\\base\\tsa_model.py:219: ValueWarning: A date index has been provided, but it has no associated frequency information and so will be ignored when e.g. forecasting.\n",
      "  ' ignored when e.g. forecasting.', ValueWarning)\n",
      "C:\\Users\\sm.woo\\Anaconda3\\lib\\site-packages\\statsmodels\\tsa\\base\\tsa_model.py:219: ValueWarning: A date index has been provided, but it has no associated frequency information and so will be ignored when e.g. forecasting.\n",
      "  ' ignored when e.g. forecasting.', ValueWarning)\n"
     ]
    }
   ],
   "source": [
    "model_1 = ARIMA(df_train, order=(1,1,1))\n",
    "model_1_fit = model_1.fit(trend='nc',full_output=True, disp=1)\n",
    "print(model_1_fit.summary())"
   ]
  },
  {
   "cell_type": "code",
   "execution_count": 6,
   "metadata": {},
   "outputs": [
    {
     "name": "stdout",
     "output_type": "stream",
     "text": [
      "                             ARIMA Model Results                              \n",
      "==============================================================================\n",
      "Dep. Variable:                 D.Rate   No. Observations:                  243\n",
      "Model:                 ARIMA(1, 1, 1)   Log Likelihood                -689.012\n",
      "Method:                       css-mle   S.D. of innovations              4.123\n",
      "Date:                Fri, 07 Feb 2020   AIC                           1386.024\n",
      "Time:                        15:52:57   BIC                           1399.997\n",
      "Sample:                             1   HQIC                          1391.652\n",
      "                                                                              \n",
      "================================================================================\n",
      "                   coef    std err          z      P>|z|      [0.025      0.975]\n",
      "--------------------------------------------------------------------------------\n",
      "const            0.3751      0.283      1.324      0.187      -0.180       0.930\n",
      "ar.L1.D.Rate    -0.3953      0.345     -1.145      0.253      -1.072       0.281\n",
      "ma.L1.D.Rate     0.4949      0.324      1.526      0.128      -0.141       1.130\n",
      "                                    Roots                                    \n",
      "=============================================================================\n",
      "                  Real          Imaginary           Modulus         Frequency\n",
      "-----------------------------------------------------------------------------\n",
      "AR.1           -2.5296           +0.0000j            2.5296            0.5000\n",
      "MA.1           -2.0206           +0.0000j            2.0206            0.5000\n",
      "-----------------------------------------------------------------------------\n"
     ]
    },
    {
     "name": "stderr",
     "output_type": "stream",
     "text": [
      "C:\\Users\\sm.woo\\Anaconda3\\lib\\site-packages\\statsmodels\\tsa\\base\\tsa_model.py:219: ValueWarning: A date index has been provided, but it has no associated frequency information and so will be ignored when e.g. forecasting.\n",
      "  ' ignored when e.g. forecasting.', ValueWarning)\n",
      "C:\\Users\\sm.woo\\Anaconda3\\lib\\site-packages\\statsmodels\\tsa\\base\\tsa_model.py:219: ValueWarning: A date index has been provided, but it has no associated frequency information and so will be ignored when e.g. forecasting.\n",
      "  ' ignored when e.g. forecasting.', ValueWarning)\n"
     ]
    }
   ],
   "source": [
    "model_2 = ARIMA(df_train, order=(1,1,1))\n",
    "model_2_fit = model_2.fit(trend='c',full_output=True, disp=1)\n",
    "print(model_2_fit.summary())"
   ]
  },
  {
   "cell_type": "code",
   "execution_count": 7,
   "metadata": {},
   "outputs": [
    {
     "name": "stderr",
     "output_type": "stream",
     "text": [
      "C:\\Users\\sm.woo\\Anaconda3\\lib\\site-packages\\statsmodels\\tsa\\base\\tsa_model.py:219: ValueWarning: A date index has been provided, but it has no associated frequency information and so will be ignored when e.g. forecasting.\n",
      "  ' ignored when e.g. forecasting.', ValueWarning)\n",
      "C:\\Users\\sm.woo\\Anaconda3\\lib\\site-packages\\statsmodels\\tsa\\base\\tsa_model.py:219: ValueWarning: A date index has been provided, but it has no associated frequency information and so will be ignored when e.g. forecasting.\n",
      "  ' ignored when e.g. forecasting.', ValueWarning)\n"
     ]
    },
    {
     "name": "stdout",
     "output_type": "stream",
     "text": [
      "                             ARIMA Model Results                              \n",
      "==============================================================================\n",
      "Dep. Variable:                 D.Rate   No. Observations:                  243\n",
      "Model:                 ARIMA(2, 1, 1)   Log Likelihood                -689.012\n",
      "Method:                       css-mle   S.D. of innovations              4.123\n",
      "Date:                Fri, 07 Feb 2020   AIC                           1388.024\n",
      "Time:                        15:52:57   BIC                           1405.489\n",
      "Sample:                             1   HQIC                          1395.059\n",
      "                                                                              \n",
      "================================================================================\n",
      "                   coef    std err          z      P>|z|      [0.025      0.975]\n",
      "--------------------------------------------------------------------------------\n",
      "const            0.3751      0.284      1.323      0.187      -0.181       0.931\n",
      "ar.L1.D.Rate    -0.4005      0.414     -0.967      0.334      -1.212       0.411\n",
      "ar.L2.D.Rate     0.0018      0.082      0.022      0.982      -0.159       0.163\n",
      "ma.L1.D.Rate     0.5005      0.409      1.224      0.222      -0.301       1.302\n",
      "                                    Roots                                    \n",
      "=============================================================================\n",
      "                  Real          Imaginary           Modulus         Frequency\n",
      "-----------------------------------------------------------------------------\n",
      "AR.1           -2.4693           +0.0000j            2.4693            0.5000\n",
      "AR.2          222.7254           +0.0000j          222.7254            0.0000\n",
      "MA.1           -1.9980           +0.0000j            1.9980            0.5000\n",
      "-----------------------------------------------------------------------------\n"
     ]
    }
   ],
   "source": [
    "model_3 = ARIMA(df_train, order=(2,1,1))\n",
    "model_3_fit = model_3.fit(trend='c',full_output=True, disp=1)\n",
    "print(model_3_fit.summary())"
   ]
  },
  {
   "cell_type": "code",
   "execution_count": 8,
   "metadata": {},
   "outputs": [
    {
     "name": "stdout",
     "output_type": "stream",
     "text": [
      "                             ARIMA Model Results                              \n",
      "==============================================================================\n",
      "Dep. Variable:                 D.Rate   No. Observations:                  243\n",
      "Model:                 ARIMA(2, 1, 1)   Log Likelihood                -689.875\n",
      "Method:                       css-mle   S.D. of innovations              4.137\n",
      "Date:                Fri, 07 Feb 2020   AIC                           1387.750\n",
      "Time:                        15:52:57   BIC                           1401.722\n",
      "Sample:                             1   HQIC                          1393.378\n",
      "                                                                              \n",
      "================================================================================\n",
      "                   coef    std err          z      P>|z|      [0.025      0.975]\n",
      "--------------------------------------------------------------------------------\n",
      "ar.L1.D.Rate    -0.4040      0.421     -0.960      0.338      -1.229       0.421\n",
      "ar.L2.D.Rate     0.0100      0.084      0.119      0.906      -0.155       0.175\n",
      "ma.L1.D.Rate     0.5108      0.416      1.229      0.220      -0.304       1.325\n",
      "                                    Roots                                    \n",
      "=============================================================================\n",
      "                  Real          Imaginary           Modulus         Frequency\n",
      "-----------------------------------------------------------------------------\n",
      "AR.1           -2.3402           +0.0000j            2.3402            0.5000\n",
      "AR.2           42.9113           +0.0000j           42.9113            0.0000\n",
      "MA.1           -1.9579           +0.0000j            1.9579            0.5000\n",
      "-----------------------------------------------------------------------------\n"
     ]
    },
    {
     "name": "stderr",
     "output_type": "stream",
     "text": [
      "C:\\Users\\sm.woo\\Anaconda3\\lib\\site-packages\\statsmodels\\tsa\\base\\tsa_model.py:219: ValueWarning: A date index has been provided, but it has no associated frequency information and so will be ignored when e.g. forecasting.\n",
      "  ' ignored when e.g. forecasting.', ValueWarning)\n",
      "C:\\Users\\sm.woo\\Anaconda3\\lib\\site-packages\\statsmodels\\tsa\\base\\tsa_model.py:219: ValueWarning: A date index has been provided, but it has no associated frequency information and so will be ignored when e.g. forecasting.\n",
      "  ' ignored when e.g. forecasting.', ValueWarning)\n"
     ]
    }
   ],
   "source": [
    "model_4 = ARIMA(df_train, order=(2,1,1))\n",
    "model_4_fit = model_4.fit(trend='nc',full_output=True, disp=1)\n",
    "print(model_4_fit.summary())"
   ]
  },
  {
   "cell_type": "code",
   "execution_count": 9,
   "metadata": {},
   "outputs": [
    {
     "name": "stderr",
     "output_type": "stream",
     "text": [
      "C:\\Users\\sm.woo\\Anaconda3\\lib\\site-packages\\statsmodels\\tsa\\base\\tsa_model.py:219: ValueWarning: A date index has been provided, but it has no associated frequency information and so will be ignored when e.g. forecasting.\n",
      "  ' ignored when e.g. forecasting.', ValueWarning)\n",
      "C:\\Users\\sm.woo\\Anaconda3\\lib\\site-packages\\statsmodels\\tsa\\base\\tsa_model.py:219: ValueWarning: A date index has been provided, but it has no associated frequency information and so will be ignored when e.g. forecasting.\n",
      "  ' ignored when e.g. forecasting.', ValueWarning)\n"
     ]
    },
    {
     "name": "stdout",
     "output_type": "stream",
     "text": [
      "                             ARIMA Model Results                              \n",
      "==============================================================================\n",
      "Dep. Variable:                 D.Rate   No. Observations:                  243\n",
      "Model:                 ARIMA(2, 1, 2)   Log Likelihood                -689.862\n",
      "Method:                       css-mle   S.D. of innovations              4.137\n",
      "Date:                Fri, 07 Feb 2020   AIC                           1389.724\n",
      "Time:                        15:52:58   BIC                           1407.189\n",
      "Sample:                             1   HQIC                          1396.759\n",
      "                                                                              \n",
      "================================================================================\n",
      "                   coef    std err          z      P>|z|      [0.025      0.975]\n",
      "--------------------------------------------------------------------------------\n",
      "ar.L1.D.Rate    -0.2009      1.127     -0.178      0.859      -2.411       2.009\n",
      "ar.L2.D.Rate     0.1039      0.438      0.237      0.813      -0.755       0.963\n",
      "ma.L1.D.Rate     0.3092      1.126      0.275      0.784      -1.898       2.516\n",
      "ma.L2.D.Rate    -0.1104      0.533     -0.207      0.836      -1.156       0.935\n",
      "                                    Roots                                    \n",
      "=============================================================================\n",
      "                  Real          Imaginary           Modulus         Frequency\n",
      "-----------------------------------------------------------------------------\n",
      "AR.1           -2.2825           +0.0000j            2.2825            0.5000\n",
      "AR.2            4.2162           +0.0000j            4.2162            0.0000\n",
      "MA.1           -1.9191           +0.0000j            1.9191            0.5000\n",
      "MA.2            4.7204           +0.0000j            4.7204            0.0000\n",
      "-----------------------------------------------------------------------------\n"
     ]
    }
   ],
   "source": [
    "model_5 = ARIMA(df_train, order=(2,1,2))\n",
    "model_5_fit = model_5.fit(trend='nc',full_output=True, disp=1)\n",
    "print(model_5_fit.summary())"
   ]
  },
  {
   "cell_type": "code",
   "execution_count": 10,
   "metadata": {},
   "outputs": [
    {
     "name": "stderr",
     "output_type": "stream",
     "text": [
      "C:\\Users\\sm.woo\\Anaconda3\\lib\\site-packages\\statsmodels\\tsa\\base\\tsa_model.py:219: ValueWarning: A date index has been provided, but it has no associated frequency information and so will be ignored when e.g. forecasting.\n",
      "  ' ignored when e.g. forecasting.', ValueWarning)\n",
      "C:\\Users\\sm.woo\\Anaconda3\\lib\\site-packages\\statsmodels\\tsa\\base\\tsa_model.py:219: ValueWarning: A date index has been provided, but it has no associated frequency information and so will be ignored when e.g. forecasting.\n",
      "  ' ignored when e.g. forecasting.', ValueWarning)\n"
     ]
    },
    {
     "name": "stdout",
     "output_type": "stream",
     "text": [
      "                             ARIMA Model Results                              \n",
      "==============================================================================\n",
      "Dep. Variable:                 D.Rate   No. Observations:                  243\n",
      "Model:                 ARIMA(2, 1, 2)   Log Likelihood                -689.009\n",
      "Method:                       css-mle   S.D. of innovations              4.122\n",
      "Date:                Fri, 07 Feb 2020   AIC                           1390.017\n",
      "Time:                        15:52:58   BIC                           1410.976\n",
      "Sample:                             1   HQIC                          1398.459\n",
      "                                                                              \n",
      "================================================================================\n",
      "                   coef    std err          z      P>|z|      [0.025      0.975]\n",
      "--------------------------------------------------------------------------------\n",
      "const            0.3753      0.285      1.317      0.189      -0.183       0.934\n",
      "ar.L1.D.Rate    -0.2247      1.715     -0.131      0.896      -3.586       3.137\n",
      "ar.L2.D.Rate     0.0830      0.684      0.121      0.904      -1.258       1.424\n",
      "ma.L1.D.Rate     0.3260      1.714      0.190      0.849      -3.033       3.685\n",
      "ma.L2.D.Rate    -0.0952      0.842     -0.113      0.910      -1.745       1.555\n",
      "                                    Roots                                    \n",
      "=============================================================================\n",
      "                  Real          Imaginary           Modulus         Frequency\n",
      "-----------------------------------------------------------------------------\n",
      "AR.1           -2.3714           +0.0000j            2.3714            0.5000\n",
      "AR.2            5.0777           +0.0000j            5.0777            0.0000\n",
      "MA.1           -1.9536           +0.0000j            1.9536            0.5000\n",
      "MA.2            5.3794           +0.0000j            5.3794            0.0000\n",
      "-----------------------------------------------------------------------------\n"
     ]
    }
   ],
   "source": [
    "model_6 = ARIMA(df_train, order=(2,1,2))\n",
    "model_6_fit = model_6.fit(trend='c',full_output=True, disp=1)\n",
    "print(model_6_fit.summary())"
   ]
  },
  {
   "cell_type": "code",
   "execution_count": 11,
   "metadata": {},
   "outputs": [
    {
     "name": "stderr",
     "output_type": "stream",
     "text": [
      "C:\\Users\\sm.woo\\Anaconda3\\lib\\site-packages\\statsmodels\\tsa\\base\\tsa_model.py:219: ValueWarning: A date index has been provided, but it has no associated frequency information and so will be ignored when e.g. forecasting.\n",
      "  ' ignored when e.g. forecasting.', ValueWarning)\n",
      "C:\\Users\\sm.woo\\Anaconda3\\lib\\site-packages\\statsmodels\\tsa\\base\\tsa_model.py:219: ValueWarning: A date index has been provided, but it has no associated frequency information and so will be ignored when e.g. forecasting.\n",
      "  ' ignored when e.g. forecasting.', ValueWarning)\n"
     ]
    },
    {
     "name": "stdout",
     "output_type": "stream",
     "text": [
      "                             ARIMA Model Results                              \n",
      "==============================================================================\n",
      "Dep. Variable:                 D.Rate   No. Observations:                  243\n",
      "Model:                 ARIMA(4, 1, 3)   Log Likelihood                -686.509\n",
      "Method:                       css-mle   S.D. of innovations              4.079\n",
      "Date:                Fri, 07 Feb 2020   AIC                           1389.017\n",
      "Time:                        15:52:59   BIC                           1416.962\n",
      "Sample:                             1   HQIC                          1400.273\n",
      "                                                                              \n",
      "================================================================================\n",
      "                   coef    std err          z      P>|z|      [0.025      0.975]\n",
      "--------------------------------------------------------------------------------\n",
      "ar.L1.D.Rate     0.4534      0.475      0.955      0.341      -0.478       1.384\n",
      "ar.L2.D.Rate    -0.1753      0.307     -0.571      0.568      -0.777       0.426\n",
      "ar.L3.D.Rate     0.4326      0.416      1.041      0.299      -0.382       1.247\n",
      "ar.L4.D.Rate    -0.1933      0.070     -2.741      0.007      -0.331      -0.055\n",
      "ma.L1.D.Rate    -0.3554      0.486     -0.732      0.465      -1.307       0.597\n",
      "ma.L2.D.Rate     0.0987      0.307      0.321      0.748      -0.504       0.701\n",
      "ma.L3.D.Rate    -0.3782      0.433     -0.873      0.383      -1.227       0.470\n",
      "                                    Roots                                    \n",
      "=============================================================================\n",
      "                  Real          Imaginary           Modulus         Frequency\n",
      "-----------------------------------------------------------------------------\n",
      "AR.1           -0.5673           -1.1791j            1.3085           -0.3214\n",
      "AR.2           -0.5673           +1.1791j            1.3085            0.3214\n",
      "AR.3            1.6867           -0.4213j            1.7385           -0.0390\n",
      "AR.4            1.6867           +0.4213j            1.7385            0.0390\n",
      "MA.1            1.2346           -0.0000j            1.2346           -0.0000\n",
      "MA.2           -0.4868           -1.3801j            1.4634           -0.3040\n",
      "MA.3           -0.4868           +1.3801j            1.4634            0.3040\n",
      "-----------------------------------------------------------------------------\n"
     ]
    }
   ],
   "source": [
    "model_9 = ARIMA(df_train, order=(4,1,3))\n",
    "model_9_fit = model_9.fit(trend='nc',full_output=True, disp=1)\n",
    "print(model_9_fit.summary())"
   ]
  },
  {
   "cell_type": "code",
   "execution_count": 12,
   "metadata": {},
   "outputs": [
    {
     "name": "stderr",
     "output_type": "stream",
     "text": [
      "C:\\Users\\sm.woo\\Anaconda3\\lib\\site-packages\\statsmodels\\tsa\\base\\tsa_model.py:219: ValueWarning: A date index has been provided, but it has no associated frequency information and so will be ignored when e.g. forecasting.\n",
      "  ' ignored when e.g. forecasting.', ValueWarning)\n",
      "C:\\Users\\sm.woo\\Anaconda3\\lib\\site-packages\\statsmodels\\tsa\\base\\tsa_model.py:219: ValueWarning: A date index has been provided, but it has no associated frequency information and so will be ignored when e.g. forecasting.\n",
      "  ' ignored when e.g. forecasting.', ValueWarning)\n"
     ]
    },
    {
     "name": "stdout",
     "output_type": "stream",
     "text": [
      "                             ARIMA Model Results                              \n",
      "==============================================================================\n",
      "Dep. Variable:                 D.Rate   No. Observations:                  243\n",
      "Model:                 ARIMA(4, 1, 3)   Log Likelihood                -684.820\n",
      "Method:                       css-mle   S.D. of innovations              4.050\n",
      "Date:                Fri, 07 Feb 2020   AIC                           1387.640\n",
      "Time:                        15:53:00   BIC                           1419.077\n",
      "Sample:                             1   HQIC                          1400.302\n",
      "                                                                              \n",
      "================================================================================\n",
      "                   coef    std err          z      P>|z|      [0.025      0.975]\n",
      "--------------------------------------------------------------------------------\n",
      "const            0.3389      0.173      1.955      0.052      -0.001       0.679\n",
      "ar.L1.D.Rate     0.4823      0.474      1.018      0.310      -0.446       1.411\n",
      "ar.L2.D.Rate    -0.1672      0.312     -0.536      0.592      -0.779       0.444\n",
      "ar.L3.D.Rate     0.4340      0.429      1.012      0.313      -0.407       1.275\n",
      "ar.L4.D.Rate    -0.1982      0.073     -2.731      0.007      -0.340      -0.056\n",
      "ma.L1.D.Rate    -0.3976      0.485     -0.820      0.413      -1.348       0.553\n",
      "ma.L2.D.Rate     0.0800      0.313      0.256      0.798      -0.534       0.694\n",
      "ma.L3.D.Rate    -0.3879      0.454     -0.855      0.394      -1.277       0.502\n",
      "                                    Roots                                    \n",
      "=============================================================================\n",
      "                  Real          Imaginary           Modulus         Frequency\n",
      "-----------------------------------------------------------------------------\n",
      "AR.1           -0.5708           -1.1850j            1.3153           -0.3214\n",
      "AR.2           -0.5708           +1.1850j            1.3153            0.3214\n",
      "AR.3            1.6658           -0.3767j            1.7079           -0.0354\n",
      "AR.4            1.6658           +0.3767j            1.7079            0.0354\n",
      "MA.1            1.1827           -0.0000j            1.1827           -0.0000\n",
      "MA.2           -0.4882           -1.3934j            1.4764           -0.3036\n",
      "MA.3           -0.4882           +1.3934j            1.4764            0.3036\n",
      "-----------------------------------------------------------------------------\n"
     ]
    }
   ],
   "source": [
    "model_10 = ARIMA(df_train, order=(4,1,3))\n",
    "model_10_fit = model_10.fit(trend='c',full_output=True, disp=1)\n",
    "print(model_10_fit.summary())"
   ]
  },
  {
   "cell_type": "code",
   "execution_count": 13,
   "metadata": {},
   "outputs": [
    {
     "name": "stderr",
     "output_type": "stream",
     "text": [
      "C:\\Users\\sm.woo\\Anaconda3\\lib\\site-packages\\statsmodels\\tsa\\base\\tsa_model.py:219: ValueWarning: A date index has been provided, but it has no associated frequency information and so will be ignored when e.g. forecasting.\n",
      "  ' ignored when e.g. forecasting.', ValueWarning)\n",
      "C:\\Users\\sm.woo\\Anaconda3\\lib\\site-packages\\statsmodels\\tsa\\base\\tsa_model.py:219: ValueWarning: A date index has been provided, but it has no associated frequency information and so will be ignored when e.g. forecasting.\n",
      "  ' ignored when e.g. forecasting.', ValueWarning)\n",
      "C:\\Users\\sm.woo\\Anaconda3\\lib\\site-packages\\statsmodels\\tsa\\tsatools.py:668: RuntimeWarning: invalid value encountered in true_divide\n",
      "  newparams = ((1-np.exp(-params))/(1+np.exp(-params))).copy()\n",
      "C:\\Users\\sm.woo\\Anaconda3\\lib\\site-packages\\statsmodels\\tsa\\tsatools.py:669: RuntimeWarning: invalid value encountered in true_divide\n",
      "  tmp = ((1-np.exp(-params))/(1+np.exp(-params))).copy()\n"
     ]
    },
    {
     "name": "stdout",
     "output_type": "stream",
     "text": [
      "                             ARIMA Model Results                              \n",
      "==============================================================================\n",
      "Dep. Variable:                 D.Rate   No. Observations:                  243\n",
      "Model:                 ARIMA(5, 1, 4)   Log Likelihood                -682.525\n",
      "Method:                       css-mle   S.D. of innovations              4.008\n",
      "Date:                Fri, 07 Feb 2020   AIC                           1387.049\n",
      "Time:                        15:53:03   BIC                           1425.473\n",
      "Sample:                             1   HQIC                          1402.526\n",
      "                                                                              \n",
      "================================================================================\n",
      "                   coef    std err          z      P>|z|      [0.025      0.975]\n",
      "--------------------------------------------------------------------------------\n",
      "const            0.3473      0.198      1.752      0.081      -0.041       0.736\n",
      "ar.L1.D.Rate     0.1624      0.138      1.180      0.239      -0.107       0.432\n",
      "ar.L2.D.Rate     1.2893      0.147      8.757      0.000       1.001       1.578\n",
      "ar.L3.D.Rate    -0.0094      0.130     -0.073      0.942      -0.264       0.245\n",
      "ar.L4.D.Rate    -0.7698      0.123     -6.255      0.000      -1.011      -0.529\n",
      "ar.L5.D.Rate    -0.0020      0.077     -0.026      0.980      -0.153       0.149\n",
      "ma.L1.D.Rate    -0.0901      0.123     -0.730      0.466      -0.332       0.152\n",
      "ma.L2.D.Rate    -1.3943      0.122    -11.463      0.000      -1.633      -1.156\n",
      "ma.L3.D.Rate    -0.0886      0.114     -0.777      0.438      -0.312       0.135\n",
      "ma.L4.D.Rate     0.8253      0.110      7.494      0.000       0.609       1.041\n",
      "                                    Roots                                    \n",
      "=============================================================================\n",
      "                  Real          Imaginary           Modulus         Frequency\n",
      "-----------------------------------------------------------------------------\n",
      "AR.1           -0.9988           -0.4499j            1.0954           -0.4326\n",
      "AR.2           -0.9988           +0.4499j            1.0954            0.4326\n",
      "AR.3            0.9905           -0.3187j            1.0405           -0.0496\n",
      "AR.4            0.9905           +0.3187j            1.0405            0.0496\n",
      "AR.5         -389.9915           -0.0000j          389.9915           -0.5000\n",
      "MA.1           -0.9598           -0.4210j            1.0481           -0.4342\n",
      "MA.2           -0.9598           +0.4210j            1.0481            0.4342\n",
      "MA.3            1.0135           -0.2755j            1.0503           -0.0422\n",
      "MA.4            1.0135           +0.2755j            1.0503            0.0422\n",
      "-----------------------------------------------------------------------------\n"
     ]
    }
   ],
   "source": [
    "model_13 = ARIMA(df_train, order=(5,1,4))\n",
    "model_13_fit = model_13.fit(trend='c',full_output=True, disp=1)\n",
    "print(model_13_fit.summary())"
   ]
  },
  {
   "cell_type": "code",
   "execution_count": 14,
   "metadata": {},
   "outputs": [
    {
     "name": "stderr",
     "output_type": "stream",
     "text": [
      "C:\\Users\\sm.woo\\Anaconda3\\lib\\site-packages\\statsmodels\\tsa\\base\\tsa_model.py:219: ValueWarning: A date index has been provided, but it has no associated frequency information and so will be ignored when e.g. forecasting.\n",
      "  ' ignored when e.g. forecasting.', ValueWarning)\n",
      "C:\\Users\\sm.woo\\Anaconda3\\lib\\site-packages\\statsmodels\\tsa\\base\\tsa_model.py:219: ValueWarning: A date index has been provided, but it has no associated frequency information and so will be ignored when e.g. forecasting.\n",
      "  ' ignored when e.g. forecasting.', ValueWarning)\n",
      "C:\\Users\\sm.woo\\Anaconda3\\lib\\site-packages\\statsmodels\\base\\model.py:492: HessianInversionWarning: Inverting hessian failed, no bse or cov_params available\n",
      "  'available', HessianInversionWarning)\n"
     ]
    },
    {
     "name": "stdout",
     "output_type": "stream",
     "text": [
      "                             ARIMA Model Results                              \n",
      "==============================================================================\n",
      "Dep. Variable:                 D.Rate   No. Observations:                  243\n",
      "Model:                 ARIMA(5, 1, 4)   Log Likelihood                -684.011\n",
      "Method:                       css-mle   S.D. of innovations              4.009\n",
      "Date:                Fri, 07 Feb 2020   AIC                           1388.022\n",
      "Time:                        15:53:22   BIC                           1422.953\n",
      "Sample:                             1   HQIC                          1402.092\n",
      "                                                                              \n",
      "================================================================================\n",
      "                   coef    std err          z      P>|z|      [0.025      0.975]\n",
      "--------------------------------------------------------------------------------\n",
      "ar.L1.D.Rate     0.0993      0.091      1.096      0.274      -0.078       0.277\n",
      "ar.L2.D.Rate     1.4308      0.059     24.390      0.000       1.316       1.546\n",
      "ar.L3.D.Rate    -0.0176      0.113     -0.155      0.877      -0.239       0.204\n",
      "ar.L4.D.Rate    -0.8857      0.067    -13.197      0.000      -1.017      -0.754\n",
      "ar.L5.D.Rate     0.0455      0.069      0.656      0.513      -0.091       0.182\n",
      "ma.L1.D.Rate    -0.0079      0.072     -0.109      0.913      -0.150       0.134\n",
      "ma.L2.D.Rate    -1.5055      0.057    -26.449      0.000      -1.617      -1.394\n",
      "ma.L3.D.Rate    -0.1403      0.083     -1.689      0.092      -0.303       0.022\n",
      "ma.L4.D.Rate     0.9279      0.081     11.473      0.000       0.769       1.086\n",
      "                                    Roots                                    \n",
      "=============================================================================\n",
      "                  Real          Imaginary           Modulus         Frequency\n",
      "-----------------------------------------------------------------------------\n",
      "AR.1           -0.9527           -0.3913j            1.0299           -0.4380\n",
      "AR.2           -0.9527           +0.3913j            1.0299            0.4380\n",
      "AR.3            0.9846           -0.3137j            1.0334           -0.0491\n",
      "AR.4            0.9846           +0.3137j            1.0334            0.0491\n",
      "AR.5           19.3908           -0.0000j           19.3908           -0.0000\n",
      "MA.1           -0.9247           -0.3809j            1.0001           -0.4378\n",
      "MA.2           -0.9247           +0.3809j            1.0001            0.4378\n",
      "MA.3            1.0003           -0.2770j            1.0380           -0.0430\n",
      "MA.4            1.0003           +0.2770j            1.0380            0.0430\n",
      "-----------------------------------------------------------------------------\n"
     ]
    }
   ],
   "source": [
    "model_14 = ARIMA(df_train, order=(5,1,4))\n",
    "model_14_fit = model_14.fit(trend='nc',full_output=True, disp=1)\n",
    "print(model_14_fit.summary())"
   ]
  },
  {
   "cell_type": "code",
   "execution_count": 15,
   "metadata": {},
   "outputs": [
    {
     "name": "stderr",
     "output_type": "stream",
     "text": [
      "C:\\Users\\sm.woo\\Anaconda3\\lib\\site-packages\\statsmodels\\tsa\\base\\tsa_model.py:219: ValueWarning: A date index has been provided, but it has no associated frequency information and so will be ignored when e.g. forecasting.\n",
      "  ' ignored when e.g. forecasting.', ValueWarning)\n",
      "C:\\Users\\sm.woo\\Anaconda3\\lib\\site-packages\\statsmodels\\tsa\\base\\tsa_model.py:219: ValueWarning: A date index has been provided, but it has no associated frequency information and so will be ignored when e.g. forecasting.\n",
      "  ' ignored when e.g. forecasting.', ValueWarning)\n"
     ]
    },
    {
     "name": "stdout",
     "output_type": "stream",
     "text": [
      "                             ARIMA Model Results                              \n",
      "==============================================================================\n",
      "Dep. Variable:                 D.Rate   No. Observations:                  243\n",
      "Model:                 ARIMA(5, 1, 3)   Log Likelihood                -685.555\n",
      "Method:                       css-mle   S.D. of innovations              4.063\n",
      "Date:                Fri, 07 Feb 2020   AIC                           1389.110\n",
      "Time:                        15:53:26   BIC                           1420.547\n",
      "Sample:                             1   HQIC                          1401.772\n",
      "                                                                              \n",
      "================================================================================\n",
      "                   coef    std err          z      P>|z|      [0.025      0.975]\n",
      "--------------------------------------------------------------------------------\n",
      "ar.L1.D.Rate    -0.4362      0.360     -1.213      0.226      -1.141       0.268\n",
      "ar.L2.D.Rate     0.5272      0.196      2.695      0.008       0.144       0.910\n",
      "ar.L3.D.Rate     0.3293      0.294      1.122      0.263      -0.246       0.905\n",
      "ar.L4.D.Rate    -0.1146      0.084     -1.368      0.173      -0.279       0.050\n",
      "ar.L5.D.Rate    -0.1696      0.069     -2.459      0.015      -0.305      -0.034\n",
      "ma.L1.D.Rate     0.5358      0.366      1.464      0.145      -0.181       1.253\n",
      "ma.L2.D.Rate    -0.5160      0.196     -2.633      0.009      -0.900      -0.132\n",
      "ma.L3.D.Rate    -0.3705      0.321     -1.153      0.250      -1.000       0.259\n",
      "                                    Roots                                    \n",
      "=============================================================================\n",
      "                  Real          Imaginary           Modulus         Frequency\n",
      "-----------------------------------------------------------------------------\n",
      "AR.1            1.3299           -0.5615j            1.4435           -0.0636\n",
      "AR.2            1.3299           +0.5615j            1.4435            0.0636\n",
      "AR.3           -1.0299           -1.0758j            1.4893           -0.3715\n",
      "AR.4           -1.0299           +1.0758j            1.4893            0.3715\n",
      "AR.5           -1.2756           -0.0000j            1.2756           -0.5000\n",
      "MA.1            1.3039           -0.0000j            1.3039           -0.0000\n",
      "MA.2           -1.3483           -0.5021j            1.4388           -0.4433\n",
      "MA.3           -1.3483           +0.5021j            1.4388            0.4433\n",
      "-----------------------------------------------------------------------------\n"
     ]
    }
   ],
   "source": [
    "model_15 = ARIMA(df_train, order=(5,1,3))\n",
    "model_15_fit = model_15.fit(trend='nc',full_output=True, disp=1)\n",
    "print(model_15_fit.summary())"
   ]
  },
  {
   "cell_type": "code",
   "execution_count": 16,
   "metadata": {},
   "outputs": [
    {
     "name": "stderr",
     "output_type": "stream",
     "text": [
      "C:\\Users\\sm.woo\\Anaconda3\\lib\\site-packages\\statsmodels\\tsa\\base\\tsa_model.py:219: ValueWarning: A date index has been provided, but it has no associated frequency information and so will be ignored when e.g. forecasting.\n",
      "  ' ignored when e.g. forecasting.', ValueWarning)\n",
      "C:\\Users\\sm.woo\\Anaconda3\\lib\\site-packages\\statsmodels\\tsa\\base\\tsa_model.py:219: ValueWarning: A date index has been provided, but it has no associated frequency information and so will be ignored when e.g. forecasting.\n",
      "  ' ignored when e.g. forecasting.', ValueWarning)\n"
     ]
    },
    {
     "name": "stdout",
     "output_type": "stream",
     "text": [
      "                             ARIMA Model Results                              \n",
      "==============================================================================\n",
      "Dep. Variable:                 D.Rate   No. Observations:                  243\n",
      "Model:                 ARIMA(5, 1, 3)   Log Likelihood                -683.849\n",
      "Method:                       css-mle   S.D. of innovations              4.034\n",
      "Date:                Fri, 07 Feb 2020   AIC                           1387.699\n",
      "Time:                        15:53:29   BIC                           1422.629\n",
      "Sample:                             1   HQIC                          1401.769\n",
      "                                                                              \n",
      "================================================================================\n",
      "                   coef    std err          z      P>|z|      [0.025      0.975]\n",
      "--------------------------------------------------------------------------------\n",
      "const            0.3388      0.173      1.957      0.052      -0.001       0.678\n",
      "ar.L1.D.Rate    -0.4113      0.356     -1.156      0.249      -1.109       0.286\n",
      "ar.L2.D.Rate     0.5619      0.174      3.232      0.001       0.221       0.903\n",
      "ar.L3.D.Rate     0.3409      0.292      1.169      0.244      -0.231       0.913\n",
      "ar.L4.D.Rate    -0.1206      0.085     -1.417      0.158      -0.287       0.046\n",
      "ar.L5.D.Rate    -0.1730      0.069     -2.503      0.013      -0.308      -0.038\n",
      "ma.L1.D.Rate     0.4974      0.362      1.373      0.171      -0.213       1.208\n",
      "ma.L2.D.Rate    -0.5730      0.169     -3.385      0.001      -0.905      -0.241\n",
      "ma.L3.D.Rate    -0.3957      0.324     -1.222      0.223      -1.030       0.239\n",
      "                                    Roots                                    \n",
      "=============================================================================\n",
      "                  Real          Imaginary           Modulus         Frequency\n",
      "-----------------------------------------------------------------------------\n",
      "AR.1            1.3253           -0.5280j            1.4266           -0.0603\n",
      "AR.2            1.3253           +0.5280j            1.4266            0.0603\n",
      "AR.3           -1.0348           -1.0731j            1.4908           -0.3721\n",
      "AR.4           -1.0348           +1.0731j            1.4908            0.3721\n",
      "AR.5           -1.2782           -0.0000j            1.2782           -0.5000\n",
      "MA.1            1.2332           -0.0000j            1.2332           -0.0000\n",
      "MA.2           -1.3406           -0.5022j            1.4315           -0.4430\n",
      "MA.3           -1.3406           +0.5022j            1.4315            0.4430\n",
      "-----------------------------------------------------------------------------\n"
     ]
    }
   ],
   "source": [
    "model_16 = ARIMA(df_train, order=(5,1,3))\n",
    "model_16_fit = model_16.fit(trend='c',full_output=True, disp=1)\n",
    "print(model_16_fit.summary())"
   ]
  },
  {
   "cell_type": "code",
   "execution_count": 17,
   "metadata": {},
   "outputs": [
    {
     "name": "stderr",
     "output_type": "stream",
     "text": [
      "C:\\Users\\sm.woo\\Anaconda3\\lib\\site-packages\\statsmodels\\tsa\\base\\tsa_model.py:219: ValueWarning: A date index has been provided, but it has no associated frequency information and so will be ignored when e.g. forecasting.\n",
      "  ' ignored when e.g. forecasting.', ValueWarning)\n",
      "C:\\Users\\sm.woo\\Anaconda3\\lib\\site-packages\\statsmodels\\tsa\\base\\tsa_model.py:219: ValueWarning: A date index has been provided, but it has no associated frequency information and so will be ignored when e.g. forecasting.\n",
      "  ' ignored when e.g. forecasting.', ValueWarning)\n"
     ]
    },
    {
     "name": "stdout",
     "output_type": "stream",
     "text": [
      "                             ARIMA Model Results                              \n",
      "==============================================================================\n",
      "Dep. Variable:                 D.Rate   No. Observations:                  243\n",
      "Model:                 ARIMA(5, 1, 2)   Log Likelihood                -684.498\n",
      "Method:                       css-mle   S.D. of innovations              4.045\n",
      "Date:                Fri, 07 Feb 2020   AIC                           1386.996\n",
      "Time:                        15:53:30   BIC                           1418.433\n",
      "Sample:                             1   HQIC                          1399.659\n",
      "                                                                              \n",
      "================================================================================\n",
      "                   coef    std err          z      P>|z|      [0.025      0.975]\n",
      "--------------------------------------------------------------------------------\n",
      "const            0.3395      0.175      1.935      0.054      -0.004       0.683\n",
      "ar.L1.D.Rate     0.0064      0.201      0.032      0.975      -0.387       0.400\n",
      "ar.L2.D.Rate     0.5792      0.179      3.232      0.001       0.228       0.931\n",
      "ar.L3.D.Rate    -0.0282      0.076     -0.369      0.713      -0.178       0.122\n",
      "ar.L4.D.Rate    -0.0621      0.067     -0.920      0.358      -0.194       0.070\n",
      "ar.L5.D.Rate    -0.1582      0.069     -2.290      0.023      -0.293      -0.023\n",
      "ma.L1.D.Rate     0.0680      0.196      0.346      0.729      -0.317       0.453\n",
      "ma.L2.D.Rate    -0.6256      0.171     -3.653      0.000      -0.961      -0.290\n",
      "                                    Roots                                    \n",
      "=============================================================================\n",
      "                  Real          Imaginary           Modulus         Frequency\n",
      "-----------------------------------------------------------------------------\n",
      "AR.1            1.1922           -0.5453j            1.3110           -0.0683\n",
      "AR.2            1.1922           +0.5453j            1.3110            0.0683\n",
      "AR.3           -1.1454           -0.0000j            1.1454           -0.5000\n",
      "AR.4           -0.8157           -1.5958j            1.7922           -0.3252\n",
      "AR.5           -0.8157           +1.5958j            1.7922            0.3252\n",
      "MA.1           -1.2111           +0.0000j            1.2111            0.5000\n",
      "MA.2            1.3198           +0.0000j            1.3198            0.0000\n",
      "-----------------------------------------------------------------------------\n"
     ]
    }
   ],
   "source": [
    "model_17 = ARIMA(df_train, order=(5,1,2))\n",
    "model_17_fit = model_17.fit(trend='c',full_output=True, disp=1)\n",
    "print(model_17_fit.summary())"
   ]
  },
  {
   "cell_type": "code",
   "execution_count": 18,
   "metadata": {},
   "outputs": [
    {
     "name": "stderr",
     "output_type": "stream",
     "text": [
      "C:\\Users\\sm.woo\\Anaconda3\\lib\\site-packages\\statsmodels\\tsa\\base\\tsa_model.py:219: ValueWarning: A date index has been provided, but it has no associated frequency information and so will be ignored when e.g. forecasting.\n",
      "  ' ignored when e.g. forecasting.', ValueWarning)\n",
      "C:\\Users\\sm.woo\\Anaconda3\\lib\\site-packages\\statsmodels\\tsa\\base\\tsa_model.py:219: ValueWarning: A date index has been provided, but it has no associated frequency information and so will be ignored when e.g. forecasting.\n",
      "  ' ignored when e.g. forecasting.', ValueWarning)\n"
     ]
    },
    {
     "name": "stdout",
     "output_type": "stream",
     "text": [
      "                             ARIMA Model Results                              \n",
      "==============================================================================\n",
      "Dep. Variable:                 D.Rate   No. Observations:                  243\n",
      "Model:                 ARIMA(5, 1, 2)   Log Likelihood                -686.164\n",
      "Method:                       css-mle   S.D. of innovations              4.073\n",
      "Date:                Fri, 07 Feb 2020   AIC                           1388.328\n",
      "Time:                        15:53:33   BIC                           1416.273\n",
      "Sample:                             1   HQIC                          1399.584\n",
      "                                                                              \n",
      "================================================================================\n",
      "                   coef    std err          z      P>|z|      [0.025      0.975]\n",
      "--------------------------------------------------------------------------------\n",
      "ar.L1.D.Rate    -0.0509      0.252     -0.202      0.840      -0.545       0.443\n",
      "ar.L2.D.Rate     0.5341      0.217      2.457      0.015       0.108       0.960\n",
      "ar.L3.D.Rate    -0.0208      0.076     -0.273      0.785      -0.170       0.129\n",
      "ar.L4.D.Rate    -0.0627      0.068     -0.920      0.359      -0.196       0.071\n",
      "ar.L5.D.Rate    -0.1593      0.069     -2.293      0.023      -0.296      -0.023\n",
      "ma.L1.D.Rate     0.1397      0.252      0.555      0.580      -0.354       0.633\n",
      "ma.L2.D.Rate    -0.5603      0.224     -2.504      0.013      -0.999      -0.122\n",
      "                                    Roots                                    \n",
      "=============================================================================\n",
      "                  Real          Imaginary           Modulus         Frequency\n",
      "-----------------------------------------------------------------------------\n",
      "AR.1            1.1898           -0.5934j            1.3295           -0.0736\n",
      "AR.2            1.1898           +0.5934j            1.3295            0.0736\n",
      "AR.3           -1.1469           -0.0000j            1.1469           -0.5000\n",
      "AR.4           -0.8130           -1.5605j            1.7595           -0.3264\n",
      "AR.5           -0.8130           +1.5605j            1.7595            0.3264\n",
      "MA.1           -1.2171           +0.0000j            1.2171            0.5000\n",
      "MA.2            1.4664           +0.0000j            1.4664            0.0000\n",
      "-----------------------------------------------------------------------------\n"
     ]
    }
   ],
   "source": [
    "model_18 = ARIMA(df_train, order=(5,1,2))\n",
    "model_18_fit = model_18.fit(trend='nc',full_output=True, disp=1)\n",
    "print(model_18_fit.summary())"
   ]
  },
  {
   "cell_type": "code",
   "execution_count": 19,
   "metadata": {},
   "outputs": [
    {
     "name": "stderr",
     "output_type": "stream",
     "text": [
      "C:\\Users\\sm.woo\\Anaconda3\\lib\\site-packages\\statsmodels\\tsa\\base\\tsa_model.py:219: ValueWarning: A date index has been provided, but it has no associated frequency information and so will be ignored when e.g. forecasting.\n",
      "  ' ignored when e.g. forecasting.', ValueWarning)\n",
      "C:\\Users\\sm.woo\\Anaconda3\\lib\\site-packages\\statsmodels\\tsa\\base\\tsa_model.py:219: ValueWarning: A date index has been provided, but it has no associated frequency information and so will be ignored when e.g. forecasting.\n",
      "  ' ignored when e.g. forecasting.', ValueWarning)\n"
     ]
    },
    {
     "name": "stdout",
     "output_type": "stream",
     "text": [
      "                             ARIMA Model Results                              \n",
      "==============================================================================\n",
      "Dep. Variable:                 D.Rate   No. Observations:                  243\n",
      "Model:                 ARIMA(5, 1, 1)   Log Likelihood                -686.721\n",
      "Method:                       css-mle   S.D. of innovations              4.083\n",
      "Date:                Fri, 07 Feb 2020   AIC                           1387.441\n",
      "Time:                        15:53:38   BIC                           1411.893\n",
      "Sample:                             1   HQIC                          1397.290\n",
      "                                                                              \n",
      "================================================================================\n",
      "                   coef    std err          z      P>|z|      [0.025      0.975]\n",
      "--------------------------------------------------------------------------------\n",
      "ar.L1.D.Rate    -0.6123      0.229     -2.674      0.008      -1.061      -0.164\n",
      "ar.L2.D.Rate     0.0497      0.078      0.637      0.525      -0.103       0.203\n",
      "ar.L3.D.Rate     0.0226      0.076      0.299      0.765      -0.126       0.171\n",
      "ar.L4.D.Rate    -0.0768      0.077     -1.002      0.318      -0.227       0.074\n",
      "ar.L5.D.Rate    -0.1646      0.064     -2.553      0.011      -0.291      -0.038\n",
      "ma.L1.D.Rate     0.7203      0.226      3.186      0.002       0.277       1.163\n",
      "                                    Roots                                    \n",
      "=============================================================================\n",
      "                  Real          Imaginary           Modulus         Frequency\n",
      "-----------------------------------------------------------------------------\n",
      "AR.1            1.1723           -1.0037j            1.5433           -0.1127\n",
      "AR.2            1.1723           +1.0037j            1.5433            0.1127\n",
      "AR.3           -1.1901           -0.0000j            1.1901           -0.5000\n",
      "AR.4           -0.8106           -1.2190j            1.4639           -0.3434\n",
      "AR.5           -0.8106           +1.2190j            1.4639            0.3434\n",
      "MA.1           -1.3883           +0.0000j            1.3883            0.5000\n",
      "-----------------------------------------------------------------------------\n"
     ]
    }
   ],
   "source": [
    "model_19 = ARIMA(df_train, order=(5,1,1))\n",
    "model_19_fit = model_19.fit(trend='nc',full_output=True, disp=1)\n",
    "print(model_19_fit.summary())"
   ]
  },
  {
   "cell_type": "code",
   "execution_count": 20,
   "metadata": {},
   "outputs": [
    {
     "name": "stderr",
     "output_type": "stream",
     "text": [
      "C:\\Users\\sm.woo\\Anaconda3\\lib\\site-packages\\statsmodels\\tsa\\base\\tsa_model.py:219: ValueWarning: A date index has been provided, but it has no associated frequency information and so will be ignored when e.g. forecasting.\n",
      "  ' ignored when e.g. forecasting.', ValueWarning)\n",
      "C:\\Users\\sm.woo\\Anaconda3\\lib\\site-packages\\statsmodels\\tsa\\base\\tsa_model.py:219: ValueWarning: A date index has been provided, but it has no associated frequency information and so will be ignored when e.g. forecasting.\n",
      "  ' ignored when e.g. forecasting.', ValueWarning)\n"
     ]
    },
    {
     "name": "stdout",
     "output_type": "stream",
     "text": [
      "                             ARIMA Model Results                              \n",
      "==============================================================================\n",
      "Dep. Variable:                 D.Rate   No. Observations:                  243\n",
      "Model:                 ARIMA(5, 1, 1)   Log Likelihood                -685.675\n",
      "Method:                       css-mle   S.D. of innovations              4.065\n",
      "Date:                Fri, 07 Feb 2020   AIC                           1387.350\n",
      "Time:                        15:53:41   BIC                           1415.294\n",
      "Sample:                             1   HQIC                          1398.606\n",
      "                                                                              \n",
      "================================================================================\n",
      "                   coef    std err          z      P>|z|      [0.025      0.975]\n",
      "--------------------------------------------------------------------------------\n",
      "const            0.3606      0.246      1.464      0.144      -0.122       0.843\n",
      "ar.L1.D.Rate    -0.6120      0.236     -2.590      0.010      -1.075      -0.149\n",
      "ar.L2.D.Rate     0.0376      0.078      0.483      0.629      -0.115       0.190\n",
      "ar.L3.D.Rate     0.0125      0.075      0.166      0.868      -0.135       0.160\n",
      "ar.L4.D.Rate    -0.0865      0.076     -1.134      0.258      -0.236       0.063\n",
      "ar.L5.D.Rate    -0.1701      0.064     -2.644      0.009      -0.296      -0.044\n",
      "ma.L1.D.Rate     0.7127      0.234      3.043      0.003       0.254       1.172\n",
      "                                    Roots                                    \n",
      "=============================================================================\n",
      "                  Real          Imaginary           Modulus         Frequency\n",
      "-----------------------------------------------------------------------------\n",
      "AR.1            1.1481           -1.0045j            1.5255           -0.1144\n",
      "AR.2            1.1481           +1.0045j            1.5255            0.1144\n",
      "AR.3           -1.1941           -0.0000j            1.1941           -0.5000\n",
      "AR.4           -0.8054           -1.2114j            1.4547           -0.3434\n",
      "AR.5           -0.8054           +1.2114j            1.4547            0.3434\n",
      "MA.1           -1.4031           +0.0000j            1.4031            0.5000\n",
      "-----------------------------------------------------------------------------\n"
     ]
    }
   ],
   "source": [
    "model_20 = ARIMA(df_train, order=(5,1,1))\n",
    "model_20_fit = model_20.fit(trend='c',full_output=True, disp=1)\n",
    "print(model_20_fit.summary())"
   ]
  },
  {
   "cell_type": "code",
   "execution_count": 21,
   "metadata": {},
   "outputs": [
    {
     "name": "stderr",
     "output_type": "stream",
     "text": [
      "C:\\Users\\sm.woo\\Anaconda3\\lib\\site-packages\\statsmodels\\tsa\\base\\tsa_model.py:219: ValueWarning: A date index has been provided, but it has no associated frequency information and so will be ignored when e.g. forecasting.\n",
      "  ' ignored when e.g. forecasting.', ValueWarning)\n",
      "C:\\Users\\sm.woo\\Anaconda3\\lib\\site-packages\\statsmodels\\tsa\\base\\tsa_model.py:219: ValueWarning: A date index has been provided, but it has no associated frequency information and so will be ignored when e.g. forecasting.\n",
      "  ' ignored when e.g. forecasting.', ValueWarning)\n"
     ]
    },
    {
     "name": "stdout",
     "output_type": "stream",
     "text": [
      "                             ARIMA Model Results                              \n",
      "==============================================================================\n",
      "Dep. Variable:                 D.Rate   No. Observations:                  243\n",
      "Model:                 ARIMA(5, 1, 5)   Log Likelihood                -683.988\n",
      "Method:                       css-mle   S.D. of innovations              4.032\n",
      "Date:                Fri, 07 Feb 2020   AIC                           1389.977\n",
      "Time:                        15:53:52   BIC                           1428.401\n",
      "Sample:                             1   HQIC                          1405.454\n",
      "                                                                              \n",
      "================================================================================\n",
      "                   coef    std err          z      P>|z|      [0.025      0.975]\n",
      "--------------------------------------------------------------------------------\n",
      "ar.L1.D.Rate    -0.4837      2.631     -0.184      0.854      -5.640       4.673\n",
      "ar.L2.D.Rate     1.4269      0.496      2.875      0.004       0.454       2.400\n",
      "ar.L3.D.Rate     0.8389      3.427      0.245      0.807      -5.877       7.555\n",
      "ar.L4.D.Rate    -0.8054      0.140     -5.737      0.000      -1.081      -0.530\n",
      "ar.L5.D.Rate    -0.5217      2.063     -0.253      0.801      -4.566       3.523\n",
      "ma.L1.D.Rate     0.5630      2.626      0.214      0.830      -4.584       5.710\n",
      "ma.L2.D.Rate    -1.4771      0.300     -4.919      0.000      -2.066      -0.889\n",
      "ma.L3.D.Rate    -1.0070      3.686     -0.273      0.785      -8.231       6.217\n",
      "ma.L4.D.Rate     0.8016      0.218      3.682      0.000       0.375       1.228\n",
      "ma.L5.D.Rate     0.5655      2.216      0.255      0.799      -3.778       4.909\n",
      "                                    Roots                                    \n",
      "=============================================================================\n",
      "                  Real          Imaginary           Modulus         Frequency\n",
      "-----------------------------------------------------------------------------\n",
      "AR.1            0.9812           -0.3145j            1.0304           -0.0494\n",
      "AR.2            0.9812           +0.3145j            1.0304            0.0494\n",
      "AR.3           -0.9994           -0.4461j            1.0944           -0.4332\n",
      "AR.4           -0.9994           +0.4461j            1.0944            0.4332\n",
      "AR.5           -1.5075           -0.0000j            1.5075           -0.5000\n",
      "MA.1            0.9993           -0.2804j            1.0379           -0.0435\n",
      "MA.2            0.9993           +0.2804j            1.0379            0.0435\n",
      "MA.3           -0.9596           -0.4191j            1.0472           -0.4345\n",
      "MA.4           -0.9596           +0.4191j            1.0472            0.4345\n",
      "MA.5           -1.4971           -0.0000j            1.4971           -0.5000\n",
      "-----------------------------------------------------------------------------\n"
     ]
    }
   ],
   "source": [
    "model_21 = ARIMA(df_train, order=(5,1,5))\n",
    "model_21_fit = model_21.fit(trend='nc',full_output=True, disp=1)\n",
    "print(model_21_fit.summary())"
   ]
  },
  {
   "cell_type": "code",
   "execution_count": 22,
   "metadata": {},
   "outputs": [
    {
     "name": "stderr",
     "output_type": "stream",
     "text": [
      "C:\\Users\\sm.woo\\Anaconda3\\lib\\site-packages\\statsmodels\\tsa\\base\\tsa_model.py:219: ValueWarning: A date index has been provided, but it has no associated frequency information and so will be ignored when e.g. forecasting.\n",
      "  ' ignored when e.g. forecasting.', ValueWarning)\n",
      "C:\\Users\\sm.woo\\Anaconda3\\lib\\site-packages\\statsmodels\\tsa\\base\\tsa_model.py:219: ValueWarning: A date index has been provided, but it has no associated frequency information and so will be ignored when e.g. forecasting.\n",
      "  ' ignored when e.g. forecasting.', ValueWarning)\n"
     ]
    },
    {
     "name": "stdout",
     "output_type": "stream",
     "text": [
      "                             ARIMA Model Results                              \n",
      "==============================================================================\n",
      "Dep. Variable:                 D.Rate   No. Observations:                  243\n",
      "Model:                 ARIMA(5, 1, 5)   Log Likelihood                -682.518\n",
      "Method:                       css-mle   S.D. of innovations              4.008\n",
      "Date:                Fri, 07 Feb 2020   AIC                           1389.037\n",
      "Time:                        15:54:01   BIC                           1430.953\n",
      "Sample:                             1   HQIC                          1405.920\n",
      "                                                                              \n",
      "================================================================================\n",
      "                   coef    std err          z      P>|z|      [0.025      0.975]\n",
      "--------------------------------------------------------------------------------\n",
      "const            0.3472      0.198      1.758      0.080      -0.040       0.734\n",
      "ar.L1.D.Rate    -0.1505      2.049     -0.073      0.941      -4.166       3.864\n",
      "ar.L2.D.Rate     1.3348      0.359      3.721      0.000       0.632       2.038\n",
      "ar.L3.D.Rate     0.3976      2.639      0.151      0.880      -4.776       5.571\n",
      "ar.L4.D.Rate    -0.7676      0.122     -6.273      0.000      -1.007      -0.528\n",
      "ar.L5.D.Rate    -0.2491      1.578     -0.158      0.875      -3.341       2.843\n",
      "ma.L1.D.Rate     0.2194      2.051      0.107      0.915      -3.801       4.240\n",
      "ma.L2.D.Rate    -1.4174      0.219     -6.468      0.000      -1.847      -0.988\n",
      "ma.L3.D.Rate    -0.5207      2.859     -0.182      0.856      -6.125       5.084\n",
      "ma.L4.D.Rate     0.7929      0.222      3.576      0.000       0.358       1.228\n",
      "ma.L5.D.Rate     0.2577      1.693      0.152      0.879      -3.061       3.577\n",
      "                                    Roots                                    \n",
      "=============================================================================\n",
      "                  Real          Imaginary           Modulus         Frequency\n",
      "-----------------------------------------------------------------------------\n",
      "AR.1            0.9901           -0.3192j            1.0403           -0.0496\n",
      "AR.2            0.9901           +0.3192j            1.0403            0.0496\n",
      "AR.3           -1.0035           -0.4552j            1.1019           -0.4322\n",
      "AR.4           -1.0035           +0.4552j            1.1019            0.4322\n",
      "AR.5           -3.0543           -0.0000j            3.0543           -0.5000\n",
      "MA.1            1.0138           -0.2762j            1.0508           -0.0423\n",
      "MA.2            1.0138           +0.2762j            1.0508            0.0423\n",
      "MA.3           -0.9623           -0.4233j            1.0513           -0.4341\n",
      "MA.4           -0.9623           +0.4233j            1.0513            0.4341\n",
      "MA.5           -3.1804           -0.0000j            3.1804           -0.5000\n",
      "-----------------------------------------------------------------------------\n"
     ]
    }
   ],
   "source": [
    "model_22 = ARIMA(df_train, order=(5,1,5))\n",
    "model_22_fit = model_22.fit(trend='c',full_output=True, disp=1)\n",
    "print(model_22_fit.summary())"
   ]
  },
  {
   "cell_type": "code",
   "execution_count": 23,
   "metadata": {},
   "outputs": [
    {
     "name": "stderr",
     "output_type": "stream",
     "text": [
      "C:\\Users\\sm.woo\\Anaconda3\\lib\\site-packages\\statsmodels\\tsa\\base\\tsa_model.py:219: ValueWarning: A date index has been provided, but it has no associated frequency information and so will be ignored when e.g. forecasting.\n",
      "  ' ignored when e.g. forecasting.', ValueWarning)\n",
      "C:\\Users\\sm.woo\\Anaconda3\\lib\\site-packages\\statsmodels\\base\\model.py:492: HessianInversionWarning: Inverting hessian failed, no bse or cov_params available\n",
      "  'available', HessianInversionWarning)\n",
      "C:\\Users\\sm.woo\\Anaconda3\\lib\\site-packages\\statsmodels\\base\\model.py:512: ConvergenceWarning: Maximum Likelihood optimization failed to converge. Check mle_retvals\n",
      "  \"Check mle_retvals\", ConvergenceWarning)\n"
     ]
    },
    {
     "name": "stdout",
     "output_type": "stream",
     "text": [
      "                              ARMA Model Results                              \n",
      "==============================================================================\n",
      "Dep. Variable:                   Rate   No. Observations:                  244\n",
      "Model:                     ARMA(5, 5)   Log Likelihood                -693.191\n",
      "Method:                       css-mle   S.D. of innovations              4.081\n",
      "Date:                Fri, 07 Feb 2020   AIC                           1410.381\n",
      "Time:                        15:54:17   BIC                           1452.347\n",
      "Sample:                             0   HQIC                          1427.283\n",
      "                                                                              \n",
      "==============================================================================\n",
      "                 coef    std err          z      P>|z|      [0.025      0.975]\n",
      "------------------------------------------------------------------------------\n",
      "const       1130.8787        nan        nan        nan         nan         nan\n",
      "ar.L1.Rate    -0.4576        nan        nan        nan         nan         nan\n",
      "ar.L2.Rate     1.8291        nan        nan        nan         nan         nan\n",
      "ar.L3.Rate     1.0916        nan        nan        nan         nan         nan\n",
      "ar.L4.Rate    -0.9146        nan        nan        nan         nan         nan\n",
      "ar.L5.Rate    -0.5494        nan        nan        nan         nan         nan\n",
      "ma.L1.Rate     1.5798        nan        nan        nan         nan         nan\n",
      "ma.L2.Rate    -0.2543        nan        nan        nan         nan         nan\n",
      "ma.L3.Rate    -1.5927        nan        nan        nan         nan         nan\n",
      "ma.L4.Rate    -0.7094        nan        nan        nan         nan         nan\n",
      "ma.L5.Rate    -0.0235        nan        nan        nan         nan         nan\n",
      "                                    Roots                                    \n",
      "=============================================================================\n",
      "                  Real          Imaginary           Modulus         Frequency\n",
      "-----------------------------------------------------------------------------\n",
      "AR.1            1.0060           -0.0113j            1.0060           -0.0018\n",
      "AR.2            1.0060           +0.0113j            1.0060            0.0018\n",
      "AR.3           -0.9619           -0.3174j            1.0129           -0.4493\n",
      "AR.4           -0.9619           +0.3174j            1.0129            0.4493\n",
      "AR.5           -1.7528           -0.0000j            1.7528           -0.5000\n",
      "MA.1            1.0000           -0.0000j            1.0000           -0.0000\n",
      "MA.2           -0.9457           -0.3250j            1.0000           -0.4473\n",
      "MA.3           -0.9457           +0.3250j            1.0000            0.4473\n",
      "MA.4           -1.5329           -0.0000j            1.5329           -0.5000\n",
      "MA.5          -27.7518           -0.0000j           27.7518           -0.5000\n",
      "-----------------------------------------------------------------------------\n"
     ]
    },
    {
     "name": "stderr",
     "output_type": "stream",
     "text": [
      "C:\\Users\\sm.woo\\Anaconda3\\lib\\site-packages\\statsmodels\\tsa\\arima_model.py:1441: RuntimeWarning: invalid value encountered in sqrt\n",
      "  return np.sqrt(np.diag(-inv(hess)))\n",
      "C:\\Users\\sm.woo\\Anaconda3\\lib\\site-packages\\scipy\\stats\\_distn_infrastructure.py:901: RuntimeWarning: invalid value encountered in greater\n",
      "  return (a < x) & (x < b)\n",
      "C:\\Users\\sm.woo\\Anaconda3\\lib\\site-packages\\scipy\\stats\\_distn_infrastructure.py:901: RuntimeWarning: invalid value encountered in less\n",
      "  return (a < x) & (x < b)\n",
      "C:\\Users\\sm.woo\\Anaconda3\\lib\\site-packages\\scipy\\stats\\_distn_infrastructure.py:1892: RuntimeWarning: invalid value encountered in less_equal\n",
      "  cond2 = cond0 & (x <= _a)\n"
     ]
    }
   ],
   "source": [
    "model_23 = ARIMA(df_train, order=(5,0,5))\n",
    "model_23_fit = model_23.fit(trend='c',full_output=True, disp=1)\n",
    "print(model_23_fit.summary())"
   ]
  },
  {
   "cell_type": "code",
   "execution_count": 24,
   "metadata": {},
   "outputs": [
    {
     "name": "stderr",
     "output_type": "stream",
     "text": [
      "C:\\Users\\sm.woo\\Anaconda3\\lib\\site-packages\\statsmodels\\tsa\\base\\tsa_model.py:219: ValueWarning: A date index has been provided, but it has no associated frequency information and so will be ignored when e.g. forecasting.\n",
      "  ' ignored when e.g. forecasting.', ValueWarning)\n"
     ]
    },
    {
     "name": "stdout",
     "output_type": "stream",
     "text": [
      "                              ARMA Model Results                              \n",
      "==============================================================================\n",
      "Dep. Variable:                   Rate   No. Observations:                  244\n",
      "Model:                     ARMA(5, 0)   Log Likelihood                -699.258\n",
      "Method:                       css-mle   S.D. of innovations              4.102\n",
      "Date:                Fri, 07 Feb 2020   AIC                           1410.516\n",
      "Time:                        15:54:22   BIC                           1431.499\n",
      "Sample:                             0   HQIC                          1418.966\n",
      "                                                                              \n",
      "==============================================================================\n",
      "                 coef    std err          z      P>|z|      [0.025      0.975]\n",
      "------------------------------------------------------------------------------\n",
      "ar.L1.Rate     1.1066   1.08e-05   1.02e+05      0.000       1.107       1.107\n",
      "ar.L2.Rate    -0.1328   2.26e-06  -5.87e+04      0.000      -0.133      -0.133\n",
      "ar.L3.Rate     0.0720   1.03e-06   7.01e+04      0.000       0.072       0.072\n",
      "ar.L4.Rate    -0.1592   1.24e-06  -1.28e+05      0.000      -0.159      -0.159\n",
      "ar.L5.Rate     0.1133   1.77e-06   6.39e+04      0.000       0.113       0.113\n",
      "                                    Roots                                    \n",
      "=============================================================================\n",
      "                  Real          Imaginary           Modulus         Frequency\n",
      "-----------------------------------------------------------------------------\n",
      "AR.1            1.0000           -0.0000j            1.0000           -0.0000\n",
      "AR.2           -1.0980           -1.3081j            1.7078           -0.3611\n",
      "AR.3           -1.0980           +1.3081j            1.7078            0.3611\n",
      "AR.4            1.3006           -1.1553j            1.7396           -0.1156\n",
      "AR.5            1.3006           +1.1553j            1.7396            0.1156\n",
      "-----------------------------------------------------------------------------\n"
     ]
    }
   ],
   "source": [
    "#non값 사용 불가능\n",
    "model_24 = ARIMA(df_train, order=(5,0,0))\n",
    "model_24_fit = model_24.fit(trend='nc',full_output=True, disp=1)\n",
    "print(model_24_fit.summary())"
   ]
  },
  {
   "cell_type": "code",
   "execution_count": 25,
   "metadata": {},
   "outputs": [
    {
     "name": "stderr",
     "output_type": "stream",
     "text": [
      "C:\\Users\\sm.woo\\Anaconda3\\lib\\site-packages\\statsmodels\\tsa\\base\\tsa_model.py:219: ValueWarning: A date index has been provided, but it has no associated frequency information and so will be ignored when e.g. forecasting.\n",
      "  ' ignored when e.g. forecasting.', ValueWarning)\n"
     ]
    },
    {
     "name": "stdout",
     "output_type": "stream",
     "text": [
      "                              ARMA Model Results                              \n",
      "==============================================================================\n",
      "Dep. Variable:                   Rate   No. Observations:                  244\n",
      "Model:                     ARMA(5, 0)   Log Likelihood                -692.766\n",
      "Method:                       css-mle   S.D. of innovations              4.105\n",
      "Date:                Fri, 07 Feb 2020   AIC                           1399.532\n",
      "Time:                        15:54:24   BIC                           1424.012\n",
      "Sample:                             0   HQIC                          1409.392\n",
      "                                                                              \n",
      "==============================================================================\n",
      "                 coef    std err          z      P>|z|      [0.025      0.975]\n",
      "------------------------------------------------------------------------------\n",
      "const       1116.6550     17.861     62.520      0.000    1081.648    1151.661\n",
      "ar.L1.Rate     1.1048      0.064     17.291      0.000       0.980       1.230\n",
      "ar.L2.Rate    -0.1394      0.095     -1.466      0.144      -0.326       0.047\n",
      "ar.L3.Rate     0.0762      0.096      0.795      0.428      -0.112       0.264\n",
      "ar.L4.Rate    -0.1633      0.096     -1.708      0.089      -0.351       0.024\n",
      "ar.L5.Rate     0.1103      0.065      1.688      0.093      -0.018       0.238\n",
      "                                    Roots                                    \n",
      "=============================================================================\n",
      "                  Real          Imaginary           Modulus         Frequency\n",
      "-----------------------------------------------------------------------------\n",
      "AR.1            1.0119           -0.0000j            1.0119           -0.0000\n",
      "AR.2           -1.0897           -1.3161j            1.7087           -0.3601\n",
      "AR.3           -1.0897           +1.3161j            1.7087            0.3601\n",
      "AR.4            1.3239           -1.1467j            1.7515           -0.1136\n",
      "AR.5            1.3239           +1.1467j            1.7515            0.1136\n",
      "-----------------------------------------------------------------------------\n"
     ]
    }
   ],
   "source": [
    "model_25 = ARIMA(df_train, order=(5,0,0))\n",
    "model_25_fit = model_25.fit(trend='c',full_output=True, disp=1)\n",
    "print(model_25_fit.summary())"
   ]
  },
  {
   "cell_type": "code",
   "execution_count": 26,
   "metadata": {},
   "outputs": [
    {
     "name": "stderr",
     "output_type": "stream",
     "text": [
      "C:\\Users\\sm.woo\\Anaconda3\\lib\\site-packages\\statsmodels\\tsa\\base\\tsa_model.py:219: ValueWarning: A date index has been provided, but it has no associated frequency information and so will be ignored when e.g. forecasting.\n",
      "  ' ignored when e.g. forecasting.', ValueWarning)\n",
      "C:\\Users\\sm.woo\\Anaconda3\\lib\\site-packages\\statsmodels\\tsa\\base\\tsa_model.py:219: ValueWarning: A date index has been provided, but it has no associated frequency information and so will be ignored when e.g. forecasting.\n",
      "  ' ignored when e.g. forecasting.', ValueWarning)\n"
     ]
    },
    {
     "name": "stdout",
     "output_type": "stream",
     "text": [
      "                             ARIMA Model Results                              \n",
      "==============================================================================\n",
      "Dep. Variable:                 D.Rate   No. Observations:                  243\n",
      "Model:                 ARIMA(0, 1, 5)   Log Likelihood                -687.146\n",
      "Method:                       css-mle   S.D. of innovations              4.090\n",
      "Date:                Fri, 07 Feb 2020   AIC                           1386.292\n",
      "Time:                        15:54:24   BIC                           1407.251\n",
      "Sample:                             1   HQIC                          1394.734\n",
      "                                                                              \n",
      "================================================================================\n",
      "                   coef    std err          z      P>|z|      [0.025      0.975]\n",
      "--------------------------------------------------------------------------------\n",
      "ma.L1.D.Rate     0.0967      0.065      1.489      0.138      -0.031       0.224\n",
      "ma.L2.D.Rate    -0.0479      0.066     -0.727      0.468      -0.177       0.081\n",
      "ma.L3.D.Rate     0.0117      0.068      0.172      0.864      -0.122       0.146\n",
      "ma.L4.D.Rate    -0.1017      0.068     -1.501      0.135      -0.234       0.031\n",
      "ma.L5.D.Rate    -0.1267      0.064     -1.975      0.049      -0.252      -0.001\n",
      "                                    Roots                                    \n",
      "=============================================================================\n",
      "                  Real          Imaginary           Modulus         Frequency\n",
      "-----------------------------------------------------------------------------\n",
      "MA.1            1.4004           -0.0000j            1.4004           -0.0000\n",
      "MA.2            0.3131           -1.4448j            1.4784           -0.2160\n",
      "MA.3            0.3131           +1.4448j            1.4784            0.2160\n",
      "MA.4           -1.4145           -0.7598j            1.6057           -0.4215\n",
      "MA.5           -1.4145           +0.7598j            1.6057            0.4215\n",
      "-----------------------------------------------------------------------------\n"
     ]
    }
   ],
   "source": [
    "model_26 = ARIMA(df_train, order=(0,1,5))\n",
    "model_26_fit = model_26.fit(trend='nc',full_output=True, disp=1)\n",
    "print(model_26_fit.summary())"
   ]
  },
  {
   "cell_type": "code",
   "execution_count": 27,
   "metadata": {},
   "outputs": [
    {
     "name": "stderr",
     "output_type": "stream",
     "text": [
      "C:\\Users\\sm.woo\\Anaconda3\\lib\\site-packages\\statsmodels\\tsa\\base\\tsa_model.py:219: ValueWarning: A date index has been provided, but it has no associated frequency information and so will be ignored when e.g. forecasting.\n",
      "  ' ignored when e.g. forecasting.', ValueWarning)\n",
      "C:\\Users\\sm.woo\\Anaconda3\\lib\\site-packages\\statsmodels\\tsa\\base\\tsa_model.py:219: ValueWarning: A date index has been provided, but it has no associated frequency information and so will be ignored when e.g. forecasting.\n",
      "  ' ignored when e.g. forecasting.', ValueWarning)\n"
     ]
    },
    {
     "name": "stdout",
     "output_type": "stream",
     "text": [
      "                             ARIMA Model Results                              \n",
      "==============================================================================\n",
      "Dep. Variable:                 D.Rate   No. Observations:                  243\n",
      "Model:                 ARIMA(0, 1, 5)   Log Likelihood                -685.742\n",
      "Method:                       css-mle   S.D. of innovations              4.066\n",
      "Date:                Fri, 07 Feb 2020   AIC                           1385.484\n",
      "Time:                        15:54:25   BIC                           1409.936\n",
      "Sample:                             1   HQIC                          1395.333\n",
      "                                                                              \n",
      "================================================================================\n",
      "                   coef    std err          z      P>|z|      [0.025      0.975]\n",
      "--------------------------------------------------------------------------------\n",
      "const            0.3469      0.198      1.753      0.081      -0.041       0.735\n",
      "ma.L1.D.Rate     0.0839      0.065      1.291      0.198      -0.044       0.211\n",
      "ma.L2.D.Rate    -0.0660      0.066     -1.002      0.317      -0.195       0.063\n",
      "ma.L3.D.Rate    -0.0060      0.069     -0.087      0.931      -0.142       0.130\n",
      "ma.L4.D.Rate    -0.1195      0.068     -1.753      0.081      -0.253       0.014\n",
      "ma.L5.D.Rate    -0.1403      0.064     -2.187      0.030      -0.266      -0.015\n",
      "                                    Roots                                    \n",
      "=============================================================================\n",
      "                  Real          Imaginary           Modulus         Frequency\n",
      "-----------------------------------------------------------------------------\n",
      "MA.1            1.3366           -0.0000j            1.3366           -0.0000\n",
      "MA.2            0.2989           -1.4285j            1.4595           -0.2172\n",
      "MA.3            0.2989           +1.4285j            1.4595            0.2172\n",
      "MA.4           -1.3932           -0.7504j            1.5824           -0.4214\n",
      "MA.5           -1.3932           +0.7504j            1.5824            0.4214\n",
      "-----------------------------------------------------------------------------\n"
     ]
    }
   ],
   "source": [
    "model_27 = ARIMA(df_train, order=(0,1,5))\n",
    "model_27_fit = model_27.fit(trend='c',full_output=True, disp=1)\n",
    "print(model_27_fit.summary())"
   ]
  },
  {
   "cell_type": "code",
   "execution_count": 28,
   "metadata": {},
   "outputs": [
    {
     "name": "stderr",
     "output_type": "stream",
     "text": [
      "C:\\Users\\sm.woo\\Anaconda3\\lib\\site-packages\\statsmodels\\tsa\\base\\tsa_model.py:219: ValueWarning: A date index has been provided, but it has no associated frequency information and so will be ignored when e.g. forecasting.\n",
      "  ' ignored when e.g. forecasting.', ValueWarning)\n",
      "C:\\Users\\sm.woo\\Anaconda3\\lib\\site-packages\\statsmodels\\tsa\\base\\tsa_model.py:219: ValueWarning: A date index has been provided, but it has no associated frequency information and so will be ignored when e.g. forecasting.\n",
      "  ' ignored when e.g. forecasting.', ValueWarning)\n"
     ]
    },
    {
     "name": "stdout",
     "output_type": "stream",
     "text": [
      "                             ARIMA Model Results                              \n",
      "==============================================================================\n",
      "Dep. Variable:                 D.Rate   No. Observations:                  243\n",
      "Model:                 ARIMA(0, 1, 4)   Log Likelihood                -689.016\n",
      "Method:                       css-mle   S.D. of innovations              4.122\n",
      "Date:                Fri, 07 Feb 2020   AIC                           1388.033\n",
      "Time:                        15:54:26   BIC                           1405.498\n",
      "Sample:                             1   HQIC                          1395.068\n",
      "                                                                              \n",
      "================================================================================\n",
      "                   coef    std err          z      P>|z|      [0.025      0.975]\n",
      "--------------------------------------------------------------------------------\n",
      "ma.L1.D.Rate     0.0874      0.067      1.309      0.192      -0.043       0.218\n",
      "ma.L2.D.Rate    -0.0138      0.067     -0.205      0.838      -0.146       0.118\n",
      "ma.L3.D.Rate     0.0168      0.071      0.238      0.812      -0.121       0.155\n",
      "ma.L4.D.Rate    -0.0880      0.072     -1.222      0.223      -0.229       0.053\n",
      "                                    Roots                                    \n",
      "=============================================================================\n",
      "                  Real          Imaginary           Modulus         Frequency\n",
      "-----------------------------------------------------------------------------\n",
      "MA.1           -1.6970           -0.0000j            1.6970           -0.5000\n",
      "MA.2           -0.0247           -1.8589j            1.8591           -0.2521\n",
      "MA.3           -0.0247           +1.8589j            1.8591            0.2521\n",
      "MA.4            1.9374           -0.0000j            1.9374           -0.0000\n",
      "-----------------------------------------------------------------------------\n"
     ]
    }
   ],
   "source": [
    "model_28 = ARIMA(df_train, order=(0,1,4))\n",
    "model_28_fit = model_28.fit(trend='nc',full_output=True, disp=1)\n",
    "print(model_28_fit.summary())"
   ]
  },
  {
   "cell_type": "code",
   "execution_count": 29,
   "metadata": {},
   "outputs": [
    {
     "name": "stderr",
     "output_type": "stream",
     "text": [
      "C:\\Users\\sm.woo\\Anaconda3\\lib\\site-packages\\statsmodels\\tsa\\base\\tsa_model.py:219: ValueWarning: A date index has been provided, but it has no associated frequency information and so will be ignored when e.g. forecasting.\n",
      "  ' ignored when e.g. forecasting.', ValueWarning)\n",
      "C:\\Users\\sm.woo\\Anaconda3\\lib\\site-packages\\statsmodels\\tsa\\base\\tsa_model.py:219: ValueWarning: A date index has been provided, but it has no associated frequency information and so will be ignored when e.g. forecasting.\n",
      "  ' ignored when e.g. forecasting.', ValueWarning)\n"
     ]
    },
    {
     "name": "stdout",
     "output_type": "stream",
     "text": [
      "                             ARIMA Model Results                              \n",
      "==============================================================================\n",
      "Dep. Variable:                 D.Rate   No. Observations:                  243\n",
      "Model:                 ARIMA(0, 1, 4)   Log Likelihood                -688.007\n",
      "Method:                       css-mle   S.D. of innovations              4.105\n",
      "Date:                Fri, 07 Feb 2020   AIC                           1388.014\n",
      "Time:                        15:54:27   BIC                           1408.973\n",
      "Sample:                             1   HQIC                          1396.456\n",
      "                                                                              \n",
      "================================================================================\n",
      "                   coef    std err          z      P>|z|      [0.025      0.975]\n",
      "--------------------------------------------------------------------------------\n",
      "const            0.3647      0.250      1.457      0.146      -0.126       0.855\n",
      "ma.L1.D.Rate     0.0751      0.067      1.117      0.265      -0.057       0.207\n",
      "ma.L2.D.Rate    -0.0265      0.068     -0.390      0.697      -0.160       0.107\n",
      "ma.L3.D.Rate     0.0017      0.072      0.023      0.982      -0.140       0.143\n",
      "ma.L4.D.Rate    -0.1025      0.074     -1.390      0.166      -0.247       0.042\n",
      "                                    Roots                                    \n",
      "=============================================================================\n",
      "                  Real          Imaginary           Modulus         Frequency\n",
      "-----------------------------------------------------------------------------\n",
      "MA.1           -1.6679           -0.0000j            1.6679           -0.5000\n",
      "MA.2            1.7929           -0.0000j            1.7929           -0.0000\n",
      "MA.3           -0.0543           -1.8054j            1.8063           -0.2548\n",
      "MA.4           -0.0543           +1.8054j            1.8063            0.2548\n",
      "-----------------------------------------------------------------------------\n"
     ]
    }
   ],
   "source": [
    "model_29 = ARIMA(df_train, order=(0,1,4))\n",
    "model_29_fit = model_29.fit(trend='c',full_output=True, disp=1)\n",
    "print(model_29_fit.summary())"
   ]
  },
  {
   "cell_type": "markdown",
   "metadata": {},
   "source": [
    "### 예측"
   ]
  },
  {
   "cell_type": "code",
   "execution_count": 30,
   "metadata": {
    "scrolled": true
   },
   "outputs": [
    {
     "data": {
      "image/png": "[encoded data removed]",
      "text/plain": [
       "<Figure size 432x288 with 1 Axes>"
      ]
     },
     "metadata": {
      "needs_background": "light"
     },
     "output_type": "display_data"
    },
    {
     "data": {
      "image/png": "[encoded data removed]",
      "text/plain": [
       "<Figure size 432x288 with 1 Axes>"
      ]
     },
     "metadata": {
      "needs_background": "light"
     },
     "output_type": "display_data"
    },
    {
     "data": {
      "image/png": "[encoded data removed]",
      "text/plain": [
       "<Figure size 432x288 with 1 Axes>"
      ]
     },
     "metadata": {
      "needs_background": "light"
     },
     "output_type": "display_data"
    },
    {
     "data": {
      "image/png": "[encoded data removed]",
      "text/plain": [
       "<Figure size 432x288 with 1 Axes>"
      ]
     },
     "metadata": {
      "needs_background": "light"
     },
     "output_type": "display_data"
    },
    {
     "data": {
      "image/png": "[encoded data removed]",
      "text/plain": [
       "<Figure size 432x288 with 1 Axes>"
      ]
     },
     "metadata": {
      "needs_background": "light"
     },
     "output_type": "display_data"
    },
    {
     "data": {
      "image/png": "[encoded data removed]",
      "text/plain": [
       "<Figure size 432x288 with 1 Axes>"
      ]
     },
     "metadata": {
      "needs_background": "light"
     },
     "output_type": "display_data"
    },
    {
     "data": {
      "image/png": "[encoded data removed]",
      "text/plain": [
       "<Figure size 432x288 with 1 Axes>"
      ]
     },
     "metadata": {
      "needs_background": "light"
     },
     "output_type": "display_data"
    },
    {
     "data": {
      "image/png": "[encoded data removed]",
      "text/plain": [
       "<Figure size 432x288 with 1 Axes>"
      ]
     },
     "metadata": {
      "needs_background": "light"
     },
     "output_type": "display_data"
    },
    {
     "data": {
      "image/png": "[encoded data removed]",
      "text/plain": [
       "<Figure size 432x288 with 1 Axes>"
      ]
     },
     "metadata": {
      "needs_background": "light"
     },
     "output_type": "display_data"
    },
    {
     "data": {
      "image/png": "[encoded data removed]",
      "text/plain": [
       "<Figure size 432x288 with 1 Axes>"
      ]
     },
     "metadata": {
      "needs_background": "light"
     },
     "output_type": "display_data"
    },
    {
     "data": {
      "image/png": "[encoded data removed]",
      "text/plain": [
       "<Figure size 432x288 with 1 Axes>"
      ]
     },
     "metadata": {
      "needs_background": "light"
     },
     "output_type": "display_data"
    },
    {
     "data": {
      "image/png": "[encoded data removed]",
      "text/plain": [
       "<Figure size 432x288 with 1 Axes>"
      ]
     },
     "metadata": {
      "needs_background": "light"
     },
     "output_type": "display_data"
    }
   ],
   "source": [
    "Models = [model_1_fit, model_2_fit, model_3_fit, model_4_fit, model_18_fit, model_19_fit, model_20_fit, \n",
    "          model_25_fit, model_26_fit, model_27_fit, model_28_fit, model_29_fit]\n",
    "\n",
    "df_test=df_test[:5]\n",
    "actual_price=df_test['Rate'].tolist()[:5]\n",
    "RMSE_total=[]\n",
    "pred_price=[]\n",
    "\n",
    "for model in Models:\n",
    "    pred = model.forecast(steps=5)\n",
    "    pred_price_0=pred[0][:5]\n",
    "    pred_price.extend(pred_price_0)\n",
    "\n",
    "    plt.plot(pred_price_0)\n",
    "    plt.plot(df_test)\n",
    "    plt.show()\n",
    "    \n",
    "    RMSE = mean_squared_error(pred_price_0, actual_price)**0.5    \n",
    "    RMSE_total.append(RMSE)"
   ]
  },
  {
   "cell_type": "markdown",
   "metadata": {},
   "source": [
    "#### 예측값, stderr, upper bound, lower bound"
   ]
  },
  {
   "cell_type": "code",
   "execution_count": 31,
   "metadata": {},
   "outputs": [],
   "source": [
    "n = 5\n",
    "result = [pred_price[i * n:(i + 1) * n] for i in range((len(pred_price) + n - 1) // n )] \n",
    "pred_final = []\n",
    "for i in result:\n",
    "    pred_final.append(i)"
   ]
  },
  {
   "cell_type": "code",
   "execution_count": 32,
   "metadata": {
    "scrolled": true
   },
   "outputs": [],
   "source": [
    "pred_final=pd.DataFrame(pred_final)\n",
    "RMSE_total=pd.DataFrame(RMSE_total)\n",
    "final_df=pd.concat([pred_final, RMSE_total], axis=1)\n",
    "final_df.columns=[df_test.index[0],df_test.index[1],df_test.index[2],df_test.index[3],df_test.index[4],'RMSE']"
   ]
  },
  {
   "cell_type": "code",
   "execution_count": 33,
   "metadata": {},
   "outputs": [
    {
     "data": {
      "text/html": [
       "<div>\n",
       "<style scoped>\n",
       "    .dataframe tbody tr th:only-of-type {\n",
       "        vertical-align: middle;\n",
       "    }\n",
       "\n",
       "    .dataframe tbody tr th {\n",
       "        vertical-align: top;\n",
       "    }\n",
       "\n",
       "    .dataframe thead th {\n",
       "        text-align: right;\n",
       "    }\n",
       "</style>\n",
       "<table border=\"1\" class=\"dataframe\">\n",
       "  <thead>\n",
       "    <tr style=\"text-align: right;\">\n",
       "      <th></th>\n",
       "      <th>2019-05-02</th>\n",
       "      <th>2019-05-03</th>\n",
       "      <th>2019-05-07</th>\n",
       "      <th>2019-05-08</th>\n",
       "      <th>2019-05-09</th>\n",
       "      <th>RMSE</th>\n",
       "    </tr>\n",
       "  </thead>\n",
       "  <tbody>\n",
       "    <tr>\n",
       "      <td>0</td>\n",
       "      <td>1163.800000</td>\n",
       "      <td>1163.900000</td>\n",
       "      <td>1169.400000</td>\n",
       "      <td>1169.800000</td>\n",
       "      <td>1169.900000</td>\n",
       "      <td>0.000000</td>\n",
       "    </tr>\n",
       "    <tr>\n",
       "      <td>0</td>\n",
       "      <td>1158.201924</td>\n",
       "      <td>1158.201203</td>\n",
       "      <td>1158.201473</td>\n",
       "      <td>1158.201372</td>\n",
       "      <td>1158.201410</td>\n",
       "      <td>9.597988</td>\n",
       "    </tr>\n",
       "    <tr>\n",
       "      <td>1</td>\n",
       "      <td>1158.560524</td>\n",
       "      <td>1158.941416</td>\n",
       "      <td>1159.314256</td>\n",
       "      <td>1159.690280</td>\n",
       "      <td>1160.065045</td>\n",
       "      <td>8.398746</td>\n",
       "    </tr>\n",
       "    <tr>\n",
       "      <td>2</td>\n",
       "      <td>1158.557228</td>\n",
       "      <td>1158.936145</td>\n",
       "      <td>1159.309753</td>\n",
       "      <td>1159.685526</td>\n",
       "      <td>1160.060423</td>\n",
       "      <td>8.403088</td>\n",
       "    </tr>\n",
       "    <tr>\n",
       "      <td>3</td>\n",
       "      <td>1158.187330</td>\n",
       "      <td>1158.177511</td>\n",
       "      <td>1158.181352</td>\n",
       "      <td>1158.179702</td>\n",
       "      <td>1158.180407</td>\n",
       "      <td>9.617559</td>\n",
       "    </tr>\n",
       "    <tr>\n",
       "      <td>4</td>\n",
       "      <td>1157.855211</td>\n",
       "      <td>1155.761491</td>\n",
       "      <td>1153.772494</td>\n",
       "      <td>1152.697463</td>\n",
       "      <td>1151.994034</td>\n",
       "      <td>13.848576</td>\n",
       "    </tr>\n",
       "    <tr>\n",
       "      <td>5</td>\n",
       "      <td>1158.187605</td>\n",
       "      <td>1156.281701</td>\n",
       "      <td>1155.394582</td>\n",
       "      <td>1155.793296</td>\n",
       "      <td>1155.709826</td>\n",
       "      <td>11.689636</td>\n",
       "    </tr>\n",
       "    <tr>\n",
       "      <td>6</td>\n",
       "      <td>1158.473726</td>\n",
       "      <td>1156.910972</td>\n",
       "      <td>1156.421378</td>\n",
       "      <td>1157.281157</td>\n",
       "      <td>1157.604185</td>\n",
       "      <td>10.522061</td>\n",
       "    </tr>\n",
       "    <tr>\n",
       "      <td>7</td>\n",
       "      <td>1157.514194</td>\n",
       "      <td>1155.754565</td>\n",
       "      <td>1154.930411</td>\n",
       "      <td>1154.568254</td>\n",
       "      <td>1154.095509</td>\n",
       "      <td>12.625502</td>\n",
       "    </tr>\n",
       "    <tr>\n",
       "      <td>8</td>\n",
       "      <td>1157.608462</td>\n",
       "      <td>1155.751888</td>\n",
       "      <td>1154.255770</td>\n",
       "      <td>1154.250729</td>\n",
       "      <td>1154.250729</td>\n",
       "      <td>12.812136</td>\n",
       "    </tr>\n",
       "    <tr>\n",
       "      <td>9</td>\n",
       "      <td>1157.752158</td>\n",
       "      <td>1156.067919</td>\n",
       "      <td>1154.831729</td>\n",
       "      <td>1155.212846</td>\n",
       "      <td>1155.559720</td>\n",
       "      <td>12.071297</td>\n",
       "    </tr>\n",
       "    <tr>\n",
       "      <td>10</td>\n",
       "      <td>1157.734340</td>\n",
       "      <td>1156.773075</td>\n",
       "      <td>1156.709178</td>\n",
       "      <td>1156.840082</td>\n",
       "      <td>1156.840082</td>\n",
       "      <td>10.836634</td>\n",
       "    </tr>\n",
       "    <tr>\n",
       "      <td>11</td>\n",
       "      <td>1157.881253</td>\n",
       "      <td>1157.164676</td>\n",
       "      <td>1157.493669</td>\n",
       "      <td>1158.027188</td>\n",
       "      <td>1158.391889</td>\n",
       "      <td>9.931693</td>\n",
       "    </tr>\n",
       "  </tbody>\n",
       "</table>\n",
       "</div>"
      ],
      "text/plain": [
       "     2019-05-02   2019-05-03   2019-05-07   2019-05-08   2019-05-09       RMSE\n",
       "0   1163.800000  1163.900000  1169.400000  1169.800000  1169.900000   0.000000\n",
       "0   1158.201924  1158.201203  1158.201473  1158.201372  1158.201410   9.597988\n",
       "1   1158.560524  1158.941416  1159.314256  1159.690280  1160.065045   8.398746\n",
       "2   1158.557228  1158.936145  1159.309753  1159.685526  1160.060423   8.403088\n",
       "3   1158.187330  1158.177511  1158.181352  1158.179702  1158.180407   9.617559\n",
       "4   1157.855211  1155.761491  1153.772494  1152.697463  1151.994034  13.848576\n",
       "5   1158.187605  1156.281701  1155.394582  1155.793296  1155.709826  11.689636\n",
       "6   1158.473726  1156.910972  1156.421378  1157.281157  1157.604185  10.522061\n",
       "7   1157.514194  1155.754565  1154.930411  1154.568254  1154.095509  12.625502\n",
       "8   1157.608462  1155.751888  1154.255770  1154.250729  1154.250729  12.812136\n",
       "9   1157.752158  1156.067919  1154.831729  1155.212846  1155.559720  12.071297\n",
       "10  1157.734340  1156.773075  1156.709178  1156.840082  1156.840082  10.836634\n",
       "11  1157.881253  1157.164676  1157.493669  1158.027188  1158.391889   9.931693"
      ]
     },
     "execution_count": 33,
     "metadata": {},
     "output_type": "execute_result"
    }
   ],
   "source": [
    "actual_price = pd.DataFrame(actual_price + [0]).T\n",
    "actual_price.columns=[df_test.index[0],df_test.index[1],df_test.index[2],df_test.index[3],df_test.index[4],'RMSE']\n",
    "final_df=pd.concat([actual_price, final_df], axis=0)\n",
    "final_df"
   ]
  },
  {
   "cell_type": "code",
   "execution_count": 34,
   "metadata": {},
   "outputs": [],
   "source": [
    "final_df.to_csv('data/final04.csv', index=False)"
   ]
  }
 ],
 "metadata": {
  "kernelspec": {
   "display_name": "Python 3",
   "language": "python",
   "name": "python3"
  },
  "language_info": {
   "codemirror_mode": {
    "name": "ipython",
    "version": 3
   },
   "file_extension": ".py",
   "mimetype": "text/x-python",
   "name": "python",
   "nbconvert_exporter": "python",
   "pygments_lexer": "ipython3",
   "version": "3.7.4"
  }
 },
 "nbformat": 4,
 "nbformat_minor": 2
}
