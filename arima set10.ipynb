{
 "cells": [
  {
   "cell_type": "code",
   "execution_count": 1,
   "metadata": {},
   "outputs": [],
   "source": [
    "import pandas as pd\n",
    "import matplotlib.pyplot as plt\n",
    "\n",
    "from statsmodels.tsa.arima_model import ARIMA\n",
    "from sklearn.metrics import mean_squared_error"
   ]
  },
  {
   "cell_type": "code",
   "execution_count": 2,
   "metadata": {},
   "outputs": [],
   "source": [
    "data = pd.read_csv('exchange_data/set10.csv', header=0, squeeze=True)"
   ]
  },
  {
   "cell_type": "code",
   "execution_count": 3,
   "metadata": {},
   "outputs": [],
   "source": [
    "data = data.set_index('Date')"
   ]
  },
  {
   "cell_type": "code",
   "execution_count": 4,
   "metadata": {},
   "outputs": [],
   "source": [
    "#2018년 2월~2019년1월 train set/ 2019년 2월 test set\n",
    "df_train=data.loc['2018-11-01': '2019-10-31' ]\n",
    "df_test=data.loc['2019-11-01':]"
   ]
  },
  {
   "cell_type": "markdown",
   "metadata": {},
   "source": [
    "### 모형구축"
   ]
  },
  {
   "cell_type": "code",
   "execution_count": 5,
   "metadata": {},
   "outputs": [
    {
     "name": "stderr",
     "output_type": "stream",
     "text": [
      "C:\\Users\\sm.woo\\Anaconda3\\lib\\site-packages\\statsmodels\\tsa\\base\\tsa_model.py:219: ValueWarning: A date index has been provided, but it has no associated frequency information and so will be ignored when e.g. forecasting.\n",
      "  ' ignored when e.g. forecasting.', ValueWarning)\n",
      "C:\\Users\\sm.woo\\Anaconda3\\lib\\site-packages\\statsmodels\\tsa\\base\\tsa_model.py:219: ValueWarning: A date index has been provided, but it has no associated frequency information and so will be ignored when e.g. forecasting.\n",
      "  ' ignored when e.g. forecasting.', ValueWarning)\n"
     ]
    },
    {
     "name": "stdout",
     "output_type": "stream",
     "text": [
      "                             ARIMA Model Results                              \n",
      "==============================================================================\n",
      "Dep. Variable:                 D.Rate   No. Observations:                  246\n",
      "Model:                 ARIMA(1, 1, 1)   Log Likelihood                -688.277\n",
      "Method:                       css-mle   S.D. of innovations              3.970\n",
      "Date:                Fri, 07 Feb 2020   AIC                           1382.553\n",
      "Time:                        15:54:23   BIC                           1393.069\n",
      "Sample:                             1   HQIC                          1386.788\n",
      "                                                                              \n",
      "================================================================================\n",
      "                   coef    std err          z      P>|z|      [0.025      0.975]\n",
      "--------------------------------------------------------------------------------\n",
      "ar.L1.D.Rate    -0.1977      0.341     -0.580      0.562      -0.865       0.470\n",
      "ma.L1.D.Rate     0.3577      0.324      1.103      0.271      -0.278       0.994\n",
      "                                    Roots                                    \n",
      "=============================================================================\n",
      "                  Real          Imaginary           Modulus         Frequency\n",
      "-----------------------------------------------------------------------------\n",
      "AR.1           -5.0582           +0.0000j            5.0582            0.5000\n",
      "MA.1           -2.7954           +0.0000j            2.7954            0.5000\n",
      "-----------------------------------------------------------------------------\n"
     ]
    }
   ],
   "source": [
    "model_1 = ARIMA(df_train, order=(1,1,1))\n",
    "model_1_fit = model_1.fit(trend='nc',full_output=True, disp=1)\n",
    "print(model_1_fit.summary())"
   ]
  },
  {
   "cell_type": "code",
   "execution_count": 6,
   "metadata": {},
   "outputs": [
    {
     "name": "stderr",
     "output_type": "stream",
     "text": [
      "C:\\Users\\sm.woo\\Anaconda3\\lib\\site-packages\\statsmodels\\tsa\\base\\tsa_model.py:219: ValueWarning: A date index has been provided, but it has no associated frequency information and so will be ignored when e.g. forecasting.\n",
      "  ' ignored when e.g. forecasting.', ValueWarning)\n",
      "C:\\Users\\sm.woo\\Anaconda3\\lib\\site-packages\\statsmodels\\tsa\\base\\tsa_model.py:219: ValueWarning: A date index has been provided, but it has no associated frequency information and so will be ignored when e.g. forecasting.\n",
      "  ' ignored when e.g. forecasting.', ValueWarning)\n"
     ]
    },
    {
     "name": "stdout",
     "output_type": "stream",
     "text": [
      "                             ARIMA Model Results                              \n",
      "==============================================================================\n",
      "Dep. Variable:                 D.Rate   No. Observations:                  246\n",
      "Model:                 ARIMA(1, 1, 1)   Log Likelihood                -688.186\n",
      "Method:                       css-mle   S.D. of innovations              3.969\n",
      "Date:                Fri, 07 Feb 2020   AIC                           1384.372\n",
      "Time:                        15:54:27   BIC                           1398.394\n",
      "Sample:                             1   HQIC                          1390.018\n",
      "                                                                              \n",
      "================================================================================\n",
      "                   coef    std err          z      P>|z|      [0.025      0.975]\n",
      "--------------------------------------------------------------------------------\n",
      "const            0.1220      0.287      0.426      0.671      -0.440       0.684\n",
      "ar.L1.D.Rate    -0.2008      0.338     -0.594      0.553      -0.864       0.462\n",
      "ma.L1.D.Rate     0.3603      0.322      1.120      0.264      -0.270       0.991\n",
      "                                    Roots                                    \n",
      "=============================================================================\n",
      "                  Real          Imaginary           Modulus         Frequency\n",
      "-----------------------------------------------------------------------------\n",
      "AR.1           -4.9792           +0.0000j            4.9792            0.5000\n",
      "MA.1           -2.7752           +0.0000j            2.7752            0.5000\n",
      "-----------------------------------------------------------------------------\n"
     ]
    }
   ],
   "source": [
    "model_2 = ARIMA(df_train, order=(1,1,1))\n",
    "model_2_fit = model_2.fit(trend='c',full_output=True, disp=1)\n",
    "print(model_2_fit.summary())"
   ]
  },
  {
   "cell_type": "code",
   "execution_count": 7,
   "metadata": {},
   "outputs": [
    {
     "name": "stderr",
     "output_type": "stream",
     "text": [
      "C:\\Users\\sm.woo\\Anaconda3\\lib\\site-packages\\statsmodels\\tsa\\base\\tsa_model.py:219: ValueWarning: A date index has been provided, but it has no associated frequency information and so will be ignored when e.g. forecasting.\n",
      "  ' ignored when e.g. forecasting.', ValueWarning)\n",
      "C:\\Users\\sm.woo\\Anaconda3\\lib\\site-packages\\statsmodels\\tsa\\base\\tsa_model.py:219: ValueWarning: A date index has been provided, but it has no associated frequency information and so will be ignored when e.g. forecasting.\n",
      "  ' ignored when e.g. forecasting.', ValueWarning)\n"
     ]
    },
    {
     "name": "stdout",
     "output_type": "stream",
     "text": [
      "                             ARIMA Model Results                              \n",
      "==============================================================================\n",
      "Dep. Variable:                 D.Rate   No. Observations:                  246\n",
      "Model:                 ARIMA(2, 1, 1)   Log Likelihood                -688.178\n",
      "Method:                       css-mle   S.D. of innovations              3.969\n",
      "Date:                Fri, 07 Feb 2020   AIC                           1386.356\n",
      "Time:                        15:54:33   BIC                           1403.882\n",
      "Sample:                             1   HQIC                          1393.413\n",
      "                                                                              \n",
      "================================================================================\n",
      "                   coef    std err          z      P>|z|      [0.025      0.975]\n",
      "--------------------------------------------------------------------------------\n",
      "const            0.1216      0.289      0.421      0.674      -0.444       0.687\n",
      "ar.L1.D.Rate    -0.2515      0.496     -0.507      0.612      -1.223       0.720\n",
      "ar.L2.D.Rate     0.0137      0.108      0.127      0.899      -0.198       0.225\n",
      "ma.L1.D.Rate     0.4120      0.491      0.839      0.402      -0.550       1.374\n",
      "                                    Roots                                    \n",
      "=============================================================================\n",
      "                  Real          Imaginary           Modulus         Frequency\n",
      "-----------------------------------------------------------------------------\n",
      "AR.1           -3.3600           +0.0000j            3.3600            0.5000\n",
      "AR.2           21.6792           +0.0000j           21.6792            0.0000\n",
      "MA.1           -2.4273           +0.0000j            2.4273            0.5000\n",
      "-----------------------------------------------------------------------------\n"
     ]
    }
   ],
   "source": [
    "model_3 = ARIMA(df_train, order=(2,1,1))\n",
    "model_3_fit = model_3.fit(trend='c',full_output=True, disp=1)\n",
    "print(model_3_fit.summary())"
   ]
  },
  {
   "cell_type": "code",
   "execution_count": 8,
   "metadata": {},
   "outputs": [
    {
     "name": "stderr",
     "output_type": "stream",
     "text": [
      "C:\\Users\\sm.woo\\Anaconda3\\lib\\site-packages\\statsmodels\\tsa\\base\\tsa_model.py:219: ValueWarning: A date index has been provided, but it has no associated frequency information and so will be ignored when e.g. forecasting.\n",
      "  ' ignored when e.g. forecasting.', ValueWarning)\n",
      "C:\\Users\\sm.woo\\Anaconda3\\lib\\site-packages\\statsmodels\\tsa\\base\\tsa_model.py:219: ValueWarning: A date index has been provided, but it has no associated frequency information and so will be ignored when e.g. forecasting.\n",
      "  ' ignored when e.g. forecasting.', ValueWarning)\n"
     ]
    },
    {
     "name": "stdout",
     "output_type": "stream",
     "text": [
      "                             ARIMA Model Results                              \n",
      "==============================================================================\n",
      "Dep. Variable:                 D.Rate   No. Observations:                  246\n",
      "Model:                 ARIMA(2, 1, 1)   Log Likelihood                -688.267\n",
      "Method:                       css-mle   S.D. of innovations              3.970\n",
      "Date:                Fri, 07 Feb 2020   AIC                           1384.533\n",
      "Time:                        15:54:35   BIC                           1398.554\n",
      "Sample:                             1   HQIC                          1390.179\n",
      "                                                                              \n",
      "================================================================================\n",
      "                   coef    std err          z      P>|z|      [0.025      0.975]\n",
      "--------------------------------------------------------------------------------\n",
      "ar.L1.D.Rate    -0.2540      0.496     -0.512      0.609      -1.225       0.717\n",
      "ar.L2.D.Rate     0.0152      0.108      0.141      0.888      -0.197       0.227\n",
      "ma.L1.D.Rate     0.4151      0.491      0.846      0.399      -0.547       1.377\n",
      "                                    Roots                                    \n",
      "=============================================================================\n",
      "                  Real          Imaginary           Modulus         Frequency\n",
      "-----------------------------------------------------------------------------\n",
      "AR.1           -3.2900           +0.0000j            3.2900            0.5000\n",
      "AR.2           20.0034           +0.0000j           20.0034            0.0000\n",
      "MA.1           -2.4092           +0.0000j            2.4092            0.5000\n",
      "-----------------------------------------------------------------------------\n"
     ]
    }
   ],
   "source": [
    "model_4 = ARIMA(df_train, order=(2,1,1))\n",
    "model_4_fit = model_4.fit(trend='nc',full_output=True, disp=1)\n",
    "print(model_4_fit.summary())"
   ]
  },
  {
   "cell_type": "code",
   "execution_count": 9,
   "metadata": {},
   "outputs": [
    {
     "name": "stderr",
     "output_type": "stream",
     "text": [
      "C:\\Users\\sm.woo\\Anaconda3\\lib\\site-packages\\statsmodels\\tsa\\base\\tsa_model.py:219: ValueWarning: A date index has been provided, but it has no associated frequency information and so will be ignored when e.g. forecasting.\n",
      "  ' ignored when e.g. forecasting.', ValueWarning)\n",
      "C:\\Users\\sm.woo\\Anaconda3\\lib\\site-packages\\statsmodels\\tsa\\base\\tsa_model.py:219: ValueWarning: A date index has been provided, but it has no associated frequency information and so will be ignored when e.g. forecasting.\n",
      "  ' ignored when e.g. forecasting.', ValueWarning)\n"
     ]
    },
    {
     "name": "stdout",
     "output_type": "stream",
     "text": [
      "                             ARIMA Model Results                              \n",
      "==============================================================================\n",
      "Dep. Variable:                 D.Rate   No. Observations:                  246\n",
      "Model:                 ARIMA(2, 1, 2)   Log Likelihood                -688.139\n",
      "Method:                       css-mle   S.D. of innovations              3.968\n",
      "Date:                Fri, 07 Feb 2020   AIC                           1386.278\n",
      "Time:                        15:54:38   BIC                           1403.804\n",
      "Sample:                             1   HQIC                          1393.335\n",
      "                                                                              \n",
      "================================================================================\n",
      "                   coef    std err          z      P>|z|      [0.025      0.975]\n",
      "--------------------------------------------------------------------------------\n",
      "ar.L1.D.Rate     0.2953      0.723      0.408      0.683      -1.122       1.713\n",
      "ar.L2.D.Rate     0.2012      0.261      0.771      0.442      -0.310       0.713\n",
      "ma.L1.D.Rate    -0.1322      0.721     -0.183      0.855      -1.545       1.280\n",
      "ma.L2.D.Rate    -0.2590      0.290     -0.894      0.372      -0.827       0.309\n",
      "                                    Roots                                    \n",
      "=============================================================================\n",
      "                  Real          Imaginary           Modulus         Frequency\n",
      "-----------------------------------------------------------------------------\n",
      "AR.1            1.6134           +0.0000j            1.6134            0.0000\n",
      "AR.2           -3.0813           +0.0000j            3.0813            0.5000\n",
      "MA.1            1.7262           +0.0000j            1.7262            0.0000\n",
      "MA.2           -2.2364           +0.0000j            2.2364            0.5000\n",
      "-----------------------------------------------------------------------------\n"
     ]
    }
   ],
   "source": [
    "model_5 = ARIMA(df_train, order=(2,1,2))\n",
    "model_5_fit = model_5.fit(trend='nc',full_output=True, disp=1)\n",
    "print(model_5_fit.summary())"
   ]
  },
  {
   "cell_type": "code",
   "execution_count": 10,
   "metadata": {},
   "outputs": [
    {
     "name": "stderr",
     "output_type": "stream",
     "text": [
      "C:\\Users\\sm.woo\\Anaconda3\\lib\\site-packages\\statsmodels\\tsa\\base\\tsa_model.py:219: ValueWarning: A date index has been provided, but it has no associated frequency information and so will be ignored when e.g. forecasting.\n",
      "  ' ignored when e.g. forecasting.', ValueWarning)\n",
      "C:\\Users\\sm.woo\\Anaconda3\\lib\\site-packages\\statsmodels\\tsa\\base\\tsa_model.py:219: ValueWarning: A date index has been provided, but it has no associated frequency information and so will be ignored when e.g. forecasting.\n",
      "  ' ignored when e.g. forecasting.', ValueWarning)\n"
     ]
    },
    {
     "name": "stdout",
     "output_type": "stream",
     "text": [
      "                             ARIMA Model Results                              \n",
      "==============================================================================\n",
      "Dep. Variable:                 D.Rate   No. Observations:                  246\n",
      "Model:                 ARIMA(2, 1, 2)   Log Likelihood                -688.065\n",
      "Method:                       css-mle   S.D. of innovations              3.967\n",
      "Date:                Fri, 07 Feb 2020   AIC                           1388.129\n",
      "Time:                        15:54:42   BIC                           1409.161\n",
      "Sample:                             1   HQIC                          1396.598\n",
      "                                                                              \n",
      "================================================================================\n",
      "                   coef    std err          z      P>|z|      [0.025      0.975]\n",
      "--------------------------------------------------------------------------------\n",
      "const            0.1175      0.304      0.387      0.699      -0.478       0.713\n",
      "ar.L1.D.Rate     0.2865      0.741      0.386      0.700      -1.167       1.740\n",
      "ar.L2.D.Rate     0.1958      0.263      0.745      0.457      -0.319       0.711\n",
      "ma.L1.D.Rate    -0.1240      0.739     -0.168      0.867      -1.572       1.324\n",
      "ma.L2.D.Rate    -0.2535      0.296     -0.857      0.392      -0.833       0.326\n",
      "                                    Roots                                    \n",
      "=============================================================================\n",
      "                  Real          Imaginary           Modulus         Frequency\n",
      "-----------------------------------------------------------------------------\n",
      "AR.1            1.6438           +0.0000j            1.6438            0.0000\n",
      "AR.2           -3.1069           +0.0000j            3.1069            0.5000\n",
      "MA.1            1.7566           +0.0000j            1.7566            0.0000\n",
      "MA.2           -2.2457           +0.0000j            2.2457            0.5000\n",
      "-----------------------------------------------------------------------------\n"
     ]
    }
   ],
   "source": [
    "model_6 = ARIMA(df_train, order=(2,1,2))\n",
    "model_6_fit = model_6.fit(trend='c',full_output=True, disp=1)\n",
    "print(model_6_fit.summary())"
   ]
  },
  {
   "cell_type": "code",
   "execution_count": 11,
   "metadata": {},
   "outputs": [
    {
     "name": "stderr",
     "output_type": "stream",
     "text": [
      "C:\\Users\\sm.woo\\Anaconda3\\lib\\site-packages\\statsmodels\\tsa\\base\\tsa_model.py:219: ValueWarning: A date index has been provided, but it has no associated frequency information and so will be ignored when e.g. forecasting.\n",
      "  ' ignored when e.g. forecasting.', ValueWarning)\n",
      "C:\\Users\\sm.woo\\Anaconda3\\lib\\site-packages\\statsmodels\\tsa\\base\\tsa_model.py:219: ValueWarning: A date index has been provided, but it has no associated frequency information and so will be ignored when e.g. forecasting.\n",
      "  ' ignored when e.g. forecasting.', ValueWarning)\n"
     ]
    },
    {
     "name": "stdout",
     "output_type": "stream",
     "text": [
      "                             ARIMA Model Results                              \n",
      "==============================================================================\n",
      "Dep. Variable:                 D.Rate   No. Observations:                  246\n",
      "Model:                 ARIMA(4, 1, 3)   Log Likelihood                -686.732\n",
      "Method:                       css-mle   S.D. of innovations              3.922\n",
      "Date:                Fri, 07 Feb 2020   AIC                           1389.464\n",
      "Time:                        15:54:48   BIC                           1417.506\n",
      "Sample:                             1   HQIC                          1400.755\n",
      "                                                                              \n",
      "================================================================================\n",
      "                   coef    std err          z      P>|z|      [0.025      0.975]\n",
      "--------------------------------------------------------------------------------\n",
      "ar.L1.D.Rate     0.0675      0.436      0.155      0.877      -0.788       0.923\n",
      "ar.L2.D.Rate    -0.9207      0.196     -4.688      0.000      -1.306      -0.536\n",
      "ar.L3.D.Rate    -0.1747      0.438     -0.399      0.690      -1.033       0.684\n",
      "ar.L4.D.Rate    -0.0204      0.099     -0.207      0.836      -0.214       0.173\n",
      "ma.L1.D.Rate     0.0907      0.432      0.210      0.834      -0.757       0.938\n",
      "ma.L2.D.Rate     0.9101      0.114      7.974      0.000       0.686       1.134\n",
      "ma.L3.D.Rate     0.3485      0.433      0.805      0.421      -0.500       1.197\n",
      "                                    Roots                                    \n",
      "=============================================================================\n",
      "                  Real          Imaginary           Modulus         Frequency\n",
      "-----------------------------------------------------------------------------\n",
      "AR.1            0.1359           -1.0180j            1.0270           -0.2289\n",
      "AR.2            0.1359           +1.0180j            1.0270            0.2289\n",
      "AR.3           -4.4100           -5.1906j            6.8111           -0.3621\n",
      "AR.4           -4.4100           +5.1906j            6.8111            0.3621\n",
      "MA.1            0.1289           -0.9917j            1.0000           -0.2294\n",
      "MA.2            0.1289           +0.9917j            1.0000            0.2294\n",
      "MA.3           -2.8691           -0.0000j            2.8691           -0.5000\n",
      "-----------------------------------------------------------------------------\n"
     ]
    }
   ],
   "source": [
    "model_9 = ARIMA(df_train, order=(4,1,3))\n",
    "model_9_fit = model_9.fit(trend='nc',full_output=True, disp=1)\n",
    "print(model_9_fit.summary())"
   ]
  },
  {
   "cell_type": "code",
   "execution_count": 12,
   "metadata": {},
   "outputs": [
    {
     "name": "stderr",
     "output_type": "stream",
     "text": [
      "C:\\Users\\sm.woo\\Anaconda3\\lib\\site-packages\\statsmodels\\tsa\\base\\tsa_model.py:219: ValueWarning: A date index has been provided, but it has no associated frequency information and so will be ignored when e.g. forecasting.\n",
      "  ' ignored when e.g. forecasting.', ValueWarning)\n",
      "C:\\Users\\sm.woo\\Anaconda3\\lib\\site-packages\\statsmodels\\tsa\\base\\tsa_model.py:219: ValueWarning: A date index has been provided, but it has no associated frequency information and so will be ignored when e.g. forecasting.\n",
      "  ' ignored when e.g. forecasting.', ValueWarning)\n",
      "C:\\Users\\sm.woo\\Anaconda3\\lib\\site-packages\\statsmodels\\base\\model.py:492: HessianInversionWarning: Inverting hessian failed, no bse or cov_params available\n",
      "  'available', HessianInversionWarning)\n"
     ]
    },
    {
     "name": "stdout",
     "output_type": "stream",
     "text": [
      "                             ARIMA Model Results                              \n",
      "==============================================================================\n",
      "Dep. Variable:                 D.Rate   No. Observations:                  246\n",
      "Model:                 ARIMA(4, 1, 3)   Log Likelihood                -686.645\n",
      "Method:                       css-mle   S.D. of innovations              3.921\n",
      "Date:                Fri, 07 Feb 2020   AIC                           1391.290\n",
      "Time:                        15:54:52   BIC                           1422.838\n",
      "Sample:                             1   HQIC                          1403.993\n",
      "                                                                              \n",
      "================================================================================\n",
      "                   coef    std err          z      P>|z|      [0.025      0.975]\n",
      "--------------------------------------------------------------------------------\n",
      "const            0.1195      0.286      0.417      0.677      -0.441       0.680\n",
      "ar.L1.D.Rate     0.0703      0.437      0.161      0.872      -0.786       0.927\n",
      "ar.L2.D.Rate    -0.9230      0.196     -4.701      0.000      -1.308      -0.538\n",
      "ar.L3.D.Rate    -0.1716      0.439     -0.391      0.696      -1.031       0.688\n",
      "ar.L4.D.Rate    -0.0219      0.099     -0.222      0.824      -0.215       0.171\n",
      "ma.L1.D.Rate     0.0872      0.433      0.202      0.840      -0.761       0.936\n",
      "ma.L2.D.Rate     0.9110      0.114      7.972      0.000       0.687       1.135\n",
      "ma.L3.D.Rate     0.3451      0.433      0.796      0.427      -0.504       1.194\n",
      "                                    Roots                                    \n",
      "=============================================================================\n",
      "                  Real          Imaginary           Modulus         Frequency\n",
      "-----------------------------------------------------------------------------\n",
      "AR.1            0.1359           -1.0180j            1.0270           -0.2289\n",
      "AR.2            0.1359           +1.0180j            1.0270            0.2289\n",
      "AR.3           -4.0514           -5.1815j            6.5774           -0.3556\n",
      "AR.4           -4.0514           +5.1815j            6.5774            0.3556\n",
      "MA.1            0.1289           -0.9917j            1.0000           -0.2294\n",
      "MA.2            0.1289           +0.9917j            1.0000            0.2294\n",
      "MA.3           -2.8978           -0.0000j            2.8978           -0.5000\n",
      "-----------------------------------------------------------------------------\n"
     ]
    }
   ],
   "source": [
    "model_10 = ARIMA(df_train, order=(4,1,3))\n",
    "model_10_fit = model_10.fit(trend='c',full_output=True, disp=1)\n",
    "print(model_10_fit.summary())"
   ]
  },
  {
   "cell_type": "code",
   "execution_count": 13,
   "metadata": {},
   "outputs": [
    {
     "name": "stderr",
     "output_type": "stream",
     "text": [
      "C:\\Users\\sm.woo\\Anaconda3\\lib\\site-packages\\statsmodels\\tsa\\base\\tsa_model.py:219: ValueWarning: A date index has been provided, but it has no associated frequency information and so will be ignored when e.g. forecasting.\n",
      "  ' ignored when e.g. forecasting.', ValueWarning)\n",
      "C:\\Users\\sm.woo\\Anaconda3\\lib\\site-packages\\statsmodels\\tsa\\base\\tsa_model.py:219: ValueWarning: A date index has been provided, but it has no associated frequency information and so will be ignored when e.g. forecasting.\n",
      "  ' ignored when e.g. forecasting.', ValueWarning)\n",
      "C:\\Users\\sm.woo\\Anaconda3\\lib\\site-packages\\statsmodels\\base\\model.py:492: HessianInversionWarning: Inverting hessian failed, no bse or cov_params available\n",
      "  'available', HessianInversionWarning)\n",
      "C:\\Users\\sm.woo\\Anaconda3\\lib\\site-packages\\statsmodels\\base\\model.py:512: ConvergenceWarning: Maximum Likelihood optimization failed to converge. Check mle_retvals\n",
      "  \"Check mle_retvals\", ConvergenceWarning)\n"
     ]
    },
    {
     "name": "stdout",
     "output_type": "stream",
     "text": [
      "                             ARIMA Model Results                              \n",
      "==============================================================================\n",
      "Dep. Variable:                 D.Rate   No. Observations:                  246\n",
      "Model:                 ARIMA(4, 1, 4)   Log Likelihood                -687.201\n",
      "Method:                       css-mle   S.D. of innovations              3.940\n",
      "Date:                Fri, 07 Feb 2020   AIC                           1392.402\n",
      "Time:                        15:55:34   BIC                           1423.950\n",
      "Sample:                             1   HQIC                          1405.105\n",
      "                                                                              \n",
      "================================================================================\n",
      "                   coef    std err          z      P>|z|      [0.025      0.975]\n",
      "--------------------------------------------------------------------------------\n",
      "ar.L1.D.Rate     0.2767      0.001    370.875      0.000       0.275       0.278\n",
      "ar.L2.D.Rate     0.6347      0.002    294.485      0.000       0.630       0.639\n",
      "ar.L3.D.Rate    -0.6232      0.000  -2179.241      0.000      -0.624      -0.623\n",
      "ar.L4.D.Rate    -0.4313      0.000  -1846.466      0.000      -0.432      -0.431\n",
      "ma.L1.D.Rate    -0.1200      0.057     -2.087      0.038      -0.233      -0.007\n",
      "ma.L2.D.Rate    -0.7331      0.041    -17.802      0.000      -0.814      -0.652\n",
      "ma.L3.D.Rate     0.5420      0.044     12.268      0.000       0.455       0.629\n",
      "ma.L4.D.Rate     0.5817      0.059      9.853      0.000       0.466       0.697\n",
      "                                    Roots                                    \n",
      "=============================================================================\n",
      "                  Real          Imaginary           Modulus         Frequency\n",
      "-----------------------------------------------------------------------------\n",
      "AR.1            0.7912           -0.6116j            1.0000           -0.1047\n",
      "AR.2            0.7912           +0.6116j            1.0000            0.1047\n",
      "AR.3           -1.5136           -0.1660j            1.5227           -0.4826\n",
      "AR.4           -1.5136           +0.1660j            1.5227            0.4826\n",
      "MA.1            0.7913           -0.6114j            1.0000           -0.1047\n",
      "MA.2            0.7913           +0.6114j            1.0000            0.1047\n",
      "MA.3           -1.2571           -0.3722j            1.3111           -0.4542\n",
      "MA.4           -1.2571           +0.3722j            1.3111            0.4542\n",
      "-----------------------------------------------------------------------------\n"
     ]
    }
   ],
   "source": [
    "model_11 = ARIMA(df_train, order=(4,1,4))\n",
    "model_11_fit = model_11.fit(trend='nc',full_output=True, disp=1)\n",
    "print(model_11_fit.summary())"
   ]
  },
  {
   "cell_type": "code",
   "execution_count": 14,
   "metadata": {},
   "outputs": [
    {
     "name": "stderr",
     "output_type": "stream",
     "text": [
      "C:\\Users\\sm.woo\\Anaconda3\\lib\\site-packages\\statsmodels\\tsa\\base\\tsa_model.py:219: ValueWarning: A date index has been provided, but it has no associated frequency information and so will be ignored when e.g. forecasting.\n",
      "  ' ignored when e.g. forecasting.', ValueWarning)\n",
      "C:\\Users\\sm.woo\\Anaconda3\\lib\\site-packages\\statsmodels\\tsa\\base\\tsa_model.py:219: ValueWarning: A date index has been provided, but it has no associated frequency information and so will be ignored when e.g. forecasting.\n",
      "  ' ignored when e.g. forecasting.', ValueWarning)\n",
      "C:\\Users\\sm.woo\\Anaconda3\\lib\\site-packages\\statsmodels\\tsa\\tsatools.py:668: RuntimeWarning: invalid value encountered in true_divide\n",
      "  newparams = ((1-np.exp(-params))/(1+np.exp(-params))).copy()\n",
      "C:\\Users\\sm.woo\\Anaconda3\\lib\\site-packages\\statsmodels\\tsa\\tsatools.py:669: RuntimeWarning: invalid value encountered in true_divide\n",
      "  tmp = ((1-np.exp(-params))/(1+np.exp(-params))).copy()\n",
      "C:\\Users\\sm.woo\\Anaconda3\\lib\\site-packages\\statsmodels\\base\\model.py:492: HessianInversionWarning: Inverting hessian failed, no bse or cov_params available\n",
      "  'available', HessianInversionWarning)\n"
     ]
    },
    {
     "name": "stdout",
     "output_type": "stream",
     "text": [
      "                             ARIMA Model Results                              \n",
      "==============================================================================\n",
      "Dep. Variable:                 D.Rate   No. Observations:                  246\n",
      "Model:                 ARIMA(4, 1, 4)   Log Likelihood                -687.005\n",
      "Method:                       css-mle   S.D. of innovations              3.935\n",
      "Date:                Fri, 07 Feb 2020   AIC                           1394.010\n",
      "Time:                        15:55:56   BIC                           1429.063\n",
      "Sample:                             1   HQIC                          1408.124\n",
      "                                                                              \n",
      "================================================================================\n",
      "                   coef    std err          z      P>|z|      [0.025      0.975]\n",
      "--------------------------------------------------------------------------------\n",
      "const            0.1248      0.276      0.452      0.652      -0.416       0.666\n",
      "ar.L1.D.Rate     0.2235        nan        nan        nan         nan         nan\n",
      "ar.L2.D.Rate     0.6196        nan        nan        nan         nan         nan\n",
      "ar.L3.D.Rate    -0.5222        nan        nan        nan         nan         nan\n",
      "ar.L4.D.Rate    -0.5284        nan        nan        nan         nan         nan\n",
      "ma.L1.D.Rate    -0.0754      0.046     -1.641      0.102      -0.165       0.015\n",
      "ma.L2.D.Rate    -0.7161      0.036    -19.879      0.000      -0.787      -0.645\n",
      "ma.L3.D.Rate     0.4571      0.036     12.782      0.000       0.387       0.527\n",
      "ma.L4.D.Rate     0.6631      0.049     13.559      0.000       0.567       0.759\n",
      "                                    Roots                                    \n",
      "=============================================================================\n",
      "                  Real          Imaginary           Modulus         Frequency\n",
      "-----------------------------------------------------------------------------\n",
      "AR.1            0.7909           -0.6121j            1.0001           -0.1048\n",
      "AR.2            0.7909           +0.6121j            1.0001            0.1048\n",
      "AR.3           -1.2851           -0.4910j            1.3757           -0.4419\n",
      "AR.4           -1.2851           +0.4910j            1.3757            0.4419\n",
      "MA.1            0.7903           -0.6127j            1.0000           -0.1050\n",
      "MA.2            0.7903           +0.6127j            1.0000            0.1050\n",
      "MA.3           -1.1349           -0.4689j            1.2280           -0.4376\n",
      "MA.4           -1.1349           +0.4689j            1.2280            0.4376\n",
      "-----------------------------------------------------------------------------\n"
     ]
    },
    {
     "name": "stderr",
     "output_type": "stream",
     "text": [
      "C:\\Users\\sm.woo\\Anaconda3\\lib\\site-packages\\statsmodels\\tsa\\arima_model.py:1441: RuntimeWarning: invalid value encountered in sqrt\n",
      "  return np.sqrt(np.diag(-inv(hess)))\n",
      "C:\\Users\\sm.woo\\Anaconda3\\lib\\site-packages\\scipy\\stats\\_distn_infrastructure.py:901: RuntimeWarning: invalid value encountered in greater\n",
      "  return (a < x) & (x < b)\n",
      "C:\\Users\\sm.woo\\Anaconda3\\lib\\site-packages\\scipy\\stats\\_distn_infrastructure.py:901: RuntimeWarning: invalid value encountered in less\n",
      "  return (a < x) & (x < b)\n",
      "C:\\Users\\sm.woo\\Anaconda3\\lib\\site-packages\\scipy\\stats\\_distn_infrastructure.py:1892: RuntimeWarning: invalid value encountered in less_equal\n",
      "  cond2 = cond0 & (x <= _a)\n"
     ]
    }
   ],
   "source": [
    "model_12 = ARIMA(df_train, order=(4,1,4))\n",
    "model_12_fit = model_12.fit(trend='c',full_output=True, disp=1)\n",
    "print(model_12_fit.summary())"
   ]
  },
  {
   "cell_type": "code",
   "execution_count": 15,
   "metadata": {},
   "outputs": [
    {
     "name": "stderr",
     "output_type": "stream",
     "text": [
      "C:\\Users\\sm.woo\\Anaconda3\\lib\\site-packages\\statsmodels\\tsa\\base\\tsa_model.py:219: ValueWarning: A date index has been provided, but it has no associated frequency information and so will be ignored when e.g. forecasting.\n",
      "  ' ignored when e.g. forecasting.', ValueWarning)\n",
      "C:\\Users\\sm.woo\\Anaconda3\\lib\\site-packages\\statsmodels\\tsa\\base\\tsa_model.py:219: ValueWarning: A date index has been provided, but it has no associated frequency information and so will be ignored when e.g. forecasting.\n",
      "  ' ignored when e.g. forecasting.', ValueWarning)\n",
      "C:\\Users\\sm.woo\\Anaconda3\\lib\\site-packages\\statsmodels\\base\\model.py:492: HessianInversionWarning: Inverting hessian failed, no bse or cov_params available\n",
      "  'available', HessianInversionWarning)\n"
     ]
    },
    {
     "name": "stdout",
     "output_type": "stream",
     "text": [
      "                             ARIMA Model Results                              \n",
      "==============================================================================\n",
      "Dep. Variable:                 D.Rate   No. Observations:                  246\n",
      "Model:                 ARIMA(5, 1, 4)   Log Likelihood                -687.545\n",
      "Method:                       css-mle   S.D. of innovations              3.947\n",
      "Date:                Fri, 07 Feb 2020   AIC                           1397.091\n",
      "Time:                        15:56:17   BIC                           1435.649\n",
      "Sample:                             1   HQIC                          1412.616\n",
      "                                                                              \n",
      "================================================================================\n",
      "                   coef    std err          z      P>|z|      [0.025      0.975]\n",
      "--------------------------------------------------------------------------------\n",
      "const            0.1147      0.309      0.371      0.711      -0.491       0.720\n",
      "ar.L1.D.Rate    -0.1617        nan        nan        nan         nan         nan\n",
      "ar.L2.D.Rate    -0.9518      0.001   -643.429      0.000      -0.955      -0.949\n",
      "ar.L3.D.Rate     0.3046      0.036      8.388      0.000       0.233       0.376\n",
      "ar.L4.D.Rate    -0.0427      0.016     -2.599      0.010      -0.075      -0.011\n",
      "ar.L5.D.Rate     0.0629      0.035      1.774      0.077      -0.007       0.132\n",
      "ma.L1.D.Rate     0.3228      0.061      5.294      0.000       0.203       0.442\n",
      "ma.L2.D.Rate     0.9657      0.071     13.680      0.000       0.827       1.104\n",
      "ma.L3.D.Rate    -0.1037      0.072     -1.438      0.152      -0.245       0.038\n",
      "ma.L4.D.Rate     0.0130      0.070      0.186      0.853      -0.124       0.150\n",
      "                                    Roots                                    \n",
      "=============================================================================\n",
      "                  Real          Imaginary           Modulus         Frequency\n",
      "-----------------------------------------------------------------------------\n",
      "AR.1           -0.2170           -0.9763j            1.0001           -0.2848\n",
      "AR.2           -0.2170           +0.9763j            1.0001            0.2848\n",
      "AR.3            2.2780           -0.0000j            2.2780           -0.0000\n",
      "AR.4           -0.5824           -2.5768j            2.6418           -0.2854\n",
      "AR.5           -0.5824           +2.5768j            2.6418            0.2854\n",
      "MA.1           -0.2161           -0.9764j            1.0000           -0.2847\n",
      "MA.2           -0.2161           +0.9764j            1.0000            0.2847\n",
      "MA.3            4.2056           -7.6966j            8.7707           -0.1704\n",
      "MA.4            4.2056           +7.6966j            8.7707            0.1704\n",
      "-----------------------------------------------------------------------------\n"
     ]
    }
   ],
   "source": [
    "model_13 = ARIMA(df_train, order=(5,1,4))\n",
    "model_13_fit = model_13.fit(trend='c',full_output=True, disp=1)\n",
    "print(model_13_fit.summary())"
   ]
  },
  {
   "cell_type": "code",
   "execution_count": 16,
   "metadata": {},
   "outputs": [
    {
     "name": "stderr",
     "output_type": "stream",
     "text": [
      "C:\\Users\\sm.woo\\Anaconda3\\lib\\site-packages\\statsmodels\\tsa\\base\\tsa_model.py:219: ValueWarning: A date index has been provided, but it has no associated frequency information and so will be ignored when e.g. forecasting.\n",
      "  ' ignored when e.g. forecasting.', ValueWarning)\n",
      "C:\\Users\\sm.woo\\Anaconda3\\lib\\site-packages\\statsmodels\\tsa\\base\\tsa_model.py:219: ValueWarning: A date index has been provided, but it has no associated frequency information and so will be ignored when e.g. forecasting.\n",
      "  ' ignored when e.g. forecasting.', ValueWarning)\n"
     ]
    },
    {
     "name": "stdout",
     "output_type": "stream",
     "text": [
      "                             ARIMA Model Results                              \n",
      "==============================================================================\n",
      "Dep. Variable:                 D.Rate   No. Observations:                  246\n",
      "Model:                 ARIMA(5, 1, 4)   Log Likelihood                -686.812\n",
      "Method:                       css-mle   S.D. of innovations              3.945\n",
      "Date:                Fri, 07 Feb 2020   AIC                           1393.623\n",
      "Time:                        15:56:23   BIC                           1428.677\n",
      "Sample:                             1   HQIC                          1407.738\n",
      "                                                                              \n",
      "================================================================================\n",
      "                   coef    std err          z      P>|z|      [0.025      0.975]\n",
      "--------------------------------------------------------------------------------\n",
      "ar.L1.D.Rate    -1.7648      0.370     -4.765      0.000      -2.491      -1.039\n",
      "ar.L2.D.Rate    -0.7012      0.696     -1.008      0.314      -2.065       0.662\n",
      "ar.L3.D.Rate     0.3333      0.842      0.396      0.693      -1.318       1.985\n",
      "ar.L4.D.Rate     0.2967      0.274      1.082      0.281      -0.241       0.834\n",
      "ar.L5.D.Rate     0.0289      0.102      0.284      0.777      -0.171       0.228\n",
      "ma.L1.D.Rate     1.9350      0.375      5.156      0.000       1.199       2.670\n",
      "ma.L2.D.Rate     0.9753      0.732      1.332      0.184      -0.460       2.410\n",
      "ma.L3.D.Rate    -0.2021      0.956     -0.211      0.833      -2.076       1.672\n",
      "ma.L4.D.Rate    -0.2383      0.390     -0.611      0.542      -1.002       0.526\n",
      "                                    Roots                                    \n",
      "=============================================================================\n",
      "                  Real          Imaginary           Modulus         Frequency\n",
      "-----------------------------------------------------------------------------\n",
      "AR.1            1.9018           -0.0000j            1.9018           -0.0000\n",
      "AR.2           -1.0049           -0.0000j            1.0049           -0.5000\n",
      "AR.3           -1.2275           -0.7567j            1.4420           -0.4121\n",
      "AR.4           -1.2275           +0.7567j            1.4420            0.4121\n",
      "AR.5           -8.7094           -0.0000j            8.7094           -0.5000\n",
      "MA.1            2.4535           -0.0000j            2.4535           -0.0000\n",
      "MA.2           -1.1445           -0.6161j            1.2998           -0.4214\n",
      "MA.3           -1.1445           +0.6161j            1.2998            0.4214\n",
      "MA.4           -1.0124           -0.0000j            1.0124           -0.5000\n",
      "-----------------------------------------------------------------------------\n"
     ]
    }
   ],
   "source": [
    "model_14 = ARIMA(df_train, order=(5,1,4))\n",
    "model_14_fit = model_14.fit(trend='nc',full_output=True, disp=1)\n",
    "print(model_14_fit.summary())"
   ]
  },
  {
   "cell_type": "code",
   "execution_count": 17,
   "metadata": {},
   "outputs": [
    {
     "name": "stderr",
     "output_type": "stream",
     "text": [
      "C:\\Users\\sm.woo\\Anaconda3\\lib\\site-packages\\statsmodels\\tsa\\base\\tsa_model.py:219: ValueWarning: A date index has been provided, but it has no associated frequency information and so will be ignored when e.g. forecasting.\n",
      "  ' ignored when e.g. forecasting.', ValueWarning)\n",
      "C:\\Users\\sm.woo\\Anaconda3\\lib\\site-packages\\statsmodels\\tsa\\base\\tsa_model.py:219: ValueWarning: A date index has been provided, but it has no associated frequency information and so will be ignored when e.g. forecasting.\n",
      "  ' ignored when e.g. forecasting.', ValueWarning)\n",
      "C:\\Users\\sm.woo\\Anaconda3\\lib\\site-packages\\statsmodels\\base\\model.py:492: HessianInversionWarning: Inverting hessian failed, no bse or cov_params available\n",
      "  'available', HessianInversionWarning)\n",
      "C:\\Users\\sm.woo\\Anaconda3\\lib\\site-packages\\statsmodels\\base\\model.py:512: ConvergenceWarning: Maximum Likelihood optimization failed to converge. Check mle_retvals\n",
      "  \"Check mle_retvals\", ConvergenceWarning)\n"
     ]
    },
    {
     "name": "stdout",
     "output_type": "stream",
     "text": [
      "                             ARIMA Model Results                              \n",
      "==============================================================================\n",
      "Dep. Variable:                 D.Rate   No. Observations:                  246\n",
      "Model:                 ARIMA(5, 1, 3)   Log Likelihood                -687.482\n",
      "Method:                       css-mle   S.D. of innovations              3.953\n",
      "Date:                Fri, 07 Feb 2020   AIC                           1392.965\n",
      "Time:                        15:56:28   BIC                           1424.513\n",
      "Sample:                             1   HQIC                          1405.668\n",
      "                                                                              \n",
      "================================================================================\n",
      "                   coef    std err          z      P>|z|      [0.025      0.975]\n",
      "--------------------------------------------------------------------------------\n",
      "ar.L1.D.Rate     0.4528        nan        nan        nan         nan         nan\n",
      "ar.L2.D.Rate     0.8719        nan        nan        nan         nan         nan\n",
      "ar.L3.D.Rate    -0.3831        nan        nan        nan         nan         nan\n",
      "ar.L4.D.Rate     0.1069        nan        nan        nan         nan         nan\n",
      "ar.L5.D.Rate    -0.0910        nan        nan        nan         nan         nan\n",
      "ma.L1.D.Rate    -0.2685      0.001   -291.884      0.000      -0.270      -0.267\n",
      "ma.L2.D.Rate    -0.9810        nan        nan        nan         nan         nan\n",
      "ma.L3.D.Rate     0.2874        nan        nan        nan         nan         nan\n",
      "                                    Roots                                    \n",
      "=============================================================================\n",
      "                  Real          Imaginary           Modulus         Frequency\n",
      "-----------------------------------------------------------------------------\n",
      "AR.1           -1.0000           -0.0000j            1.0000           -0.5000\n",
      "AR.2            1.0427           -0.0000j            1.0427           -0.0000\n",
      "AR.3            1.7053           -0.0000j            1.7053           -0.0000\n",
      "AR.4           -0.2865           -2.4699j            2.4865           -0.2684\n",
      "AR.5           -0.2865           +2.4699j            2.4865            0.2684\n",
      "MA.1           -1.0000           +0.0000j            1.0000            0.5000\n",
      "MA.2            1.0276           +0.0000j            1.0276            0.0000\n",
      "MA.3            3.3862           +0.0000j            3.3862            0.0000\n",
      "-----------------------------------------------------------------------------\n"
     ]
    }
   ],
   "source": [
    "model_15 = ARIMA(df_train, order=(5,1,3))\n",
    "model_15_fit = model_15.fit(trend='nc',full_output=True, disp=1)\n",
    "print(model_15_fit.summary())"
   ]
  },
  {
   "cell_type": "code",
   "execution_count": 18,
   "metadata": {},
   "outputs": [
    {
     "name": "stderr",
     "output_type": "stream",
     "text": [
      "C:\\Users\\sm.woo\\Anaconda3\\lib\\site-packages\\statsmodels\\tsa\\base\\tsa_model.py:219: ValueWarning: A date index has been provided, but it has no associated frequency information and so will be ignored when e.g. forecasting.\n",
      "  ' ignored when e.g. forecasting.', ValueWarning)\n",
      "C:\\Users\\sm.woo\\Anaconda3\\lib\\site-packages\\statsmodels\\tsa\\base\\tsa_model.py:219: ValueWarning: A date index has been provided, but it has no associated frequency information and so will be ignored when e.g. forecasting.\n",
      "  ' ignored when e.g. forecasting.', ValueWarning)\n",
      "C:\\Users\\sm.woo\\Anaconda3\\lib\\site-packages\\statsmodels\\base\\model.py:492: HessianInversionWarning: Inverting hessian failed, no bse or cov_params available\n",
      "  'available', HessianInversionWarning)\n",
      "C:\\Users\\sm.woo\\Anaconda3\\lib\\site-packages\\statsmodels\\base\\model.py:512: ConvergenceWarning: Maximum Likelihood optimization failed to converge. Check mle_retvals\n",
      "  \"Check mle_retvals\", ConvergenceWarning)\n"
     ]
    },
    {
     "name": "stdout",
     "output_type": "stream",
     "text": [
      "                             ARIMA Model Results                              \n",
      "==============================================================================\n",
      "Dep. Variable:                 D.Rate   No. Observations:                  246\n",
      "Model:                 ARIMA(5, 1, 3)   Log Likelihood                -694.792\n",
      "Method:                       css-mle   S.D. of innovations              3.950\n",
      "Date:                Fri, 07 Feb 2020   AIC                           1409.584\n",
      "Time:                        15:56:32   BIC                           1444.637\n",
      "Sample:                             1   HQIC                          1423.698\n",
      "                                                                              \n",
      "================================================================================\n",
      "                   coef    std err          z      P>|z|      [0.025      0.975]\n",
      "--------------------------------------------------------------------------------\n",
      "const            0.1190        nan        nan        nan         nan         nan\n",
      "ar.L1.D.Rate     0.9703   1.53e-05   6.34e+04      0.000       0.970       0.970\n",
      "ar.L2.D.Rate     0.7123   4.44e-06    1.6e+05      0.000       0.712       0.712\n",
      "ar.L3.D.Rate    -1.0282        nan        nan        nan         nan         nan\n",
      "ar.L4.D.Rate     0.1635   2.19e-06   7.47e+04      0.000       0.163       0.164\n",
      "ar.L5.D.Rate    -0.0664   1.28e-06   -5.2e+04      0.000      -0.066      -0.066\n",
      "ma.L1.D.Rate    -0.8814        nan        nan        nan         nan         nan\n",
      "ma.L2.D.Rate    -0.8417        nan        nan        nan         nan         nan\n",
      "ma.L3.D.Rate     0.9861        nan        nan        nan         nan         nan\n",
      "                                    Roots                                    \n",
      "=============================================================================\n",
      "                  Real          Imaginary           Modulus         Frequency\n",
      "-----------------------------------------------------------------------------\n",
      "AR.1           -1.0000           -0.0000j            1.0000           -0.5000\n",
      "AR.2            0.9381           -0.3554j            1.0032           -0.0576\n",
      "AR.3            0.9381           +0.3554j            1.0032            0.0576\n",
      "AR.4            0.7930           -3.7862j            3.8683           -0.2171\n",
      "AR.5            0.7930           +3.7862j            3.8683            0.2171\n",
      "MA.1           -1.0140           -0.0000j            1.0140           -0.5000\n",
      "MA.2            0.9338           -0.3578j            1.0000           -0.0582\n",
      "MA.3            0.9338           +0.3578j            1.0000            0.0582\n",
      "-----------------------------------------------------------------------------\n"
     ]
    }
   ],
   "source": [
    "model_16 = ARIMA(df_train, order=(5,1,3))\n",
    "model_16_fit = model_16.fit(trend='c',full_output=True, disp=1)\n",
    "print(model_16_fit.summary())"
   ]
  },
  {
   "cell_type": "code",
   "execution_count": 19,
   "metadata": {},
   "outputs": [
    {
     "name": "stderr",
     "output_type": "stream",
     "text": [
      "C:\\Users\\sm.woo\\Anaconda3\\lib\\site-packages\\statsmodels\\tsa\\base\\tsa_model.py:219: ValueWarning: A date index has been provided, but it has no associated frequency information and so will be ignored when e.g. forecasting.\n",
      "  ' ignored when e.g. forecasting.', ValueWarning)\n",
      "C:\\Users\\sm.woo\\Anaconda3\\lib\\site-packages\\statsmodels\\tsa\\base\\tsa_model.py:219: ValueWarning: A date index has been provided, but it has no associated frequency information and so will be ignored when e.g. forecasting.\n",
      "  ' ignored when e.g. forecasting.', ValueWarning)\n",
      "C:\\Users\\sm.woo\\Anaconda3\\lib\\site-packages\\statsmodels\\base\\model.py:492: HessianInversionWarning: Inverting hessian failed, no bse or cov_params available\n",
      "  'available', HessianInversionWarning)\n",
      "C:\\Users\\sm.woo\\Anaconda3\\lib\\site-packages\\statsmodels\\base\\model.py:512: ConvergenceWarning: Maximum Likelihood optimization failed to converge. Check mle_retvals\n",
      "  \"Check mle_retvals\", ConvergenceWarning)\n"
     ]
    },
    {
     "name": "stdout",
     "output_type": "stream",
     "text": [
      "                             ARIMA Model Results                              \n",
      "==============================================================================\n",
      "Dep. Variable:                 D.Rate   No. Observations:                  246\n",
      "Model:                 ARIMA(5, 1, 2)   Log Likelihood                -694.453\n",
      "Method:                       css-mle   S.D. of innovations              3.925\n",
      "Date:                Fri, 07 Feb 2020   AIC                           1406.906\n",
      "Time:                        15:56:38   BIC                           1438.454\n",
      "Sample:                             1   HQIC                          1419.609\n",
      "                                                                              \n",
      "================================================================================\n",
      "                   coef    std err          z      P>|z|      [0.025      0.975]\n",
      "--------------------------------------------------------------------------------\n",
      "const            0.3607        nan        nan        nan         nan         nan\n",
      "ar.L1.D.Rate     0.1583        nan        nan        nan         nan         nan\n",
      "ar.L2.D.Rate     0.9176        nan        nan        nan         nan         nan\n",
      "ar.L3.D.Rate    -0.0675      0.019     -3.612      0.000      -0.104      -0.031\n",
      "ar.L4.D.Rate     0.0486      0.019      2.602      0.010       0.012       0.085\n",
      "ar.L5.D.Rate    -0.1246        nan        nan        nan         nan         nan\n",
      "ma.L1.D.Rate    -0.0096      0.013     -0.730      0.466      -0.035       0.016\n",
      "ma.L2.D.Rate    -0.9904      0.013    -75.231      0.000      -1.016      -0.965\n",
      "                                    Roots                                    \n",
      "=============================================================================\n",
      "                  Real          Imaginary           Modulus         Frequency\n",
      "-----------------------------------------------------------------------------\n",
      "AR.1           -1.0000           -0.0000j            1.0000           -0.5000\n",
      "AR.2            1.0501           -0.0000j            1.0501           -0.0000\n",
      "AR.3            1.8075           -0.0000j            1.8075           -0.0000\n",
      "AR.4           -0.7338           -1.9206j            2.0560           -0.3081\n",
      "AR.5           -0.7338           +1.9206j            2.0560            0.3081\n",
      "MA.1            1.0000           +0.0000j            1.0000            0.0000\n",
      "MA.2           -1.0097           +0.0000j            1.0097            0.5000\n",
      "-----------------------------------------------------------------------------\n"
     ]
    }
   ],
   "source": [
    "model_17 = ARIMA(df_train, order=(5,1,2))\n",
    "model_17_fit = model_17.fit(trend='c',full_output=True, disp=1)\n",
    "print(model_17_fit.summary())"
   ]
  },
  {
   "cell_type": "code",
   "execution_count": 20,
   "metadata": {},
   "outputs": [
    {
     "name": "stderr",
     "output_type": "stream",
     "text": [
      "C:\\Users\\sm.woo\\Anaconda3\\lib\\site-packages\\statsmodels\\tsa\\base\\tsa_model.py:219: ValueWarning: A date index has been provided, but it has no associated frequency information and so will be ignored when e.g. forecasting.\n",
      "  ' ignored when e.g. forecasting.', ValueWarning)\n",
      "C:\\Users\\sm.woo\\Anaconda3\\lib\\site-packages\\statsmodels\\tsa\\base\\tsa_model.py:219: ValueWarning: A date index has been provided, but it has no associated frequency information and so will be ignored when e.g. forecasting.\n",
      "  ' ignored when e.g. forecasting.', ValueWarning)\n",
      "C:\\Users\\sm.woo\\Anaconda3\\lib\\site-packages\\statsmodels\\base\\model.py:492: HessianInversionWarning: Inverting hessian failed, no bse or cov_params available\n",
      "  'available', HessianInversionWarning)\n"
     ]
    },
    {
     "name": "stdout",
     "output_type": "stream",
     "text": [
      "                             ARIMA Model Results                              \n",
      "==============================================================================\n",
      "Dep. Variable:                 D.Rate   No. Observations:                  246\n",
      "Model:                 ARIMA(5, 1, 2)   Log Likelihood                -687.745\n",
      "Method:                       css-mle   S.D. of innovations              3.957\n",
      "Date:                Fri, 07 Feb 2020   AIC                           1391.489\n",
      "Time:                        15:56:45   BIC                           1419.532\n",
      "Sample:                             1   HQIC                          1402.781\n",
      "                                                                              \n",
      "================================================================================\n",
      "                   coef    std err          z      P>|z|      [0.025      0.975]\n",
      "--------------------------------------------------------------------------------\n",
      "ar.L1.D.Rate     0.1575      0.063      2.485      0.014       0.033       0.282\n",
      "ar.L2.D.Rate     0.9506      0.065     14.543      0.000       0.822       1.079\n",
      "ar.L3.D.Rate    -0.0935      0.089     -1.048      0.296      -0.268       0.081\n",
      "ar.L4.D.Rate     0.0444      0.066      0.674      0.501      -0.085       0.174\n",
      "ar.L5.D.Rate    -0.0686      0.066     -1.047      0.296      -0.197       0.060\n",
      "ma.L1.D.Rate  7.753e-05      0.009      0.009      0.993      -0.018       0.018\n",
      "ma.L2.D.Rate    -0.9999      0.009   -111.317      0.000      -1.018      -0.982\n",
      "                                    Roots                                    \n",
      "=============================================================================\n",
      "                  Real          Imaginary           Modulus         Frequency\n",
      "-----------------------------------------------------------------------------\n",
      "AR.1           -1.0001           -0.0000j            1.0001           -0.5000\n",
      "AR.2            1.0060           -0.0000j            1.0060           -0.0000\n",
      "AR.3            2.3171           -0.0000j            2.3171           -0.0000\n",
      "AR.4           -0.8382           -2.3550j            2.4997           -0.3044\n",
      "AR.5           -0.8382           +2.3550j            2.4997            0.3044\n",
      "MA.1           -1.0000           +0.0000j            1.0000            0.5000\n",
      "MA.2            1.0001           +0.0000j            1.0001            0.0000\n",
      "-----------------------------------------------------------------------------\n"
     ]
    }
   ],
   "source": [
    "model_18 = ARIMA(df_train, order=(5,1,2))\n",
    "model_18_fit = model_18.fit(trend='nc',full_output=True, disp=1)\n",
    "print(model_18_fit.summary())"
   ]
  },
  {
   "cell_type": "code",
   "execution_count": 21,
   "metadata": {},
   "outputs": [
    {
     "name": "stderr",
     "output_type": "stream",
     "text": [
      "C:\\Users\\sm.woo\\Anaconda3\\lib\\site-packages\\statsmodels\\tsa\\base\\tsa_model.py:219: ValueWarning: A date index has been provided, but it has no associated frequency information and so will be ignored when e.g. forecasting.\n",
      "  ' ignored when e.g. forecasting.', ValueWarning)\n",
      "C:\\Users\\sm.woo\\Anaconda3\\lib\\site-packages\\statsmodels\\tsa\\base\\tsa_model.py:219: ValueWarning: A date index has been provided, but it has no associated frequency information and so will be ignored when e.g. forecasting.\n",
      "  ' ignored when e.g. forecasting.', ValueWarning)\n"
     ]
    },
    {
     "name": "stdout",
     "output_type": "stream",
     "text": [
      "                             ARIMA Model Results                              \n",
      "==============================================================================\n",
      "Dep. Variable:                 D.Rate   No. Observations:                  246\n",
      "Model:                 ARIMA(5, 1, 1)   Log Likelihood                -687.111\n",
      "Method:                       css-mle   S.D. of innovations              3.951\n",
      "Date:                Fri, 07 Feb 2020   AIC                           1388.223\n",
      "Time:                        15:56:47   BIC                           1412.760\n",
      "Sample:                             1   HQIC                          1398.103\n",
      "                                                                              \n",
      "================================================================================\n",
      "                   coef    std err          z      P>|z|      [0.025      0.975]\n",
      "--------------------------------------------------------------------------------\n",
      "ar.L1.D.Rate    -0.7584      0.198     -3.823      0.000      -1.147      -0.370\n",
      "ar.L2.D.Rate     0.1037      0.085      1.227      0.221      -0.062       0.269\n",
      "ar.L3.D.Rate     0.0216      0.082      0.262      0.794      -0.140       0.183\n",
      "ar.L4.D.Rate     0.0741      0.082      0.906      0.366      -0.086       0.234\n",
      "ar.L5.D.Rate    -0.0231      0.076     -0.304      0.761      -0.172       0.126\n",
      "ma.L1.D.Rate     0.9247      0.189      4.881      0.000       0.553       1.296\n",
      "                                    Roots                                    \n",
      "=============================================================================\n",
      "                  Real          Imaginary           Modulus         Frequency\n",
      "-----------------------------------------------------------------------------\n",
      "AR.1           -1.0462           -0.0000j            1.0462           -0.5000\n",
      "AR.2           -0.8751           -1.8579j            2.0537           -0.3201\n",
      "AR.3           -0.8751           +1.8579j            2.0537            0.3201\n",
      "AR.4            2.9995           -0.8936j            3.1298           -0.0461\n",
      "AR.5            2.9995           +0.8936j            3.1298            0.0461\n",
      "MA.1           -1.0814           +0.0000j            1.0814            0.5000\n",
      "-----------------------------------------------------------------------------\n"
     ]
    }
   ],
   "source": [
    "model_19 = ARIMA(df_train, order=(5,1,1))\n",
    "model_19_fit = model_19.fit(trend='nc',full_output=True, disp=1)\n",
    "print(model_19_fit.summary())"
   ]
  },
  {
   "cell_type": "code",
   "execution_count": 22,
   "metadata": {},
   "outputs": [
    {
     "name": "stderr",
     "output_type": "stream",
     "text": [
      "C:\\Users\\sm.woo\\Anaconda3\\lib\\site-packages\\statsmodels\\tsa\\base\\tsa_model.py:219: ValueWarning: A date index has been provided, but it has no associated frequency information and so will be ignored when e.g. forecasting.\n",
      "  ' ignored when e.g. forecasting.', ValueWarning)\n",
      "C:\\Users\\sm.woo\\Anaconda3\\lib\\site-packages\\statsmodels\\tsa\\base\\tsa_model.py:219: ValueWarning: A date index has been provided, but it has no associated frequency information and so will be ignored when e.g. forecasting.\n",
      "  ' ignored when e.g. forecasting.', ValueWarning)\n"
     ]
    },
    {
     "name": "stdout",
     "output_type": "stream",
     "text": [
      "                             ARIMA Model Results                              \n",
      "==============================================================================\n",
      "Dep. Variable:                 D.Rate   No. Observations:                  246\n",
      "Model:                 ARIMA(5, 1, 1)   Log Likelihood                -687.038\n",
      "Method:                       css-mle   S.D. of innovations              3.950\n",
      "Date:                Fri, 07 Feb 2020   AIC                           1390.077\n",
      "Time:                        15:56:50   BIC                           1418.120\n",
      "Sample:                             1   HQIC                          1401.368\n",
      "                                                                              \n",
      "================================================================================\n",
      "                   coef    std err          z      P>|z|      [0.025      0.975]\n",
      "--------------------------------------------------------------------------------\n",
      "const            0.1168      0.305      0.383      0.702      -0.481       0.714\n",
      "ar.L1.D.Rate    -0.7582      0.197     -3.848      0.000      -1.144      -0.372\n",
      "ar.L2.D.Rate     0.1023      0.084      1.210      0.227      -0.063       0.268\n",
      "ar.L3.D.Rate     0.0197      0.082      0.239      0.811      -0.142       0.181\n",
      "ar.L4.D.Rate     0.0721      0.082      0.880      0.380      -0.088       0.233\n",
      "ar.L5.D.Rate    -0.0243      0.076     -0.321      0.749      -0.173       0.124\n",
      "ma.L1.D.Rate     0.9240      0.188      4.915      0.000       0.556       1.293\n",
      "                                    Roots                                    \n",
      "=============================================================================\n",
      "                  Real          Imaginary           Modulus         Frequency\n",
      "-----------------------------------------------------------------------------\n",
      "AR.1           -1.0466           -0.0000j            1.0466           -0.5000\n",
      "AR.2           -0.8809           -1.8499j            2.0489           -0.3207\n",
      "AR.3           -0.8809           +1.8499j            2.0489            0.3207\n",
      "AR.4            2.8855           -1.0141j            3.0585           -0.0538\n",
      "AR.5            2.8855           +1.0141j            3.0585            0.0538\n",
      "MA.1           -1.0822           +0.0000j            1.0822            0.5000\n",
      "-----------------------------------------------------------------------------\n"
     ]
    }
   ],
   "source": [
    "model_20 = ARIMA(df_train, order=(5,1,1))\n",
    "model_20_fit = model_20.fit(trend='c',full_output=True, disp=1)\n",
    "print(model_20_fit.summary())"
   ]
  },
  {
   "cell_type": "code",
   "execution_count": 23,
   "metadata": {},
   "outputs": [
    {
     "name": "stderr",
     "output_type": "stream",
     "text": [
      "C:\\Users\\sm.woo\\Anaconda3\\lib\\site-packages\\statsmodels\\tsa\\base\\tsa_model.py:219: ValueWarning: A date index has been provided, but it has no associated frequency information and so will be ignored when e.g. forecasting.\n",
      "  ' ignored when e.g. forecasting.', ValueWarning)\n",
      "C:\\Users\\sm.woo\\Anaconda3\\lib\\site-packages\\statsmodels\\tsa\\base\\tsa_model.py:219: ValueWarning: A date index has been provided, but it has no associated frequency information and so will be ignored when e.g. forecasting.\n",
      "  ' ignored when e.g. forecasting.', ValueWarning)\n",
      "C:\\Users\\sm.woo\\Anaconda3\\lib\\site-packages\\statsmodels\\base\\model.py:492: HessianInversionWarning: Inverting hessian failed, no bse or cov_params available\n",
      "  'available', HessianInversionWarning)\n"
     ]
    },
    {
     "name": "stdout",
     "output_type": "stream",
     "text": [
      "                             ARIMA Model Results                              \n",
      "==============================================================================\n",
      "Dep. Variable:                 D.Rate   No. Observations:                  246\n",
      "Model:                 ARIMA(5, 1, 5)   Log Likelihood                -687.515\n",
      "Method:                       css-mle   S.D. of innovations              3.933\n",
      "Date:                Fri, 07 Feb 2020   AIC                           1397.031\n",
      "Time:                        15:57:02   BIC                           1435.590\n",
      "Sample:                             1   HQIC                          1412.557\n",
      "                                                                              \n",
      "================================================================================\n",
      "                   coef    std err          z      P>|z|      [0.025      0.975]\n",
      "--------------------------------------------------------------------------------\n",
      "ar.L1.D.Rate     0.9965      0.001   1350.819      0.000       0.995       0.998\n",
      "ar.L2.D.Rate    -1.1380      0.000  -3039.858      0.000      -1.139      -1.137\n",
      "ar.L3.D.Rate     0.9492      0.000   5952.455      0.000       0.949       0.950\n",
      "ar.L4.D.Rate    -0.8260      0.001   -798.475      0.000      -0.828      -0.824\n",
      "ar.L5.D.Rate    -0.1515      0.001   -117.048      0.000      -0.154      -0.149\n",
      "ma.L1.D.Rate    -0.8411      0.061    -13.818      0.000      -0.960      -0.722\n",
      "ma.L2.D.Rate     0.9584      0.070     13.646      0.000       0.821       1.096\n",
      "ma.L3.D.Rate    -0.7446      0.081     -9.216      0.000      -0.903      -0.586\n",
      "ma.L4.D.Rate     0.6456      0.070      9.247      0.000       0.509       0.782\n",
      "ma.L5.D.Rate     0.3084      0.061      5.067      0.000       0.189       0.428\n",
      "                                    Roots                                    \n",
      "=============================================================================\n",
      "                  Real          Imaginary           Modulus         Frequency\n",
      "-----------------------------------------------------------------------------\n",
      "AR.1            0.7914           -0.6113j            1.0000           -0.1047\n",
      "AR.2            0.7914           +0.6113j            1.0000            0.1047\n",
      "AR.3           -0.2173           -0.9761j            1.0000           -0.2849\n",
      "AR.4           -0.2173           +0.9761j            1.0000            0.2849\n",
      "AR.5           -6.6004           -0.0000j            6.6004           -0.5000\n",
      "MA.1            0.7917           -0.6109j            1.0000           -0.1046\n",
      "MA.2            0.7917           +0.6109j            1.0000            0.1046\n",
      "MA.3           -0.2170           -0.9762j            1.0000           -0.2848\n",
      "MA.4           -0.2170           +0.9762j            1.0000            0.2848\n",
      "MA.5           -3.2430           -0.0000j            3.2430           -0.5000\n",
      "-----------------------------------------------------------------------------\n"
     ]
    }
   ],
   "source": [
    "model_21 = ARIMA(df_train, order=(5,1,5))\n",
    "model_21_fit = model_21.fit(trend='nc',full_output=True, disp=1)\n",
    "print(model_21_fit.summary())"
   ]
  },
  {
   "cell_type": "code",
   "execution_count": 24,
   "metadata": {},
   "outputs": [
    {
     "name": "stderr",
     "output_type": "stream",
     "text": [
      "C:\\Users\\sm.woo\\Anaconda3\\lib\\site-packages\\statsmodels\\tsa\\base\\tsa_model.py:219: ValueWarning: A date index has been provided, but it has no associated frequency information and so will be ignored when e.g. forecasting.\n",
      "  ' ignored when e.g. forecasting.', ValueWarning)\n",
      "C:\\Users\\sm.woo\\Anaconda3\\lib\\site-packages\\statsmodels\\tsa\\base\\tsa_model.py:219: ValueWarning: A date index has been provided, but it has no associated frequency information and so will be ignored when e.g. forecasting.\n",
      "  ' ignored when e.g. forecasting.', ValueWarning)\n",
      "C:\\Users\\sm.woo\\Anaconda3\\lib\\site-packages\\statsmodels\\base\\model.py:492: HessianInversionWarning: Inverting hessian failed, no bse or cov_params available\n",
      "  'available', HessianInversionWarning)\n",
      "C:\\Users\\sm.woo\\Anaconda3\\lib\\site-packages\\statsmodels\\base\\model.py:512: ConvergenceWarning: Maximum Likelihood optimization failed to converge. Check mle_retvals\n",
      "  \"Check mle_retvals\", ConvergenceWarning)\n"
     ]
    },
    {
     "name": "stdout",
     "output_type": "stream",
     "text": [
      "                             ARIMA Model Results                              \n",
      "==============================================================================\n",
      "Dep. Variable:                 D.Rate   No. Observations:                  246\n",
      "Model:                 ARIMA(5, 1, 5)   Log Likelihood                -687.460\n",
      "Method:                       css-mle   S.D. of innovations              3.933\n",
      "Date:                Fri, 07 Feb 2020   AIC                           1398.921\n",
      "Time:                        15:57:29   BIC                           1440.985\n",
      "Sample:                             1   HQIC                          1415.858\n",
      "                                                                              \n",
      "================================================================================\n",
      "                   coef    std err          z      P>|z|      [0.025      0.975]\n",
      "--------------------------------------------------------------------------------\n",
      "const            0.1238      0.282      0.439      0.661      -0.429       0.676\n",
      "ar.L1.D.Rate     1.0253        nan        nan        nan         nan         nan\n",
      "ar.L2.D.Rate    -1.1905        nan        nan        nan         nan         nan\n",
      "ar.L3.D.Rate     0.9303        nan        nan        nan         nan         nan\n",
      "ar.L4.D.Rate    -0.7395        nan        nan        nan         nan         nan\n",
      "ar.L5.D.Rate    -0.2106        nan        nan        nan         nan         nan\n",
      "ma.L1.D.Rate    -0.8730      0.059    -14.792      0.000      -0.989      -0.757\n",
      "ma.L2.D.Rate     1.0007      0.072     13.968      0.000       0.860       1.141\n",
      "ma.L3.D.Rate    -0.7100      0.082     -8.642      0.000      -0.871      -0.549\n",
      "ma.L4.D.Rate     0.5514      0.066      8.379      0.000       0.422       0.680\n",
      "ma.L5.D.Rate     0.3630      0.056      6.507      0.000       0.254       0.472\n",
      "                                    Roots                                    \n",
      "=============================================================================\n",
      "                  Real          Imaginary           Modulus         Frequency\n",
      "-----------------------------------------------------------------------------\n",
      "AR.1            0.7915           -0.6112j            1.0000           -0.1047\n",
      "AR.2            0.7915           +0.6112j            1.0000            0.1047\n",
      "AR.3           -0.1734           -0.9849j            1.0000           -0.2777\n",
      "AR.4           -0.1734           +0.9849j            1.0000            0.2777\n",
      "AR.5           -4.7470           -0.0000j            4.7470           -0.5000\n",
      "MA.1            0.7919           -0.6107j            1.0000           -0.1046\n",
      "MA.2            0.7919           +0.6107j            1.0000            0.1046\n",
      "MA.3           -0.1739           -0.9848j            1.0000           -0.2778\n",
      "MA.4           -0.1739           +0.9848j            1.0000            0.2778\n",
      "MA.5           -2.7551           -0.0000j            2.7551           -0.5000\n",
      "-----------------------------------------------------------------------------\n"
     ]
    }
   ],
   "source": [
    "model_22 = ARIMA(df_train, order=(5,1,5))\n",
    "model_22_fit = model_22.fit(trend='c',full_output=True, disp=1)\n",
    "print(model_22_fit.summary())"
   ]
  },
  {
   "cell_type": "code",
   "execution_count": 25,
   "metadata": {},
   "outputs": [
    {
     "name": "stderr",
     "output_type": "stream",
     "text": [
      "C:\\Users\\sm.woo\\Anaconda3\\lib\\site-packages\\statsmodels\\tsa\\base\\tsa_model.py:219: ValueWarning: A date index has been provided, but it has no associated frequency information and so will be ignored when e.g. forecasting.\n",
      "  ' ignored when e.g. forecasting.', ValueWarning)\n",
      "C:\\Users\\sm.woo\\Anaconda3\\lib\\site-packages\\statsmodels\\base\\model.py:492: HessianInversionWarning: Inverting hessian failed, no bse or cov_params available\n",
      "  'available', HessianInversionWarning)\n",
      "C:\\Users\\sm.woo\\Anaconda3\\lib\\site-packages\\statsmodels\\base\\model.py:512: ConvergenceWarning: Maximum Likelihood optimization failed to converge. Check mle_retvals\n",
      "  \"Check mle_retvals\", ConvergenceWarning)\n"
     ]
    },
    {
     "name": "stdout",
     "output_type": "stream",
     "text": [
      "                              ARMA Model Results                              \n",
      "==============================================================================\n",
      "Dep. Variable:                   Rate   No. Observations:                  247\n",
      "Model:                     ARMA(5, 5)   Log Likelihood                -690.255\n",
      "Method:                       css-mle   S.D. of innovations              3.892\n",
      "Date:                Fri, 07 Feb 2020   AIC                           1404.511\n",
      "Time:                        15:57:56   BIC                           1446.623\n",
      "Sample:                             0   HQIC                          1421.466\n",
      "                                                                              \n",
      "==============================================================================\n",
      "                 coef    std err          z      P>|z|      [0.025      0.975]\n",
      "------------------------------------------------------------------------------\n",
      "const       1168.4155     25.161     46.437      0.000    1119.100    1217.731\n",
      "ar.L1.Rate     2.0438      0.044     46.212      0.000       1.957       2.130\n",
      "ar.L2.Rate    -2.3601      0.069    -34.392      0.000      -2.495      -2.226\n",
      "ar.L3.Rate     2.3722      0.057     41.499      0.000       2.260       2.484\n",
      "ar.L4.Rate    -2.0194      0.052    -38.690      0.000      -2.122      -1.917\n",
      "ar.L5.Rate     0.9498      0.028     33.872      0.000       0.895       1.005\n",
      "ma.L1.Rate    -0.9030      0.080    -11.296      0.000      -1.060      -0.746\n",
      "ma.L2.Rate     1.1655      0.083     14.021      0.000       1.003       1.328\n",
      "ma.L3.Rate    -0.8420      0.103     -8.188      0.000      -1.043      -0.640\n",
      "ma.L4.Rate     0.8118      0.086      9.441      0.000       0.643       0.980\n",
      "ma.L5.Rate     0.1738      0.073      2.393      0.017       0.031       0.316\n",
      "                                    Roots                                    \n",
      "=============================================================================\n",
      "                  Real          Imaginary           Modulus         Frequency\n",
      "-----------------------------------------------------------------------------\n",
      "AR.1           -0.2166           -0.9767j            1.0004           -0.2847\n",
      "AR.2           -0.2166           +0.9767j            1.0004            0.2847\n",
      "AR.3            0.7736           -0.6641j            1.0195           -0.1129\n",
      "AR.4            0.7736           +0.6641j            1.0195            0.1129\n",
      "AR.5            1.0120           -0.0000j            1.0120           -0.0000\n",
      "MA.1            0.7537           -0.6579j            1.0004           -0.1142\n",
      "MA.2            0.7537           +0.6579j            1.0004            0.1142\n",
      "MA.3           -0.2146           -0.9767j            1.0000           -0.2844\n",
      "MA.4           -0.2146           +0.9767j            1.0000            0.2844\n",
      "MA.5           -5.7478           -0.0000j            5.7478           -0.5000\n",
      "-----------------------------------------------------------------------------\n"
     ]
    }
   ],
   "source": [
    "model_23 = ARIMA(df_train, order=(5,0,5))\n",
    "model_23_fit = model_23.fit(trend='c',full_output=True, disp=1)\n",
    "print(model_23_fit.summary())"
   ]
  },
  {
   "cell_type": "code",
   "execution_count": 26,
   "metadata": {},
   "outputs": [
    {
     "name": "stderr",
     "output_type": "stream",
     "text": [
      "C:\\Users\\sm.woo\\Anaconda3\\lib\\site-packages\\statsmodels\\tsa\\base\\tsa_model.py:219: ValueWarning: A date index has been provided, but it has no associated frequency information and so will be ignored when e.g. forecasting.\n",
      "  ' ignored when e.g. forecasting.', ValueWarning)\n"
     ]
    },
    {
     "name": "stdout",
     "output_type": "stream",
     "text": [
      "                              ARMA Model Results                              \n",
      "==============================================================================\n",
      "Dep. Variable:                   Rate   No. Observations:                  247\n",
      "Model:                     ARMA(5, 0)   Log Likelihood                -699.472\n",
      "Method:                       css-mle   S.D. of innovations              3.957\n",
      "Date:                Fri, 07 Feb 2020   AIC                           1410.944\n",
      "Time:                        15:57:57   BIC                           1432.001\n",
      "Sample:                             0   HQIC                          1419.422\n",
      "                                                                              \n",
      "==============================================================================\n",
      "                 coef    std err          z      P>|z|      [0.025      0.975]\n",
      "------------------------------------------------------------------------------\n",
      "ar.L1.Rate     1.1587   1.15e-05   1.01e+05      0.000       1.159       1.159\n",
      "ar.L2.Rate    -0.2029   2.57e-06  -7.88e+04      0.000      -0.203      -0.203\n",
      "ar.L3.Rate     0.1095    3.3e-06   3.31e+04      0.000       0.110       0.110\n",
      "ar.L4.Rate    -0.0569      0.054     -1.056      0.292      -0.162       0.049\n",
      "ar.L5.Rate    -0.0085      0.054     -0.159      0.874      -0.114       0.097\n",
      "                                    Roots                                    \n",
      "=============================================================================\n",
      "                  Real          Imaginary           Modulus         Frequency\n",
      "-----------------------------------------------------------------------------\n",
      "AR.1            1.0000           -0.0000j            1.0000           -0.0000\n",
      "AR.2            2.1745           -0.0000j            2.1745           -0.0000\n",
      "AR.3           -0.5764           -2.4231j            2.4907           -0.2872\n",
      "AR.4           -0.5764           +2.4231j            2.4907            0.2872\n",
      "AR.5           -8.6729           -0.0000j            8.6729           -0.5000\n",
      "-----------------------------------------------------------------------------\n"
     ]
    },
    {
     "name": "stderr",
     "output_type": "stream",
     "text": [
      "C:\\Users\\sm.woo\\Anaconda3\\lib\\site-packages\\statsmodels\\base\\model.py:492: HessianInversionWarning: Inverting hessian failed, no bse or cov_params available\n",
      "  'available', HessianInversionWarning)\n",
      "C:\\Users\\sm.woo\\Anaconda3\\lib\\site-packages\\statsmodels\\base\\model.py:512: ConvergenceWarning: Maximum Likelihood optimization failed to converge. Check mle_retvals\n",
      "  \"Check mle_retvals\", ConvergenceWarning)\n"
     ]
    }
   ],
   "source": [
    "#non값 사용 불가능\n",
    "model_24 = ARIMA(df_train, order=(5,0,0))\n",
    "model_24_fit = model_24.fit(trend='nc',full_output=True, disp=1)\n",
    "print(model_24_fit.summary())"
   ]
  },
  {
   "cell_type": "code",
   "execution_count": 27,
   "metadata": {},
   "outputs": [
    {
     "name": "stderr",
     "output_type": "stream",
     "text": [
      "C:\\Users\\sm.woo\\Anaconda3\\lib\\site-packages\\statsmodels\\tsa\\base\\tsa_model.py:219: ValueWarning: A date index has been provided, but it has no associated frequency information and so will be ignored when e.g. forecasting.\n",
      "  ' ignored when e.g. forecasting.', ValueWarning)\n"
     ]
    },
    {
     "name": "stdout",
     "output_type": "stream",
     "text": [
      "                              ARMA Model Results                              \n",
      "==============================================================================\n",
      "Dep. Variable:                   Rate   No. Observations:                  247\n",
      "Model:                     ARMA(5, 0)   Log Likelihood                -691.644\n",
      "Method:                       css-mle   S.D. of innovations              3.947\n",
      "Date:                Fri, 07 Feb 2020   AIC                           1397.289\n",
      "Time:                        15:57:58   BIC                           1421.854\n",
      "Sample:                             0   HQIC                          1407.179\n",
      "                                                                              \n",
      "==============================================================================\n",
      "                 coef    std err          z      P>|z|      [0.025      0.975]\n",
      "------------------------------------------------------------------------------\n",
      "const       1156.6262     17.497     66.103      0.000    1122.332    1190.920\n",
      "ar.L1.Rate     1.1507      0.063     18.126      0.000       1.026       1.275\n",
      "ar.L2.Rate    -0.2018      0.098     -2.053      0.041      -0.394      -0.009\n",
      "ar.L3.Rate     0.1091      0.100      1.096      0.274      -0.086       0.304\n",
      "ar.L4.Rate    -0.0533      0.099     -0.538      0.591      -0.248       0.141\n",
      "ar.L5.Rate    -0.0163      0.065     -0.251      0.802      -0.144       0.111\n",
      "                                    Roots                                    \n",
      "=============================================================================\n",
      "                  Real          Imaginary           Modulus         Frequency\n",
      "-----------------------------------------------------------------------------\n",
      "AR.1            1.0149           -0.0000j            1.0149           -0.0000\n",
      "AR.2            1.9941           -0.0000j            1.9941           -0.0000\n",
      "AR.3           -0.4236           -2.3234j            2.3617           -0.2787\n",
      "AR.4           -0.4236           +2.3234j            2.3617            0.2787\n",
      "AR.5           -5.4312           -0.0000j            5.4312           -0.5000\n",
      "-----------------------------------------------------------------------------\n"
     ]
    }
   ],
   "source": [
    "model_25 = ARIMA(df_train, order=(5,0,0))\n",
    "model_25_fit = model_25.fit(trend='c',full_output=True, disp=1)\n",
    "print(model_25_fit.summary())"
   ]
  },
  {
   "cell_type": "code",
   "execution_count": 28,
   "metadata": {},
   "outputs": [
    {
     "name": "stderr",
     "output_type": "stream",
     "text": [
      "C:\\Users\\sm.woo\\Anaconda3\\lib\\site-packages\\statsmodels\\tsa\\base\\tsa_model.py:219: ValueWarning: A date index has been provided, but it has no associated frequency information and so will be ignored when e.g. forecasting.\n",
      "  ' ignored when e.g. forecasting.', ValueWarning)\n",
      "C:\\Users\\sm.woo\\Anaconda3\\lib\\site-packages\\statsmodels\\tsa\\base\\tsa_model.py:219: ValueWarning: A date index has been provided, but it has no associated frequency information and so will be ignored when e.g. forecasting.\n",
      "  ' ignored when e.g. forecasting.', ValueWarning)\n"
     ]
    },
    {
     "name": "stdout",
     "output_type": "stream",
     "text": [
      "                             ARIMA Model Results                              \n",
      "==============================================================================\n",
      "Dep. Variable:                 D.Rate   No. Observations:                  246\n",
      "Model:                 ARIMA(0, 1, 5)   Log Likelihood                -687.799\n",
      "Method:                       css-mle   S.D. of innovations              3.963\n",
      "Date:                Fri, 07 Feb 2020   AIC                           1387.599\n",
      "Time:                        15:57:59   BIC                           1408.631\n",
      "Sample:                             1   HQIC                          1396.067\n",
      "                                                                              \n",
      "================================================================================\n",
      "                   coef    std err          z      P>|z|      [0.025      0.975]\n",
      "--------------------------------------------------------------------------------\n",
      "ma.L1.D.Rate     0.1627      0.064      2.541      0.012       0.037       0.288\n",
      "ma.L2.D.Rate    -0.0252      0.067     -0.379      0.705      -0.156       0.105\n",
      "ma.L3.D.Rate     0.0514      0.063      0.812      0.417      -0.073       0.176\n",
      "ma.L4.D.Rate     0.0410      0.069      0.591      0.555      -0.095       0.177\n",
      "ma.L5.D.Rate    -0.0229      0.067     -0.342      0.733      -0.154       0.108\n",
      "                                    Roots                                    \n",
      "=============================================================================\n",
      "                  Real          Imaginary           Modulus         Frequency\n",
      "-----------------------------------------------------------------------------\n",
      "MA.1           -1.5674           -0.9689j            1.8427           -0.4119\n",
      "MA.2           -1.5674           +0.9689j            1.8427            0.4119\n",
      "MA.3            0.9092           -1.8216j            2.0359           -0.1763\n",
      "MA.4            0.9092           +1.8216j            2.0359            0.1763\n",
      "MA.5            3.1073           -0.0000j            3.1073           -0.0000\n",
      "-----------------------------------------------------------------------------\n"
     ]
    }
   ],
   "source": [
    "model_26 = ARIMA(df_train, order=(0,1,5))\n",
    "model_26_fit = model_26.fit(trend='nc',full_output=True, disp=1)\n",
    "print(model_26_fit.summary())"
   ]
  },
  {
   "cell_type": "code",
   "execution_count": 29,
   "metadata": {},
   "outputs": [
    {
     "name": "stderr",
     "output_type": "stream",
     "text": [
      "C:\\Users\\sm.woo\\Anaconda3\\lib\\site-packages\\statsmodels\\tsa\\base\\tsa_model.py:219: ValueWarning: A date index has been provided, but it has no associated frequency information and so will be ignored when e.g. forecasting.\n",
      "  ' ignored when e.g. forecasting.', ValueWarning)\n",
      "C:\\Users\\sm.woo\\Anaconda3\\lib\\site-packages\\statsmodels\\tsa\\base\\tsa_model.py:219: ValueWarning: A date index has been provided, but it has no associated frequency information and so will be ignored when e.g. forecasting.\n",
      "  ' ignored when e.g. forecasting.', ValueWarning)\n"
     ]
    },
    {
     "name": "stdout",
     "output_type": "stream",
     "text": [
      "                             ARIMA Model Results                              \n",
      "==============================================================================\n",
      "Dep. Variable:                 D.Rate   No. Observations:                  246\n",
      "Model:                 ARIMA(0, 1, 5)   Log Likelihood                -687.725\n",
      "Method:                       css-mle   S.D. of innovations              3.961\n",
      "Date:                Fri, 07 Feb 2020   AIC                           1389.449\n",
      "Time:                        15:57:59   BIC                           1413.987\n",
      "Sample:                             1   HQIC                          1399.329\n",
      "                                                                              \n",
      "================================================================================\n",
      "                   coef    std err          z      P>|z|      [0.025      0.975]\n",
      "--------------------------------------------------------------------------------\n",
      "const            0.1176      0.303      0.388      0.699      -0.477       0.712\n",
      "ma.L1.D.Rate     0.1623      0.064      2.535      0.012       0.037       0.288\n",
      "ma.L2.D.Rate    -0.0262      0.067     -0.394      0.694      -0.157       0.104\n",
      "ma.L3.D.Rate     0.0502      0.064      0.790      0.430      -0.074       0.175\n",
      "ma.L4.D.Rate     0.0395      0.070      0.569      0.570      -0.097       0.176\n",
      "ma.L5.D.Rate    -0.0242      0.067     -0.362      0.718      -0.156       0.107\n",
      "                                    Roots                                    \n",
      "=============================================================================\n",
      "                  Real          Imaginary           Modulus         Frequency\n",
      "-----------------------------------------------------------------------------\n",
      "MA.1           -1.5603           -0.9630j            1.8336           -0.4120\n",
      "MA.2           -1.5603           +0.9630j            1.8336            0.4120\n",
      "MA.3            0.8858           -1.8255j            2.0291           -0.1781\n",
      "MA.4            0.8858           +1.8255j            2.0291            0.1781\n",
      "MA.5            2.9798           -0.0000j            2.9798           -0.0000\n",
      "-----------------------------------------------------------------------------\n"
     ]
    }
   ],
   "source": [
    "model_27 = ARIMA(df_train, order=(0,1,5))\n",
    "model_27_fit = model_27.fit(trend='c',full_output=True, disp=1)\n",
    "print(model_27_fit.summary())"
   ]
  },
  {
   "cell_type": "code",
   "execution_count": 30,
   "metadata": {},
   "outputs": [
    {
     "name": "stderr",
     "output_type": "stream",
     "text": [
      "C:\\Users\\sm.woo\\Anaconda3\\lib\\site-packages\\statsmodels\\tsa\\base\\tsa_model.py:219: ValueWarning: A date index has been provided, but it has no associated frequency information and so will be ignored when e.g. forecasting.\n",
      "  ' ignored when e.g. forecasting.', ValueWarning)\n",
      "C:\\Users\\sm.woo\\Anaconda3\\lib\\site-packages\\statsmodels\\tsa\\base\\tsa_model.py:219: ValueWarning: A date index has been provided, but it has no associated frequency information and so will be ignored when e.g. forecasting.\n",
      "  ' ignored when e.g. forecasting.', ValueWarning)\n"
     ]
    },
    {
     "name": "stdout",
     "output_type": "stream",
     "text": [
      "                             ARIMA Model Results                              \n",
      "==============================================================================\n",
      "Dep. Variable:                 D.Rate   No. Observations:                  246\n",
      "Model:                 ARIMA(0, 1, 4)   Log Likelihood                -687.857\n",
      "Method:                       css-mle   S.D. of innovations              3.964\n",
      "Date:                Fri, 07 Feb 2020   AIC                           1385.715\n",
      "Time:                        15:58:00   BIC                           1403.242\n",
      "Sample:                             1   HQIC                          1392.772\n",
      "                                                                              \n",
      "================================================================================\n",
      "                   coef    std err          z      P>|z|      [0.025      0.975]\n",
      "--------------------------------------------------------------------------------\n",
      "ma.L1.D.Rate     0.1611      0.064      2.521      0.012       0.036       0.286\n",
      "ma.L2.D.Rate    -0.0219      0.066     -0.332      0.740      -0.151       0.107\n",
      "ma.L3.D.Rate     0.0524      0.063      0.828      0.409      -0.072       0.177\n",
      "ma.L4.D.Rate     0.0464      0.067      0.687      0.492      -0.086       0.179\n",
      "                                    Roots                                    \n",
      "=============================================================================\n",
      "                  Real          Imaginary           Modulus         Frequency\n",
      "-----------------------------------------------------------------------------\n",
      "MA.1            1.3062           -1.6328j            2.0909           -0.1426\n",
      "MA.2            1.3062           +1.6328j            2.0909            0.1426\n",
      "MA.3           -1.8715           -1.1963j            2.2212           -0.4095\n",
      "MA.4           -1.8715           +1.1963j            2.2212            0.4095\n",
      "-----------------------------------------------------------------------------\n"
     ]
    }
   ],
   "source": [
    "model_28 = ARIMA(df_train, order=(0,1,4))\n",
    "model_28_fit = model_28.fit(trend='nc',full_output=True, disp=1)\n",
    "print(model_28_fit.summary())"
   ]
  },
  {
   "cell_type": "code",
   "execution_count": 31,
   "metadata": {},
   "outputs": [
    {
     "name": "stderr",
     "output_type": "stream",
     "text": [
      "C:\\Users\\sm.woo\\Anaconda3\\lib\\site-packages\\statsmodels\\tsa\\base\\tsa_model.py:219: ValueWarning: A date index has been provided, but it has no associated frequency information and so will be ignored when e.g. forecasting.\n",
      "  ' ignored when e.g. forecasting.', ValueWarning)\n",
      "C:\\Users\\sm.woo\\Anaconda3\\lib\\site-packages\\statsmodels\\tsa\\base\\tsa_model.py:219: ValueWarning: A date index has been provided, but it has no associated frequency information and so will be ignored when e.g. forecasting.\n",
      "  ' ignored when e.g. forecasting.', ValueWarning)\n"
     ]
    },
    {
     "name": "stdout",
     "output_type": "stream",
     "text": [
      "                             ARIMA Model Results                              \n",
      "==============================================================================\n",
      "Dep. Variable:                 D.Rate   No. Observations:                  246\n",
      "Model:                 ARIMA(0, 1, 4)   Log Likelihood                -687.790\n",
      "Method:                       css-mle   S.D. of innovations              3.962\n",
      "Date:                Fri, 07 Feb 2020   AIC                           1387.579\n",
      "Time:                        15:58:00   BIC                           1408.611\n",
      "Sample:                             1   HQIC                          1396.048\n",
      "                                                                              \n",
      "================================================================================\n",
      "                   coef    std err          z      P>|z|      [0.025      0.975]\n",
      "--------------------------------------------------------------------------------\n",
      "const            0.1149      0.312      0.369      0.713      -0.496       0.726\n",
      "ma.L1.D.Rate     0.1607      0.064      2.514      0.013       0.035       0.286\n",
      "ma.L2.D.Rate    -0.0226      0.066     -0.343      0.732      -0.152       0.107\n",
      "ma.L3.D.Rate     0.0513      0.063      0.808      0.420      -0.073       0.176\n",
      "ma.L4.D.Rate     0.0454      0.068      0.672      0.503      -0.087       0.178\n",
      "                                    Roots                                    \n",
      "=============================================================================\n",
      "                  Real          Imaginary           Modulus         Frequency\n",
      "-----------------------------------------------------------------------------\n",
      "MA.1            1.3161           -1.6411j            2.1037           -0.1424\n",
      "MA.2            1.3161           +1.6411j            2.1037            0.1424\n",
      "MA.3           -1.8814           -1.2003j            2.2317           -0.4096\n",
      "MA.4           -1.8814           +1.2003j            2.2317            0.4096\n",
      "-----------------------------------------------------------------------------\n"
     ]
    }
   ],
   "source": [
    "model_29 = ARIMA(df_train, order=(0,1,4))\n",
    "model_29_fit = model_29.fit(trend='c',full_output=True, disp=1)\n",
    "print(model_29_fit.summary())"
   ]
  },
  {
   "cell_type": "markdown",
   "metadata": {},
   "source": [
    "### 예측"
   ]
  },
  {
   "cell_type": "code",
   "execution_count": 32,
   "metadata": {
    "scrolled": true
   },
   "outputs": [
    {
     "data": {
      "image/png": "[encoded data removed]",
      "text/plain": [
       "<Figure size 432x288 with 1 Axes>"
      ]
     },
     "metadata": {
      "needs_background": "light"
     },
     "output_type": "display_data"
    },
    {
     "data": {
      "image/png": "[encoded data removed]",
      "text/plain": [
       "<Figure size 432x288 with 1 Axes>"
      ]
     },
     "metadata": {
      "needs_background": "light"
     },
     "output_type": "display_data"
    },
    {
     "data": {
      "image/png": "[encoded data removed]",
      "text/plain": [
       "<Figure size 432x288 with 1 Axes>"
      ]
     },
     "metadata": {
      "needs_background": "light"
     },
     "output_type": "display_data"
    },
    {
     "data": {
      "image/png": "[encoded data removed]",
      "text/plain": [
       "<Figure size 432x288 with 1 Axes>"
      ]
     },
     "metadata": {
      "needs_background": "light"
     },
     "output_type": "display_data"
    },
    {
     "data": {
      "image/png": "[encoded data removed]",
      "text/plain": [
       "<Figure size 432x288 with 1 Axes>"
      ]
     },
     "metadata": {
      "needs_background": "light"
     },
     "output_type": "display_data"
    },
    {
     "data": {
      "image/png": "[encoded data removed]",
      "text/plain": [
       "<Figure size 432x288 with 1 Axes>"
      ]
     },
     "metadata": {
      "needs_background": "light"
     },
     "output_type": "display_data"
    },
    {
     "data": {
      "image/png": "[encoded data removed]",
      "text/plain": [
       "<Figure size 432x288 with 1 Axes>"
      ]
     },
     "metadata": {
      "needs_background": "light"
     },
     "output_type": "display_data"
    },
    {
     "data": {
      "image/png": "[encoded data removed]",
      "text/plain": [
       "<Figure size 432x288 with 1 Axes>"
      ]
     },
     "metadata": {
      "needs_background": "light"
     },
     "output_type": "display_data"
    },
    {
     "data": {
      "image/png": "[encoded data removed]",
      "text/plain": [
       "<Figure size 432x288 with 1 Axes>"
      ]
     },
     "metadata": {
      "needs_background": "light"
     },
     "output_type": "display_data"
    },
    {
     "data": {
      "image/png": "[encoded data removed]",
      "text/plain": [
       "<Figure size 432x288 with 1 Axes>"
      ]
     },
     "metadata": {
      "needs_background": "light"
     },
     "output_type": "display_data"
    },
    {
     "data": {
      "image/png": "[encoded data removed]",
      "text/plain": [
       "<Figure size 432x288 with 1 Axes>"
      ]
     },
     "metadata": {
      "needs_background": "light"
     },
     "output_type": "display_data"
    },
    {
     "data": {
      "image/png": "[encoded data removed]",
      "text/plain": [
       "<Figure size 432x288 with 1 Axes>"
      ]
     },
     "metadata": {
      "needs_background": "light"
     },
     "output_type": "display_data"
    }
   ],
   "source": [
    "Models = [model_1_fit, model_2_fit, model_3_fit, model_4_fit, model_18_fit, model_19_fit, model_20_fit, \n",
    "          model_25_fit, model_26_fit, model_27_fit, model_28_fit, model_29_fit]\n",
    "\n",
    "df_test=df_test[:5]\n",
    "actual_price=df_test['Rate'].tolist()[:5]\n",
    "RMSE_total=[]\n",
    "pred_price=[]\n",
    "\n",
    "for model in Models:\n",
    "    pred = model.forecast(steps=5)\n",
    "    pred_price_0=pred[0][:5]\n",
    "    pred_price.extend(pred_price_0)\n",
    "\n",
    "    plt.plot(pred_price_0)\n",
    "    plt.plot(df_test)\n",
    "    plt.show()\n",
    "    \n",
    "    RMSE = mean_squared_error(pred_price_0, actual_price)**0.5    \n",
    "    RMSE_total.append(RMSE)"
   ]
  },
  {
   "cell_type": "markdown",
   "metadata": {},
   "source": [
    "#### 예측값, stderr, upper bound, lower bound"
   ]
  },
  {
   "cell_type": "code",
   "execution_count": 33,
   "metadata": {},
   "outputs": [],
   "source": [
    "n = 5\n",
    "result = [pred_price[i * n:(i + 1) * n] for i in range((len(pred_price) + n - 1) // n )] \n",
    "pred_final = []\n",
    "for i in result:\n",
    "    pred_final.append(i)"
   ]
  },
  {
   "cell_type": "code",
   "execution_count": 34,
   "metadata": {},
   "outputs": [],
   "source": [
    "pred_final=pd.DataFrame(pred_final)\n",
    "RMSE_total=pd.DataFrame(RMSE_total)"
   ]
  },
  {
   "cell_type": "code",
   "execution_count": 35,
   "metadata": {
    "scrolled": true
   },
   "outputs": [],
   "source": [
    "pred_final=pd.DataFrame(pred_final)\n",
    "RMSE_total=pd.DataFrame(RMSE_total)\n",
    "final_df=pd.concat([pred_final, RMSE_total], axis=1)\n",
    "final_df.columns=[df_test.index[0],df_test.index[1],df_test.index[2],df_test.index[3],df_test.index[4],'RMSE']"
   ]
  },
  {
   "cell_type": "code",
   "execution_count": 36,
   "metadata": {},
   "outputs": [
    {
     "data": {
      "text/html": [
       "<div>\n",
       "<style scoped>\n",
       "    .dataframe tbody tr th:only-of-type {\n",
       "        vertical-align: middle;\n",
       "    }\n",
       "\n",
       "    .dataframe tbody tr th {\n",
       "        vertical-align: top;\n",
       "    }\n",
       "\n",
       "    .dataframe thead th {\n",
       "        text-align: right;\n",
       "    }\n",
       "</style>\n",
       "<table border=\"1\" class=\"dataframe\">\n",
       "  <thead>\n",
       "    <tr style=\"text-align: right;\">\n",
       "      <th></th>\n",
       "      <th>2019-11-01</th>\n",
       "      <th>2019-11-04</th>\n",
       "      <th>2019-11-05</th>\n",
       "      <th>2019-11-06</th>\n",
       "      <th>2019-11-07</th>\n",
       "      <th>RMSE</th>\n",
       "    </tr>\n",
       "  </thead>\n",
       "  <tbody>\n",
       "    <tr>\n",
       "      <td>0</td>\n",
       "      <td>1161.700000</td>\n",
       "      <td>1167.600000</td>\n",
       "      <td>1160.400000</td>\n",
       "      <td>1160.100000</td>\n",
       "      <td>1157.500000</td>\n",
       "      <td>0.000000</td>\n",
       "    </tr>\n",
       "    <tr>\n",
       "      <td>0</td>\n",
       "      <td>1168.753674</td>\n",
       "      <td>1168.683752</td>\n",
       "      <td>1168.697576</td>\n",
       "      <td>1168.694843</td>\n",
       "      <td>1168.695383</td>\n",
       "      <td>7.987322</td>\n",
       "    </tr>\n",
       "    <tr>\n",
       "      <td>1</td>\n",
       "      <td>1168.859233</td>\n",
       "      <td>1168.913473</td>\n",
       "      <td>1169.049050</td>\n",
       "      <td>1169.168291</td>\n",
       "      <td>1169.290813</td>\n",
       "      <td>8.355155</td>\n",
       "    </tr>\n",
       "    <tr>\n",
       "      <td>2</td>\n",
       "      <td>1168.831074</td>\n",
       "      <td>1168.899273</td>\n",
       "      <td>1169.038566</td>\n",
       "      <td>1169.154997</td>\n",
       "      <td>1169.278154</td>\n",
       "      <td>8.341259</td>\n",
       "    </tr>\n",
       "    <tr>\n",
       "      <td>3</td>\n",
       "      <td>1168.723851</td>\n",
       "      <td>1168.670477</td>\n",
       "      <td>1168.688953</td>\n",
       "      <td>1168.683449</td>\n",
       "      <td>1168.685128</td>\n",
       "      <td>7.974582</td>\n",
       "    </tr>\n",
       "    <tr>\n",
       "      <td>4</td>\n",
       "      <td>1168.459681</td>\n",
       "      <td>1168.115639</td>\n",
       "      <td>1168.118747</td>\n",
       "      <td>1168.083759</td>\n",
       "      <td>1167.985590</td>\n",
       "      <td>7.472968</td>\n",
       "    </tr>\n",
       "    <tr>\n",
       "      <td>5</td>\n",
       "      <td>1168.786932</td>\n",
       "      <td>1168.208799</td>\n",
       "      <td>1168.605071</td>\n",
       "      <td>1168.465432</td>\n",
       "      <td>1168.584670</td>\n",
       "      <td>7.883765</td>\n",
       "    </tr>\n",
       "    <tr>\n",
       "      <td>6</td>\n",
       "      <td>1168.887075</td>\n",
       "      <td>1168.426983</td>\n",
       "      <td>1168.937111</td>\n",
       "      <td>1168.910776</td>\n",
       "      <td>1169.148229</td>\n",
       "      <td>8.228380</td>\n",
       "    </tr>\n",
       "    <tr>\n",
       "      <td>7</td>\n",
       "      <td>1168.426584</td>\n",
       "      <td>1167.928668</td>\n",
       "      <td>1167.797982</td>\n",
       "      <td>1167.700206</td>\n",
       "      <td>1167.527323</td>\n",
       "      <td>7.188816</td>\n",
       "    </tr>\n",
       "    <tr>\n",
       "      <td>8</td>\n",
       "      <td>1168.744260</td>\n",
       "      <td>1168.265948</td>\n",
       "      <td>1168.409110</td>\n",
       "      <td>1168.545012</td>\n",
       "      <td>1168.545012</td>\n",
       "      <td>7.842467</td>\n",
       "    </tr>\n",
       "    <tr>\n",
       "      <td>9</td>\n",
       "      <td>1168.848212</td>\n",
       "      <td>1168.486660</td>\n",
       "      <td>1168.749013</td>\n",
       "      <td>1169.001039</td>\n",
       "      <td>1169.118613</td>\n",
       "      <td>8.195240</td>\n",
       "    </tr>\n",
       "    <tr>\n",
       "      <td>10</td>\n",
       "      <td>1168.687807</td>\n",
       "      <td>1168.283698</td>\n",
       "      <td>1168.291119</td>\n",
       "      <td>1168.385868</td>\n",
       "      <td>1168.385868</td>\n",
       "      <td>7.729481</td>\n",
       "    </tr>\n",
       "    <tr>\n",
       "      <td>11</td>\n",
       "      <td>1168.782795</td>\n",
       "      <td>1168.492998</td>\n",
       "      <td>1168.606066</td>\n",
       "      <td>1168.809325</td>\n",
       "      <td>1168.924193</td>\n",
       "      <td>8.058132</td>\n",
       "    </tr>\n",
       "  </tbody>\n",
       "</table>\n",
       "</div>"
      ],
      "text/plain": [
       "     2019-11-01   2019-11-04   2019-11-05   2019-11-06   2019-11-07      RMSE\n",
       "0   1161.700000  1167.600000  1160.400000  1160.100000  1157.500000  0.000000\n",
       "0   1168.753674  1168.683752  1168.697576  1168.694843  1168.695383  7.987322\n",
       "1   1168.859233  1168.913473  1169.049050  1169.168291  1169.290813  8.355155\n",
       "2   1168.831074  1168.899273  1169.038566  1169.154997  1169.278154  8.341259\n",
       "3   1168.723851  1168.670477  1168.688953  1168.683449  1168.685128  7.974582\n",
       "4   1168.459681  1168.115639  1168.118747  1168.083759  1167.985590  7.472968\n",
       "5   1168.786932  1168.208799  1168.605071  1168.465432  1168.584670  7.883765\n",
       "6   1168.887075  1168.426983  1168.937111  1168.910776  1169.148229  8.228380\n",
       "7   1168.426584  1167.928668  1167.797982  1167.700206  1167.527323  7.188816\n",
       "8   1168.744260  1168.265948  1168.409110  1168.545012  1168.545012  7.842467\n",
       "9   1168.848212  1168.486660  1168.749013  1169.001039  1169.118613  8.195240\n",
       "10  1168.687807  1168.283698  1168.291119  1168.385868  1168.385868  7.729481\n",
       "11  1168.782795  1168.492998  1168.606066  1168.809325  1168.924193  8.058132"
      ]
     },
     "execution_count": 36,
     "metadata": {},
     "output_type": "execute_result"
    }
   ],
   "source": [
    "actual_price = pd.DataFrame(actual_price + [0]).T\n",
    "actual_price.columns=[df_test.index[0],df_test.index[1],df_test.index[2],df_test.index[3],df_test.index[4],'RMSE']\n",
    "final_df=pd.concat([actual_price, final_df], axis=0)\n",
    "final_df"
   ]
  },
  {
   "cell_type": "code",
   "execution_count": 37,
   "metadata": {},
   "outputs": [],
   "source": [
    "final_df.to_csv('data/final10.csv', index=False)"
   ]
  },
  {
   "cell_type": "code",
   "execution_count": null,
   "metadata": {},
   "outputs": [],
   "source": []
  }
 ],
 "metadata": {
  "kernelspec": {
   "display_name": "Python 3",
   "language": "python",
   "name": "python3"
  },
  "language_info": {
   "codemirror_mode": {
    "name": "ipython",
    "version": 3
   },
   "file_extension": ".py",
   "mimetype": "text/x-python",
   "name": "python",
   "nbconvert_exporter": "python",
   "pygments_lexer": "ipython3",
   "version": "3.7.4"
  }
 },
 "nbformat": 4,
 "nbformat_minor": 2
}
