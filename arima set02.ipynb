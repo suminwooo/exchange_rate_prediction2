{
 "cells": [
  {
   "cell_type": "code",
   "execution_count": 1,
   "metadata": {},
   "outputs": [],
   "source": [
    "import pandas as pd\n",
    "import matplotlib.pyplot as plt\n",
    "\n",
    "from statsmodels.tsa.arima_model import ARIMA\n",
    "from sklearn.metrics import mean_squared_error"
   ]
  },
  {
   "cell_type": "code",
   "execution_count": 2,
   "metadata": {},
   "outputs": [],
   "source": [
    "data = pd.read_csv('exchange_data/set02.csv', header=0, squeeze=True)"
   ]
  },
  {
   "cell_type": "code",
   "execution_count": 3,
   "metadata": {},
   "outputs": [],
   "source": [
    "data = data.set_index('Date')"
   ]
  },
  {
   "cell_type": "code",
   "execution_count": 4,
   "metadata": {},
   "outputs": [],
   "source": [
    "#2018년 2월~2019년1월 train set/ 2019년 2월 test set\n",
    "df_train=data.loc['2018-03-01': '2019-02-31' ]\n",
    "df_test=data.loc['2019-03-01':]"
   ]
  },
  {
   "cell_type": "markdown",
   "metadata": {},
   "source": [
    "### 모형구축"
   ]
  },
  {
   "cell_type": "code",
   "execution_count": 5,
   "metadata": {},
   "outputs": [
    {
     "name": "stdout",
     "output_type": "stream",
     "text": [
      "                             ARIMA Model Results                              \n",
      "==============================================================================\n",
      "Dep. Variable:                 D.Rate   No. Observations:                  243\n",
      "Model:                 ARIMA(1, 1, 1)   Log Likelihood                -694.193\n",
      "Method:                       css-mle   S.D. of innovations              4.211\n",
      "Date:                Fri, 07 Feb 2020   AIC                           1394.387\n",
      "Time:                        15:51:30   BIC                           1404.866\n",
      "Sample:                             1   HQIC                          1398.608\n",
      "                                                                              \n",
      "================================================================================\n",
      "                   coef    std err          z      P>|z|      [0.025      0.975]\n",
      "--------------------------------------------------------------------------------\n",
      "ar.L1.D.Rate    -0.3534      0.434     -0.814      0.417      -1.205       0.498\n",
      "ma.L1.D.Rate     0.4548      0.412      1.103      0.271      -0.354       1.263\n",
      "                                    Roots                                    \n",
      "=============================================================================\n",
      "                  Real          Imaginary           Modulus         Frequency\n",
      "-----------------------------------------------------------------------------\n",
      "AR.1           -2.8299           +0.0000j            2.8299            0.5000\n",
      "MA.1           -2.1986           +0.0000j            2.1986            0.5000\n",
      "-----------------------------------------------------------------------------\n"
     ]
    },
    {
     "name": "stderr",
     "output_type": "stream",
     "text": [
      "C:\\Users\\sm.woo\\Anaconda3\\lib\\site-packages\\statsmodels\\tsa\\base\\tsa_model.py:219: ValueWarning: A date index has been provided, but it has no associated frequency information and so will be ignored when e.g. forecasting.\n",
      "  ' ignored when e.g. forecasting.', ValueWarning)\n",
      "C:\\Users\\sm.woo\\Anaconda3\\lib\\site-packages\\statsmodels\\tsa\\base\\tsa_model.py:219: ValueWarning: A date index has been provided, but it has no associated frequency information and so will be ignored when e.g. forecasting.\n",
      "  ' ignored when e.g. forecasting.', ValueWarning)\n"
     ]
    }
   ],
   "source": [
    "model_1 = ARIMA(df_train, order=(1,1,1))\n",
    "model_1_fit = model_1.fit(trend='nc',full_output=True, disp=1)\n",
    "print(model_1_fit.summary())"
   ]
  },
  {
   "cell_type": "code",
   "execution_count": 6,
   "metadata": {},
   "outputs": [
    {
     "name": "stderr",
     "output_type": "stream",
     "text": [
      "C:\\Users\\sm.woo\\Anaconda3\\lib\\site-packages\\statsmodels\\tsa\\base\\tsa_model.py:219: ValueWarning: A date index has been provided, but it has no associated frequency information and so will be ignored when e.g. forecasting.\n",
      "  ' ignored when e.g. forecasting.', ValueWarning)\n",
      "C:\\Users\\sm.woo\\Anaconda3\\lib\\site-packages\\statsmodels\\tsa\\base\\tsa_model.py:219: ValueWarning: A date index has been provided, but it has no associated frequency information and so will be ignored when e.g. forecasting.\n",
      "  ' ignored when e.g. forecasting.', ValueWarning)\n"
     ]
    },
    {
     "name": "stdout",
     "output_type": "stream",
     "text": [
      "                             ARIMA Model Results                              \n",
      "==============================================================================\n",
      "Dep. Variable:                 D.Rate   No. Observations:                  243\n",
      "Model:                 ARIMA(1, 1, 1)   Log Likelihood                -694.064\n",
      "Method:                       css-mle   S.D. of innovations              4.209\n",
      "Date:                Fri, 07 Feb 2020   AIC                           1396.129\n",
      "Time:                        15:51:31   BIC                           1410.101\n",
      "Sample:                             1   HQIC                          1401.757\n",
      "                                                                              \n",
      "================================================================================\n",
      "                   coef    std err          z      P>|z|      [0.025      0.975]\n",
      "--------------------------------------------------------------------------------\n",
      "const            0.1474      0.290      0.508      0.612      -0.421       0.716\n",
      "ar.L1.D.Rate    -0.3579      0.430     -0.833      0.406      -1.200       0.484\n",
      "ma.L1.D.Rate     0.4585      0.408      1.124      0.262      -0.341       1.258\n",
      "                                    Roots                                    \n",
      "=============================================================================\n",
      "                  Real          Imaginary           Modulus         Frequency\n",
      "-----------------------------------------------------------------------------\n",
      "AR.1           -2.7944           +0.0000j            2.7944            0.5000\n",
      "MA.1           -2.1812           +0.0000j            2.1812            0.5000\n",
      "-----------------------------------------------------------------------------\n"
     ]
    }
   ],
   "source": [
    "model_2 = ARIMA(df_train, order=(1,1,1))\n",
    "model_2_fit = model_2.fit(trend='c',full_output=True, disp=1)\n",
    "print(model_2_fit.summary())"
   ]
  },
  {
   "cell_type": "code",
   "execution_count": 7,
   "metadata": {},
   "outputs": [
    {
     "name": "stderr",
     "output_type": "stream",
     "text": [
      "C:\\Users\\sm.woo\\Anaconda3\\lib\\site-packages\\statsmodels\\tsa\\base\\tsa_model.py:219: ValueWarning: A date index has been provided, but it has no associated frequency information and so will be ignored when e.g. forecasting.\n",
      "  ' ignored when e.g. forecasting.', ValueWarning)\n",
      "C:\\Users\\sm.woo\\Anaconda3\\lib\\site-packages\\statsmodels\\tsa\\base\\tsa_model.py:219: ValueWarning: A date index has been provided, but it has no associated frequency information and so will be ignored when e.g. forecasting.\n",
      "  ' ignored when e.g. forecasting.', ValueWarning)\n"
     ]
    },
    {
     "name": "stdout",
     "output_type": "stream",
     "text": [
      "                             ARIMA Model Results                              \n",
      "==============================================================================\n",
      "Dep. Variable:                 D.Rate   No. Observations:                  243\n",
      "Model:                 ARIMA(2, 1, 1)   Log Likelihood                -692.046\n",
      "Method:                       css-mle   S.D. of innovations              4.173\n",
      "Date:                Fri, 07 Feb 2020   AIC                           1394.091\n",
      "Time:                        15:51:31   BIC                           1411.557\n",
      "Sample:                             1   HQIC                          1401.126\n",
      "                                                                              \n",
      "================================================================================\n",
      "                   coef    std err          z      P>|z|      [0.025      0.975]\n",
      "--------------------------------------------------------------------------------\n",
      "const            0.1822      0.177      1.030      0.304      -0.164       0.529\n",
      "ar.L1.D.Rate     0.9718      0.099      9.785      0.000       0.777       1.166\n",
      "ar.L2.D.Rate    -0.1521      0.065     -2.355      0.019      -0.279      -0.025\n",
      "ma.L1.D.Rate    -0.8834      0.080    -11.029      0.000      -1.040      -0.726\n",
      "                                    Roots                                    \n",
      "=============================================================================\n",
      "                  Real          Imaginary           Modulus         Frequency\n",
      "-----------------------------------------------------------------------------\n",
      "AR.1            1.2892           +0.0000j            1.2892            0.0000\n",
      "AR.2            5.1001           +0.0000j            5.1001            0.0000\n",
      "MA.1            1.1319           +0.0000j            1.1319            0.0000\n",
      "-----------------------------------------------------------------------------\n"
     ]
    }
   ],
   "source": [
    "model_3 = ARIMA(df_train, order=(2,1,1))\n",
    "model_3_fit = model_3.fit(trend='c',full_output=True, disp=1)\n",
    "print(model_3_fit.summary())"
   ]
  },
  {
   "cell_type": "code",
   "execution_count": 8,
   "metadata": {},
   "outputs": [
    {
     "name": "stderr",
     "output_type": "stream",
     "text": [
      "C:\\Users\\sm.woo\\Anaconda3\\lib\\site-packages\\statsmodels\\tsa\\base\\tsa_model.py:219: ValueWarning: A date index has been provided, but it has no associated frequency information and so will be ignored when e.g. forecasting.\n",
      "  ' ignored when e.g. forecasting.', ValueWarning)\n",
      "C:\\Users\\sm.woo\\Anaconda3\\lib\\site-packages\\statsmodels\\tsa\\base\\tsa_model.py:219: ValueWarning: A date index has been provided, but it has no associated frequency information and so will be ignored when e.g. forecasting.\n",
      "  ' ignored when e.g. forecasting.', ValueWarning)\n"
     ]
    },
    {
     "name": "stdout",
     "output_type": "stream",
     "text": [
      "                             ARIMA Model Results                              \n",
      "==============================================================================\n",
      "Dep. Variable:                 D.Rate   No. Observations:                  243\n",
      "Model:                 ARIMA(2, 1, 1)   Log Likelihood                -692.521\n",
      "Method:                       css-mle   S.D. of innovations              4.182\n",
      "Date:                Fri, 07 Feb 2020   AIC                           1393.043\n",
      "Time:                        15:51:31   BIC                           1407.015\n",
      "Sample:                             1   HQIC                          1398.671\n",
      "                                                                              \n",
      "================================================================================\n",
      "                   coef    std err          z      P>|z|      [0.025      0.975]\n",
      "--------------------------------------------------------------------------------\n",
      "ar.L1.D.Rate     0.9575      0.103      9.324      0.000       0.756       1.159\n",
      "ar.L2.D.Rate    -0.1490      0.064     -2.323      0.021      -0.275      -0.023\n",
      "ma.L1.D.Rate    -0.8652      0.084    -10.299      0.000      -1.030      -0.701\n",
      "                                    Roots                                    \n",
      "=============================================================================\n",
      "                  Real          Imaginary           Modulus         Frequency\n",
      "-----------------------------------------------------------------------------\n",
      "AR.1            1.3125           +0.0000j            1.3125            0.0000\n",
      "AR.2            5.1133           +0.0000j            5.1133            0.0000\n",
      "MA.1            1.1558           +0.0000j            1.1558            0.0000\n",
      "-----------------------------------------------------------------------------\n"
     ]
    }
   ],
   "source": [
    "model_4 = ARIMA(df_train, order=(2,1,1))\n",
    "model_4_fit = model_4.fit(trend='nc',full_output=True, disp=1)\n",
    "print(model_4_fit.summary())"
   ]
  },
  {
   "cell_type": "code",
   "execution_count": 9,
   "metadata": {},
   "outputs": [
    {
     "name": "stderr",
     "output_type": "stream",
     "text": [
      "C:\\Users\\sm.woo\\Anaconda3\\lib\\site-packages\\statsmodels\\tsa\\base\\tsa_model.py:219: ValueWarning: A date index has been provided, but it has no associated frequency information and so will be ignored when e.g. forecasting.\n",
      "  ' ignored when e.g. forecasting.', ValueWarning)\n",
      "C:\\Users\\sm.woo\\Anaconda3\\lib\\site-packages\\statsmodels\\tsa\\base\\tsa_model.py:219: ValueWarning: A date index has been provided, but it has no associated frequency information and so will be ignored when e.g. forecasting.\n",
      "  ' ignored when e.g. forecasting.', ValueWarning)\n"
     ]
    },
    {
     "name": "stdout",
     "output_type": "stream",
     "text": [
      "                             ARIMA Model Results                              \n",
      "==============================================================================\n",
      "Dep. Variable:                 D.Rate   No. Observations:                  243\n",
      "Model:                 ARIMA(2, 1, 2)   Log Likelihood                -701.541\n",
      "Method:                       css-mle   S.D. of innovations              4.082\n",
      "Date:                Fri, 07 Feb 2020   AIC                           1413.083\n",
      "Time:                        15:51:31   BIC                           1430.548\n",
      "Sample:                             1   HQIC                          1420.117\n",
      "                                                                              \n",
      "================================================================================\n",
      "                   coef    std err          z      P>|z|      [0.025      0.975]\n",
      "--------------------------------------------------------------------------------\n",
      "ar.L1.D.Rate     1.9023        nan        nan        nan         nan         nan\n",
      "ar.L2.D.Rate    -1.0000   1.48e-08  -6.75e+07      0.000      -1.000      -1.000\n",
      "ma.L1.D.Rate    -1.9179        nan        nan        nan         nan         nan\n",
      "ma.L2.D.Rate     1.0000        nan        nan        nan         nan         nan\n",
      "                                    Roots                                    \n",
      "=============================================================================\n",
      "                  Real          Imaginary           Modulus         Frequency\n",
      "-----------------------------------------------------------------------------\n",
      "AR.1            0.9511           -0.3088j            1.0000           -0.0500\n",
      "AR.2            0.9511           +0.3088j            1.0000            0.0500\n",
      "MA.1            0.9590           -0.2835j            1.0000           -0.0458\n",
      "MA.2            0.9590           +0.2835j            1.0000            0.0458\n",
      "-----------------------------------------------------------------------------\n"
     ]
    },
    {
     "name": "stderr",
     "output_type": "stream",
     "text": [
      "C:\\Users\\sm.woo\\Anaconda3\\lib\\site-packages\\statsmodels\\base\\model.py:492: HessianInversionWarning: Inverting hessian failed, no bse or cov_params available\n",
      "  'available', HessianInversionWarning)\n",
      "C:\\Users\\sm.woo\\Anaconda3\\lib\\site-packages\\statsmodels\\base\\model.py:512: ConvergenceWarning: Maximum Likelihood optimization failed to converge. Check mle_retvals\n",
      "  \"Check mle_retvals\", ConvergenceWarning)\n",
      "C:\\Users\\sm.woo\\Anaconda3\\lib\\site-packages\\statsmodels\\tsa\\arima_model.py:1441: RuntimeWarning: invalid value encountered in sqrt\n",
      "  return np.sqrt(np.diag(-inv(hess)))\n",
      "C:\\Users\\sm.woo\\Anaconda3\\lib\\site-packages\\scipy\\stats\\_distn_infrastructure.py:901: RuntimeWarning: invalid value encountered in greater\n",
      "  return (a < x) & (x < b)\n",
      "C:\\Users\\sm.woo\\Anaconda3\\lib\\site-packages\\scipy\\stats\\_distn_infrastructure.py:901: RuntimeWarning: invalid value encountered in less\n",
      "  return (a < x) & (x < b)\n",
      "C:\\Users\\sm.woo\\Anaconda3\\lib\\site-packages\\scipy\\stats\\_distn_infrastructure.py:1892: RuntimeWarning: invalid value encountered in less_equal\n",
      "  cond2 = cond0 & (x <= _a)\n"
     ]
    }
   ],
   "source": [
    "model_5 = ARIMA(df_train, order=(2,1,2))\n",
    "model_5_fit = model_5.fit(trend='nc',full_output=True, disp=1)\n",
    "print(model_5_fit.summary())"
   ]
  },
  {
   "cell_type": "code",
   "execution_count": 10,
   "metadata": {},
   "outputs": [
    {
     "name": "stderr",
     "output_type": "stream",
     "text": [
      "C:\\Users\\sm.woo\\Anaconda3\\lib\\site-packages\\statsmodels\\tsa\\base\\tsa_model.py:219: ValueWarning: A date index has been provided, but it has no associated frequency information and so will be ignored when e.g. forecasting.\n",
      "  ' ignored when e.g. forecasting.', ValueWarning)\n",
      "C:\\Users\\sm.woo\\Anaconda3\\lib\\site-packages\\statsmodels\\tsa\\base\\tsa_model.py:219: ValueWarning: A date index has been provided, but it has no associated frequency information and so will be ignored when e.g. forecasting.\n",
      "  ' ignored when e.g. forecasting.', ValueWarning)\n"
     ]
    },
    {
     "name": "stdout",
     "output_type": "stream",
     "text": [
      "                             ARIMA Model Results                              \n",
      "==============================================================================\n",
      "Dep. Variable:                 D.Rate   No. Observations:                  243\n",
      "Model:                 ARIMA(2, 1, 2)   Log Likelihood                -704.862\n",
      "Method:                       css-mle   S.D. of innovations              4.122\n",
      "Date:                Fri, 07 Feb 2020   AIC                           1421.725\n",
      "Time:                        15:51:32   BIC                           1442.683\n",
      "Sample:                             1   HQIC                          1430.166\n",
      "                                                                              \n",
      "================================================================================\n",
      "                   coef    std err          z      P>|z|      [0.025      0.975]\n",
      "--------------------------------------------------------------------------------\n",
      "const            0.0896   3.44e-07   2.61e+05      0.000       0.090       0.090\n",
      "ar.L1.D.Rate     1.9018   9.22e-06   2.06e+05      0.000       1.902       1.902\n",
      "ar.L2.D.Rate    -1.0000        nan        nan        nan         nan         nan\n",
      "ma.L1.D.Rate    -1.9177        nan        nan        nan         nan         nan\n",
      "ma.L2.D.Rate     1.0000        nan        nan        nan         nan         nan\n",
      "                                    Roots                                    \n",
      "=============================================================================\n",
      "                  Real          Imaginary           Modulus         Frequency\n",
      "-----------------------------------------------------------------------------\n",
      "AR.1            0.9509           -0.3095j            1.0000           -0.0501\n",
      "AR.2            0.9509           +0.3095j            1.0000            0.0501\n",
      "MA.1            0.9589           -0.2839j            1.0000           -0.0458\n",
      "MA.2            0.9589           +0.2839j            1.0000            0.0458\n",
      "-----------------------------------------------------------------------------\n"
     ]
    },
    {
     "name": "stderr",
     "output_type": "stream",
     "text": [
      "C:\\Users\\sm.woo\\Anaconda3\\lib\\site-packages\\statsmodels\\base\\model.py:492: HessianInversionWarning: Inverting hessian failed, no bse or cov_params available\n",
      "  'available', HessianInversionWarning)\n"
     ]
    }
   ],
   "source": [
    "model_6 = ARIMA(df_train, order=(2,1,2))\n",
    "model_6_fit = model_6.fit(trend='c',full_output=True, disp=1)\n",
    "print(model_6_fit.summary())"
   ]
  },
  {
   "cell_type": "code",
   "execution_count": 11,
   "metadata": {},
   "outputs": [
    {
     "name": "stderr",
     "output_type": "stream",
     "text": [
      "C:\\Users\\sm.woo\\Anaconda3\\lib\\site-packages\\statsmodels\\tsa\\base\\tsa_model.py:219: ValueWarning: A date index has been provided, but it has no associated frequency information and so will be ignored when e.g. forecasting.\n",
      "  ' ignored when e.g. forecasting.', ValueWarning)\n",
      "C:\\Users\\sm.woo\\Anaconda3\\lib\\site-packages\\statsmodels\\tsa\\base\\tsa_model.py:219: ValueWarning: A date index has been provided, but it has no associated frequency information and so will be ignored when e.g. forecasting.\n",
      "  ' ignored when e.g. forecasting.', ValueWarning)\n"
     ]
    },
    {
     "name": "stdout",
     "output_type": "stream",
     "text": [
      "                             ARIMA Model Results                              \n",
      "==============================================================================\n",
      "Dep. Variable:                 D.Rate   No. Observations:                  243\n",
      "Model:                 ARIMA(1, 1, 2)   Log Likelihood                -692.274\n",
      "Method:                       css-mle   S.D. of innovations              4.178\n",
      "Date:                Fri, 07 Feb 2020   AIC                           1394.548\n",
      "Time:                        15:51:32   BIC                           1412.013\n",
      "Sample:                             1   HQIC                          1401.583\n",
      "                                                                              \n",
      "================================================================================\n",
      "                   coef    std err          z      P>|z|      [0.025      0.975]\n",
      "--------------------------------------------------------------------------------\n",
      "const            0.1819      0.177      1.028      0.305      -0.165       0.529\n",
      "ar.L1.D.Rate     0.8160      0.112      7.277      0.000       0.596       1.036\n",
      "ma.L1.D.Rate    -0.7354      0.123     -5.960      0.000      -0.977      -0.494\n",
      "ma.L2.D.Rate    -0.1460      0.065     -2.243      0.026      -0.274      -0.018\n",
      "                                    Roots                                    \n",
      "=============================================================================\n",
      "                  Real          Imaginary           Modulus         Frequency\n",
      "-----------------------------------------------------------------------------\n",
      "AR.1            1.2255           +0.0000j            1.2255            0.0000\n",
      "MA.1            1.1135           +0.0000j            1.1135            0.0000\n",
      "MA.2           -6.1498           +0.0000j            6.1498            0.5000\n",
      "-----------------------------------------------------------------------------\n"
     ]
    }
   ],
   "source": [
    "model_7 = ARIMA(df_train, order=(1,1,2))\n",
    "model_7_fit = model_7.fit(trend='c',full_output=True, disp=1)\n",
    "print(model_7_fit.summary())"
   ]
  },
  {
   "cell_type": "code",
   "execution_count": 12,
   "metadata": {},
   "outputs": [
    {
     "name": "stderr",
     "output_type": "stream",
     "text": [
      "C:\\Users\\sm.woo\\Anaconda3\\lib\\site-packages\\statsmodels\\tsa\\base\\tsa_model.py:219: ValueWarning: A date index has been provided, but it has no associated frequency information and so will be ignored when e.g. forecasting.\n",
      "  ' ignored when e.g. forecasting.', ValueWarning)\n",
      "C:\\Users\\sm.woo\\Anaconda3\\lib\\site-packages\\statsmodels\\tsa\\base\\tsa_model.py:219: ValueWarning: A date index has been provided, but it has no associated frequency information and so will be ignored when e.g. forecasting.\n",
      "  ' ignored when e.g. forecasting.', ValueWarning)\n"
     ]
    },
    {
     "name": "stdout",
     "output_type": "stream",
     "text": [
      "                             ARIMA Model Results                              \n",
      "==============================================================================\n",
      "Dep. Variable:                 D.Rate   No. Observations:                  243\n",
      "Model:                 ARIMA(1, 1, 2)   Log Likelihood                -692.741\n",
      "Method:                       css-mle   S.D. of innovations              4.186\n",
      "Date:                Fri, 07 Feb 2020   AIC                           1393.481\n",
      "Time:                        15:51:33   BIC                           1407.454\n",
      "Sample:                             1   HQIC                          1399.109\n",
      "                                                                              \n",
      "================================================================================\n",
      "                   coef    std err          z      P>|z|      [0.025      0.975]\n",
      "--------------------------------------------------------------------------------\n",
      "ar.L1.D.Rate     0.8016      0.114      7.030      0.000       0.578       1.025\n",
      "ma.L1.D.Rate    -0.7167      0.125     -5.724      0.000      -0.962      -0.471\n",
      "ma.L2.D.Rate    -0.1425      0.064     -2.217      0.028      -0.268      -0.017\n",
      "                                    Roots                                    \n",
      "=============================================================================\n",
      "                  Real          Imaginary           Modulus         Frequency\n",
      "-----------------------------------------------------------------------------\n",
      "AR.1            1.2476           +0.0000j            1.2476            0.0000\n",
      "MA.1            1.1378           +0.0000j            1.1378            0.0000\n",
      "MA.2           -6.1669           +0.0000j            6.1669            0.5000\n",
      "-----------------------------------------------------------------------------\n"
     ]
    }
   ],
   "source": [
    "model_8 = ARIMA(df_train, order=(1,1,2))\n",
    "model_8_fit = model_8.fit(trend='nc',full_output=True, disp=1)\n",
    "print(model_8_fit.summary())"
   ]
  },
  {
   "cell_type": "code",
   "execution_count": 13,
   "metadata": {},
   "outputs": [
    {
     "name": "stderr",
     "output_type": "stream",
     "text": [
      "C:\\Users\\sm.woo\\Anaconda3\\lib\\site-packages\\statsmodels\\tsa\\base\\tsa_model.py:219: ValueWarning: A date index has been provided, but it has no associated frequency information and so will be ignored when e.g. forecasting.\n",
      "  ' ignored when e.g. forecasting.', ValueWarning)\n",
      "C:\\Users\\sm.woo\\Anaconda3\\lib\\site-packages\\statsmodels\\tsa\\base\\tsa_model.py:219: ValueWarning: A date index has been provided, but it has no associated frequency information and so will be ignored when e.g. forecasting.\n",
      "  ' ignored when e.g. forecasting.', ValueWarning)\n",
      "C:\\Users\\sm.woo\\Anaconda3\\lib\\site-packages\\statsmodels\\tsa\\tsatools.py:668: RuntimeWarning: invalid value encountered in true_divide\n",
      "  newparams = ((1-np.exp(-params))/(1+np.exp(-params))).copy()\n",
      "C:\\Users\\sm.woo\\Anaconda3\\lib\\site-packages\\statsmodels\\tsa\\tsatools.py:669: RuntimeWarning: invalid value encountered in true_divide\n",
      "  tmp = ((1-np.exp(-params))/(1+np.exp(-params))).copy()\n"
     ]
    },
    {
     "name": "stdout",
     "output_type": "stream",
     "text": [
      "                             ARIMA Model Results                              \n",
      "==============================================================================\n",
      "Dep. Variable:                 D.Rate   No. Observations:                  243\n",
      "Model:                 ARIMA(4, 1, 3)   Log Likelihood                -689.462\n",
      "Method:                       css-mle   S.D. of innovations              4.126\n",
      "Date:                Fri, 07 Feb 2020   AIC                           1394.924\n",
      "Time:                        15:51:35   BIC                           1422.869\n",
      "Sample:                             1   HQIC                          1406.180\n",
      "                                                                              \n",
      "================================================================================\n",
      "                   coef    std err          z      P>|z|      [0.025      0.975]\n",
      "--------------------------------------------------------------------------------\n",
      "ar.L1.D.Rate     0.1786      0.136      1.315      0.190      -0.088       0.445\n",
      "ar.L2.D.Rate    -0.3345      0.091     -3.680      0.000      -0.513      -0.156\n",
      "ar.L3.D.Rate     0.7829      0.116      6.721      0.000       0.555       1.011\n",
      "ar.L4.D.Rate    -0.1949      0.065     -2.980      0.003      -0.323      -0.067\n",
      "ma.L1.D.Rate    -0.0791      0.131     -0.606      0.545      -0.335       0.177\n",
      "ma.L2.D.Rate     0.2836      0.091      3.116      0.002       0.105       0.462\n",
      "ma.L3.D.Rate    -0.8019      0.106     -7.583      0.000      -1.009      -0.595\n",
      "                                    Roots                                    \n",
      "=============================================================================\n",
      "                  Real          Imaginary           Modulus         Frequency\n",
      "-----------------------------------------------------------------------------\n",
      "AR.1           -0.4318           -0.9300j            1.0253           -0.3192\n",
      "AR.2           -0.4318           +0.9300j            1.0253            0.3192\n",
      "AR.3            1.4036           -0.0000j            1.4036           -0.0000\n",
      "AR.4            3.4764           -0.0000j            3.4764           -0.0000\n",
      "MA.1           -0.4102           -0.9454j            1.0306           -0.3152\n",
      "MA.2           -0.4102           +0.9454j            1.0306            0.3152\n",
      "MA.3            1.1742           -0.0000j            1.1742           -0.0000\n",
      "-----------------------------------------------------------------------------\n"
     ]
    }
   ],
   "source": [
    "model_9 = ARIMA(df_train, order=(4,1,3))\n",
    "model_9_fit = model_9.fit(trend='nc',full_output=True, disp=1)\n",
    "print(model_9_fit.summary())"
   ]
  },
  {
   "cell_type": "code",
   "execution_count": 14,
   "metadata": {},
   "outputs": [
    {
     "name": "stderr",
     "output_type": "stream",
     "text": [
      "C:\\Users\\sm.woo\\Anaconda3\\lib\\site-packages\\statsmodels\\tsa\\base\\tsa_model.py:219: ValueWarning: A date index has been provided, but it has no associated frequency information and so will be ignored when e.g. forecasting.\n",
      "  ' ignored when e.g. forecasting.', ValueWarning)\n",
      "C:\\Users\\sm.woo\\Anaconda3\\lib\\site-packages\\statsmodels\\tsa\\base\\tsa_model.py:219: ValueWarning: A date index has been provided, but it has no associated frequency information and so will be ignored when e.g. forecasting.\n",
      "  ' ignored when e.g. forecasting.', ValueWarning)\n"
     ]
    },
    {
     "name": "stdout",
     "output_type": "stream",
     "text": [
      "                             ARIMA Model Results                              \n",
      "==============================================================================\n",
      "Dep. Variable:                 D.Rate   No. Observations:                  243\n",
      "Model:                 ARIMA(4, 1, 3)   Log Likelihood                -688.978\n",
      "Method:                       css-mle   S.D. of innovations              4.118\n",
      "Date:                Fri, 07 Feb 2020   AIC                           1395.956\n",
      "Time:                        15:51:37   BIC                           1427.394\n",
      "Sample:                             1   HQIC                          1408.619\n",
      "                                                                              \n",
      "================================================================================\n",
      "                   coef    std err          z      P>|z|      [0.025      0.975]\n",
      "--------------------------------------------------------------------------------\n",
      "const            0.1826      0.177      1.034      0.302      -0.164       0.529\n",
      "ar.L1.D.Rate     0.1939      0.132      1.473      0.142      -0.064       0.452\n",
      "ar.L2.D.Rate    -0.3268      0.090     -3.640      0.000      -0.503      -0.151\n",
      "ar.L3.D.Rate     0.7923      0.112      7.050      0.000       0.572       1.013\n",
      "ar.L4.D.Rate    -0.1986      0.065     -3.036      0.003      -0.327      -0.070\n",
      "ma.L1.D.Rate    -0.0986      0.126     -0.783      0.435      -0.346       0.148\n",
      "ma.L2.D.Rate     0.2703      0.090      3.001      0.003       0.094       0.447\n",
      "ma.L3.D.Rate    -0.8179      0.101     -8.127      0.000      -1.015      -0.621\n",
      "                                    Roots                                    \n",
      "=============================================================================\n",
      "                  Real          Imaginary           Modulus         Frequency\n",
      "-----------------------------------------------------------------------------\n",
      "AR.1           -0.4318           -0.9306j            1.0259           -0.3191\n",
      "AR.2           -0.4318           +0.9306j            1.0259            0.3191\n",
      "AR.3            1.3758           -0.0000j            1.3758           -0.0000\n",
      "AR.4            3.4767           -0.0000j            3.4767           -0.0000\n",
      "MA.1           -0.4098           -0.9461j            1.0311           -0.3151\n",
      "MA.2           -0.4098           +0.9461j            1.0311            0.3151\n",
      "MA.3            1.1500           -0.0000j            1.1500           -0.0000\n",
      "-----------------------------------------------------------------------------\n"
     ]
    }
   ],
   "source": [
    "model_10 = ARIMA(df_train, order=(4,1,3))\n",
    "model_10_fit = model_10.fit(trend='c',full_output=True, disp=1)\n",
    "print(model_10_fit.summary())"
   ]
  },
  {
   "cell_type": "code",
   "execution_count": 15,
   "metadata": {},
   "outputs": [
    {
     "name": "stderr",
     "output_type": "stream",
     "text": [
      "C:\\Users\\sm.woo\\Anaconda3\\lib\\site-packages\\statsmodels\\tsa\\base\\tsa_model.py:219: ValueWarning: A date index has been provided, but it has no associated frequency information and so will be ignored when e.g. forecasting.\n",
      "  ' ignored when e.g. forecasting.', ValueWarning)\n",
      "C:\\Users\\sm.woo\\Anaconda3\\lib\\site-packages\\statsmodels\\tsa\\base\\tsa_model.py:219: ValueWarning: A date index has been provided, but it has no associated frequency information and so will be ignored when e.g. forecasting.\n",
      "  ' ignored when e.g. forecasting.', ValueWarning)\n"
     ]
    },
    {
     "name": "stdout",
     "output_type": "stream",
     "text": [
      "                             ARIMA Model Results                              \n",
      "==============================================================================\n",
      "Dep. Variable:                 D.Rate   No. Observations:                  243\n",
      "Model:                 ARIMA(4, 1, 4)   Log Likelihood                -686.689\n",
      "Method:                       css-mle   S.D. of innovations              4.044\n",
      "Date:                Fri, 07 Feb 2020   AIC                           1391.378\n",
      "Time:                        15:51:47   BIC                           1422.815\n",
      "Sample:                             1   HQIC                          1404.040\n",
      "                                                                              \n",
      "================================================================================\n",
      "                   coef    std err          z      P>|z|      [0.025      0.975]\n",
      "--------------------------------------------------------------------------------\n",
      "ar.L1.D.Rate     1.0271      0.038     26.855      0.000       0.952       1.102\n",
      "ar.L2.D.Rate    -0.3645      0.047     -7.836      0.000      -0.456      -0.273\n",
      "ar.L3.D.Rate     1.0410      0.017     59.783      0.000       1.007       1.075\n",
      "ar.L4.D.Rate    -0.9781      0.026    -37.155      0.000      -1.030      -0.926\n",
      "ma.L1.D.Rate    -1.0467      0.054    -19.241      0.000      -1.153      -0.940\n",
      "ma.L2.D.Rate     0.3686      0.077      4.768      0.000       0.217       0.520\n",
      "ma.L3.D.Rate    -1.0669      0.054    -19.626      0.000      -1.173      -0.960\n",
      "ma.L4.D.Rate     0.9757      0.047     20.643      0.000       0.883       1.068\n",
      "                                    Roots                                    \n",
      "=============================================================================\n",
      "                  Real          Imaginary           Modulus         Frequency\n",
      "-----------------------------------------------------------------------------\n",
      "AR.1           -0.4291           -0.9043j            1.0009           -0.3205\n",
      "AR.2           -0.4291           +0.9043j            1.0009            0.3205\n",
      "AR.3            0.9612           -0.3108j            1.0102           -0.0498\n",
      "AR.4            0.9612           +0.3108j            1.0102            0.0498\n",
      "MA.1           -0.4241           -0.9057j            1.0001           -0.3197\n",
      "MA.2           -0.4241           +0.9057j            1.0001            0.3197\n",
      "MA.3            0.9709           -0.2866j            1.0123           -0.0457\n",
      "MA.4            0.9709           +0.2866j            1.0123            0.0457\n",
      "-----------------------------------------------------------------------------\n"
     ]
    }
   ],
   "source": [
    "model_11 = ARIMA(df_train, order=(4,1,4))\n",
    "model_11_fit = model_11.fit(trend='nc',full_output=True, disp=1)\n",
    "print(model_11_fit.summary())"
   ]
  },
  {
   "cell_type": "code",
   "execution_count": 16,
   "metadata": {},
   "outputs": [
    {
     "name": "stderr",
     "output_type": "stream",
     "text": [
      "C:\\Users\\sm.woo\\Anaconda3\\lib\\site-packages\\statsmodels\\tsa\\base\\tsa_model.py:219: ValueWarning: A date index has been provided, but it has no associated frequency information and so will be ignored when e.g. forecasting.\n",
      "  ' ignored when e.g. forecasting.', ValueWarning)\n",
      "C:\\Users\\sm.woo\\Anaconda3\\lib\\site-packages\\statsmodels\\tsa\\base\\tsa_model.py:219: ValueWarning: A date index has been provided, but it has no associated frequency information and so will be ignored when e.g. forecasting.\n",
      "  ' ignored when e.g. forecasting.', ValueWarning)\n"
     ]
    },
    {
     "name": "stdout",
     "output_type": "stream",
     "text": [
      "                             ARIMA Model Results                              \n",
      "==============================================================================\n",
      "Dep. Variable:                 D.Rate   No. Observations:                  243\n",
      "Model:                 ARIMA(4, 1, 4)   Log Likelihood                -686.390\n",
      "Method:                       css-mle   S.D. of innovations              4.041\n",
      "Date:                Fri, 07 Feb 2020   AIC                           1392.779\n",
      "Time:                        15:52:02   BIC                           1427.710\n",
      "Sample:                             1   HQIC                          1406.849\n",
      "                                                                              \n",
      "================================================================================\n",
      "                   coef    std err          z      P>|z|      [0.025      0.975]\n",
      "--------------------------------------------------------------------------------\n",
      "const            0.1682      0.216      0.778      0.437      -0.255       0.592\n",
      "ar.L1.D.Rate     1.0245      0.039     26.215      0.000       0.948       1.101\n",
      "ar.L2.D.Rate    -0.3633      0.045     -8.120      0.000      -0.451      -0.276\n",
      "ar.L3.D.Rate     1.0402      0.018     59.311      0.000       1.006       1.075\n",
      "ar.L4.D.Rate    -0.9765      0.028    -34.692      0.000      -1.032      -0.921\n",
      "ma.L1.D.Rate    -1.0438      0.055    -18.919      0.000      -1.152      -0.936\n",
      "ma.L2.D.Rate     0.3657      0.074      4.919      0.000       0.220       0.511\n",
      "ma.L3.D.Rate    -1.0650      0.052    -20.676      0.000      -1.166      -0.964\n",
      "ma.L4.D.Rate     0.9723      0.049     19.791      0.000       0.876       1.069\n",
      "                                    Roots                                    \n",
      "=============================================================================\n",
      "                  Real          Imaginary           Modulus         Frequency\n",
      "-----------------------------------------------------------------------------\n",
      "AR.1           -0.4293           -0.9041j            1.0008           -0.3206\n",
      "AR.2           -0.4293           +0.9041j            1.0008            0.3206\n",
      "AR.3            0.9619           -0.3115j            1.0111           -0.0498\n",
      "AR.4            0.9619           +0.3115j            1.0111            0.0498\n",
      "MA.1           -0.4248           -0.9058j            1.0004           -0.3198\n",
      "MA.2           -0.4248           +0.9058j            1.0004            0.3198\n",
      "MA.3            0.9725           -0.2862j            1.0137           -0.0456\n",
      "MA.4            0.9725           +0.2862j            1.0137            0.0456\n",
      "-----------------------------------------------------------------------------\n"
     ]
    }
   ],
   "source": [
    "model_12 = ARIMA(df_train, order=(4,1,4))\n",
    "model_12_fit = model_12.fit(trend='c',full_output=True, disp=1)\n",
    "print(model_12_fit.summary())"
   ]
  },
  {
   "cell_type": "code",
   "execution_count": 17,
   "metadata": {},
   "outputs": [
    {
     "name": "stderr",
     "output_type": "stream",
     "text": [
      "C:\\Users\\sm.woo\\Anaconda3\\lib\\site-packages\\statsmodels\\tsa\\base\\tsa_model.py:219: ValueWarning: A date index has been provided, but it has no associated frequency information and so will be ignored when e.g. forecasting.\n",
      "  ' ignored when e.g. forecasting.', ValueWarning)\n",
      "C:\\Users\\sm.woo\\Anaconda3\\lib\\site-packages\\statsmodels\\tsa\\base\\tsa_model.py:219: ValueWarning: A date index has been provided, but it has no associated frequency information and so will be ignored when e.g. forecasting.\n",
      "  ' ignored when e.g. forecasting.', ValueWarning)\n",
      "C:\\Users\\sm.woo\\Anaconda3\\lib\\site-packages\\statsmodels\\base\\model.py:512: ConvergenceWarning: Maximum Likelihood optimization failed to converge. Check mle_retvals\n",
      "  \"Check mle_retvals\", ConvergenceWarning)\n"
     ]
    },
    {
     "name": "stdout",
     "output_type": "stream",
     "text": [
      "                             ARIMA Model Results                              \n",
      "==============================================================================\n",
      "Dep. Variable:                 D.Rate   No. Observations:                  243\n",
      "Model:                 ARIMA(5, 1, 4)   Log Likelihood                -685.537\n",
      "Method:                       css-mle   S.D. of innovations              4.027\n",
      "Date:                Fri, 07 Feb 2020   AIC                           1393.074\n",
      "Time:                        15:52:16   BIC                           1431.498\n",
      "Sample:                             1   HQIC                          1408.551\n",
      "                                                                              \n",
      "================================================================================\n",
      "                   coef    std err          z      P>|z|      [0.025      0.975]\n",
      "--------------------------------------------------------------------------------\n",
      "const            0.1693      0.234      0.724      0.470      -0.289       0.628\n",
      "ar.L1.D.Rate     1.1133      0.078     14.326      0.000       0.961       1.266\n",
      "ar.L2.D.Rate    -0.4597      0.084     -5.493      0.000      -0.624      -0.296\n",
      "ar.L3.D.Rate     1.0743      0.031     34.528      0.000       1.013       1.135\n",
      "ar.L4.D.Rate    -1.0624      0.073    -14.581      0.000      -1.205      -0.920\n",
      "ar.L5.D.Rate     0.0868      0.066      1.311      0.191      -0.043       0.217\n",
      "ma.L1.D.Rate    -1.0542      0.056    -18.771      0.000      -1.164      -0.944\n",
      "ma.L2.D.Rate     0.3789      0.067      5.636      0.000       0.247       0.511\n",
      "ma.L3.D.Rate    -1.0734      0.064    -16.669      0.000      -1.200      -0.947\n",
      "ma.L4.D.Rate     0.9729      0.059     16.352      0.000       0.856       1.090\n",
      "                                    Roots                                    \n",
      "=============================================================================\n",
      "                  Real          Imaginary           Modulus         Frequency\n",
      "-----------------------------------------------------------------------------\n",
      "AR.1           -0.4279           -0.9056j            1.0016           -0.3203\n",
      "AR.2           -0.4279           +0.9056j            1.0016            0.3203\n",
      "AR.3            0.9652           -0.3114j            1.0142           -0.0497\n",
      "AR.4            0.9652           +0.3114j            1.0142            0.0497\n",
      "AR.5           11.1649           -0.0000j           11.1649           -0.0000\n",
      "MA.1           -0.4211           -0.9077j            1.0007           -0.3191\n",
      "MA.2           -0.4211           +0.9077j            1.0007            0.3191\n",
      "MA.3            0.9727           -0.2833j            1.0132           -0.0451\n",
      "MA.4            0.9727           +0.2833j            1.0132            0.0451\n",
      "-----------------------------------------------------------------------------\n"
     ]
    }
   ],
   "source": [
    "model_13 = ARIMA(df_train, order=(5,1,4))\n",
    "model_13_fit = model_13.fit(trend='c',full_output=True, disp=1)\n",
    "print(model_13_fit.summary())"
   ]
  },
  {
   "cell_type": "code",
   "execution_count": 18,
   "metadata": {},
   "outputs": [
    {
     "name": "stderr",
     "output_type": "stream",
     "text": [
      "C:\\Users\\sm.woo\\Anaconda3\\lib\\site-packages\\statsmodels\\tsa\\base\\tsa_model.py:219: ValueWarning: A date index has been provided, but it has no associated frequency information and so will be ignored when e.g. forecasting.\n",
      "  ' ignored when e.g. forecasting.', ValueWarning)\n",
      "C:\\Users\\sm.woo\\Anaconda3\\lib\\site-packages\\statsmodels\\tsa\\base\\tsa_model.py:219: ValueWarning: A date index has been provided, but it has no associated frequency information and so will be ignored when e.g. forecasting.\n",
      "  ' ignored when e.g. forecasting.', ValueWarning)\n"
     ]
    },
    {
     "name": "stdout",
     "output_type": "stream",
     "text": [
      "                             ARIMA Model Results                              \n",
      "==============================================================================\n",
      "Dep. Variable:                 D.Rate   No. Observations:                  243\n",
      "Model:                 ARIMA(5, 1, 4)   Log Likelihood                -687.109\n",
      "Method:                       css-mle   S.D. of innovations              4.054\n",
      "Date:                Fri, 07 Feb 2020   AIC                           1394.218\n",
      "Time:                        15:52:19   BIC                           1429.149\n",
      "Sample:                             1   HQIC                          1408.288\n",
      "                                                                              \n",
      "================================================================================\n",
      "                   coef    std err          z      P>|z|      [0.025      0.975]\n",
      "--------------------------------------------------------------------------------\n",
      "ar.L1.D.Rate     0.8727      0.070     12.500      0.000       0.736       1.010\n",
      "ar.L2.D.Rate    -0.0071      0.059     -0.120      0.905      -0.123       0.109\n",
      "ar.L3.D.Rate     0.8245      0.017     49.778      0.000       0.792       0.857\n",
      "ar.L4.D.Rate    -1.0275      0.060    -17.144      0.000      -1.145      -0.910\n",
      "ar.L5.D.Rate     0.0635      0.067      0.954      0.341      -0.067       0.194\n",
      "ma.L1.D.Rate    -0.8142      0.037    -22.171      0.000      -0.886      -0.742\n",
      "ma.L2.D.Rate    -0.0802      0.025     -3.191      0.002      -0.130      -0.031\n",
      "ma.L3.D.Rate    -0.8373      0.033    -25.407      0.000      -0.902      -0.773\n",
      "ma.L4.D.Rate     0.9787      0.044     22.384      0.000       0.893       1.064\n",
      "                                    Roots                                    \n",
      "=============================================================================\n",
      "                  Real          Imaginary           Modulus         Frequency\n",
      "-----------------------------------------------------------------------------\n",
      "AR.1           -0.5383           -0.8445j            1.0014           -0.3403\n",
      "AR.2           -0.5383           +0.8445j            1.0014            0.3403\n",
      "AR.3            0.9633           -0.3105j            1.0121           -0.0496\n",
      "AR.4            0.9633           +0.3105j            1.0121            0.0496\n",
      "AR.5           15.3304           -0.0000j           15.3304           -0.0000\n",
      "MA.1           -0.5422           -0.8402j            1.0000           -0.3412\n",
      "MA.2           -0.5422           +0.8402j            1.0000            0.3412\n",
      "MA.3            0.9700           -0.2844j            1.0108           -0.0454\n",
      "MA.4            0.9700           +0.2844j            1.0108            0.0454\n",
      "-----------------------------------------------------------------------------\n"
     ]
    }
   ],
   "source": [
    "model_14 = ARIMA(df_train, order=(5,1,4))\n",
    "model_14_fit = model_14.fit(trend='nc',full_output=True, disp=1)\n",
    "print(model_14_fit.summary())"
   ]
  },
  {
   "cell_type": "code",
   "execution_count": 19,
   "metadata": {},
   "outputs": [
    {
     "name": "stderr",
     "output_type": "stream",
     "text": [
      "C:\\Users\\sm.woo\\Anaconda3\\lib\\site-packages\\statsmodels\\tsa\\base\\tsa_model.py:219: ValueWarning: A date index has been provided, but it has no associated frequency information and so will be ignored when e.g. forecasting.\n",
      "  ' ignored when e.g. forecasting.', ValueWarning)\n",
      "C:\\Users\\sm.woo\\Anaconda3\\lib\\site-packages\\statsmodels\\tsa\\base\\tsa_model.py:219: ValueWarning: A date index has been provided, but it has no associated frequency information and so will be ignored when e.g. forecasting.\n",
      "  ' ignored when e.g. forecasting.', ValueWarning)\n"
     ]
    },
    {
     "name": "stdout",
     "output_type": "stream",
     "text": [
      "                             ARIMA Model Results                              \n",
      "==============================================================================\n",
      "Dep. Variable:                 D.Rate   No. Observations:                  243\n",
      "Model:                 ARIMA(5, 1, 3)   Log Likelihood                -689.299\n",
      "Method:                       css-mle   S.D. of innovations              4.122\n",
      "Date:                Fri, 07 Feb 2020   AIC                           1396.598\n",
      "Time:                        15:52:21   BIC                           1428.035\n",
      "Sample:                             1   HQIC                          1409.261\n",
      "                                                                              \n",
      "================================================================================\n",
      "                   coef    std err          z      P>|z|      [0.025      0.975]\n",
      "--------------------------------------------------------------------------------\n",
      "ar.L1.D.Rate     0.1186      0.138      0.861      0.390      -0.151       0.389\n",
      "ar.L2.D.Rate    -0.3140      0.093     -3.377      0.001      -0.496      -0.132\n",
      "ar.L3.D.Rate     0.7712      0.115      6.709      0.000       0.546       0.997\n",
      "ar.L4.D.Rate    -0.1812      0.070     -2.598      0.010      -0.318      -0.044\n",
      "ar.L5.D.Rate    -0.0461      0.075     -0.611      0.541      -0.194       0.102\n",
      "ma.L1.D.Rate    -0.0235      0.125     -0.189      0.851      -0.268       0.221\n",
      "ma.L2.D.Rate     0.2898      0.082      3.548      0.000       0.130       0.450\n",
      "ma.L3.D.Rate    -0.8065      0.109     -7.383      0.000      -1.021      -0.592\n",
      "                                    Roots                                    \n",
      "=============================================================================\n",
      "                  Real          Imaginary           Modulus         Frequency\n",
      "-----------------------------------------------------------------------------\n",
      "AR.1           -0.4303           -0.9147j            1.0109           -0.3200\n",
      "AR.2           -0.4303           +0.9147j            1.0109            0.3200\n",
      "AR.3            1.7792           -0.1875j            1.7891           -0.0167\n",
      "AR.4            1.7792           +0.1875j            1.7891            0.0167\n",
      "AR.5           -6.6247           -0.0000j            6.6247           -0.5000\n",
      "MA.1           -0.4195           -0.9266j            1.0172           -0.3177\n",
      "MA.2           -0.4195           +0.9266j            1.0172            0.3177\n",
      "MA.3            1.1984           -0.0000j            1.1984           -0.0000\n",
      "-----------------------------------------------------------------------------\n"
     ]
    }
   ],
   "source": [
    "model_15 = ARIMA(df_train, order=(5,1,3))\n",
    "model_15_fit = model_15.fit(trend='nc',full_output=True, disp=1)\n",
    "print(model_15_fit.summary())"
   ]
  },
  {
   "cell_type": "code",
   "execution_count": 20,
   "metadata": {},
   "outputs": [
    {
     "name": "stderr",
     "output_type": "stream",
     "text": [
      "C:\\Users\\sm.woo\\Anaconda3\\lib\\site-packages\\statsmodels\\tsa\\base\\tsa_model.py:219: ValueWarning: A date index has been provided, but it has no associated frequency information and so will be ignored when e.g. forecasting.\n",
      "  ' ignored when e.g. forecasting.', ValueWarning)\n",
      "C:\\Users\\sm.woo\\Anaconda3\\lib\\site-packages\\statsmodels\\tsa\\base\\tsa_model.py:219: ValueWarning: A date index has been provided, but it has no associated frequency information and so will be ignored when e.g. forecasting.\n",
      "  ' ignored when e.g. forecasting.', ValueWarning)\n"
     ]
    },
    {
     "name": "stdout",
     "output_type": "stream",
     "text": [
      "                             ARIMA Model Results                              \n",
      "==============================================================================\n",
      "Dep. Variable:                 D.Rate   No. Observations:                  243\n",
      "Model:                 ARIMA(5, 1, 3)   Log Likelihood                -688.811\n",
      "Method:                       css-mle   S.D. of innovations              4.113\n",
      "Date:                Fri, 07 Feb 2020   AIC                           1397.621\n",
      "Time:                        15:52:23   BIC                           1432.552\n",
      "Sample:                             1   HQIC                          1411.691\n",
      "                                                                              \n",
      "================================================================================\n",
      "                   coef    std err          z      P>|z|      [0.025      0.975]\n",
      "--------------------------------------------------------------------------------\n",
      "const            0.1825      0.177      1.034      0.302      -0.164       0.529\n",
      "ar.L1.D.Rate     0.1325      0.135      0.983      0.327      -0.132       0.397\n",
      "ar.L2.D.Rate    -0.3045      0.090     -3.365      0.001      -0.482      -0.127\n",
      "ar.L3.D.Rate     0.7809      0.111      7.019      0.000       0.563       0.999\n",
      "ar.L4.D.Rate    -0.1848      0.070     -2.636      0.009      -0.322      -0.047\n",
      "ar.L5.D.Rate    -0.0475      0.076     -0.622      0.534      -0.197       0.102\n",
      "ma.L1.D.Rate    -0.0416      0.121     -0.343      0.732      -0.279       0.196\n",
      "ma.L2.D.Rate     0.2749      0.077      3.551      0.000       0.123       0.427\n",
      "ma.L3.D.Rate    -0.8233      0.105     -7.814      0.000      -1.030      -0.617\n",
      "                                    Roots                                    \n",
      "=============================================================================\n",
      "                  Real          Imaginary           Modulus         Frequency\n",
      "-----------------------------------------------------------------------------\n",
      "AR.1           -0.4305           -0.9149j            1.0111           -0.3200\n",
      "AR.2           -0.4305           +0.9149j            1.0111            0.3200\n",
      "AR.3            1.7676           -0.1124j            1.7711           -0.0101\n",
      "AR.4            1.7676           +0.1124j            1.7711            0.0101\n",
      "AR.5           -6.5653           -0.0000j            6.5653           -0.5000\n",
      "MA.1           -0.4197           -0.9269j            1.0175           -0.3177\n",
      "MA.2           -0.4197           +0.9269j            1.0175            0.3177\n",
      "MA.3            1.1733           -0.0000j            1.1733           -0.0000\n",
      "-----------------------------------------------------------------------------\n"
     ]
    }
   ],
   "source": [
    "model_16 = ARIMA(df_train, order=(5,1,3))\n",
    "model_16_fit = model_16.fit(trend='c',full_output=True, disp=1)\n",
    "print(model_16_fit.summary())"
   ]
  },
  {
   "cell_type": "code",
   "execution_count": 21,
   "metadata": {},
   "outputs": [
    {
     "name": "stderr",
     "output_type": "stream",
     "text": [
      "C:\\Users\\sm.woo\\Anaconda3\\lib\\site-packages\\statsmodels\\tsa\\base\\tsa_model.py:219: ValueWarning: A date index has been provided, but it has no associated frequency information and so will be ignored when e.g. forecasting.\n",
      "  ' ignored when e.g. forecasting.', ValueWarning)\n",
      "C:\\Users\\sm.woo\\Anaconda3\\lib\\site-packages\\statsmodels\\tsa\\base\\tsa_model.py:219: ValueWarning: A date index has been provided, but it has no associated frequency information and so will be ignored when e.g. forecasting.\n",
      "  ' ignored when e.g. forecasting.', ValueWarning)\n"
     ]
    },
    {
     "name": "stdout",
     "output_type": "stream",
     "text": [
      "                             ARIMA Model Results                              \n",
      "==============================================================================\n",
      "Dep. Variable:                 D.Rate   No. Observations:                  243\n",
      "Model:                 ARIMA(5, 1, 2)   Log Likelihood                -690.367\n",
      "Method:                       css-mle   S.D. of innovations              4.144\n",
      "Date:                Fri, 07 Feb 2020   AIC                           1398.734\n",
      "Time:                        15:52:23   BIC                           1430.171\n",
      "Sample:                             1   HQIC                          1411.397\n",
      "                                                                              \n",
      "================================================================================\n",
      "                   coef    std err          z      P>|z|      [0.025      0.975]\n",
      "--------------------------------------------------------------------------------\n",
      "const            0.1827      0.177      1.033      0.303      -0.164       0.529\n",
      "ar.L1.D.Rate     0.9407      1.043      0.902      0.368      -1.104       2.985\n",
      "ar.L2.D.Rate    -0.1591      0.906     -0.176      0.861      -1.935       1.617\n",
      "ar.L3.D.Rate     0.0468      0.145      0.322      0.747      -0.238       0.331\n",
      "ar.L4.D.Rate    -0.1345      0.096     -1.406      0.161      -0.322       0.053\n",
      "ar.L5.D.Rate     0.0312      0.138      0.227      0.821      -0.238       0.301\n",
      "ma.L1.D.Rate    -0.8610      1.042     -0.827      0.409      -2.903       1.181\n",
      "ma.L2.D.Rate     0.0412      0.822      0.050      0.960      -1.571       1.653\n",
      "                                    Roots                                    \n",
      "=============================================================================\n",
      "                  Real          Imaginary           Modulus         Frequency\n",
      "-----------------------------------------------------------------------------\n",
      "AR.1           -1.1383           -1.6078j            1.9699           -0.3480\n",
      "AR.2           -1.1383           +1.6078j            1.9699            0.3480\n",
      "AR.3            1.3487           -0.5517j            1.4571           -0.0618\n",
      "AR.4            1.3487           +0.5517j            1.4571            0.0618\n",
      "AR.5            3.8918           -0.0000j            3.8918           -0.0000\n",
      "MA.1            1.2343           +0.0000j            1.2343            0.0000\n",
      "MA.2           19.6814           +0.0000j           19.6814            0.0000\n",
      "-----------------------------------------------------------------------------\n"
     ]
    }
   ],
   "source": [
    "model_17 = ARIMA(df_train, order=(5,1,2))\n",
    "model_17_fit = model_17.fit(trend='c',full_output=True, disp=1)\n",
    "print(model_17_fit.summary())"
   ]
  },
  {
   "cell_type": "code",
   "execution_count": 22,
   "metadata": {},
   "outputs": [
    {
     "name": "stderr",
     "output_type": "stream",
     "text": [
      "C:\\Users\\sm.woo\\Anaconda3\\lib\\site-packages\\statsmodels\\tsa\\base\\tsa_model.py:219: ValueWarning: A date index has been provided, but it has no associated frequency information and so will be ignored when e.g. forecasting.\n",
      "  ' ignored when e.g. forecasting.', ValueWarning)\n",
      "C:\\Users\\sm.woo\\Anaconda3\\lib\\site-packages\\statsmodels\\tsa\\base\\tsa_model.py:219: ValueWarning: A date index has been provided, but it has no associated frequency information and so will be ignored when e.g. forecasting.\n",
      "  ' ignored when e.g. forecasting.', ValueWarning)\n"
     ]
    },
    {
     "name": "stdout",
     "output_type": "stream",
     "text": [
      "                             ARIMA Model Results                              \n",
      "==============================================================================\n",
      "Dep. Variable:                 D.Rate   No. Observations:                  243\n",
      "Model:                 ARIMA(5, 1, 2)   Log Likelihood                -690.861\n",
      "Method:                       css-mle   S.D. of innovations              4.153\n",
      "Date:                Fri, 07 Feb 2020   AIC                           1397.722\n",
      "Time:                        15:52:24   BIC                           1425.667\n",
      "Sample:                             1   HQIC                          1408.978\n",
      "                                                                              \n",
      "================================================================================\n",
      "                   coef    std err          z      P>|z|      [0.025      0.975]\n",
      "--------------------------------------------------------------------------------\n",
      "ar.L1.D.Rate     0.9363      1.061      0.883      0.378      -1.143       3.015\n",
      "ar.L2.D.Rate    -0.1663      0.903     -0.184      0.854      -1.936       1.603\n",
      "ar.L3.D.Rate     0.0486      0.145      0.336      0.737      -0.235       0.332\n",
      "ar.L4.D.Rate    -0.1340      0.096     -1.396      0.164      -0.322       0.054\n",
      "ar.L5.D.Rate     0.0323      0.138      0.234      0.815      -0.239       0.303\n",
      "ma.L1.D.Rate    -0.8523      1.059     -0.805      0.422      -2.929       1.224\n",
      "ma.L2.D.Rate     0.0495      0.813      0.061      0.951      -1.544       1.643\n",
      "                                    Roots                                    \n",
      "=============================================================================\n",
      "                  Real          Imaginary           Modulus         Frequency\n",
      "-----------------------------------------------------------------------------\n",
      "AR.1           -1.1343           -1.6063j            1.9665           -0.3479\n",
      "AR.2           -1.1343           +1.6063j            1.9665            0.3479\n",
      "AR.3            1.3518           -0.5736j            1.4685           -0.0639\n",
      "AR.4            1.3518           +0.5736j            1.4685            0.0639\n",
      "AR.5            3.7150           -0.0000j            3.7150           -0.0000\n",
      "MA.1            1.2665           +0.0000j            1.2665            0.0000\n",
      "MA.2           15.9443           +0.0000j           15.9443            0.0000\n",
      "-----------------------------------------------------------------------------\n"
     ]
    }
   ],
   "source": [
    "model_18 = ARIMA(df_train, order=(5,1,2))\n",
    "model_18_fit = model_18.fit(trend='nc',full_output=True, disp=1)\n",
    "print(model_18_fit.summary())"
   ]
  },
  {
   "cell_type": "code",
   "execution_count": 23,
   "metadata": {},
   "outputs": [
    {
     "name": "stderr",
     "output_type": "stream",
     "text": [
      "C:\\Users\\sm.woo\\Anaconda3\\lib\\site-packages\\statsmodels\\tsa\\base\\tsa_model.py:219: ValueWarning: A date index has been provided, but it has no associated frequency information and so will be ignored when e.g. forecasting.\n",
      "  ' ignored when e.g. forecasting.', ValueWarning)\n",
      "C:\\Users\\sm.woo\\Anaconda3\\lib\\site-packages\\statsmodels\\tsa\\base\\tsa_model.py:219: ValueWarning: A date index has been provided, but it has no associated frequency information and so will be ignored when e.g. forecasting.\n",
      "  ' ignored when e.g. forecasting.', ValueWarning)\n"
     ]
    },
    {
     "name": "stdout",
     "output_type": "stream",
     "text": [
      "                             ARIMA Model Results                              \n",
      "==============================================================================\n",
      "Dep. Variable:                 D.Rate   No. Observations:                  243\n",
      "Model:                 ARIMA(5, 1, 1)   Log Likelihood                -691.380\n",
      "Method:                       css-mle   S.D. of innovations              4.162\n",
      "Date:                Fri, 07 Feb 2020   AIC                           1396.761\n",
      "Time:                        15:52:25   BIC                           1421.212\n",
      "Sample:                             1   HQIC                          1406.609\n",
      "                                                                              \n",
      "================================================================================\n",
      "                   coef    std err          z      P>|z|      [0.025      0.975]\n",
      "--------------------------------------------------------------------------------\n",
      "ar.L1.D.Rate    -0.5453      0.318     -1.715      0.088      -1.169       0.078\n",
      "ar.L2.D.Rate     0.0352      0.079      0.447      0.655      -0.119       0.190\n",
      "ar.L3.D.Rate    -0.0039      0.073     -0.054      0.957      -0.147       0.139\n",
      "ar.L4.D.Rate    -0.1046      0.073     -1.441      0.151      -0.247       0.038\n",
      "ar.L5.D.Rate    -0.1511      0.065     -2.317      0.021      -0.279      -0.023\n",
      "ma.L1.D.Rate     0.6455      0.318      2.033      0.043       0.023       1.268\n",
      "                                    Roots                                    \n",
      "=============================================================================\n",
      "                  Real          Imaginary           Modulus         Frequency\n",
      "-----------------------------------------------------------------------------\n",
      "AR.1            1.1290           -1.0140j            1.5175           -0.1165\n",
      "AR.2            1.1290           +1.0140j            1.5175            0.1165\n",
      "AR.3           -1.2786           -0.0000j            1.2786           -0.5000\n",
      "AR.4           -0.8356           -1.2446j            1.4991           -0.3441\n",
      "AR.5           -0.8356           +1.2446j            1.4991            0.3441\n",
      "MA.1           -1.5492           +0.0000j            1.5492            0.5000\n",
      "-----------------------------------------------------------------------------\n"
     ]
    }
   ],
   "source": [
    "model_19 = ARIMA(df_train, order=(5,1,1))\n",
    "model_19_fit = model_19.fit(trend='nc',full_output=True, disp=1)\n",
    "print(model_19_fit.summary())"
   ]
  },
  {
   "cell_type": "code",
   "execution_count": 24,
   "metadata": {},
   "outputs": [
    {
     "name": "stderr",
     "output_type": "stream",
     "text": [
      "C:\\Users\\sm.woo\\Anaconda3\\lib\\site-packages\\statsmodels\\tsa\\base\\tsa_model.py:219: ValueWarning: A date index has been provided, but it has no associated frequency information and so will be ignored when e.g. forecasting.\n",
      "  ' ignored when e.g. forecasting.', ValueWarning)\n",
      "C:\\Users\\sm.woo\\Anaconda3\\lib\\site-packages\\statsmodels\\tsa\\base\\tsa_model.py:219: ValueWarning: A date index has been provided, but it has no associated frequency information and so will be ignored when e.g. forecasting.\n",
      "  ' ignored when e.g. forecasting.', ValueWarning)\n"
     ]
    },
    {
     "name": "stdout",
     "output_type": "stream",
     "text": [
      "                             ARIMA Model Results                              \n",
      "==============================================================================\n",
      "Dep. Variable:                 D.Rate   No. Observations:                  243\n",
      "Model:                 ARIMA(5, 1, 1)   Log Likelihood                -691.174\n",
      "Method:                       css-mle   S.D. of innovations              4.158\n",
      "Date:                Fri, 07 Feb 2020   AIC                           1398.347\n",
      "Time:                        15:52:25   BIC                           1426.292\n",
      "Sample:                             1   HQIC                          1409.603\n",
      "                                                                              \n",
      "================================================================================\n",
      "                   coef    std err          z      P>|z|      [0.025      0.975]\n",
      "--------------------------------------------------------------------------------\n",
      "const            0.1595      0.247      0.646      0.519      -0.325       0.644\n",
      "ar.L1.D.Rate    -0.5426      0.322     -1.685      0.093      -1.174       0.088\n",
      "ar.L2.D.Rate     0.0326      0.079      0.414      0.679      -0.122       0.187\n",
      "ar.L3.D.Rate    -0.0064      0.073     -0.088      0.930      -0.149       0.136\n",
      "ar.L4.D.Rate    -0.1078      0.073     -1.486      0.139      -0.250       0.034\n",
      "ar.L5.D.Rate    -0.1530      0.065     -2.339      0.020      -0.281      -0.025\n",
      "ma.L1.D.Rate     0.6413      0.322      1.993      0.047       0.011       1.272\n",
      "                                    Roots                                    \n",
      "=============================================================================\n",
      "                  Real          Imaginary           Modulus         Frequency\n",
      "-----------------------------------------------------------------------------\n",
      "AR.1            1.1214           -1.0119j            1.5104           -0.1168\n",
      "AR.2            1.1214           +1.0119j            1.5104            0.1168\n",
      "AR.3           -1.2812           -0.0000j            1.2812           -0.5000\n",
      "AR.4           -0.8329           -1.2418j            1.4952           -0.3440\n",
      "AR.5           -0.8329           +1.2418j            1.4952            0.3440\n",
      "MA.1           -1.5593           +0.0000j            1.5593            0.5000\n",
      "-----------------------------------------------------------------------------\n"
     ]
    }
   ],
   "source": [
    "model_20 = ARIMA(df_train, order=(5,1,1))\n",
    "model_20_fit = model_20.fit(trend='c',full_output=True, disp=1)\n",
    "print(model_20_fit.summary())"
   ]
  },
  {
   "cell_type": "code",
   "execution_count": 25,
   "metadata": {},
   "outputs": [
    {
     "name": "stderr",
     "output_type": "stream",
     "text": [
      "C:\\Users\\sm.woo\\Anaconda3\\lib\\site-packages\\statsmodels\\tsa\\base\\tsa_model.py:219: ValueWarning: A date index has been provided, but it has no associated frequency information and so will be ignored when e.g. forecasting.\n",
      "  ' ignored when e.g. forecasting.', ValueWarning)\n",
      "C:\\Users\\sm.woo\\Anaconda3\\lib\\site-packages\\statsmodels\\tsa\\base\\tsa_model.py:219: ValueWarning: A date index has been provided, but it has no associated frequency information and so will be ignored when e.g. forecasting.\n",
      "  ' ignored when e.g. forecasting.', ValueWarning)\n",
      "C:\\Users\\sm.woo\\Anaconda3\\lib\\site-packages\\statsmodels\\base\\model.py:492: HessianInversionWarning: Inverting hessian failed, no bse or cov_params available\n",
      "  'available', HessianInversionWarning)\n"
     ]
    },
    {
     "name": "stdout",
     "output_type": "stream",
     "text": [
      "                             ARIMA Model Results                              \n",
      "==============================================================================\n",
      "Dep. Variable:                 D.Rate   No. Observations:                  243\n",
      "Model:                 ARIMA(5, 1, 5)   Log Likelihood                -686.966\n",
      "Method:                       css-mle   S.D. of innovations              4.052\n",
      "Date:                Fri, 07 Feb 2020   AIC                           1395.932\n",
      "Time:                        15:52:33   BIC                           1434.356\n",
      "Sample:                             1   HQIC                          1411.409\n",
      "                                                                              \n",
      "================================================================================\n",
      "                   coef    std err          z      P>|z|      [0.025      0.975]\n",
      "--------------------------------------------------------------------------------\n",
      "ar.L1.D.Rate     0.3834      0.535      0.716      0.474      -0.666       1.432\n",
      "ar.L2.D.Rate     0.3908      0.436      0.896      0.371      -0.464       1.245\n",
      "ar.L3.D.Rate     0.8465      0.026     32.111      0.000       0.795       0.898\n",
      "ar.L4.D.Rate    -0.6241      0.442     -1.412      0.159      -1.490       0.242\n",
      "ar.L5.D.Rate    -0.4150      0.524     -0.792      0.429      -1.442       0.612\n",
      "ma.L1.D.Rate    -0.3234      0.516     -0.627      0.531      -1.334       0.687\n",
      "ma.L2.D.Rate    -0.4797      0.419     -1.145      0.253      -1.301       0.341\n",
      "ma.L3.D.Rate    -0.8758      0.050    -17.370      0.000      -0.975      -0.777\n",
      "ma.L4.D.Rate     0.5687      0.430      1.323      0.187      -0.274       1.411\n",
      "ma.L5.D.Rate     0.4811      0.502      0.958      0.339      -0.503       1.465\n",
      "                                    Roots                                    \n",
      "=============================================================================\n",
      "                  Real          Imaginary           Modulus         Frequency\n",
      "-----------------------------------------------------------------------------\n",
      "AR.1            0.9622           -0.3102j            1.0110           -0.0496\n",
      "AR.2            0.9622           +0.3102j            1.0110            0.0496\n",
      "AR.3           -0.5386           -0.8442j            1.0014           -0.3404\n",
      "AR.4           -0.5386           +0.8442j            1.0014            0.3404\n",
      "AR.5           -2.3512           -0.0000j            2.3512           -0.5000\n",
      "MA.1            0.9692           -0.2853j            1.0103           -0.0456\n",
      "MA.2            0.9692           +0.2853j            1.0103            0.0456\n",
      "MA.3           -0.5422           -0.8402j            1.0000           -0.3412\n",
      "MA.4           -0.5422           +0.8402j            1.0000            0.3412\n",
      "MA.5           -2.0361           -0.0000j            2.0361           -0.5000\n",
      "-----------------------------------------------------------------------------\n"
     ]
    }
   ],
   "source": [
    "model_21 = ARIMA(df_train, order=(5,1,5))\n",
    "model_21_fit = model_21.fit(trend='nc',full_output=True, disp=1)\n",
    "print(model_21_fit.summary())"
   ]
  },
  {
   "cell_type": "code",
   "execution_count": 26,
   "metadata": {},
   "outputs": [
    {
     "name": "stderr",
     "output_type": "stream",
     "text": [
      "C:\\Users\\sm.woo\\Anaconda3\\lib\\site-packages\\statsmodels\\tsa\\base\\tsa_model.py:219: ValueWarning: A date index has been provided, but it has no associated frequency information and so will be ignored when e.g. forecasting.\n",
      "  ' ignored when e.g. forecasting.', ValueWarning)\n",
      "C:\\Users\\sm.woo\\Anaconda3\\lib\\site-packages\\statsmodels\\tsa\\base\\tsa_model.py:219: ValueWarning: A date index has been provided, but it has no associated frequency information and so will be ignored when e.g. forecasting.\n",
      "  ' ignored when e.g. forecasting.', ValueWarning)\n"
     ]
    },
    {
     "name": "stdout",
     "output_type": "stream",
     "text": [
      "                             ARIMA Model Results                              \n",
      "==============================================================================\n",
      "Dep. Variable:                 D.Rate   No. Observations:                  243\n",
      "Model:                 ARIMA(5, 1, 5)   Log Likelihood                -686.704\n",
      "Method:                       css-mle   S.D. of innovations              4.048\n",
      "Date:                Fri, 07 Feb 2020   AIC                           1397.409\n",
      "Time:                        15:52:44   BIC                           1439.326\n",
      "Sample:                             1   HQIC                          1414.293\n",
      "                                                                              \n",
      "================================================================================\n",
      "                   coef    std err          z      P>|z|      [0.025      0.975]\n",
      "--------------------------------------------------------------------------------\n",
      "const            0.1662      0.229      0.727      0.468      -0.282       0.614\n",
      "ar.L1.D.Rate     0.3743      0.527      0.710      0.479      -0.660       1.408\n",
      "ar.L2.D.Rate     0.3963      0.429      0.924      0.356      -0.444       1.237\n",
      "ar.L3.D.Rate     0.8467      0.026     32.507      0.000       0.796       0.898\n",
      "ar.L4.D.Rate    -0.6166      0.436     -1.416      0.158      -1.470       0.237\n",
      "ar.L5.D.Rate    -0.4220      0.516     -0.819      0.414      -1.432       0.588\n",
      "ma.L1.D.Rate    -0.3156      0.508     -0.621      0.535      -1.311       0.680\n",
      "ma.L2.D.Rate    -0.4845      0.412     -1.176      0.241      -1.292       0.323\n",
      "ma.L3.D.Rate    -0.8769      0.050    -17.503      0.000      -0.975      -0.779\n",
      "ma.L4.D.Rate     0.5614      0.424      1.324      0.187      -0.270       1.393\n",
      "ma.L5.D.Rate     0.4864      0.494      0.985      0.325      -0.481       1.454\n",
      "                                    Roots                                    \n",
      "=============================================================================\n",
      "                  Real          Imaginary           Modulus         Frequency\n",
      "-----------------------------------------------------------------------------\n",
      "AR.1            0.9627           -0.3108j            1.0116           -0.0497\n",
      "AR.2            0.9627           +0.3108j            1.0116            0.0497\n",
      "AR.3           -0.5386           -0.8442j            1.0014           -0.3404\n",
      "AR.4           -0.5386           +0.8442j            1.0014            0.3404\n",
      "AR.5           -2.3091           -0.0000j            2.3091           -0.5000\n",
      "MA.1            0.9703           -0.2850j            1.0113           -0.0455\n",
      "MA.2            0.9703           +0.2850j            1.0113            0.0455\n",
      "MA.3           -0.5422           -0.8402j            1.0000           -0.3412\n",
      "MA.4           -0.5422           +0.8402j            1.0000            0.3412\n",
      "MA.5           -2.0101           -0.0000j            2.0101           -0.5000\n",
      "-----------------------------------------------------------------------------\n"
     ]
    }
   ],
   "source": [
    "model_22 = ARIMA(df_train, order=(5,1,5))\n",
    "model_22_fit = model_22.fit(trend='c',full_output=True, disp=1)\n",
    "print(model_22_fit.summary())"
   ]
  },
  {
   "cell_type": "code",
   "execution_count": 27,
   "metadata": {},
   "outputs": [
    {
     "name": "stderr",
     "output_type": "stream",
     "text": [
      "C:\\Users\\sm.woo\\Anaconda3\\lib\\site-packages\\statsmodels\\tsa\\base\\tsa_model.py:219: ValueWarning: A date index has been provided, but it has no associated frequency information and so will be ignored when e.g. forecasting.\n",
      "  ' ignored when e.g. forecasting.', ValueWarning)\n",
      "C:\\Users\\sm.woo\\Anaconda3\\lib\\site-packages\\statsmodels\\base\\model.py:492: HessianInversionWarning: Inverting hessian failed, no bse or cov_params available\n",
      "  'available', HessianInversionWarning)\n",
      "C:\\Users\\sm.woo\\Anaconda3\\lib\\site-packages\\statsmodels\\base\\model.py:512: ConvergenceWarning: Maximum Likelihood optimization failed to converge. Check mle_retvals\n",
      "  \"Check mle_retvals\", ConvergenceWarning)\n"
     ]
    },
    {
     "name": "stdout",
     "output_type": "stream",
     "text": [
      "                              ARMA Model Results                              \n",
      "==============================================================================\n",
      "Dep. Variable:                   Rate   No. Observations:                  244\n",
      "Model:                     ARMA(5, 5)   Log Likelihood                -692.669\n",
      "Method:                       css-mle   S.D. of innovations              4.062\n",
      "Date:                Fri, 07 Feb 2020   AIC                           1409.338\n",
      "Time:                        15:53:26   BIC                           1451.304\n",
      "Sample:                             0   HQIC                          1426.240\n",
      "                                                                              \n",
      "==============================================================================\n",
      "                 coef    std err          z      P>|z|      [0.025      0.975]\n",
      "------------------------------------------------------------------------------\n",
      "const       1126.6285     80.541     13.988      0.000     968.771    1284.486\n",
      "ar.L1.Rate     1.7573      0.018    100.194      0.000       1.723       1.792\n",
      "ar.L2.Rate    -0.7115      0.028    -25.223      0.000      -0.767      -0.656\n",
      "ar.L3.Rate     0.7907      0.042     18.838      0.000       0.708       0.873\n",
      "ar.L4.Rate    -1.7617      0.020    -87.178      0.000      -1.801      -1.722\n",
      "ar.L5.Rate     0.9249      0.024     38.424      0.000       0.878       0.972\n",
      "ma.L1.Rate    -0.6920      0.067    -10.349      0.000      -0.823      -0.561\n",
      "ma.L2.Rate    -0.1505      0.066     -2.268      0.024      -0.281      -0.020\n",
      "ma.L3.Rate    -0.8652      0.035    -24.408      0.000      -0.935      -0.796\n",
      "ma.L4.Rate     0.8524      0.060     14.135      0.000       0.734       0.971\n",
      "ma.L5.Rate     0.0836      0.074      1.131      0.259      -0.061       0.228\n",
      "                                    Roots                                    \n",
      "=============================================================================\n",
      "                  Real          Imaginary           Modulus         Frequency\n",
      "-----------------------------------------------------------------------------\n",
      "AR.1           -0.5379           -0.8433j            1.0002           -0.3404\n",
      "AR.2           -0.5379           +0.8433j            1.0002            0.3404\n",
      "AR.3            1.0013           -0.0000j            1.0013           -0.0000\n",
      "AR.4            0.9897           -0.3160j            1.0389           -0.0492\n",
      "AR.5            0.9897           +0.3160j            1.0389            0.0492\n",
      "MA.1           -0.5398           -0.8418j            1.0000           -0.3408\n",
      "MA.2           -0.5398           +0.8418j            1.0000            0.3408\n",
      "MA.3            1.0013           -0.2705j            1.0372           -0.0420\n",
      "MA.4            1.0013           +0.2705j            1.0372            0.0420\n",
      "MA.5          -11.1237           -0.0000j           11.1237           -0.5000\n",
      "-----------------------------------------------------------------------------\n"
     ]
    }
   ],
   "source": [
    "model_23 = ARIMA(df_train, order=(5,0,5))\n",
    "model_23_fit = model_23.fit(trend='c',full_output=True, disp=1)\n",
    "print(model_23_fit.summary())"
   ]
  },
  {
   "cell_type": "code",
   "execution_count": 28,
   "metadata": {},
   "outputs": [
    {
     "name": "stderr",
     "output_type": "stream",
     "text": [
      "C:\\Users\\sm.woo\\Anaconda3\\lib\\site-packages\\statsmodels\\tsa\\base\\tsa_model.py:219: ValueWarning: A date index has been provided, but it has no associated frequency information and so will be ignored when e.g. forecasting.\n",
      "  ' ignored when e.g. forecasting.', ValueWarning)\n"
     ]
    },
    {
     "name": "stdout",
     "output_type": "stream",
     "text": [
      "                              ARMA Model Results                              \n",
      "==============================================================================\n",
      "Dep. Variable:                   Rate   No. Observations:                  244\n",
      "Model:                     ARMA(5, 0)   Log Likelihood                -703.689\n",
      "Method:                       css-mle   S.D. of innovations              4.172\n",
      "Date:                Fri, 07 Feb 2020   AIC                           1419.378\n",
      "Time:                        15:53:29   BIC                           1440.361\n",
      "Sample:                             0   HQIC                          1427.828\n",
      "                                                                              \n",
      "==============================================================================\n",
      "                 coef    std err          z      P>|z|      [0.025      0.975]\n",
      "------------------------------------------------------------------------------\n",
      "ar.L1.Rate     1.1011   1.08e-05   1.02e+05      0.000       1.101       1.101\n",
      "ar.L2.Rate    -0.1336   2.25e-06  -5.93e+04      0.000      -0.134      -0.134\n",
      "ar.L3.Rate     0.0524   6.03e-07   8.68e+04      0.000       0.052       0.052\n",
      "ar.L4.Rate    -0.1401   2.29e-06  -6.11e+04      0.000      -0.140      -0.140\n",
      "ar.L5.Rate     0.1203   2.71e-06   4.44e+04      0.000       0.120       0.120\n",
      "                                    Roots                                    \n",
      "=============================================================================\n",
      "                  Real          Imaginary           Modulus         Frequency\n",
      "-----------------------------------------------------------------------------\n",
      "AR.1            1.0000           -0.0000j            1.0000           -0.0000\n",
      "AR.2           -1.1320           -1.2965j            1.7212           -0.3642\n",
      "AR.3           -1.1320           +1.2965j            1.7212            0.3642\n",
      "AR.4            1.2143           -1.1542j            1.6753           -0.1210\n",
      "AR.5            1.2143           +1.1542j            1.6753            0.1210\n",
      "-----------------------------------------------------------------------------\n"
     ]
    },
    {
     "name": "stderr",
     "output_type": "stream",
     "text": [
      "C:\\Users\\sm.woo\\Anaconda3\\lib\\site-packages\\statsmodels\\base\\model.py:512: ConvergenceWarning: Maximum Likelihood optimization failed to converge. Check mle_retvals\n",
      "  \"Check mle_retvals\", ConvergenceWarning)\n"
     ]
    }
   ],
   "source": [
    "#non값 사용 불가능\n",
    "model_24 = ARIMA(df_train, order=(5,0,0))\n",
    "model_24_fit = model_24.fit(trend='nc',full_output=True, disp=1)\n",
    "print(model_24_fit.summary())"
   ]
  },
  {
   "cell_type": "code",
   "execution_count": 29,
   "metadata": {},
   "outputs": [
    {
     "name": "stderr",
     "output_type": "stream",
     "text": [
      "C:\\Users\\sm.woo\\Anaconda3\\lib\\site-packages\\statsmodels\\tsa\\base\\tsa_model.py:219: ValueWarning: A date index has been provided, but it has no associated frequency information and so will be ignored when e.g. forecasting.\n",
      "  ' ignored when e.g. forecasting.', ValueWarning)\n"
     ]
    },
    {
     "name": "stdout",
     "output_type": "stream",
     "text": [
      "                              ARMA Model Results                              \n",
      "==============================================================================\n",
      "Dep. Variable:                   Rate   No. Observations:                  244\n",
      "Model:                     ARMA(5, 0)   Log Likelihood                -696.038\n",
      "Method:                       css-mle   S.D. of innovations              4.164\n",
      "Date:                Fri, 07 Feb 2020   AIC                           1406.076\n",
      "Time:                        15:53:30   BIC                           1430.557\n",
      "Sample:                             0   HQIC                          1415.936\n",
      "                                                                              \n",
      "==============================================================================\n",
      "                 coef    std err          z      P>|z|      [0.025      0.975]\n",
      "------------------------------------------------------------------------------\n",
      "const       1105.3399     13.878     79.648      0.000    1078.140    1132.540\n",
      "ar.L1.Rate     1.0943      0.063     17.263      0.000       0.970       1.219\n",
      "ar.L2.Rate    -0.1348      0.094     -1.431      0.154      -0.319       0.050\n",
      "ar.L3.Rate     0.0517      0.094      0.547      0.585      -0.133       0.237\n",
      "ar.L4.Rate    -0.1404      0.094     -1.492      0.137      -0.325       0.044\n",
      "ar.L5.Rate     0.1136      0.064      1.777      0.077      -0.012       0.239\n",
      "                                    Roots                                    \n",
      "=============================================================================\n",
      "                  Real          Imaginary           Modulus         Frequency\n",
      "-----------------------------------------------------------------------------\n",
      "AR.1            1.0158           -0.0000j            1.0158           -0.0000\n",
      "AR.2           -1.1355           -1.3110j            1.7344           -0.3636\n",
      "AR.3           -1.1355           +1.3110j            1.7344            0.3636\n",
      "AR.4            1.2457           -1.1528j            1.6973           -0.1188\n",
      "AR.5            1.2457           +1.1528j            1.6973            0.1188\n",
      "-----------------------------------------------------------------------------\n"
     ]
    }
   ],
   "source": [
    "model_25 = ARIMA(df_train, order=(5,0,0))\n",
    "model_25_fit = model_25.fit(trend='c',full_output=True, disp=1)\n",
    "print(model_25_fit.summary())"
   ]
  },
  {
   "cell_type": "code",
   "execution_count": 30,
   "metadata": {},
   "outputs": [
    {
     "name": "stderr",
     "output_type": "stream",
     "text": [
      "C:\\Users\\sm.woo\\Anaconda3\\lib\\site-packages\\statsmodels\\tsa\\base\\tsa_model.py:219: ValueWarning: A date index has been provided, but it has no associated frequency information and so will be ignored when e.g. forecasting.\n",
      "  ' ignored when e.g. forecasting.', ValueWarning)\n",
      "C:\\Users\\sm.woo\\Anaconda3\\lib\\site-packages\\statsmodels\\tsa\\base\\tsa_model.py:219: ValueWarning: A date index has been provided, but it has no associated frequency information and so will be ignored when e.g. forecasting.\n",
      "  ' ignored when e.g. forecasting.', ValueWarning)\n"
     ]
    },
    {
     "name": "stdout",
     "output_type": "stream",
     "text": [
      "                             ARIMA Model Results                              \n",
      "==============================================================================\n",
      "Dep. Variable:                 D.Rate   No. Observations:                  243\n",
      "Model:                 ARIMA(0, 1, 5)   Log Likelihood                -691.208\n",
      "Method:                       css-mle   S.D. of innovations              4.159\n",
      "Date:                Fri, 07 Feb 2020   AIC                           1394.416\n",
      "Time:                        15:53:30   BIC                           1415.375\n",
      "Sample:                             1   HQIC                          1402.858\n",
      "                                                                              \n",
      "================================================================================\n",
      "                   coef    std err          z      P>|z|      [0.025      0.975]\n",
      "--------------------------------------------------------------------------------\n",
      "ma.L1.D.Rate     0.0894      0.064      1.389      0.166      -0.037       0.216\n",
      "ma.L2.D.Rate    -0.0512      0.065     -0.793      0.428      -0.178       0.075\n",
      "ma.L3.D.Rate    -0.0177      0.066     -0.267      0.790      -0.148       0.112\n",
      "ma.L4.D.Rate    -0.1230      0.065     -1.882      0.061      -0.251       0.005\n",
      "ma.L5.D.Rate    -0.1261      0.066     -1.921      0.056      -0.255       0.003\n",
      "                                    Roots                                    \n",
      "=============================================================================\n",
      "                  Real          Imaginary           Modulus         Frequency\n",
      "-----------------------------------------------------------------------------\n",
      "MA.1            1.3529           -0.0000j            1.3529           -0.0000\n",
      "MA.2            0.2737           -1.4568j            1.4823           -0.2204\n",
      "MA.3            0.2737           +1.4568j            1.4823            0.2204\n",
      "MA.4           -1.4381           -0.7749j            1.6336           -0.4213\n",
      "MA.5           -1.4381           +0.7749j            1.6336            0.4213\n",
      "-----------------------------------------------------------------------------\n"
     ]
    }
   ],
   "source": [
    "model_26 = ARIMA(df_train, order=(0,1,5))\n",
    "model_26_fit = model_26.fit(trend='nc',full_output=True, disp=1)\n",
    "print(model_26_fit.summary())"
   ]
  },
  {
   "cell_type": "code",
   "execution_count": 31,
   "metadata": {},
   "outputs": [
    {
     "name": "stderr",
     "output_type": "stream",
     "text": [
      "C:\\Users\\sm.woo\\Anaconda3\\lib\\site-packages\\statsmodels\\tsa\\base\\tsa_model.py:219: ValueWarning: A date index has been provided, but it has no associated frequency information and so will be ignored when e.g. forecasting.\n",
      "  ' ignored when e.g. forecasting.', ValueWarning)\n",
      "C:\\Users\\sm.woo\\Anaconda3\\lib\\site-packages\\statsmodels\\tsa\\base\\tsa_model.py:219: ValueWarning: A date index has been provided, but it has no associated frequency information and so will be ignored when e.g. forecasting.\n",
      "  ' ignored when e.g. forecasting.', ValueWarning)\n"
     ]
    },
    {
     "name": "stdout",
     "output_type": "stream",
     "text": [
      "                             ARIMA Model Results                              \n",
      "==============================================================================\n",
      "Dep. Variable:                 D.Rate   No. Observations:                  243\n",
      "Model:                 ARIMA(0, 1, 5)   Log Likelihood                -690.850\n",
      "Method:                       css-mle   S.D. of innovations              4.153\n",
      "Date:                Fri, 07 Feb 2020   AIC                           1395.700\n",
      "Time:                        15:53:31   BIC                           1420.151\n",
      "Sample:                             1   HQIC                          1405.548\n",
      "                                                                              \n",
      "================================================================================\n",
      "                   coef    std err          z      P>|z|      [0.025      0.975]\n",
      "--------------------------------------------------------------------------------\n",
      "const            0.1729      0.199      0.869      0.386      -0.217       0.563\n",
      "ma.L1.D.Rate     0.0855      0.064      1.327      0.186      -0.041       0.212\n",
      "ma.L2.D.Rate    -0.0575      0.065     -0.889      0.375      -0.184       0.069\n",
      "ma.L3.D.Rate    -0.0248      0.067     -0.370      0.712      -0.156       0.107\n",
      "ma.L4.D.Rate    -0.1305      0.066     -1.979      0.049      -0.260      -0.001\n",
      "ma.L5.D.Rate    -0.1322      0.066     -2.008      0.046      -0.261      -0.003\n",
      "                                    Roots                                    \n",
      "=============================================================================\n",
      "                  Real          Imaginary           Modulus         Frequency\n",
      "-----------------------------------------------------------------------------\n",
      "MA.1            1.3286           -0.0000j            1.3286           -0.0000\n",
      "MA.2            0.2683           -1.4475j            1.4722           -0.2208\n",
      "MA.3            0.2683           +1.4475j            1.4722            0.2208\n",
      "MA.4           -1.4261           -0.7703j            1.6208           -0.4212\n",
      "MA.5           -1.4261           +0.7703j            1.6208            0.4212\n",
      "-----------------------------------------------------------------------------\n"
     ]
    }
   ],
   "source": [
    "model_27 = ARIMA(df_train, order=(0,1,5))\n",
    "model_27_fit = model_27.fit(trend='c',full_output=True, disp=1)\n",
    "print(model_27_fit.summary())"
   ]
  },
  {
   "cell_type": "code",
   "execution_count": 32,
   "metadata": {},
   "outputs": [
    {
     "name": "stderr",
     "output_type": "stream",
     "text": [
      "C:\\Users\\sm.woo\\Anaconda3\\lib\\site-packages\\statsmodels\\tsa\\base\\tsa_model.py:219: ValueWarning: A date index has been provided, but it has no associated frequency information and so will be ignored when e.g. forecasting.\n",
      "  ' ignored when e.g. forecasting.', ValueWarning)\n",
      "C:\\Users\\sm.woo\\Anaconda3\\lib\\site-packages\\statsmodels\\tsa\\base\\tsa_model.py:219: ValueWarning: A date index has been provided, but it has no associated frequency information and so will be ignored when e.g. forecasting.\n",
      "  ' ignored when e.g. forecasting.', ValueWarning)\n"
     ]
    },
    {
     "name": "stdout",
     "output_type": "stream",
     "text": [
      "                             ARIMA Model Results                              \n",
      "==============================================================================\n",
      "Dep. Variable:                 D.Rate   No. Observations:                  243\n",
      "Model:                 ARIMA(0, 1, 4)   Log Likelihood                -692.958\n",
      "Method:                       css-mle   S.D. of innovations              4.190\n",
      "Date:                Fri, 07 Feb 2020   AIC                           1395.916\n",
      "Time:                        15:53:31   BIC                           1413.382\n",
      "Sample:                             1   HQIC                          1402.951\n",
      "                                                                              \n",
      "================================================================================\n",
      "                   coef    std err          z      P>|z|      [0.025      0.975]\n",
      "--------------------------------------------------------------------------------\n",
      "ma.L1.D.Rate     0.0797      0.066      1.214      0.226      -0.049       0.208\n",
      "ma.L2.D.Rate    -0.0258      0.067     -0.387      0.699      -0.157       0.105\n",
      "ma.L3.D.Rate    -0.0149      0.070     -0.213      0.831      -0.152       0.122\n",
      "ma.L4.D.Rate    -0.1101      0.069     -1.596      0.112      -0.245       0.025\n",
      "                                    Roots                                    \n",
      "=============================================================================\n",
      "                  Real          Imaginary           Modulus         Frequency\n",
      "-----------------------------------------------------------------------------\n",
      "MA.1            1.7288           -0.0000j            1.7288           -0.0000\n",
      "MA.2           -1.6736           -0.0000j            1.6736           -0.5000\n",
      "MA.3           -0.0952           -1.7690j            1.7716           -0.2586\n",
      "MA.4           -0.0952           +1.7690j            1.7716            0.2586\n",
      "-----------------------------------------------------------------------------\n"
     ]
    }
   ],
   "source": [
    "model_28 = ARIMA(df_train, order=(0,1,4))\n",
    "model_28_fit = model_28.fit(trend='nc',full_output=True, disp=1)\n",
    "print(model_28_fit.summary())"
   ]
  },
  {
   "cell_type": "code",
   "execution_count": 33,
   "metadata": {},
   "outputs": [
    {
     "name": "stderr",
     "output_type": "stream",
     "text": [
      "C:\\Users\\sm.woo\\Anaconda3\\lib\\site-packages\\statsmodels\\tsa\\base\\tsa_model.py:219: ValueWarning: A date index has been provided, but it has no associated frequency information and so will be ignored when e.g. forecasting.\n",
      "  ' ignored when e.g. forecasting.', ValueWarning)\n",
      "C:\\Users\\sm.woo\\Anaconda3\\lib\\site-packages\\statsmodels\\tsa\\base\\tsa_model.py:219: ValueWarning: A date index has been provided, but it has no associated frequency information and so will be ignored when e.g. forecasting.\n",
      "  ' ignored when e.g. forecasting.', ValueWarning)\n"
     ]
    },
    {
     "name": "stdout",
     "output_type": "stream",
     "text": [
      "                             ARIMA Model Results                              \n",
      "==============================================================================\n",
      "Dep. Variable:                 D.Rate   No. Observations:                  243\n",
      "Model:                 ARIMA(0, 1, 4)   Log Likelihood                -692.753\n",
      "Method:                       css-mle   S.D. of innovations              4.186\n",
      "Date:                Fri, 07 Feb 2020   AIC                           1397.507\n",
      "Time:                        15:53:31   BIC                           1418.465\n",
      "Sample:                             1   HQIC                          1405.949\n",
      "                                                                              \n",
      "================================================================================\n",
      "                   coef    std err          z      P>|z|      [0.025      0.975]\n",
      "--------------------------------------------------------------------------------\n",
      "const            0.1591      0.246      0.648      0.518      -0.322       0.641\n",
      "ma.L1.D.Rate     0.0765      0.066      1.161      0.247      -0.053       0.206\n",
      "ma.L2.D.Rate    -0.0296      0.067     -0.440      0.660      -0.161       0.102\n",
      "ma.L3.D.Rate    -0.0198      0.071     -0.280      0.780      -0.159       0.119\n",
      "ma.L4.D.Rate    -0.1150      0.070     -1.646      0.101      -0.252       0.022\n",
      "                                    Roots                                    \n",
      "=============================================================================\n",
      "                  Real          Imaginary           Modulus         Frequency\n",
      "-----------------------------------------------------------------------------\n",
      "MA.1            1.6945           -0.0000j            1.6945           -0.0000\n",
      "MA.2           -1.6642           -0.0000j            1.6642           -0.5000\n",
      "MA.3           -0.1013           -1.7529j            1.7559           -0.2592\n",
      "MA.4           -0.1013           +1.7529j            1.7559            0.2592\n",
      "-----------------------------------------------------------------------------\n"
     ]
    }
   ],
   "source": [
    "model_29 = ARIMA(df_train, order=(0,1,4))\n",
    "model_29_fit = model_29.fit(trend='c',full_output=True, disp=1)\n",
    "print(model_29_fit.summary())"
   ]
  },
  {
   "cell_type": "code",
   "execution_count": 34,
   "metadata": {},
   "outputs": [
    {
     "name": "stderr",
     "output_type": "stream",
     "text": [
      "C:\\Users\\sm.woo\\Anaconda3\\lib\\site-packages\\statsmodels\\tsa\\base\\tsa_model.py:219: ValueWarning: A date index has been provided, but it has no associated frequency information and so will be ignored when e.g. forecasting.\n",
      "  ' ignored when e.g. forecasting.', ValueWarning)\n",
      "C:\\Users\\sm.woo\\Anaconda3\\lib\\site-packages\\statsmodels\\tsa\\base\\tsa_model.py:219: ValueWarning: A date index has been provided, but it has no associated frequency information and so will be ignored when e.g. forecasting.\n",
      "  ' ignored when e.g. forecasting.', ValueWarning)\n"
     ]
    },
    {
     "name": "stdout",
     "output_type": "stream",
     "text": [
      "                             ARIMA Model Results                              \n",
      "==============================================================================\n",
      "Dep. Variable:                D2.Rate   No. Observations:                  242\n",
      "Model:                 ARIMA(5, 2, 5)   Log Likelihood                -688.384\n",
      "Method:                       css-mle   S.D. of innovations              4.090\n",
      "Date:                Fri, 07 Feb 2020   AIC                           1400.768\n",
      "Time:                        15:53:46   BIC                           1442.635\n",
      "Sample:                             2   HQIC                          1417.634\n",
      "                                                                              \n",
      "=================================================================================\n",
      "                    coef    std err          z      P>|z|      [0.025      0.975]\n",
      "---------------------------------------------------------------------------------\n",
      "const            -0.0021      0.003     -0.817      0.415      -0.007       0.003\n",
      "ar.L1.D2.Rate    -0.7749      0.140     -5.517      0.000      -1.050      -0.500\n",
      "ar.L2.D2.Rate    -0.1310      0.177     -0.740      0.460      -0.478       0.216\n",
      "ar.L3.D2.Rate     0.4795      0.195      2.456      0.015       0.097       0.862\n",
      "ar.L4.D2.Rate     0.5819      0.138      4.214      0.000       0.311       0.853\n",
      "ar.L5.D2.Rate    -0.1821      0.065     -2.787      0.006      -0.310      -0.054\n",
      "ma.L1.D2.Rate    -0.1119      0.137     -0.815      0.416      -0.381       0.157\n",
      "ma.L2.D2.Rate    -0.7283      0.105     -6.909      0.000      -0.935      -0.522\n",
      "ma.L3.D2.Rate    -0.7087      0.152     -4.666      0.000      -1.006      -0.411\n",
      "ma.L4.D2.Rate    -0.2717      0.105     -2.592      0.010      -0.477      -0.066\n",
      "ma.L5.D2.Rate     0.8207      0.102      8.070      0.000       0.621       1.020\n",
      "                                    Roots                                    \n",
      "=============================================================================\n",
      "                  Real          Imaginary           Modulus         Frequency\n",
      "-----------------------------------------------------------------------------\n",
      "AR.1           -1.0295           -0.0000j            1.0295           -0.5000\n",
      "AR.2           -0.4306           -0.9346j            1.0290           -0.3187\n",
      "AR.3           -0.4306           +0.9346j            1.0290            0.3187\n",
      "AR.4            1.3474           -0.0000j            1.3474           -0.0000\n",
      "AR.5            3.7385           -0.0000j            3.7385           -0.0000\n",
      "MA.1           -1.0000           -0.0000j            1.0000           -0.5000\n",
      "MA.2           -0.4062           -0.9489j            1.0322           -0.3144\n",
      "MA.3           -0.4062           +0.9489j            1.0322            0.3144\n",
      "MA.4            1.0000           -0.0000j            1.0000           -0.0000\n",
      "MA.5            1.1436           -0.0000j            1.1436           -0.0000\n",
      "-----------------------------------------------------------------------------\n"
     ]
    }
   ],
   "source": [
    "model_31 = ARIMA(df_train, order=(5,2,5))\n",
    "model_31_fit = model_31.fit(trend='c',full_output=True, disp=1)\n",
    "print(model_31_fit.summary())"
   ]
  },
  {
   "cell_type": "markdown",
   "metadata": {},
   "source": [
    "### 예측"
   ]
  },
  {
   "cell_type": "code",
   "execution_count": 35,
   "metadata": {
    "scrolled": true
   },
   "outputs": [
    {
     "data": {
      "image/png": "[encoded data removed]",
      "text/plain": [
       "<Figure size 432x288 with 1 Axes>"
      ]
     },
     "metadata": {
      "needs_background": "light"
     },
     "output_type": "display_data"
    },
    {
     "data": {
      "image/png": "[encoded data removed]",
      "text/plain": [
       "<Figure size 432x288 with 1 Axes>"
      ]
     },
     "metadata": {
      "needs_background": "light"
     },
     "output_type": "display_data"
    },
    {
     "data": {
      "image/png": "[encoded data removed]",
      "text/plain": [
       "<Figure size 432x288 with 1 Axes>"
      ]
     },
     "metadata": {
      "needs_background": "light"
     },
     "output_type": "display_data"
    },
    {
     "data": {
      "image/png": "[encoded data removed]",
      "text/plain": [
       "<Figure size 432x288 with 1 Axes>"
      ]
     },
     "metadata": {
      "needs_background": "light"
     },
     "output_type": "display_data"
    },
    {
     "data": {
      "image/png": "[encoded data removed]",
      "text/plain": [
       "<Figure size 432x288 with 1 Axes>"
      ]
     },
     "metadata": {
      "needs_background": "light"
     },
     "output_type": "display_data"
    },
    {
     "data": {
      "image/png": "[encoded data removed]",
      "text/plain": [
       "<Figure size 432x288 with 1 Axes>"
      ]
     },
     "metadata": {
      "needs_background": "light"
     },
     "output_type": "display_data"
    },
    {
     "data": {
      "image/png": "[encoded data removed]",
      "text/plain": [
       "<Figure size 432x288 with 1 Axes>"
      ]
     },
     "metadata": {
      "needs_background": "light"
     },
     "output_type": "display_data"
    },
    {
     "data": {
      "image/png": "[encoded data removed]",
      "text/plain": [
       "<Figure size 432x288 with 1 Axes>"
      ]
     },
     "metadata": {
      "needs_background": "light"
     },
     "output_type": "display_data"
    },
    {
     "data": {
      "image/png": "[encoded data removed]",
      "text/plain": [
       "<Figure size 432x288 with 1 Axes>"
      ]
     },
     "metadata": {
      "needs_background": "light"
     },
     "output_type": "display_data"
    },
    {
     "data": {
      "image/png": "[encoded data removed]",
      "text/plain": [
       "<Figure size 432x288 with 1 Axes>"
      ]
     },
     "metadata": {
      "needs_background": "light"
     },
     "output_type": "display_data"
    },
    {
     "data": {
      "image/png": "[encoded data removed]",
      "text/plain": [
       "<Figure size 432x288 with 1 Axes>"
      ]
     },
     "metadata": {
      "needs_background": "light"
     },
     "output_type": "display_data"
    },
    {
     "data": {
      "image/png": "[encoded data removed]",
      "text/plain": [
       "<Figure size 432x288 with 1 Axes>"
      ]
     },
     "metadata": {
      "needs_background": "light"
     },
     "output_type": "display_data"
    }
   ],
   "source": [
    "Models = [model_1_fit, model_2_fit, model_3_fit, model_4_fit, model_18_fit, model_19_fit, model_20_fit, \n",
    "          model_25_fit, model_26_fit, model_27_fit, model_28_fit, model_29_fit]\n",
    "\n",
    "df_test=df_test[:5]\n",
    "actual_price=df_test['Rate'].tolist()[:5]\n",
    "RMSE_total=[]\n",
    "pred_price=[]\n",
    "\n",
    "for model in Models:\n",
    "    pred = model.forecast(steps=5)\n",
    "    pred_price_0=pred[0][:5]\n",
    "    pred_price.extend(pred_price_0)\n",
    "\n",
    "    plt.plot(pred_price_0)\n",
    "    plt.plot(df_test)\n",
    "    plt.show()\n",
    "    \n",
    "    RMSE = mean_squared_error(pred_price_0, actual_price)**0.5    \n",
    "    RMSE_total.append(RMSE)"
   ]
  },
  {
   "cell_type": "markdown",
   "metadata": {},
   "source": [
    "#### 예측값, stderr, upper bound, lower bound"
   ]
  },
  {
   "cell_type": "code",
   "execution_count": 36,
   "metadata": {},
   "outputs": [],
   "source": [
    "n = 5\n",
    "result = [pred_price[i * n:(i + 1) * n] for i in range((len(pred_price) + n - 1) // n )] \n",
    "pred_final = []\n",
    "for i in result:\n",
    "    pred_final.append(i)"
   ]
  },
  {
   "cell_type": "code",
   "execution_count": 37,
   "metadata": {
    "scrolled": true
   },
   "outputs": [],
   "source": [
    "pred_final=pd.DataFrame(pred_final)\n",
    "RMSE_total=pd.DataFrame(RMSE_total)\n",
    "final_df=pd.concat([pred_final, RMSE_total], axis=1)\n",
    "final_df.columns=[df_test.index[0],df_test.index[1],df_test.index[2],df_test.index[3],df_test.index[4],'RMSE']"
   ]
  },
  {
   "cell_type": "code",
   "execution_count": 38,
   "metadata": {},
   "outputs": [
    {
     "data": {
      "text/html": [
       "<div>\n",
       "<style scoped>\n",
       "    .dataframe tbody tr th:only-of-type {\n",
       "        vertical-align: middle;\n",
       "    }\n",
       "\n",
       "    .dataframe tbody tr th {\n",
       "        vertical-align: top;\n",
       "    }\n",
       "\n",
       "    .dataframe thead th {\n",
       "        text-align: right;\n",
       "    }\n",
       "</style>\n",
       "<table border=\"1\" class=\"dataframe\">\n",
       "  <thead>\n",
       "    <tr style=\"text-align: right;\">\n",
       "      <th></th>\n",
       "      <th>2019-03-04</th>\n",
       "      <th>2019-03-05</th>\n",
       "      <th>2019-03-06</th>\n",
       "      <th>2019-03-07</th>\n",
       "      <th>2019-03-08</th>\n",
       "      <th>RMSE</th>\n",
       "    </tr>\n",
       "  </thead>\n",
       "  <tbody>\n",
       "    <tr>\n",
       "      <td>0</td>\n",
       "      <td>1119.900000</td>\n",
       "      <td>1125.000000</td>\n",
       "      <td>1125.800000</td>\n",
       "      <td>1127.800000</td>\n",
       "      <td>1128.300000</td>\n",
       "      <td>0.000000</td>\n",
       "    </tr>\n",
       "    <tr>\n",
       "      <td>0</td>\n",
       "      <td>1117.770727</td>\n",
       "      <td>1117.781071</td>\n",
       "      <td>1117.777416</td>\n",
       "      <td>1117.778707</td>\n",
       "      <td>1117.778251</td>\n",
       "      <td>8.150363</td>\n",
       "    </tr>\n",
       "    <tr>\n",
       "      <td>1</td>\n",
       "      <td>1117.907987</td>\n",
       "      <td>1118.069438</td>\n",
       "      <td>1118.211756</td>\n",
       "      <td>1118.360922</td>\n",
       "      <td>1118.507636</td>\n",
       "      <td>7.675530</td>\n",
       "    </tr>\n",
       "    <tr>\n",
       "      <td>2</td>\n",
       "      <td>1118.422813</td>\n",
       "      <td>1119.136932</td>\n",
       "      <td>1119.769009</td>\n",
       "      <td>1120.307474</td>\n",
       "      <td>1120.767448</td>\n",
       "      <td>6.096028</td>\n",
       "    </tr>\n",
       "    <tr>\n",
       "      <td>3</td>\n",
       "      <td>1118.120199</td>\n",
       "      <td>1118.501279</td>\n",
       "      <td>1118.818439</td>\n",
       "      <td>1119.065326</td>\n",
       "      <td>1119.254454</td>\n",
       "      <td>7.102953</td>\n",
       "    </tr>\n",
       "    <tr>\n",
       "      <td>4</td>\n",
       "      <td>1117.663702</td>\n",
       "      <td>1118.173533</td>\n",
       "      <td>1118.825974</td>\n",
       "      <td>1119.331688</td>\n",
       "      <td>1119.723541</td>\n",
       "      <td>7.007234</td>\n",
       "    </tr>\n",
       "    <tr>\n",
       "      <td>5</td>\n",
       "      <td>1117.073089</td>\n",
       "      <td>1117.777562</td>\n",
       "      <td>1118.371813</td>\n",
       "      <td>1118.505614</td>\n",
       "      <td>1118.602398</td>\n",
       "      <td>7.691061</td>\n",
       "    </tr>\n",
       "    <tr>\n",
       "      <td>6</td>\n",
       "      <td>1117.251782</td>\n",
       "      <td>1118.161540</td>\n",
       "      <td>1118.956084</td>\n",
       "      <td>1119.278168</td>\n",
       "      <td>1119.542603</td>\n",
       "      <td>7.070083</td>\n",
       "    </tr>\n",
       "    <tr>\n",
       "      <td>7</td>\n",
       "      <td>1117.332515</td>\n",
       "      <td>1117.595023</td>\n",
       "      <td>1117.713906</td>\n",
       "      <td>1117.570693</td>\n",
       "      <td>1117.420372</td>\n",
       "      <td>8.364396</td>\n",
       "    </tr>\n",
       "    <tr>\n",
       "      <td>8</td>\n",
       "      <td>1117.442664</td>\n",
       "      <td>1118.033776</td>\n",
       "      <td>1118.935750</td>\n",
       "      <td>1119.308811</td>\n",
       "      <td>1119.308811</td>\n",
       "      <td>7.136196</td>\n",
       "    </tr>\n",
       "    <tr>\n",
       "      <td>9</td>\n",
       "      <td>1117.697289</td>\n",
       "      <td>1118.596432</td>\n",
       "      <td>1119.791387</td>\n",
       "      <td>1120.422662</td>\n",
       "      <td>1120.595604</td>\n",
       "      <td>6.256898</td>\n",
       "    </tr>\n",
       "    <tr>\n",
       "      <td>10</td>\n",
       "      <td>1117.850148</td>\n",
       "      <td>1118.403524</td>\n",
       "      <td>1118.692033</td>\n",
       "      <td>1118.706404</td>\n",
       "      <td>1118.706404</td>\n",
       "      <td>7.388764</td>\n",
       "    </tr>\n",
       "    <tr>\n",
       "      <td>11</td>\n",
       "      <td>1118.054909</td>\n",
       "      <td>1118.832475</td>\n",
       "      <td>1119.319672</td>\n",
       "      <td>1119.514982</td>\n",
       "      <td>1119.674089</td>\n",
       "      <td>6.730308</td>\n",
       "    </tr>\n",
       "  </tbody>\n",
       "</table>\n",
       "</div>"
      ],
      "text/plain": [
       "     2019-03-04   2019-03-05   2019-03-06   2019-03-07   2019-03-08      RMSE\n",
       "0   1119.900000  1125.000000  1125.800000  1127.800000  1128.300000  0.000000\n",
       "0   1117.770727  1117.781071  1117.777416  1117.778707  1117.778251  8.150363\n",
       "1   1117.907987  1118.069438  1118.211756  1118.360922  1118.507636  7.675530\n",
       "2   1118.422813  1119.136932  1119.769009  1120.307474  1120.767448  6.096028\n",
       "3   1118.120199  1118.501279  1118.818439  1119.065326  1119.254454  7.102953\n",
       "4   1117.663702  1118.173533  1118.825974  1119.331688  1119.723541  7.007234\n",
       "5   1117.073089  1117.777562  1118.371813  1118.505614  1118.602398  7.691061\n",
       "6   1117.251782  1118.161540  1118.956084  1119.278168  1119.542603  7.070083\n",
       "7   1117.332515  1117.595023  1117.713906  1117.570693  1117.420372  8.364396\n",
       "8   1117.442664  1118.033776  1118.935750  1119.308811  1119.308811  7.136196\n",
       "9   1117.697289  1118.596432  1119.791387  1120.422662  1120.595604  6.256898\n",
       "10  1117.850148  1118.403524  1118.692033  1118.706404  1118.706404  7.388764\n",
       "11  1118.054909  1118.832475  1119.319672  1119.514982  1119.674089  6.730308"
      ]
     },
     "execution_count": 38,
     "metadata": {},
     "output_type": "execute_result"
    }
   ],
   "source": [
    "actual_price = pd.DataFrame(actual_price + [0]).T\n",
    "actual_price.columns=[df_test.index[0],df_test.index[1],df_test.index[2],df_test.index[3],df_test.index[4],'RMSE']\n",
    "final_df=pd.concat([actual_price, final_df], axis=0)\n",
    "final_df"
   ]
  },
  {
   "cell_type": "code",
   "execution_count": 39,
   "metadata": {},
   "outputs": [],
   "source": [
    "final_df.to_csv('data/final02.csv', index=False)"
   ]
  },
  {
   "cell_type": "code",
   "execution_count": null,
   "metadata": {},
   "outputs": [],
   "source": []
  }
 ],
 "metadata": {
  "kernelspec": {
   "display_name": "Python 3",
   "language": "python",
   "name": "python3"
  },
  "language_info": {
   "codemirror_mode": {
    "name": "ipython",
    "version": 3
   },
   "file_extension": ".py",
   "mimetype": "text/x-python",
   "name": "python",
   "nbconvert_exporter": "python",
   "pygments_lexer": "ipython3",
   "version": "3.7.4"
  }
 },
 "nbformat": 4,
 "nbformat_minor": 2
}
