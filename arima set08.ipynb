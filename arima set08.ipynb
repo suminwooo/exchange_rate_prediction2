{
 "cells": [
  {
   "cell_type": "code",
   "execution_count": 1,
   "metadata": {},
   "outputs": [],
   "source": [
    "import pandas as pd\n",
    "import matplotlib.pyplot as plt\n",
    "\n",
    "from statsmodels.tsa.arima_model import ARIMA\n",
    "from sklearn.metrics import mean_squared_error"
   ]
  },
  {
   "cell_type": "code",
   "execution_count": 2,
   "metadata": {},
   "outputs": [],
   "source": [
    "data = pd.read_csv('exchange_data/set08.csv', header=0, squeeze=True)"
   ]
  },
  {
   "cell_type": "code",
   "execution_count": 3,
   "metadata": {},
   "outputs": [],
   "source": [
    "data = data.set_index('Date')"
   ]
  },
  {
   "cell_type": "code",
   "execution_count": 4,
   "metadata": {},
   "outputs": [],
   "source": [
    "#2018년 2월~2019년1월 train set/ 2019년 2월 test set\n",
    "df_train=data.loc['2018-09-01': '2019-08-31' ]\n",
    "df_test=data.loc['2019-09-01':]"
   ]
  },
  {
   "cell_type": "markdown",
   "metadata": {},
   "source": [
    "### 모형구축"
   ]
  },
  {
   "cell_type": "code",
   "execution_count": 5,
   "metadata": {},
   "outputs": [
    {
     "name": "stderr",
     "output_type": "stream",
     "text": [
      "C:\\Users\\sm.woo\\Anaconda3\\lib\\site-packages\\statsmodels\\tsa\\base\\tsa_model.py:219: ValueWarning: A date index has been provided, but it has no associated frequency information and so will be ignored when e.g. forecasting.\n",
      "  ' ignored when e.g. forecasting.', ValueWarning)\n",
      "C:\\Users\\sm.woo\\Anaconda3\\lib\\site-packages\\statsmodels\\tsa\\base\\tsa_model.py:219: ValueWarning: A date index has been provided, but it has no associated frequency information and so will be ignored when e.g. forecasting.\n",
      "  ' ignored when e.g. forecasting.', ValueWarning)\n"
     ]
    },
    {
     "name": "stdout",
     "output_type": "stream",
     "text": [
      "                             ARIMA Model Results                              \n",
      "==============================================================================\n",
      "Dep. Variable:                 D.Rate   No. Observations:                  244\n",
      "Model:                 ARIMA(1, 1, 1)   Log Likelihood                -687.330\n",
      "Method:                       css-mle   S.D. of innovations              4.047\n",
      "Date:                Fri, 07 Feb 2020   AIC                           1380.660\n",
      "Time:                        15:53:54   BIC                           1391.152\n",
      "Sample:                             1   HQIC                          1384.885\n",
      "                                                                              \n",
      "================================================================================\n",
      "                   coef    std err          z      P>|z|      [0.025      0.975]\n",
      "--------------------------------------------------------------------------------\n",
      "ar.L1.D.Rate    -0.2101      0.452     -0.465      0.643      -1.096       0.676\n",
      "ma.L1.D.Rate     0.3555      0.433      0.820      0.413      -0.494       1.205\n",
      "                                    Roots                                    \n",
      "=============================================================================\n",
      "                  Real          Imaginary           Modulus         Frequency\n",
      "-----------------------------------------------------------------------------\n",
      "AR.1           -4.7587           +0.0000j            4.7587            0.5000\n",
      "MA.1           -2.8128           +0.0000j            2.8128            0.5000\n",
      "-----------------------------------------------------------------------------\n"
     ]
    }
   ],
   "source": [
    "model_1 = ARIMA(df_train, order=(1,1,1))\n",
    "model_1_fit = model_1.fit(trend='nc',full_output=True, disp=1)\n",
    "print(model_1_fit.summary())"
   ]
  },
  {
   "cell_type": "code",
   "execution_count": 6,
   "metadata": {},
   "outputs": [
    {
     "name": "stderr",
     "output_type": "stream",
     "text": [
      "C:\\Users\\sm.woo\\Anaconda3\\lib\\site-packages\\statsmodels\\tsa\\base\\tsa_model.py:219: ValueWarning: A date index has been provided, but it has no associated frequency information and so will be ignored when e.g. forecasting.\n",
      "  ' ignored when e.g. forecasting.', ValueWarning)\n",
      "C:\\Users\\sm.woo\\Anaconda3\\lib\\site-packages\\statsmodels\\tsa\\base\\tsa_model.py:219: ValueWarning: A date index has been provided, but it has no associated frequency information and so will be ignored when e.g. forecasting.\n",
      "  ' ignored when e.g. forecasting.', ValueWarning)\n"
     ]
    },
    {
     "name": "stdout",
     "output_type": "stream",
     "text": [
      "                             ARIMA Model Results                              \n",
      "==============================================================================\n",
      "Dep. Variable:                 D.Rate   No. Observations:                  244\n",
      "Model:                 ARIMA(1, 1, 1)   Log Likelihood                -686.279\n",
      "Method:                       css-mle   S.D. of innovations              4.029\n",
      "Date:                Fri, 07 Feb 2020   AIC                           1380.557\n",
      "Time:                        15:53:55   BIC                           1394.546\n",
      "Sample:                             1   HQIC                          1386.191\n",
      "                                                                              \n",
      "================================================================================\n",
      "                   coef    std err          z      P>|z|      [0.025      0.975]\n",
      "--------------------------------------------------------------------------------\n",
      "const            0.4177      0.286      1.460      0.146      -0.143       0.979\n",
      "ar.L1.D.Rate    -0.2543      0.397     -0.641      0.522      -1.032       0.523\n",
      "ma.L1.D.Rate     0.3918      0.377      1.039      0.300      -0.347       1.131\n",
      "                                    Roots                                    \n",
      "=============================================================================\n",
      "                  Real          Imaginary           Modulus         Frequency\n",
      "-----------------------------------------------------------------------------\n",
      "AR.1           -3.9323           +0.0000j            3.9323            0.5000\n",
      "MA.1           -2.5521           +0.0000j            2.5521            0.5000\n",
      "-----------------------------------------------------------------------------\n"
     ]
    }
   ],
   "source": [
    "model_2 = ARIMA(df_train, order=(1,1,1))\n",
    "model_2_fit = model_2.fit(trend='c',full_output=True, disp=1)\n",
    "print(model_2_fit.summary())"
   ]
  },
  {
   "cell_type": "code",
   "execution_count": 7,
   "metadata": {},
   "outputs": [
    {
     "name": "stderr",
     "output_type": "stream",
     "text": [
      "C:\\Users\\sm.woo\\Anaconda3\\lib\\site-packages\\statsmodels\\tsa\\base\\tsa_model.py:219: ValueWarning: A date index has been provided, but it has no associated frequency information and so will be ignored when e.g. forecasting.\n",
      "  ' ignored when e.g. forecasting.', ValueWarning)\n",
      "C:\\Users\\sm.woo\\Anaconda3\\lib\\site-packages\\statsmodels\\tsa\\base\\tsa_model.py:219: ValueWarning: A date index has been provided, but it has no associated frequency information and so will be ignored when e.g. forecasting.\n",
      "  ' ignored when e.g. forecasting.', ValueWarning)\n"
     ]
    },
    {
     "name": "stdout",
     "output_type": "stream",
     "text": [
      "                             ARIMA Model Results                              \n",
      "==============================================================================\n",
      "Dep. Variable:                 D.Rate   No. Observations:                  244\n",
      "Model:                 ARIMA(2, 1, 1)   Log Likelihood                -686.249\n",
      "Method:                       css-mle   S.D. of innovations              4.029\n",
      "Date:                Fri, 07 Feb 2020   AIC                           1382.498\n",
      "Time:                        15:53:59   BIC                           1399.984\n",
      "Sample:                             1   HQIC                          1389.540\n",
      "                                                                              \n",
      "================================================================================\n",
      "                   coef    std err          z      P>|z|      [0.025      0.975]\n",
      "--------------------------------------------------------------------------------\n",
      "const            0.4177      0.290      1.441      0.151      -0.150       0.986\n",
      "ar.L1.D.Rate    -0.3382      0.441     -0.766      0.444      -1.204       0.527\n",
      "ar.L2.D.Rate     0.0228      0.094      0.242      0.809      -0.162       0.207\n",
      "ma.L1.D.Rate     0.4786      0.436      1.097      0.274      -0.377       1.334\n",
      "                                    Roots                                    \n",
      "=============================================================================\n",
      "                  Real          Imaginary           Modulus         Frequency\n",
      "-----------------------------------------------------------------------------\n",
      "AR.1           -2.5270           +0.0000j            2.5270            0.5000\n",
      "AR.2           17.3831           +0.0000j           17.3831            0.0000\n",
      "MA.1           -2.0896           +0.0000j            2.0896            0.5000\n",
      "-----------------------------------------------------------------------------\n"
     ]
    }
   ],
   "source": [
    "model_3 = ARIMA(df_train, order=(2,1,1))\n",
    "model_3_fit = model_3.fit(trend='c',full_output=True, disp=1)\n",
    "print(model_3_fit.summary())"
   ]
  },
  {
   "cell_type": "code",
   "execution_count": 8,
   "metadata": {},
   "outputs": [
    {
     "name": "stderr",
     "output_type": "stream",
     "text": [
      "C:\\Users\\sm.woo\\Anaconda3\\lib\\site-packages\\statsmodels\\tsa\\base\\tsa_model.py:219: ValueWarning: A date index has been provided, but it has no associated frequency information and so will be ignored when e.g. forecasting.\n",
      "  ' ignored when e.g. forecasting.', ValueWarning)\n",
      "C:\\Users\\sm.woo\\Anaconda3\\lib\\site-packages\\statsmodels\\tsa\\base\\tsa_model.py:219: ValueWarning: A date index has been provided, but it has no associated frequency information and so will be ignored when e.g. forecasting.\n",
      "  ' ignored when e.g. forecasting.', ValueWarning)\n"
     ]
    },
    {
     "name": "stdout",
     "output_type": "stream",
     "text": [
      "                             ARIMA Model Results                              \n",
      "==============================================================================\n",
      "Dep. Variable:                 D.Rate   No. Observations:                  244\n",
      "Model:                 ARIMA(2, 1, 1)   Log Likelihood                -687.270\n",
      "Method:                       css-mle   S.D. of innovations              4.046\n",
      "Date:                Fri, 07 Feb 2020   AIC                           1382.541\n",
      "Time:                        15:54:02   BIC                           1396.529\n",
      "Sample:                             1   HQIC                          1388.174\n",
      "                                                                              \n",
      "================================================================================\n",
      "                   coef    std err          z      P>|z|      [0.025      0.975]\n",
      "--------------------------------------------------------------------------------\n",
      "ar.L1.D.Rate    -0.3436      0.443     -0.775      0.439      -1.213       0.525\n",
      "ar.L2.D.Rate     0.0333      0.097      0.344      0.731      -0.156       0.223\n",
      "ma.L1.D.Rate     0.4925      0.438      1.124      0.262      -0.366       1.351\n",
      "                                    Roots                                    \n",
      "=============================================================================\n",
      "                  Real          Imaginary           Modulus         Frequency\n",
      "-----------------------------------------------------------------------------\n",
      "AR.1           -2.3673           +0.0000j            2.3673            0.5000\n",
      "AR.2           12.6943           +0.0000j           12.6943            0.0000\n",
      "MA.1           -2.0306           +0.0000j            2.0306            0.5000\n",
      "-----------------------------------------------------------------------------\n"
     ]
    }
   ],
   "source": [
    "model_4 = ARIMA(df_train, order=(2,1,1))\n",
    "model_4_fit = model_4.fit(trend='nc',full_output=True, disp=1)\n",
    "print(model_4_fit.summary())"
   ]
  },
  {
   "cell_type": "code",
   "execution_count": 9,
   "metadata": {},
   "outputs": [
    {
     "name": "stderr",
     "output_type": "stream",
     "text": [
      "C:\\Users\\sm.woo\\Anaconda3\\lib\\site-packages\\statsmodels\\tsa\\base\\tsa_model.py:219: ValueWarning: A date index has been provided, but it has no associated frequency information and so will be ignored when e.g. forecasting.\n",
      "  ' ignored when e.g. forecasting.', ValueWarning)\n",
      "C:\\Users\\sm.woo\\Anaconda3\\lib\\site-packages\\statsmodels\\tsa\\base\\tsa_model.py:219: ValueWarning: A date index has been provided, but it has no associated frequency information and so will be ignored when e.g. forecasting.\n",
      "  ' ignored when e.g. forecasting.', ValueWarning)\n"
     ]
    },
    {
     "name": "stdout",
     "output_type": "stream",
     "text": [
      "                             ARIMA Model Results                              \n",
      "==============================================================================\n",
      "Dep. Variable:                 D.Rate   No. Observations:                  244\n",
      "Model:                 ARIMA(2, 1, 2)   Log Likelihood                -687.207\n",
      "Method:                       css-mle   S.D. of innovations              4.045\n",
      "Date:                Fri, 07 Feb 2020   AIC                           1384.414\n",
      "Time:                        15:54:04   BIC                           1401.900\n",
      "Sample:                             1   HQIC                          1391.456\n",
      "                                                                              \n",
      "================================================================================\n",
      "                   coef    std err          z      P>|z|      [0.025      0.975]\n",
      "--------------------------------------------------------------------------------\n",
      "ar.L1.D.Rate    -0.0187      0.843     -0.022      0.982      -1.671       1.634\n",
      "ar.L2.D.Rate     0.1520      0.274      0.554      0.580      -0.386       0.689\n",
      "ma.L1.D.Rate     0.1687      0.842      0.200      0.841      -1.482       1.819\n",
      "ma.L2.D.Rate    -0.1584      0.342     -0.463      0.644      -0.829       0.513\n",
      "                                    Roots                                    \n",
      "=============================================================================\n",
      "                  Real          Imaginary           Modulus         Frequency\n",
      "-----------------------------------------------------------------------------\n",
      "AR.1           -2.5044           +0.0000j            2.5044            0.5000\n",
      "AR.2            2.6271           +0.0000j            2.6271            0.0000\n",
      "MA.1           -2.0357           +0.0000j            2.0357            0.5000\n",
      "MA.2            3.1003           +0.0000j            3.1003            0.0000\n",
      "-----------------------------------------------------------------------------\n"
     ]
    }
   ],
   "source": [
    "model_5 = ARIMA(df_train, order=(2,1,2))\n",
    "model_5_fit = model_5.fit(trend='nc',full_output=True, disp=1)\n",
    "print(model_5_fit.summary())"
   ]
  },
  {
   "cell_type": "code",
   "execution_count": 10,
   "metadata": {},
   "outputs": [
    {
     "name": "stderr",
     "output_type": "stream",
     "text": [
      "C:\\Users\\sm.woo\\Anaconda3\\lib\\site-packages\\statsmodels\\tsa\\base\\tsa_model.py:219: ValueWarning: A date index has been provided, but it has no associated frequency information and so will be ignored when e.g. forecasting.\n",
      "  ' ignored when e.g. forecasting.', ValueWarning)\n",
      "C:\\Users\\sm.woo\\Anaconda3\\lib\\site-packages\\statsmodels\\tsa\\base\\tsa_model.py:219: ValueWarning: A date index has been provided, but it has no associated frequency information and so will be ignored when e.g. forecasting.\n",
      "  ' ignored when e.g. forecasting.', ValueWarning)\n"
     ]
    },
    {
     "name": "stdout",
     "output_type": "stream",
     "text": [
      "                             ARIMA Model Results                              \n",
      "==============================================================================\n",
      "Dep. Variable:                 D.Rate   No. Observations:                  244\n",
      "Model:                 ARIMA(2, 1, 2)   Log Likelihood                -686.221\n",
      "Method:                       css-mle   S.D. of innovations              4.029\n",
      "Date:                Fri, 07 Feb 2020   AIC                           1384.442\n",
      "Time:                        15:54:07   BIC                           1405.425\n",
      "Sample:                             1   HQIC                          1392.893\n",
      "                                                                              \n",
      "================================================================================\n",
      "                   coef    std err          z      P>|z|      [0.025      0.975]\n",
      "--------------------------------------------------------------------------------\n",
      "const            0.4178      0.294      1.423      0.156      -0.158       0.993\n",
      "ar.L1.D.Rate    -0.0701      1.031     -0.068      0.946      -2.091       1.951\n",
      "ar.L2.D.Rate     0.1205      0.327      0.369      0.713      -0.520       0.761\n",
      "ma.L1.D.Rate     0.2114      1.030      0.205      0.838      -1.808       2.230\n",
      "ma.L2.D.Rate    -0.1296      0.428     -0.302      0.763      -0.969       0.710\n",
      "                                    Roots                                    \n",
      "=============================================================================\n",
      "                  Real          Imaginary           Modulus         Frequency\n",
      "-----------------------------------------------------------------------------\n",
      "AR.1           -2.6049           +0.0000j            2.6049            0.5000\n",
      "AR.2            3.1864           +0.0000j            3.1864            0.0000\n",
      "MA.1           -2.0794           +0.0000j            2.0794            0.5000\n",
      "MA.2            3.7108           +0.0000j            3.7108            0.0000\n",
      "-----------------------------------------------------------------------------\n"
     ]
    }
   ],
   "source": [
    "model_6 = ARIMA(df_train, order=(2,1,2))\n",
    "model_6_fit = model_6.fit(trend='c',full_output=True, disp=1)\n",
    "print(model_6_fit.summary())"
   ]
  },
  {
   "cell_type": "code",
   "execution_count": 11,
   "metadata": {},
   "outputs": [
    {
     "name": "stderr",
     "output_type": "stream",
     "text": [
      "C:\\Users\\sm.woo\\Anaconda3\\lib\\site-packages\\statsmodels\\tsa\\base\\tsa_model.py:219: ValueWarning: A date index has been provided, but it has no associated frequency information and so will be ignored when e.g. forecasting.\n",
      "  ' ignored when e.g. forecasting.', ValueWarning)\n",
      "C:\\Users\\sm.woo\\Anaconda3\\lib\\site-packages\\statsmodels\\tsa\\base\\tsa_model.py:219: ValueWarning: A date index has been provided, but it has no associated frequency information and so will be ignored when e.g. forecasting.\n",
      "  ' ignored when e.g. forecasting.', ValueWarning)\n",
      "C:\\Users\\sm.woo\\Anaconda3\\lib\\site-packages\\statsmodels\\base\\model.py:492: HessianInversionWarning: Inverting hessian failed, no bse or cov_params available\n",
      "  'available', HessianInversionWarning)\n"
     ]
    },
    {
     "name": "stdout",
     "output_type": "stream",
     "text": [
      "                             ARIMA Model Results                              \n",
      "==============================================================================\n",
      "Dep. Variable:                 D.Rate   No. Observations:                  244\n",
      "Model:                 ARIMA(4, 1, 3)   Log Likelihood                -686.696\n",
      "Method:                       css-mle   S.D. of innovations              4.020\n",
      "Date:                Fri, 07 Feb 2020   AIC                           1389.393\n",
      "Time:                        15:54:12   BIC                           1417.370\n",
      "Sample:                             1   HQIC                          1400.660\n",
      "                                                                              \n",
      "================================================================================\n",
      "                   coef    std err          z      P>|z|      [0.025      0.975]\n",
      "--------------------------------------------------------------------------------\n",
      "ar.L1.D.Rate    -0.5841      0.295     -1.979      0.049      -1.163      -0.006\n",
      "ar.L2.D.Rate     0.3990      0.428      0.933      0.352      -0.439       1.237\n",
      "ar.L3.D.Rate     0.7565      0.252      3.005      0.003       0.263       1.250\n",
      "ar.L4.D.Rate    -0.1339      0.069     -1.935      0.054      -0.270       0.002\n",
      "ma.L1.D.Rate     0.7405      0.291      2.545      0.012       0.170       1.311\n",
      "ma.L2.D.Rate    -0.3178      0.458     -0.694      0.489      -1.216       0.580\n",
      "ma.L3.D.Rate    -0.8359      0.291     -2.872      0.004      -1.406      -0.265\n",
      "                                    Roots                                    \n",
      "=============================================================================\n",
      "                  Real          Imaginary           Modulus         Frequency\n",
      "-----------------------------------------------------------------------------\n",
      "AR.1           -0.7879           -0.6235j            1.0048           -0.3935\n",
      "AR.2           -0.7879           +0.6235j            1.0048            0.3935\n",
      "AR.3            1.2347           -0.0000j            1.2347           -0.0000\n",
      "AR.4            5.9907           -0.0000j            5.9907           -0.0000\n",
      "MA.1            1.1963           -0.0000j            1.1963           -0.0000\n",
      "MA.2           -0.7882           -0.6154j            1.0000           -0.3945\n",
      "MA.3           -0.7882           +0.6154j            1.0000            0.3945\n",
      "-----------------------------------------------------------------------------\n"
     ]
    }
   ],
   "source": [
    "model_9 = ARIMA(df_train, order=(4,1,3))\n",
    "model_9_fit = model_9.fit(trend='nc',full_output=True, disp=1)\n",
    "print(model_9_fit.summary())"
   ]
  },
  {
   "cell_type": "code",
   "execution_count": 12,
   "metadata": {},
   "outputs": [
    {
     "name": "stderr",
     "output_type": "stream",
     "text": [
      "C:\\Users\\sm.woo\\Anaconda3\\lib\\site-packages\\statsmodels\\tsa\\base\\tsa_model.py:219: ValueWarning: A date index has been provided, but it has no associated frequency information and so will be ignored when e.g. forecasting.\n",
      "  ' ignored when e.g. forecasting.', ValueWarning)\n",
      "C:\\Users\\sm.woo\\Anaconda3\\lib\\site-packages\\statsmodels\\tsa\\base\\tsa_model.py:219: ValueWarning: A date index has been provided, but it has no associated frequency information and so will be ignored when e.g. forecasting.\n",
      "  ' ignored when e.g. forecasting.', ValueWarning)\n",
      "C:\\Users\\sm.woo\\Anaconda3\\lib\\site-packages\\statsmodels\\base\\model.py:492: HessianInversionWarning: Inverting hessian failed, no bse or cov_params available\n",
      "  'available', HessianInversionWarning)\n"
     ]
    },
    {
     "name": "stdout",
     "output_type": "stream",
     "text": [
      "                             ARIMA Model Results                              \n",
      "==============================================================================\n",
      "Dep. Variable:                 D.Rate   No. Observations:                  244\n",
      "Model:                 ARIMA(4, 1, 3)   Log Likelihood                -684.649\n",
      "Method:                       css-mle   S.D. of innovations              3.973\n",
      "Date:                Fri, 07 Feb 2020   AIC                           1387.298\n",
      "Time:                        15:54:21   BIC                           1418.773\n",
      "Sample:                             1   HQIC                          1399.975\n",
      "                                                                              \n",
      "================================================================================\n",
      "                   coef    std err          z      P>|z|      [0.025      0.975]\n",
      "--------------------------------------------------------------------------------\n",
      "const            0.3873      0.095      4.071      0.000       0.201       0.574\n",
      "ar.L1.D.Rate    -0.4451      0.065     -6.866      0.000      -0.572      -0.318\n",
      "ar.L2.D.Rate     0.6074      0.045     13.607      0.000       0.520       0.695\n",
      "ar.L3.D.Rate     0.8809      0.043     20.619      0.000       0.797       0.965\n",
      "ar.L4.D.Rate    -0.1415      0.065     -2.183      0.030      -0.269      -0.014\n",
      "ma.L1.D.Rate     0.5766      0.024     23.556      0.000       0.529       0.625\n",
      "ma.L2.D.Rate    -0.5766      0.024    -24.108      0.000      -0.624      -0.530\n",
      "ma.L3.D.Rate    -1.0000      0.026    -38.663      0.000      -1.051      -0.949\n",
      "                                    Roots                                    \n",
      "=============================================================================\n",
      "                  Real          Imaginary           Modulus         Frequency\n",
      "-----------------------------------------------------------------------------\n",
      "AR.1           -0.7881           -0.6237j            1.0051           -0.3935\n",
      "AR.2           -0.7881           +0.6237j            1.0051            0.3935\n",
      "AR.3            1.0336           -0.0000j            1.0336           -0.0000\n",
      "AR.4            6.7691           -0.0000j            6.7691           -0.0000\n",
      "MA.1            1.0000           -0.0000j            1.0000           -0.0000\n",
      "MA.2           -0.7883           -0.6153j            1.0000           -0.3945\n",
      "MA.3           -0.7883           +0.6153j            1.0000            0.3945\n",
      "-----------------------------------------------------------------------------\n"
     ]
    }
   ],
   "source": [
    "model_10 = ARIMA(df_train, order=(4,1,3))\n",
    "model_10_fit = model_10.fit(trend='c',full_output=True, disp=1)\n",
    "print(model_10_fit.summary())"
   ]
  },
  {
   "cell_type": "code",
   "execution_count": 13,
   "metadata": {},
   "outputs": [
    {
     "name": "stderr",
     "output_type": "stream",
     "text": [
      "C:\\Users\\sm.woo\\Anaconda3\\lib\\site-packages\\statsmodels\\tsa\\base\\tsa_model.py:219: ValueWarning: A date index has been provided, but it has no associated frequency information and so will be ignored when e.g. forecasting.\n",
      "  ' ignored when e.g. forecasting.', ValueWarning)\n",
      "C:\\Users\\sm.woo\\Anaconda3\\lib\\site-packages\\statsmodels\\tsa\\base\\tsa_model.py:219: ValueWarning: A date index has been provided, but it has no associated frequency information and so will be ignored when e.g. forecasting.\n",
      "  ' ignored when e.g. forecasting.', ValueWarning)\n",
      "C:\\Users\\sm.woo\\Anaconda3\\lib\\site-packages\\statsmodels\\base\\model.py:492: HessianInversionWarning: Inverting hessian failed, no bse or cov_params available\n",
      "  'available', HessianInversionWarning)\n"
     ]
    },
    {
     "name": "stdout",
     "output_type": "stream",
     "text": [
      "                             ARIMA Model Results                              \n",
      "==============================================================================\n",
      "Dep. Variable:                 D.Rate   No. Observations:                  244\n",
      "Model:                 ARIMA(4, 1, 4)   Log Likelihood                -683.458\n",
      "Method:                       css-mle   S.D. of innovations              3.931\n",
      "Date:                Fri, 07 Feb 2020   AIC                           1384.917\n",
      "Time:                        15:54:36   BIC                           1416.391\n",
      "Sample:                             1   HQIC                          1397.593\n",
      "                                                                              \n",
      "================================================================================\n",
      "                   coef    std err          z      P>|z|      [0.025      0.975]\n",
      "--------------------------------------------------------------------------------\n",
      "ar.L1.D.Rate     0.0996      0.034      2.890      0.004       0.032       0.167\n",
      "ar.L2.D.Rate     1.2692      0.036     34.845      0.000       1.198       1.341\n",
      "ar.L3.D.Rate    -0.1104      0.035     -3.124      0.002      -0.180      -0.041\n",
      "ar.L4.D.Rate    -0.8838      0.034    -26.014      0.000      -0.950      -0.817\n",
      "ma.L1.D.Rate     0.0241        nan        nan        nan         nan         nan\n",
      "ma.L2.D.Rate    -1.3746        nan        nan        nan         nan         nan\n",
      "ma.L3.D.Rate     0.0241        nan        nan        nan         nan         nan\n",
      "ma.L4.D.Rate     1.0000        nan        nan        nan         nan         nan\n",
      "                                    Roots                                    \n",
      "=============================================================================\n",
      "                  Real          Imaginary           Modulus         Frequency\n",
      "-----------------------------------------------------------------------------\n",
      "AR.1            0.9137           -0.4073j            1.0003           -0.0667\n",
      "AR.2            0.9137           +0.4073j            1.0003            0.0667\n",
      "AR.3           -0.9761           -0.4218j            1.0633           -0.4351\n",
      "AR.4           -0.9761           +0.4218j            1.0633            0.4351\n",
      "MA.1            0.9125           -0.4091j            1.0000           -0.0671\n",
      "MA.2            0.9125           +0.4091j            1.0000            0.0671\n",
      "MA.3           -0.9245           -0.3811j            1.0000           -0.4378\n",
      "MA.4           -0.9245           +0.3811j            1.0000            0.4378\n",
      "-----------------------------------------------------------------------------\n"
     ]
    },
    {
     "name": "stderr",
     "output_type": "stream",
     "text": [
      "C:\\Users\\sm.woo\\Anaconda3\\lib\\site-packages\\statsmodels\\tsa\\arima_model.py:1441: RuntimeWarning: invalid value encountered in sqrt\n",
      "  return np.sqrt(np.diag(-inv(hess)))\n",
      "C:\\Users\\sm.woo\\Anaconda3\\lib\\site-packages\\scipy\\stats\\_distn_infrastructure.py:901: RuntimeWarning: invalid value encountered in greater\n",
      "  return (a < x) & (x < b)\n",
      "C:\\Users\\sm.woo\\Anaconda3\\lib\\site-packages\\scipy\\stats\\_distn_infrastructure.py:901: RuntimeWarning: invalid value encountered in less\n",
      "  return (a < x) & (x < b)\n",
      "C:\\Users\\sm.woo\\Anaconda3\\lib\\site-packages\\scipy\\stats\\_distn_infrastructure.py:1892: RuntimeWarning: invalid value encountered in less_equal\n",
      "  cond2 = cond0 & (x <= _a)\n"
     ]
    }
   ],
   "source": [
    "model_11 = ARIMA(df_train, order=(4,1,4))\n",
    "model_11_fit = model_11.fit(trend='nc',full_output=True, disp=1)\n",
    "print(model_11_fit.summary())"
   ]
  },
  {
   "cell_type": "code",
   "execution_count": 14,
   "metadata": {},
   "outputs": [
    {
     "name": "stderr",
     "output_type": "stream",
     "text": [
      "C:\\Users\\sm.woo\\Anaconda3\\lib\\site-packages\\statsmodels\\tsa\\base\\tsa_model.py:219: ValueWarning: A date index has been provided, but it has no associated frequency information and so will be ignored when e.g. forecasting.\n",
      "  ' ignored when e.g. forecasting.', ValueWarning)\n",
      "C:\\Users\\sm.woo\\Anaconda3\\lib\\site-packages\\statsmodels\\tsa\\base\\tsa_model.py:219: ValueWarning: A date index has been provided, but it has no associated frequency information and so will be ignored when e.g. forecasting.\n",
      "  ' ignored when e.g. forecasting.', ValueWarning)\n",
      "C:\\Users\\sm.woo\\Anaconda3\\lib\\site-packages\\statsmodels\\base\\model.py:492: HessianInversionWarning: Inverting hessian failed, no bse or cov_params available\n",
      "  'available', HessianInversionWarning)\n"
     ]
    },
    {
     "name": "stdout",
     "output_type": "stream",
     "text": [
      "                             ARIMA Model Results                              \n",
      "==============================================================================\n",
      "Dep. Variable:                 D.Rate   No. Observations:                  244\n",
      "Model:                 ARIMA(4, 1, 4)   Log Likelihood                -682.291\n",
      "Method:                       css-mle   S.D. of innovations              3.913\n",
      "Date:                Fri, 07 Feb 2020   AIC                           1384.582\n",
      "Time:                        15:54:50   BIC                           1419.553\n",
      "Sample:                             1   HQIC                          1398.666\n",
      "                                                                              \n",
      "================================================================================\n",
      "                   coef    std err          z      P>|z|      [0.025      0.975]\n",
      "--------------------------------------------------------------------------------\n",
      "const            0.4127      0.269      1.533      0.127      -0.115       0.940\n",
      "ar.L1.D.Rate     0.0991      0.036      2.784      0.006       0.029       0.169\n",
      "ar.L2.D.Rate     1.2709      0.037     34.336      0.000       1.198       1.343\n",
      "ar.L3.D.Rate    -0.1095      0.036     -3.004      0.003      -0.181      -0.038\n",
      "ar.L4.D.Rate    -0.8850      0.035    -25.122      0.000      -0.954      -0.816\n",
      "ma.L1.D.Rate     0.0233        nan        nan        nan         nan         nan\n",
      "ma.L2.D.Rate    -1.3758        nan        nan        nan         nan         nan\n",
      "ma.L3.D.Rate     0.0233        nan        nan        nan         nan         nan\n",
      "ma.L4.D.Rate     1.0000        nan        nan        nan         nan         nan\n",
      "                                    Roots                                    \n",
      "=============================================================================\n",
      "                  Real          Imaginary           Modulus         Frequency\n",
      "-----------------------------------------------------------------------------\n",
      "AR.1            0.9138           -0.4068j            1.0002           -0.0667\n",
      "AR.2            0.9138           +0.4068j            1.0002            0.0667\n",
      "AR.3           -0.9756           -0.4214j            1.0627           -0.4351\n",
      "AR.4           -0.9756           +0.4214j            1.0627            0.4351\n",
      "MA.1            0.9129           -0.4083j            1.0000           -0.0669\n",
      "MA.2            0.9129           +0.4083j            1.0000            0.0669\n",
      "MA.3           -0.9245           -0.3812j            1.0000           -0.4378\n",
      "MA.4           -0.9245           +0.3812j            1.0000            0.4378\n",
      "-----------------------------------------------------------------------------\n"
     ]
    }
   ],
   "source": [
    "model_12 = ARIMA(df_train, order=(4,1,4))\n",
    "model_12_fit = model_12.fit(trend='c',full_output=True, disp=1)\n",
    "print(model_12_fit.summary())"
   ]
  },
  {
   "cell_type": "code",
   "execution_count": 15,
   "metadata": {},
   "outputs": [
    {
     "name": "stderr",
     "output_type": "stream",
     "text": [
      "C:\\Users\\sm.woo\\Anaconda3\\lib\\site-packages\\statsmodels\\tsa\\base\\tsa_model.py:219: ValueWarning: A date index has been provided, but it has no associated frequency information and so will be ignored when e.g. forecasting.\n",
      "  ' ignored when e.g. forecasting.', ValueWarning)\n",
      "C:\\Users\\sm.woo\\Anaconda3\\lib\\site-packages\\statsmodels\\tsa\\base\\tsa_model.py:219: ValueWarning: A date index has been provided, but it has no associated frequency information and so will be ignored when e.g. forecasting.\n",
      "  ' ignored when e.g. forecasting.', ValueWarning)\n",
      "C:\\Users\\sm.woo\\Anaconda3\\lib\\site-packages\\statsmodels\\tsa\\tsatools.py:668: RuntimeWarning: invalid value encountered in true_divide\n",
      "  newparams = ((1-np.exp(-params))/(1+np.exp(-params))).copy()\n",
      "C:\\Users\\sm.woo\\Anaconda3\\lib\\site-packages\\statsmodels\\tsa\\tsatools.py:669: RuntimeWarning: invalid value encountered in true_divide\n",
      "  tmp = ((1-np.exp(-params))/(1+np.exp(-params))).copy()\n"
     ]
    },
    {
     "name": "stdout",
     "output_type": "stream",
     "text": [
      "                             ARIMA Model Results                              \n",
      "==============================================================================\n",
      "Dep. Variable:                 D.Rate   No. Observations:                  244\n",
      "Model:                 ARIMA(5, 1, 4)   Log Likelihood                -676.484\n",
      "Method:                       css-mle   S.D. of innovations              3.830\n",
      "Date:                Fri, 07 Feb 2020   AIC                           1374.968\n",
      "Time:                        15:54:57   BIC                           1413.437\n",
      "Sample:                             1   HQIC                          1390.461\n",
      "                                                                              \n",
      "================================================================================\n",
      "                   coef    std err          z      P>|z|      [0.025      0.975]\n",
      "--------------------------------------------------------------------------------\n",
      "const            0.4011      0.220      1.821      0.070      -0.031       0.833\n",
      "ar.L1.D.Rate     0.2353      0.100      2.351      0.020       0.039       0.431\n",
      "ar.L2.D.Rate     1.4308      0.119     12.051      0.000       1.198       1.663\n",
      "ar.L3.D.Rate    -0.2115      0.114     -1.861      0.064      -0.434       0.011\n",
      "ar.L4.D.Rate    -0.7425      0.117     -6.331      0.000      -0.972      -0.513\n",
      "ar.L5.D.Rate     0.0210      0.077      0.271      0.786      -0.131       0.173\n",
      "ma.L1.D.Rate    -0.1171      0.080     -1.472      0.142      -0.273       0.039\n",
      "ma.L2.D.Rate    -1.6058      0.081    -19.899      0.000      -1.764      -1.448\n",
      "ma.L3.D.Rate     0.0485      0.074      0.652      0.515      -0.097       0.195\n",
      "ma.L4.D.Rate     0.9144      0.078     11.798      0.000       0.763       1.066\n",
      "                                    Roots                                    \n",
      "=============================================================================\n",
      "                  Real          Imaginary           Modulus         Frequency\n",
      "-----------------------------------------------------------------------------\n",
      "AR.1            0.9752           -0.2855j            1.0161           -0.0453\n",
      "AR.2            0.9752           +0.2855j            1.0161            0.0453\n",
      "AR.3           -1.0898           -0.3293j            1.1384           -0.4533\n",
      "AR.4           -1.0898           +0.3293j            1.1384            0.4533\n",
      "AR.5           35.6352           -0.0000j           35.6352           -0.0000\n",
      "MA.1            0.9679           -0.2515j            1.0000           -0.0405\n",
      "MA.2            0.9679           +0.2515j            1.0000            0.0405\n",
      "MA.3           -0.9944           -0.3237j            1.0458           -0.4499\n",
      "MA.4           -0.9944           +0.3237j            1.0458            0.4499\n",
      "-----------------------------------------------------------------------------\n"
     ]
    }
   ],
   "source": [
    "model_13 = ARIMA(df_train, order=(5,1,4))\n",
    "model_13_fit = model_13.fit(trend='c',full_output=True, disp=1)\n",
    "print(model_13_fit.summary())"
   ]
  },
  {
   "cell_type": "code",
   "execution_count": 16,
   "metadata": {},
   "outputs": [
    {
     "name": "stderr",
     "output_type": "stream",
     "text": [
      "C:\\Users\\sm.woo\\Anaconda3\\lib\\site-packages\\statsmodels\\tsa\\base\\tsa_model.py:219: ValueWarning: A date index has been provided, but it has no associated frequency information and so will be ignored when e.g. forecasting.\n",
      "  ' ignored when e.g. forecasting.', ValueWarning)\n",
      "C:\\Users\\sm.woo\\Anaconda3\\lib\\site-packages\\statsmodels\\tsa\\base\\tsa_model.py:219: ValueWarning: A date index has been provided, but it has no associated frequency information and so will be ignored when e.g. forecasting.\n",
      "  ' ignored when e.g. forecasting.', ValueWarning)\n",
      "C:\\Users\\sm.woo\\Anaconda3\\lib\\site-packages\\statsmodels\\base\\model.py:492: HessianInversionWarning: Inverting hessian failed, no bse or cov_params available\n",
      "  'available', HessianInversionWarning)\n"
     ]
    },
    {
     "name": "stdout",
     "output_type": "stream",
     "text": [
      "                             ARIMA Model Results                              \n",
      "==============================================================================\n",
      "Dep. Variable:                 D.Rate   No. Observations:                  244\n",
      "Model:                 ARIMA(5, 1, 4)   Log Likelihood                -685.503\n",
      "Method:                       css-mle   S.D. of innovations              3.980\n",
      "Date:                Fri, 07 Feb 2020   AIC                           1391.007\n",
      "Time:                        15:55:16   BIC                           1425.979\n",
      "Sample:                             1   HQIC                          1405.091\n",
      "                                                                              \n",
      "================================================================================\n",
      "                   coef    std err          z      P>|z|      [0.025      0.975]\n",
      "--------------------------------------------------------------------------------\n",
      "ar.L1.D.Rate     0.4414      0.051      8.614      0.000       0.341       0.542\n",
      "ar.L2.D.Rate     0.7403      0.030     24.551      0.000       0.681       0.799\n",
      "ar.L3.D.Rate     0.1885      0.045      4.205      0.000       0.101       0.276\n",
      "ar.L4.D.Rate    -1.0290      0.020    -50.251      0.000      -1.069      -0.989\n",
      "ar.L5.D.Rate     0.1314      0.049      2.707      0.007       0.036       0.227\n",
      "ma.L1.D.Rate    -0.2877        nan        nan        nan         nan         nan\n",
      "ma.L2.D.Rate    -0.8071      0.020    -40.438      0.000      -0.846      -0.768\n",
      "ma.L3.D.Rate    -0.2877        nan        nan        nan         nan         nan\n",
      "ma.L4.D.Rate     1.0000        nan        nan        nan         nan         nan\n",
      "                                    Roots                                    \n",
      "=============================================================================\n",
      "                  Real          Imaginary           Modulus         Frequency\n",
      "-----------------------------------------------------------------------------\n",
      "AR.1           -0.7660           -0.6502j            1.0047           -0.3880\n",
      "AR.2           -0.7660           +0.6502j            1.0047            0.3880\n",
      "AR.3            0.9135           -0.4074j            1.0002           -0.0668\n",
      "AR.4            0.9135           +0.4074j            1.0002            0.0668\n",
      "AR.5            7.5339           -0.0000j            7.5339           -0.0000\n",
      "MA.1           -0.7689           -0.6394j            1.0000           -0.3896\n",
      "MA.2           -0.7689           +0.6394j            1.0000            0.3896\n",
      "MA.3            0.9127           -0.4086j            1.0000           -0.0670\n",
      "MA.4            0.9127           +0.4086j            1.0000            0.0670\n",
      "-----------------------------------------------------------------------------\n"
     ]
    }
   ],
   "source": [
    "model_14 = ARIMA(df_train, order=(5,1,4))\n",
    "model_14_fit = model_14.fit(trend='nc',full_output=True, disp=1)\n",
    "print(model_14_fit.summary())"
   ]
  },
  {
   "cell_type": "code",
   "execution_count": 17,
   "metadata": {},
   "outputs": [
    {
     "name": "stderr",
     "output_type": "stream",
     "text": [
      "C:\\Users\\sm.woo\\Anaconda3\\lib\\site-packages\\statsmodels\\tsa\\base\\tsa_model.py:219: ValueWarning: A date index has been provided, but it has no associated frequency information and so will be ignored when e.g. forecasting.\n",
      "  ' ignored when e.g. forecasting.', ValueWarning)\n",
      "C:\\Users\\sm.woo\\Anaconda3\\lib\\site-packages\\statsmodels\\tsa\\base\\tsa_model.py:219: ValueWarning: A date index has been provided, but it has no associated frequency information and so will be ignored when e.g. forecasting.\n",
      "  ' ignored when e.g. forecasting.', ValueWarning)\n",
      "C:\\Users\\sm.woo\\Anaconda3\\lib\\site-packages\\statsmodels\\base\\model.py:492: HessianInversionWarning: Inverting hessian failed, no bse or cov_params available\n",
      "  'available', HessianInversionWarning)\n"
     ]
    },
    {
     "name": "stdout",
     "output_type": "stream",
     "text": [
      "                             ARIMA Model Results                              \n",
      "==============================================================================\n",
      "Dep. Variable:                 D.Rate   No. Observations:                  244\n",
      "Model:                 ARIMA(5, 1, 3)   Log Likelihood                -685.363\n",
      "Method:                       css-mle   S.D. of innovations              4.013\n",
      "Date:                Fri, 07 Feb 2020   AIC                           1388.726\n",
      "Time:                        15:55:22   BIC                           1420.200\n",
      "Sample:                             1   HQIC                          1401.402\n",
      "                                                                              \n",
      "================================================================================\n",
      "                   coef    std err          z      P>|z|      [0.025      0.975]\n",
      "--------------------------------------------------------------------------------\n",
      "ar.L1.D.Rate    -0.0583        nan        nan        nan         nan         nan\n",
      "ar.L2.D.Rate     0.6933      0.193      3.593      0.000       0.315       1.072\n",
      "ar.L3.D.Rate    -0.0846        nan        nan        nan         nan         nan\n",
      "ar.L4.D.Rate     0.0112        nan        nan        nan         nan         nan\n",
      "ar.L5.D.Rate    -0.1190      0.066     -1.813      0.071      -0.248       0.010\n",
      "ma.L1.D.Rate     0.2034        nan        nan        nan         nan         nan\n",
      "ma.L2.D.Rate    -0.6955      0.192     -3.631      0.000      -1.071      -0.320\n",
      "ma.L3.D.Rate     0.0429        nan        nan        nan         nan         nan\n",
      "                                    Roots                                    \n",
      "=============================================================================\n",
      "                  Real          Imaginary           Modulus         Frequency\n",
      "-----------------------------------------------------------------------------\n",
      "AR.1           -1.0142           -0.0000j            1.0142           -0.5000\n",
      "AR.2            1.3463           -0.4799j            1.4292           -0.0545\n",
      "AR.3            1.3463           +0.4799j            1.4292            0.0545\n",
      "AR.4           -0.7919           -1.8520j            2.0142           -0.3143\n",
      "AR.5           -0.7919           +1.8520j            2.0142            0.3143\n",
      "MA.1           -1.0332           +0.0000j            1.0332            0.5000\n",
      "MA.2            1.4261           +0.0000j            1.4261            0.0000\n",
      "MA.3           15.8211           +0.0000j           15.8211            0.0000\n",
      "-----------------------------------------------------------------------------\n"
     ]
    }
   ],
   "source": [
    "model_15 = ARIMA(df_train, order=(5,1,3))\n",
    "model_15_fit = model_15.fit(trend='nc',full_output=True, disp=1)\n",
    "print(model_15_fit.summary())"
   ]
  },
  {
   "cell_type": "code",
   "execution_count": 18,
   "metadata": {},
   "outputs": [
    {
     "name": "stderr",
     "output_type": "stream",
     "text": [
      "C:\\Users\\sm.woo\\Anaconda3\\lib\\site-packages\\statsmodels\\tsa\\base\\tsa_model.py:219: ValueWarning: A date index has been provided, but it has no associated frequency information and so will be ignored when e.g. forecasting.\n",
      "  ' ignored when e.g. forecasting.', ValueWarning)\n",
      "C:\\Users\\sm.woo\\Anaconda3\\lib\\site-packages\\statsmodels\\tsa\\base\\tsa_model.py:219: ValueWarning: A date index has been provided, but it has no associated frequency information and so will be ignored when e.g. forecasting.\n",
      "  ' ignored when e.g. forecasting.', ValueWarning)\n",
      "C:\\Users\\sm.woo\\Anaconda3\\lib\\site-packages\\statsmodels\\base\\model.py:492: HessianInversionWarning: Inverting hessian failed, no bse or cov_params available\n",
      "  'available', HessianInversionWarning)\n"
     ]
    },
    {
     "name": "stdout",
     "output_type": "stream",
     "text": [
      "                             ARIMA Model Results                              \n",
      "==============================================================================\n",
      "Dep. Variable:                 D.Rate   No. Observations:                  244\n",
      "Model:                 ARIMA(5, 1, 3)   Log Likelihood                -680.530\n",
      "Method:                       css-mle   S.D. of innovations              3.899\n",
      "Date:                Fri, 07 Feb 2020   AIC                           1381.060\n",
      "Time:                        15:55:33   BIC                           1416.032\n",
      "Sample:                             1   HQIC                          1395.145\n",
      "                                                                              \n",
      "================================================================================\n",
      "                   coef    std err          z      P>|z|      [0.025      0.975]\n",
      "--------------------------------------------------------------------------------\n",
      "const            0.3999      0.232      1.726      0.086      -0.054       0.854\n",
      "ar.L1.D.Rate     1.0510      0.070     15.042      0.000       0.914       1.188\n",
      "ar.L2.D.Rate     0.7434      0.107      6.951      0.000       0.534       0.953\n",
      "ar.L3.D.Rate    -1.0727      0.083    -12.952      0.000      -1.235      -0.910\n",
      "ar.L4.D.Rate     0.1732      0.095      1.829      0.069      -0.012       0.359\n",
      "ar.L5.D.Rate    -0.0137      0.069     -0.198      0.843      -0.149       0.121\n",
      "ma.L1.D.Rate    -0.9684      0.034    -28.852      0.000      -1.034      -0.903\n",
      "ma.L2.D.Rate    -0.8970      0.055    -16.279      0.000      -1.005      -0.789\n",
      "ma.L3.D.Rate     0.9758      0.033     29.591      0.000       0.911       1.040\n",
      "                                    Roots                                    \n",
      "=============================================================================\n",
      "                  Real          Imaginary           Modulus         Frequency\n",
      "-----------------------------------------------------------------------------\n",
      "AR.1           -1.0107           -0.0000j            1.0107           -0.5000\n",
      "AR.2            0.9947           -0.2745j            1.0319           -0.0429\n",
      "AR.3            0.9947           +0.2745j            1.0319            0.0429\n",
      "AR.4            5.8463           -5.8135j            8.2448           -0.1246\n",
      "AR.5            5.8463           +5.8135j            8.2448            0.1246\n",
      "MA.1           -1.0248           -0.0000j            1.0248           -0.5000\n",
      "MA.2            0.9721           -0.2347j            1.0000           -0.0377\n",
      "MA.3            0.9721           +0.2347j            1.0000            0.0377\n",
      "-----------------------------------------------------------------------------\n"
     ]
    }
   ],
   "source": [
    "model_16 = ARIMA(df_train, order=(5,1,3))\n",
    "model_16_fit = model_16.fit(trend='c',full_output=True, disp=1)\n",
    "print(model_16_fit.summary())"
   ]
  },
  {
   "cell_type": "code",
   "execution_count": 19,
   "metadata": {},
   "outputs": [
    {
     "name": "stderr",
     "output_type": "stream",
     "text": [
      "C:\\Users\\sm.woo\\Anaconda3\\lib\\site-packages\\statsmodels\\tsa\\base\\tsa_model.py:219: ValueWarning: A date index has been provided, but it has no associated frequency information and so will be ignored when e.g. forecasting.\n",
      "  ' ignored when e.g. forecasting.', ValueWarning)\n",
      "C:\\Users\\sm.woo\\Anaconda3\\lib\\site-packages\\statsmodels\\tsa\\base\\tsa_model.py:219: ValueWarning: A date index has been provided, but it has no associated frequency information and so will be ignored when e.g. forecasting.\n",
      "  ' ignored when e.g. forecasting.', ValueWarning)\n"
     ]
    },
    {
     "name": "stdout",
     "output_type": "stream",
     "text": [
      "                             ARIMA Model Results                              \n",
      "==============================================================================\n",
      "Dep. Variable:                 D.Rate   No. Observations:                  244\n",
      "Model:                 ARIMA(5, 1, 2)   Log Likelihood                -683.803\n",
      "Method:                       css-mle   S.D. of innovations              3.988\n",
      "Date:                Fri, 07 Feb 2020   AIC                           1385.606\n",
      "Time:                        15:55:38   BIC                           1417.080\n",
      "Sample:                             1   HQIC                          1398.282\n",
      "                                                                              \n",
      "================================================================================\n",
      "                   coef    std err          z      P>|z|      [0.025      0.975]\n",
      "--------------------------------------------------------------------------------\n",
      "const            0.4089      0.231      1.769      0.078      -0.044       0.862\n",
      "ar.L1.D.Rate    -0.0348      0.234     -0.149      0.882      -0.493       0.423\n",
      "ar.L2.D.Rate     0.6347      0.206      3.076      0.002       0.230       1.039\n",
      "ar.L3.D.Rate    -0.0542      0.080     -0.677      0.499      -0.211       0.103\n",
      "ar.L4.D.Rate     0.0094      0.067      0.140      0.889      -0.122       0.140\n",
      "ar.L5.D.Rate    -0.1320      0.066     -2.009      0.046      -0.261      -0.003\n",
      "ma.L1.D.Rate     0.1740      0.231      0.755      0.451      -0.278       0.626\n",
      "ma.L2.D.Rate    -0.6547      0.220     -2.971      0.003      -1.087      -0.223\n",
      "                                    Roots                                    \n",
      "=============================================================================\n",
      "                  Real          Imaginary           Modulus         Frequency\n",
      "-----------------------------------------------------------------------------\n",
      "AR.1           -1.0587           -0.0000j            1.0587           -0.5000\n",
      "AR.2            1.3194           -0.4953j            1.4093           -0.0572\n",
      "AR.3            1.3194           +0.4953j            1.4093            0.0572\n",
      "AR.4           -0.7545           -1.7415j            1.8979           -0.3151\n",
      "AR.5           -0.7545           +1.7415j            1.8979            0.3151\n",
      "MA.1           -1.1102           +0.0000j            1.1102            0.5000\n",
      "MA.2            1.3759           +0.0000j            1.3759            0.0000\n",
      "-----------------------------------------------------------------------------\n"
     ]
    }
   ],
   "source": [
    "model_17 = ARIMA(df_train, order=(5,1,2))\n",
    "model_17_fit = model_17.fit(trend='c',full_output=True, disp=1)\n",
    "print(model_17_fit.summary())"
   ]
  },
  {
   "cell_type": "code",
   "execution_count": 20,
   "metadata": {},
   "outputs": [
    {
     "name": "stderr",
     "output_type": "stream",
     "text": [
      "C:\\Users\\sm.woo\\Anaconda3\\lib\\site-packages\\statsmodels\\tsa\\base\\tsa_model.py:219: ValueWarning: A date index has been provided, but it has no associated frequency information and so will be ignored when e.g. forecasting.\n",
      "  ' ignored when e.g. forecasting.', ValueWarning)\n",
      "C:\\Users\\sm.woo\\Anaconda3\\lib\\site-packages\\statsmodels\\tsa\\base\\tsa_model.py:219: ValueWarning: A date index has been provided, but it has no associated frequency information and so will be ignored when e.g. forecasting.\n",
      "  ' ignored when e.g. forecasting.', ValueWarning)\n"
     ]
    },
    {
     "name": "stdout",
     "output_type": "stream",
     "text": [
      "                             ARIMA Model Results                              \n",
      "==============================================================================\n",
      "Dep. Variable:                 D.Rate   No. Observations:                  244\n",
      "Model:                 ARIMA(5, 1, 2)   Log Likelihood                -685.210\n",
      "Method:                       css-mle   S.D. of innovations              4.011\n",
      "Date:                Fri, 07 Feb 2020   AIC                           1386.419\n",
      "Time:                        15:55:46   BIC                           1414.396\n",
      "Sample:                             1   HQIC                          1397.687\n",
      "                                                                              \n",
      "================================================================================\n",
      "                   coef    std err          z      P>|z|      [0.025      0.975]\n",
      "--------------------------------------------------------------------------------\n",
      "ar.L1.D.Rate    -0.0985      0.311     -0.317      0.752      -0.708       0.511\n",
      "ar.L2.D.Rate     0.5867      0.260      2.261      0.025       0.078       1.095\n",
      "ar.L3.D.Rate    -0.0420      0.083     -0.506      0.613      -0.205       0.121\n",
      "ar.L4.D.Rate     0.0138      0.066      0.210      0.834      -0.115       0.143\n",
      "ar.L5.D.Rate    -0.1259      0.065     -1.940      0.054      -0.253       0.001\n",
      "ma.L1.D.Rate     0.2491      0.310      0.805      0.422      -0.358       0.856\n",
      "ma.L2.D.Rate    -0.5840      0.293     -1.996      0.047      -1.158      -0.011\n",
      "                                    Roots                                    \n",
      "=============================================================================\n",
      "                  Real          Imaginary           Modulus         Frequency\n",
      "-----------------------------------------------------------------------------\n",
      "AR.1           -1.0602           -0.0000j            1.0602           -0.5000\n",
      "AR.2            1.3446           -0.5519j            1.4534           -0.0620\n",
      "AR.3            1.3446           +0.5519j            1.4534            0.0620\n",
      "AR.4           -0.7596           -1.7234j            1.8834           -0.3161\n",
      "AR.5           -0.7596           +1.7234j            1.8834            0.3161\n",
      "MA.1           -1.1125           +0.0000j            1.1125            0.5000\n",
      "MA.2            1.5391           +0.0000j            1.5391            0.0000\n",
      "-----------------------------------------------------------------------------\n"
     ]
    }
   ],
   "source": [
    "model_18 = ARIMA(df_train, order=(5,1,2))\n",
    "model_18_fit = model_18.fit(trend='nc',full_output=True, disp=1)\n",
    "print(model_18_fit.summary())"
   ]
  },
  {
   "cell_type": "code",
   "execution_count": 21,
   "metadata": {},
   "outputs": [
    {
     "name": "stderr",
     "output_type": "stream",
     "text": [
      "C:\\Users\\sm.woo\\Anaconda3\\lib\\site-packages\\statsmodels\\tsa\\base\\tsa_model.py:219: ValueWarning: A date index has been provided, but it has no associated frequency information and so will be ignored when e.g. forecasting.\n",
      "  ' ignored when e.g. forecasting.', ValueWarning)\n",
      "C:\\Users\\sm.woo\\Anaconda3\\lib\\site-packages\\statsmodels\\tsa\\base\\tsa_model.py:219: ValueWarning: A date index has been provided, but it has no associated frequency information and so will be ignored when e.g. forecasting.\n",
      "  ' ignored when e.g. forecasting.', ValueWarning)\n"
     ]
    },
    {
     "name": "stdout",
     "output_type": "stream",
     "text": [
      "                             ARIMA Model Results                              \n",
      "==============================================================================\n",
      "Dep. Variable:                 D.Rate   No. Observations:                  244\n",
      "Model:                 ARIMA(5, 1, 1)   Log Likelihood                -686.388\n",
      "Method:                       css-mle   S.D. of innovations              4.031\n",
      "Date:                Fri, 07 Feb 2020   AIC                           1386.777\n",
      "Time:                        15:55:52   BIC                           1411.257\n",
      "Sample:                             1   HQIC                          1396.636\n",
      "                                                                              \n",
      "================================================================================\n",
      "                   coef    std err          z      P>|z|      [0.025      0.975]\n",
      "--------------------------------------------------------------------------------\n",
      "ar.L1.D.Rate     0.8237      0.297      2.777      0.006       0.242       1.405\n",
      "ar.L2.D.Rate    -0.1270      0.093     -1.358      0.176      -0.310       0.056\n",
      "ar.L3.D.Rate     0.0729      0.083      0.873      0.383      -0.091       0.236\n",
      "ar.L4.D.Rate    -0.0772      0.085     -0.906      0.366      -0.244       0.090\n",
      "ar.L5.D.Rate    -0.0154      0.071     -0.215      0.830      -0.155       0.124\n",
      "ma.L1.D.Rate    -0.6803      0.290     -2.346      0.020      -1.249      -0.112\n",
      "                                    Roots                                    \n",
      "=============================================================================\n",
      "                  Real          Imaginary           Modulus         Frequency\n",
      "-----------------------------------------------------------------------------\n",
      "AR.1            1.3629           -0.5092j            1.4549           -0.0569\n",
      "AR.2            1.3629           +0.5092j            1.4549            0.0569\n",
      "AR.3           -0.7475           -2.0873j            2.2171           -0.3047\n",
      "AR.4           -0.7475           +2.0873j            2.2171            0.3047\n",
      "AR.5           -6.2561           -0.0000j            6.2561           -0.5000\n",
      "MA.1            1.4700           +0.0000j            1.4700            0.0000\n",
      "-----------------------------------------------------------------------------\n"
     ]
    }
   ],
   "source": [
    "model_19 = ARIMA(df_train, order=(5,1,1))\n",
    "model_19_fit = model_19.fit(trend='nc',full_output=True, disp=1)\n",
    "print(model_19_fit.summary())"
   ]
  },
  {
   "cell_type": "code",
   "execution_count": 22,
   "metadata": {},
   "outputs": [
    {
     "name": "stderr",
     "output_type": "stream",
     "text": [
      "C:\\Users\\sm.woo\\Anaconda3\\lib\\site-packages\\statsmodels\\tsa\\base\\tsa_model.py:219: ValueWarning: A date index has been provided, but it has no associated frequency information and so will be ignored when e.g. forecasting.\n",
      "  ' ignored when e.g. forecasting.', ValueWarning)\n",
      "C:\\Users\\sm.woo\\Anaconda3\\lib\\site-packages\\statsmodels\\tsa\\base\\tsa_model.py:219: ValueWarning: A date index has been provided, but it has no associated frequency information and so will be ignored when e.g. forecasting.\n",
      "  ' ignored when e.g. forecasting.', ValueWarning)\n"
     ]
    },
    {
     "name": "stdout",
     "output_type": "stream",
     "text": [
      "                             ARIMA Model Results                              \n",
      "==============================================================================\n",
      "Dep. Variable:                 D.Rate   No. Observations:                  244\n",
      "Model:                 ARIMA(5, 1, 1)   Log Likelihood                -684.982\n",
      "Method:                       css-mle   S.D. of innovations              4.008\n",
      "Date:                Fri, 07 Feb 2020   AIC                           1385.964\n",
      "Time:                        15:55:57   BIC                           1413.942\n",
      "Sample:                             1   HQIC                          1397.232\n",
      "                                                                              \n",
      "================================================================================\n",
      "                   coef    std err          z      P>|z|      [0.025      0.975]\n",
      "--------------------------------------------------------------------------------\n",
      "const            0.4074      0.230      1.770      0.078      -0.044       0.859\n",
      "ar.L1.D.Rate     0.8759      0.238      3.686      0.000       0.410       1.342\n",
      "ar.L2.D.Rate    -0.1370      0.091     -1.506      0.133      -0.315       0.041\n",
      "ar.L3.D.Rate     0.0718      0.086      0.838      0.403      -0.096       0.240\n",
      "ar.L4.D.Rate    -0.0810      0.086     -0.937      0.350      -0.251       0.088\n",
      "ar.L5.D.Rate    -0.0171      0.073     -0.235      0.814      -0.159       0.125\n",
      "ma.L1.D.Rate    -0.7438      0.229     -3.243      0.001      -1.193      -0.294\n",
      "                                    Roots                                    \n",
      "=============================================================================\n",
      "                  Real          Imaginary           Modulus         Frequency\n",
      "-----------------------------------------------------------------------------\n",
      "AR.1            1.3328           -0.4659j            1.4119           -0.0535\n",
      "AR.2            1.3328           +0.4659j            1.4119            0.0535\n",
      "AR.3           -0.7238           -2.0984j            2.2198           -0.3029\n",
      "AR.4           -0.7238           +2.0984j            2.2198            0.3029\n",
      "AR.5           -5.9698           -0.0000j            5.9698           -0.5000\n",
      "MA.1            1.3445           +0.0000j            1.3445            0.0000\n",
      "-----------------------------------------------------------------------------\n"
     ]
    }
   ],
   "source": [
    "model_20 = ARIMA(df_train, order=(5,1,1))\n",
    "model_20_fit = model_20.fit(trend='c',full_output=True, disp=1)\n",
    "print(model_20_fit.summary())"
   ]
  },
  {
   "cell_type": "code",
   "execution_count": 23,
   "metadata": {},
   "outputs": [
    {
     "name": "stderr",
     "output_type": "stream",
     "text": [
      "C:\\Users\\sm.woo\\Anaconda3\\lib\\site-packages\\statsmodels\\tsa\\base\\tsa_model.py:219: ValueWarning: A date index has been provided, but it has no associated frequency information and so will be ignored when e.g. forecasting.\n",
      "  ' ignored when e.g. forecasting.', ValueWarning)\n",
      "C:\\Users\\sm.woo\\Anaconda3\\lib\\site-packages\\statsmodels\\tsa\\base\\tsa_model.py:219: ValueWarning: A date index has been provided, but it has no associated frequency information and so will be ignored when e.g. forecasting.\n",
      "  ' ignored when e.g. forecasting.', ValueWarning)\n",
      "C:\\Users\\sm.woo\\Anaconda3\\lib\\site-packages\\statsmodels\\base\\model.py:492: HessianInversionWarning: Inverting hessian failed, no bse or cov_params available\n",
      "  'available', HessianInversionWarning)\n"
     ]
    },
    {
     "name": "stdout",
     "output_type": "stream",
     "text": [
      "                             ARIMA Model Results                              \n",
      "==============================================================================\n",
      "Dep. Variable:                 D.Rate   No. Observations:                  244\n",
      "Model:                 ARIMA(5, 1, 5)   Log Likelihood                -676.865\n",
      "Method:                       css-mle   S.D. of innovations              3.805\n",
      "Date:                Fri, 07 Feb 2020   AIC                           1375.730\n",
      "Time:                        15:56:14   BIC                           1414.198\n",
      "Sample:                             1   HQIC                          1391.223\n",
      "                                                                              \n",
      "================================================================================\n",
      "                   coef    std err          z      P>|z|      [0.025      0.975]\n",
      "--------------------------------------------------------------------------------\n",
      "ar.L1.D.Rate     0.9599      0.171      5.613      0.000       0.625       1.295\n",
      "ar.L2.D.Rate     1.2177      0.055     22.145      0.000       1.110       1.325\n",
      "ar.L3.D.Rate    -0.9677      0.231     -4.198      0.000      -1.420      -0.516\n",
      "ar.L4.D.Rate    -0.9827      0.052    -18.797      0.000      -1.085      -0.880\n",
      "ar.L5.D.Rate     0.7273      0.145      5.019      0.000       0.443       1.011\n",
      "ma.L1.D.Rate    -0.8499      0.200     -4.254      0.000      -1.242      -0.458\n",
      "ma.L2.D.Rate    -1.4092      0.046    -30.941      0.000      -1.498      -1.320\n",
      "ma.L3.D.Rate     0.9260      0.305      3.040      0.003       0.329       1.523\n",
      "ma.L4.D.Rate     1.1007      0.048     22.897      0.000       1.007       1.195\n",
      "ma.L5.D.Rate    -0.7076      0.202     -3.511      0.001      -1.103      -0.313\n",
      "                                    Roots                                    \n",
      "=============================================================================\n",
      "                  Real          Imaginary           Modulus         Frequency\n",
      "-----------------------------------------------------------------------------\n",
      "AR.1           -0.9187           -0.4708j            1.0324           -0.4246\n",
      "AR.2           -0.9187           +0.4708j            1.0324            0.4246\n",
      "AR.3            1.0005           -0.2921j            1.0423           -0.0452\n",
      "AR.4            1.0005           +0.2921j            1.0423            0.0452\n",
      "AR.5            1.1875           -0.0000j            1.1875           -0.0000\n",
      "MA.1           -0.9018           -0.4321j            1.0000           -0.4289\n",
      "MA.2           -0.9018           +0.4321j            1.0000            0.4289\n",
      "MA.3            0.9730           -0.2308j            1.0000           -0.0371\n",
      "MA.4            0.9730           +0.2308j            1.0000            0.0371\n",
      "MA.5            1.4133           -0.0000j            1.4133           -0.0000\n",
      "-----------------------------------------------------------------------------\n"
     ]
    }
   ],
   "source": [
    "model_21 = ARIMA(df_train, order=(5,1,5))\n",
    "model_21_fit = model_21.fit(trend='nc',full_output=True, disp=1)\n",
    "print(model_21_fit.summary())"
   ]
  },
  {
   "cell_type": "code",
   "execution_count": 24,
   "metadata": {},
   "outputs": [
    {
     "name": "stderr",
     "output_type": "stream",
     "text": [
      "C:\\Users\\sm.woo\\Anaconda3\\lib\\site-packages\\statsmodels\\tsa\\base\\tsa_model.py:219: ValueWarning: A date index has been provided, but it has no associated frequency information and so will be ignored when e.g. forecasting.\n",
      "  ' ignored when e.g. forecasting.', ValueWarning)\n",
      "C:\\Users\\sm.woo\\Anaconda3\\lib\\site-packages\\statsmodels\\tsa\\base\\tsa_model.py:219: ValueWarning: A date index has been provided, but it has no associated frequency information and so will be ignored when e.g. forecasting.\n",
      "  ' ignored when e.g. forecasting.', ValueWarning)\n"
     ]
    },
    {
     "name": "stdout",
     "output_type": "stream",
     "text": [
      "                             ARIMA Model Results                              \n",
      "==============================================================================\n",
      "Dep. Variable:                 D.Rate   No. Observations:                  244\n",
      "Model:                 ARIMA(5, 1, 5)   Log Likelihood                -680.198\n",
      "Method:                       css-mle   S.D. of innovations              3.887\n",
      "Date:                Fri, 07 Feb 2020   AIC                           1384.395\n",
      "Time:                        15:56:24   BIC                           1426.361\n",
      "Sample:                             1   HQIC                          1401.297\n",
      "                                                                              \n",
      "================================================================================\n",
      "                   coef    std err          z      P>|z|      [0.025      0.975]\n",
      "--------------------------------------------------------------------------------\n",
      "const            0.3879      0.107      3.625      0.000       0.178       0.598\n",
      "ar.L1.D.Rate     0.8831      0.285      3.093      0.002       0.324       1.443\n",
      "ar.L2.D.Rate     1.1869      0.081     14.691      0.000       1.029       1.345\n",
      "ar.L3.D.Rate    -0.8778      0.373     -2.351      0.020      -1.609      -0.146\n",
      "ar.L4.D.Rate    -0.9131      0.112     -8.134      0.000      -1.133      -0.693\n",
      "ar.L5.D.Rate     0.7100      0.202      3.522      0.001       0.315       1.105\n",
      "ma.L1.D.Rate    -0.7380      0.321     -2.296      0.023      -1.368      -0.108\n",
      "ma.L2.D.Rate    -1.3623      0.085    -16.018      0.000      -1.529      -1.196\n",
      "ma.L3.D.Rate     0.7861      0.457      1.720      0.087      -0.110       1.682\n",
      "ma.L4.D.Rate     0.9948      0.146      6.794      0.000       0.708       1.282\n",
      "ma.L5.D.Rate    -0.6805      0.253     -2.691      0.008      -1.176      -0.185\n",
      "                                    Roots                                    \n",
      "=============================================================================\n",
      "                  Real          Imaginary           Modulus         Frequency\n",
      "-----------------------------------------------------------------------------\n",
      "AR.1           -0.9192           -0.4711j            1.0329           -0.4246\n",
      "AR.2           -0.9192           +0.4711j            1.0329            0.4246\n",
      "AR.3            1.0205           -0.0000j            1.0205           -0.0000\n",
      "AR.4            1.0520           -0.4325j            1.1374           -0.0621\n",
      "AR.5            1.0520           +0.4325j            1.1374            0.0621\n",
      "MA.1           -0.9019           -0.4320j            1.0000           -0.4289\n",
      "MA.2           -0.9019           +0.4320j            1.0000            0.4289\n",
      "MA.3            1.0000           -0.0000j            1.0000           -0.0000\n",
      "MA.4            1.1328           -0.4316j            1.2122           -0.0579\n",
      "MA.5            1.1328           +0.4316j            1.2122            0.0579\n",
      "-----------------------------------------------------------------------------\n"
     ]
    }
   ],
   "source": [
    "model_22 = ARIMA(df_train, order=(5,1,5))\n",
    "model_22_fit = model_22.fit(trend='c',full_output=True, disp=1)\n",
    "print(model_22_fit.summary())"
   ]
  },
  {
   "cell_type": "code",
   "execution_count": 25,
   "metadata": {},
   "outputs": [
    {
     "name": "stderr",
     "output_type": "stream",
     "text": [
      "C:\\Users\\sm.woo\\Anaconda3\\lib\\site-packages\\statsmodels\\tsa\\base\\tsa_model.py:219: ValueWarning: A date index has been provided, but it has no associated frequency information and so will be ignored when e.g. forecasting.\n",
      "  ' ignored when e.g. forecasting.', ValueWarning)\n",
      "C:\\Users\\sm.woo\\Anaconda3\\lib\\site-packages\\statsmodels\\base\\model.py:492: HessianInversionWarning: Inverting hessian failed, no bse or cov_params available\n",
      "  'available', HessianInversionWarning)\n"
     ]
    },
    {
     "name": "stdout",
     "output_type": "stream",
     "text": [
      "                              ARMA Model Results                              \n",
      "==============================================================================\n",
      "Dep. Variable:                   Rate   No. Observations:                  245\n",
      "Model:                     ARMA(5, 5)   Log Likelihood                -689.420\n",
      "Method:                       css-mle   S.D. of innovations              3.956\n",
      "Date:                Fri, 07 Feb 2020   AIC                           1402.840\n",
      "Time:                        15:56:39   BIC                           1444.855\n",
      "Sample:                             0   HQIC                          1419.759\n",
      "                                                                              \n",
      "==============================================================================\n",
      "                 coef    std err          z      P>|z|      [0.025      0.975]\n",
      "------------------------------------------------------------------------------\n",
      "const       1540.4826        nan        nan        nan         nan         nan\n",
      "ar.L1.Rate     0.0251        nan        nan        nan         nan         nan\n",
      "ar.L2.Rate     1.3358   6.54e-05   2.04e+04      0.000       1.336       1.336\n",
      "ar.L3.Rate     0.2591        nan        nan        nan         nan         nan\n",
      "ar.L4.Rate    -0.4967        nan        nan        nan         nan         nan\n",
      "ar.L5.Rate    -0.1234      0.001   -123.922      0.000      -0.125      -0.121\n",
      "ma.L1.Rate     1.1591      0.064     18.159      0.000       1.034       1.284\n",
      "ma.L2.Rate    -0.2207      0.096     -2.302      0.022      -0.409      -0.033\n",
      "ma.L3.Rate    -0.6779      0.087     -7.774      0.000      -0.849      -0.507\n",
      "ma.L4.Rate    -0.2308      0.095     -2.422      0.016      -0.418      -0.044\n",
      "ma.L5.Rate    -0.1091      0.062     -1.771      0.078      -0.230       0.012\n",
      "                                    Roots                                    \n",
      "=============================================================================\n",
      "                  Real          Imaginary           Modulus         Frequency\n",
      "-----------------------------------------------------------------------------\n",
      "AR.1            1.0001           -0.0000j            1.0001           -0.0000\n",
      "AR.2            1.2861           -0.0000j            1.2861           -0.0000\n",
      "AR.3           -1.2116           -0.3907j            1.2730           -0.4504\n",
      "AR.4           -1.2116           +0.3907j            1.2730            0.4504\n",
      "AR.5           -3.8894           -0.0000j            3.8894           -0.5000\n",
      "MA.1           -1.0144           -0.3419j            1.0704           -0.4483\n",
      "MA.2           -1.0144           +0.3419j            1.0704            0.4483\n",
      "MA.3            1.2291           -0.0000j            1.2291           -0.0000\n",
      "MA.4           -0.6582           -2.4651j            2.5515           -0.2915\n",
      "MA.5           -0.6582           +2.4651j            2.5515            0.2915\n",
      "-----------------------------------------------------------------------------\n"
     ]
    }
   ],
   "source": [
    "model_23 = ARIMA(df_train, order=(5,0,5))\n",
    "model_23_fit = model_23.fit(trend='c',full_output=True, disp=1)\n",
    "print(model_23_fit.summary())"
   ]
  },
  {
   "cell_type": "code",
   "execution_count": 26,
   "metadata": {},
   "outputs": [
    {
     "name": "stderr",
     "output_type": "stream",
     "text": [
      "C:\\Users\\sm.woo\\Anaconda3\\lib\\site-packages\\statsmodels\\tsa\\base\\tsa_model.py:219: ValueWarning: A date index has been provided, but it has no associated frequency information and so will be ignored when e.g. forecasting.\n",
      "  ' ignored when e.g. forecasting.', ValueWarning)\n",
      "C:\\Users\\sm.woo\\Anaconda3\\lib\\site-packages\\statsmodels\\base\\model.py:512: ConvergenceWarning: Maximum Likelihood optimization failed to converge. Check mle_retvals\n",
      "  \"Check mle_retvals\", ConvergenceWarning)\n"
     ]
    },
    {
     "name": "stdout",
     "output_type": "stream",
     "text": [
      "                              ARMA Model Results                              \n",
      "==============================================================================\n",
      "Dep. Variable:                   Rate   No. Observations:                  245\n",
      "Model:                     ARMA(5, 0)   Log Likelihood                -698.919\n",
      "Method:                       css-mle   S.D. of innovations              4.031\n",
      "Date:                Fri, 07 Feb 2020   AIC                           1409.838\n",
      "Time:                        15:56:41   BIC                           1430.846\n",
      "Sample:                             0   HQIC                          1418.298\n",
      "                                                                              \n",
      "==============================================================================\n",
      "                 coef    std err          z      P>|z|      [0.025      0.975]\n",
      "------------------------------------------------------------------------------\n",
      "ar.L1.Rate     1.1473   1.13e-05   1.01e+05      0.000       1.147       1.147\n",
      "ar.L2.Rate    -0.1760   2.29e-06  -7.69e+04      0.000      -0.176      -0.176\n",
      "ar.L3.Rate     0.0850        nan        nan        nan         nan         nan\n",
      "ar.L4.Rate    -0.1033        nan        nan        nan         nan         nan\n",
      "ar.L5.Rate     0.0471   4.75e-06   9919.718      0.000       0.047       0.047\n",
      "                                    Roots                                    \n",
      "=============================================================================\n",
      "                  Real          Imaginary           Modulus         Frequency\n",
      "-----------------------------------------------------------------------------\n",
      "AR.1            1.0000           -0.0000j            1.0000           -0.0000\n",
      "AR.2           -1.2012           -1.6683j            2.0557           -0.3493\n",
      "AR.3           -1.2012           +1.6683j            2.0557            0.3493\n",
      "AR.4            1.7987           -1.3382j            2.2419           -0.1018\n",
      "AR.5            1.7987           +1.3382j            2.2419            0.1018\n",
      "-----------------------------------------------------------------------------\n"
     ]
    }
   ],
   "source": [
    "#non값 사용 불가능\n",
    "model_24 = ARIMA(df_train, order=(5,0,0))\n",
    "model_24_fit = model_24.fit(trend='nc',full_output=True, disp=1)\n",
    "print(model_24_fit.summary())"
   ]
  },
  {
   "cell_type": "code",
   "execution_count": 27,
   "metadata": {},
   "outputs": [
    {
     "name": "stderr",
     "output_type": "stream",
     "text": [
      "C:\\Users\\sm.woo\\Anaconda3\\lib\\site-packages\\statsmodels\\tsa\\base\\tsa_model.py:219: ValueWarning: A date index has been provided, but it has no associated frequency information and so will be ignored when e.g. forecasting.\n",
      "  ' ignored when e.g. forecasting.', ValueWarning)\n"
     ]
    },
    {
     "name": "stdout",
     "output_type": "stream",
     "text": [
      "                              ARMA Model Results                              \n",
      "==============================================================================\n",
      "Dep. Variable:                   Rate   No. Observations:                  245\n",
      "Model:                     ARMA(5, 0)   Log Likelihood                -691.749\n",
      "Method:                       css-mle   S.D. of innovations              4.035\n",
      "Date:                Fri, 07 Feb 2020   AIC                           1397.497\n",
      "Time:                        15:56:42   BIC                           1422.006\n",
      "Sample:                             0   HQIC                          1407.367\n",
      "                                                                              \n",
      "==============================================================================\n",
      "                 coef    std err          z      P>|z|      [0.025      0.975]\n",
      "------------------------------------------------------------------------------\n",
      "const       1156.5551     29.652     39.004      0.000    1098.438    1214.673\n",
      "ar.L1.Rate     1.1463      0.064     17.995      0.000       1.021       1.271\n",
      "ar.L2.Rate    -0.1770      0.097     -1.826      0.069      -0.367       0.013\n",
      "ar.L3.Rate     0.0835      0.098      0.856      0.393      -0.108       0.275\n",
      "ar.L4.Rate    -0.1018      0.098     -1.043      0.298      -0.293       0.090\n",
      "ar.L5.Rate     0.0430      0.064      0.667      0.505      -0.083       0.169\n",
      "                                    Roots                                    \n",
      "=============================================================================\n",
      "                  Real          Imaginary           Modulus         Frequency\n",
      "-----------------------------------------------------------------------------\n",
      "AR.1            1.0070           -0.0000j            1.0070           -0.0000\n",
      "AR.2           -1.2051           -1.6996j            2.0834           -0.3482\n",
      "AR.3           -1.2051           +1.6996j            2.0834            0.3482\n",
      "AR.4            1.8865           -1.3290j            2.3076           -0.0977\n",
      "AR.5            1.8865           +1.3290j            2.3076            0.0977\n",
      "-----------------------------------------------------------------------------\n"
     ]
    }
   ],
   "source": [
    "model_25 = ARIMA(df_train, order=(5,0,0))\n",
    "model_25_fit = model_25.fit(trend='c',full_output=True, disp=1)\n",
    "print(model_25_fit.summary())"
   ]
  },
  {
   "cell_type": "code",
   "execution_count": 28,
   "metadata": {},
   "outputs": [
    {
     "name": "stderr",
     "output_type": "stream",
     "text": [
      "C:\\Users\\sm.woo\\Anaconda3\\lib\\site-packages\\statsmodels\\tsa\\base\\tsa_model.py:219: ValueWarning: A date index has been provided, but it has no associated frequency information and so will be ignored when e.g. forecasting.\n",
      "  ' ignored when e.g. forecasting.', ValueWarning)\n",
      "C:\\Users\\sm.woo\\Anaconda3\\lib\\site-packages\\statsmodels\\tsa\\base\\tsa_model.py:219: ValueWarning: A date index has been provided, but it has no associated frequency information and so will be ignored when e.g. forecasting.\n",
      "  ' ignored when e.g. forecasting.', ValueWarning)\n"
     ]
    },
    {
     "name": "stdout",
     "output_type": "stream",
     "text": [
      "                             ARIMA Model Results                              \n",
      "==============================================================================\n",
      "Dep. Variable:                 D.Rate   No. Observations:                  244\n",
      "Model:                 ARIMA(0, 1, 5)   Log Likelihood                -686.800\n",
      "Method:                       css-mle   S.D. of innovations              4.038\n",
      "Date:                Fri, 07 Feb 2020   AIC                           1385.600\n",
      "Time:                        15:56:43   BIC                           1406.583\n",
      "Sample:                             1   HQIC                          1394.050\n",
      "                                                                              \n",
      "================================================================================\n",
      "                   coef    std err          z      P>|z|      [0.025      0.975]\n",
      "--------------------------------------------------------------------------------\n",
      "ma.L1.D.Rate     0.1483      0.064      2.307      0.022       0.022       0.274\n",
      "ma.L2.D.Rate    -0.0181      0.067     -0.268      0.789      -0.150       0.114\n",
      "ma.L3.D.Rate     0.0476      0.068      0.702      0.483      -0.085       0.181\n",
      "ma.L4.D.Rate    -0.0187      0.066     -0.285      0.776      -0.147       0.110\n",
      "ma.L5.D.Rate    -0.0470      0.065     -0.728      0.467      -0.174       0.080\n",
      "                                    Roots                                    \n",
      "=============================================================================\n",
      "                  Real          Imaginary           Modulus         Frequency\n",
      "-----------------------------------------------------------------------------\n",
      "MA.1           -1.6403           -0.8579j            1.8511           -0.4233\n",
      "MA.2           -1.6403           +0.8579j            1.8511            0.4233\n",
      "MA.3            0.4701           -1.7240j            1.7869           -0.2076\n",
      "MA.4            0.4701           +1.7240j            1.7869            0.2076\n",
      "MA.5            1.9432           -0.0000j            1.9432           -0.0000\n",
      "-----------------------------------------------------------------------------\n"
     ]
    }
   ],
   "source": [
    "model_26 = ARIMA(df_train, order=(0,1,5))\n",
    "model_26_fit = model_26.fit(trend='nc',full_output=True, disp=1)\n",
    "print(model_26_fit.summary())"
   ]
  },
  {
   "cell_type": "code",
   "execution_count": 29,
   "metadata": {},
   "outputs": [
    {
     "name": "stderr",
     "output_type": "stream",
     "text": [
      "C:\\Users\\sm.woo\\Anaconda3\\lib\\site-packages\\statsmodels\\tsa\\base\\tsa_model.py:219: ValueWarning: A date index has been provided, but it has no associated frequency information and so will be ignored when e.g. forecasting.\n",
      "  ' ignored when e.g. forecasting.', ValueWarning)\n",
      "C:\\Users\\sm.woo\\Anaconda3\\lib\\site-packages\\statsmodels\\tsa\\base\\tsa_model.py:219: ValueWarning: A date index has been provided, but it has no associated frequency information and so will be ignored when e.g. forecasting.\n",
      "  ' ignored when e.g. forecasting.', ValueWarning)\n"
     ]
    },
    {
     "name": "stdout",
     "output_type": "stream",
     "text": [
      "                             ARIMA Model Results                              \n",
      "==============================================================================\n",
      "Dep. Variable:                 D.Rate   No. Observations:                  244\n",
      "Model:                 ARIMA(0, 1, 5)   Log Likelihood                -685.697\n",
      "Method:                       css-mle   S.D. of innovations              4.020\n",
      "Date:                Fri, 07 Feb 2020   AIC                           1385.395\n",
      "Time:                        15:56:43   BIC                           1409.875\n",
      "Sample:                             1   HQIC                          1395.254\n",
      "                                                                              \n",
      "================================================================================\n",
      "                   coef    std err          z      P>|z|      [0.025      0.975]\n",
      "--------------------------------------------------------------------------------\n",
      "const            0.4141      0.271      1.531      0.127      -0.116       0.944\n",
      "ma.L1.D.Rate     0.1390      0.064      2.158      0.032       0.013       0.265\n",
      "ma.L2.D.Rate    -0.0320      0.068     -0.472      0.637      -0.165       0.101\n",
      "ma.L3.D.Rate     0.0343      0.069      0.497      0.619      -0.101       0.170\n",
      "ma.L4.D.Rate    -0.0329      0.067     -0.494      0.622      -0.164       0.098\n",
      "ma.L5.D.Rate    -0.0583      0.065     -0.896      0.371      -0.186       0.069\n",
      "                                    Roots                                    \n",
      "=============================================================================\n",
      "                  Real          Imaginary           Modulus         Frequency\n",
      "-----------------------------------------------------------------------------\n",
      "MA.1            1.7700           -0.0000j            1.7700           -0.0000\n",
      "MA.2            0.4224           -1.6805j            1.7328           -0.2108\n",
      "MA.3            0.4224           +1.6805j            1.7328            0.2108\n",
      "MA.4           -1.5898           -0.8365j            1.7964           -0.4229\n",
      "MA.5           -1.5898           +0.8365j            1.7964            0.4229\n",
      "-----------------------------------------------------------------------------\n"
     ]
    }
   ],
   "source": [
    "model_27 = ARIMA(df_train, order=(0,1,5))\n",
    "model_27_fit = model_27.fit(trend='c',full_output=True, disp=1)\n",
    "print(model_27_fit.summary())"
   ]
  },
  {
   "cell_type": "code",
   "execution_count": 30,
   "metadata": {},
   "outputs": [
    {
     "name": "stderr",
     "output_type": "stream",
     "text": [
      "C:\\Users\\sm.woo\\Anaconda3\\lib\\site-packages\\statsmodels\\tsa\\base\\tsa_model.py:219: ValueWarning: A date index has been provided, but it has no associated frequency information and so will be ignored when e.g. forecasting.\n",
      "  ' ignored when e.g. forecasting.', ValueWarning)\n",
      "C:\\Users\\sm.woo\\Anaconda3\\lib\\site-packages\\statsmodels\\tsa\\base\\tsa_model.py:219: ValueWarning: A date index has been provided, but it has no associated frequency information and so will be ignored when e.g. forecasting.\n",
      "  ' ignored when e.g. forecasting.', ValueWarning)\n"
     ]
    },
    {
     "name": "stdout",
     "output_type": "stream",
     "text": [
      "                             ARIMA Model Results                              \n",
      "==============================================================================\n",
      "Dep. Variable:                 D.Rate   No. Observations:                  244\n",
      "Model:                 ARIMA(0, 1, 4)   Log Likelihood                -687.062\n",
      "Method:                       css-mle   S.D. of innovations              4.042\n",
      "Date:                Fri, 07 Feb 2020   AIC                           1384.124\n",
      "Time:                        15:56:44   BIC                           1401.610\n",
      "Sample:                             1   HQIC                          1391.167\n",
      "                                                                              \n",
      "================================================================================\n",
      "                   coef    std err          z      P>|z|      [0.025      0.975]\n",
      "--------------------------------------------------------------------------------\n",
      "ma.L1.D.Rate     0.1473      0.064      2.291      0.023       0.021       0.273\n",
      "ma.L2.D.Rate    -0.0029      0.065     -0.045      0.964      -0.130       0.124\n",
      "ma.L3.D.Rate     0.0455      0.068      0.671      0.503      -0.087       0.178\n",
      "ma.L4.D.Rate    -0.0079      0.065     -0.123      0.902      -0.134       0.119\n",
      "                                    Roots                                    \n",
      "=============================================================================\n",
      "                  Real          Imaginary           Modulus         Frequency\n",
      "-----------------------------------------------------------------------------\n",
      "MA.1           -2.1923           -0.0000j            2.1923           -0.5000\n",
      "MA.2            0.6846           -2.8802j            2.9605           -0.2129\n",
      "MA.3            0.6846           +2.8802j            2.9605            0.2129\n",
      "MA.4            6.5533           -0.0000j            6.5533           -0.0000\n",
      "-----------------------------------------------------------------------------\n"
     ]
    }
   ],
   "source": [
    "model_28 = ARIMA(df_train, order=(0,1,4))\n",
    "model_28_fit = model_28.fit(trend='nc',full_output=True, disp=1)\n",
    "print(model_28_fit.summary())"
   ]
  },
  {
   "cell_type": "code",
   "execution_count": 31,
   "metadata": {},
   "outputs": [
    {
     "name": "stderr",
     "output_type": "stream",
     "text": [
      "C:\\Users\\sm.woo\\Anaconda3\\lib\\site-packages\\statsmodels\\tsa\\base\\tsa_model.py:219: ValueWarning: A date index has been provided, but it has no associated frequency information and so will be ignored when e.g. forecasting.\n",
      "  ' ignored when e.g. forecasting.', ValueWarning)\n",
      "C:\\Users\\sm.woo\\Anaconda3\\lib\\site-packages\\statsmodels\\tsa\\base\\tsa_model.py:219: ValueWarning: A date index has been provided, but it has no associated frequency information and so will be ignored when e.g. forecasting.\n",
      "  ' ignored when e.g. forecasting.', ValueWarning)\n"
     ]
    },
    {
     "name": "stdout",
     "output_type": "stream",
     "text": [
      "                             ARIMA Model Results                              \n",
      "==============================================================================\n",
      "Dep. Variable:                 D.Rate   No. Observations:                  244\n",
      "Model:                 ARIMA(0, 1, 4)   Log Likelihood                -686.093\n",
      "Method:                       css-mle   S.D. of innovations              4.026\n",
      "Date:                Fri, 07 Feb 2020   AIC                           1384.186\n",
      "Time:                        15:56:44   BIC                           1405.169\n",
      "Sample:                             1   HQIC                          1392.637\n",
      "                                                                              \n",
      "================================================================================\n",
      "                   coef    std err          z      P>|z|      [0.025      0.975]\n",
      "--------------------------------------------------------------------------------\n",
      "const            0.4172      0.294      1.421      0.157      -0.158       0.993\n",
      "ma.L1.D.Rate     0.1383      0.064      2.147      0.033       0.012       0.265\n",
      "ma.L2.D.Rate    -0.0126      0.065     -0.194      0.847      -0.140       0.115\n",
      "ma.L3.D.Rate     0.0328      0.069      0.475      0.635      -0.103       0.168\n",
      "ma.L4.D.Rate    -0.0186      0.066     -0.285      0.776      -0.147       0.110\n",
      "                                    Roots                                    \n",
      "=============================================================================\n",
      "                  Real          Imaginary           Modulus         Frequency\n",
      "-----------------------------------------------------------------------------\n",
      "MA.1           -2.0906           -0.0000j            2.0906           -0.5000\n",
      "MA.2            0.1908           -2.7131j            2.7198           -0.2388\n",
      "MA.3            0.1908           +2.7131j            2.7198            0.2388\n",
      "MA.4            3.4672           -0.0000j            3.4672           -0.0000\n",
      "-----------------------------------------------------------------------------\n"
     ]
    }
   ],
   "source": [
    "model_29 = ARIMA(df_train, order=(0,1,4))\n",
    "model_29_fit = model_29.fit(trend='c',full_output=True, disp=1)\n",
    "print(model_29_fit.summary())"
   ]
  },
  {
   "cell_type": "code",
   "execution_count": 32,
   "metadata": {},
   "outputs": [
    {
     "name": "stderr",
     "output_type": "stream",
     "text": [
      "C:\\Users\\sm.woo\\Anaconda3\\lib\\site-packages\\statsmodels\\tsa\\base\\tsa_model.py:219: ValueWarning: A date index has been provided, but it has no associated frequency information and so will be ignored when e.g. forecasting.\n",
      "  ' ignored when e.g. forecasting.', ValueWarning)\n",
      "C:\\Users\\sm.woo\\Anaconda3\\lib\\site-packages\\statsmodels\\tsa\\base\\tsa_model.py:219: ValueWarning: A date index has been provided, but it has no associated frequency information and so will be ignored when e.g. forecasting.\n",
      "  ' ignored when e.g. forecasting.', ValueWarning)\n",
      "C:\\Users\\sm.woo\\Anaconda3\\lib\\site-packages\\statsmodels\\base\\model.py:512: ConvergenceWarning: Maximum Likelihood optimization failed to converge. Check mle_retvals\n",
      "  \"Check mle_retvals\", ConvergenceWarning)\n"
     ]
    },
    {
     "name": "stdout",
     "output_type": "stream",
     "text": [
      "                             ARIMA Model Results                              \n",
      "==============================================================================\n",
      "Dep. Variable:                D2.Rate   No. Observations:                  243\n",
      "Model:                 ARIMA(5, 2, 5)   Log Likelihood                -677.987\n",
      "Method:                       css-mle   S.D. of innovations              3.852\n",
      "Date:                Fri, 07 Feb 2020   AIC                           1379.973\n",
      "Time:                        15:57:13   BIC                           1421.890\n",
      "Sample:                             2   HQIC                          1396.857\n",
      "                                                                              \n",
      "=================================================================================\n",
      "                    coef    std err          z      P>|z|      [0.025      0.975]\n",
      "---------------------------------------------------------------------------------\n",
      "const             0.0035      0.004      0.829      0.408      -0.005       0.012\n",
      "ar.L1.D2.Rate    -1.0502      0.075    -13.968      0.000      -1.198      -0.903\n",
      "ar.L2.D2.Rate    -0.7172      0.089     -8.100      0.000      -0.891      -0.544\n",
      "ar.L3.D2.Rate    -1.0366      0.076    -13.651      0.000      -1.185      -0.888\n",
      "ar.L4.D2.Rate    -0.6963      0.088     -7.885      0.000      -0.869      -0.523\n",
      "ar.L5.D2.Rate     0.1208      0.068      1.783      0.076      -0.012       0.253\n",
      "ma.L1.D2.Rate     0.2168      0.057      3.773      0.000       0.104       0.329\n",
      "ma.L2.D2.Rate    -0.3667      0.040     -9.201      0.000      -0.445      -0.289\n",
      "ma.L3.D2.Rate     0.3756      0.031     12.202      0.000       0.315       0.436\n",
      "ma.L4.D2.Rate    -0.2389      0.045     -5.294      0.000      -0.327      -0.150\n",
      "ma.L5.D2.Rate    -0.9860      0.061    -16.173      0.000      -1.106      -0.867\n",
      "                                    Roots                                    \n",
      "=============================================================================\n",
      "                  Real          Imaginary           Modulus         Frequency\n",
      "-----------------------------------------------------------------------------\n",
      "AR.1            0.2918           -0.9825j            1.0249           -0.2041\n",
      "AR.2            0.2918           +0.9825j            1.0249            0.2041\n",
      "AR.3           -0.9672           -0.4150j            1.0525           -0.4355\n",
      "AR.4           -0.9672           +0.4150j            1.0525            0.4355\n",
      "AR.5            7.1166           -0.0000j            7.1166           -0.0000\n",
      "MA.1            1.0001           -0.0000j            1.0001           -0.0000\n",
      "MA.2            0.3095           -0.9509j            1.0000           -0.1999\n",
      "MA.3            0.3095           +0.9509j            1.0000            0.1999\n",
      "MA.4           -0.9307           -0.3844j            1.0070           -0.4377\n",
      "MA.5           -0.9307           +0.3844j            1.0070            0.4377\n",
      "-----------------------------------------------------------------------------\n"
     ]
    }
   ],
   "source": [
    "model_31 = ARIMA(df_train, order=(5,2,5))\n",
    "model_31_fit = model_31.fit(trend='c',full_output=True, disp=1)\n",
    "print(model_31_fit.summary())"
   ]
  },
  {
   "cell_type": "markdown",
   "metadata": {},
   "source": [
    "### 예측"
   ]
  },
  {
   "cell_type": "code",
   "execution_count": 33,
   "metadata": {
    "scrolled": true
   },
   "outputs": [
    {
     "data": {
      "image/png": "[encoded data removed]",
      "text/plain": [
       "<Figure size 432x288 with 1 Axes>"
      ]
     },
     "metadata": {
      "needs_background": "light"
     },
     "output_type": "display_data"
    },
    {
     "data": {
      "image/png": "[encoded data removed]",
      "text/plain": [
       "<Figure size 432x288 with 1 Axes>"
      ]
     },
     "metadata": {
      "needs_background": "light"
     },
     "output_type": "display_data"
    },
    {
     "data": {
      "image/png": "[encoded data removed]",
      "text/plain": [
       "<Figure size 432x288 with 1 Axes>"
      ]
     },
     "metadata": {
      "needs_background": "light"
     },
     "output_type": "display_data"
    },
    {
     "data": {
      "image/png": "[encoded data removed]",
      "text/plain": [
       "<Figure size 432x288 with 1 Axes>"
      ]
     },
     "metadata": {
      "needs_background": "light"
     },
     "output_type": "display_data"
    },
    {
     "data": {
      "image/png": "[encoded data removed]",
      "text/plain": [
       "<Figure size 432x288 with 1 Axes>"
      ]
     },
     "metadata": {
      "needs_background": "light"
     },
     "output_type": "display_data"
    },
    {
     "data": {
      "image/png": "[encoded data removed]",
      "text/plain": [
       "<Figure size 432x288 with 1 Axes>"
      ]
     },
     "metadata": {
      "needs_background": "light"
     },
     "output_type": "display_data"
    },
    {
     "data": {
      "image/png": "[encoded data removed]",
      "text/plain": [
       "<Figure size 432x288 with 1 Axes>"
      ]
     },
     "metadata": {
      "needs_background": "light"
     },
     "output_type": "display_data"
    },
    {
     "data": {
      "image/png": "[encoded data removed]",
      "text/plain": [
       "<Figure size 432x288 with 1 Axes>"
      ]
     },
     "metadata": {
      "needs_background": "light"
     },
     "output_type": "display_data"
    },
    {
     "data": {
      "image/png": "[encoded data removed]",
      "text/plain": [
       "<Figure size 432x288 with 1 Axes>"
      ]
     },
     "metadata": {
      "needs_background": "light"
     },
     "output_type": "display_data"
    },
    {
     "data": {
      "image/png": "[encoded data removed]",
      "text/plain": [
       "<Figure size 432x288 with 1 Axes>"
      ]
     },
     "metadata": {
      "needs_background": "light"
     },
     "output_type": "display_data"
    },
    {
     "data": {
      "image/png": "[encoded data removed]",
      "text/plain": [
       "<Figure size 432x288 with 1 Axes>"
      ]
     },
     "metadata": {
      "needs_background": "light"
     },
     "output_type": "display_data"
    },
    {
     "data": {
      "image/png": "[encoded data removed]",
      "text/plain": [
       "<Figure size 432x288 with 1 Axes>"
      ]
     },
     "metadata": {
      "needs_background": "light"
     },
     "output_type": "display_data"
    }
   ],
   "source": [
    "Models = [model_1_fit, model_2_fit, model_3_fit, model_4_fit, model_18_fit, model_19_fit, model_20_fit, \n",
    "          model_25_fit, model_26_fit, model_27_fit, model_28_fit, model_29_fit]\n",
    "\n",
    "df_test=df_test[:5]\n",
    "actual_price=df_test['Rate'].tolist()[:5]\n",
    "RMSE_total=[]\n",
    "pred_price=[]\n",
    "\n",
    "for model in Models:\n",
    "    pred = model.forecast(steps=5)\n",
    "    pred_price_0=pred[0][:5]\n",
    "    pred_price.extend(pred_price_0)\n",
    "\n",
    "    plt.plot(pred_price_0)\n",
    "    plt.plot(df_test)\n",
    "    plt.show()\n",
    "    \n",
    "    RMSE = mean_squared_error(pred_price_0, actual_price)**0.5    \n",
    "    RMSE_total.append(RMSE)"
   ]
  },
  {
   "cell_type": "markdown",
   "metadata": {},
   "source": [
    "#### 예측값, stderr, upper bound, lower bound"
   ]
  },
  {
   "cell_type": "code",
   "execution_count": 34,
   "metadata": {},
   "outputs": [],
   "source": [
    "n = 5\n",
    "result = [pred_price[i * n:(i + 1) * n] for i in range((len(pred_price) + n - 1) // n )] \n",
    "pred_final = []\n",
    "for i in result:\n",
    "    pred_final.append(i)"
   ]
  },
  {
   "cell_type": "code",
   "execution_count": 35,
   "metadata": {
    "scrolled": true
   },
   "outputs": [],
   "source": [
    "pred_final=pd.DataFrame(pred_final)\n",
    "RMSE_total=pd.DataFrame(RMSE_total)\n",
    "final_df=pd.concat([pred_final, RMSE_total], axis=1)\n",
    "final_df.columns=[df_test.index[0],df_test.index[1],df_test.index[2],df_test.index[3],df_test.index[4],'RMSE']"
   ]
  },
  {
   "cell_type": "code",
   "execution_count": 36,
   "metadata": {
    "scrolled": false
   },
   "outputs": [
    {
     "data": {
      "text/html": [
       "<div>\n",
       "<style scoped>\n",
       "    .dataframe tbody tr th:only-of-type {\n",
       "        vertical-align: middle;\n",
       "    }\n",
       "\n",
       "    .dataframe tbody tr th {\n",
       "        vertical-align: top;\n",
       "    }\n",
       "\n",
       "    .dataframe thead th {\n",
       "        text-align: right;\n",
       "    }\n",
       "</style>\n",
       "<table border=\"1\" class=\"dataframe\">\n",
       "  <thead>\n",
       "    <tr style=\"text-align: right;\">\n",
       "      <th></th>\n",
       "      <th>2019-09-02</th>\n",
       "      <th>2019-09-03</th>\n",
       "      <th>2019-09-04</th>\n",
       "      <th>2019-09-05</th>\n",
       "      <th>2019-09-06</th>\n",
       "      <th>RMSE</th>\n",
       "    </tr>\n",
       "  </thead>\n",
       "  <tbody>\n",
       "    <tr>\n",
       "      <td>0</td>\n",
       "      <td>1209.600000</td>\n",
       "      <td>1211.900000</td>\n",
       "      <td>1215.200000</td>\n",
       "      <td>1209.700000</td>\n",
       "      <td>1199.600000</td>\n",
       "      <td>0.000000</td>\n",
       "    </tr>\n",
       "    <tr>\n",
       "      <td>0</td>\n",
       "      <td>1215.307221</td>\n",
       "      <td>1215.284690</td>\n",
       "      <td>1215.289425</td>\n",
       "      <td>1215.288430</td>\n",
       "      <td>1215.288639</td>\n",
       "      <td>8.017486</td>\n",
       "    </tr>\n",
       "    <tr>\n",
       "      <td>1</td>\n",
       "      <td>1215.649630</td>\n",
       "      <td>1216.059202</td>\n",
       "      <td>1216.478960</td>\n",
       "      <td>1216.896128</td>\n",
       "      <td>1217.313955</td>\n",
       "      <td>9.177159</td>\n",
       "    </tr>\n",
       "    <tr>\n",
       "      <td>2</td>\n",
       "      <td>1215.647147</td>\n",
       "      <td>1216.084123</td>\n",
       "      <td>1216.496017</td>\n",
       "      <td>1216.916163</td>\n",
       "      <td>1217.332947</td>\n",
       "      <td>9.190048</td>\n",
       "    </tr>\n",
       "    <tr>\n",
       "      <td>3</td>\n",
       "      <td>1215.301263</td>\n",
       "      <td>1215.323034</td>\n",
       "      <td>1215.318922</td>\n",
       "      <td>1215.321060</td>\n",
       "      <td>1215.320189</td>\n",
       "      <td>8.036869</td>\n",
       "    </tr>\n",
       "    <tr>\n",
       "      <td>4</td>\n",
       "      <td>1215.255931</td>\n",
       "      <td>1214.283045</td>\n",
       "      <td>1214.987755</td>\n",
       "      <td>1214.318339</td>\n",
       "      <td>1214.625426</td>\n",
       "      <td>7.547264</td>\n",
       "    </tr>\n",
       "    <tr>\n",
       "      <td>5</td>\n",
       "      <td>1214.726261</td>\n",
       "      <td>1214.450822</td>\n",
       "      <td>1214.455442</td>\n",
       "      <td>1214.322323</td>\n",
       "      <td>1214.202465</td>\n",
       "      <td>7.320348</td>\n",
       "    </tr>\n",
       "    <tr>\n",
       "      <td>6</td>\n",
       "      <td>1215.140935</td>\n",
       "      <td>1215.313139</td>\n",
       "      <td>1215.765738</td>\n",
       "      <td>1216.106840</td>\n",
       "      <td>1216.448863</td>\n",
       "      <td>8.574419</td>\n",
       "    </tr>\n",
       "    <tr>\n",
       "      <td>7</td>\n",
       "      <td>1214.540263</td>\n",
       "      <td>1214.293569</td>\n",
       "      <td>1214.009734</td>\n",
       "      <td>1213.517032</td>\n",
       "      <td>1213.122072</td>\n",
       "      <td>6.767101</td>\n",
       "    </tr>\n",
       "    <tr>\n",
       "      <td>8</td>\n",
       "      <td>1214.704310</td>\n",
       "      <td>1214.581031</td>\n",
       "      <td>1214.914081</td>\n",
       "      <td>1214.850227</td>\n",
       "      <td>1214.850227</td>\n",
       "      <td>7.647456</td>\n",
       "    </tr>\n",
       "    <tr>\n",
       "      <td>9</td>\n",
       "      <td>1215.022427</td>\n",
       "      <td>1215.339602</td>\n",
       "      <td>1216.142756</td>\n",
       "      <td>1216.493835</td>\n",
       "      <td>1216.907914</td>\n",
       "      <td>8.807297</td>\n",
       "    </tr>\n",
       "    <tr>\n",
       "      <td>10</td>\n",
       "      <td>1215.079260</td>\n",
       "      <td>1215.169211</td>\n",
       "      <td>1215.222358</td>\n",
       "      <td>1215.211678</td>\n",
       "      <td>1215.211678</td>\n",
       "      <td>7.934905</td>\n",
       "    </tr>\n",
       "    <tr>\n",
       "      <td>11</td>\n",
       "      <td>1215.454463</td>\n",
       "      <td>1216.000518</td>\n",
       "      <td>1216.438438</td>\n",
       "      <td>1216.835971</td>\n",
       "      <td>1217.253184</td>\n",
       "      <td>9.112406</td>\n",
       "    </tr>\n",
       "  </tbody>\n",
       "</table>\n",
       "</div>"
      ],
      "text/plain": [
       "     2019-09-02   2019-09-03   2019-09-04   2019-09-05   2019-09-06      RMSE\n",
       "0   1209.600000  1211.900000  1215.200000  1209.700000  1199.600000  0.000000\n",
       "0   1215.307221  1215.284690  1215.289425  1215.288430  1215.288639  8.017486\n",
       "1   1215.649630  1216.059202  1216.478960  1216.896128  1217.313955  9.177159\n",
       "2   1215.647147  1216.084123  1216.496017  1216.916163  1217.332947  9.190048\n",
       "3   1215.301263  1215.323034  1215.318922  1215.321060  1215.320189  8.036869\n",
       "4   1215.255931  1214.283045  1214.987755  1214.318339  1214.625426  7.547264\n",
       "5   1214.726261  1214.450822  1214.455442  1214.322323  1214.202465  7.320348\n",
       "6   1215.140935  1215.313139  1215.765738  1216.106840  1216.448863  8.574419\n",
       "7   1214.540263  1214.293569  1214.009734  1213.517032  1213.122072  6.767101\n",
       "8   1214.704310  1214.581031  1214.914081  1214.850227  1214.850227  7.647456\n",
       "9   1215.022427  1215.339602  1216.142756  1216.493835  1216.907914  8.807297\n",
       "10  1215.079260  1215.169211  1215.222358  1215.211678  1215.211678  7.934905\n",
       "11  1215.454463  1216.000518  1216.438438  1216.835971  1217.253184  9.112406"
      ]
     },
     "execution_count": 36,
     "metadata": {},
     "output_type": "execute_result"
    }
   ],
   "source": [
    "actual_price = pd.DataFrame(actual_price + [0]).T\n",
    "actual_price.columns=[df_test.index[0],df_test.index[1],df_test.index[2],df_test.index[3],df_test.index[4],'RMSE']\n",
    "final_df=pd.concat([actual_price, final_df], axis=0)\n",
    "final_df"
   ]
  },
  {
   "cell_type": "code",
   "execution_count": 37,
   "metadata": {},
   "outputs": [],
   "source": [
    "final_df.to_csv('data/final08.csv', index=False)"
   ]
  },
  {
   "cell_type": "code",
   "execution_count": null,
   "metadata": {},
   "outputs": [],
   "source": []
  }
 ],
 "metadata": {
  "kernelspec": {
   "display_name": "Python 3",
   "language": "python",
   "name": "python3"
  },
  "language_info": {
   "codemirror_mode": {
    "name": "ipython",
    "version": 3
   },
   "file_extension": ".py",
   "mimetype": "text/x-python",
   "name": "python",
   "nbconvert_exporter": "python",
   "pygments_lexer": "ipython3",
   "version": "3.7.4"
  }
 },
 "nbformat": 4,
 "nbformat_minor": 2
}
