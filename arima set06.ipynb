{
 "cells": [
  {
   "cell_type": "code",
   "execution_count": 1,
   "metadata": {},
   "outputs": [],
   "source": [
    "import pandas as pd\n",
    "import matplotlib.pyplot as plt\n",
    "\n",
    "from statsmodels.tsa.arima_model import ARIMA\n",
    "from sklearn.metrics import mean_squared_error"
   ]
  },
  {
   "cell_type": "code",
   "execution_count": 2,
   "metadata": {},
   "outputs": [],
   "source": [
    "data = pd.read_csv('exchange_data/set06.csv', header=0, squeeze=True)"
   ]
  },
  {
   "cell_type": "code",
   "execution_count": 3,
   "metadata": {},
   "outputs": [],
   "source": [
    "data = data.set_index('Date')"
   ]
  },
  {
   "cell_type": "code",
   "execution_count": 4,
   "metadata": {},
   "outputs": [],
   "source": [
    "#2018년 2월~2019년1월 train set/ 2019년 2월 test set\n",
    "df_train=data.loc['2018-07-01': '2019-06-31' ]\n",
    "df_test=data.loc['2019-07-01':]"
   ]
  },
  {
   "cell_type": "markdown",
   "metadata": {},
   "source": [
    "### 모형구축"
   ]
  },
  {
   "cell_type": "code",
   "execution_count": 5,
   "metadata": {},
   "outputs": [
    {
     "name": "stderr",
     "output_type": "stream",
     "text": [
      "C:\\Users\\sm.woo\\Anaconda3\\lib\\site-packages\\statsmodels\\tsa\\base\\tsa_model.py:219: ValueWarning: A date index has been provided, but it has no associated frequency information and so will be ignored when e.g. forecasting.\n",
      "  ' ignored when e.g. forecasting.', ValueWarning)\n",
      "C:\\Users\\sm.woo\\Anaconda3\\lib\\site-packages\\statsmodels\\tsa\\base\\tsa_model.py:219: ValueWarning: A date index has been provided, but it has no associated frequency information and so will be ignored when e.g. forecasting.\n",
      "  ' ignored when e.g. forecasting.', ValueWarning)\n"
     ]
    },
    {
     "name": "stdout",
     "output_type": "stream",
     "text": [
      "                             ARIMA Model Results                              \n",
      "==============================================================================\n",
      "Dep. Variable:                 D.Rate   No. Observations:                  244\n",
      "Model:                 ARIMA(1, 1, 1)   Log Likelihood                -685.782\n",
      "Method:                       css-mle   S.D. of innovations              4.021\n",
      "Date:                Fri, 07 Feb 2020   AIC                           1377.564\n",
      "Time:                        15:53:29   BIC                           1388.056\n",
      "Sample:                             1   HQIC                          1381.790\n",
      "                                                                              \n",
      "================================================================================\n",
      "                   coef    std err          z      P>|z|      [0.025      0.975]\n",
      "--------------------------------------------------------------------------------\n",
      "ar.L1.D.Rate     0.1599      0.729      0.219      0.826      -1.268       1.588\n",
      "ma.L1.D.Rate    -0.0678      0.737     -0.092      0.927      -1.512       1.377\n",
      "                                    Roots                                    \n",
      "=============================================================================\n",
      "                  Real          Imaginary           Modulus         Frequency\n",
      "-----------------------------------------------------------------------------\n",
      "AR.1            6.2527           +0.0000j            6.2527            0.0000\n",
      "MA.1           14.7482           +0.0000j           14.7482            0.0000\n",
      "-----------------------------------------------------------------------------\n"
     ]
    }
   ],
   "source": [
    "model_1 = ARIMA(df_train, order=(1,1,1))\n",
    "model_1_fit = model_1.fit(trend='nc',full_output=True, disp=1)\n",
    "print(model_1_fit.summary())"
   ]
  },
  {
   "cell_type": "code",
   "execution_count": 6,
   "metadata": {},
   "outputs": [
    {
     "name": "stderr",
     "output_type": "stream",
     "text": [
      "C:\\Users\\sm.woo\\Anaconda3\\lib\\site-packages\\statsmodels\\tsa\\base\\tsa_model.py:219: ValueWarning: A date index has been provided, but it has no associated frequency information and so will be ignored when e.g. forecasting.\n",
      "  ' ignored when e.g. forecasting.', ValueWarning)\n",
      "C:\\Users\\sm.woo\\Anaconda3\\lib\\site-packages\\statsmodels\\tsa\\base\\tsa_model.py:219: ValueWarning: A date index has been provided, but it has no associated frequency information and so will be ignored when e.g. forecasting.\n",
      "  ' ignored when e.g. forecasting.', ValueWarning)\n"
     ]
    },
    {
     "name": "stdout",
     "output_type": "stream",
     "text": [
      "                             ARIMA Model Results                              \n",
      "==============================================================================\n",
      "Dep. Variable:                 D.Rate   No. Observations:                  244\n",
      "Model:                 ARIMA(1, 1, 1)   Log Likelihood                -685.621\n",
      "Method:                       css-mle   S.D. of innovations              4.019\n",
      "Date:                Fri, 07 Feb 2020   AIC                           1379.242\n",
      "Time:                        15:53:29   BIC                           1393.231\n",
      "Sample:                             1   HQIC                          1384.876\n",
      "                                                                              \n",
      "================================================================================\n",
      "                   coef    std err          z      P>|z|      [0.025      0.975]\n",
      "--------------------------------------------------------------------------------\n",
      "const            0.1618      0.284      0.569      0.570      -0.396       0.719\n",
      "ar.L1.D.Rate     0.1425      0.795      0.179      0.858      -1.416       1.701\n",
      "ma.L1.D.Rate    -0.0517      0.803     -0.064      0.949      -1.626       1.523\n",
      "                                    Roots                                    \n",
      "=============================================================================\n",
      "                  Real          Imaginary           Modulus         Frequency\n",
      "-----------------------------------------------------------------------------\n",
      "AR.1            7.0165           +0.0000j            7.0165            0.0000\n",
      "MA.1           19.3339           +0.0000j           19.3339            0.0000\n",
      "-----------------------------------------------------------------------------\n"
     ]
    }
   ],
   "source": [
    "model_2 = ARIMA(df_train, order=(1,1,1))\n",
    "model_2_fit = model_2.fit(trend='c',full_output=True, disp=1)\n",
    "print(model_2_fit.summary())"
   ]
  },
  {
   "cell_type": "code",
   "execution_count": 7,
   "metadata": {},
   "outputs": [
    {
     "name": "stderr",
     "output_type": "stream",
     "text": [
      "C:\\Users\\sm.woo\\Anaconda3\\lib\\site-packages\\statsmodels\\tsa\\base\\tsa_model.py:219: ValueWarning: A date index has been provided, but it has no associated frequency information and so will be ignored when e.g. forecasting.\n",
      "  ' ignored when e.g. forecasting.', ValueWarning)\n",
      "C:\\Users\\sm.woo\\Anaconda3\\lib\\site-packages\\statsmodels\\tsa\\base\\tsa_model.py:219: ValueWarning: A date index has been provided, but it has no associated frequency information and so will be ignored when e.g. forecasting.\n",
      "  ' ignored when e.g. forecasting.', ValueWarning)\n"
     ]
    },
    {
     "name": "stdout",
     "output_type": "stream",
     "text": [
      "                             ARIMA Model Results                              \n",
      "==============================================================================\n",
      "Dep. Variable:                 D.Rate   No. Observations:                  244\n",
      "Model:                 ARIMA(2, 1, 1)   Log Likelihood                -685.510\n",
      "Method:                       css-mle   S.D. of innovations              4.017\n",
      "Date:                Fri, 07 Feb 2020   AIC                           1381.020\n",
      "Time:                        15:53:31   BIC                           1398.505\n",
      "Sample:                             1   HQIC                          1388.062\n",
      "                                                                              \n",
      "================================================================================\n",
      "                   coef    std err          z      P>|z|      [0.025      0.975]\n",
      "--------------------------------------------------------------------------------\n",
      "const            0.1609      0.279      0.577      0.564      -0.386       0.707\n",
      "ar.L1.D.Rate    -0.5146      0.496     -1.037      0.301      -1.488       0.458\n",
      "ar.L2.D.Rate     0.0312      0.085      0.366      0.715      -0.136       0.199\n",
      "ma.L1.D.Rate     0.6087      0.492      1.238      0.217      -0.355       1.572\n",
      "                                    Roots                                    \n",
      "=============================================================================\n",
      "                  Real          Imaginary           Modulus         Frequency\n",
      "-----------------------------------------------------------------------------\n",
      "AR.1           -1.7562           +0.0000j            1.7562            0.5000\n",
      "AR.2           18.2332           +0.0000j           18.2332            0.0000\n",
      "MA.1           -1.6428           +0.0000j            1.6428            0.5000\n",
      "-----------------------------------------------------------------------------\n"
     ]
    }
   ],
   "source": [
    "model_3 = ARIMA(df_train, order=(2,1,1))\n",
    "model_3_fit = model_3.fit(trend='c',full_output=True, disp=1)\n",
    "print(model_3_fit.summary())"
   ]
  },
  {
   "cell_type": "code",
   "execution_count": 8,
   "metadata": {},
   "outputs": [
    {
     "name": "stderr",
     "output_type": "stream",
     "text": [
      "C:\\Users\\sm.woo\\Anaconda3\\lib\\site-packages\\statsmodels\\tsa\\base\\tsa_model.py:219: ValueWarning: A date index has been provided, but it has no associated frequency information and so will be ignored when e.g. forecasting.\n",
      "  ' ignored when e.g. forecasting.', ValueWarning)\n",
      "C:\\Users\\sm.woo\\Anaconda3\\lib\\site-packages\\statsmodels\\tsa\\base\\tsa_model.py:219: ValueWarning: A date index has been provided, but it has no associated frequency information and so will be ignored when e.g. forecasting.\n",
      "  ' ignored when e.g. forecasting.', ValueWarning)\n"
     ]
    },
    {
     "name": "stdout",
     "output_type": "stream",
     "text": [
      "                             ARIMA Model Results                              \n",
      "==============================================================================\n",
      "Dep. Variable:                 D.Rate   No. Observations:                  244\n",
      "Model:                 ARIMA(2, 1, 1)   Log Likelihood                -685.676\n",
      "Method:                       css-mle   S.D. of innovations              4.020\n",
      "Date:                Fri, 07 Feb 2020   AIC                           1379.352\n",
      "Time:                        15:53:32   BIC                           1393.341\n",
      "Sample:                             1   HQIC                          1384.986\n",
      "                                                                              \n",
      "================================================================================\n",
      "                   coef    std err          z      P>|z|      [0.025      0.975]\n",
      "--------------------------------------------------------------------------------\n",
      "ar.L1.D.Rate    -0.5146      0.498     -1.033      0.303      -1.491       0.462\n",
      "ar.L2.D.Rate     0.0327      0.086      0.380      0.704      -0.136       0.201\n",
      "ma.L1.D.Rate     0.6102      0.493      1.237      0.217      -0.357       1.577\n",
      "                                    Roots                                    \n",
      "=============================================================================\n",
      "                  Real          Imaginary           Modulus         Frequency\n",
      "-----------------------------------------------------------------------------\n",
      "AR.1           -1.7491           +0.0000j            1.7491            0.5000\n",
      "AR.2           17.4971           +0.0000j           17.4971            0.0000\n",
      "MA.1           -1.6389           +0.0000j            1.6389            0.5000\n",
      "-----------------------------------------------------------------------------\n"
     ]
    }
   ],
   "source": [
    "model_4 = ARIMA(df_train, order=(2,1,1))\n",
    "model_4_fit = model_4.fit(trend='nc',full_output=True, disp=1)\n",
    "print(model_4_fit.summary())"
   ]
  },
  {
   "cell_type": "code",
   "execution_count": 9,
   "metadata": {},
   "outputs": [
    {
     "name": "stderr",
     "output_type": "stream",
     "text": [
      "C:\\Users\\sm.woo\\Anaconda3\\lib\\site-packages\\statsmodels\\tsa\\base\\tsa_model.py:219: ValueWarning: A date index has been provided, but it has no associated frequency information and so will be ignored when e.g. forecasting.\n",
      "  ' ignored when e.g. forecasting.', ValueWarning)\n",
      "C:\\Users\\sm.woo\\Anaconda3\\lib\\site-packages\\statsmodels\\tsa\\base\\tsa_model.py:219: ValueWarning: A date index has been provided, but it has no associated frequency information and so will be ignored when e.g. forecasting.\n",
      "  ' ignored when e.g. forecasting.', ValueWarning)\n"
     ]
    },
    {
     "name": "stdout",
     "output_type": "stream",
     "text": [
      "                             ARIMA Model Results                              \n",
      "==============================================================================\n",
      "Dep. Variable:                 D.Rate   No. Observations:                  244\n",
      "Model:                 ARIMA(2, 1, 2)   Log Likelihood                -684.579\n",
      "Method:                       css-mle   S.D. of innovations              3.999\n",
      "Date:                Fri, 07 Feb 2020   AIC                           1379.158\n",
      "Time:                        15:53:36   BIC                           1396.644\n",
      "Sample:                             1   HQIC                          1386.200\n",
      "                                                                              \n",
      "================================================================================\n",
      "                   coef    std err          z      P>|z|      [0.025      0.975]\n",
      "--------------------------------------------------------------------------------\n",
      "ar.L1.D.Rate    -1.7391      0.183     -9.493      0.000      -2.098      -1.380\n",
      "ar.L2.D.Rate    -0.8522      0.141     -6.049      0.000      -1.128      -0.576\n",
      "ma.L1.D.Rate     1.8148      0.149     12.181      0.000       1.523       2.107\n",
      "ma.L2.D.Rate     0.9275      0.118      7.846      0.000       0.696       1.159\n",
      "                                    Roots                                    \n",
      "=============================================================================\n",
      "                  Real          Imaginary           Modulus         Frequency\n",
      "-----------------------------------------------------------------------------\n",
      "AR.1           -1.0204           -0.3637j            1.0833           -0.4455\n",
      "AR.2           -1.0204           +0.3637j            1.0833            0.4455\n",
      "MA.1           -0.9784           -0.3478j            1.0384           -0.4456\n",
      "MA.2           -0.9784           +0.3478j            1.0384            0.4456\n",
      "-----------------------------------------------------------------------------\n"
     ]
    }
   ],
   "source": [
    "model_5 = ARIMA(df_train, order=(2,1,2))\n",
    "model_5_fit = model_5.fit(trend='nc',full_output=True, disp=1)\n",
    "print(model_5_fit.summary())"
   ]
  },
  {
   "cell_type": "code",
   "execution_count": 10,
   "metadata": {},
   "outputs": [
    {
     "name": "stderr",
     "output_type": "stream",
     "text": [
      "C:\\Users\\sm.woo\\Anaconda3\\lib\\site-packages\\statsmodels\\tsa\\base\\tsa_model.py:219: ValueWarning: A date index has been provided, but it has no associated frequency information and so will be ignored when e.g. forecasting.\n",
      "  ' ignored when e.g. forecasting.', ValueWarning)\n",
      "C:\\Users\\sm.woo\\Anaconda3\\lib\\site-packages\\statsmodels\\tsa\\base\\tsa_model.py:219: ValueWarning: A date index has been provided, but it has no associated frequency information and so will be ignored when e.g. forecasting.\n",
      "  ' ignored when e.g. forecasting.', ValueWarning)\n"
     ]
    },
    {
     "name": "stdout",
     "output_type": "stream",
     "text": [
      "                             ARIMA Model Results                              \n",
      "==============================================================================\n",
      "Dep. Variable:                 D.Rate   No. Observations:                  244\n",
      "Model:                 ARIMA(2, 1, 2)   Log Likelihood                -684.129\n",
      "Method:                       css-mle   S.D. of innovations              3.965\n",
      "Date:                Fri, 07 Feb 2020   AIC                           1380.258\n",
      "Time:                        15:53:41   BIC                           1401.241\n",
      "Sample:                             1   HQIC                          1388.709\n",
      "                                                                              \n",
      "================================================================================\n",
      "                   coef    std err          z      P>|z|      [0.025      0.975]\n",
      "--------------------------------------------------------------------------------\n",
      "const            0.1596      0.264      0.604      0.546      -0.358       0.677\n",
      "ar.L1.D.Rate    -1.7731      0.035    -51.215      0.000      -1.841      -1.705\n",
      "ar.L2.D.Rate    -0.9269      0.032    -28.749      0.000      -0.990      -0.864\n",
      "ma.L1.D.Rate     1.8510        nan        nan        nan         nan         nan\n",
      "ma.L2.D.Rate     1.0000        nan        nan        nan         nan         nan\n",
      "                                    Roots                                    \n",
      "=============================================================================\n",
      "                  Real          Imaginary           Modulus         Frequency\n",
      "-----------------------------------------------------------------------------\n",
      "AR.1           -0.9564           -0.4050j            1.0387           -0.4363\n",
      "AR.2           -0.9564           +0.4050j            1.0387            0.4363\n",
      "MA.1           -0.9255           -0.3788j            1.0000           -0.4382\n",
      "MA.2           -0.9255           +0.3788j            1.0000            0.4382\n",
      "-----------------------------------------------------------------------------\n"
     ]
    },
    {
     "name": "stderr",
     "output_type": "stream",
     "text": [
      "C:\\Users\\sm.woo\\Anaconda3\\lib\\site-packages\\statsmodels\\base\\model.py:492: HessianInversionWarning: Inverting hessian failed, no bse or cov_params available\n",
      "  'available', HessianInversionWarning)\n",
      "C:\\Users\\sm.woo\\Anaconda3\\lib\\site-packages\\statsmodels\\tsa\\arima_model.py:1441: RuntimeWarning: invalid value encountered in sqrt\n",
      "  return np.sqrt(np.diag(-inv(hess)))\n",
      "C:\\Users\\sm.woo\\Anaconda3\\lib\\site-packages\\scipy\\stats\\_distn_infrastructure.py:901: RuntimeWarning: invalid value encountered in greater\n",
      "  return (a < x) & (x < b)\n",
      "C:\\Users\\sm.woo\\Anaconda3\\lib\\site-packages\\scipy\\stats\\_distn_infrastructure.py:901: RuntimeWarning: invalid value encountered in less\n",
      "  return (a < x) & (x < b)\n",
      "C:\\Users\\sm.woo\\Anaconda3\\lib\\site-packages\\scipy\\stats\\_distn_infrastructure.py:1892: RuntimeWarning: invalid value encountered in less_equal\n",
      "  cond2 = cond0 & (x <= _a)\n"
     ]
    }
   ],
   "source": [
    "model_6 = ARIMA(df_train, order=(2,1,2))\n",
    "model_6_fit = model_6.fit(trend='c',full_output=True, disp=1)\n",
    "print(model_6_fit.summary())"
   ]
  },
  {
   "cell_type": "code",
   "execution_count": 11,
   "metadata": {},
   "outputs": [
    {
     "name": "stderr",
     "output_type": "stream",
     "text": [
      "C:\\Users\\sm.woo\\Anaconda3\\lib\\site-packages\\statsmodels\\tsa\\base\\tsa_model.py:219: ValueWarning: A date index has been provided, but it has no associated frequency information and so will be ignored when e.g. forecasting.\n",
      "  ' ignored when e.g. forecasting.', ValueWarning)\n",
      "C:\\Users\\sm.woo\\Anaconda3\\lib\\site-packages\\statsmodels\\tsa\\base\\tsa_model.py:219: ValueWarning: A date index has been provided, but it has no associated frequency information and so will be ignored when e.g. forecasting.\n",
      "  ' ignored when e.g. forecasting.', ValueWarning)\n"
     ]
    },
    {
     "name": "stdout",
     "output_type": "stream",
     "text": [
      "                             ARIMA Model Results                              \n",
      "==============================================================================\n",
      "Dep. Variable:                 D.Rate   No. Observations:                  244\n",
      "Model:                 ARIMA(4, 1, 3)   Log Likelihood                -681.757\n",
      "Method:                       css-mle   S.D. of innovations              3.923\n",
      "Date:                Fri, 07 Feb 2020   AIC                           1379.515\n",
      "Time:                        15:53:47   BIC                           1407.492\n",
      "Sample:                             1   HQIC                          1390.783\n",
      "                                                                              \n",
      "================================================================================\n",
      "                   coef    std err          z      P>|z|      [0.025      0.975]\n",
      "--------------------------------------------------------------------------------\n",
      "ar.L1.D.Rate     0.2589      0.087      2.979      0.003       0.089       0.429\n",
      "ar.L2.D.Rate    -0.1837      0.064     -2.869      0.004      -0.309      -0.058\n",
      "ar.L3.D.Rate     0.9726      0.071     13.715      0.000       0.834       1.112\n",
      "ar.L4.D.Rate    -0.1436      0.065     -2.217      0.028      -0.271      -0.017\n",
      "ma.L1.D.Rate    -0.1522      0.064     -2.373      0.018      -0.278      -0.026\n",
      "ma.L2.D.Rate     0.1908      0.055      3.480      0.001       0.083       0.298\n",
      "ma.L3.D.Rate    -0.9788      0.065    -14.972      0.000      -1.107      -0.851\n",
      "                                    Roots                                    \n",
      "=============================================================================\n",
      "                  Real          Imaginary           Modulus         Frequency\n",
      "-----------------------------------------------------------------------------\n",
      "AR.1           -0.4323           -0.9093j            1.0068           -0.3206\n",
      "AR.2           -0.4323           +0.9093j            1.0068            0.3206\n",
      "AR.3            1.0414           -0.0000j            1.0414           -0.0000\n",
      "AR.4            6.5965           -0.0000j            6.5965           -0.0000\n",
      "MA.1           -0.4133           -0.9106j            1.0000           -0.3178\n",
      "MA.2           -0.4133           +0.9106j            1.0000            0.3178\n",
      "MA.3            1.0216           -0.0000j            1.0216           -0.0000\n",
      "-----------------------------------------------------------------------------\n"
     ]
    }
   ],
   "source": [
    "model_9 = ARIMA(df_train, order=(4,1,3))\n",
    "model_9_fit = model_9.fit(trend='nc',full_output=True, disp=1)\n",
    "print(model_9_fit.summary())"
   ]
  },
  {
   "cell_type": "code",
   "execution_count": 12,
   "metadata": {},
   "outputs": [
    {
     "name": "stderr",
     "output_type": "stream",
     "text": [
      "C:\\Users\\sm.woo\\Anaconda3\\lib\\site-packages\\statsmodels\\tsa\\base\\tsa_model.py:219: ValueWarning: A date index has been provided, but it has no associated frequency information and so will be ignored when e.g. forecasting.\n",
      "  ' ignored when e.g. forecasting.', ValueWarning)\n",
      "C:\\Users\\sm.woo\\Anaconda3\\lib\\site-packages\\statsmodels\\tsa\\base\\tsa_model.py:219: ValueWarning: A date index has been provided, but it has no associated frequency information and so will be ignored when e.g. forecasting.\n",
      "  ' ignored when e.g. forecasting.', ValueWarning)\n",
      "C:\\Users\\sm.woo\\Anaconda3\\lib\\site-packages\\statsmodels\\base\\model.py:492: HessianInversionWarning: Inverting hessian failed, no bse or cov_params available\n",
      "  'available', HessianInversionWarning)\n"
     ]
    },
    {
     "name": "stdout",
     "output_type": "stream",
     "text": [
      "                             ARIMA Model Results                              \n",
      "==============================================================================\n",
      "Dep. Variable:                 D.Rate   No. Observations:                  244\n",
      "Model:                 ARIMA(4, 1, 3)   Log Likelihood                -682.705\n",
      "Method:                       css-mle   S.D. of innovations              3.962\n",
      "Date:                Fri, 07 Feb 2020   AIC                           1383.409\n",
      "Time:                        15:53:54   BIC                           1414.884\n",
      "Sample:                             1   HQIC                          1396.085\n",
      "                                                                              \n",
      "================================================================================\n",
      "                   coef    std err          z      P>|z|      [0.025      0.975]\n",
      "--------------------------------------------------------------------------------\n",
      "const            0.1494      0.200      0.745      0.457      -0.244       0.542\n",
      "ar.L1.D.Rate     0.2083        nan        nan        nan         nan         nan\n",
      "ar.L2.D.Rate    -0.2300        nan        nan        nan         nan         nan\n",
      "ar.L3.D.Rate     0.8747        nan        nan        nan         nan         nan\n",
      "ar.L4.D.Rate    -0.1732      0.064     -2.723      0.007      -0.298      -0.049\n",
      "ma.L1.D.Rate    -0.1129        nan        nan        nan         nan         nan\n",
      "ma.L2.D.Rate     0.2352        nan        nan        nan         nan         nan\n",
      "ma.L3.D.Rate    -0.8665        nan        nan        nan         nan         nan\n",
      "                                    Roots                                    \n",
      "=============================================================================\n",
      "                  Real          Imaginary           Modulus         Frequency\n",
      "-----------------------------------------------------------------------------\n",
      "AR.1           -0.4445           -0.9159j            1.0180           -0.3219\n",
      "AR.2           -0.4445           +0.9159j            1.0180            0.3219\n",
      "AR.3            1.1676           -0.0000j            1.1676           -0.0000\n",
      "AR.4            4.7714           -0.0000j            4.7714           -0.0000\n",
      "MA.1           -0.4156           -0.9349j            1.0231           -0.3166\n",
      "MA.2           -0.4156           +0.9349j            1.0231            0.3166\n",
      "MA.3            1.1026           -0.0000j            1.1026           -0.0000\n",
      "-----------------------------------------------------------------------------\n"
     ]
    }
   ],
   "source": [
    "model_10 = ARIMA(df_train, order=(4,1,3))\n",
    "model_10_fit = model_10.fit(trend='c',full_output=True, disp=1)\n",
    "print(model_10_fit.summary())"
   ]
  },
  {
   "cell_type": "code",
   "execution_count": 13,
   "metadata": {},
   "outputs": [
    {
     "name": "stderr",
     "output_type": "stream",
     "text": [
      "C:\\Users\\sm.woo\\Anaconda3\\lib\\site-packages\\statsmodels\\tsa\\base\\tsa_model.py:219: ValueWarning: A date index has been provided, but it has no associated frequency information and so will be ignored when e.g. forecasting.\n",
      "  ' ignored when e.g. forecasting.', ValueWarning)\n",
      "C:\\Users\\sm.woo\\Anaconda3\\lib\\site-packages\\statsmodels\\tsa\\base\\tsa_model.py:219: ValueWarning: A date index has been provided, but it has no associated frequency information and so will be ignored when e.g. forecasting.\n",
      "  ' ignored when e.g. forecasting.', ValueWarning)\n"
     ]
    },
    {
     "name": "stdout",
     "output_type": "stream",
     "text": [
      "                             ARIMA Model Results                              \n",
      "==============================================================================\n",
      "Dep. Variable:                 D.Rate   No. Observations:                  244\n",
      "Model:                 ARIMA(4, 1, 4)   Log Likelihood                -684.195\n",
      "Method:                       css-mle   S.D. of innovations              3.956\n",
      "Date:                Fri, 07 Feb 2020   AIC                           1386.390\n",
      "Time:                        15:54:02   BIC                           1417.864\n",
      "Sample:                             1   HQIC                          1399.066\n",
      "                                                                              \n",
      "================================================================================\n",
      "                   coef    std err          z      P>|z|      [0.025      0.975]\n",
      "--------------------------------------------------------------------------------\n",
      "ar.L1.D.Rate    -0.1483      0.023     -6.410      0.000      -0.194      -0.103\n",
      "ar.L2.D.Rate     0.1133      0.028      4.054      0.000       0.059       0.168\n",
      "ar.L3.D.Rate    -0.1338      0.022     -5.956      0.000      -0.178      -0.090\n",
      "ar.L4.D.Rate    -0.9831      0.018    -54.879      0.000      -1.018      -0.948\n",
      "ma.L1.D.Rate     0.1653      0.030      5.589      0.000       0.107       0.223\n",
      "ma.L2.D.Rate    -0.0961      0.028     -3.419      0.001      -0.151      -0.041\n",
      "ma.L3.D.Rate     0.1653      0.029      5.648      0.000       0.108       0.223\n",
      "ma.L4.D.Rate     1.0000      0.030     33.441      0.000       0.941       1.059\n",
      "                                    Roots                                    \n",
      "=============================================================================\n",
      "                  Real          Imaginary           Modulus         Frequency\n",
      "-----------------------------------------------------------------------------\n",
      "AR.1           -0.7649           -0.6471j            1.0020           -0.3882\n",
      "AR.2           -0.7649           +0.6471j            1.0020            0.3882\n",
      "AR.3            0.6969           -0.7263j            1.0066           -0.1283\n",
      "AR.4            0.6969           +0.7263j            1.0066            0.1283\n",
      "MA.1           -0.7664           -0.6424j            1.0000           -0.3890\n",
      "MA.2           -0.7664           +0.6424j            1.0000            0.3890\n",
      "MA.3            0.6837           -0.7297j            1.0000           -0.1302\n",
      "MA.4            0.6837           +0.7297j            1.0000            0.1302\n",
      "-----------------------------------------------------------------------------\n"
     ]
    }
   ],
   "source": [
    "model_11 = ARIMA(df_train, order=(4,1,4))\n",
    "model_11_fit = model_11.fit(trend='nc',full_output=True, disp=1)\n",
    "print(model_11_fit.summary())"
   ]
  },
  {
   "cell_type": "code",
   "execution_count": 14,
   "metadata": {},
   "outputs": [
    {
     "name": "stderr",
     "output_type": "stream",
     "text": [
      "C:\\Users\\sm.woo\\Anaconda3\\lib\\site-packages\\statsmodels\\tsa\\base\\tsa_model.py:219: ValueWarning: A date index has been provided, but it has no associated frequency information and so will be ignored when e.g. forecasting.\n",
      "  ' ignored when e.g. forecasting.', ValueWarning)\n",
      "C:\\Users\\sm.woo\\Anaconda3\\lib\\site-packages\\statsmodels\\tsa\\base\\tsa_model.py:219: ValueWarning: A date index has been provided, but it has no associated frequency information and so will be ignored when e.g. forecasting.\n",
      "  ' ignored when e.g. forecasting.', ValueWarning)\n"
     ]
    },
    {
     "name": "stdout",
     "output_type": "stream",
     "text": [
      "                             ARIMA Model Results                              \n",
      "==============================================================================\n",
      "Dep. Variable:                 D.Rate   No. Observations:                  244\n",
      "Model:                 ARIMA(4, 1, 4)   Log Likelihood                -684.005\n",
      "Method:                       css-mle   S.D. of innovations              3.953\n",
      "Date:                Fri, 07 Feb 2020   AIC                           1388.010\n",
      "Time:                        15:54:13   BIC                           1422.981\n",
      "Sample:                             1   HQIC                          1402.094\n",
      "                                                                              \n",
      "================================================================================\n",
      "                   coef    std err          z      P>|z|      [0.025      0.975]\n",
      "--------------------------------------------------------------------------------\n",
      "const            0.1621      0.263      0.617      0.538      -0.353       0.677\n",
      "ar.L1.D.Rate    -0.1483      0.023     -6.420      0.000      -0.194      -0.103\n",
      "ar.L2.D.Rate     0.1133      0.028      4.057      0.000       0.059       0.168\n",
      "ar.L3.D.Rate    -0.1339      0.022     -5.957      0.000      -0.178      -0.090\n",
      "ar.L4.D.Rate    -0.9832      0.018    -55.039      0.000      -1.018      -0.948\n",
      "ma.L1.D.Rate     0.1653      0.030      5.583      0.000       0.107       0.223\n",
      "ma.L2.D.Rate    -0.0962      0.028     -3.418      0.001      -0.151      -0.041\n",
      "ma.L3.D.Rate     0.1653      0.029      5.639      0.000       0.108       0.223\n",
      "ma.L4.D.Rate     1.0000      0.030     33.418      0.000       0.941       1.059\n",
      "                                    Roots                                    \n",
      "=============================================================================\n",
      "                  Real          Imaginary           Modulus         Frequency\n",
      "-----------------------------------------------------------------------------\n",
      "AR.1           -0.7650           -0.6471j            1.0019           -0.3883\n",
      "AR.2           -0.7650           +0.6471j            1.0019            0.3883\n",
      "AR.3            0.6969           -0.7263j            1.0065           -0.1283\n",
      "AR.4            0.6969           +0.7263j            1.0065            0.1283\n",
      "MA.1           -0.7664           -0.6423j            1.0000           -0.3890\n",
      "MA.2           -0.7664           +0.6423j            1.0000            0.3890\n",
      "MA.3            0.6838           -0.7297j            1.0000           -0.1302\n",
      "MA.4            0.6838           +0.7297j            1.0000            0.1302\n",
      "-----------------------------------------------------------------------------\n"
     ]
    }
   ],
   "source": [
    "model_12 = ARIMA(df_train, order=(4,1,4))\n",
    "model_12_fit = model_12.fit(trend='c',full_output=True, disp=1)\n",
    "print(model_12_fit.summary())"
   ]
  },
  {
   "cell_type": "code",
   "execution_count": 15,
   "metadata": {},
   "outputs": [
    {
     "name": "stderr",
     "output_type": "stream",
     "text": [
      "C:\\Users\\sm.woo\\Anaconda3\\lib\\site-packages\\statsmodels\\tsa\\base\\tsa_model.py:219: ValueWarning: A date index has been provided, but it has no associated frequency information and so will be ignored when e.g. forecasting.\n",
      "  ' ignored when e.g. forecasting.', ValueWarning)\n",
      "C:\\Users\\sm.woo\\Anaconda3\\lib\\site-packages\\statsmodels\\tsa\\base\\tsa_model.py:219: ValueWarning: A date index has been provided, but it has no associated frequency information and so will be ignored when e.g. forecasting.\n",
      "  ' ignored when e.g. forecasting.', ValueWarning)\n",
      "C:\\Users\\sm.woo\\Anaconda3\\lib\\site-packages\\statsmodels\\base\\model.py:492: HessianInversionWarning: Inverting hessian failed, no bse or cov_params available\n",
      "  'available', HessianInversionWarning)\n"
     ]
    },
    {
     "name": "stdout",
     "output_type": "stream",
     "text": [
      "                             ARIMA Model Results                              \n",
      "==============================================================================\n",
      "Dep. Variable:                 D.Rate   No. Observations:                  244\n",
      "Model:                 ARIMA(5, 1, 4)   Log Likelihood                -678.389\n",
      "Method:                       css-mle   S.D. of innovations              3.838\n",
      "Date:                Fri, 07 Feb 2020   AIC                           1378.778\n",
      "Time:                        15:54:31   BIC                           1417.247\n",
      "Sample:                             1   HQIC                          1394.271\n",
      "                                                                              \n",
      "================================================================================\n",
      "                   coef    std err          z      P>|z|      [0.025      0.975]\n",
      "--------------------------------------------------------------------------------\n",
      "const            0.1535      0.280      0.549      0.584      -0.395       0.702\n",
      "ar.L1.D.Rate     0.1635      0.070      2.337      0.020       0.026       0.301\n",
      "ar.L2.D.Rate    -1.1736      0.022    -53.757      0.000      -1.216      -1.131\n",
      "ar.L3.D.Rate     0.1857      0.077      2.403      0.017       0.034       0.337\n",
      "ar.L4.D.Rate    -0.9713      0.027    -35.618      0.000      -1.025      -0.918\n",
      "ar.L5.D.Rate     0.0776      0.066      1.172      0.243      -0.052       0.207\n",
      "ma.L1.D.Rate    -0.0778      0.030     -2.609      0.010      -0.136      -0.019\n",
      "ma.L2.D.Rate     1.2503      0.028     43.974      0.000       1.195       1.306\n",
      "ma.L3.D.Rate    -0.0777      0.030     -2.605      0.010      -0.136      -0.019\n",
      "ma.L4.D.Rate     0.9999      0.026     38.017      0.000       0.948       1.051\n",
      "                                    Roots                                    \n",
      "=============================================================================\n",
      "                  Real          Imaginary           Modulus         Frequency\n",
      "-----------------------------------------------------------------------------\n",
      "AR.1           -0.4314           -0.9091j            1.0063           -0.3205\n",
      "AR.2           -0.4314           +0.9091j            1.0063            0.3205\n",
      "AR.3            0.4790           -0.8917j            1.0122           -0.1715\n",
      "AR.4            0.4790           +0.8917j            1.0122            0.1715\n",
      "AR.5           12.4259           -0.0000j           12.4259           -0.0000\n",
      "MA.1            0.4528           -0.8916j            1.0000           -0.1752\n",
      "MA.2            0.4528           +0.8916j            1.0000            0.1752\n",
      "MA.3           -0.4139           -0.9104j            1.0000           -0.3179\n",
      "MA.4           -0.4139           +0.9104j            1.0000            0.3179\n",
      "-----------------------------------------------------------------------------\n"
     ]
    }
   ],
   "source": [
    "model_13 = ARIMA(df_train, order=(5,1,4))\n",
    "model_13_fit = model_13.fit(trend='c',full_output=True, disp=1)\n",
    "print(model_13_fit.summary())"
   ]
  },
  {
   "cell_type": "code",
   "execution_count": 16,
   "metadata": {},
   "outputs": [
    {
     "name": "stderr",
     "output_type": "stream",
     "text": [
      "C:\\Users\\sm.woo\\Anaconda3\\lib\\site-packages\\statsmodels\\tsa\\base\\tsa_model.py:219: ValueWarning: A date index has been provided, but it has no associated frequency information and so will be ignored when e.g. forecasting.\n",
      "  ' ignored when e.g. forecasting.', ValueWarning)\n",
      "C:\\Users\\sm.woo\\Anaconda3\\lib\\site-packages\\statsmodels\\tsa\\base\\tsa_model.py:219: ValueWarning: A date index has been provided, but it has no associated frequency information and so will be ignored when e.g. forecasting.\n",
      "  ' ignored when e.g. forecasting.', ValueWarning)\n",
      "C:\\Users\\sm.woo\\Anaconda3\\lib\\site-packages\\statsmodels\\tsa\\tsatools.py:668: RuntimeWarning: invalid value encountered in true_divide\n",
      "  newparams = ((1-np.exp(-params))/(1+np.exp(-params))).copy()\n",
      "C:\\Users\\sm.woo\\Anaconda3\\lib\\site-packages\\statsmodels\\tsa\\tsatools.py:669: RuntimeWarning: invalid value encountered in true_divide\n",
      "  tmp = ((1-np.exp(-params))/(1+np.exp(-params))).copy()\n"
     ]
    },
    {
     "name": "stdout",
     "output_type": "stream",
     "text": [
      "                             ARIMA Model Results                              \n",
      "==============================================================================\n",
      "Dep. Variable:                 D.Rate   No. Observations:                  244\n",
      "Model:                 ARIMA(5, 1, 4)   Log Likelihood                -678.539\n",
      "Method:                       css-mle   S.D. of innovations              3.840\n",
      "Date:                Fri, 07 Feb 2020   AIC                           1377.078\n",
      "Time:                        15:54:44   BIC                           1412.050\n",
      "Sample:                             1   HQIC                          1391.163\n",
      "                                                                              \n",
      "================================================================================\n",
      "                   coef    std err          z      P>|z|      [0.025      0.975]\n",
      "--------------------------------------------------------------------------------\n",
      "ar.L1.D.Rate     0.1646      0.070      2.355      0.019       0.028       0.302\n",
      "ar.L2.D.Rate    -1.1735      0.022    -53.683      0.000      -1.216      -1.131\n",
      "ar.L3.D.Rate     0.1873      0.077      2.424      0.016       0.036       0.339\n",
      "ar.L4.D.Rate    -0.9712      0.027    -35.622      0.000      -1.025      -0.918\n",
      "ar.L5.D.Rate     0.0788      0.066      1.190      0.235      -0.051       0.208\n",
      "ma.L1.D.Rate    -0.0775      0.030     -2.610      0.010      -0.136      -0.019\n",
      "ma.L2.D.Rate     1.2505      0.028     44.113      0.000       1.195       1.306\n",
      "ma.L3.D.Rate    -0.0775      0.030     -2.608      0.010      -0.136      -0.019\n",
      "ma.L4.D.Rate     1.0000      0.026     38.053      0.000       0.948       1.052\n",
      "                                    Roots                                    \n",
      "=============================================================================\n",
      "                  Real          Imaginary           Modulus         Frequency\n",
      "-----------------------------------------------------------------------------\n",
      "AR.1           -0.4314           -0.9091j            1.0062           -0.3205\n",
      "AR.2           -0.4314           +0.9091j            1.0062            0.3205\n",
      "AR.3            0.4791           -0.8918j            1.0123           -0.1715\n",
      "AR.4            0.4791           +0.8918j            1.0123            0.1715\n",
      "AR.5           12.2325           -0.0000j           12.2325           -0.0000\n",
      "MA.1            0.4527           -0.8917j            1.0000           -0.1752\n",
      "MA.2            0.4527           +0.8917j            1.0000            0.1752\n",
      "MA.3           -0.4139           -0.9103j            1.0000           -0.3179\n",
      "MA.4           -0.4139           +0.9103j            1.0000            0.3179\n",
      "-----------------------------------------------------------------------------\n"
     ]
    }
   ],
   "source": [
    "model_14 = ARIMA(df_train, order=(5,1,4))\n",
    "model_14_fit = model_14.fit(trend='nc',full_output=True, disp=1)\n",
    "print(model_14_fit.summary())"
   ]
  },
  {
   "cell_type": "code",
   "execution_count": 17,
   "metadata": {},
   "outputs": [
    {
     "name": "stderr",
     "output_type": "stream",
     "text": [
      "C:\\Users\\sm.woo\\Anaconda3\\lib\\site-packages\\statsmodels\\tsa\\base\\tsa_model.py:219: ValueWarning: A date index has been provided, but it has no associated frequency information and so will be ignored when e.g. forecasting.\n",
      "  ' ignored when e.g. forecasting.', ValueWarning)\n",
      "C:\\Users\\sm.woo\\Anaconda3\\lib\\site-packages\\statsmodels\\tsa\\base\\tsa_model.py:219: ValueWarning: A date index has been provided, but it has no associated frequency information and so will be ignored when e.g. forecasting.\n",
      "  ' ignored when e.g. forecasting.', ValueWarning)\n"
     ]
    },
    {
     "name": "stdout",
     "output_type": "stream",
     "text": [
      "                             ARIMA Model Results                              \n",
      "==============================================================================\n",
      "Dep. Variable:                 D.Rate   No. Observations:                  244\n",
      "Model:                 ARIMA(5, 1, 3)   Log Likelihood                -682.738\n",
      "Method:                       css-mle   S.D. of innovations              3.970\n",
      "Date:                Fri, 07 Feb 2020   AIC                           1383.476\n",
      "Time:                        15:54:49   BIC                           1414.950\n",
      "Sample:                             1   HQIC                          1396.152\n",
      "                                                                              \n",
      "================================================================================\n",
      "                   coef    std err          z      P>|z|      [0.025      0.975]\n",
      "--------------------------------------------------------------------------------\n",
      "ar.L1.D.Rate    -0.5807      0.513     -1.132      0.259      -1.586       0.425\n",
      "ar.L2.D.Rate     0.4829      0.308      1.566      0.119      -0.121       1.087\n",
      "ar.L3.D.Rate     0.3347      0.421      0.796      0.427      -0.490       1.159\n",
      "ar.L4.D.Rate    -0.1170      0.083     -1.409      0.160      -0.280       0.046\n",
      "ar.L5.D.Rate    -0.1516      0.067     -2.270      0.024      -0.282      -0.021\n",
      "ma.L1.D.Rate     0.6729      0.522      1.289      0.199      -0.351       1.696\n",
      "ma.L2.D.Rate    -0.4266      0.313     -1.365      0.174      -1.039       0.186\n",
      "ma.L3.D.Rate    -0.3387      0.456     -0.743      0.458      -1.232       0.555\n",
      "                                    Roots                                    \n",
      "=============================================================================\n",
      "                  Real          Imaginary           Modulus         Frequency\n",
      "-----------------------------------------------------------------------------\n",
      "AR.1            1.3710           -0.6363j            1.5115           -0.0692\n",
      "AR.2            1.3710           +0.6363j            1.5115            0.0692\n",
      "AR.3           -1.2470           -0.0000j            1.2470           -0.5000\n",
      "AR.4           -1.1336           -1.0153j            1.5218           -0.3838\n",
      "AR.5           -1.1336           +1.0153j            1.5218            0.3838\n",
      "MA.1            1.4668           -0.0000j            1.4668           -0.0000\n",
      "MA.2           -1.3632           -0.3928j            1.4186           -0.4553\n",
      "MA.3           -1.3632           +0.3928j            1.4186            0.4553\n",
      "-----------------------------------------------------------------------------\n"
     ]
    }
   ],
   "source": [
    "model_15 = ARIMA(df_train, order=(5,1,3))\n",
    "model_15_fit = model_15.fit(trend='nc',full_output=True, disp=1)\n",
    "print(model_15_fit.summary())"
   ]
  },
  {
   "cell_type": "code",
   "execution_count": 18,
   "metadata": {},
   "outputs": [
    {
     "name": "stderr",
     "output_type": "stream",
     "text": [
      "C:\\Users\\sm.woo\\Anaconda3\\lib\\site-packages\\statsmodels\\tsa\\base\\tsa_model.py:219: ValueWarning: A date index has been provided, but it has no associated frequency information and so will be ignored when e.g. forecasting.\n",
      "  ' ignored when e.g. forecasting.', ValueWarning)\n",
      "C:\\Users\\sm.woo\\Anaconda3\\lib\\site-packages\\statsmodels\\tsa\\base\\tsa_model.py:219: ValueWarning: A date index has been provided, but it has no associated frequency information and so will be ignored when e.g. forecasting.\n",
      "  ' ignored when e.g. forecasting.', ValueWarning)\n"
     ]
    },
    {
     "name": "stdout",
     "output_type": "stream",
     "text": [
      "                             ARIMA Model Results                              \n",
      "==============================================================================\n",
      "Dep. Variable:                 D.Rate   No. Observations:                  244\n",
      "Model:                 ARIMA(5, 1, 3)   Log Likelihood                -682.425\n",
      "Method:                       css-mle   S.D. of innovations              3.965\n",
      "Date:                Fri, 07 Feb 2020   AIC                           1384.850\n",
      "Time:                        15:54:54   BIC                           1419.822\n",
      "Sample:                             1   HQIC                          1398.935\n",
      "                                                                              \n",
      "================================================================================\n",
      "                   coef    std err          z      P>|z|      [0.025      0.975]\n",
      "--------------------------------------------------------------------------------\n",
      "const            0.1760      0.218      0.807      0.420      -0.251       0.603\n",
      "ar.L1.D.Rate    -0.5639      0.510     -1.106      0.270      -1.563       0.435\n",
      "ar.L2.D.Rate     0.5111      0.288      1.774      0.077      -0.053       1.076\n",
      "ar.L3.D.Rate     0.3461      0.416      0.832      0.406      -0.469       1.161\n",
      "ar.L4.D.Rate    -0.1216      0.083     -1.458      0.146      -0.285       0.042\n",
      "ar.L5.D.Rate    -0.1538      0.067     -2.298      0.022      -0.285      -0.023\n",
      "ma.L1.D.Rate     0.6533      0.519      1.259      0.209      -0.364       1.671\n",
      "ma.L2.D.Rate    -0.4605      0.290     -1.587      0.114      -1.029       0.108\n",
      "ma.L3.D.Rate    -0.3558      0.452     -0.788      0.432      -1.241       0.529\n",
      "                                    Roots                                    \n",
      "=============================================================================\n",
      "                  Real          Imaginary           Modulus         Frequency\n",
      "-----------------------------------------------------------------------------\n",
      "AR.1            1.3689           -0.6092j            1.4983           -0.0666\n",
      "AR.2            1.3689           +0.6092j            1.4983            0.0666\n",
      "AR.3           -1.2501           -0.0000j            1.2501           -0.5000\n",
      "AR.4           -1.1392           -1.0094j            1.5221           -0.3846\n",
      "AR.5           -1.1392           +1.0094j            1.5221            0.3846\n",
      "MA.1            1.4130           -0.0000j            1.4130           -0.0000\n",
      "MA.2           -1.3536           -0.3960j            1.4104           -0.4547\n",
      "MA.3           -1.3536           +0.3960j            1.4104            0.4547\n",
      "-----------------------------------------------------------------------------\n"
     ]
    }
   ],
   "source": [
    "model_16 = ARIMA(df_train, order=(5,1,3))\n",
    "model_16_fit = model_16.fit(trend='c',full_output=True, disp=1)\n",
    "print(model_16_fit.summary())"
   ]
  },
  {
   "cell_type": "code",
   "execution_count": 19,
   "metadata": {},
   "outputs": [
    {
     "name": "stderr",
     "output_type": "stream",
     "text": [
      "C:\\Users\\sm.woo\\Anaconda3\\lib\\site-packages\\statsmodels\\tsa\\base\\tsa_model.py:219: ValueWarning: A date index has been provided, but it has no associated frequency information and so will be ignored when e.g. forecasting.\n",
      "  ' ignored when e.g. forecasting.', ValueWarning)\n",
      "C:\\Users\\sm.woo\\Anaconda3\\lib\\site-packages\\statsmodels\\tsa\\base\\tsa_model.py:219: ValueWarning: A date index has been provided, but it has no associated frequency information and so will be ignored when e.g. forecasting.\n",
      "  ' ignored when e.g. forecasting.', ValueWarning)\n"
     ]
    },
    {
     "name": "stdout",
     "output_type": "stream",
     "text": [
      "                             ARIMA Model Results                              \n",
      "==============================================================================\n",
      "Dep. Variable:                 D.Rate   No. Observations:                  244\n",
      "Model:                 ARIMA(5, 1, 2)   Log Likelihood                -681.509\n",
      "Method:                       css-mle   S.D. of innovations              3.920\n",
      "Date:                Fri, 07 Feb 2020   AIC                           1381.017\n",
      "Time:                        15:55:00   BIC                           1412.492\n",
      "Sample:                             1   HQIC                          1393.693\n",
      "                                                                              \n",
      "================================================================================\n",
      "                   coef    std err          z      P>|z|      [0.025      0.975]\n",
      "--------------------------------------------------------------------------------\n",
      "const            0.1609      0.282      0.570      0.569      -0.392       0.714\n",
      "ar.L1.D.Rate     0.7413      0.065     11.348      0.000       0.613       0.869\n",
      "ar.L2.D.Rate    -1.0095      0.080    -12.635      0.000      -1.166      -0.853\n",
      "ar.L3.D.Rate     0.1159      0.103      1.126      0.261      -0.086       0.318\n",
      "ar.L4.D.Rate    -0.0212      0.081     -0.261      0.794      -0.180       0.138\n",
      "ar.L5.D.Rate    -0.0118      0.065     -0.182      0.856      -0.139       0.116\n",
      "ma.L1.D.Rate    -0.6666      0.015    -43.401      0.000      -0.697      -0.636\n",
      "ma.L2.D.Rate     0.9999      0.022     45.412      0.000       0.957       1.043\n",
      "                                    Roots                                    \n",
      "=============================================================================\n",
      "                  Real          Imaginary           Modulus         Frequency\n",
      "-----------------------------------------------------------------------------\n",
      "AR.1            0.3440           -0.9950j            1.0528           -0.1970\n",
      "AR.2            0.3440           +0.9950j            1.0528            0.1970\n",
      "AR.3            1.7950           -3.0587j            3.5465           -0.1655\n",
      "AR.4            1.7950           +3.0587j            3.5465            0.1655\n",
      "AR.5           -6.0688           -0.0000j            6.0688           -0.5000\n",
      "MA.1            0.3333           -0.9429j            1.0000           -0.1959\n",
      "MA.2            0.3333           +0.9429j            1.0000            0.1959\n",
      "-----------------------------------------------------------------------------\n"
     ]
    }
   ],
   "source": [
    "model_17 = ARIMA(df_train, order=(5,1,2))\n",
    "model_17_fit = model_17.fit(trend='c',full_output=True, disp=1)\n",
    "print(model_17_fit.summary())"
   ]
  },
  {
   "cell_type": "code",
   "execution_count": 20,
   "metadata": {},
   "outputs": [
    {
     "name": "stderr",
     "output_type": "stream",
     "text": [
      "C:\\Users\\sm.woo\\Anaconda3\\lib\\site-packages\\statsmodels\\tsa\\base\\tsa_model.py:219: ValueWarning: A date index has been provided, but it has no associated frequency information and so will be ignored when e.g. forecasting.\n",
      "  ' ignored when e.g. forecasting.', ValueWarning)\n",
      "C:\\Users\\sm.woo\\Anaconda3\\lib\\site-packages\\statsmodels\\tsa\\base\\tsa_model.py:219: ValueWarning: A date index has been provided, but it has no associated frequency information and so will be ignored when e.g. forecasting.\n",
      "  ' ignored when e.g. forecasting.', ValueWarning)\n"
     ]
    },
    {
     "name": "stdout",
     "output_type": "stream",
     "text": [
      "                             ARIMA Model Results                              \n",
      "==============================================================================\n",
      "Dep. Variable:                 D.Rate   No. Observations:                  244\n",
      "Model:                 ARIMA(5, 1, 2)   Log Likelihood                -681.670\n",
      "Method:                       css-mle   S.D. of innovations              3.922\n",
      "Date:                Fri, 07 Feb 2020   AIC                           1379.341\n",
      "Time:                        15:55:09   BIC                           1407.318\n",
      "Sample:                             1   HQIC                          1390.608\n",
      "                                                                              \n",
      "================================================================================\n",
      "                   coef    std err          z      P>|z|      [0.025      0.975]\n",
      "--------------------------------------------------------------------------------\n",
      "ar.L1.D.Rate     0.7427      0.065     11.370      0.000       0.615       0.871\n",
      "ar.L2.D.Rate    -1.0095      0.080    -12.626      0.000      -1.166      -0.853\n",
      "ar.L3.D.Rate     0.1181      0.103      1.148      0.252      -0.084       0.320\n",
      "ar.L4.D.Rate    -0.0212      0.081     -0.262      0.794      -0.180       0.138\n",
      "ar.L5.D.Rate    -0.0103      0.065     -0.159      0.874      -0.138       0.117\n",
      "ma.L1.D.Rate    -0.6665      0.015    -43.337      0.000      -0.697      -0.636\n",
      "ma.L2.D.Rate     0.9999      0.022     45.355      0.000       0.957       1.043\n",
      "                                    Roots                                    \n",
      "=============================================================================\n",
      "                  Real          Imaginary           Modulus         Frequency\n",
      "-----------------------------------------------------------------------------\n",
      "AR.1            0.3439           -0.9949j            1.0527           -0.1970\n",
      "AR.2            0.3439           +0.9949j            1.0527            0.1970\n",
      "AR.3            1.8651           -3.1649j            3.6736           -0.1652\n",
      "AR.4            1.8651           +3.1649j            3.6736            0.1652\n",
      "AR.5           -6.4739           -0.0000j            6.4739           -0.5000\n",
      "MA.1            0.3333           -0.9429j            1.0001           -0.1959\n",
      "MA.2            0.3333           +0.9429j            1.0001            0.1959\n",
      "-----------------------------------------------------------------------------\n"
     ]
    }
   ],
   "source": [
    "model_18 = ARIMA(df_train, order=(5,1,2))\n",
    "model_18_fit = model_18.fit(trend='nc',full_output=True, disp=1)\n",
    "print(model_18_fit.summary())"
   ]
  },
  {
   "cell_type": "code",
   "execution_count": 21,
   "metadata": {},
   "outputs": [
    {
     "name": "stderr",
     "output_type": "stream",
     "text": [
      "C:\\Users\\sm.woo\\Anaconda3\\lib\\site-packages\\statsmodels\\tsa\\base\\tsa_model.py:219: ValueWarning: A date index has been provided, but it has no associated frequency information and so will be ignored when e.g. forecasting.\n",
      "  ' ignored when e.g. forecasting.', ValueWarning)\n",
      "C:\\Users\\sm.woo\\Anaconda3\\lib\\site-packages\\statsmodels\\tsa\\base\\tsa_model.py:219: ValueWarning: A date index has been provided, but it has no associated frequency information and so will be ignored when e.g. forecasting.\n",
      "  ' ignored when e.g. forecasting.', ValueWarning)\n"
     ]
    },
    {
     "name": "stdout",
     "output_type": "stream",
     "text": [
      "                             ARIMA Model Results                              \n",
      "==============================================================================\n",
      "Dep. Variable:                 D.Rate   No. Observations:                  244\n",
      "Model:                 ARIMA(5, 1, 1)   Log Likelihood                -683.334\n",
      "Method:                       css-mle   S.D. of innovations              3.981\n",
      "Date:                Fri, 07 Feb 2020   AIC                           1380.668\n",
      "Time:                        15:55:15   BIC                           1405.148\n",
      "Sample:                             1   HQIC                          1390.528\n",
      "                                                                              \n",
      "================================================================================\n",
      "                   coef    std err          z      P>|z|      [0.025      0.975]\n",
      "--------------------------------------------------------------------------------\n",
      "ar.L1.D.Rate     0.6971      0.457      1.526      0.128      -0.198       1.592\n",
      "ar.L2.D.Rate    -0.0550      0.089     -0.615      0.539      -0.230       0.120\n",
      "ar.L3.D.Rate     0.0442      0.078      0.565      0.573      -0.109       0.198\n",
      "ar.L4.D.Rate    -0.1397      0.082     -1.709      0.089      -0.300       0.021\n",
      "ar.L5.D.Rate     0.0134      0.101      0.133      0.894      -0.184       0.211\n",
      "ma.L1.D.Rate    -0.6114      0.452     -1.353      0.177      -1.497       0.274\n",
      "                                    Roots                                    \n",
      "=============================================================================\n",
      "                  Real          Imaginary           Modulus         Frequency\n",
      "-----------------------------------------------------------------------------\n",
      "AR.1            1.2751           -0.6766j            1.4435           -0.0776\n",
      "AR.2            1.2751           +0.6766j            1.4435            0.0776\n",
      "AR.3           -1.1102           -1.5213j            1.8833           -0.3503\n",
      "AR.4           -1.1102           +1.5213j            1.8833            0.3503\n",
      "AR.5           10.0765           -0.0000j           10.0765           -0.0000\n",
      "MA.1            1.6355           +0.0000j            1.6355            0.0000\n",
      "-----------------------------------------------------------------------------\n"
     ]
    }
   ],
   "source": [
    "model_19 = ARIMA(df_train, order=(5,1,1))\n",
    "model_19_fit = model_19.fit(trend='nc',full_output=True, disp=1)\n",
    "print(model_19_fit.summary())"
   ]
  },
  {
   "cell_type": "code",
   "execution_count": 22,
   "metadata": {},
   "outputs": [
    {
     "name": "stderr",
     "output_type": "stream",
     "text": [
      "C:\\Users\\sm.woo\\Anaconda3\\lib\\site-packages\\statsmodels\\tsa\\base\\tsa_model.py:219: ValueWarning: A date index has been provided, but it has no associated frequency information and so will be ignored when e.g. forecasting.\n",
      "  ' ignored when e.g. forecasting.', ValueWarning)\n",
      "C:\\Users\\sm.woo\\Anaconda3\\lib\\site-packages\\statsmodels\\tsa\\base\\tsa_model.py:219: ValueWarning: A date index has been provided, but it has no associated frequency information and so will be ignored when e.g. forecasting.\n",
      "  ' ignored when e.g. forecasting.', ValueWarning)\n"
     ]
    },
    {
     "name": "stdout",
     "output_type": "stream",
     "text": [
      "                             ARIMA Model Results                              \n",
      "==============================================================================\n",
      "Dep. Variable:                 D.Rate   No. Observations:                  244\n",
      "Model:                 ARIMA(5, 1, 1)   Log Likelihood                -683.023\n",
      "Method:                       css-mle   S.D. of innovations              3.975\n",
      "Date:                Fri, 07 Feb 2020   AIC                           1382.045\n",
      "Time:                        15:55:19   BIC                           1410.023\n",
      "Sample:                             1   HQIC                          1393.313\n",
      "                                                                              \n",
      "================================================================================\n",
      "                   coef    std err          z      P>|z|      [0.025      0.975]\n",
      "--------------------------------------------------------------------------------\n",
      "const            0.1765      0.219      0.805      0.421      -0.253       0.606\n",
      "ar.L1.D.Rate     0.7360      0.370      1.991      0.048       0.012       1.460\n",
      "ar.L2.D.Rate    -0.0589      0.087     -0.680      0.497      -0.229       0.111\n",
      "ar.L3.D.Rate     0.0432      0.080      0.542      0.589      -0.113       0.199\n",
      "ar.L4.D.Rate    -0.1422      0.082     -1.734      0.084      -0.303       0.019\n",
      "ar.L5.D.Rate     0.0165      0.093      0.177      0.860      -0.166       0.199\n",
      "ma.L1.D.Rate    -0.6532      0.364     -1.797      0.074      -1.366       0.059\n",
      "                                    Roots                                    \n",
      "=============================================================================\n",
      "                  Real          Imaginary           Modulus         Frequency\n",
      "-----------------------------------------------------------------------------\n",
      "AR.1            1.2813           -0.6464j            1.4351           -0.0744\n",
      "AR.2            1.2813           +0.6464j            1.4351            0.0744\n",
      "AR.3           -1.1166           -1.5179j            1.8844           -0.3509\n",
      "AR.4           -1.1166           +1.5179j            1.8844            0.3509\n",
      "AR.5            8.2909           -0.0000j            8.2909           -0.0000\n",
      "MA.1            1.5308           +0.0000j            1.5308            0.0000\n",
      "-----------------------------------------------------------------------------\n"
     ]
    }
   ],
   "source": [
    "model_20 = ARIMA(df_train, order=(5,1,1))\n",
    "model_20_fit = model_20.fit(trend='c',full_output=True, disp=1)\n",
    "print(model_20_fit.summary())"
   ]
  },
  {
   "cell_type": "code",
   "execution_count": 23,
   "metadata": {},
   "outputs": [
    {
     "name": "stderr",
     "output_type": "stream",
     "text": [
      "C:\\Users\\sm.woo\\Anaconda3\\lib\\site-packages\\statsmodels\\tsa\\base\\tsa_model.py:219: ValueWarning: A date index has been provided, but it has no associated frequency information and so will be ignored when e.g. forecasting.\n",
      "  ' ignored when e.g. forecasting.', ValueWarning)\n",
      "C:\\Users\\sm.woo\\Anaconda3\\lib\\site-packages\\statsmodels\\tsa\\base\\tsa_model.py:219: ValueWarning: A date index has been provided, but it has no associated frequency information and so will be ignored when e.g. forecasting.\n",
      "  ' ignored when e.g. forecasting.', ValueWarning)\n",
      "C:\\Users\\sm.woo\\Anaconda3\\lib\\site-packages\\statsmodels\\base\\model.py:492: HessianInversionWarning: Inverting hessian failed, no bse or cov_params available\n",
      "  'available', HessianInversionWarning)\n"
     ]
    },
    {
     "name": "stdout",
     "output_type": "stream",
     "text": [
      "                             ARIMA Model Results                              \n",
      "==============================================================================\n",
      "Dep. Variable:                 D.Rate   No. Observations:                  244\n",
      "Model:                 ARIMA(5, 1, 5)   Log Likelihood                -684.537\n",
      "Method:                       css-mle   S.D. of innovations              3.971\n",
      "Date:                Fri, 07 Feb 2020   AIC                           1391.075\n",
      "Time:                        15:55:35   BIC                           1429.544\n",
      "Sample:                             1   HQIC                          1406.568\n",
      "                                                                              \n",
      "================================================================================\n",
      "                   coef    std err          z      P>|z|      [0.025      0.975]\n",
      "--------------------------------------------------------------------------------\n",
      "ar.L1.D.Rate     0.7097      0.419      1.696      0.091      -0.111       1.530\n",
      "ar.L2.D.Rate    -0.3661      0.478     -0.767      0.444      -1.302       0.570\n",
      "ar.L3.D.Rate     0.7365      0.364      2.023      0.044       0.023       1.450\n",
      "ar.L4.D.Rate    -0.4992      0.469     -1.064      0.289      -1.419       0.421\n",
      "ar.L5.D.Rate    -0.3993      0.408     -0.979      0.328      -1.199       0.400\n",
      "ma.L1.D.Rate    -0.6265      0.397     -1.576      0.116      -1.406       0.152\n",
      "ma.L2.D.Rate     0.2771      0.453      0.612      0.541      -0.610       1.164\n",
      "ma.L3.D.Rate    -0.6975      0.345     -2.020      0.044      -1.374      -0.021\n",
      "ma.L4.D.Rate     0.4154      0.457      0.910      0.364      -0.479       1.310\n",
      "ma.L5.D.Rate     0.5130      0.399      1.285      0.200      -0.270       1.296\n",
      "                                    Roots                                    \n",
      "=============================================================================\n",
      "                  Real          Imaginary           Modulus         Frequency\n",
      "-----------------------------------------------------------------------------\n",
      "AR.1            0.8959           -0.4632j            1.0086           -0.0759\n",
      "AR.2            0.8959           +0.4632j            1.0086            0.0759\n",
      "AR.3           -0.3262           -0.9612j            1.0150           -0.3021\n",
      "AR.4           -0.3262           +0.9612j            1.0150            0.3021\n",
      "AR.5           -2.3896           -0.0000j            2.3896           -0.5000\n",
      "MA.1            0.8896           -0.4567j            1.0000           -0.0755\n",
      "MA.2            0.8896           +0.4567j            1.0000            0.0755\n",
      "MA.3           -0.3199           -0.9475j            1.0000           -0.3018\n",
      "MA.4           -0.3199           +0.9475j            1.0000            0.3018\n",
      "MA.5           -1.9493           -0.0000j            1.9493           -0.5000\n",
      "-----------------------------------------------------------------------------\n"
     ]
    }
   ],
   "source": [
    "model_21 = ARIMA(df_train, order=(5,1,5))\n",
    "model_21_fit = model_21.fit(trend='nc',full_output=True, disp=1)\n",
    "print(model_21_fit.summary())"
   ]
  },
  {
   "cell_type": "code",
   "execution_count": 24,
   "metadata": {},
   "outputs": [
    {
     "name": "stderr",
     "output_type": "stream",
     "text": [
      "C:\\Users\\sm.woo\\Anaconda3\\lib\\site-packages\\statsmodels\\tsa\\base\\tsa_model.py:219: ValueWarning: A date index has been provided, but it has no associated frequency information and so will be ignored when e.g. forecasting.\n",
      "  ' ignored when e.g. forecasting.', ValueWarning)\n",
      "C:\\Users\\sm.woo\\Anaconda3\\lib\\site-packages\\statsmodels\\tsa\\base\\tsa_model.py:219: ValueWarning: A date index has been provided, but it has no associated frequency information and so will be ignored when e.g. forecasting.\n",
      "  ' ignored when e.g. forecasting.', ValueWarning)\n",
      "C:\\Users\\sm.woo\\Anaconda3\\lib\\site-packages\\statsmodels\\base\\model.py:492: HessianInversionWarning: Inverting hessian failed, no bse or cov_params available\n",
      "  'available', HessianInversionWarning)\n",
      "C:\\Users\\sm.woo\\Anaconda3\\lib\\site-packages\\statsmodels\\base\\model.py:512: ConvergenceWarning: Maximum Likelihood optimization failed to converge. Check mle_retvals\n",
      "  \"Check mle_retvals\", ConvergenceWarning)\n"
     ]
    },
    {
     "name": "stdout",
     "output_type": "stream",
     "text": [
      "                             ARIMA Model Results                              \n",
      "==============================================================================\n",
      "Dep. Variable:                 D.Rate   No. Observations:                  244\n",
      "Model:                 ARIMA(5, 1, 5)   Log Likelihood                -682.909\n",
      "Method:                       css-mle   S.D. of innovations              3.931\n",
      "Date:                Fri, 07 Feb 2020   AIC                           1389.817\n",
      "Time:                        15:56:20   BIC                           1431.783\n",
      "Sample:                             1   HQIC                          1406.719\n",
      "                                                                              \n",
      "================================================================================\n",
      "                   coef    std err          z      P>|z|      [0.025      0.975]\n",
      "--------------------------------------------------------------------------------\n",
      "const            0.1799      0.257      0.700      0.484      -0.324       0.683\n",
      "ar.L1.D.Rate     0.3102      0.002    196.143      0.000       0.307       0.313\n",
      "ar.L2.D.Rate     0.3308      0.009     38.563      0.000       0.314       0.348\n",
      "ar.L3.D.Rate     0.4080      0.017     24.449      0.000       0.375       0.441\n",
      "ar.L4.D.Rate     0.2292      0.003     80.522      0.000       0.224       0.235\n",
      "ar.L5.D.Rate    -0.9643      0.000  -6252.467      0.000      -0.965      -0.964\n",
      "ma.L1.D.Rate    -0.2763      0.013    -20.480      0.000      -0.303      -0.250\n",
      "ma.L2.D.Rate    -0.3727      0.015    -25.487      0.000      -0.401      -0.344\n",
      "ma.L3.D.Rate    -0.3790      0.011    -34.666      0.000      -0.400      -0.358\n",
      "ma.L4.D.Rate    -0.2696      0.017    -15.807      0.000      -0.303      -0.236\n",
      "ma.L5.D.Rate     0.9971      0.013     76.232      0.000       0.971       1.023\n",
      "                                    Roots                                    \n",
      "=============================================================================\n",
      "                  Real          Imaginary           Modulus         Frequency\n",
      "-----------------------------------------------------------------------------\n",
      "AR.1           -1.0369           -0.0000j            1.0369           -0.5000\n",
      "AR.2           -0.2953           -0.9554j            1.0000           -0.2977\n",
      "AR.3           -0.2953           +0.9554j            1.0000            0.2977\n",
      "AR.4            0.9326           -0.3609j            1.0000           -0.0588\n",
      "AR.5            0.9326           +0.3609j            1.0000            0.0588\n",
      "MA.1           -1.0029           -0.0000j            1.0029           -0.5000\n",
      "MA.2           -0.2957           -0.9553j            1.0000           -0.2978\n",
      "MA.3           -0.2957           +0.9553j            1.0000            0.2978\n",
      "MA.4            0.9324           -0.3614j            1.0000           -0.0588\n",
      "MA.5            0.9324           +0.3614j            1.0000            0.0588\n",
      "-----------------------------------------------------------------------------\n"
     ]
    }
   ],
   "source": [
    "model_22 = ARIMA(df_train, order=(5,1,5))\n",
    "model_22_fit = model_22.fit(trend='c',full_output=True, disp=1)\n",
    "print(model_22_fit.summary())"
   ]
  },
  {
   "cell_type": "code",
   "execution_count": 25,
   "metadata": {},
   "outputs": [
    {
     "name": "stderr",
     "output_type": "stream",
     "text": [
      "C:\\Users\\sm.woo\\Anaconda3\\lib\\site-packages\\statsmodels\\tsa\\base\\tsa_model.py:219: ValueWarning: A date index has been provided, but it has no associated frequency information and so will be ignored when e.g. forecasting.\n",
      "  ' ignored when e.g. forecasting.', ValueWarning)\n",
      "C:\\Users\\sm.woo\\Anaconda3\\lib\\site-packages\\statsmodels\\base\\model.py:492: HessianInversionWarning: Inverting hessian failed, no bse or cov_params available\n",
      "  'available', HessianInversionWarning)\n"
     ]
    },
    {
     "name": "stdout",
     "output_type": "stream",
     "text": [
      "                              ARMA Model Results                              \n",
      "==============================================================================\n",
      "Dep. Variable:                   Rate   No. Observations:                  245\n",
      "Model:                     ARMA(5, 5)   Log Likelihood                -683.864\n",
      "Method:                       css-mle   S.D. of innovations              3.864\n",
      "Date:                Fri, 07 Feb 2020   AIC                           1391.729\n",
      "Time:                        15:56:33   BIC                           1433.744\n",
      "Sample:                             0   HQIC                          1408.648\n",
      "                                                                              \n",
      "==============================================================================\n",
      "                 coef    std err          z      P>|z|      [0.025      0.975]\n",
      "------------------------------------------------------------------------------\n",
      "const       1133.5711      5.150    220.111      0.000    1123.477    1143.665\n",
      "ar.L1.Rate     0.1541      0.029      5.316      0.000       0.097       0.211\n",
      "ar.L2.Rate     0.8153      0.028     28.697      0.000       0.760       0.871\n",
      "ar.L3.Rate     0.8439      0.026     31.927      0.000       0.792       0.896\n",
      "ar.L4.Rate     0.1205      0.028      4.298      0.000       0.066       0.175\n",
      "ar.L5.Rate    -0.9369      0.026    -35.476      0.000      -0.989      -0.885\n",
      "ma.L1.Rate     0.9467      0.072     13.230      0.000       0.806       1.087\n",
      "ma.L2.Rate     0.1003      0.064      1.560      0.120      -0.026       0.226\n",
      "ma.L3.Rate    -0.8258      0.028    -29.315      0.000      -0.881      -0.771\n",
      "ma.L4.Rate    -1.0998      0.063    -17.493      0.000      -1.223      -0.977\n",
      "ma.L5.Rate    -0.1214      0.069     -1.761      0.080      -0.257       0.014\n",
      "                                    Roots                                    \n",
      "=============================================================================\n",
      "                  Real          Imaginary           Modulus         Frequency\n",
      "-----------------------------------------------------------------------------\n",
      "AR.1           -1.0288           -0.0000j            1.0288           -0.5000\n",
      "AR.2           -0.4321           -0.9101j            1.0075           -0.3206\n",
      "AR.3           -0.4321           +0.9101j            1.0075            0.3206\n",
      "AR.4            1.0108           -0.0209j            1.0110           -0.0033\n",
      "AR.5            1.0108           +0.0209j            1.0110            0.0033\n",
      "MA.1            1.0000           -0.0000j            1.0000           -0.0000\n",
      "MA.2           -0.4129           -0.9108j            1.0000           -0.3177\n",
      "MA.3           -0.4129           +0.9108j            1.0000            0.3177\n",
      "MA.4           -1.0005           -0.0000j            1.0005           -0.5000\n",
      "MA.5           -8.2314           -0.0000j            8.2314           -0.5000\n",
      "-----------------------------------------------------------------------------\n"
     ]
    }
   ],
   "source": [
    "model_23 = ARIMA(df_train, order=(5,0,5))\n",
    "model_23_fit = model_23.fit(trend='c',full_output=True, disp=1)\n",
    "print(model_23_fit.summary())"
   ]
  },
  {
   "cell_type": "code",
   "execution_count": 26,
   "metadata": {},
   "outputs": [
    {
     "name": "stderr",
     "output_type": "stream",
     "text": [
      "C:\\Users\\sm.woo\\Anaconda3\\lib\\site-packages\\statsmodels\\tsa\\base\\tsa_model.py:219: ValueWarning: A date index has been provided, but it has no associated frequency information and so will be ignored when e.g. forecasting.\n",
      "  ' ignored when e.g. forecasting.', ValueWarning)\n"
     ]
    },
    {
     "name": "stdout",
     "output_type": "stream",
     "text": [
      "                              ARMA Model Results                              \n",
      "==============================================================================\n",
      "Dep. Variable:                   Rate   No. Observations:                  245\n",
      "Model:                     ARMA(5, 0)   Log Likelihood                -692.418\n",
      "Method:                       css-mle   S.D. of innovations              3.991\n",
      "Date:                Fri, 07 Feb 2020   AIC                           1396.835\n",
      "Time:                        15:56:37   BIC                           1417.843\n",
      "Sample:                             0   HQIC                          1405.295\n",
      "                                                                              \n",
      "==============================================================================\n",
      "                 coef    std err          z      P>|z|      [0.025      0.975]\n",
      "------------------------------------------------------------------------------\n",
      "ar.L1.Rate     1.0961   1.65e-05   6.63e+04      0.000       1.096       1.096\n",
      "ar.L2.Rate    -0.0960      0.064     -1.500      0.135      -0.221       0.029\n",
      "ar.L3.Rate     0.0450      0.064      0.703      0.483      -0.080       0.170\n",
      "ar.L4.Rate    -0.1631   2.83e-05  -5756.913      0.000      -0.163      -0.163\n",
      "ar.L5.Rate     0.1180   5.91e-05   1995.975      0.000       0.118       0.118\n",
      "                                    Roots                                    \n",
      "=============================================================================\n",
      "                  Real          Imaginary           Modulus         Frequency\n",
      "-----------------------------------------------------------------------------\n",
      "AR.1            1.0000           -0.0000j            1.0000           -0.0000\n",
      "AR.2           -1.1150           -1.2677j            1.6883           -0.3648\n",
      "AR.3           -1.1150           +1.2677j            1.6883            0.3648\n",
      "AR.4            1.3061           -1.1260j            1.7245           -0.1132\n",
      "AR.5            1.3061           +1.1260j            1.7245            0.1132\n",
      "-----------------------------------------------------------------------------\n"
     ]
    }
   ],
   "source": [
    "#non값 사용 불가능\n",
    "model_24 = ARIMA(df_train, order=(5,0,0))\n",
    "model_24_fit = model_24.fit(trend='nc',full_output=True, disp=1)\n",
    "print(model_24_fit.summary())"
   ]
  },
  {
   "cell_type": "code",
   "execution_count": 27,
   "metadata": {},
   "outputs": [
    {
     "name": "stderr",
     "output_type": "stream",
     "text": [
      "C:\\Users\\sm.woo\\Anaconda3\\lib\\site-packages\\statsmodels\\tsa\\base\\tsa_model.py:219: ValueWarning: A date index has been provided, but it has no associated frequency information and so will be ignored when e.g. forecasting.\n",
      "  ' ignored when e.g. forecasting.', ValueWarning)\n"
     ]
    },
    {
     "name": "stdout",
     "output_type": "stream",
     "text": [
      "                              ARMA Model Results                              \n",
      "==============================================================================\n",
      "Dep. Variable:                   Rate   No. Observations:                  245\n",
      "Model:                     ARMA(5, 0)   Log Likelihood                -687.252\n",
      "Method:                       css-mle   S.D. of innovations              3.972\n",
      "Date:                Fri, 07 Feb 2020   AIC                           1388.504\n",
      "Time:                        15:56:38   BIC                           1413.013\n",
      "Sample:                             0   HQIC                          1398.374\n",
      "                                                                              \n",
      "==============================================================================\n",
      "                 coef    std err          z      P>|z|      [0.025      0.975]\n",
      "------------------------------------------------------------------------------\n",
      "const       1135.7877     11.572     98.146      0.000    1113.106    1158.469\n",
      "ar.L1.Rate     1.0854      0.063     17.145      0.000       0.961       1.209\n",
      "ar.L2.Rate    -0.0954      0.094     -1.018      0.310      -0.279       0.088\n",
      "ar.L3.Rate     0.0459      0.095      0.485      0.628      -0.140       0.231\n",
      "ar.L4.Rate    -0.1615      0.095     -1.705      0.089      -0.347       0.024\n",
      "ar.L5.Rate     0.1071      0.064      1.675      0.095      -0.018       0.233\n",
      "                                    Roots                                    \n",
      "=============================================================================\n",
      "                  Real          Imaginary           Modulus         Frequency\n",
      "-----------------------------------------------------------------------------\n",
      "AR.1            1.0200           -0.0000j            1.0200           -0.0000\n",
      "AR.2           -1.1214           -1.2908j            1.7098           -0.3638\n",
      "AR.3           -1.1214           +1.2908j            1.7098            0.3638\n",
      "AR.4            1.3650           -1.1256j            1.7692           -0.1098\n",
      "AR.5            1.3650           +1.1256j            1.7692            0.1098\n",
      "-----------------------------------------------------------------------------\n"
     ]
    }
   ],
   "source": [
    "model_25 = ARIMA(df_train, order=(5,0,0))\n",
    "model_25_fit = model_25.fit(trend='c',full_output=True, disp=1)\n",
    "print(model_25_fit.summary())"
   ]
  },
  {
   "cell_type": "code",
   "execution_count": 28,
   "metadata": {},
   "outputs": [
    {
     "name": "stderr",
     "output_type": "stream",
     "text": [
      "C:\\Users\\sm.woo\\Anaconda3\\lib\\site-packages\\statsmodels\\tsa\\base\\tsa_model.py:219: ValueWarning: A date index has been provided, but it has no associated frequency information and so will be ignored when e.g. forecasting.\n",
      "  ' ignored when e.g. forecasting.', ValueWarning)\n",
      "C:\\Users\\sm.woo\\Anaconda3\\lib\\site-packages\\statsmodels\\tsa\\base\\tsa_model.py:219: ValueWarning: A date index has been provided, but it has no associated frequency information and so will be ignored when e.g. forecasting.\n",
      "  ' ignored when e.g. forecasting.', ValueWarning)\n"
     ]
    },
    {
     "name": "stdout",
     "output_type": "stream",
     "text": [
      "                             ARIMA Model Results                              \n",
      "==============================================================================\n",
      "Dep. Variable:                 D.Rate   No. Observations:                  244\n",
      "Model:                 ARIMA(0, 1, 5)   Log Likelihood                -683.554\n",
      "Method:                       css-mle   S.D. of innovations              3.984\n",
      "Date:                Fri, 07 Feb 2020   AIC                           1379.107\n",
      "Time:                        15:56:39   BIC                           1400.090\n",
      "Sample:                             1   HQIC                          1387.558\n",
      "                                                                              \n",
      "================================================================================\n",
      "                   coef    std err          z      P>|z|      [0.025      0.975]\n",
      "--------------------------------------------------------------------------------\n",
      "ma.L1.D.Rate     0.0886      0.064      1.380      0.169      -0.037       0.214\n",
      "ma.L2.D.Rate    -0.0007      0.065     -0.011      0.991      -0.127       0.126\n",
      "ma.L3.D.Rate     0.0329      0.065      0.505      0.614      -0.095       0.161\n",
      "ma.L4.D.Rate    -0.0985      0.064     -1.547      0.123      -0.223       0.026\n",
      "ma.L5.D.Rate    -0.0843      0.063     -1.344      0.180      -0.207       0.039\n",
      "                                    Roots                                    \n",
      "=============================================================================\n",
      "                  Real          Imaginary           Modulus         Frequency\n",
      "-----------------------------------------------------------------------------\n",
      "MA.1            1.5314           -0.0000j            1.5314           -0.0000\n",
      "MA.2            0.2906           -1.5008j            1.5287           -0.2196\n",
      "MA.3            0.2906           +1.5008j            1.5287            0.2196\n",
      "MA.4           -1.6403           -0.7889j            1.8201           -0.4287\n",
      "MA.5           -1.6403           +0.7889j            1.8201            0.4287\n",
      "-----------------------------------------------------------------------------\n"
     ]
    }
   ],
   "source": [
    "model_26 = ARIMA(df_train, order=(0,1,5))\n",
    "model_26_fit = model_26.fit(trend='nc',full_output=True, disp=1)\n",
    "print(model_26_fit.summary())"
   ]
  },
  {
   "cell_type": "code",
   "execution_count": 29,
   "metadata": {},
   "outputs": [
    {
     "name": "stderr",
     "output_type": "stream",
     "text": [
      "C:\\Users\\sm.woo\\Anaconda3\\lib\\site-packages\\statsmodels\\tsa\\base\\tsa_model.py:219: ValueWarning: A date index has been provided, but it has no associated frequency information and so will be ignored when e.g. forecasting.\n",
      "  ' ignored when e.g. forecasting.', ValueWarning)\n",
      "C:\\Users\\sm.woo\\Anaconda3\\lib\\site-packages\\statsmodels\\tsa\\base\\tsa_model.py:219: ValueWarning: A date index has been provided, but it has no associated frequency information and so will be ignored when e.g. forecasting.\n",
      "  ' ignored when e.g. forecasting.', ValueWarning)\n"
     ]
    },
    {
     "name": "stdout",
     "output_type": "stream",
     "text": [
      "                             ARIMA Model Results                              \n",
      "==============================================================================\n",
      "Dep. Variable:                 D.Rate   No. Observations:                  244\n",
      "Model:                 ARIMA(0, 1, 5)   Log Likelihood                -683.307\n",
      "Method:                       css-mle   S.D. of innovations              3.980\n",
      "Date:                Fri, 07 Feb 2020   AIC                           1380.615\n",
      "Time:                        15:56:39   BIC                           1405.095\n",
      "Sample:                             1   HQIC                          1390.474\n",
      "                                                                              \n",
      "================================================================================\n",
      "                   coef    std err          z      P>|z|      [0.025      0.975]\n",
      "--------------------------------------------------------------------------------\n",
      "const            0.1672      0.236      0.709      0.479      -0.295       0.629\n",
      "ma.L1.D.Rate     0.0860      0.064      1.339      0.182      -0.040       0.212\n",
      "ma.L2.D.Rate    -0.0040      0.065     -0.062      0.951      -0.131       0.123\n",
      "ma.L3.D.Rate     0.0294      0.066      0.448      0.654      -0.099       0.158\n",
      "ma.L4.D.Rate    -0.1020      0.064     -1.593      0.113      -0.228       0.024\n",
      "ma.L5.D.Rate    -0.0873      0.063     -1.386      0.167      -0.211       0.036\n",
      "                                    Roots                                    \n",
      "=============================================================================\n",
      "                  Real          Imaginary           Modulus         Frequency\n",
      "-----------------------------------------------------------------------------\n",
      "MA.1            1.5119           -0.0000j            1.5119           -0.0000\n",
      "MA.2            0.2875           -1.4948j            1.5222           -0.2198\n",
      "MA.3            0.2875           +1.4948j            1.5222            0.2198\n",
      "MA.4           -1.6277           -0.7878j            1.8083           -0.4283\n",
      "MA.5           -1.6277           +0.7878j            1.8083            0.4283\n",
      "-----------------------------------------------------------------------------\n"
     ]
    }
   ],
   "source": [
    "model_27 = ARIMA(df_train, order=(0,1,5))\n",
    "model_27_fit = model_27.fit(trend='c',full_output=True, disp=1)\n",
    "print(model_27_fit.summary())"
   ]
  },
  {
   "cell_type": "code",
   "execution_count": 30,
   "metadata": {},
   "outputs": [
    {
     "name": "stderr",
     "output_type": "stream",
     "text": [
      "C:\\Users\\sm.woo\\Anaconda3\\lib\\site-packages\\statsmodels\\tsa\\base\\tsa_model.py:219: ValueWarning: A date index has been provided, but it has no associated frequency information and so will be ignored when e.g. forecasting.\n",
      "  ' ignored when e.g. forecasting.', ValueWarning)\n",
      "C:\\Users\\sm.woo\\Anaconda3\\lib\\site-packages\\statsmodels\\tsa\\base\\tsa_model.py:219: ValueWarning: A date index has been provided, but it has no associated frequency information and so will be ignored when e.g. forecasting.\n",
      "  ' ignored when e.g. forecasting.', ValueWarning)\n"
     ]
    },
    {
     "name": "stdout",
     "output_type": "stream",
     "text": [
      "                             ARIMA Model Results                              \n",
      "==============================================================================\n",
      "Dep. Variable:                 D.Rate   No. Observations:                  244\n",
      "Model:                 ARIMA(0, 1, 4)   Log Likelihood                -684.443\n",
      "Method:                       css-mle   S.D. of innovations              3.999\n",
      "Date:                Fri, 07 Feb 2020   AIC                           1378.887\n",
      "Time:                        15:56:39   BIC                           1396.372\n",
      "Sample:                             1   HQIC                          1385.929\n",
      "                                                                              \n",
      "================================================================================\n",
      "                   coef    std err          z      P>|z|      [0.025      0.975]\n",
      "--------------------------------------------------------------------------------\n",
      "ma.L1.D.Rate     0.0809      0.065      1.247      0.214      -0.046       0.208\n",
      "ma.L2.D.Rate     0.0157      0.065      0.242      0.809      -0.112       0.143\n",
      "ma.L3.D.Rate     0.0338      0.066      0.511      0.610      -0.096       0.163\n",
      "ma.L4.D.Rate    -0.0928      0.066     -1.410      0.160      -0.222       0.036\n",
      "                                    Roots                                    \n",
      "=============================================================================\n",
      "                  Real          Imaginary           Modulus         Frequency\n",
      "-----------------------------------------------------------------------------\n",
      "MA.1           -1.6842           -0.0000j            1.6842           -0.5000\n",
      "MA.2            0.0221           -1.7863j            1.7865           -0.2480\n",
      "MA.3            0.0221           +1.7863j            1.7865            0.2480\n",
      "MA.4            2.0040           -0.0000j            2.0040           -0.0000\n",
      "-----------------------------------------------------------------------------\n"
     ]
    }
   ],
   "source": [
    "model_28 = ARIMA(df_train, order=(0,1,4))\n",
    "model_28_fit = model_28.fit(trend='nc',full_output=True, disp=1)\n",
    "print(model_28_fit.summary())"
   ]
  },
  {
   "cell_type": "code",
   "execution_count": 31,
   "metadata": {},
   "outputs": [
    {
     "name": "stderr",
     "output_type": "stream",
     "text": [
      "C:\\Users\\sm.woo\\Anaconda3\\lib\\site-packages\\statsmodels\\tsa\\base\\tsa_model.py:219: ValueWarning: A date index has been provided, but it has no associated frequency information and so will be ignored when e.g. forecasting.\n",
      "  ' ignored when e.g. forecasting.', ValueWarning)\n",
      "C:\\Users\\sm.woo\\Anaconda3\\lib\\site-packages\\statsmodels\\tsa\\base\\tsa_model.py:219: ValueWarning: A date index has been provided, but it has no associated frequency information and so will be ignored when e.g. forecasting.\n",
      "  ' ignored when e.g. forecasting.', ValueWarning)\n"
     ]
    },
    {
     "name": "stdout",
     "output_type": "stream",
     "text": [
      "                             ARIMA Model Results                              \n",
      "==============================================================================\n",
      "Dep. Variable:                 D.Rate   No. Observations:                  244\n",
      "Model:                 ARIMA(0, 1, 4)   Log Likelihood                -684.253\n",
      "Method:                       css-mle   S.D. of innovations              3.996\n",
      "Date:                Fri, 07 Feb 2020   AIC                           1380.506\n",
      "Time:                        15:56:40   BIC                           1401.489\n",
      "Sample:                             1   HQIC                          1388.956\n",
      "                                                                              \n",
      "================================================================================\n",
      "                   coef    std err          z      P>|z|      [0.025      0.975]\n",
      "--------------------------------------------------------------------------------\n",
      "const            0.1633      0.263      0.621      0.535      -0.352       0.679\n",
      "ma.L1.D.Rate     0.0786      0.065      1.210      0.228      -0.049       0.206\n",
      "ma.L2.D.Rate     0.0136      0.065      0.208      0.835      -0.114       0.141\n",
      "ma.L3.D.Rate     0.0310      0.066      0.466      0.641      -0.099       0.161\n",
      "ma.L4.D.Rate    -0.0956      0.066     -1.443      0.150      -0.225       0.034\n",
      "                                    Roots                                    \n",
      "=============================================================================\n",
      "                  Real          Imaginary           Modulus         Frequency\n",
      "-----------------------------------------------------------------------------\n",
      "MA.1           -1.6790           -0.0000j            1.6790           -0.5000\n",
      "MA.2            0.0156           -1.7775j            1.7776           -0.2486\n",
      "MA.3            0.0156           +1.7775j            1.7776            0.2486\n",
      "MA.4            1.9720           -0.0000j            1.9720           -0.0000\n",
      "-----------------------------------------------------------------------------\n"
     ]
    }
   ],
   "source": [
    "model_29 = ARIMA(df_train, order=(0,1,4))\n",
    "model_29_fit = model_29.fit(trend='c',full_output=True, disp=1)\n",
    "print(model_29_fit.summary())"
   ]
  },
  {
   "cell_type": "code",
   "execution_count": 32,
   "metadata": {},
   "outputs": [
    {
     "name": "stderr",
     "output_type": "stream",
     "text": [
      "C:\\Users\\sm.woo\\Anaconda3\\lib\\site-packages\\statsmodels\\tsa\\base\\tsa_model.py:219: ValueWarning: A date index has been provided, but it has no associated frequency information and so will be ignored when e.g. forecasting.\n",
      "  ' ignored when e.g. forecasting.', ValueWarning)\n",
      "C:\\Users\\sm.woo\\Anaconda3\\lib\\site-packages\\statsmodels\\tsa\\base\\tsa_model.py:219: ValueWarning: A date index has been provided, but it has no associated frequency information and so will be ignored when e.g. forecasting.\n",
      "  ' ignored when e.g. forecasting.', ValueWarning)\n",
      "C:\\Users\\sm.woo\\Anaconda3\\lib\\site-packages\\statsmodels\\base\\model.py:492: HessianInversionWarning: Inverting hessian failed, no bse or cov_params available\n",
      "  'available', HessianInversionWarning)\n"
     ]
    },
    {
     "name": "stdout",
     "output_type": "stream",
     "text": [
      "                             ARIMA Model Results                              \n",
      "==============================================================================\n",
      "Dep. Variable:                D2.Rate   No. Observations:                  243\n",
      "Model:                 ARIMA(5, 2, 5)   Log Likelihood                -679.184\n",
      "Method:                       css-mle   S.D. of innovations              3.859\n",
      "Date:                Fri, 07 Feb 2020   AIC                           1380.367\n",
      "Time:                        15:56:47   BIC                           1418.791\n",
      "Sample:                             2   HQIC                          1395.844\n",
      "                                                                              \n",
      "=================================================================================\n",
      "                    coef    std err          z      P>|z|      [0.025      0.975]\n",
      "---------------------------------------------------------------------------------\n",
      "ar.L1.D2.Rate    -1.7551      0.067    -26.005      0.000      -1.887      -1.623\n",
      "ar.L2.D2.Rate    -1.6018      0.122    -13.098      0.000      -1.841      -1.362\n",
      "ar.L3.D2.Rate    -1.5934      0.121    -13.163      0.000      -1.831      -1.356\n",
      "ar.L4.D2.Rate    -0.7940      0.123     -6.431      0.000      -1.036      -0.552\n",
      "ar.L5.D2.Rate     0.0322      0.066      0.491      0.624      -0.096       0.161\n",
      "ma.L1.D2.Rate     0.8874      0.030     29.115      0.000       0.828       0.947\n",
      "ma.L2.D2.Rate    -0.0244      0.035     -0.702      0.483      -0.093       0.044\n",
      "ma.L3.D2.Rate     0.0244      0.035      0.702      0.483      -0.044       0.093\n",
      "ma.L4.D2.Rate    -0.8878      0.035    -25.410      0.000      -0.956      -0.819\n",
      "ma.L5.D2.Rate    -0.9997      0.029    -34.748      0.000      -1.056      -0.943\n",
      "                                    Roots                                    \n",
      "=============================================================================\n",
      "                  Real          Imaginary           Modulus         Frequency\n",
      "-----------------------------------------------------------------------------\n",
      "AR.1            0.0520           -1.0390j            1.0403           -0.2420\n",
      "AR.2            0.0520           +1.0390j            1.0403            0.2420\n",
      "AR.3           -1.0191           -0.2012j            1.0388           -0.4690\n",
      "AR.4           -1.0191           +0.2012j            1.0388            0.4690\n",
      "AR.5           26.5920           -0.0000j           26.5920           -0.0000\n",
      "MA.1            1.0000           -0.0000j            1.0000           -0.0000\n",
      "MA.2            0.0349           -0.9994j            1.0000           -0.2444\n",
      "MA.3            0.0349           +0.9994j            1.0000            0.2444\n",
      "MA.4           -0.9790           -0.2049j            1.0002           -0.4672\n",
      "MA.5           -0.9790           +0.2049j            1.0002            0.4672\n",
      "-----------------------------------------------------------------------------\n"
     ]
    }
   ],
   "source": [
    "model_30 = ARIMA(df_train, order=(5,2,5))\n",
    "model_30_fit = model_30.fit(trend='nc',full_output=True, disp=1)\n",
    "print(model_30_fit.summary())"
   ]
  },
  {
   "cell_type": "code",
   "execution_count": 33,
   "metadata": {},
   "outputs": [
    {
     "name": "stderr",
     "output_type": "stream",
     "text": [
      "C:\\Users\\sm.woo\\Anaconda3\\lib\\site-packages\\statsmodels\\tsa\\base\\tsa_model.py:219: ValueWarning: A date index has been provided, but it has no associated frequency information and so will be ignored when e.g. forecasting.\n",
      "  ' ignored when e.g. forecasting.', ValueWarning)\n",
      "C:\\Users\\sm.woo\\Anaconda3\\lib\\site-packages\\statsmodels\\tsa\\base\\tsa_model.py:219: ValueWarning: A date index has been provided, but it has no associated frequency information and so will be ignored when e.g. forecasting.\n",
      "  ' ignored when e.g. forecasting.', ValueWarning)\n",
      "C:\\Users\\sm.woo\\Anaconda3\\lib\\site-packages\\statsmodels\\base\\model.py:492: HessianInversionWarning: Inverting hessian failed, no bse or cov_params available\n",
      "  'available', HessianInversionWarning)\n",
      "C:\\Users\\sm.woo\\Anaconda3\\lib\\site-packages\\statsmodels\\base\\model.py:512: ConvergenceWarning: Maximum Likelihood optimization failed to converge. Check mle_retvals\n",
      "  \"Check mle_retvals\", ConvergenceWarning)\n"
     ]
    },
    {
     "name": "stdout",
     "output_type": "stream",
     "text": [
      "                             ARIMA Model Results                              \n",
      "==============================================================================\n",
      "Dep. Variable:                D2.Rate   No. Observations:                  243\n",
      "Model:                 ARIMA(5, 2, 5)   Log Likelihood                -679.180\n",
      "Method:                       css-mle   S.D. of innovations              3.859\n",
      "Date:                Fri, 07 Feb 2020   AIC                           1382.361\n",
      "Time:                        15:57:17   BIC                           1424.277\n",
      "Sample:                             2   HQIC                          1399.244\n",
      "                                                                              \n",
      "=================================================================================\n",
      "                    coef    std err          z      P>|z|      [0.025      0.975]\n",
      "---------------------------------------------------------------------------------\n",
      "const             0.0003      0.004      0.082      0.935      -0.007       0.008\n",
      "ar.L1.D2.Rate    -1.7552      0.067    -26.003      0.000      -1.887      -1.623\n",
      "ar.L2.D2.Rate    -1.6019      0.122    -13.097      0.000      -1.842      -1.362\n",
      "ar.L3.D2.Rate    -1.5935      0.121    -13.163      0.000      -1.831      -1.356\n",
      "ar.L4.D2.Rate    -0.7940      0.123     -6.431      0.000      -1.036      -0.552\n",
      "ar.L5.D2.Rate     0.0322      0.066      0.491      0.624      -0.096       0.161\n",
      "ma.L1.D2.Rate     0.8874      0.030     29.179      0.000       0.828       0.947\n",
      "ma.L2.D2.Rate    -0.0244      0.035     -0.706      0.481      -0.092       0.043\n",
      "ma.L3.D2.Rate     0.0244      0.035      0.707      0.481      -0.043       0.092\n",
      "ma.L4.D2.Rate    -0.8878      0.035    -25.584      0.000      -0.956      -0.820\n",
      "ma.L5.D2.Rate    -0.9996      0.029    -34.840      0.000      -1.056      -0.943\n",
      "                                    Roots                                    \n",
      "=============================================================================\n",
      "                  Real          Imaginary           Modulus         Frequency\n",
      "-----------------------------------------------------------------------------\n",
      "AR.1            0.0520           -1.0390j            1.0403           -0.2420\n",
      "AR.2            0.0520           +1.0390j            1.0403            0.2420\n",
      "AR.3           -1.0191           -0.2012j            1.0388           -0.4690\n",
      "AR.4           -1.0191           +0.2012j            1.0388            0.4690\n",
      "AR.5           26.5980           -0.0000j           26.5980           -0.0000\n",
      "MA.1            1.0000           -0.0000j            1.0000           -0.0000\n",
      "MA.2            0.0349           -0.9994j            1.0000           -0.2444\n",
      "MA.3            0.0349           +0.9994j            1.0000            0.2444\n",
      "MA.4           -0.9790           -0.2049j            1.0002           -0.4672\n",
      "MA.5           -0.9790           +0.2049j            1.0002            0.4672\n",
      "-----------------------------------------------------------------------------\n"
     ]
    }
   ],
   "source": [
    "model_31 = ARIMA(df_train, order=(5,2,5))\n",
    "model_31_fit = model_31.fit(trend='c',full_output=True, disp=1)\n",
    "print(model_31_fit.summary())"
   ]
  },
  {
   "cell_type": "markdown",
   "metadata": {},
   "source": [
    "### 예측"
   ]
  },
  {
   "cell_type": "code",
   "execution_count": 34,
   "metadata": {
    "scrolled": true
   },
   "outputs": [
    {
     "data": {
      "image/png": "[encoded data removed]",
      "text/plain": [
       "<Figure size 432x288 with 1 Axes>"
      ]
     },
     "metadata": {
      "needs_background": "light"
     },
     "output_type": "display_data"
    },
    {
     "data": {
      "image/png": "[encoded data removed]",
      "text/plain": [
       "<Figure size 432x288 with 1 Axes>"
      ]
     },
     "metadata": {
      "needs_background": "light"
     },
     "output_type": "display_data"
    },
    {
     "data": {
      "image/png": "[encoded data removed]",
      "text/plain": [
       "<Figure size 432x288 with 1 Axes>"
      ]
     },
     "metadata": {
      "needs_background": "light"
     },
     "output_type": "display_data"
    },
    {
     "data": {
      "image/png": "[encoded data removed]",
      "text/plain": [
       "<Figure size 432x288 with 1 Axes>"
      ]
     },
     "metadata": {
      "needs_background": "light"
     },
     "output_type": "display_data"
    },
    {
     "data": {
      "image/png": "[encoded data removed]",
      "text/plain": [
       "<Figure size 432x288 with 1 Axes>"
      ]
     },
     "metadata": {
      "needs_background": "light"
     },
     "output_type": "display_data"
    },
    {
     "data": {
      "image/png": "[encoded data removed]",
      "text/plain": [
       "<Figure size 432x288 with 1 Axes>"
      ]
     },
     "metadata": {
      "needs_background": "light"
     },
     "output_type": "display_data"
    },
    {
     "data": {
      "image/png": "[encoded data removed]",
      "text/plain": [
       "<Figure size 432x288 with 1 Axes>"
      ]
     },
     "metadata": {
      "needs_background": "light"
     },
     "output_type": "display_data"
    },
    {
     "data": {
      "image/png": "[encoded data removed]",
      "text/plain": [
       "<Figure size 432x288 with 1 Axes>"
      ]
     },
     "metadata": {
      "needs_background": "light"
     },
     "output_type": "display_data"
    },
    {
     "data": {
      "image/png": "[encoded data removed]",
      "text/plain": [
       "<Figure size 432x288 with 1 Axes>"
      ]
     },
     "metadata": {
      "needs_background": "light"
     },
     "output_type": "display_data"
    },
    {
     "data": {
      "image/png": "[encoded data removed]",
      "text/plain": [
       "<Figure size 432x288 with 1 Axes>"
      ]
     },
     "metadata": {
      "needs_background": "light"
     },
     "output_type": "display_data"
    },
    {
     "data": {
      "image/png": "[encoded data removed]",
      "text/plain": [
       "<Figure size 432x288 with 1 Axes>"
      ]
     },
     "metadata": {
      "needs_background": "light"
     },
     "output_type": "display_data"
    },
    {
     "data": {
      "image/png": "[encoded data removed]",
      "text/plain": [
       "<Figure size 432x288 with 1 Axes>"
      ]
     },
     "metadata": {
      "needs_background": "light"
     },
     "output_type": "display_data"
    }
   ],
   "source": [
    "Models = [model_1_fit, model_2_fit, model_3_fit, model_4_fit, model_18_fit, model_19_fit, model_20_fit, \n",
    "          model_25_fit, model_26_fit, model_27_fit, model_28_fit, model_29_fit]\n",
    "df_test=df_test[:5]\n",
    "actual_price=df_test['Rate'].tolist()[:5]\n",
    "RMSE_total=[]\n",
    "pred_price=[]\n",
    "\n",
    "for model in Models:\n",
    "    pred = model.forecast(steps=5)\n",
    "    pred_price_0=pred[0][:5]\n",
    "    pred_price.extend(pred_price_0)\n",
    "\n",
    "    plt.plot(pred_price_0)\n",
    "    plt.plot(df_test)\n",
    "    plt.show()\n",
    "    \n",
    "    RMSE = mean_squared_error(pred_price_0, actual_price)**0.5    \n",
    "    RMSE_total.append(RMSE)"
   ]
  },
  {
   "cell_type": "markdown",
   "metadata": {},
   "source": [
    "#### 예측값, stderr, upper bound, lower bound"
   ]
  },
  {
   "cell_type": "code",
   "execution_count": 35,
   "metadata": {},
   "outputs": [],
   "source": [
    "n = 5\n",
    "result = [pred_price[i * n:(i + 1) * n] for i in range((len(pred_price) + n - 1) // n )] \n",
    "pred_final = []\n",
    "for i in result:\n",
    "    pred_final.append(i)"
   ]
  },
  {
   "cell_type": "code",
   "execution_count": 36,
   "metadata": {
    "scrolled": true
   },
   "outputs": [],
   "source": [
    "pred_final=pd.DataFrame(pred_final)\n",
    "RMSE_total=pd.DataFrame(RMSE_total)\n",
    "final_df=pd.concat([pred_final, RMSE_total], axis=1)\n",
    "final_df.columns=[df_test.index[0],df_test.index[1],df_test.index[2],df_test.index[3],df_test.index[4],'RMSE']"
   ]
  },
  {
   "cell_type": "code",
   "execution_count": 37,
   "metadata": {},
   "outputs": [
    {
     "data": {
      "text/html": [
       "<div>\n",
       "<style scoped>\n",
       "    .dataframe tbody tr th:only-of-type {\n",
       "        vertical-align: middle;\n",
       "    }\n",
       "\n",
       "    .dataframe tbody tr th {\n",
       "        vertical-align: top;\n",
       "    }\n",
       "\n",
       "    .dataframe thead th {\n",
       "        text-align: right;\n",
       "    }\n",
       "</style>\n",
       "<table border=\"1\" class=\"dataframe\">\n",
       "  <thead>\n",
       "    <tr style=\"text-align: right;\">\n",
       "      <th></th>\n",
       "      <th>2019-07-01</th>\n",
       "      <th>2019-07-02</th>\n",
       "      <th>2019-07-03</th>\n",
       "      <th>2019-07-04</th>\n",
       "      <th>2019-07-05</th>\n",
       "      <th>RMSE</th>\n",
       "    </tr>\n",
       "  </thead>\n",
       "  <tbody>\n",
       "    <tr>\n",
       "      <td>0</td>\n",
       "      <td>1156.400000</td>\n",
       "      <td>1155.400000</td>\n",
       "      <td>1164.800000</td>\n",
       "      <td>1170.400000</td>\n",
       "      <td>1169.200000</td>\n",
       "      <td>0.000000</td>\n",
       "    </tr>\n",
       "    <tr>\n",
       "      <td>0</td>\n",
       "      <td>1156.691400</td>\n",
       "      <td>1156.674031</td>\n",
       "      <td>1156.671253</td>\n",
       "      <td>1156.670809</td>\n",
       "      <td>1156.670738</td>\n",
       "      <td>9.091289</td>\n",
       "    </tr>\n",
       "    <tr>\n",
       "      <td>1</td>\n",
       "      <td>1156.834774</td>\n",
       "      <td>1156.978451</td>\n",
       "      <td>1157.137648</td>\n",
       "      <td>1157.299058</td>\n",
       "      <td>1157.460782</td>\n",
       "      <td>8.612039</td>\n",
       "    </tr>\n",
       "    <tr>\n",
       "      <td>2</td>\n",
       "      <td>1156.700875</td>\n",
       "      <td>1156.946856</td>\n",
       "      <td>1157.055879</td>\n",
       "      <td>1157.246156</td>\n",
       "      <td>1157.390343</td>\n",
       "      <td>8.659634</td>\n",
       "    </tr>\n",
       "    <tr>\n",
       "      <td>3</td>\n",
       "      <td>1156.552235</td>\n",
       "      <td>1156.633981</td>\n",
       "      <td>1156.583822</td>\n",
       "      <td>1156.612303</td>\n",
       "      <td>1156.596009</td>\n",
       "      <td>9.143442</td>\n",
       "    </tr>\n",
       "    <tr>\n",
       "      <td>4</td>\n",
       "      <td>1156.360314</td>\n",
       "      <td>1156.225559</td>\n",
       "      <td>1156.362762</td>\n",
       "      <td>1156.542354</td>\n",
       "      <td>1156.545104</td>\n",
       "      <td>9.209244</td>\n",
       "    </tr>\n",
       "    <tr>\n",
       "      <td>5</td>\n",
       "      <td>1157.801312</td>\n",
       "      <td>1159.123054</td>\n",
       "      <td>1159.395415</td>\n",
       "      <td>1159.799456</td>\n",
       "      <td>1159.965829</td>\n",
       "      <td>6.966718</td>\n",
       "    </tr>\n",
       "    <tr>\n",
       "      <td>6</td>\n",
       "      <td>1158.111851</td>\n",
       "      <td>1159.769826</td>\n",
       "      <td>1160.373573</td>\n",
       "      <td>1161.105291</td>\n",
       "      <td>1161.541835</td>\n",
       "      <td>6.109962</td>\n",
       "    </tr>\n",
       "    <tr>\n",
       "      <td>7</td>\n",
       "      <td>1156.561024</td>\n",
       "      <td>1156.673253</td>\n",
       "      <td>1155.845650</td>\n",
       "      <td>1155.526735</td>\n",
       "      <td>1155.153305</td>\n",
       "      <td>10.003511</td>\n",
       "    </tr>\n",
       "    <tr>\n",
       "      <td>8</td>\n",
       "      <td>1157.177857</td>\n",
       "      <td>1157.897509</td>\n",
       "      <td>1157.860456</td>\n",
       "      <td>1157.915849</td>\n",
       "      <td>1157.915849</td>\n",
       "      <td>8.224184</td>\n",
       "    </tr>\n",
       "    <tr>\n",
       "      <td>9</td>\n",
       "      <td>1157.399518</td>\n",
       "      <td>1158.349781</td>\n",
       "      <td>1158.533575</td>\n",
       "      <td>1158.805328</td>\n",
       "      <td>1158.972492</td>\n",
       "      <td>7.589554</td>\n",
       "    </tr>\n",
       "    <tr>\n",
       "      <td>10</td>\n",
       "      <td>1156.907255</td>\n",
       "      <td>1157.286223</td>\n",
       "      <td>1156.928103</td>\n",
       "      <td>1157.106021</td>\n",
       "      <td>1157.106021</td>\n",
       "      <td>8.817892</td>\n",
       "    </tr>\n",
       "    <tr>\n",
       "      <td>11</td>\n",
       "      <td>1157.083422</td>\n",
       "      <td>1157.641787</td>\n",
       "      <td>1157.457852</td>\n",
       "      <td>1157.821340</td>\n",
       "      <td>1157.984616</td>\n",
       "      <td>8.287429</td>\n",
       "    </tr>\n",
       "  </tbody>\n",
       "</table>\n",
       "</div>"
      ],
      "text/plain": [
       "     2019-07-01   2019-07-02   2019-07-03   2019-07-04   2019-07-05       RMSE\n",
       "0   1156.400000  1155.400000  1164.800000  1170.400000  1169.200000   0.000000\n",
       "0   1156.691400  1156.674031  1156.671253  1156.670809  1156.670738   9.091289\n",
       "1   1156.834774  1156.978451  1157.137648  1157.299058  1157.460782   8.612039\n",
       "2   1156.700875  1156.946856  1157.055879  1157.246156  1157.390343   8.659634\n",
       "3   1156.552235  1156.633981  1156.583822  1156.612303  1156.596009   9.143442\n",
       "4   1156.360314  1156.225559  1156.362762  1156.542354  1156.545104   9.209244\n",
       "5   1157.801312  1159.123054  1159.395415  1159.799456  1159.965829   6.966718\n",
       "6   1158.111851  1159.769826  1160.373573  1161.105291  1161.541835   6.109962\n",
       "7   1156.561024  1156.673253  1155.845650  1155.526735  1155.153305  10.003511\n",
       "8   1157.177857  1157.897509  1157.860456  1157.915849  1157.915849   8.224184\n",
       "9   1157.399518  1158.349781  1158.533575  1158.805328  1158.972492   7.589554\n",
       "10  1156.907255  1157.286223  1156.928103  1157.106021  1157.106021   8.817892\n",
       "11  1157.083422  1157.641787  1157.457852  1157.821340  1157.984616   8.287429"
      ]
     },
     "execution_count": 37,
     "metadata": {},
     "output_type": "execute_result"
    }
   ],
   "source": [
    "actual_price = pd.DataFrame(actual_price + [0]).T\n",
    "actual_price.columns=[df_test.index[0],df_test.index[1],df_test.index[2],df_test.index[3],df_test.index[4],'RMSE']\n",
    "final_df=pd.concat([actual_price, final_df], axis=0)\n",
    "final_df"
   ]
  },
  {
   "cell_type": "code",
   "execution_count": 38,
   "metadata": {},
   "outputs": [],
   "source": [
    "final_df.to_csv('data/final06.csv', index=False)"
   ]
  },
  {
   "cell_type": "code",
   "execution_count": null,
   "metadata": {},
   "outputs": [],
   "source": []
  }
 ],
 "metadata": {
  "kernelspec": {
   "display_name": "Python 3",
   "language": "python",
   "name": "python3"
  },
  "language_info": {
   "codemirror_mode": {
    "name": "ipython",
    "version": 3
   },
   "file_extension": ".py",
   "mimetype": "text/x-python",
   "name": "python",
   "nbconvert_exporter": "python",
   "pygments_lexer": "ipython3",
   "version": "3.7.4"
  }
 },
 "nbformat": 4,
 "nbformat_minor": 2
}
