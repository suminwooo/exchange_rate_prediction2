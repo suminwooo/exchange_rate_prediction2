{
 "cells": [
  {
   "cell_type": "code",
   "execution_count": 1,
   "metadata": {},
   "outputs": [],
   "source": [
    "import pandas as pd\n",
    "import matplotlib.pyplot as plt\n",
    "\n",
    "from statsmodels.tsa.arima_model import ARIMA\n",
    "from sklearn.metrics import mean_squared_error"
   ]
  },
  {
   "cell_type": "code",
   "execution_count": 2,
   "metadata": {},
   "outputs": [],
   "source": [
    "data = pd.read_csv('exchange_data/set03.csv', header=0, squeeze=True)"
   ]
  },
  {
   "cell_type": "code",
   "execution_count": 3,
   "metadata": {},
   "outputs": [],
   "source": [
    "data = data.set_index('Date')"
   ]
  },
  {
   "cell_type": "code",
   "execution_count": 4,
   "metadata": {},
   "outputs": [],
   "source": [
    "#2018년 2월~2019년1월 train set/ 2019년 2월 test set\n",
    "df_train=data.loc['2018-04-01': '2019-03-31' ]\n",
    "df_test=data.loc['2019-04-01':]"
   ]
  },
  {
   "cell_type": "markdown",
   "metadata": {},
   "source": [
    "### 모형구축"
   ]
  },
  {
   "cell_type": "code",
   "execution_count": 5,
   "metadata": {},
   "outputs": [
    {
     "name": "stdout",
     "output_type": "stream",
     "text": [
      "                             ARIMA Model Results                              \n",
      "==============================================================================\n",
      "Dep. Variable:                 D.Rate   No. Observations:                  242\n",
      "Model:                 ARIMA(1, 1, 1)   Log Likelihood                -688.350\n",
      "Method:                       css-mle   S.D. of innovations              4.160\n",
      "Date:                Fri, 07 Feb 2020   AIC                           1382.700\n",
      "Time:                        15:52:38   BIC                           1393.167\n",
      "Sample:                             1   HQIC                          1386.917\n",
      "                                                                              \n",
      "================================================================================\n",
      "                   coef    std err          z      P>|z|      [0.025      0.975]\n",
      "--------------------------------------------------------------------------------\n",
      "ar.L1.D.Rate    -0.3840      0.460     -0.836      0.404      -1.285       0.517\n",
      "ma.L1.D.Rate     0.4742      0.437      1.085      0.279      -0.382       1.331\n",
      "                                    Roots                                    \n",
      "=============================================================================\n",
      "                  Real          Imaginary           Modulus         Frequency\n",
      "-----------------------------------------------------------------------------\n",
      "AR.1           -2.6041           +0.0000j            2.6041            0.5000\n",
      "MA.1           -2.1090           +0.0000j            2.1090            0.5000\n",
      "-----------------------------------------------------------------------------\n"
     ]
    },
    {
     "name": "stderr",
     "output_type": "stream",
     "text": [
      "C:\\Users\\sm.woo\\Anaconda3\\lib\\site-packages\\statsmodels\\tsa\\base\\tsa_model.py:219: ValueWarning: A date index has been provided, but it has no associated frequency information and so will be ignored when e.g. forecasting.\n",
      "  ' ignored when e.g. forecasting.', ValueWarning)\n",
      "C:\\Users\\sm.woo\\Anaconda3\\lib\\site-packages\\statsmodels\\tsa\\base\\tsa_model.py:219: ValueWarning: A date index has been provided, but it has no associated frequency information and so will be ignored when e.g. forecasting.\n",
      "  ' ignored when e.g. forecasting.', ValueWarning)\n"
     ]
    }
   ],
   "source": [
    "model_1 = ARIMA(df_train, order=(1,1,1))\n",
    "model_1_fit = model_1.fit(trend='nc',full_output=True, disp=1)\n",
    "print(model_1_fit.summary())"
   ]
  },
  {
   "cell_type": "code",
   "execution_count": 6,
   "metadata": {},
   "outputs": [
    {
     "name": "stderr",
     "output_type": "stream",
     "text": [
      "C:\\Users\\sm.woo\\Anaconda3\\lib\\site-packages\\statsmodels\\tsa\\base\\tsa_model.py:219: ValueWarning: A date index has been provided, but it has no associated frequency information and so will be ignored when e.g. forecasting.\n",
      "  ' ignored when e.g. forecasting.', ValueWarning)\n",
      "C:\\Users\\sm.woo\\Anaconda3\\lib\\site-packages\\statsmodels\\tsa\\base\\tsa_model.py:219: ValueWarning: A date index has been provided, but it has no associated frequency information and so will be ignored when e.g. forecasting.\n",
      "  ' ignored when e.g. forecasting.', ValueWarning)\n"
     ]
    },
    {
     "name": "stdout",
     "output_type": "stream",
     "text": [
      "                             ARIMA Model Results                              \n",
      "==============================================================================\n",
      "Dep. Variable:                 D.Rate   No. Observations:                  242\n",
      "Model:                 ARIMA(1, 1, 1)   Log Likelihood                -687.785\n",
      "Method:                       css-mle   S.D. of innovations              4.150\n",
      "Date:                Fri, 07 Feb 2020   AIC                           1383.570\n",
      "Time:                        15:52:39   BIC                           1397.526\n",
      "Sample:                             1   HQIC                          1389.192\n",
      "                                                                              \n",
      "================================================================================\n",
      "                   coef    std err          z      P>|z|      [0.025      0.975]\n",
      "--------------------------------------------------------------------------------\n",
      "const            0.3019      0.283      1.066      0.287      -0.253       0.857\n",
      "ar.L1.D.Rate    -0.4034      0.439     -0.919      0.359      -1.264       0.457\n",
      "ma.L1.D.Rate     0.4898      0.417      1.175      0.241      -0.327       1.307\n",
      "                                    Roots                                    \n",
      "=============================================================================\n",
      "                  Real          Imaginary           Modulus         Frequency\n",
      "-----------------------------------------------------------------------------\n",
      "AR.1           -2.4790           +0.0000j            2.4790            0.5000\n",
      "MA.1           -2.0417           +0.0000j            2.0417            0.5000\n",
      "-----------------------------------------------------------------------------\n"
     ]
    }
   ],
   "source": [
    "model_2 = ARIMA(df_train, order=(1,1,1))\n",
    "model_2_fit = model_2.fit(trend='c',full_output=True, disp=1)\n",
    "print(model_2_fit.summary())"
   ]
  },
  {
   "cell_type": "code",
   "execution_count": 7,
   "metadata": {},
   "outputs": [
    {
     "name": "stderr",
     "output_type": "stream",
     "text": [
      "C:\\Users\\sm.woo\\Anaconda3\\lib\\site-packages\\statsmodels\\tsa\\base\\tsa_model.py:219: ValueWarning: A date index has been provided, but it has no associated frequency information and so will be ignored when e.g. forecasting.\n",
      "  ' ignored when e.g. forecasting.', ValueWarning)\n",
      "C:\\Users\\sm.woo\\Anaconda3\\lib\\site-packages\\statsmodels\\tsa\\base\\tsa_model.py:219: ValueWarning: A date index has been provided, but it has no associated frequency information and so will be ignored when e.g. forecasting.\n",
      "  ' ignored when e.g. forecasting.', ValueWarning)\n",
      "C:\\Users\\sm.woo\\Anaconda3\\lib\\site-packages\\statsmodels\\tsa\\tsatools.py:668: RuntimeWarning: invalid value encountered in true_divide\n",
      "  newparams = ((1-np.exp(-params))/(1+np.exp(-params))).copy()\n",
      "C:\\Users\\sm.woo\\Anaconda3\\lib\\site-packages\\statsmodels\\tsa\\tsatools.py:669: RuntimeWarning: invalid value encountered in true_divide\n",
      "  tmp = ((1-np.exp(-params))/(1+np.exp(-params))).copy()\n"
     ]
    },
    {
     "name": "stdout",
     "output_type": "stream",
     "text": [
      "                             ARIMA Model Results                              \n",
      "==============================================================================\n",
      "Dep. Variable:                 D.Rate   No. Observations:                  242\n",
      "Model:                 ARIMA(2, 1, 1)   Log Likelihood                -685.388\n",
      "Method:                       css-mle   S.D. of innovations              4.108\n",
      "Date:                Fri, 07 Feb 2020   AIC                           1380.775\n",
      "Time:                        15:52:39   BIC                           1398.220\n",
      "Sample:                             1   HQIC                          1387.802\n",
      "                                                                              \n",
      "================================================================================\n",
      "                   coef    std err          z      P>|z|      [0.025      0.975]\n",
      "--------------------------------------------------------------------------------\n",
      "const            0.2962      0.167      1.771      0.078      -0.032       0.624\n",
      "ar.L1.D.Rate     0.9512      0.098      9.658      0.000       0.758       1.144\n",
      "ar.L2.D.Rate    -0.1445      0.065     -2.216      0.028      -0.272      -0.017\n",
      "ma.L1.D.Rate    -0.8796      0.078    -11.212      0.000      -1.033      -0.726\n",
      "                                    Roots                                    \n",
      "=============================================================================\n",
      "                  Real          Imaginary           Modulus         Frequency\n",
      "-----------------------------------------------------------------------------\n",
      "AR.1            1.3135           +0.0000j            1.3135            0.0000\n",
      "AR.2            5.2673           +0.0000j            5.2673            0.0000\n",
      "MA.1            1.1369           +0.0000j            1.1369            0.0000\n",
      "-----------------------------------------------------------------------------\n"
     ]
    }
   ],
   "source": [
    "model_3 = ARIMA(df_train, order=(2,1,1))\n",
    "model_3_fit = model_3.fit(trend='c',full_output=True, disp=1)\n",
    "print(model_3_fit.summary())"
   ]
  },
  {
   "cell_type": "code",
   "execution_count": 8,
   "metadata": {},
   "outputs": [
    {
     "name": "stdout",
     "output_type": "stream",
     "text": [
      "                             ARIMA Model Results                              \n",
      "==============================================================================\n",
      "Dep. Variable:                 D.Rate   No. Observations:                  242\n",
      "Model:                 ARIMA(2, 1, 1)   Log Likelihood                -688.338\n",
      "Method:                       css-mle   S.D. of innovations              4.160\n",
      "Date:                Fri, 07 Feb 2020   AIC                           1384.676\n",
      "Time:                        15:52:39   BIC                           1398.632\n",
      "Sample:                             1   HQIC                          1390.298\n",
      "                                                                              \n",
      "================================================================================\n",
      "                   coef    std err          z      P>|z|      [0.025      0.975]\n",
      "--------------------------------------------------------------------------------\n",
      "ar.L1.D.Rate    -0.4365      0.529     -0.826      0.410      -1.473       0.599\n",
      "ar.L2.D.Rate     0.0133      0.088      0.151      0.880      -0.159       0.186\n",
      "ma.L1.D.Rate     0.5296      0.524      1.010      0.313      -0.498       1.557\n",
      "                                    Roots                                    \n",
      "=============================================================================\n",
      "                  Real          Imaginary           Modulus         Frequency\n",
      "-----------------------------------------------------------------------------\n",
      "AR.1           -2.1497           +0.0000j            2.1497            0.5000\n",
      "AR.2           34.9057           +0.0000j           34.9057            0.0000\n",
      "MA.1           -1.8881           +0.0000j            1.8881            0.5000\n",
      "-----------------------------------------------------------------------------\n"
     ]
    },
    {
     "name": "stderr",
     "output_type": "stream",
     "text": [
      "C:\\Users\\sm.woo\\Anaconda3\\lib\\site-packages\\statsmodels\\tsa\\base\\tsa_model.py:219: ValueWarning: A date index has been provided, but it has no associated frequency information and so will be ignored when e.g. forecasting.\n",
      "  ' ignored when e.g. forecasting.', ValueWarning)\n",
      "C:\\Users\\sm.woo\\Anaconda3\\lib\\site-packages\\statsmodels\\tsa\\base\\tsa_model.py:219: ValueWarning: A date index has been provided, but it has no associated frequency information and so will be ignored when e.g. forecasting.\n",
      "  ' ignored when e.g. forecasting.', ValueWarning)\n"
     ]
    }
   ],
   "source": [
    "model_4 = ARIMA(df_train, order=(2,1,1))\n",
    "model_4_fit = model_4.fit(trend='nc',full_output=True, disp=1)\n",
    "print(model_4_fit.summary())"
   ]
  },
  {
   "cell_type": "code",
   "execution_count": 9,
   "metadata": {},
   "outputs": [
    {
     "name": "stderr",
     "output_type": "stream",
     "text": [
      "C:\\Users\\sm.woo\\Anaconda3\\lib\\site-packages\\statsmodels\\tsa\\base\\tsa_model.py:219: ValueWarning: A date index has been provided, but it has no associated frequency information and so will be ignored when e.g. forecasting.\n",
      "  ' ignored when e.g. forecasting.', ValueWarning)\n",
      "C:\\Users\\sm.woo\\Anaconda3\\lib\\site-packages\\statsmodels\\tsa\\base\\tsa_model.py:219: ValueWarning: A date index has been provided, but it has no associated frequency information and so will be ignored when e.g. forecasting.\n",
      "  ' ignored when e.g. forecasting.', ValueWarning)\n"
     ]
    },
    {
     "name": "stdout",
     "output_type": "stream",
     "text": [
      "                             ARIMA Model Results                              \n",
      "==============================================================================\n",
      "Dep. Variable:                 D.Rate   No. Observations:                  242\n",
      "Model:                 ARIMA(2, 1, 2)   Log Likelihood                -686.412\n",
      "Method:                       css-mle   S.D. of innovations              4.099\n",
      "Date:                Fri, 07 Feb 2020   AIC                           1382.824\n",
      "Time:                        15:52:40   BIC                           1400.269\n",
      "Sample:                             1   HQIC                          1389.852\n",
      "                                                                              \n",
      "================================================================================\n",
      "                   coef    std err          z      P>|z|      [0.025      0.975]\n",
      "--------------------------------------------------------------------------------\n",
      "ar.L1.D.Rate    -1.7823      0.029    -61.851      0.000      -1.839      -1.726\n",
      "ar.L2.D.Rate    -0.9278      0.027    -34.424      0.000      -0.981      -0.875\n",
      "ma.L1.D.Rate     1.8484      0.054     34.413      0.000       1.743       1.954\n",
      "ma.L2.D.Rate     0.9993      0.058     17.378      0.000       0.887       1.112\n",
      "                                    Roots                                    \n",
      "=============================================================================\n",
      "                  Real          Imaginary           Modulus         Frequency\n",
      "-----------------------------------------------------------------------------\n",
      "AR.1           -0.9605           -0.3941j            1.0382           -0.4380\n",
      "AR.2           -0.9605           +0.3941j            1.0382            0.4380\n",
      "MA.1           -0.9249           -0.3812j            1.0004           -0.4378\n",
      "MA.2           -0.9249           +0.3812j            1.0004            0.4378\n",
      "-----------------------------------------------------------------------------\n"
     ]
    }
   ],
   "source": [
    "model_5 = ARIMA(df_train, order=(2,1,2))\n",
    "model_5_fit = model_5.fit(trend='nc',full_output=True, disp=1)\n",
    "print(model_5_fit.summary())"
   ]
  },
  {
   "cell_type": "code",
   "execution_count": 10,
   "metadata": {},
   "outputs": [
    {
     "name": "stderr",
     "output_type": "stream",
     "text": [
      "C:\\Users\\sm.woo\\Anaconda3\\lib\\site-packages\\statsmodels\\tsa\\base\\tsa_model.py:219: ValueWarning: A date index has been provided, but it has no associated frequency information and so will be ignored when e.g. forecasting.\n",
      "  ' ignored when e.g. forecasting.', ValueWarning)\n",
      "C:\\Users\\sm.woo\\Anaconda3\\lib\\site-packages\\statsmodels\\tsa\\base\\tsa_model.py:219: ValueWarning: A date index has been provided, but it has no associated frequency information and so will be ignored when e.g. forecasting.\n",
      "  ' ignored when e.g. forecasting.', ValueWarning)\n"
     ]
    },
    {
     "name": "stdout",
     "output_type": "stream",
     "text": [
      "                             ARIMA Model Results                              \n",
      "==============================================================================\n",
      "Dep. Variable:                 D.Rate   No. Observations:                  242\n",
      "Model:                 ARIMA(2, 1, 2)   Log Likelihood                -683.200\n",
      "Method:                       css-mle   S.D. of innovations              4.068\n",
      "Date:                Fri, 07 Feb 2020   AIC                           1378.400\n",
      "Time:                        15:52:40   BIC                           1399.333\n",
      "Sample:                             1   HQIC                          1386.833\n",
      "                                                                              \n",
      "================================================================================\n",
      "                   coef    std err          z      P>|z|      [0.025      0.975]\n",
      "--------------------------------------------------------------------------------\n",
      "const            0.3009      0.191      1.575      0.117      -0.074       0.675\n",
      "ar.L1.D.Rate     1.8317      0.050     36.444      0.000       1.733       1.930\n",
      "ar.L2.D.Rate    -0.9254      0.050    -18.649      0.000      -1.023      -0.828\n",
      "ma.L1.D.Rate    -1.8449      0.054    -34.037      0.000      -1.951      -1.739\n",
      "ma.L2.D.Rate     0.9133      0.055     16.518      0.000       0.805       1.022\n",
      "                                    Roots                                    \n",
      "=============================================================================\n",
      "                  Real          Imaginary           Modulus         Frequency\n",
      "-----------------------------------------------------------------------------\n",
      "AR.1            0.9897           -0.3181j            1.0395           -0.0495\n",
      "AR.2            0.9897           +0.3181j            1.0395            0.0495\n",
      "MA.1            1.0101           -0.2734j            1.0464           -0.0421\n",
      "MA.2            1.0101           +0.2734j            1.0464            0.0421\n",
      "-----------------------------------------------------------------------------\n"
     ]
    }
   ],
   "source": [
    "model_6 = ARIMA(df_train, order=(2,1,2))\n",
    "model_6_fit = model_6.fit(trend='c',full_output=True, disp=1)\n",
    "print(model_6_fit.summary())"
   ]
  },
  {
   "cell_type": "code",
   "execution_count": 11,
   "metadata": {},
   "outputs": [
    {
     "name": "stderr",
     "output_type": "stream",
     "text": [
      "C:\\Users\\sm.woo\\Anaconda3\\lib\\site-packages\\statsmodels\\tsa\\base\\tsa_model.py:219: ValueWarning: A date index has been provided, but it has no associated frequency information and so will be ignored when e.g. forecasting.\n",
      "  ' ignored when e.g. forecasting.', ValueWarning)\n",
      "C:\\Users\\sm.woo\\Anaconda3\\lib\\site-packages\\statsmodels\\tsa\\base\\tsa_model.py:219: ValueWarning: A date index has been provided, but it has no associated frequency information and so will be ignored when e.g. forecasting.\n",
      "  ' ignored when e.g. forecasting.', ValueWarning)\n"
     ]
    },
    {
     "name": "stdout",
     "output_type": "stream",
     "text": [
      "                             ARIMA Model Results                              \n",
      "==============================================================================\n",
      "Dep. Variable:                 D.Rate   No. Observations:                  242\n",
      "Model:                 ARIMA(1, 1, 2)   Log Likelihood                -688.340\n",
      "Method:                       css-mle   S.D. of innovations              4.160\n",
      "Date:                Fri, 07 Feb 2020   AIC                           1384.679\n",
      "Time:                        15:52:41   BIC                           1398.635\n",
      "Sample:                             1   HQIC                          1390.301\n",
      "                                                                              \n",
      "================================================================================\n",
      "                   coef    std err          z      P>|z|      [0.025      0.975]\n",
      "--------------------------------------------------------------------------------\n",
      "ar.L1.D.Rate    -0.4600      0.642     -0.716      0.475      -1.719       0.799\n",
      "ma.L1.D.Rate     0.5527      0.644      0.858      0.392      -0.710       1.815\n",
      "ma.L2.D.Rate     0.0143      0.099      0.145      0.885      -0.180       0.209\n",
      "                                    Roots                                    \n",
      "=============================================================================\n",
      "                  Real          Imaginary           Modulus         Frequency\n",
      "-----------------------------------------------------------------------------\n",
      "AR.1           -2.1737           +0.0000j            2.1737            0.5000\n",
      "MA.1           -1.9031           +0.0000j            1.9031            0.5000\n",
      "MA.2          -36.6467           +0.0000j           36.6467            0.5000\n",
      "-----------------------------------------------------------------------------\n"
     ]
    }
   ],
   "source": [
    "model_8 = ARIMA(df_train, order=(1,1,2))\n",
    "model_8_fit = model_8.fit(trend='nc',full_output=True, disp=1)\n",
    "print(model_8_fit.summary())"
   ]
  },
  {
   "cell_type": "code",
   "execution_count": 12,
   "metadata": {},
   "outputs": [
    {
     "name": "stderr",
     "output_type": "stream",
     "text": [
      "C:\\Users\\sm.woo\\Anaconda3\\lib\\site-packages\\statsmodels\\tsa\\base\\tsa_model.py:219: ValueWarning: A date index has been provided, but it has no associated frequency information and so will be ignored when e.g. forecasting.\n",
      "  ' ignored when e.g. forecasting.', ValueWarning)\n",
      "C:\\Users\\sm.woo\\Anaconda3\\lib\\site-packages\\statsmodels\\tsa\\base\\tsa_model.py:219: ValueWarning: A date index has been provided, but it has no associated frequency information and so will be ignored when e.g. forecasting.\n",
      "  ' ignored when e.g. forecasting.', ValueWarning)\n"
     ]
    },
    {
     "name": "stdout",
     "output_type": "stream",
     "text": [
      "                             ARIMA Model Results                              \n",
      "==============================================================================\n",
      "Dep. Variable:                 D.Rate   No. Observations:                  242\n",
      "Model:                 ARIMA(4, 1, 3)   Log Likelihood                -683.582\n",
      "Method:                       css-mle   S.D. of innovations              4.048\n",
      "Date:                Fri, 07 Feb 2020   AIC                           1383.164\n",
      "Time:                        15:52:42   BIC                           1411.075\n",
      "Sample:                             1   HQIC                          1394.408\n",
      "                                                                              \n",
      "================================================================================\n",
      "                   coef    std err          z      P>|z|      [0.025      0.975]\n",
      "--------------------------------------------------------------------------------\n",
      "ar.L1.D.Rate     0.1254      0.112      1.124      0.262      -0.093       0.344\n",
      "ar.L2.D.Rate    -0.3631      0.091     -3.992      0.000      -0.541      -0.185\n",
      "ar.L3.D.Rate     0.7975      0.102      7.795      0.000       0.597       0.998\n",
      "ar.L4.D.Rate    -0.1750      0.064     -2.726      0.007      -0.301      -0.049\n",
      "ma.L1.D.Rate    -0.0277      0.095     -0.290      0.772      -0.215       0.159\n",
      "ma.L2.D.Rate     0.3198      0.077      4.157      0.000       0.169       0.471\n",
      "ma.L3.D.Rate    -0.8387      0.092     -9.083      0.000      -1.020      -0.658\n",
      "                                    Roots                                    \n",
      "=============================================================================\n",
      "                  Real          Imaginary           Modulus         Frequency\n",
      "-----------------------------------------------------------------------------\n",
      "AR.1           -0.4231           -0.9141j            1.0073           -0.3190\n",
      "AR.2           -0.4231           +0.9141j            1.0073            0.3190\n",
      "AR.3            1.4107           -0.0000j            1.4107           -0.0000\n",
      "AR.4            3.9918           -0.0000j            3.9918           -0.0000\n",
      "MA.1           -0.4055           -0.9141j            1.0000           -0.3165\n",
      "MA.2           -0.4055           +0.9141j            1.0000            0.3165\n",
      "MA.3            1.1923           -0.0000j            1.1923           -0.0000\n",
      "-----------------------------------------------------------------------------\n"
     ]
    }
   ],
   "source": [
    "model_9 = ARIMA(df_train, order=(4,1,3))\n",
    "model_9_fit = model_9.fit(trend='nc',full_output=True, disp=1)\n",
    "print(model_9_fit.summary())"
   ]
  },
  {
   "cell_type": "code",
   "execution_count": 13,
   "metadata": {},
   "outputs": [
    {
     "name": "stderr",
     "output_type": "stream",
     "text": [
      "C:\\Users\\sm.woo\\Anaconda3\\lib\\site-packages\\statsmodels\\tsa\\base\\tsa_model.py:219: ValueWarning: A date index has been provided, but it has no associated frequency information and so will be ignored when e.g. forecasting.\n",
      "  ' ignored when e.g. forecasting.', ValueWarning)\n",
      "C:\\Users\\sm.woo\\Anaconda3\\lib\\site-packages\\statsmodels\\tsa\\base\\tsa_model.py:219: ValueWarning: A date index has been provided, but it has no associated frequency information and so will be ignored when e.g. forecasting.\n",
      "  ' ignored when e.g. forecasting.', ValueWarning)\n"
     ]
    },
    {
     "name": "stdout",
     "output_type": "stream",
     "text": [
      "                             ARIMA Model Results                              \n",
      "==============================================================================\n",
      "Dep. Variable:                 D.Rate   No. Observations:                  242\n",
      "Model:                 ARIMA(4, 1, 3)   Log Likelihood                -682.215\n",
      "Method:                       css-mle   S.D. of innovations              4.024\n",
      "Date:                Fri, 07 Feb 2020   AIC                           1382.431\n",
      "Time:                        15:52:43   BIC                           1413.831\n",
      "Sample:                             1   HQIC                          1395.080\n",
      "                                                                              \n",
      "================================================================================\n",
      "                   coef    std err          z      P>|z|      [0.025      0.975]\n",
      "--------------------------------------------------------------------------------\n",
      "const            0.2980      0.168      1.778      0.077      -0.031       0.627\n",
      "ar.L1.D.Rate     0.1456      0.099      1.464      0.144      -0.049       0.340\n",
      "ar.L2.D.Rate    -0.3507      0.083     -4.222      0.000      -0.513      -0.188\n",
      "ar.L3.D.Rate     0.8136      0.091      8.909      0.000       0.635       0.993\n",
      "ar.L4.D.Rate    -0.1798      0.065     -2.776      0.006      -0.307      -0.053\n",
      "ma.L1.D.Rate    -0.0591      0.081     -0.732      0.465      -0.217       0.099\n",
      "ma.L2.D.Rate     0.2939      0.065      4.508      0.000       0.166       0.422\n",
      "ma.L3.D.Rate    -0.8704      0.077    -11.328      0.000      -1.021      -0.720\n",
      "                                    Roots                                    \n",
      "=============================================================================\n",
      "                  Real          Imaginary           Modulus         Frequency\n",
      "-----------------------------------------------------------------------------\n",
      "AR.1           -0.4232           -0.9140j            1.0073           -0.3190\n",
      "AR.2           -0.4232           +0.9140j            1.0073            0.3190\n",
      "AR.3            1.3701           -0.0000j            1.3701           -0.0000\n",
      "AR.4            4.0010           -0.0000j            4.0010           -0.0000\n",
      "MA.1           -0.4056           -0.9140j            1.0000           -0.3165\n",
      "MA.2           -0.4056           +0.9140j            1.0000            0.3165\n",
      "MA.3            1.1489           -0.0000j            1.1489           -0.0000\n",
      "-----------------------------------------------------------------------------\n"
     ]
    }
   ],
   "source": [
    "model_10 = ARIMA(df_train, order=(4,1,3))\n",
    "model_10_fit = model_10.fit(trend='c',full_output=True, disp=1)\n",
    "print(model_10_fit.summary())"
   ]
  },
  {
   "cell_type": "code",
   "execution_count": 14,
   "metadata": {},
   "outputs": [
    {
     "name": "stderr",
     "output_type": "stream",
     "text": [
      "C:\\Users\\sm.woo\\Anaconda3\\lib\\site-packages\\statsmodels\\tsa\\base\\tsa_model.py:219: ValueWarning: A date index has been provided, but it has no associated frequency information and so will be ignored when e.g. forecasting.\n",
      "  ' ignored when e.g. forecasting.', ValueWarning)\n",
      "C:\\Users\\sm.woo\\Anaconda3\\lib\\site-packages\\statsmodels\\tsa\\base\\tsa_model.py:219: ValueWarning: A date index has been provided, but it has no associated frequency information and so will be ignored when e.g. forecasting.\n",
      "  ' ignored when e.g. forecasting.', ValueWarning)\n"
     ]
    },
    {
     "name": "stdout",
     "output_type": "stream",
     "text": [
      "                             ARIMA Model Results                              \n",
      "==============================================================================\n",
      "Dep. Variable:                 D.Rate   No. Observations:                  242\n",
      "Model:                 ARIMA(5, 1, 4)   Log Likelihood                -682.493\n",
      "Method:                       css-mle   S.D. of innovations              4.057\n",
      "Date:                Fri, 07 Feb 2020   AIC                           1386.987\n",
      "Time:                        15:52:45   BIC                           1425.365\n",
      "Sample:                             1   HQIC                          1402.447\n",
      "                                                                              \n",
      "================================================================================\n",
      "                   coef    std err          z      P>|z|      [0.025      0.975]\n",
      "--------------------------------------------------------------------------------\n",
      "const            0.2969      0.170      1.750      0.081      -0.036       0.630\n",
      "ar.L1.D.Rate    -0.5279      0.493     -1.071      0.285      -1.494       0.438\n",
      "ar.L2.D.Rate     0.7485      0.483      1.551      0.122      -0.197       1.694\n",
      "ar.L3.D.Rate     0.4318      0.313      1.381      0.169      -0.181       1.045\n",
      "ar.L4.D.Rate    -0.3513      0.335     -1.049      0.295      -1.008       0.305\n",
      "ar.L5.D.Rate    -0.0988      0.107     -0.928      0.354      -0.308       0.110\n",
      "ma.L1.D.Rate     0.6028      0.494      1.220      0.224      -0.365       1.571\n",
      "ma.L2.D.Rate    -0.7619      0.528     -1.443      0.150      -1.797       0.273\n",
      "ma.L3.D.Rate    -0.5523      0.310     -1.784      0.076      -1.159       0.055\n",
      "ma.L4.D.Rate     0.2243      0.443      0.507      0.613      -0.643       1.092\n",
      "                                    Roots                                    \n",
      "=============================================================================\n",
      "                  Real          Imaginary           Modulus         Frequency\n",
      "-----------------------------------------------------------------------------\n",
      "AR.1            1.2939           -0.5315j            1.3988           -0.0620\n",
      "AR.2            1.2939           +0.5315j            1.3988            0.0620\n",
      "AR.3           -1.0075           -0.4878j            1.1194           -0.4282\n",
      "AR.4           -1.0075           +0.4878j            1.1194            0.4282\n",
      "AR.5           -4.1267           -0.0000j            4.1267           -0.5000\n",
      "MA.1           -0.9652           -0.4418j            1.0615           -0.4317\n",
      "MA.2           -0.9652           +0.4418j            1.0615            0.4317\n",
      "MA.3            1.2648           -0.0000j            1.2648           -0.0000\n",
      "MA.4            3.1281           -0.0000j            3.1281           -0.0000\n",
      "-----------------------------------------------------------------------------\n"
     ]
    }
   ],
   "source": [
    "model_13 = ARIMA(df_train, order=(5,1,4))\n",
    "model_13_fit = model_13.fit(trend='c',full_output=True, disp=1)\n",
    "print(model_13_fit.summary())"
   ]
  },
  {
   "cell_type": "code",
   "execution_count": 15,
   "metadata": {},
   "outputs": [
    {
     "name": "stderr",
     "output_type": "stream",
     "text": [
      "C:\\Users\\sm.woo\\Anaconda3\\lib\\site-packages\\statsmodels\\tsa\\base\\tsa_model.py:219: ValueWarning: A date index has been provided, but it has no associated frequency information and so will be ignored when e.g. forecasting.\n",
      "  ' ignored when e.g. forecasting.', ValueWarning)\n",
      "C:\\Users\\sm.woo\\Anaconda3\\lib\\site-packages\\statsmodels\\tsa\\base\\tsa_model.py:219: ValueWarning: A date index has been provided, but it has no associated frequency information and so will be ignored when e.g. forecasting.\n",
      "  ' ignored when e.g. forecasting.', ValueWarning)\n"
     ]
    },
    {
     "name": "stdout",
     "output_type": "stream",
     "text": [
      "                             ARIMA Model Results                              \n",
      "==============================================================================\n",
      "Dep. Variable:                 D.Rate   No. Observations:                  242\n",
      "Model:                 ARIMA(5, 1, 4)   Log Likelihood                -683.853\n",
      "Method:                       css-mle   S.D. of innovations              4.081\n",
      "Date:                Fri, 07 Feb 2020   AIC                           1387.707\n",
      "Time:                        15:52:47   BIC                           1422.596\n",
      "Sample:                             1   HQIC                          1401.762\n",
      "                                                                              \n",
      "================================================================================\n",
      "                   coef    std err          z      P>|z|      [0.025      0.975]\n",
      "--------------------------------------------------------------------------------\n",
      "ar.L1.D.Rate    -0.5555      0.467     -1.190      0.235      -1.471       0.360\n",
      "ar.L2.D.Rate     0.7076      0.466      1.518      0.130      -0.206       1.621\n",
      "ar.L3.D.Rate     0.4219      0.284      1.486      0.139      -0.135       0.979\n",
      "ar.L4.D.Rate    -0.3425      0.308     -1.113      0.267      -0.946       0.261\n",
      "ar.L5.D.Rate    -0.0990      0.100     -0.991      0.323      -0.295       0.097\n",
      "ma.L1.D.Rate     0.6421      0.468      1.373      0.171      -0.274       1.559\n",
      "ma.L2.D.Rate    -0.6999      0.513     -1.363      0.174      -1.706       0.306\n",
      "ma.L3.D.Rate    -0.5312      0.273     -1.945      0.053      -1.066       0.004\n",
      "ma.L4.D.Rate     0.2149      0.396      0.543      0.588      -0.561       0.991\n",
      "                                    Roots                                    \n",
      "=============================================================================\n",
      "                  Real          Imaginary           Modulus         Frequency\n",
      "-----------------------------------------------------------------------------\n",
      "AR.1            1.2933           -0.5671j            1.4122           -0.0658\n",
      "AR.2            1.2933           +0.5671j            1.4122            0.0658\n",
      "AR.3           -1.0083           -0.4901j            1.1211           -0.4280\n",
      "AR.4           -1.0083           +0.4901j            1.1211            0.4280\n",
      "AR.5           -4.0298           -0.0000j            4.0298           -0.5000\n",
      "MA.1           -0.9659           -0.4430j            1.0626           -0.4316\n",
      "MA.2           -0.9659           +0.4430j            1.0626            0.4316\n",
      "MA.3            1.3491           -0.0000j            1.3491           -0.0000\n",
      "MA.4            3.0541           -0.0000j            3.0541           -0.0000\n",
      "-----------------------------------------------------------------------------\n"
     ]
    }
   ],
   "source": [
    "model_14 = ARIMA(df_train, order=(5,1,4))\n",
    "model_14_fit = model_14.fit(trend='nc',full_output=True, disp=1)\n",
    "print(model_14_fit.summary())"
   ]
  },
  {
   "cell_type": "code",
   "execution_count": 16,
   "metadata": {},
   "outputs": [
    {
     "name": "stderr",
     "output_type": "stream",
     "text": [
      "C:\\Users\\sm.woo\\Anaconda3\\lib\\site-packages\\statsmodels\\tsa\\base\\tsa_model.py:219: ValueWarning: A date index has been provided, but it has no associated frequency information and so will be ignored when e.g. forecasting.\n",
      "  ' ignored when e.g. forecasting.', ValueWarning)\n",
      "C:\\Users\\sm.woo\\Anaconda3\\lib\\site-packages\\statsmodels\\tsa\\base\\tsa_model.py:219: ValueWarning: A date index has been provided, but it has no associated frequency information and so will be ignored when e.g. forecasting.\n",
      "  ' ignored when e.g. forecasting.', ValueWarning)\n"
     ]
    },
    {
     "name": "stdout",
     "output_type": "stream",
     "text": [
      "                             ARIMA Model Results                              \n",
      "==============================================================================\n",
      "Dep. Variable:                 D.Rate   No. Observations:                  242\n",
      "Model:                 ARIMA(5, 1, 3)   Log Likelihood                -683.089\n",
      "Method:                       css-mle   S.D. of innovations              4.064\n",
      "Date:                Fri, 07 Feb 2020   AIC                           1384.178\n",
      "Time:                        15:52:49   BIC                           1415.579\n",
      "Sample:                             1   HQIC                          1396.827\n",
      "                                                                              \n",
      "================================================================================\n",
      "                   coef    std err          z      P>|z|      [0.025      0.975]\n",
      "--------------------------------------------------------------------------------\n",
      "ar.L1.D.Rate     0.0805      0.139      0.579      0.563      -0.192       0.353\n",
      "ar.L2.D.Rate    -0.3280      0.105     -3.129      0.002      -0.533      -0.123\n",
      "ar.L3.D.Rate     0.7411      0.127      5.857      0.000       0.493       0.989\n",
      "ar.L4.D.Rate    -0.1768      0.066     -2.698      0.007      -0.305      -0.048\n",
      "ar.L5.D.Rate    -0.0532      0.074     -0.721      0.472      -0.198       0.091\n",
      "ma.L1.D.Rate     0.0062      0.124      0.050      0.960      -0.237       0.249\n",
      "ma.L2.D.Rate     0.3105      0.097      3.191      0.002       0.120       0.501\n",
      "ma.L3.D.Rate    -0.7809      0.113     -6.902      0.000      -1.003      -0.559\n",
      "                                    Roots                                    \n",
      "=============================================================================\n",
      "                  Real          Imaginary           Modulus         Frequency\n",
      "-----------------------------------------------------------------------------\n",
      "AR.1           -0.4322           -0.9132j            1.0103           -0.3204\n",
      "AR.2           -0.4322           +0.9132j            1.0103            0.3204\n",
      "AR.3            1.7154           -0.4298j            1.7685           -0.0391\n",
      "AR.4            1.7154           +0.4298j            1.7685            0.0391\n",
      "AR.5           -5.8909           -0.0000j            5.8909           -0.5000\n",
      "MA.1           -0.4205           -0.9257j            1.0168           -0.3179\n",
      "MA.2           -0.4205           +0.9257j            1.0168            0.3179\n",
      "MA.3            1.2386           -0.0000j            1.2386           -0.0000\n",
      "-----------------------------------------------------------------------------\n"
     ]
    }
   ],
   "source": [
    "model_15 = ARIMA(df_train, order=(5,1,3))\n",
    "model_15_fit = model_15.fit(trend='nc',full_output=True, disp=1)\n",
    "print(model_15_fit.summary())"
   ]
  },
  {
   "cell_type": "code",
   "execution_count": 17,
   "metadata": {},
   "outputs": [
    {
     "name": "stderr",
     "output_type": "stream",
     "text": [
      "C:\\Users\\sm.woo\\Anaconda3\\lib\\site-packages\\statsmodels\\tsa\\base\\tsa_model.py:219: ValueWarning: A date index has been provided, but it has no associated frequency information and so will be ignored when e.g. forecasting.\n",
      "  ' ignored when e.g. forecasting.', ValueWarning)\n",
      "C:\\Users\\sm.woo\\Anaconda3\\lib\\site-packages\\statsmodels\\tsa\\base\\tsa_model.py:219: ValueWarning: A date index has been provided, but it has no associated frequency information and so will be ignored when e.g. forecasting.\n",
      "  ' ignored when e.g. forecasting.', ValueWarning)\n"
     ]
    },
    {
     "name": "stdout",
     "output_type": "stream",
     "text": [
      "                             ARIMA Model Results                              \n",
      "==============================================================================\n",
      "Dep. Variable:                 D.Rate   No. Observations:                  242\n",
      "Model:                 ARIMA(5, 1, 3)   Log Likelihood                -681.720\n",
      "Method:                       css-mle   S.D. of innovations              4.040\n",
      "Date:                Fri, 07 Feb 2020   AIC                           1383.441\n",
      "Time:                        15:52:53   BIC                           1418.330\n",
      "Sample:                             1   HQIC                          1397.496\n",
      "                                                                              \n",
      "================================================================================\n",
      "                   coef    std err          z      P>|z|      [0.025      0.975]\n",
      "--------------------------------------------------------------------------------\n",
      "const            0.2975      0.168      1.766      0.079      -0.033       0.628\n",
      "ar.L1.D.Rate     0.1036      0.124      0.835      0.405      -0.140       0.347\n",
      "ar.L2.D.Rate    -0.3127      0.096     -3.241      0.001      -0.502      -0.124\n",
      "ar.L3.D.Rate     0.7593      0.112      6.750      0.000       0.539       0.980\n",
      "ar.L4.D.Rate    -0.1818      0.066     -2.761      0.006      -0.311      -0.053\n",
      "ar.L5.D.Rate    -0.0543      0.074     -0.731      0.465      -0.200       0.091\n",
      "ma.L1.D.Rate    -0.0285      0.107     -0.266      0.790      -0.238       0.181\n",
      "ma.L2.D.Rate     0.2824      0.084      3.355      0.001       0.117       0.447\n",
      "ma.L3.D.Rate    -0.8151      0.096     -8.477      0.000      -1.004      -0.627\n",
      "                                    Roots                                    \n",
      "=============================================================================\n",
      "                  Real          Imaginary           Modulus         Frequency\n",
      "-----------------------------------------------------------------------------\n",
      "AR.1           -0.4321           -0.9131j            1.0102           -0.3203\n",
      "AR.2           -0.4321           +0.9131j            1.0102            0.3203\n",
      "AR.3            1.7107           -0.3589j            1.7480           -0.0329\n",
      "AR.4            1.7107           +0.3589j            1.7480            0.0329\n",
      "AR.5           -5.9023           -0.0000j            5.9023           -0.5000\n",
      "MA.1           -0.4204           -0.9255j            1.0165           -0.3179\n",
      "MA.2           -0.4204           +0.9255j            1.0165            0.3179\n",
      "MA.3            1.1873           -0.0000j            1.1873           -0.0000\n",
      "-----------------------------------------------------------------------------\n"
     ]
    }
   ],
   "source": [
    "model_16 = ARIMA(df_train, order=(5,1,3))\n",
    "model_16_fit = model_16.fit(trend='c',full_output=True, disp=1)\n",
    "print(model_16_fit.summary())"
   ]
  },
  {
   "cell_type": "code",
   "execution_count": 18,
   "metadata": {},
   "outputs": [
    {
     "name": "stderr",
     "output_type": "stream",
     "text": [
      "C:\\Users\\sm.woo\\Anaconda3\\lib\\site-packages\\statsmodels\\tsa\\base\\tsa_model.py:219: ValueWarning: A date index has been provided, but it has no associated frequency information and so will be ignored when e.g. forecasting.\n",
      "  ' ignored when e.g. forecasting.', ValueWarning)\n",
      "C:\\Users\\sm.woo\\Anaconda3\\lib\\site-packages\\statsmodels\\tsa\\base\\tsa_model.py:219: ValueWarning: A date index has been provided, but it has no associated frequency information and so will be ignored when e.g. forecasting.\n",
      "  ' ignored when e.g. forecasting.', ValueWarning)\n"
     ]
    },
    {
     "name": "stdout",
     "output_type": "stream",
     "text": [
      "                             ARIMA Model Results                              \n",
      "==============================================================================\n",
      "Dep. Variable:                 D.Rate   No. Observations:                  242\n",
      "Model:                 ARIMA(5, 1, 2)   Log Likelihood                -683.812\n",
      "Method:                       css-mle   S.D. of innovations              4.081\n",
      "Date:                Fri, 07 Feb 2020   AIC                           1385.624\n",
      "Time:                        15:52:54   BIC                           1417.024\n",
      "Sample:                             1   HQIC                          1398.273\n",
      "                                                                              \n",
      "================================================================================\n",
      "                   coef    std err          z      P>|z|      [0.025      0.975]\n",
      "--------------------------------------------------------------------------------\n",
      "const            0.2958      0.173      1.710      0.089      -0.043       0.635\n",
      "ar.L1.D.Rate     0.0029      0.289      0.010      0.992      -0.563       0.569\n",
      "ar.L2.D.Rate     0.5680      0.250      2.275      0.024       0.079       1.057\n",
      "ar.L3.D.Rate    -0.0585      0.078     -0.753      0.452      -0.211       0.094\n",
      "ar.L4.D.Rate    -0.0796      0.070     -1.144      0.254      -0.216       0.057\n",
      "ar.L5.D.Rate    -0.1089      0.074     -1.470      0.143      -0.254       0.036\n",
      "ma.L1.D.Rate     0.0573      0.285      0.201      0.841      -0.502       0.616\n",
      "ma.L2.D.Rate    -0.6162      0.238     -2.591      0.010      -1.082      -0.150\n",
      "                                    Roots                                    \n",
      "=============================================================================\n",
      "                  Real          Imaginary           Modulus         Frequency\n",
      "-----------------------------------------------------------------------------\n",
      "AR.1            1.2307           -0.5856j            1.3629           -0.0707\n",
      "AR.2            1.2307           +0.5856j            1.3629            0.0707\n",
      "AR.3           -1.1902           -0.0000j            1.1902           -0.5000\n",
      "AR.4           -1.0010           -1.7753j            2.0381           -0.3317\n",
      "AR.5           -1.0010           +1.7753j            2.0381            0.3317\n",
      "MA.1           -1.2283           +0.0000j            1.2283            0.5000\n",
      "MA.2            1.3212           +0.0000j            1.3212            0.0000\n",
      "-----------------------------------------------------------------------------\n"
     ]
    }
   ],
   "source": [
    "model_17 = ARIMA(df_train, order=(5,1,2))\n",
    "model_17_fit = model_17.fit(trend='c',full_output=True, disp=1)\n",
    "print(model_17_fit.summary())"
   ]
  },
  {
   "cell_type": "code",
   "execution_count": 19,
   "metadata": {},
   "outputs": [
    {
     "name": "stderr",
     "output_type": "stream",
     "text": [
      "C:\\Users\\sm.woo\\Anaconda3\\lib\\site-packages\\statsmodels\\tsa\\base\\tsa_model.py:219: ValueWarning: A date index has been provided, but it has no associated frequency information and so will be ignored when e.g. forecasting.\n",
      "  ' ignored when e.g. forecasting.', ValueWarning)\n",
      "C:\\Users\\sm.woo\\Anaconda3\\lib\\site-packages\\statsmodels\\tsa\\base\\tsa_model.py:219: ValueWarning: A date index has been provided, but it has no associated frequency information and so will be ignored when e.g. forecasting.\n",
      "  ' ignored when e.g. forecasting.', ValueWarning)\n"
     ]
    },
    {
     "name": "stdout",
     "output_type": "stream",
     "text": [
      "                             ARIMA Model Results                              \n",
      "==============================================================================\n",
      "Dep. Variable:                 D.Rate   No. Observations:                  242\n",
      "Model:                 ARIMA(5, 1, 2)   Log Likelihood                -685.090\n",
      "Method:                       css-mle   S.D. of innovations              4.103\n",
      "Date:                Fri, 07 Feb 2020   AIC                           1386.181\n",
      "Time:                        15:52:55   BIC                           1414.092\n",
      "Sample:                             1   HQIC                          1397.425\n",
      "                                                                              \n",
      "================================================================================\n",
      "                   coef    std err          z      P>|z|      [0.025      0.975]\n",
      "--------------------------------------------------------------------------------\n",
      "ar.L1.D.Rate    -0.0957      0.593     -0.161      0.872      -1.257       1.066\n",
      "ar.L2.D.Rate     0.4827      0.527      0.916      0.360      -0.550       1.515\n",
      "ar.L3.D.Rate    -0.0484      0.084     -0.579      0.563      -0.212       0.115\n",
      "ar.L4.D.Rate    -0.0886      0.097     -0.909      0.364      -0.279       0.102\n",
      "ar.L5.D.Rate    -0.1214      0.108     -1.122      0.263      -0.333       0.091\n",
      "ma.L1.D.Rate     0.1690      0.604      0.280      0.780      -1.015       1.353\n",
      "ma.L2.D.Rate    -0.5096      0.577     -0.883      0.378      -1.640       0.621\n",
      "                                    Roots                                    \n",
      "=============================================================================\n",
      "                  Real          Imaginary           Modulus         Frequency\n",
      "-----------------------------------------------------------------------------\n",
      "AR.1            1.1938           -0.6777j            1.3727           -0.0822\n",
      "AR.2            1.1938           +0.6777j            1.3727            0.0822\n",
      "AR.3           -1.1943           -0.0000j            1.1943           -0.5000\n",
      "AR.4           -0.9613           -1.6539j            1.9129           -0.3338\n",
      "AR.5           -0.9613           +1.6539j            1.9129            0.3338\n",
      "MA.1           -1.2448           +0.0000j            1.2448            0.5000\n",
      "MA.2            1.5763           +0.0000j            1.5763            0.0000\n",
      "-----------------------------------------------------------------------------\n"
     ]
    }
   ],
   "source": [
    "model_18 = ARIMA(df_train, order=(5,1,2))\n",
    "model_18_fit = model_18.fit(trend='nc',full_output=True, disp=1)\n",
    "print(model_18_fit.summary())"
   ]
  },
  {
   "cell_type": "code",
   "execution_count": 20,
   "metadata": {},
   "outputs": [
    {
     "name": "stderr",
     "output_type": "stream",
     "text": [
      "C:\\Users\\sm.woo\\Anaconda3\\lib\\site-packages\\statsmodels\\tsa\\base\\tsa_model.py:219: ValueWarning: A date index has been provided, but it has no associated frequency information and so will be ignored when e.g. forecasting.\n",
      "  ' ignored when e.g. forecasting.', ValueWarning)\n",
      "C:\\Users\\sm.woo\\Anaconda3\\lib\\site-packages\\statsmodels\\tsa\\base\\tsa_model.py:219: ValueWarning: A date index has been provided, but it has no associated frequency information and so will be ignored when e.g. forecasting.\n",
      "  ' ignored when e.g. forecasting.', ValueWarning)\n"
     ]
    },
    {
     "name": "stdout",
     "output_type": "stream",
     "text": [
      "                             ARIMA Model Results                              \n",
      "==============================================================================\n",
      "Dep. Variable:                 D.Rate   No. Observations:                  242\n",
      "Model:                 ARIMA(5, 1, 1)   Log Likelihood                -685.031\n",
      "Method:                       css-mle   S.D. of innovations              4.102\n",
      "Date:                Fri, 07 Feb 2020   AIC                           1384.062\n",
      "Time:                        15:52:56   BIC                           1408.484\n",
      "Sample:                             1   HQIC                          1393.900\n",
      "                                                                              \n",
      "================================================================================\n",
      "                   coef    std err          z      P>|z|      [0.025      0.975]\n",
      "--------------------------------------------------------------------------------\n",
      "ar.L1.D.Rate    -0.5803      0.287     -2.019      0.045      -1.144      -0.017\n",
      "ar.L2.D.Rate     0.0299      0.078      0.385      0.701      -0.123       0.182\n",
      "ar.L3.D.Rate    -0.0140      0.074     -0.191      0.849      -0.159       0.130\n",
      "ar.L4.D.Rate    -0.1275      0.073     -1.743      0.083      -0.271       0.016\n",
      "ar.L5.D.Rate    -0.1628      0.066     -2.479      0.014      -0.292      -0.034\n",
      "ma.L1.D.Rate     0.6675      0.286      2.330      0.021       0.106       1.229\n",
      "                                    Roots                                    \n",
      "=============================================================================\n",
      "                  Real          Imaginary           Modulus         Frequency\n",
      "-----------------------------------------------------------------------------\n",
      "AR.1            1.0923           -1.0086j            1.4868           -0.1187\n",
      "AR.2            1.0923           +1.0086j            1.4868            0.1187\n",
      "AR.3           -1.2586           -0.0000j            1.2586           -0.5000\n",
      "AR.4           -0.8545           -1.2156j            1.4859           -0.3475\n",
      "AR.5           -0.8545           +1.2156j            1.4859            0.3475\n",
      "MA.1           -1.4982           +0.0000j            1.4982            0.5000\n",
      "-----------------------------------------------------------------------------\n"
     ]
    }
   ],
   "source": [
    "model_19 = ARIMA(df_train, order=(5,1,1))\n",
    "model_19_fit = model_19.fit(trend='nc',full_output=True, disp=1)\n",
    "print(model_19_fit.summary())"
   ]
  },
  {
   "cell_type": "code",
   "execution_count": 21,
   "metadata": {},
   "outputs": [
    {
     "name": "stderr",
     "output_type": "stream",
     "text": [
      "C:\\Users\\sm.woo\\Anaconda3\\lib\\site-packages\\statsmodels\\tsa\\base\\tsa_model.py:219: ValueWarning: A date index has been provided, but it has no associated frequency information and so will be ignored when e.g. forecasting.\n",
      "  ' ignored when e.g. forecasting.', ValueWarning)\n",
      "C:\\Users\\sm.woo\\Anaconda3\\lib\\site-packages\\statsmodels\\tsa\\base\\tsa_model.py:219: ValueWarning: A date index has been provided, but it has no associated frequency information and so will be ignored when e.g. forecasting.\n",
      "  ' ignored when e.g. forecasting.', ValueWarning)\n"
     ]
    },
    {
     "name": "stdout",
     "output_type": "stream",
     "text": [
      "                             ARIMA Model Results                              \n",
      "==============================================================================\n",
      "Dep. Variable:                 D.Rate   No. Observations:                  242\n",
      "Model:                 ARIMA(5, 1, 1)   Log Likelihood                -684.217\n",
      "Method:                       css-mle   S.D. of innovations              4.088\n",
      "Date:                Fri, 07 Feb 2020   AIC                           1384.433\n",
      "Time:                        15:52:57   BIC                           1412.345\n",
      "Sample:                             1   HQIC                          1395.677\n",
      "                                                                              \n",
      "================================================================================\n",
      "                   coef    std err          z      P>|z|      [0.025      0.975]\n",
      "--------------------------------------------------------------------------------\n",
      "const            0.2998      0.232      1.292      0.198      -0.155       0.754\n",
      "ar.L1.D.Rate    -0.5768      0.296     -1.946      0.053      -1.158       0.004\n",
      "ar.L2.D.Rate     0.0200      0.077      0.258      0.797      -0.132       0.172\n",
      "ar.L3.D.Rate    -0.0227      0.074     -0.308      0.759      -0.167       0.122\n",
      "ar.L4.D.Rate    -0.1364      0.073     -1.870      0.063      -0.279       0.007\n",
      "ar.L5.D.Rate    -0.1675      0.066     -2.533      0.012      -0.297      -0.038\n",
      "ma.L1.D.Rate     0.6578      0.296      2.220      0.027       0.077       1.238\n",
      "                                    Roots                                    \n",
      "=============================================================================\n",
      "                  Real          Imaginary           Modulus         Frequency\n",
      "-----------------------------------------------------------------------------\n",
      "AR.1            1.0733           -1.0064j            1.4713           -0.1199\n",
      "AR.2            1.0733           +1.0064j            1.4713            0.1199\n",
      "AR.3           -1.2646           -0.0000j            1.2646           -0.5000\n",
      "AR.4           -0.8482           -1.2091j            1.4769           -0.3474\n",
      "AR.5           -0.8482           +1.2091j            1.4769            0.3474\n",
      "MA.1           -1.5203           +0.0000j            1.5203            0.5000\n",
      "-----------------------------------------------------------------------------\n"
     ]
    }
   ],
   "source": [
    "model_20 = ARIMA(df_train, order=(5,1,1))\n",
    "model_20_fit = model_20.fit(trend='c',full_output=True, disp=1)\n",
    "print(model_20_fit.summary())"
   ]
  },
  {
   "cell_type": "code",
   "execution_count": 22,
   "metadata": {},
   "outputs": [
    {
     "name": "stderr",
     "output_type": "stream",
     "text": [
      "C:\\Users\\sm.woo\\Anaconda3\\lib\\site-packages\\statsmodels\\tsa\\base\\tsa_model.py:219: ValueWarning: A date index has been provided, but it has no associated frequency information and so will be ignored when e.g. forecasting.\n",
      "  ' ignored when e.g. forecasting.', ValueWarning)\n",
      "C:\\Users\\sm.woo\\Anaconda3\\lib\\site-packages\\statsmodels\\tsa\\base\\tsa_model.py:219: ValueWarning: A date index has been provided, but it has no associated frequency information and so will be ignored when e.g. forecasting.\n",
      "  ' ignored when e.g. forecasting.', ValueWarning)\n",
      "C:\\Users\\sm.woo\\Anaconda3\\lib\\site-packages\\statsmodels\\base\\model.py:492: HessianInversionWarning: Inverting hessian failed, no bse or cov_params available\n",
      "  'available', HessianInversionWarning)\n"
     ]
    },
    {
     "name": "stdout",
     "output_type": "stream",
     "text": [
      "                             ARIMA Model Results                              \n",
      "==============================================================================\n",
      "Dep. Variable:                 D.Rate   No. Observations:                  242\n",
      "Model:                 ARIMA(5, 1, 5)   Log Likelihood                -682.283\n",
      "Method:                       css-mle   S.D. of innovations              3.999\n",
      "Date:                Fri, 07 Feb 2020   AIC                           1386.566\n",
      "Time:                        15:53:05   BIC                           1424.944\n",
      "Sample:                             1   HQIC                          1402.026\n",
      "                                                                              \n",
      "================================================================================\n",
      "                   coef    std err          z      P>|z|      [0.025      0.975]\n",
      "--------------------------------------------------------------------------------\n",
      "ar.L1.D.Rate    -0.1157      0.114     -1.017      0.310      -0.339       0.107\n",
      "ar.L2.D.Rate     0.3979      0.111      3.590      0.000       0.181       0.615\n",
      "ar.L3.D.Rate    -0.5849      0.059     -9.834      0.000      -0.701      -0.468\n",
      "ar.L4.D.Rate    -0.1115      0.108     -1.034      0.302      -0.323       0.100\n",
      "ar.L5.D.Rate     0.7296      0.105      6.970      0.000       0.524       0.935\n",
      "ma.L1.D.Rate     0.1464      0.135      1.081      0.281      -0.119       0.412\n",
      "ma.L2.D.Rate    -0.4238      0.112     -3.795      0.000      -0.643      -0.205\n",
      "ma.L3.D.Rate     0.5999      0.014     42.545      0.000       0.572       0.628\n",
      "ma.L4.D.Rate     0.0881      0.136      0.647      0.518      -0.179       0.355\n",
      "ma.L5.D.Rate    -0.8838      0.129     -6.870      0.000      -1.136      -0.632\n",
      "                                    Roots                                    \n",
      "=============================================================================\n",
      "                  Real          Imaginary           Modulus         Frequency\n",
      "-----------------------------------------------------------------------------\n",
      "AR.1           -0.9615           -0.3953j            1.0396           -0.4379\n",
      "AR.2           -0.9615           +0.3953j            1.0396            0.4379\n",
      "AR.3            0.4387           -0.9304j            1.0287           -0.1799\n",
      "AR.4            0.4387           +0.9304j            1.0287            0.1799\n",
      "AR.5            1.1985           -0.0000j            1.1985           -0.0000\n",
      "MA.1           -0.9247           -0.3813j            1.0002           -0.4378\n",
      "MA.2           -0.9247           +0.3813j            1.0002            0.4378\n",
      "MA.3            0.4090           -0.9125j            1.0000           -0.1829\n",
      "MA.4            0.4090           +0.9125j            1.0000            0.1829\n",
      "MA.5            1.1310           -0.0000j            1.1310           -0.0000\n",
      "-----------------------------------------------------------------------------\n"
     ]
    }
   ],
   "source": [
    "model_21 = ARIMA(df_train, order=(5,1,5))\n",
    "model_21_fit = model_21.fit(trend='nc',full_output=True, disp=1)\n",
    "print(model_21_fit.summary())"
   ]
  },
  {
   "cell_type": "code",
   "execution_count": 23,
   "metadata": {},
   "outputs": [
    {
     "name": "stderr",
     "output_type": "stream",
     "text": [
      "C:\\Users\\sm.woo\\Anaconda3\\lib\\site-packages\\statsmodels\\tsa\\base\\tsa_model.py:219: ValueWarning: A date index has been provided, but it has no associated frequency information and so will be ignored when e.g. forecasting.\n",
      "  ' ignored when e.g. forecasting.', ValueWarning)\n",
      "C:\\Users\\sm.woo\\Anaconda3\\lib\\site-packages\\statsmodels\\tsa\\base\\tsa_model.py:219: ValueWarning: A date index has been provided, but it has no associated frequency information and so will be ignored when e.g. forecasting.\n",
      "  ' ignored when e.g. forecasting.', ValueWarning)\n"
     ]
    },
    {
     "name": "stdout",
     "output_type": "stream",
     "text": [
      "                             ARIMA Model Results                              \n",
      "==============================================================================\n",
      "Dep. Variable:                 D.Rate   No. Observations:                  242\n",
      "Model:                 ARIMA(5, 1, 5)   Log Likelihood                -682.900\n",
      "Method:                       css-mle   S.D. of innovations              4.041\n",
      "Date:                Fri, 07 Feb 2020   AIC                           1389.800\n",
      "Time:                        15:53:14   BIC                           1431.668\n",
      "Sample:                             1   HQIC                          1406.666\n",
      "                                                                              \n",
      "================================================================================\n",
      "                   coef    std err          z      P>|z|      [0.025      0.975]\n",
      "--------------------------------------------------------------------------------\n",
      "const            0.2933      0.166      1.765      0.079      -0.032       0.619\n",
      "ar.L1.D.Rate     0.0541      0.121      0.448      0.655      -0.183       0.291\n",
      "ar.L2.D.Rate     0.1841      0.107      1.724      0.086      -0.025       0.393\n",
      "ar.L3.D.Rate    -0.2654      0.079     -3.361      0.001      -0.420      -0.111\n",
      "ar.L4.D.Rate    -0.3180      0.106     -3.009      0.003      -0.525      -0.111\n",
      "ar.L5.D.Rate     0.7364      0.112      6.602      0.000       0.518       0.955\n",
      "ma.L1.D.Rate    -0.0435      0.092     -0.474      0.636      -0.223       0.136\n",
      "ma.L2.D.Rate    -0.1999      0.094     -2.129      0.034      -0.384      -0.016\n",
      "ma.L3.D.Rate     0.2421      0.064      3.788      0.000       0.117       0.367\n",
      "ma.L4.D.Rate     0.2422      0.087      2.775      0.006       0.071       0.413\n",
      "ma.L5.D.Rate    -0.8596      0.096     -8.985      0.000      -1.047      -0.672\n",
      "                                    Roots                                    \n",
      "=============================================================================\n",
      "                  Real          Imaginary           Modulus         Frequency\n",
      "-----------------------------------------------------------------------------\n",
      "AR.1           -0.8488           -0.5617j            1.0178           -0.4070\n",
      "AR.2           -0.8488           +0.5617j            1.0178            0.4070\n",
      "AR.3            0.4695           -0.9384j            1.0493           -0.1762\n",
      "AR.4            0.4695           +0.9384j            1.0493            0.1762\n",
      "AR.5            1.1906           -0.0000j            1.1906           -0.0000\n",
      "MA.1           -0.8382           -0.5454j            1.0000           -0.4082\n",
      "MA.2           -0.8382           +0.5454j            1.0000            0.4082\n",
      "MA.3            0.4287           -0.9345j            1.0281           -0.1815\n",
      "MA.4            0.4287           +0.9345j            1.0281            0.1815\n",
      "MA.5            1.1006           -0.0000j            1.1006           -0.0000\n",
      "-----------------------------------------------------------------------------\n"
     ]
    }
   ],
   "source": [
    "model_22 = ARIMA(df_train, order=(5,1,5))\n",
    "model_22_fit = model_22.fit(trend='c',full_output=True, disp=1)\n",
    "print(model_22_fit.summary())"
   ]
  },
  {
   "cell_type": "code",
   "execution_count": 24,
   "metadata": {},
   "outputs": [
    {
     "name": "stderr",
     "output_type": "stream",
     "text": [
      "C:\\Users\\sm.woo\\Anaconda3\\lib\\site-packages\\statsmodels\\tsa\\base\\tsa_model.py:219: ValueWarning: A date index has been provided, but it has no associated frequency information and so will be ignored when e.g. forecasting.\n",
      "  ' ignored when e.g. forecasting.', ValueWarning)\n",
      "C:\\Users\\sm.woo\\Anaconda3\\lib\\site-packages\\statsmodels\\base\\model.py:492: HessianInversionWarning: Inverting hessian failed, no bse or cov_params available\n",
      "  'available', HessianInversionWarning)\n",
      "C:\\Users\\sm.woo\\Anaconda3\\lib\\site-packages\\statsmodels\\base\\model.py:512: ConvergenceWarning: Maximum Likelihood optimization failed to converge. Check mle_retvals\n",
      "  \"Check mle_retvals\", ConvergenceWarning)\n"
     ]
    },
    {
     "name": "stdout",
     "output_type": "stream",
     "text": [
      "                              ARMA Model Results                              \n",
      "==============================================================================\n",
      "Dep. Variable:                   Rate   No. Observations:                  243\n",
      "Model:                     ARMA(5, 5)   Log Likelihood                -692.399\n",
      "Method:                       css-mle   S.D. of innovations              4.114\n",
      "Date:                Fri, 07 Feb 2020   AIC                           1408.798\n",
      "Time:                        15:53:20   BIC                           1450.714\n",
      "Sample:                             0   HQIC                          1425.681\n",
      "                                                                              \n",
      "==============================================================================\n",
      "                 coef    std err          z      P>|z|      [0.025      0.975]\n",
      "------------------------------------------------------------------------------\n",
      "const       1128.3096        nan        nan        nan         nan         nan\n",
      "ar.L1.Rate    -0.2938        nan        nan        nan         nan         nan\n",
      "ar.L2.Rate     1.7837        nan        nan        nan         nan         nan\n",
      "ar.L3.Rate     0.8574        nan        nan        nan         nan         nan\n",
      "ar.L4.Rate    -0.9310      0.005   -175.433      0.000      -0.941      -0.921\n",
      "ar.L5.Rate    -0.4170        nan        nan        nan         nan         nan\n",
      "ma.L1.Rate     1.3978        nan        nan        nan         nan         nan\n",
      "ma.L2.Rate    -0.4103        nan        nan        nan         nan         nan\n",
      "ma.L3.Rate    -1.4646        nan        nan        nan         nan         nan\n",
      "ma.L4.Rate    -0.5277        nan        nan        nan         nan         nan\n",
      "ma.L5.Rate     0.0047      0.061      0.078      0.938      -0.115       0.124\n",
      "                                    Roots                                    \n",
      "=============================================================================\n",
      "                  Real          Imaginary           Modulus         Frequency\n",
      "-----------------------------------------------------------------------------\n",
      "AR.1            1.0035           -0.0107j            1.0035           -0.0017\n",
      "AR.2            1.0035           +0.0107j            1.0035            0.0017\n",
      "AR.3           -0.9400           -0.3544j            1.0046           -0.4426\n",
      "AR.4           -0.9400           +0.3544j            1.0046            0.4426\n",
      "AR.5           -2.3596           -0.0000j            2.3596           -0.5000\n",
      "MA.1            1.0000           -0.0000j            1.0000           -0.0000\n",
      "MA.2           -0.9330           -0.3598j            1.0000           -0.4414\n",
      "MA.3           -0.9330           +0.3598j            1.0000            0.4414\n",
      "MA.4           -1.8501           -0.0000j            1.8501           -0.5000\n",
      "MA.5          114.3151           -0.0000j          114.3151           -0.0000\n",
      "-----------------------------------------------------------------------------\n"
     ]
    },
    {
     "name": "stderr",
     "output_type": "stream",
     "text": [
      "C:\\Users\\sm.woo\\Anaconda3\\lib\\site-packages\\statsmodels\\tsa\\arima_model.py:1441: RuntimeWarning: invalid value encountered in sqrt\n",
      "  return np.sqrt(np.diag(-inv(hess)))\n",
      "C:\\Users\\sm.woo\\Anaconda3\\lib\\site-packages\\scipy\\stats\\_distn_infrastructure.py:901: RuntimeWarning: invalid value encountered in greater\n",
      "  return (a < x) & (x < b)\n",
      "C:\\Users\\sm.woo\\Anaconda3\\lib\\site-packages\\scipy\\stats\\_distn_infrastructure.py:901: RuntimeWarning: invalid value encountered in less\n",
      "  return (a < x) & (x < b)\n",
      "C:\\Users\\sm.woo\\Anaconda3\\lib\\site-packages\\scipy\\stats\\_distn_infrastructure.py:1892: RuntimeWarning: invalid value encountered in less_equal\n",
      "  cond2 = cond0 & (x <= _a)\n"
     ]
    }
   ],
   "source": [
    "model_23 = ARIMA(df_train, order=(5,0,5))\n",
    "model_23_fit = model_23.fit(trend='c',full_output=True, disp=1)\n",
    "print(model_23_fit.summary())"
   ]
  },
  {
   "cell_type": "code",
   "execution_count": 25,
   "metadata": {},
   "outputs": [
    {
     "name": "stderr",
     "output_type": "stream",
     "text": [
      "C:\\Users\\sm.woo\\Anaconda3\\lib\\site-packages\\statsmodels\\tsa\\base\\tsa_model.py:219: ValueWarning: A date index has been provided, but it has no associated frequency information and so will be ignored when e.g. forecasting.\n",
      "  ' ignored when e.g. forecasting.', ValueWarning)\n",
      "C:\\Users\\sm.woo\\Anaconda3\\lib\\site-packages\\statsmodels\\base\\model.py:492: HessianInversionWarning: Inverting hessian failed, no bse or cov_params available\n",
      "  'available', HessianInversionWarning)\n",
      "C:\\Users\\sm.woo\\Anaconda3\\lib\\site-packages\\statsmodels\\base\\model.py:512: ConvergenceWarning: Maximum Likelihood optimization failed to converge. Check mle_retvals\n",
      "  \"Check mle_retvals\", ConvergenceWarning)\n"
     ]
    },
    {
     "name": "stdout",
     "output_type": "stream",
     "text": [
      "                              ARMA Model Results                              \n",
      "==============================================================================\n",
      "Dep. Variable:                   Rate   No. Observations:                  243\n",
      "Model:                     ARMA(5, 0)   Log Likelihood                -697.797\n",
      "Method:                       css-mle   S.D. of innovations              4.112\n",
      "Date:                Fri, 07 Feb 2020   AIC                           1407.594\n",
      "Time:                        15:53:23   BIC                           1428.553\n",
      "Sample:                             0   HQIC                          1416.036\n",
      "                                                                              \n",
      "==============================================================================\n",
      "                 coef    std err          z      P>|z|      [0.025      0.975]\n",
      "------------------------------------------------------------------------------\n",
      "ar.L1.Rate     1.0904   1.07e-05   1.02e+05      0.000       1.090       1.090\n",
      "ar.L2.Rate    -0.1211   2.45e-06  -4.94e+04      0.000      -0.121      -0.121\n",
      "ar.L3.Rate     0.0414   1.44e-06   2.87e+04      0.000       0.041       0.041\n",
      "ar.L4.Rate    -0.1501    4.3e-06  -3.49e+04      0.000      -0.150      -0.150\n",
      "ar.L5.Rate     0.1394   4.45e-06   3.13e+04      0.000       0.139       0.139\n",
      "                                    Roots                                    \n",
      "=============================================================================\n",
      "                  Real          Imaginary           Modulus         Frequency\n",
      "-----------------------------------------------------------------------------\n",
      "AR.1            1.0000           -0.0000j            1.0000           -0.0000\n",
      "AR.2           -1.1145           -1.2391j            1.6666           -0.3666\n",
      "AR.3           -1.1145           +1.2391j            1.6666            0.3666\n",
      "AR.4            1.1528           -1.1195j            1.6069           -0.1227\n",
      "AR.5            1.1528           +1.1195j            1.6069            0.1227\n",
      "-----------------------------------------------------------------------------\n"
     ]
    }
   ],
   "source": [
    "#non값 사용 불가능\n",
    "model_24 = ARIMA(df_train, order=(5,0,0))\n",
    "model_24_fit = model_24.fit(trend='nc',full_output=True, disp=1)\n",
    "print(model_24_fit.summary())"
   ]
  },
  {
   "cell_type": "code",
   "execution_count": 26,
   "metadata": {},
   "outputs": [
    {
     "name": "stderr",
     "output_type": "stream",
     "text": [
      "C:\\Users\\sm.woo\\Anaconda3\\lib\\site-packages\\statsmodels\\tsa\\base\\tsa_model.py:219: ValueWarning: A date index has been provided, but it has no associated frequency information and so will be ignored when e.g. forecasting.\n",
      "  ' ignored when e.g. forecasting.', ValueWarning)\n"
     ]
    },
    {
     "name": "stdout",
     "output_type": "stream",
     "text": [
      "                              ARMA Model Results                              \n",
      "==============================================================================\n",
      "Dep. Variable:                   Rate   No. Observations:                  243\n",
      "Model:                     ARMA(5, 0)   Log Likelihood                -690.448\n",
      "Method:                       css-mle   S.D. of innovations              4.114\n",
      "Date:                Fri, 07 Feb 2020   AIC                           1394.896\n",
      "Time:                        15:53:24   BIC                           1419.347\n",
      "Sample:                             0   HQIC                          1404.745\n",
      "                                                                              \n",
      "==============================================================================\n",
      "                 coef    std err          z      P>|z|      [0.025      0.975]\n",
      "------------------------------------------------------------------------------\n",
      "const       1107.7459     18.641     59.426      0.000    1071.211    1144.281\n",
      "ar.L1.Rate     1.0870      0.064     17.052      0.000       0.962       1.212\n",
      "ar.L2.Rate    -0.1207      0.094     -1.280      0.202      -0.306       0.064\n",
      "ar.L3.Rate     0.0379      0.095      0.400      0.689      -0.148       0.223\n",
      "ar.L4.Rate    -0.1462      0.094     -1.548      0.123      -0.331       0.039\n",
      "ar.L5.Rate     0.1313      0.064      2.044      0.042       0.005       0.257\n",
      "                                    Roots                                    \n",
      "=============================================================================\n",
      "                  Real          Imaginary           Modulus         Frequency\n",
      "-----------------------------------------------------------------------------\n",
      "AR.1           -1.1267           -1.2551j            1.6866           -0.3664\n",
      "AR.2           -1.1267           +1.2551j            1.6866            0.3664\n",
      "AR.3            1.0104           -0.0000j            1.0104           -0.0000\n",
      "AR.4            1.1782           -1.1231j            1.6277           -0.1212\n",
      "AR.5            1.1782           +1.1231j            1.6277            0.1212\n",
      "-----------------------------------------------------------------------------\n"
     ]
    }
   ],
   "source": [
    "model_25 = ARIMA(df_train, order=(5,0,0))\n",
    "model_25_fit = model_25.fit(trend='c',full_output=True, disp=1)\n",
    "print(model_25_fit.summary())"
   ]
  },
  {
   "cell_type": "code",
   "execution_count": 27,
   "metadata": {},
   "outputs": [
    {
     "name": "stderr",
     "output_type": "stream",
     "text": [
      "C:\\Users\\sm.woo\\Anaconda3\\lib\\site-packages\\statsmodels\\tsa\\base\\tsa_model.py:219: ValueWarning: A date index has been provided, but it has no associated frequency information and so will be ignored when e.g. forecasting.\n",
      "  ' ignored when e.g. forecasting.', ValueWarning)\n",
      "C:\\Users\\sm.woo\\Anaconda3\\lib\\site-packages\\statsmodels\\tsa\\base\\tsa_model.py:219: ValueWarning: A date index has been provided, but it has no associated frequency information and so will be ignored when e.g. forecasting.\n",
      "  ' ignored when e.g. forecasting.', ValueWarning)\n"
     ]
    },
    {
     "name": "stdout",
     "output_type": "stream",
     "text": [
      "                             ARIMA Model Results                              \n",
      "==============================================================================\n",
      "Dep. Variable:                 D.Rate   No. Observations:                  242\n",
      "Model:                 ARIMA(0, 1, 5)   Log Likelihood                -685.105\n",
      "Method:                       css-mle   S.D. of innovations              4.103\n",
      "Date:                Fri, 07 Feb 2020   AIC                           1382.211\n",
      "Time:                        15:53:25   BIC                           1403.144\n",
      "Sample:                             1   HQIC                          1390.644\n",
      "                                                                              \n",
      "================================================================================\n",
      "                   coef    std err          z      P>|z|      [0.025      0.975]\n",
      "--------------------------------------------------------------------------------\n",
      "ma.L1.D.Rate     0.0795      0.065      1.228      0.221      -0.047       0.206\n",
      "ma.L2.D.Rate    -0.0441      0.064     -0.685      0.494      -0.170       0.082\n",
      "ma.L3.D.Rate    -0.0219      0.065     -0.336      0.737      -0.150       0.106\n",
      "ma.L4.D.Rate    -0.1335      0.063     -2.108      0.036      -0.258      -0.009\n",
      "ma.L5.D.Rate    -0.1129      0.065     -1.736      0.084      -0.240       0.015\n",
      "                                    Roots                                    \n",
      "=============================================================================\n",
      "                  Real          Imaginary           Modulus         Frequency\n",
      "-----------------------------------------------------------------------------\n",
      "MA.1            1.3568           -0.0000j            1.3568           -0.0000\n",
      "MA.2            0.2495           -1.4735j            1.4945           -0.2233\n",
      "MA.3            0.2495           +1.4735j            1.4945            0.2233\n",
      "MA.4           -1.5191           -0.7835j            1.7092           -0.4242\n",
      "MA.5           -1.5191           +0.7835j            1.7092            0.4242\n",
      "-----------------------------------------------------------------------------\n"
     ]
    }
   ],
   "source": [
    "model_26 = ARIMA(df_train, order=(0,1,5))\n",
    "model_26_fit = model_26.fit(trend='nc',full_output=True, disp=1)\n",
    "print(model_26_fit.summary())"
   ]
  },
  {
   "cell_type": "code",
   "execution_count": 28,
   "metadata": {},
   "outputs": [
    {
     "name": "stderr",
     "output_type": "stream",
     "text": [
      "C:\\Users\\sm.woo\\Anaconda3\\lib\\site-packages\\statsmodels\\tsa\\base\\tsa_model.py:219: ValueWarning: A date index has been provided, but it has no associated frequency information and so will be ignored when e.g. forecasting.\n",
      "  ' ignored when e.g. forecasting.', ValueWarning)\n",
      "C:\\Users\\sm.woo\\Anaconda3\\lib\\site-packages\\statsmodels\\tsa\\base\\tsa_model.py:219: ValueWarning: A date index has been provided, but it has no associated frequency information and so will be ignored when e.g. forecasting.\n",
      "  ' ignored when e.g. forecasting.', ValueWarning)\n"
     ]
    },
    {
     "name": "stdout",
     "output_type": "stream",
     "text": [
      "                             ARIMA Model Results                              \n",
      "==============================================================================\n",
      "Dep. Variable:                 D.Rate   No. Observations:                  242\n",
      "Model:                 ARIMA(0, 1, 5)   Log Likelihood                -683.928\n",
      "Method:                       css-mle   S.D. of innovations              4.083\n",
      "Date:                Fri, 07 Feb 2020   AIC                           1381.855\n",
      "Time:                        15:53:26   BIC                           1406.278\n",
      "Sample:                             1   HQIC                          1391.693\n",
      "                                                                              \n",
      "================================================================================\n",
      "                   coef    std err          z      P>|z|      [0.025      0.975]\n",
      "--------------------------------------------------------------------------------\n",
      "const            0.2983      0.185      1.612      0.108      -0.064       0.661\n",
      "ma.L1.D.Rate     0.0682      0.065      1.054      0.293      -0.059       0.195\n",
      "ma.L2.D.Rate    -0.0593      0.064     -0.923      0.357      -0.185       0.067\n",
      "ma.L3.D.Rate    -0.0371      0.066     -0.563      0.574      -0.166       0.092\n",
      "ma.L4.D.Rate    -0.1482      0.064     -2.328      0.021      -0.273      -0.023\n",
      "ma.L5.D.Rate    -0.1242      0.065     -1.910      0.057      -0.252       0.003\n",
      "                                    Roots                                    \n",
      "=============================================================================\n",
      "                  Real          Imaginary           Modulus         Frequency\n",
      "-----------------------------------------------------------------------------\n",
      "MA.1            1.3067           -0.0000j            1.3067           -0.0000\n",
      "MA.2            0.2416           -1.4564j            1.4763           -0.2238\n",
      "MA.3            0.2416           +1.4564j            1.4763            0.2238\n",
      "MA.4           -1.4916           -0.7760j            1.6814           -0.4237\n",
      "MA.5           -1.4916           +0.7760j            1.6814            0.4237\n",
      "-----------------------------------------------------------------------------\n"
     ]
    }
   ],
   "source": [
    "model_27 = ARIMA(df_train, order=(0,1,5))\n",
    "model_27_fit = model_27.fit(trend='c',full_output=True, disp=1)\n",
    "print(model_27_fit.summary())"
   ]
  },
  {
   "cell_type": "code",
   "execution_count": 29,
   "metadata": {},
   "outputs": [
    {
     "name": "stderr",
     "output_type": "stream",
     "text": [
      "C:\\Users\\sm.woo\\Anaconda3\\lib\\site-packages\\statsmodels\\tsa\\base\\tsa_model.py:219: ValueWarning: A date index has been provided, but it has no associated frequency information and so will be ignored when e.g. forecasting.\n",
      "  ' ignored when e.g. forecasting.', ValueWarning)\n",
      "C:\\Users\\sm.woo\\Anaconda3\\lib\\site-packages\\statsmodels\\tsa\\base\\tsa_model.py:219: ValueWarning: A date index has been provided, but it has no associated frequency information and so will be ignored when e.g. forecasting.\n",
      "  ' ignored when e.g. forecasting.', ValueWarning)\n"
     ]
    },
    {
     "name": "stdout",
     "output_type": "stream",
     "text": [
      "                             ARIMA Model Results                              \n",
      "==============================================================================\n",
      "Dep. Variable:                 D.Rate   No. Observations:                  242\n",
      "Model:                 ARIMA(0, 1, 4)   Log Likelihood                -686.552\n",
      "Method:                       css-mle   S.D. of innovations              4.128\n",
      "Date:                Fri, 07 Feb 2020   AIC                           1383.103\n",
      "Time:                        15:53:26   BIC                           1400.548\n",
      "Sample:                             1   HQIC                          1390.131\n",
      "                                                                              \n",
      "================================================================================\n",
      "                   coef    std err          z      P>|z|      [0.025      0.975]\n",
      "--------------------------------------------------------------------------------\n",
      "ma.L1.D.Rate     0.0644      0.065      0.985      0.325      -0.064       0.192\n",
      "ma.L2.D.Rate    -0.0246      0.066     -0.373      0.710      -0.154       0.105\n",
      "ma.L3.D.Rate    -0.0258      0.067     -0.384      0.702      -0.157       0.106\n",
      "ma.L4.D.Rate    -0.1301      0.067     -1.952      0.052      -0.261       0.001\n",
      "                                    Roots                                    \n",
      "=============================================================================\n",
      "                  Real          Imaginary           Modulus         Frequency\n",
      "-----------------------------------------------------------------------------\n",
      "MA.1            1.6338           -0.0000j            1.6338           -0.0000\n",
      "MA.2           -1.6403           -0.0000j            1.6403           -0.5000\n",
      "MA.3           -0.0957           -1.6908j            1.6935           -0.2590\n",
      "MA.4           -0.0957           +1.6908j            1.6935            0.2590\n",
      "-----------------------------------------------------------------------------\n"
     ]
    }
   ],
   "source": [
    "model_28 = ARIMA(df_train, order=(0,1,4))\n",
    "model_28_fit = model_28.fit(trend='nc',full_output=True, disp=1)\n",
    "print(model_28_fit.summary())"
   ]
  },
  {
   "cell_type": "code",
   "execution_count": 30,
   "metadata": {},
   "outputs": [
    {
     "name": "stderr",
     "output_type": "stream",
     "text": [
      "C:\\Users\\sm.woo\\Anaconda3\\lib\\site-packages\\statsmodels\\tsa\\base\\tsa_model.py:219: ValueWarning: A date index has been provided, but it has no associated frequency information and so will be ignored when e.g. forecasting.\n",
      "  ' ignored when e.g. forecasting.', ValueWarning)\n",
      "C:\\Users\\sm.woo\\Anaconda3\\lib\\site-packages\\statsmodels\\tsa\\base\\tsa_model.py:219: ValueWarning: A date index has been provided, but it has no associated frequency information and so will be ignored when e.g. forecasting.\n",
      "  ' ignored when e.g. forecasting.', ValueWarning)\n"
     ]
    },
    {
     "name": "stdout",
     "output_type": "stream",
     "text": [
      "                             ARIMA Model Results                              \n",
      "==============================================================================\n",
      "Dep. Variable:                 D.Rate   No. Observations:                  242\n",
      "Model:                 ARIMA(0, 1, 4)   Log Likelihood                -685.669\n",
      "Method:                       css-mle   S.D. of innovations              4.113\n",
      "Date:                Fri, 07 Feb 2020   AIC                           1383.339\n",
      "Time:                        15:53:27   BIC                           1404.273\n",
      "Sample:                             1   HQIC                          1391.772\n",
      "                                                                              \n",
      "================================================================================\n",
      "                   coef    std err          z      P>|z|      [0.025      0.975]\n",
      "--------------------------------------------------------------------------------\n",
      "const            0.3030      0.221      1.373      0.171      -0.129       0.735\n",
      "ma.L1.D.Rate     0.0526      0.066      0.802      0.423      -0.076       0.181\n",
      "ma.L2.D.Rate    -0.0372      0.067     -0.558      0.577      -0.168       0.093\n",
      "ma.L3.D.Rate    -0.0404      0.069     -0.590      0.556      -0.175       0.094\n",
      "ma.L4.D.Rate    -0.1437      0.068     -2.119      0.035      -0.277      -0.011\n",
      "                                    Roots                                    \n",
      "=============================================================================\n",
      "                  Real          Imaginary           Modulus         Frequency\n",
      "-----------------------------------------------------------------------------\n",
      "MA.1            1.5549           -0.0000j            1.5549           -0.0000\n",
      "MA.2           -1.6197           -0.0000j            1.6197           -0.5000\n",
      "MA.3           -0.1083           -1.6587j            1.6623           -0.2604\n",
      "MA.4           -0.1083           +1.6587j            1.6623            0.2604\n",
      "-----------------------------------------------------------------------------\n"
     ]
    }
   ],
   "source": [
    "model_29 = ARIMA(df_train, order=(0,1,4))\n",
    "model_29_fit = model_29.fit(trend='c',full_output=True, disp=1)\n",
    "print(model_29_fit.summary())"
   ]
  },
  {
   "cell_type": "code",
   "execution_count": 31,
   "metadata": {},
   "outputs": [
    {
     "name": "stderr",
     "output_type": "stream",
     "text": [
      "C:\\Users\\sm.woo\\Anaconda3\\lib\\site-packages\\statsmodels\\tsa\\base\\tsa_model.py:219: ValueWarning: A date index has been provided, but it has no associated frequency information and so will be ignored when e.g. forecasting.\n",
      "  ' ignored when e.g. forecasting.', ValueWarning)\n",
      "C:\\Users\\sm.woo\\Anaconda3\\lib\\site-packages\\statsmodels\\tsa\\base\\tsa_model.py:219: ValueWarning: A date index has been provided, but it has no associated frequency information and so will be ignored when e.g. forecasting.\n",
      "  ' ignored when e.g. forecasting.', ValueWarning)\n",
      "C:\\Users\\sm.woo\\Anaconda3\\lib\\site-packages\\statsmodels\\base\\model.py:492: HessianInversionWarning: Inverting hessian failed, no bse or cov_params available\n",
      "  'available', HessianInversionWarning)\n"
     ]
    },
    {
     "name": "stdout",
     "output_type": "stream",
     "text": [
      "                             ARIMA Model Results                              \n",
      "==============================================================================\n",
      "Dep. Variable:                D2.Rate   No. Observations:                  241\n",
      "Model:                 ARIMA(5, 2, 5)   Log Likelihood                -682.479\n",
      "Method:                       css-mle   S.D. of innovations              4.005\n",
      "Date:                Fri, 07 Feb 2020   AIC                           1386.958\n",
      "Time:                        15:53:37   BIC                           1425.291\n",
      "Sample:                             2   HQIC                          1402.402\n",
      "                                                                              \n",
      "=================================================================================\n",
      "                    coef    std err          z      P>|z|      [0.025      0.975]\n",
      "---------------------------------------------------------------------------------\n",
      "ar.L1.D2.Rate    -0.8362      0.067    -12.496      0.000      -0.967      -0.705\n",
      "ar.L2.D2.Rate    -0.2293      0.065     -3.546      0.000      -0.356      -0.103\n",
      "ar.L3.D2.Rate    -0.8801      0.029    -30.165      0.000      -0.937      -0.823\n",
      "ar.L4.D2.Rate    -0.8999      0.062    -14.512      0.000      -1.021      -0.778\n",
      "ar.L5.D2.Rate     0.0182      0.066      0.276      0.783      -0.111       0.147\n",
      "ma.L1.D2.Rate    -0.0610      0.041     -1.504      0.134      -0.140       0.019\n",
      "ma.L2.D2.Rate    -0.6218      0.038    -16.272      0.000      -0.697      -0.547\n",
      "ma.L3.D2.Rate     0.6222      0.036     17.379      0.000       0.552       0.692\n",
      "ma.L4.D2.Rate     0.0600      0.041      1.448      0.149      -0.021       0.141\n",
      "ma.L5.D2.Rate    -0.9995      0.045    -22.260      0.000      -1.087      -0.911\n",
      "                                    Roots                                    \n",
      "=============================================================================\n",
      "                  Real          Imaginary           Modulus         Frequency\n",
      "-----------------------------------------------------------------------------\n",
      "AR.1            0.4752           -0.8902j            1.0092           -0.1720\n",
      "AR.2            0.4752           +0.8902j            1.0092            0.1720\n",
      "AR.3           -0.9575           -0.3917j            1.0345           -0.4382\n",
      "AR.4           -0.9575           +0.3917j            1.0345            0.4382\n",
      "AR.5           50.4378           -0.0000j           50.4378           -0.0000\n",
      "MA.1            1.0000           -0.0000j            1.0000           -0.0000\n",
      "MA.2            0.4549           -0.8905j            1.0000           -0.1748\n",
      "MA.3            0.4549           +0.8905j            1.0000            0.1748\n",
      "MA.4           -0.9249           -0.3809j            1.0003           -0.4378\n",
      "MA.5           -0.9249           +0.3809j            1.0003            0.4378\n",
      "-----------------------------------------------------------------------------\n"
     ]
    }
   ],
   "source": [
    "model_30 = ARIMA(df_train, order=(5,2,5))\n",
    "model_30_fit = model_30.fit(trend='nc',full_output=True, disp=1)\n",
    "print(model_30_fit.summary())"
   ]
  },
  {
   "cell_type": "code",
   "execution_count": 32,
   "metadata": {},
   "outputs": [
    {
     "name": "stderr",
     "output_type": "stream",
     "text": [
      "C:\\Users\\sm.woo\\Anaconda3\\lib\\site-packages\\statsmodels\\tsa\\base\\tsa_model.py:219: ValueWarning: A date index has been provided, but it has no associated frequency information and so will be ignored when e.g. forecasting.\n",
      "  ' ignored when e.g. forecasting.', ValueWarning)\n",
      "C:\\Users\\sm.woo\\Anaconda3\\lib\\site-packages\\statsmodels\\tsa\\base\\tsa_model.py:219: ValueWarning: A date index has been provided, but it has no associated frequency information and so will be ignored when e.g. forecasting.\n",
      "  ' ignored when e.g. forecasting.', ValueWarning)\n",
      "C:\\Users\\sm.woo\\Anaconda3\\lib\\site-packages\\statsmodels\\base\\model.py:492: HessianInversionWarning: Inverting hessian failed, no bse or cov_params available\n",
      "  'available', HessianInversionWarning)\n"
     ]
    },
    {
     "name": "stdout",
     "output_type": "stream",
     "text": [
      "                             ARIMA Model Results                              \n",
      "==============================================================================\n",
      "Dep. Variable:                D2.Rate   No. Observations:                  241\n",
      "Model:                 ARIMA(5, 2, 5)   Log Likelihood                -682.281\n",
      "Method:                       css-mle   S.D. of innovations              4.002\n",
      "Date:                Fri, 07 Feb 2020   AIC                           1388.562\n",
      "Time:                        15:53:56   BIC                           1430.380\n",
      "Sample:                             2   HQIC                          1405.410\n",
      "                                                                              \n",
      "=================================================================================\n",
      "                    coef    std err          z      P>|z|      [0.025      0.975]\n",
      "---------------------------------------------------------------------------------\n",
      "const            -0.0025      0.004     -0.630      0.529      -0.010       0.005\n",
      "ar.L1.D2.Rate    -0.8384      0.067    -12.528      0.000      -0.970      -0.707\n",
      "ar.L2.D2.Rate    -0.2315      0.065     -3.580      0.000      -0.358      -0.105\n",
      "ar.L3.D2.Rate    -0.8808      0.029    -30.245      0.000      -0.938      -0.824\n",
      "ar.L4.D2.Rate    -0.9022      0.062    -14.541      0.000      -1.024      -0.781\n",
      "ar.L5.D2.Rate     0.0157      0.066      0.238      0.812      -0.114       0.145\n",
      "ma.L1.D2.Rate    -0.0611      0.040     -1.527      0.128      -0.140       0.017\n",
      "ma.L2.D2.Rate    -0.6216      0.038    -16.525      0.000      -0.695      -0.548\n",
      "ma.L3.D2.Rate     0.6222      0.036     17.472      0.000       0.552       0.692\n",
      "ma.L4.D2.Rate     0.0599      0.041      1.458      0.146      -0.021       0.140\n",
      "ma.L5.D2.Rate    -0.9994      0.045    -22.449      0.000      -1.087      -0.912\n",
      "                                    Roots                                    \n",
      "=============================================================================\n",
      "                  Real          Imaginary           Modulus         Frequency\n",
      "-----------------------------------------------------------------------------\n",
      "AR.1            0.4753           -0.8902j            1.0091           -0.1719\n",
      "AR.2            0.4753           +0.8902j            1.0091            0.1719\n",
      "AR.3           -0.9576           -0.3918j            1.0347           -0.4382\n",
      "AR.4           -0.9576           +0.3918j            1.0347            0.4382\n",
      "AR.5           58.3796           -0.0000j           58.3796           -0.0000\n",
      "MA.1            1.0000           -0.0000j            1.0000           -0.0000\n",
      "MA.2            0.4549           -0.8905j            1.0000           -0.1748\n",
      "MA.3            0.4549           +0.8905j            1.0000            0.1748\n",
      "MA.4           -0.9250           -0.3809j            1.0003           -0.4378\n",
      "MA.5           -0.9250           +0.3809j            1.0003            0.4378\n",
      "-----------------------------------------------------------------------------\n"
     ]
    }
   ],
   "source": [
    "model_31 = ARIMA(df_train, order=(5,2,5))\n",
    "model_31_fit = model_31.fit(trend='c',full_output=True, disp=1)\n",
    "print(model_31_fit.summary())"
   ]
  },
  {
   "cell_type": "markdown",
   "metadata": {},
   "source": [
    "### 예측"
   ]
  },
  {
   "cell_type": "code",
   "execution_count": 33,
   "metadata": {
    "scrolled": true
   },
   "outputs": [
    {
     "data": {
      "image/png": "[encoded data removed]",
      "text/plain": [
       "<Figure size 432x288 with 1 Axes>"
      ]
     },
     "metadata": {
      "needs_background": "light"
     },
     "output_type": "display_data"
    },
    {
     "data": {
      "image/png": "[encoded data removed]",
      "text/plain": [
       "<Figure size 432x288 with 1 Axes>"
      ]
     },
     "metadata": {
      "needs_background": "light"
     },
     "output_type": "display_data"
    },
    {
     "data": {
      "image/png": "[encoded data removed]",
      "text/plain": [
       "<Figure size 432x288 with 1 Axes>"
      ]
     },
     "metadata": {
      "needs_background": "light"
     },
     "output_type": "display_data"
    },
    {
     "data": {
      "image/png": "[encoded data removed]",
      "text/plain": [
       "<Figure size 432x288 with 1 Axes>"
      ]
     },
     "metadata": {
      "needs_background": "light"
     },
     "output_type": "display_data"
    },
    {
     "data": {
      "image/png": "[encoded data removed]",
      "text/plain": [
       "<Figure size 432x288 with 1 Axes>"
      ]
     },
     "metadata": {
      "needs_background": "light"
     },
     "output_type": "display_data"
    },
    {
     "data": {
      "image/png": "[encoded data removed]",
      "text/plain": [
       "<Figure size 432x288 with 1 Axes>"
      ]
     },
     "metadata": {
      "needs_background": "light"
     },
     "output_type": "display_data"
    },
    {
     "data": {
      "image/png": "[encoded data removed]",
      "text/plain": [
       "<Figure size 432x288 with 1 Axes>"
      ]
     },
     "metadata": {
      "needs_background": "light"
     },
     "output_type": "display_data"
    },
    {
     "data": {
      "image/png": "[encoded data removed]",
      "text/plain": [
       "<Figure size 432x288 with 1 Axes>"
      ]
     },
     "metadata": {
      "needs_background": "light"
     },
     "output_type": "display_data"
    },
    {
     "data": {
      "image/png": "[encoded data removed]",
      "text/plain": [
       "<Figure size 432x288 with 1 Axes>"
      ]
     },
     "metadata": {
      "needs_background": "light"
     },
     "output_type": "display_data"
    },
    {
     "data": {
      "image/png": "[encoded data removed]",
      "text/plain": [
       "<Figure size 432x288 with 1 Axes>"
      ]
     },
     "metadata": {
      "needs_background": "light"
     },
     "output_type": "display_data"
    },
    {
     "data": {
      "image/png": "[encoded data removed]",
      "text/plain": [
       "<Figure size 432x288 with 1 Axes>"
      ]
     },
     "metadata": {
      "needs_background": "light"
     },
     "output_type": "display_data"
    },
    {
     "data": {
      "image/png": "[encoded data removed]",
      "text/plain": [
       "<Figure size 432x288 with 1 Axes>"
      ]
     },
     "metadata": {
      "needs_background": "light"
     },
     "output_type": "display_data"
    }
   ],
   "source": [
    "Models = [model_1_fit, model_2_fit, model_3_fit, model_4_fit, model_18_fit, model_19_fit, model_20_fit, \n",
    "          model_25_fit, model_26_fit, model_27_fit, model_28_fit, model_29_fit]\n",
    "\n",
    "df_test=df_test[:5]\n",
    "actual_price=df_test['Rate'].tolist()[:5]\n",
    "RMSE_total=[]\n",
    "pred_price=[]\n",
    "\n",
    "for model in Models:\n",
    "    pred = model.forecast(steps=5)\n",
    "    pred_price_0=pred[0][:5]\n",
    "    pred_price.extend(pred_price_0)\n",
    "\n",
    "    plt.plot(pred_price_0)\n",
    "    plt.plot(df_test)\n",
    "    plt.show()\n",
    "    \n",
    "    RMSE = mean_squared_error(pred_price_0, actual_price)**0.5    \n",
    "    RMSE_total.append(RMSE)"
   ]
  },
  {
   "cell_type": "markdown",
   "metadata": {},
   "source": [
    "#### 예측값, stderr, upper bound, lower bound"
   ]
  },
  {
   "cell_type": "code",
   "execution_count": 34,
   "metadata": {},
   "outputs": [],
   "source": [
    "n = 5\n",
    "result = [pred_price[i * n:(i + 1) * n] for i in range((len(pred_price) + n - 1) // n )] \n",
    "pred_final = []\n",
    "for i in result:\n",
    "    pred_final.append(i)"
   ]
  },
  {
   "cell_type": "code",
   "execution_count": 35,
   "metadata": {
    "scrolled": true
   },
   "outputs": [],
   "source": [
    "pred_final=pd.DataFrame(pred_final)\n",
    "RMSE_total=pd.DataFrame(RMSE_total)\n",
    "final_df=pd.concat([pred_final, RMSE_total], axis=1)\n",
    "final_df.columns=[df_test.index[0],df_test.index[1],df_test.index[2],df_test.index[3],df_test.index[4],'RMSE']"
   ]
  },
  {
   "cell_type": "code",
   "execution_count": 36,
   "metadata": {},
   "outputs": [
    {
     "data": {
      "text/html": [
       "<div>\n",
       "<style scoped>\n",
       "    .dataframe tbody tr th:only-of-type {\n",
       "        vertical-align: middle;\n",
       "    }\n",
       "\n",
       "    .dataframe tbody tr th {\n",
       "        vertical-align: top;\n",
       "    }\n",
       "\n",
       "    .dataframe thead th {\n",
       "        text-align: right;\n",
       "    }\n",
       "</style>\n",
       "<table border=\"1\" class=\"dataframe\">\n",
       "  <thead>\n",
       "    <tr style=\"text-align: right;\">\n",
       "      <th></th>\n",
       "      <th>2019-04-01</th>\n",
       "      <th>2019-04-02</th>\n",
       "      <th>2019-04-03</th>\n",
       "      <th>2019-04-04</th>\n",
       "      <th>2019-04-05</th>\n",
       "      <th>RMSE</th>\n",
       "    </tr>\n",
       "  </thead>\n",
       "  <tbody>\n",
       "    <tr>\n",
       "      <td>0</td>\n",
       "      <td>1136.100000</td>\n",
       "      <td>1132.700000</td>\n",
       "      <td>1135.800000</td>\n",
       "      <td>1134.900000</td>\n",
       "      <td>1135.500000</td>\n",
       "      <td>0.000000</td>\n",
       "    </tr>\n",
       "    <tr>\n",
       "      <td>0</td>\n",
       "      <td>1137.890590</td>\n",
       "      <td>1137.855802</td>\n",
       "      <td>1137.869161</td>\n",
       "      <td>1137.864031</td>\n",
       "      <td>1137.866001</td>\n",
       "      <td>3.112985</td>\n",
       "    </tr>\n",
       "    <tr>\n",
       "      <td>1</td>\n",
       "      <td>1138.163273</td>\n",
       "      <td>1138.440402</td>\n",
       "      <td>1138.752280</td>\n",
       "      <td>1139.050141</td>\n",
       "      <td>1139.353656</td>\n",
       "      <td>3.949673</td>\n",
       "    </tr>\n",
       "    <tr>\n",
       "      <td>2</td>\n",
       "      <td>1138.132771</td>\n",
       "      <td>1138.058498</td>\n",
       "      <td>1137.997028</td>\n",
       "      <td>1138.006570</td>\n",
       "      <td>1138.081807</td>\n",
       "      <td>3.286004</td>\n",
       "    </tr>\n",
       "    <tr>\n",
       "      <td>3</td>\n",
       "      <td>1137.924154</td>\n",
       "      <td>1137.911269</td>\n",
       "      <td>1137.918549</td>\n",
       "      <td>1137.915199</td>\n",
       "      <td>1137.916759</td>\n",
       "      <td>3.159280</td>\n",
       "    </tr>\n",
       "    <tr>\n",
       "      <td>4</td>\n",
       "      <td>1137.236643</td>\n",
       "      <td>1136.915739</td>\n",
       "      <td>1136.634326</td>\n",
       "      <td>1135.943311</td>\n",
       "      <td>1135.562568</td>\n",
       "      <td>2.042201</td>\n",
       "    </tr>\n",
       "    <tr>\n",
       "      <td>5</td>\n",
       "      <td>1136.820268</td>\n",
       "      <td>1136.971751</td>\n",
       "      <td>1136.935357</td>\n",
       "      <td>1136.156369</td>\n",
       "      <td>1136.225442</td>\n",
       "      <td>2.105251</td>\n",
       "    </tr>\n",
       "    <tr>\n",
       "      <td>6</td>\n",
       "      <td>1137.100853</td>\n",
       "      <td>1137.599407</td>\n",
       "      <td>1137.906484</td>\n",
       "      <td>1137.461527</td>\n",
       "      <td>1137.853760</td>\n",
       "      <td>2.882526</td>\n",
       "    </tr>\n",
       "    <tr>\n",
       "      <td>7</td>\n",
       "      <td>1137.009314</td>\n",
       "      <td>1136.953277</td>\n",
       "      <td>1136.357405</td>\n",
       "      <td>1135.574660</td>\n",
       "      <td>1135.316337</td>\n",
       "      <td>1.985790</td>\n",
       "    </tr>\n",
       "    <tr>\n",
       "      <td>8</td>\n",
       "      <td>1136.982855</td>\n",
       "      <td>1136.789145</td>\n",
       "      <td>1136.742291</td>\n",
       "      <td>1136.053016</td>\n",
       "      <td>1136.053016</td>\n",
       "      <td>2.001186</td>\n",
       "    </tr>\n",
       "    <tr>\n",
       "      <td>9</td>\n",
       "      <td>1137.292113</td>\n",
       "      <td>1137.467473</td>\n",
       "      <td>1137.790600</td>\n",
       "      <td>1137.430612</td>\n",
       "      <td>1137.728899</td>\n",
       "      <td>2.810139</td>\n",
       "    </tr>\n",
       "    <tr>\n",
       "      <td>10</td>\n",
       "      <td>1137.460763</td>\n",
       "      <td>1137.718504</td>\n",
       "      <td>1137.310185</td>\n",
       "      <td>1136.857944</td>\n",
       "      <td>1136.857944</td>\n",
       "      <td>2.645573</td>\n",
       "    </tr>\n",
       "    <tr>\n",
       "      <td>11</td>\n",
       "      <td>1137.744925</td>\n",
       "      <td>1138.340775</td>\n",
       "      <td>1138.213576</td>\n",
       "      <td>1138.056302</td>\n",
       "      <td>1138.359263</td>\n",
       "      <td>3.420149</td>\n",
       "    </tr>\n",
       "  </tbody>\n",
       "</table>\n",
       "</div>"
      ],
      "text/plain": [
       "     2019-04-01   2019-04-02   2019-04-03   2019-04-04   2019-04-05      RMSE\n",
       "0   1136.100000  1132.700000  1135.800000  1134.900000  1135.500000  0.000000\n",
       "0   1137.890590  1137.855802  1137.869161  1137.864031  1137.866001  3.112985\n",
       "1   1138.163273  1138.440402  1138.752280  1139.050141  1139.353656  3.949673\n",
       "2   1138.132771  1138.058498  1137.997028  1138.006570  1138.081807  3.286004\n",
       "3   1137.924154  1137.911269  1137.918549  1137.915199  1137.916759  3.159280\n",
       "4   1137.236643  1136.915739  1136.634326  1135.943311  1135.562568  2.042201\n",
       "5   1136.820268  1136.971751  1136.935357  1136.156369  1136.225442  2.105251\n",
       "6   1137.100853  1137.599407  1137.906484  1137.461527  1137.853760  2.882526\n",
       "7   1137.009314  1136.953277  1136.357405  1135.574660  1135.316337  1.985790\n",
       "8   1136.982855  1136.789145  1136.742291  1136.053016  1136.053016  2.001186\n",
       "9   1137.292113  1137.467473  1137.790600  1137.430612  1137.728899  2.810139\n",
       "10  1137.460763  1137.718504  1137.310185  1136.857944  1136.857944  2.645573\n",
       "11  1137.744925  1138.340775  1138.213576  1138.056302  1138.359263  3.420149"
      ]
     },
     "execution_count": 36,
     "metadata": {},
     "output_type": "execute_result"
    }
   ],
   "source": [
    "actual_price = pd.DataFrame(actual_price + [0]).T\n",
    "actual_price.columns=[df_test.index[0],df_test.index[1],df_test.index[2],df_test.index[3],df_test.index[4],'RMSE']\n",
    "final_df=pd.concat([actual_price, final_df], axis=0)\n",
    "final_df"
   ]
  },
  {
   "cell_type": "code",
   "execution_count": 37,
   "metadata": {},
   "outputs": [],
   "source": [
    "final_df.to_csv('data/final03.csv', index=False)"
   ]
  },
  {
   "cell_type": "code",
   "execution_count": null,
   "metadata": {},
   "outputs": [],
   "source": []
  }
 ],
 "metadata": {
  "kernelspec": {
   "display_name": "Python 3",
   "language": "python",
   "name": "python3"
  },
  "language_info": {
   "codemirror_mode": {
    "name": "ipython",
    "version": 3
   },
   "file_extension": ".py",
   "mimetype": "text/x-python",
   "name": "python",
   "nbconvert_exporter": "python",
   "pygments_lexer": "ipython3",
   "version": "3.7.4"
  }
 },
 "nbformat": 4,
 "nbformat_minor": 2
}
