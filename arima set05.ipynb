{
 "cells": [
  {
   "cell_type": "code",
   "execution_count": 1,
   "metadata": {},
   "outputs": [],
   "source": [
    "import pandas as pd\n",
    "import matplotlib.pyplot as plt\n",
    "\n",
    "from statsmodels.tsa.arima_model import ARIMA\n",
    "from sklearn.metrics import mean_squared_error"
   ]
  },
  {
   "cell_type": "code",
   "execution_count": 2,
   "metadata": {},
   "outputs": [],
   "source": [
    "data = pd.read_csv('exchange_data/set05.csv', header=0, squeeze=True)"
   ]
  },
  {
   "cell_type": "code",
   "execution_count": 3,
   "metadata": {},
   "outputs": [],
   "source": [
    "data = data.set_index('Date')"
   ]
  },
  {
   "cell_type": "code",
   "execution_count": 4,
   "metadata": {},
   "outputs": [],
   "source": [
    "#2018년 2월~2019년1월 train set/ 2019년 2월 test set\n",
    "df_train=data.loc['2018-06-01': '2019-05-31' ]\n",
    "df_test=data.loc['2019-06-01':]"
   ]
  },
  {
   "cell_type": "markdown",
   "metadata": {},
   "source": [
    "### 모형구축"
   ]
  },
  {
   "cell_type": "code",
   "execution_count": 5,
   "metadata": {},
   "outputs": [
    {
     "name": "stderr",
     "output_type": "stream",
     "text": [
      "C:\\Users\\sm.woo\\Anaconda3\\lib\\site-packages\\statsmodels\\tsa\\base\\tsa_model.py:219: ValueWarning: A date index has been provided, but it has no associated frequency information and so will be ignored when e.g. forecasting.\n",
      "  ' ignored when e.g. forecasting.', ValueWarning)\n",
      "C:\\Users\\sm.woo\\Anaconda3\\lib\\site-packages\\statsmodels\\tsa\\base\\tsa_model.py:219: ValueWarning: A date index has been provided, but it has no associated frequency information and so will be ignored when e.g. forecasting.\n",
      "  ' ignored when e.g. forecasting.', ValueWarning)\n"
     ]
    },
    {
     "name": "stdout",
     "output_type": "stream",
     "text": [
      "                             ARIMA Model Results                              \n",
      "==============================================================================\n",
      "Dep. Variable:                 D.Rate   No. Observations:                  244\n",
      "Model:                 ARIMA(1, 1, 1)   Log Likelihood                -689.312\n",
      "Method:                       css-mle   S.D. of innovations              4.080\n",
      "Date:                Fri, 07 Feb 2020   AIC                           1384.623\n",
      "Time:                        15:53:12   BIC                           1395.115\n",
      "Sample:                             1   HQIC                          1388.849\n",
      "                                                                              \n",
      "================================================================================\n",
      "                   coef    std err          z      P>|z|      [0.025      0.975]\n",
      "--------------------------------------------------------------------------------\n",
      "ar.L1.D.Rate     0.3167      0.523      0.606      0.545      -0.708       1.341\n",
      "ma.L1.D.Rate    -0.2159      0.538     -0.402      0.688      -1.270       0.838\n",
      "                                    Roots                                    \n",
      "=============================================================================\n",
      "                  Real          Imaginary           Modulus         Frequency\n",
      "-----------------------------------------------------------------------------\n",
      "AR.1            3.1574           +0.0000j            3.1574            0.0000\n",
      "MA.1            4.6326           +0.0000j            4.6326            0.0000\n",
      "-----------------------------------------------------------------------------\n"
     ]
    }
   ],
   "source": [
    "model_1 = ARIMA(df_train, order=(1,1,1))\n",
    "model_1_fit = model_1.fit(trend='nc',full_output=True, disp=1)\n",
    "print(model_1_fit.summary())"
   ]
  },
  {
   "cell_type": "code",
   "execution_count": 6,
   "metadata": {},
   "outputs": [
    {
     "name": "stderr",
     "output_type": "stream",
     "text": [
      "C:\\Users\\sm.woo\\Anaconda3\\lib\\site-packages\\statsmodels\\tsa\\base\\tsa_model.py:219: ValueWarning: A date index has been provided, but it has no associated frequency information and so will be ignored when e.g. forecasting.\n",
      "  ' ignored when e.g. forecasting.', ValueWarning)\n",
      "C:\\Users\\sm.woo\\Anaconda3\\lib\\site-packages\\statsmodels\\tsa\\base\\tsa_model.py:219: ValueWarning: A date index has been provided, but it has no associated frequency information and so will be ignored when e.g. forecasting.\n",
      "  ' ignored when e.g. forecasting.', ValueWarning)\n"
     ]
    },
    {
     "name": "stdout",
     "output_type": "stream",
     "text": [
      "                             ARIMA Model Results                              \n",
      "==============================================================================\n",
      "Dep. Variable:                 D.Rate   No. Observations:                  244\n",
      "Model:                 ARIMA(1, 1, 1)   Log Likelihood                -687.876\n",
      "Method:                       css-mle   S.D. of innovations              4.056\n",
      "Date:                Fri, 07 Feb 2020   AIC                           1383.752\n",
      "Time:                        15:53:12   BIC                           1397.741\n",
      "Sample:                             1   HQIC                          1389.386\n",
      "                                                                              \n",
      "================================================================================\n",
      "                   coef    std err          z      P>|z|      [0.025      0.975]\n",
      "--------------------------------------------------------------------------------\n",
      "const            0.4651      0.276      1.687      0.093      -0.075       1.005\n",
      "ar.L1.D.Rate    -0.4557      0.359     -1.271      0.205      -1.158       0.247\n",
      "ma.L1.D.Rate     0.5454      0.336      1.625      0.105      -0.112       1.203\n",
      "                                    Roots                                    \n",
      "=============================================================================\n",
      "                  Real          Imaginary           Modulus         Frequency\n",
      "-----------------------------------------------------------------------------\n",
      "AR.1           -2.1944           +0.0000j            2.1944            0.5000\n",
      "MA.1           -1.8334           +0.0000j            1.8334            0.5000\n",
      "-----------------------------------------------------------------------------\n"
     ]
    }
   ],
   "source": [
    "model_2 = ARIMA(df_train, order=(1,1,1))\n",
    "model_2_fit = model_2.fit(trend='c',full_output=True, disp=1)\n",
    "print(model_2_fit.summary())"
   ]
  },
  {
   "cell_type": "code",
   "execution_count": 7,
   "metadata": {},
   "outputs": [
    {
     "name": "stderr",
     "output_type": "stream",
     "text": [
      "C:\\Users\\sm.woo\\Anaconda3\\lib\\site-packages\\statsmodels\\tsa\\base\\tsa_model.py:219: ValueWarning: A date index has been provided, but it has no associated frequency information and so will be ignored when e.g. forecasting.\n",
      "  ' ignored when e.g. forecasting.', ValueWarning)\n",
      "C:\\Users\\sm.woo\\Anaconda3\\lib\\site-packages\\statsmodels\\tsa\\base\\tsa_model.py:219: ValueWarning: A date index has been provided, but it has no associated frequency information and so will be ignored when e.g. forecasting.\n",
      "  ' ignored when e.g. forecasting.', ValueWarning)\n"
     ]
    },
    {
     "name": "stdout",
     "output_type": "stream",
     "text": [
      "                             ARIMA Model Results                              \n",
      "==============================================================================\n",
      "Dep. Variable:                 D.Rate   No. Observations:                  244\n",
      "Model:                 ARIMA(2, 1, 1)   Log Likelihood                -688.063\n",
      "Method:                       css-mle   S.D. of innovations              4.059\n",
      "Date:                Fri, 07 Feb 2020   AIC                           1386.125\n",
      "Time:                        15:53:13   BIC                           1403.611\n",
      "Sample:                             1   HQIC                          1393.168\n",
      "                                                                              \n",
      "================================================================================\n",
      "                   coef    std err          z      P>|z|      [0.025      0.975]\n",
      "--------------------------------------------------------------------------------\n",
      "const            0.4636      0.288      1.609      0.109      -0.101       1.028\n",
      "ar.L1.D.Rate     0.3179      1.550      0.205      0.838      -2.720       3.356\n",
      "ar.L2.D.Rate    -0.0152      0.158     -0.096      0.924      -0.326       0.295\n",
      "ma.L1.D.Rate    -0.2263      1.549     -0.146      0.884      -3.262       2.809\n",
      "                                    Roots                                    \n",
      "=============================================================================\n",
      "                  Real          Imaginary           Modulus         Frequency\n",
      "-----------------------------------------------------------------------------\n",
      "AR.1            3.8546           +0.0000j            3.8546            0.0000\n",
      "AR.2           17.1049           +0.0000j           17.1049            0.0000\n",
      "MA.1            4.4181           +0.0000j            4.4181            0.0000\n",
      "-----------------------------------------------------------------------------\n"
     ]
    }
   ],
   "source": [
    "model_3 = ARIMA(df_train, order=(2,1,1))\n",
    "model_3_fit = model_3.fit(trend='c',full_output=True, disp=1)\n",
    "print(model_3_fit.summary())"
   ]
  },
  {
   "cell_type": "code",
   "execution_count": 8,
   "metadata": {},
   "outputs": [
    {
     "name": "stderr",
     "output_type": "stream",
     "text": [
      "C:\\Users\\sm.woo\\Anaconda3\\lib\\site-packages\\statsmodels\\tsa\\base\\tsa_model.py:219: ValueWarning: A date index has been provided, but it has no associated frequency information and so will be ignored when e.g. forecasting.\n",
      "  ' ignored when e.g. forecasting.', ValueWarning)\n",
      "C:\\Users\\sm.woo\\Anaconda3\\lib\\site-packages\\statsmodels\\tsa\\base\\tsa_model.py:219: ValueWarning: A date index has been provided, but it has no associated frequency information and so will be ignored when e.g. forecasting.\n",
      "  ' ignored when e.g. forecasting.', ValueWarning)\n"
     ]
    },
    {
     "name": "stdout",
     "output_type": "stream",
     "text": [
      "                             ARIMA Model Results                              \n",
      "==============================================================================\n",
      "Dep. Variable:                 D.Rate   No. Observations:                  244\n",
      "Model:                 ARIMA(2, 1, 1)   Log Likelihood                -689.308\n",
      "Method:                       css-mle   S.D. of innovations              4.080\n",
      "Date:                Fri, 07 Feb 2020   AIC                           1386.615\n",
      "Time:                        15:53:13   BIC                           1400.604\n",
      "Sample:                             1   HQIC                          1392.249\n",
      "                                                                              \n",
      "================================================================================\n",
      "                   coef    std err          z      P>|z|      [0.025      0.975]\n",
      "--------------------------------------------------------------------------------\n",
      "ar.L1.D.Rate     0.3799      0.863      0.440      0.660      -1.311       2.071\n",
      "ar.L2.D.Rate    -0.0099      0.114     -0.086      0.931      -0.234       0.214\n",
      "ma.L1.D.Rate    -0.2780      0.860     -0.323      0.747      -1.964       1.408\n",
      "                                    Roots                                    \n",
      "=============================================================================\n",
      "                  Real          Imaginary           Modulus         Frequency\n",
      "-----------------------------------------------------------------------------\n",
      "AR.1            2.8413           +0.0000j            2.8413            0.0000\n",
      "AR.2           35.7260           +0.0000j           35.7260            0.0000\n",
      "MA.1            3.5971           +0.0000j            3.5971            0.0000\n",
      "-----------------------------------------------------------------------------\n"
     ]
    }
   ],
   "source": [
    "model_4 = ARIMA(df_train, order=(2,1,1))\n",
    "model_4_fit = model_4.fit(trend='nc',full_output=True, disp=1)\n",
    "print(model_4_fit.summary())"
   ]
  },
  {
   "cell_type": "code",
   "execution_count": 9,
   "metadata": {},
   "outputs": [
    {
     "name": "stderr",
     "output_type": "stream",
     "text": [
      "C:\\Users\\sm.woo\\Anaconda3\\lib\\site-packages\\statsmodels\\tsa\\base\\tsa_model.py:219: ValueWarning: A date index has been provided, but it has no associated frequency information and so will be ignored when e.g. forecasting.\n",
      "  ' ignored when e.g. forecasting.', ValueWarning)\n",
      "C:\\Users\\sm.woo\\Anaconda3\\lib\\site-packages\\statsmodels\\tsa\\base\\tsa_model.py:219: ValueWarning: A date index has been provided, but it has no associated frequency information and so will be ignored when e.g. forecasting.\n",
      "  ' ignored when e.g. forecasting.', ValueWarning)\n"
     ]
    },
    {
     "name": "stdout",
     "output_type": "stream",
     "text": [
      "                             ARIMA Model Results                              \n",
      "==============================================================================\n",
      "Dep. Variable:                 D.Rate   No. Observations:                  244\n",
      "Model:                 ARIMA(2, 1, 2)   Log Likelihood                -689.015\n",
      "Method:                       css-mle   S.D. of innovations              4.075\n",
      "Date:                Fri, 07 Feb 2020   AIC                           1388.029\n",
      "Time:                        15:53:13   BIC                           1405.515\n",
      "Sample:                             1   HQIC                          1395.071\n",
      "                                                                              \n",
      "================================================================================\n",
      "                   coef    std err          z      P>|z|      [0.025      0.975]\n",
      "--------------------------------------------------------------------------------\n",
      "ar.L1.D.Rate    -0.1232      0.638     -0.193      0.847      -1.373       1.127\n",
      "ar.L2.D.Rate     0.2534      0.297      0.854      0.394      -0.328       0.835\n",
      "ma.L1.D.Rate     0.2365      0.637      0.371      0.711      -1.012       1.485\n",
      "ma.L2.D.Rate    -0.2407      0.321     -0.751      0.454      -0.869       0.388\n",
      "                                    Roots                                    \n",
      "=============================================================================\n",
      "                  Real          Imaginary           Modulus         Frequency\n",
      "-----------------------------------------------------------------------------\n",
      "AR.1           -1.7584           +0.0000j            1.7584            0.5000\n",
      "AR.2            2.2445           +0.0000j            2.2445            0.0000\n",
      "MA.1           -1.6054           +0.0000j            1.6054            0.5000\n",
      "MA.2            2.5882           +0.0000j            2.5882            0.0000\n",
      "-----------------------------------------------------------------------------\n"
     ]
    }
   ],
   "source": [
    "model_5 = ARIMA(df_train, order=(2,1,2))\n",
    "model_5_fit = model_5.fit(trend='nc',full_output=True, disp=1)\n",
    "print(model_5_fit.summary())"
   ]
  },
  {
   "cell_type": "code",
   "execution_count": 10,
   "metadata": {},
   "outputs": [
    {
     "name": "stderr",
     "output_type": "stream",
     "text": [
      "C:\\Users\\sm.woo\\Anaconda3\\lib\\site-packages\\statsmodels\\tsa\\base\\tsa_model.py:219: ValueWarning: A date index has been provided, but it has no associated frequency information and so will be ignored when e.g. forecasting.\n",
      "  ' ignored when e.g. forecasting.', ValueWarning)\n",
      "C:\\Users\\sm.woo\\Anaconda3\\lib\\site-packages\\statsmodels\\tsa\\base\\tsa_model.py:219: ValueWarning: A date index has been provided, but it has no associated frequency information and so will be ignored when e.g. forecasting.\n",
      "  ' ignored when e.g. forecasting.', ValueWarning)\n"
     ]
    },
    {
     "name": "stdout",
     "output_type": "stream",
     "text": [
      "                             ARIMA Model Results                              \n",
      "==============================================================================\n",
      "Dep. Variable:                 D.Rate   No. Observations:                  244\n",
      "Model:                 ARIMA(2, 1, 2)   Log Likelihood                -687.760\n",
      "Method:                       css-mle   S.D. of innovations              4.054\n",
      "Date:                Fri, 07 Feb 2020   AIC                           1387.520\n",
      "Time:                        15:53:14   BIC                           1408.503\n",
      "Sample:                             1   HQIC                          1395.971\n",
      "                                                                              \n",
      "================================================================================\n",
      "                   coef    std err          z      P>|z|      [0.025      0.975]\n",
      "--------------------------------------------------------------------------------\n",
      "const            0.4641      0.287      1.615      0.108      -0.099       1.027\n",
      "ar.L1.D.Rate    -0.1811      0.738     -0.245      0.806      -1.628       1.265\n",
      "ar.L2.D.Rate     0.2083      0.346      0.602      0.548      -0.470       0.886\n",
      "ma.L1.D.Rate     0.2822      0.737      0.383      0.702      -1.162       1.726\n",
      "ma.L2.D.Rate    -0.2044      0.385     -0.531      0.596      -0.959       0.550\n",
      "                                    Roots                                    \n",
      "=============================================================================\n",
      "                  Real          Imaginary           Modulus         Frequency\n",
      "-----------------------------------------------------------------------------\n",
      "AR.1           -1.7989           +0.0000j            1.7989            0.5000\n",
      "AR.2            2.6682           +0.0000j            2.6682            0.0000\n",
      "MA.1           -1.6268           +0.0000j            1.6268            0.5000\n",
      "MA.2            3.0074           +0.0000j            3.0074            0.0000\n",
      "-----------------------------------------------------------------------------\n"
     ]
    }
   ],
   "source": [
    "model_6 = ARIMA(df_train, order=(2,1,2))\n",
    "model_6_fit = model_6.fit(trend='c',full_output=True, disp=1)\n",
    "print(model_6_fit.summary())"
   ]
  },
  {
   "cell_type": "code",
   "execution_count": 11,
   "metadata": {},
   "outputs": [
    {
     "name": "stderr",
     "output_type": "stream",
     "text": [
      "C:\\Users\\sm.woo\\Anaconda3\\lib\\site-packages\\statsmodels\\tsa\\base\\tsa_model.py:219: ValueWarning: A date index has been provided, but it has no associated frequency information and so will be ignored when e.g. forecasting.\n",
      "  ' ignored when e.g. forecasting.', ValueWarning)\n",
      "C:\\Users\\sm.woo\\Anaconda3\\lib\\site-packages\\statsmodels\\tsa\\base\\tsa_model.py:219: ValueWarning: A date index has been provided, but it has no associated frequency information and so will be ignored when e.g. forecasting.\n",
      "  ' ignored when e.g. forecasting.', ValueWarning)\n"
     ]
    },
    {
     "name": "stdout",
     "output_type": "stream",
     "text": [
      "                             ARIMA Model Results                              \n",
      "==============================================================================\n",
      "Dep. Variable:                 D.Rate   No. Observations:                  244\n",
      "Model:                 ARIMA(4, 1, 3)   Log Likelihood                -684.910\n",
      "Method:                       css-mle   S.D. of innovations              3.973\n",
      "Date:                Fri, 07 Feb 2020   AIC                           1385.820\n",
      "Time:                        15:53:17   BIC                           1413.797\n",
      "Sample:                             1   HQIC                          1397.088\n",
      "                                                                              \n",
      "================================================================================\n",
      "                   coef    std err          z      P>|z|      [0.025      0.975]\n",
      "--------------------------------------------------------------------------------\n",
      "ar.L1.D.Rate    -1.2615      0.753     -1.675      0.095      -2.738       0.215\n",
      "ar.L2.D.Rate    -1.2661      0.529     -2.392      0.018      -2.303      -0.229\n",
      "ar.L3.D.Rate    -0.3421      0.643     -0.532      0.595      -1.603       0.919\n",
      "ar.L4.D.Rate     0.0671      0.138      0.485      0.628      -0.204       0.338\n",
      "ma.L1.D.Rate     1.3881      0.749      1.853      0.065      -0.080       2.857\n",
      "ma.L2.D.Rate     1.4636      0.621      2.357      0.019       0.247       2.681\n",
      "ma.L3.D.Rate     0.5595      0.748      0.748      0.455      -0.907       2.026\n",
      "                                    Roots                                    \n",
      "=============================================================================\n",
      "                  Real          Imaginary           Modulus         Frequency\n",
      "-----------------------------------------------------------------------------\n",
      "AR.1           -0.4336           -0.9084j            1.0066           -0.3209\n",
      "AR.2           -0.4336           +0.9084j            1.0066            0.3209\n",
      "AR.3           -1.8756           -0.0000j            1.8756           -0.5000\n",
      "AR.4            7.8372           -0.0000j            7.8372           -0.0000\n",
      "MA.1           -0.4143           -0.9101j            1.0000           -0.3180\n",
      "MA.2           -0.4143           +0.9101j            1.0000            0.3180\n",
      "MA.3           -1.7874           -0.0000j            1.7874           -0.5000\n",
      "-----------------------------------------------------------------------------\n"
     ]
    }
   ],
   "source": [
    "model_9 = ARIMA(df_train, order=(4,1,3))\n",
    "model_9_fit = model_9.fit(trend='nc',full_output=True, disp=1)\n",
    "print(model_9_fit.summary())"
   ]
  },
  {
   "cell_type": "code",
   "execution_count": 12,
   "metadata": {},
   "outputs": [
    {
     "name": "stderr",
     "output_type": "stream",
     "text": [
      "C:\\Users\\sm.woo\\Anaconda3\\lib\\site-packages\\statsmodels\\tsa\\base\\tsa_model.py:219: ValueWarning: A date index has been provided, but it has no associated frequency information and so will be ignored when e.g. forecasting.\n",
      "  ' ignored when e.g. forecasting.', ValueWarning)\n",
      "C:\\Users\\sm.woo\\Anaconda3\\lib\\site-packages\\statsmodels\\tsa\\base\\tsa_model.py:219: ValueWarning: A date index has been provided, but it has no associated frequency information and so will be ignored when e.g. forecasting.\n",
      "  ' ignored when e.g. forecasting.', ValueWarning)\n"
     ]
    },
    {
     "name": "stdout",
     "output_type": "stream",
     "text": [
      "                             ARIMA Model Results                              \n",
      "==============================================================================\n",
      "Dep. Variable:                 D.Rate   No. Observations:                  244\n",
      "Model:                 ARIMA(4, 1, 3)   Log Likelihood                -683.652\n",
      "Method:                       css-mle   S.D. of innovations              3.955\n",
      "Date:                Fri, 07 Feb 2020   AIC                           1385.304\n",
      "Time:                        15:53:21   BIC                           1416.779\n",
      "Sample:                             1   HQIC                          1397.980\n",
      "                                                                              \n",
      "================================================================================\n",
      "                   coef    std err          z      P>|z|      [0.025      0.975]\n",
      "--------------------------------------------------------------------------------\n",
      "const            0.4652      0.275      1.691      0.092      -0.074       1.005\n",
      "ar.L1.D.Rate    -0.3842      0.315     -1.218      0.224      -1.002       0.234\n",
      "ar.L2.D.Rate    -0.8998      0.088    -10.229      0.000      -1.072      -0.727\n",
      "ar.L3.D.Rate    -0.4377      0.297     -1.475      0.142      -1.020       0.144\n",
      "ar.L4.D.Rate    -0.0282      0.072     -0.392      0.696      -0.169       0.113\n",
      "ma.L1.D.Rate     0.4791      0.309      1.548      0.123      -0.127       1.085\n",
      "ma.L2.D.Rate     0.9627      0.029     33.614      0.000       0.907       1.019\n",
      "ma.L3.D.Rate     0.5471      0.310      1.765      0.079      -0.061       1.155\n",
      "                                    Roots                                    \n",
      "=============================================================================\n",
      "                  Real          Imaginary           Modulus         Frequency\n",
      "-----------------------------------------------------------------------------\n",
      "AR.1            0.0530           -1.0436j            1.0450           -0.2419\n",
      "AR.2            0.0530           +1.0436j            1.0450            0.2419\n",
      "AR.3           -2.4667           -0.0000j            2.4667           -0.5000\n",
      "AR.4          -13.1807           -0.0000j           13.1807           -0.5000\n",
      "MA.1            0.0340           -0.9994j            1.0000           -0.2446\n",
      "MA.2            0.0340           +0.9994j            1.0000            0.2446\n",
      "MA.3           -1.8276           -0.0000j            1.8276           -0.5000\n",
      "-----------------------------------------------------------------------------\n"
     ]
    }
   ],
   "source": [
    "model_10 = ARIMA(df_train, order=(4,1,3))\n",
    "model_10_fit = model_10.fit(trend='c',full_output=True, disp=1)\n",
    "print(model_10_fit.summary())"
   ]
  },
  {
   "cell_type": "code",
   "execution_count": 13,
   "metadata": {},
   "outputs": [
    {
     "name": "stderr",
     "output_type": "stream",
     "text": [
      "C:\\Users\\sm.woo\\Anaconda3\\lib\\site-packages\\statsmodels\\tsa\\base\\tsa_model.py:219: ValueWarning: A date index has been provided, but it has no associated frequency information and so will be ignored when e.g. forecasting.\n",
      "  ' ignored when e.g. forecasting.', ValueWarning)\n",
      "C:\\Users\\sm.woo\\Anaconda3\\lib\\site-packages\\statsmodels\\tsa\\base\\tsa_model.py:219: ValueWarning: A date index has been provided, but it has no associated frequency information and so will be ignored when e.g. forecasting.\n",
      "  ' ignored when e.g. forecasting.', ValueWarning)\n"
     ]
    },
    {
     "name": "stdout",
     "output_type": "stream",
     "text": [
      "                             ARIMA Model Results                              \n",
      "==============================================================================\n",
      "Dep. Variable:                 D.Rate   No. Observations:                  244\n",
      "Model:                 ARIMA(4, 1, 4)   Log Likelihood                -686.841\n",
      "Method:                       css-mle   S.D. of innovations              3.988\n",
      "Date:                Fri, 07 Feb 2020   AIC                           1391.683\n",
      "Time:                        15:53:28   BIC                           1423.157\n",
      "Sample:                             1   HQIC                          1404.359\n",
      "                                                                              \n",
      "================================================================================\n",
      "                   coef    std err          z      P>|z|      [0.025      0.975]\n",
      "--------------------------------------------------------------------------------\n",
      "ar.L1.D.Rate     0.0226      0.030      0.762      0.447      -0.036       0.081\n",
      "ar.L2.D.Rate     1.6040      0.032     49.761      0.000       1.541       1.667\n",
      "ar.L3.D.Rate    -0.0440      0.027     -1.613      0.108      -0.098       0.009\n",
      "ar.L4.D.Rate    -0.9575      0.028    -34.623      0.000      -1.012      -0.903\n",
      "ma.L1.D.Rate     0.0026      0.021      0.122      0.903      -0.039       0.044\n",
      "ma.L2.D.Rate    -1.6433      0.024    -68.196      0.000      -1.691      -1.596\n",
      "ma.L3.D.Rate     0.0026      0.021      0.123      0.902      -0.039       0.044\n",
      "ma.L4.D.Rate     1.0000      0.020     50.717      0.000       0.961       1.039\n",
      "                                    Roots                                    \n",
      "=============================================================================\n",
      "                  Real          Imaginary           Modulus         Frequency\n",
      "-----------------------------------------------------------------------------\n",
      "AR.1            0.9528           -0.3097j            1.0019           -0.0500\n",
      "AR.2            0.9528           +0.3097j            1.0019            0.0500\n",
      "AR.3           -0.9758           -0.2969j            1.0200           -0.4530\n",
      "AR.4           -0.9758           +0.2969j            1.0200            0.4530\n",
      "MA.1            0.9537           -0.3007j            1.0000           -0.0486\n",
      "MA.2            0.9537           +0.3007j            1.0000            0.0486\n",
      "MA.3           -0.9550           -0.2966j            1.0000           -0.4521\n",
      "MA.4           -0.9550           +0.2966j            1.0000            0.4521\n",
      "-----------------------------------------------------------------------------\n"
     ]
    }
   ],
   "source": [
    "model_11 = ARIMA(df_train, order=(4,1,4))\n",
    "model_11_fit = model_11.fit(trend='nc',full_output=True, disp=1)\n",
    "print(model_11_fit.summary())"
   ]
  },
  {
   "cell_type": "code",
   "execution_count": 14,
   "metadata": {
    "scrolled": false
   },
   "outputs": [
    {
     "name": "stderr",
     "output_type": "stream",
     "text": [
      "C:\\Users\\sm.woo\\Anaconda3\\lib\\site-packages\\statsmodels\\tsa\\base\\tsa_model.py:219: ValueWarning: A date index has been provided, but it has no associated frequency information and so will be ignored when e.g. forecasting.\n",
      "  ' ignored when e.g. forecasting.', ValueWarning)\n",
      "C:\\Users\\sm.woo\\Anaconda3\\lib\\site-packages\\statsmodels\\tsa\\base\\tsa_model.py:219: ValueWarning: A date index has been provided, but it has no associated frequency information and so will be ignored when e.g. forecasting.\n",
      "  ' ignored when e.g. forecasting.', ValueWarning)\n",
      "C:\\Users\\sm.woo\\Anaconda3\\lib\\site-packages\\statsmodels\\base\\model.py:492: HessianInversionWarning: Inverting hessian failed, no bse or cov_params available\n",
      "  'available', HessianInversionWarning)\n"
     ]
    },
    {
     "name": "stdout",
     "output_type": "stream",
     "text": [
      "                             ARIMA Model Results                              \n",
      "==============================================================================\n",
      "Dep. Variable:                 D.Rate   No. Observations:                  244\n",
      "Model:                 ARIMA(4, 1, 4)   Log Likelihood                -684.007\n",
      "Method:                       css-mle   S.D. of innovations              3.935\n",
      "Date:                Fri, 07 Feb 2020   AIC                           1388.015\n",
      "Time:                        15:53:31   BIC                           1422.987\n",
      "Sample:                             1   HQIC                          1402.100\n",
      "                                                                              \n",
      "================================================================================\n",
      "                   coef    std err          z      P>|z|      [0.025      0.975]\n",
      "--------------------------------------------------------------------------------\n",
      "const            0.4931      0.225      2.188      0.030       0.051       0.935\n",
      "ar.L1.D.Rate     0.1188      0.034      3.518      0.001       0.053       0.185\n",
      "ar.L2.D.Rate     1.4687      0.036     40.703      0.000       1.398       1.539\n",
      "ar.L3.D.Rate     0.0477      0.041      1.176      0.241      -0.032       0.127\n",
      "ar.L4.D.Rate    -0.9042      0.037    -24.699      0.000      -0.976      -0.832\n",
      "ma.L1.D.Rate    -0.0932      0.038     -2.460      0.015      -0.167      -0.019\n",
      "ma.L2.D.Rate    -1.5729      0.037    -42.123      0.000      -1.646      -1.500\n",
      "ma.L3.D.Rate    -0.0932      0.053     -1.769      0.078      -0.196       0.010\n",
      "ma.L4.D.Rate     1.0000      0.044     22.847      0.000       0.914       1.086\n",
      "                                    Roots                                    \n",
      "=============================================================================\n",
      "                  Real          Imaginary           Modulus         Frequency\n",
      "-----------------------------------------------------------------------------\n",
      "AR.1           -0.9523           -0.4057j            1.0351           -0.4359\n",
      "AR.2           -0.9523           +0.4057j            1.0351            0.4359\n",
      "AR.3            0.9787           -0.2727j            1.0160           -0.0432\n",
      "AR.4            0.9787           +0.2727j            1.0160            0.0432\n",
      "MA.1           -0.9221           -0.3870j            1.0000           -0.4368\n",
      "MA.2           -0.9221           +0.3870j            1.0000            0.4368\n",
      "MA.3            0.9687           -0.2483j            1.0000           -0.0399\n",
      "MA.4            0.9687           +0.2483j            1.0000            0.0399\n",
      "-----------------------------------------------------------------------------\n"
     ]
    }
   ],
   "source": [
    "model_12 = ARIMA(df_train, order=(4,1,4))\n",
    "model_12_fit = model_12.fit(trend='c',full_output=True, disp=1)\n",
    "print(model_12_fit.summary())"
   ]
  },
  {
   "cell_type": "code",
   "execution_count": 15,
   "metadata": {},
   "outputs": [
    {
     "name": "stderr",
     "output_type": "stream",
     "text": [
      "C:\\Users\\sm.woo\\Anaconda3\\lib\\site-packages\\statsmodels\\tsa\\base\\tsa_model.py:219: ValueWarning: A date index has been provided, but it has no associated frequency information and so will be ignored when e.g. forecasting.\n",
      "  ' ignored when e.g. forecasting.', ValueWarning)\n",
      "C:\\Users\\sm.woo\\Anaconda3\\lib\\site-packages\\statsmodels\\tsa\\base\\tsa_model.py:219: ValueWarning: A date index has been provided, but it has no associated frequency information and so will be ignored when e.g. forecasting.\n",
      "  ' ignored when e.g. forecasting.', ValueWarning)\n",
      "C:\\Users\\sm.woo\\Anaconda3\\lib\\site-packages\\statsmodels\\base\\model.py:492: HessianInversionWarning: Inverting hessian failed, no bse or cov_params available\n",
      "  'available', HessianInversionWarning)\n",
      "C:\\Users\\sm.woo\\Anaconda3\\lib\\site-packages\\statsmodels\\base\\model.py:512: ConvergenceWarning: Maximum Likelihood optimization failed to converge. Check mle_retvals\n",
      "  \"Check mle_retvals\", ConvergenceWarning)\n"
     ]
    },
    {
     "name": "stdout",
     "output_type": "stream",
     "text": [
      "                             ARIMA Model Results                              \n",
      "==============================================================================\n",
      "Dep. Variable:                 D.Rate   No. Observations:                  244\n",
      "Model:                 ARIMA(5, 1, 4)   Log Likelihood                -684.038\n",
      "Method:                       css-mle   S.D. of innovations              3.947\n",
      "Date:                Fri, 07 Feb 2020   AIC                           1390.075\n",
      "Time:                        15:54:04   BIC                           1428.544\n",
      "Sample:                             1   HQIC                          1405.568\n",
      "                                                                              \n",
      "================================================================================\n",
      "                   coef    std err          z      P>|z|      [0.025      0.975]\n",
      "--------------------------------------------------------------------------------\n",
      "const            0.4922      0.246      2.000      0.047       0.010       0.975\n",
      "ar.L1.D.Rate     0.4797      0.007     64.452      0.000       0.465       0.494\n",
      "ar.L2.D.Rate     0.8783      0.026     34.071      0.000       0.828       0.929\n",
      "ar.L3.D.Rate     0.3102      0.014     22.067      0.000       0.283       0.338\n",
      "ar.L4.D.Rate    -1.0080        nan        nan        nan         nan         nan\n",
      "ar.L5.D.Rate     0.1176      0.008     14.043      0.000       0.101       0.134\n",
      "ma.L1.D.Rate    -0.4075        nan        nan        nan         nan         nan\n",
      "ma.L2.D.Rate    -0.9627      0.013    -75.206      0.000      -0.988      -0.938\n",
      "ma.L3.D.Rate    -0.4108        nan        nan        nan         nan         nan\n",
      "ma.L4.D.Rate     0.9978        nan        nan        nan         nan         nan\n",
      "                                    Roots                                    \n",
      "=============================================================================\n",
      "                  Real          Imaginary           Modulus         Frequency\n",
      "-----------------------------------------------------------------------------\n",
      "AR.1           -0.7638           -0.6455j            1.0001           -0.3883\n",
      "AR.2           -0.7638           +0.6455j            1.0001            0.3883\n",
      "AR.3            0.9854           -0.2738j            1.0228           -0.0431\n",
      "AR.4            0.9854           +0.2738j            1.0228            0.0431\n",
      "AR.5            8.1281           -0.0000j            8.1281           -0.0000\n",
      "MA.1           -0.7644           -0.6447j            1.0000           -0.3885\n",
      "MA.2           -0.7644           +0.6447j            1.0000            0.3885\n",
      "MA.3            0.9703           -0.2464j            1.0011           -0.0396\n",
      "MA.4            0.9703           +0.2464j            1.0011            0.0396\n",
      "-----------------------------------------------------------------------------\n"
     ]
    },
    {
     "name": "stderr",
     "output_type": "stream",
     "text": [
      "C:\\Users\\sm.woo\\Anaconda3\\lib\\site-packages\\statsmodels\\tsa\\arima_model.py:1441: RuntimeWarning: invalid value encountered in sqrt\n",
      "  return np.sqrt(np.diag(-inv(hess)))\n",
      "C:\\Users\\sm.woo\\Anaconda3\\lib\\site-packages\\scipy\\stats\\_distn_infrastructure.py:901: RuntimeWarning: invalid value encountered in greater\n",
      "  return (a < x) & (x < b)\n",
      "C:\\Users\\sm.woo\\Anaconda3\\lib\\site-packages\\scipy\\stats\\_distn_infrastructure.py:901: RuntimeWarning: invalid value encountered in less\n",
      "  return (a < x) & (x < b)\n",
      "C:\\Users\\sm.woo\\Anaconda3\\lib\\site-packages\\scipy\\stats\\_distn_infrastructure.py:1892: RuntimeWarning: invalid value encountered in less_equal\n",
      "  cond2 = cond0 & (x <= _a)\n"
     ]
    }
   ],
   "source": [
    "model_13 = ARIMA(df_train, order=(5,1,4))\n",
    "model_13_fit = model_13.fit(trend='c',full_output=True, disp=1)\n",
    "print(model_13_fit.summary())"
   ]
  },
  {
   "cell_type": "code",
   "execution_count": 16,
   "metadata": {},
   "outputs": [
    {
     "name": "stderr",
     "output_type": "stream",
     "text": [
      "C:\\Users\\sm.woo\\Anaconda3\\lib\\site-packages\\statsmodels\\tsa\\base\\tsa_model.py:219: ValueWarning: A date index has been provided, but it has no associated frequency information and so will be ignored when e.g. forecasting.\n",
      "  ' ignored when e.g. forecasting.', ValueWarning)\n",
      "C:\\Users\\sm.woo\\Anaconda3\\lib\\site-packages\\statsmodels\\tsa\\base\\tsa_model.py:219: ValueWarning: A date index has been provided, but it has no associated frequency information and so will be ignored when e.g. forecasting.\n",
      "  ' ignored when e.g. forecasting.', ValueWarning)\n",
      "C:\\Users\\sm.woo\\Anaconda3\\lib\\site-packages\\statsmodels\\base\\model.py:492: HessianInversionWarning: Inverting hessian failed, no bse or cov_params available\n",
      "  'available', HessianInversionWarning)\n"
     ]
    },
    {
     "name": "stdout",
     "output_type": "stream",
     "text": [
      "                             ARIMA Model Results                              \n",
      "==============================================================================\n",
      "Dep. Variable:                 D.Rate   No. Observations:                  244\n",
      "Model:                 ARIMA(5, 1, 4)   Log Likelihood                -686.756\n",
      "Method:                       css-mle   S.D. of innovations              3.996\n",
      "Date:                Fri, 07 Feb 2020   AIC                           1393.512\n",
      "Time:                        15:54:16   BIC                           1428.484\n",
      "Sample:                             1   HQIC                          1407.597\n",
      "                                                                              \n",
      "================================================================================\n",
      "                   coef    std err          z      P>|z|      [0.025      0.975]\n",
      "--------------------------------------------------------------------------------\n",
      "ar.L1.D.Rate     0.5407        nan        nan        nan         nan         nan\n",
      "ar.L2.D.Rate     0.9256        nan        nan        nan         nan         nan\n",
      "ar.L3.D.Rate     0.3286        nan        nan        nan         nan         nan\n",
      "ar.L4.D.Rate    -1.0109        nan        nan        nan         nan         nan\n",
      "ar.L5.D.Rate     0.1460      0.012     12.023      0.000       0.122       0.170\n",
      "ma.L1.D.Rate    -0.4429        nan        nan        nan         nan         nan\n",
      "ma.L2.D.Rate    -1.0190        nan        nan        nan         nan         nan\n",
      "ma.L3.D.Rate    -0.4469        nan        nan        nan         nan         nan\n",
      "ma.L4.D.Rate     0.9974      0.018     54.004      0.000       0.961       1.034\n",
      "                                    Roots                                    \n",
      "=============================================================================\n",
      "                  Real          Imaginary           Modulus         Frequency\n",
      "-----------------------------------------------------------------------------\n",
      "AR.1           -0.7639           -0.6454j            1.0001           -0.3884\n",
      "AR.2           -0.7639           +0.6454j            1.0001            0.3884\n",
      "AR.3            1.0217           -0.1572j            1.0337           -0.0243\n",
      "AR.4            1.0217           +0.1572j            1.0337            0.0243\n",
      "AR.5            6.4080           -0.0000j            6.4080           -0.0000\n",
      "MA.1           -0.7647           -0.6444j            1.0000           -0.3886\n",
      "MA.2           -0.7647           +0.6444j            1.0000            0.3886\n",
      "MA.3            0.9887           -0.1583j            1.0013           -0.0253\n",
      "MA.4            0.9887           +0.1583j            1.0013            0.0253\n",
      "-----------------------------------------------------------------------------\n"
     ]
    }
   ],
   "source": [
    "model_14 = ARIMA(df_train, order=(5,1,4))\n",
    "model_14_fit = model_14.fit(trend='nc',full_output=True, disp=1)\n",
    "print(model_14_fit.summary())"
   ]
  },
  {
   "cell_type": "code",
   "execution_count": 17,
   "metadata": {},
   "outputs": [
    {
     "name": "stderr",
     "output_type": "stream",
     "text": [
      "C:\\Users\\sm.woo\\Anaconda3\\lib\\site-packages\\statsmodels\\tsa\\base\\tsa_model.py:219: ValueWarning: A date index has been provided, but it has no associated frequency information and so will be ignored when e.g. forecasting.\n",
      "  ' ignored when e.g. forecasting.', ValueWarning)\n",
      "C:\\Users\\sm.woo\\Anaconda3\\lib\\site-packages\\statsmodels\\tsa\\base\\tsa_model.py:219: ValueWarning: A date index has been provided, but it has no associated frequency information and so will be ignored when e.g. forecasting.\n",
      "  ' ignored when e.g. forecasting.', ValueWarning)\n",
      "C:\\Users\\sm.woo\\Anaconda3\\lib\\site-packages\\statsmodels\\base\\model.py:492: HessianInversionWarning: Inverting hessian failed, no bse or cov_params available\n",
      "  'available', HessianInversionWarning)\n"
     ]
    },
    {
     "name": "stdout",
     "output_type": "stream",
     "text": [
      "                             ARIMA Model Results                              \n",
      "==============================================================================\n",
      "Dep. Variable:                 D.Rate   No. Observations:                  244\n",
      "Model:                 ARIMA(5, 1, 3)   Log Likelihood                -687.454\n",
      "Method:                       css-mle   S.D. of innovations              4.025\n",
      "Date:                Fri, 07 Feb 2020   AIC                           1392.909\n",
      "Time:                        15:54:32   BIC                           1424.383\n",
      "Sample:                             1   HQIC                          1405.585\n",
      "                                                                              \n",
      "================================================================================\n",
      "                   coef    std err          z      P>|z|      [0.025      0.975]\n",
      "--------------------------------------------------------------------------------\n",
      "ar.L1.D.Rate    -0.6251      0.066     -9.484      0.000      -0.754      -0.496\n",
      "ar.L2.D.Rate     0.8377      0.077     10.931      0.000       0.687       0.988\n",
      "ar.L3.D.Rate     0.9241      0.070     13.221      0.000       0.787       1.061\n",
      "ar.L4.D.Rate    -0.1184      0.069     -1.707      0.089      -0.254       0.018\n",
      "ar.L5.D.Rate    -0.0187      0.064     -0.292      0.770      -0.144       0.107\n",
      "ma.L1.D.Rate     0.7511      0.030     25.142      0.000       0.693       0.810\n",
      "ma.L2.D.Rate    -0.7511      0.015    -49.637      0.000      -0.781      -0.721\n",
      "ma.L3.D.Rate    -1.0000      0.030    -33.701      0.000      -1.058      -0.942\n",
      "                                    Roots                                    \n",
      "=============================================================================\n",
      "                  Real          Imaginary           Modulus         Frequency\n",
      "-----------------------------------------------------------------------------\n",
      "AR.1            1.0001           -0.0000j            1.0001           -0.0000\n",
      "AR.2           -0.8751           -0.4955j            1.0057           -0.4180\n",
      "AR.3           -0.8751           +0.4955j            1.0057            0.4180\n",
      "AR.4            4.9943           -0.0000j            4.9943           -0.0000\n",
      "AR.5          -10.5651           -0.0000j           10.5651           -0.5000\n",
      "MA.1            1.0000           -0.0000j            1.0000           -0.0000\n",
      "MA.2           -0.8755           -0.4831j            1.0000           -0.4197\n",
      "MA.3           -0.8755           +0.4831j            1.0000            0.4197\n",
      "-----------------------------------------------------------------------------\n"
     ]
    }
   ],
   "source": [
    "model_15 = ARIMA(df_train, order=(5,1,3))\n",
    "model_15_fit = model_15.fit(trend='nc',full_output=True, disp=1)\n",
    "print(model_15_fit.summary())"
   ]
  },
  {
   "cell_type": "code",
   "execution_count": 18,
   "metadata": {},
   "outputs": [
    {
     "name": "stderr",
     "output_type": "stream",
     "text": [
      "C:\\Users\\sm.woo\\Anaconda3\\lib\\site-packages\\statsmodels\\tsa\\base\\tsa_model.py:219: ValueWarning: A date index has been provided, but it has no associated frequency information and so will be ignored when e.g. forecasting.\n",
      "  ' ignored when e.g. forecasting.', ValueWarning)\n",
      "C:\\Users\\sm.woo\\Anaconda3\\lib\\site-packages\\statsmodels\\tsa\\base\\tsa_model.py:219: ValueWarning: A date index has been provided, but it has no associated frequency information and so will be ignored when e.g. forecasting.\n",
      "  ' ignored when e.g. forecasting.', ValueWarning)\n",
      "C:\\Users\\sm.woo\\Anaconda3\\lib\\site-packages\\statsmodels\\base\\model.py:492: HessianInversionWarning: Inverting hessian failed, no bse or cov_params available\n",
      "  'available', HessianInversionWarning)\n"
     ]
    },
    {
     "name": "stdout",
     "output_type": "stream",
     "text": [
      "                             ARIMA Model Results                              \n",
      "==============================================================================\n",
      "Dep. Variable:                 D.Rate   No. Observations:                  244\n",
      "Model:                 ARIMA(5, 1, 3)   Log Likelihood                -685.405\n",
      "Method:                       css-mle   S.D. of innovations              3.980\n",
      "Date:                Fri, 07 Feb 2020   AIC                           1390.810\n",
      "Time:                        15:54:38   BIC                           1425.782\n",
      "Sample:                             1   HQIC                          1404.895\n",
      "                                                                              \n",
      "================================================================================\n",
      "                   coef    std err          z      P>|z|      [0.025      0.975]\n",
      "--------------------------------------------------------------------------------\n",
      "const            0.3527      0.131      2.691      0.008       0.096       0.610\n",
      "ar.L1.D.Rate    -0.6473      0.066     -9.811      0.000      -0.777      -0.518\n",
      "ar.L2.D.Rate     0.8018      0.077     10.382      0.000       0.650       0.953\n",
      "ar.L3.D.Rate     0.9046      0.073     12.466      0.000       0.762       1.047\n",
      "ar.L4.D.Rate    -0.1185      0.078     -1.519      0.130      -0.271       0.034\n",
      "ar.L5.D.Rate    -0.0204      0.068     -0.301      0.764      -0.153       0.112\n",
      "ma.L1.D.Rate     0.7514      0.033     22.510      0.000       0.686       0.817\n",
      "ma.L2.D.Rate    -0.7514      0.025    -30.512      0.000      -0.800      -0.703\n",
      "ma.L3.D.Rate    -1.0000      0.034    -29.764      0.000      -1.066      -0.934\n",
      "                                    Roots                                    \n",
      "=============================================================================\n",
      "                  Real          Imaginary           Modulus         Frequency\n",
      "-----------------------------------------------------------------------------\n",
      "AR.1           -0.8754           -0.4955j            1.0059           -0.4180\n",
      "AR.2           -0.8754           +0.4955j            1.0059            0.4180\n",
      "AR.3            1.0252           -0.0000j            1.0252           -0.0000\n",
      "AR.4            4.7882           -0.0000j            4.7882           -0.0000\n",
      "AR.5           -9.8809           -0.0000j            9.8809           -0.5000\n",
      "MA.1            1.0000           -0.0000j            1.0000           -0.0000\n",
      "MA.2           -0.8757           -0.4829j            1.0000           -0.4198\n",
      "MA.3           -0.8757           +0.4829j            1.0000            0.4198\n",
      "-----------------------------------------------------------------------------\n"
     ]
    }
   ],
   "source": [
    "model_16 = ARIMA(df_train, order=(5,1,3))\n",
    "model_16_fit = model_16.fit(trend='c',full_output=True, disp=1)\n",
    "print(model_16_fit.summary())"
   ]
  },
  {
   "cell_type": "code",
   "execution_count": 19,
   "metadata": {},
   "outputs": [
    {
     "name": "stderr",
     "output_type": "stream",
     "text": [
      "C:\\Users\\sm.woo\\Anaconda3\\lib\\site-packages\\statsmodels\\tsa\\base\\tsa_model.py:219: ValueWarning: A date index has been provided, but it has no associated frequency information and so will be ignored when e.g. forecasting.\n",
      "  ' ignored when e.g. forecasting.', ValueWarning)\n",
      "C:\\Users\\sm.woo\\Anaconda3\\lib\\site-packages\\statsmodels\\tsa\\base\\tsa_model.py:219: ValueWarning: A date index has been provided, but it has no associated frequency information and so will be ignored when e.g. forecasting.\n",
      "  ' ignored when e.g. forecasting.', ValueWarning)\n"
     ]
    },
    {
     "name": "stdout",
     "output_type": "stream",
     "text": [
      "                             ARIMA Model Results                              \n",
      "==============================================================================\n",
      "Dep. Variable:                 D.Rate   No. Observations:                  244\n",
      "Model:                 ARIMA(5, 1, 2)   Log Likelihood                -685.691\n",
      "Method:                       css-mle   S.D. of innovations              4.019\n",
      "Date:                Fri, 07 Feb 2020   AIC                           1389.381\n",
      "Time:                        15:54:45   BIC                           1420.856\n",
      "Sample:                             1   HQIC                          1402.058\n",
      "                                                                              \n",
      "================================================================================\n",
      "                   coef    std err          z      P>|z|      [0.025      0.975]\n",
      "--------------------------------------------------------------------------------\n",
      "const            0.4688      0.230      2.041      0.042       0.019       0.919\n",
      "ar.L1.D.Rate     0.8089      1.242      0.651      0.516      -1.626       3.244\n",
      "ar.L2.D.Rate    -0.0711      0.946     -0.075      0.940      -1.925       1.783\n",
      "ar.L3.D.Rate     0.0720      0.116      0.621      0.535      -0.155       0.300\n",
      "ar.L4.D.Rate    -0.1487      0.120     -1.236      0.218      -0.385       0.087\n",
      "ar.L5.D.Rate     0.0249      0.177      0.140      0.889      -0.323       0.373\n",
      "ma.L1.D.Rate    -0.7206      1.241     -0.581      0.562      -3.153       1.712\n",
      "ma.L2.D.Rate    -0.0009      0.838     -0.001      0.999      -1.644       1.643\n",
      "                                    Roots                                    \n",
      "=============================================================================\n",
      "                  Real          Imaginary           Modulus         Frequency\n",
      "-----------------------------------------------------------------------------\n",
      "AR.1           -1.0771           -1.4986j            1.8456           -0.3492\n",
      "AR.2           -1.0771           +1.4986j            1.8456            0.3492\n",
      "AR.3            1.3775           -0.5450j            1.4814           -0.0600\n",
      "AR.4            1.3775           +0.5450j            1.4814            0.0600\n",
      "AR.5            5.3765           -0.0000j            5.3765           -0.0000\n",
      "MA.1            1.3853           +0.0000j            1.3853            0.0000\n",
      "MA.2         -809.4859           +0.0000j          809.4859            0.5000\n",
      "-----------------------------------------------------------------------------\n"
     ]
    }
   ],
   "source": [
    "model_17 = ARIMA(df_train, order=(5,1,2))\n",
    "model_17_fit = model_17.fit(trend='c',full_output=True, disp=1)\n",
    "print(model_17_fit.summary())"
   ]
  },
  {
   "cell_type": "code",
   "execution_count": 20,
   "metadata": {},
   "outputs": [
    {
     "name": "stderr",
     "output_type": "stream",
     "text": [
      "C:\\Users\\sm.woo\\Anaconda3\\lib\\site-packages\\statsmodels\\tsa\\base\\tsa_model.py:219: ValueWarning: A date index has been provided, but it has no associated frequency information and so will be ignored when e.g. forecasting.\n",
      "  ' ignored when e.g. forecasting.', ValueWarning)\n",
      "C:\\Users\\sm.woo\\Anaconda3\\lib\\site-packages\\statsmodels\\tsa\\base\\tsa_model.py:219: ValueWarning: A date index has been provided, but it has no associated frequency information and so will be ignored when e.g. forecasting.\n",
      "  ' ignored when e.g. forecasting.', ValueWarning)\n",
      "C:\\Users\\sm.woo\\Anaconda3\\lib\\site-packages\\statsmodels\\tsa\\tsatools.py:668: RuntimeWarning: invalid value encountered in true_divide\n",
      "  newparams = ((1-np.exp(-params))/(1+np.exp(-params))).copy()\n",
      "C:\\Users\\sm.woo\\Anaconda3\\lib\\site-packages\\statsmodels\\tsa\\tsatools.py:669: RuntimeWarning: invalid value encountered in true_divide\n",
      "  tmp = ((1-np.exp(-params))/(1+np.exp(-params))).copy()\n"
     ]
    },
    {
     "name": "stdout",
     "output_type": "stream",
     "text": [
      "                             ARIMA Model Results                              \n",
      "==============================================================================\n",
      "Dep. Variable:                 D.Rate   No. Observations:                  244\n",
      "Model:                 ARIMA(5, 1, 2)   Log Likelihood                -684.078\n",
      "Method:                       css-mle   S.D. of innovations              3.957\n",
      "Date:                Fri, 07 Feb 2020   AIC                           1384.155\n",
      "Time:                        15:54:53   BIC                           1412.132\n",
      "Sample:                             1   HQIC                          1395.423\n",
      "                                                                              \n",
      "================================================================================\n",
      "                   coef    std err          z      P>|z|      [0.025      0.975]\n",
      "--------------------------------------------------------------------------------\n",
      "ar.L1.D.Rate     2.0016      0.064     31.517      0.000       1.877       2.126\n",
      "ar.L2.D.Rate    -1.1349      0.143     -7.932      0.000      -1.415      -0.854\n",
      "ar.L3.D.Rate     0.1632      0.160      1.017      0.310      -0.151       0.478\n",
      "ar.L4.D.Rate    -0.2058      0.144     -1.425      0.156      -0.489       0.077\n",
      "ar.L5.D.Rate     0.1392      0.066      2.095      0.037       0.009       0.270\n",
      "ma.L1.D.Rate    -1.9495      0.022    -89.307      0.000      -1.992      -1.907\n",
      "ma.L2.D.Rate     0.9988      0.022     45.049      0.000       0.955       1.042\n",
      "                                    Roots                                    \n",
      "=============================================================================\n",
      "                  Real          Imaginary           Modulus         Frequency\n",
      "-----------------------------------------------------------------------------\n",
      "AR.1            1.0374           -0.2768j            1.0737           -0.0415\n",
      "AR.2            1.0374           +0.2768j            1.0737            0.0415\n",
      "AR.3            1.4610           -0.0000j            1.4610           -0.0000\n",
      "AR.4           -1.0289           -1.7903j            2.0649           -0.3330\n",
      "AR.5           -1.0289           +1.7903j            2.0649            0.3330\n",
      "MA.1            0.9759           -0.2208j            1.0006           -0.0354\n",
      "MA.2            0.9759           +0.2208j            1.0006            0.0354\n",
      "-----------------------------------------------------------------------------\n"
     ]
    }
   ],
   "source": [
    "model_18 = ARIMA(df_train, order=(5,1,2))\n",
    "model_18_fit = model_18.fit(trend='nc',full_output=True, disp=1)\n",
    "print(model_18_fit.summary())"
   ]
  },
  {
   "cell_type": "code",
   "execution_count": 21,
   "metadata": {},
   "outputs": [
    {
     "name": "stderr",
     "output_type": "stream",
     "text": [
      "C:\\Users\\sm.woo\\Anaconda3\\lib\\site-packages\\statsmodels\\tsa\\base\\tsa_model.py:219: ValueWarning: A date index has been provided, but it has no associated frequency information and so will be ignored when e.g. forecasting.\n",
      "  ' ignored when e.g. forecasting.', ValueWarning)\n",
      "C:\\Users\\sm.woo\\Anaconda3\\lib\\site-packages\\statsmodels\\tsa\\base\\tsa_model.py:219: ValueWarning: A date index has been provided, but it has no associated frequency information and so will be ignored when e.g. forecasting.\n",
      "  ' ignored when e.g. forecasting.', ValueWarning)\n"
     ]
    },
    {
     "name": "stdout",
     "output_type": "stream",
     "text": [
      "                             ARIMA Model Results                              \n",
      "==============================================================================\n",
      "Dep. Variable:                 D.Rate   No. Observations:                  244\n",
      "Model:                 ARIMA(5, 1, 1)   Log Likelihood                -687.018\n",
      "Method:                       css-mle   S.D. of innovations              4.041\n",
      "Date:                Fri, 07 Feb 2020   AIC                           1388.037\n",
      "Time:                        15:54:56   BIC                           1412.517\n",
      "Sample:                             1   HQIC                          1397.896\n",
      "                                                                              \n",
      "================================================================================\n",
      "                   coef    std err          z      P>|z|      [0.025      0.975]\n",
      "--------------------------------------------------------------------------------\n",
      "ar.L1.D.Rate    -0.6717      0.206     -3.255      0.001      -1.076      -0.267\n",
      "ar.L2.D.Rate     0.0915      0.079      1.155      0.249      -0.064       0.247\n",
      "ar.L3.D.Rate     0.0812      0.077      1.052      0.294      -0.070       0.232\n",
      "ar.L4.D.Rate    -0.0287      0.078     -0.368      0.713      -0.182       0.124\n",
      "ar.L5.D.Rate    -0.1206      0.064     -1.890      0.060      -0.246       0.004\n",
      "ma.L1.D.Rate     0.7799      0.199      3.913      0.000       0.389       1.171\n",
      "                                    Roots                                    \n",
      "=============================================================================\n",
      "                  Real          Imaginary           Modulus         Frequency\n",
      "-----------------------------------------------------------------------------\n",
      "AR.1           -1.1755           -0.0000j            1.1755           -0.5000\n",
      "AR.2           -0.8982           -1.2608j            1.5480           -0.3485\n",
      "AR.3           -0.8982           +1.2608j            1.5480            0.3485\n",
      "AR.4            1.3670           -1.0370j            1.7158           -0.1033\n",
      "AR.5            1.3670           +1.0370j            1.7158            0.1033\n",
      "MA.1           -1.2822           +0.0000j            1.2822            0.5000\n",
      "-----------------------------------------------------------------------------\n"
     ]
    }
   ],
   "source": [
    "model_19 = ARIMA(df_train, order=(5,1,1))\n",
    "model_19_fit = model_19.fit(trend='nc',full_output=True, disp=1)\n",
    "print(model_19_fit.summary())"
   ]
  },
  {
   "cell_type": "code",
   "execution_count": 22,
   "metadata": {},
   "outputs": [
    {
     "name": "stderr",
     "output_type": "stream",
     "text": [
      "C:\\Users\\sm.woo\\Anaconda3\\lib\\site-packages\\statsmodels\\tsa\\base\\tsa_model.py:219: ValueWarning: A date index has been provided, but it has no associated frequency information and so will be ignored when e.g. forecasting.\n",
      "  ' ignored when e.g. forecasting.', ValueWarning)\n",
      "C:\\Users\\sm.woo\\Anaconda3\\lib\\site-packages\\statsmodels\\tsa\\base\\tsa_model.py:219: ValueWarning: A date index has been provided, but it has no associated frequency information and so will be ignored when e.g. forecasting.\n",
      "  ' ignored when e.g. forecasting.', ValueWarning)\n"
     ]
    },
    {
     "name": "stdout",
     "output_type": "stream",
     "text": [
      "                             ARIMA Model Results                              \n",
      "==============================================================================\n",
      "Dep. Variable:                 D.Rate   No. Observations:                  244\n",
      "Model:                 ARIMA(5, 1, 1)   Log Likelihood                -685.538\n",
      "Method:                       css-mle   S.D. of innovations              4.017\n",
      "Date:                Fri, 07 Feb 2020   AIC                           1387.076\n",
      "Time:                        15:55:00   BIC                           1415.053\n",
      "Sample:                             1   HQIC                          1398.344\n",
      "                                                                              \n",
      "================================================================================\n",
      "                   coef    std err          z      P>|z|      [0.025      0.975]\n",
      "--------------------------------------------------------------------------------\n",
      "const            0.4689      0.265      1.769      0.078      -0.051       0.988\n",
      "ar.L1.D.Rate    -0.6745      0.212     -3.189      0.002      -1.089      -0.260\n",
      "ar.L2.D.Rate     0.0719      0.079      0.911      0.363      -0.083       0.227\n",
      "ar.L3.D.Rate     0.0627      0.077      0.813      0.417      -0.089       0.214\n",
      "ar.L4.D.Rate    -0.0486      0.078     -0.624      0.533      -0.201       0.104\n",
      "ar.L5.D.Rate    -0.1321      0.064     -2.071      0.039      -0.257      -0.007\n",
      "ma.L1.D.Rate     0.7717      0.205      3.760      0.000       0.369       1.174\n",
      "                                    Roots                                    \n",
      "=============================================================================\n",
      "                  Real          Imaginary           Modulus         Frequency\n",
      "-----------------------------------------------------------------------------\n",
      "AR.1           -1.1794           -0.0000j            1.1794           -0.5000\n",
      "AR.2           -0.8890           -1.2389j            1.5249           -0.3491\n",
      "AR.3           -0.8890           +1.2389j            1.5249            0.3491\n",
      "AR.4            1.2946           -1.0413j            1.6614           -0.1078\n",
      "AR.5            1.2946           +1.0413j            1.6614            0.1078\n",
      "MA.1           -1.2958           +0.0000j            1.2958            0.5000\n",
      "-----------------------------------------------------------------------------\n"
     ]
    }
   ],
   "source": [
    "model_20 = ARIMA(df_train, order=(5,1,1))\n",
    "model_20_fit = model_20.fit(trend='c',full_output=True, disp=1)\n",
    "print(model_20_fit.summary())"
   ]
  },
  {
   "cell_type": "code",
   "execution_count": 23,
   "metadata": {},
   "outputs": [
    {
     "name": "stderr",
     "output_type": "stream",
     "text": [
      "C:\\Users\\sm.woo\\Anaconda3\\lib\\site-packages\\statsmodels\\tsa\\base\\tsa_model.py:219: ValueWarning: A date index has been provided, but it has no associated frequency information and so will be ignored when e.g. forecasting.\n",
      "  ' ignored when e.g. forecasting.', ValueWarning)\n",
      "C:\\Users\\sm.woo\\Anaconda3\\lib\\site-packages\\statsmodels\\tsa\\base\\tsa_model.py:219: ValueWarning: A date index has been provided, but it has no associated frequency information and so will be ignored when e.g. forecasting.\n",
      "  ' ignored when e.g. forecasting.', ValueWarning)\n",
      "C:\\Users\\sm.woo\\Anaconda3\\lib\\site-packages\\statsmodels\\base\\model.py:492: HessianInversionWarning: Inverting hessian failed, no bse or cov_params available\n",
      "  'available', HessianInversionWarning)\n",
      "C:\\Users\\sm.woo\\Anaconda3\\lib\\site-packages\\statsmodels\\base\\model.py:512: ConvergenceWarning: Maximum Likelihood optimization failed to converge. Check mle_retvals\n",
      "  \"Check mle_retvals\", ConvergenceWarning)\n"
     ]
    },
    {
     "name": "stdout",
     "output_type": "stream",
     "text": [
      "                             ARIMA Model Results                              \n",
      "==============================================================================\n",
      "Dep. Variable:                 D.Rate   No. Observations:                  244\n",
      "Model:                 ARIMA(5, 1, 5)   Log Likelihood                -697.047\n",
      "Method:                       css-mle   S.D. of innovations                nan\n",
      "Date:                Fri, 07 Feb 2020   AIC                           1416.093\n",
      "Time:                        15:55:09   BIC                           1454.562\n",
      "Sample:                             1   HQIC                          1431.587\n",
      "                                                                              \n",
      "================================================================================\n",
      "                   coef    std err          z      P>|z|      [0.025      0.975]\n",
      "--------------------------------------------------------------------------------\n",
      "ar.L1.D.Rate    -0.2511      0.029     -8.810      0.000      -0.307      -0.195\n",
      "ar.L2.D.Rate     0.4671      0.047      9.858      0.000       0.374       0.560\n",
      "ar.L3.D.Rate     0.7159      0.084      8.519      0.000       0.551       0.881\n",
      "ar.L4.D.Rate    -0.1246      0.008    -15.343      0.000      -0.141      -0.109\n",
      "ar.L5.D.Rate     0.1928      0.010     19.887      0.000       0.174       0.212\n",
      "ma.L1.D.Rate     0.3847        nan        nan        nan         nan         nan\n",
      "ma.L2.D.Rate    -0.4157        nan        nan        nan         nan         nan\n",
      "ma.L3.D.Rate    -0.7855   3.06e-06  -2.56e+05      0.000      -0.786      -0.786\n",
      "ma.L4.D.Rate     0.0415   1.12e-06    3.7e+04      0.000       0.041       0.042\n",
      "ma.L5.D.Rate    -0.2249   4.27e-06  -5.27e+04      0.000      -0.225      -0.225\n",
      "                                    Roots                                    \n",
      "=============================================================================\n",
      "                  Real          Imaginary           Modulus         Frequency\n",
      "-----------------------------------------------------------------------------\n",
      "AR.1           -0.7870           -0.6566j            1.0249           -0.3893\n",
      "AR.2           -0.7870           +0.6566j            1.0249            0.3893\n",
      "AR.3            1.0000           -0.0000j            1.0000           -0.0000\n",
      "AR.4            0.6101           -2.1364j            2.2218           -0.2057\n",
      "AR.5            0.6101           +2.1364j            2.2218            0.2057\n",
      "MA.1           -0.7749           -0.6321j            1.0000           -0.3911\n",
      "MA.2           -0.7749           +0.6321j            1.0000            0.3911\n",
      "MA.3            1.0000           -0.0000j            1.0000           -0.0000\n",
      "MA.4            0.3672           -2.0763j            2.1085           -0.2221\n",
      "MA.5            0.3672           +2.0763j            2.1085            0.2221\n",
      "-----------------------------------------------------------------------------\n"
     ]
    }
   ],
   "source": [
    "model_21 = ARIMA(df_train, order=(5,1,5))\n",
    "model_21_fit = model_21.fit(trend='nc',full_output=True, disp=1)\n",
    "print(model_21_fit.summary())"
   ]
  },
  {
   "cell_type": "code",
   "execution_count": 24,
   "metadata": {},
   "outputs": [
    {
     "name": "stderr",
     "output_type": "stream",
     "text": [
      "C:\\Users\\sm.woo\\Anaconda3\\lib\\site-packages\\statsmodels\\tsa\\base\\tsa_model.py:219: ValueWarning: A date index has been provided, but it has no associated frequency information and so will be ignored when e.g. forecasting.\n",
      "  ' ignored when e.g. forecasting.', ValueWarning)\n",
      "C:\\Users\\sm.woo\\Anaconda3\\lib\\site-packages\\statsmodels\\tsa\\base\\tsa_model.py:219: ValueWarning: A date index has been provided, but it has no associated frequency information and so will be ignored when e.g. forecasting.\n",
      "  ' ignored when e.g. forecasting.', ValueWarning)\n"
     ]
    },
    {
     "name": "stdout",
     "output_type": "stream",
     "text": [
      "                             ARIMA Model Results                              \n",
      "==============================================================================\n",
      "Dep. Variable:                 D.Rate   No. Observations:                  244\n",
      "Model:                 ARIMA(5, 1, 5)   Log Likelihood                -683.811\n",
      "Method:                       css-mle   S.D. of innovations              3.965\n",
      "Date:                Fri, 07 Feb 2020   AIC                           1391.622\n",
      "Time:                        15:55:46   BIC                           1433.588\n",
      "Sample:                             1   HQIC                          1408.524\n",
      "                                                                              \n",
      "================================================================================\n",
      "                   coef    std err          z      P>|z|      [0.025      0.975]\n",
      "--------------------------------------------------------------------------------\n",
      "const            0.4703      0.235      1.997      0.047       0.009       0.932\n",
      "ar.L1.D.Rate    -0.1182        nan        nan        nan         nan         nan\n",
      "ar.L2.D.Rate     1.0564        nan        nan        nan         nan         nan\n",
      "ar.L3.D.Rate     0.8028      0.019     41.940      0.000       0.765       0.840\n",
      "ar.L4.D.Rate    -0.7962        nan        nan        nan         nan         nan\n",
      "ar.L5.D.Rate    -0.4569      0.041    -11.184      0.000      -0.537      -0.377\n",
      "ma.L1.D.Rate     0.2003        nan        nan        nan         nan         nan\n",
      "ma.L2.D.Rate    -1.0882      0.024    -44.746      0.000      -1.136      -1.041\n",
      "ma.L3.D.Rate    -0.8940      0.035    -25.497      0.000      -0.963      -0.825\n",
      "ma.L4.D.Rate     0.7387        nan        nan        nan         nan         nan\n",
      "ma.L5.D.Rate     0.5180      0.068      7.652      0.000       0.385       0.651\n",
      "                                    Roots                                    \n",
      "=============================================================================\n",
      "                  Real          Imaginary           Modulus         Frequency\n",
      "-----------------------------------------------------------------------------\n",
      "AR.1            0.9614           -0.3158j            1.0119           -0.0505\n",
      "AR.2            0.9614           +0.3158j            1.0119            0.0505\n",
      "AR.3           -0.7642           -0.6452j            1.0001           -0.3884\n",
      "AR.4           -0.7642           +0.6452j            1.0001            0.3884\n",
      "AR.5           -2.1370           -0.0000j            2.1370           -0.5000\n",
      "MA.1            0.9765           -0.3009j            1.0218           -0.0476\n",
      "MA.2            0.9765           +0.3009j            1.0218            0.0476\n",
      "MA.3           -0.7650           -0.6441j            1.0000           -0.3886\n",
      "MA.4           -0.7650           +0.6441j            1.0000            0.3886\n",
      "MA.5           -1.8491           -0.0000j            1.8491           -0.5000\n",
      "-----------------------------------------------------------------------------\n"
     ]
    }
   ],
   "source": [
    "model_22 = ARIMA(df_train, order=(5,1,5))\n",
    "model_22_fit = model_22.fit(trend='c',full_output=True, disp=1)\n",
    "print(model_22_fit.summary())"
   ]
  },
  {
   "cell_type": "code",
   "execution_count": 25,
   "metadata": {},
   "outputs": [
    {
     "name": "stderr",
     "output_type": "stream",
     "text": [
      "C:\\Users\\sm.woo\\Anaconda3\\lib\\site-packages\\statsmodels\\tsa\\base\\tsa_model.py:219: ValueWarning: A date index has been provided, but it has no associated frequency information and so will be ignored when e.g. forecasting.\n",
      "  ' ignored when e.g. forecasting.', ValueWarning)\n",
      "C:\\Users\\sm.woo\\Anaconda3\\lib\\site-packages\\statsmodels\\base\\model.py:492: HessianInversionWarning: Inverting hessian failed, no bse or cov_params available\n",
      "  'available', HessianInversionWarning)\n"
     ]
    },
    {
     "name": "stdout",
     "output_type": "stream",
     "text": [
      "                              ARMA Model Results                              \n",
      "==============================================================================\n",
      "Dep. Variable:                   Rate   No. Observations:                  245\n",
      "Model:                     ARMA(5, 5)   Log Likelihood                -688.686\n",
      "Method:                       css-mle   S.D. of innovations              3.928\n",
      "Date:                Fri, 07 Feb 2020   AIC                           1401.373\n",
      "Time:                        15:55:58   BIC                           1443.388\n",
      "Sample:                             0   HQIC                          1418.292\n",
      "                                                                              \n",
      "==============================================================================\n",
      "                 coef    std err          z      P>|z|      [0.025      0.975]\n",
      "------------------------------------------------------------------------------\n",
      "const       1147.7934     56.849     20.190      0.000    1036.371    1259.216\n",
      "ar.L1.Rate    -0.1827      0.052     -3.524      0.001      -0.284      -0.081\n",
      "ar.L2.Rate     0.4127      0.046      8.931      0.000       0.322       0.503\n",
      "ar.L3.Rate    -0.2959      0.049     -6.041      0.000      -0.392      -0.200\n",
      "ar.L4.Rate     0.1847      0.050      3.702      0.000       0.087       0.282\n",
      "ar.L5.Rate     0.8548      0.042     20.142      0.000       0.772       0.938\n",
      "ma.L1.Rate     1.2908      0.087     14.914      0.000       1.121       1.460\n",
      "ma.L2.Rate     0.9102      0.101      9.032      0.000       0.713       1.108\n",
      "ma.L3.Rate     1.2679      0.075     16.875      0.000       1.121       1.415\n",
      "ma.L4.Rate     1.1253      0.102     11.080      0.000       0.926       1.324\n",
      "ma.L5.Rate     0.1058      0.077      1.382      0.168      -0.044       0.256\n",
      "                                    Roots                                    \n",
      "=============================================================================\n",
      "                  Real          Imaginary           Modulus         Frequency\n",
      "-----------------------------------------------------------------------------\n",
      "AR.1            1.0055           -0.0000j            1.0055           -0.0000\n",
      "AR.2            0.3366           -0.9928j            1.0484           -0.1980\n",
      "AR.3            0.3366           +0.9928j            1.0484            0.1980\n",
      "AR.4           -0.9474           -0.4014j            1.0289           -0.4362\n",
      "AR.5           -0.9474           +0.4014j            1.0289            0.4362\n",
      "MA.1            0.3295           -0.9442j            1.0000           -0.1966\n",
      "MA.2            0.3295           +0.9442j            1.0000            0.1966\n",
      "MA.3           -0.9220           -0.3873j            1.0000           -0.4367\n",
      "MA.4           -0.9220           +0.3873j            1.0000            0.4367\n",
      "MA.5           -9.4477           -0.0000j            9.4477           -0.5000\n",
      "-----------------------------------------------------------------------------\n"
     ]
    }
   ],
   "source": [
    "model_23 = ARIMA(df_train, order=(5,0,5))\n",
    "model_23_fit = model_23.fit(trend='c',full_output=True, disp=1)\n",
    "print(model_23_fit.summary())"
   ]
  },
  {
   "cell_type": "code",
   "execution_count": 26,
   "metadata": {},
   "outputs": [
    {
     "name": "stderr",
     "output_type": "stream",
     "text": [
      "C:\\Users\\sm.woo\\Anaconda3\\lib\\site-packages\\statsmodels\\tsa\\base\\tsa_model.py:219: ValueWarning: A date index has been provided, but it has no associated frequency information and so will be ignored when e.g. forecasting.\n",
      "  ' ignored when e.g. forecasting.', ValueWarning)\n",
      "C:\\Users\\sm.woo\\Anaconda3\\lib\\site-packages\\statsmodels\\base\\model.py:492: HessianInversionWarning: Inverting hessian failed, no bse or cov_params available\n",
      "  'available', HessianInversionWarning)\n",
      "C:\\Users\\sm.woo\\Anaconda3\\lib\\site-packages\\statsmodels\\base\\model.py:512: ConvergenceWarning: Maximum Likelihood optimization failed to converge. Check mle_retvals\n",
      "  \"Check mle_retvals\", ConvergenceWarning)\n"
     ]
    },
    {
     "name": "stdout",
     "output_type": "stream",
     "text": [
      "                              ARMA Model Results                              \n",
      "==============================================================================\n",
      "Dep. Variable:                   Rate   No. Observations:                  245\n",
      "Model:                     ARMA(5, 0)   Log Likelihood                -699.135\n",
      "Method:                       css-mle   S.D. of innovations              4.045\n",
      "Date:                Fri, 07 Feb 2020   AIC                           1410.270\n",
      "Time:                        15:56:01   BIC                           1431.277\n",
      "Sample:                             0   HQIC                          1418.730\n",
      "                                                                              \n",
      "==============================================================================\n",
      "                 coef    std err          z      P>|z|      [0.025      0.975]\n",
      "------------------------------------------------------------------------------\n",
      "ar.L1.Rate     1.1085   1.08e-05   1.03e+05      0.000       1.109       1.109\n",
      "ar.L2.Rate    -0.1041    4.5e-06  -2.31e+04      0.000      -0.104      -0.104\n",
      "ar.L3.Rate     0.0718   4.14e-06   1.73e+04      0.000       0.072       0.072\n",
      "ar.L4.Rate    -0.1692        nan        nan        nan         nan         nan\n",
      "ar.L5.Rate     0.0929    1.3e-06   7.13e+04      0.000       0.093       0.093\n",
      "                                    Roots                                    \n",
      "=============================================================================\n",
      "                  Real          Imaginary           Modulus         Frequency\n",
      "-----------------------------------------------------------------------------\n",
      "AR.1            1.0000           -0.0000j            1.0000           -0.0000\n",
      "AR.2           -1.0990           -1.3384j            1.7318           -0.3594\n",
      "AR.3           -1.0990           +1.3384j            1.7318            0.3594\n",
      "AR.4            1.5094           -1.1444j            1.8942           -0.1032\n",
      "AR.5            1.5094           +1.1444j            1.8942            0.1032\n",
      "-----------------------------------------------------------------------------\n"
     ]
    }
   ],
   "source": [
    "#non값 사용 불가능\n",
    "model_24 = ARIMA(df_train, order=(5,0,0))\n",
    "model_24_fit = model_24.fit(trend='nc',full_output=True, disp=1)\n",
    "print(model_24_fit.summary())"
   ]
  },
  {
   "cell_type": "code",
   "execution_count": 27,
   "metadata": {},
   "outputs": [
    {
     "name": "stderr",
     "output_type": "stream",
     "text": [
      "C:\\Users\\sm.woo\\Anaconda3\\lib\\site-packages\\statsmodels\\tsa\\base\\tsa_model.py:219: ValueWarning: A date index has been provided, but it has no associated frequency information and so will be ignored when e.g. forecasting.\n",
      "  ' ignored when e.g. forecasting.', ValueWarning)\n"
     ]
    },
    {
     "name": "stdout",
     "output_type": "stream",
     "text": [
      "                              ARMA Model Results                              \n",
      "==============================================================================\n",
      "Dep. Variable:                   Rate   No. Observations:                  245\n",
      "Model:                     ARMA(5, 0)   Log Likelihood                -692.660\n",
      "Method:                       css-mle   S.D. of innovations              4.051\n",
      "Date:                Fri, 07 Feb 2020   AIC                           1399.320\n",
      "Time:                        15:56:03   BIC                           1423.828\n",
      "Sample:                             0   HQIC                          1409.189\n",
      "                                                                              \n",
      "==============================================================================\n",
      "                 coef    std err          z      P>|z|      [0.025      0.975]\n",
      "------------------------------------------------------------------------------\n",
      "const       1131.1070     27.797     40.692      0.000    1076.626    1185.588\n",
      "ar.L1.Rate     1.1068      0.064     17.404      0.000       0.982       1.231\n",
      "ar.L2.Rate    -0.1035      0.095     -1.087      0.278      -0.290       0.083\n",
      "ar.L3.Rate     0.0732      0.095      0.769      0.443      -0.113       0.260\n",
      "ar.L4.Rate    -0.1702      0.095     -1.785      0.076      -0.357       0.017\n",
      "ar.L5.Rate     0.0873      0.065      1.345      0.180      -0.040       0.214\n",
      "                                    Roots                                    \n",
      "=============================================================================\n",
      "                  Real          Imaginary           Modulus         Frequency\n",
      "-----------------------------------------------------------------------------\n",
      "AR.1            1.0073           -0.0000j            1.0073           -0.0000\n",
      "AR.2           -1.0982           -1.3527j            1.7423           -0.3585\n",
      "AR.3           -1.0982           +1.3527j            1.7423            0.3585\n",
      "AR.4            1.5697           -1.1333j            1.9360           -0.0995\n",
      "AR.5            1.5697           +1.1333j            1.9360            0.0995\n",
      "-----------------------------------------------------------------------------\n"
     ]
    }
   ],
   "source": [
    "model_25 = ARIMA(df_train, order=(5,0,0))\n",
    "model_25_fit = model_25.fit(trend='c',full_output=True, disp=1)\n",
    "print(model_25_fit.summary())"
   ]
  },
  {
   "cell_type": "code",
   "execution_count": 28,
   "metadata": {},
   "outputs": [
    {
     "name": "stderr",
     "output_type": "stream",
     "text": [
      "C:\\Users\\sm.woo\\Anaconda3\\lib\\site-packages\\statsmodels\\tsa\\base\\tsa_model.py:219: ValueWarning: A date index has been provided, but it has no associated frequency information and so will be ignored when e.g. forecasting.\n",
      "  ' ignored when e.g. forecasting.', ValueWarning)\n",
      "C:\\Users\\sm.woo\\Anaconda3\\lib\\site-packages\\statsmodels\\tsa\\base\\tsa_model.py:219: ValueWarning: A date index has been provided, but it has no associated frequency information and so will be ignored when e.g. forecasting.\n",
      "  ' ignored when e.g. forecasting.', ValueWarning)\n"
     ]
    },
    {
     "name": "stdout",
     "output_type": "stream",
     "text": [
      "                             ARIMA Model Results                              \n",
      "==============================================================================\n",
      "Dep. Variable:                 D.Rate   No. Observations:                  244\n",
      "Model:                 ARIMA(0, 1, 5)   Log Likelihood                -687.748\n",
      "Method:                       css-mle   S.D. of innovations              4.054\n",
      "Date:                Fri, 07 Feb 2020   AIC                           1387.497\n",
      "Time:                        15:56:04   BIC                           1408.480\n",
      "Sample:                             1   HQIC                          1395.948\n",
      "                                                                              \n",
      "================================================================================\n",
      "                   coef    std err          z      P>|z|      [0.025      0.975]\n",
      "--------------------------------------------------------------------------------\n",
      "ma.L1.D.Rate     0.1067      0.064      1.658      0.099      -0.019       0.233\n",
      "ma.L2.D.Rate     0.0111      0.066      0.169      0.866      -0.118       0.140\n",
      "ma.L3.D.Rate     0.0687      0.065      1.056      0.292      -0.059       0.196\n",
      "ma.L4.D.Rate    -0.0605      0.065     -0.933      0.352      -0.188       0.067\n",
      "ma.L5.D.Rate    -0.0565      0.065     -0.868      0.387      -0.184       0.071\n",
      "                                    Roots                                    \n",
      "=============================================================================\n",
      "                  Real          Imaginary           Modulus         Frequency\n",
      "-----------------------------------------------------------------------------\n",
      "MA.1            1.7788           -0.0000j            1.7788           -0.0000\n",
      "MA.2            0.3589           -1.5810j            1.6212           -0.2145\n",
      "MA.3            0.3589           +1.5810j            1.6212            0.2145\n",
      "MA.4           -1.7844           -0.7774j            1.9464           -0.4346\n",
      "MA.5           -1.7844           +0.7774j            1.9464            0.4346\n",
      "-----------------------------------------------------------------------------\n"
     ]
    }
   ],
   "source": [
    "model_26 = ARIMA(df_train, order=(0,1,5))\n",
    "model_26_fit = model_26.fit(trend='nc',full_output=True, disp=1)\n",
    "print(model_26_fit.summary())"
   ]
  },
  {
   "cell_type": "code",
   "execution_count": 29,
   "metadata": {},
   "outputs": [
    {
     "name": "stderr",
     "output_type": "stream",
     "text": [
      "C:\\Users\\sm.woo\\Anaconda3\\lib\\site-packages\\statsmodels\\tsa\\base\\tsa_model.py:219: ValueWarning: A date index has been provided, but it has no associated frequency information and so will be ignored when e.g. forecasting.\n",
      "  ' ignored when e.g. forecasting.', ValueWarning)\n",
      "C:\\Users\\sm.woo\\Anaconda3\\lib\\site-packages\\statsmodels\\tsa\\base\\tsa_model.py:219: ValueWarning: A date index has been provided, but it has no associated frequency information and so will be ignored when e.g. forecasting.\n",
      "  ' ignored when e.g. forecasting.', ValueWarning)\n"
     ]
    },
    {
     "name": "stdout",
     "output_type": "stream",
     "text": [
      "                             ARIMA Model Results                              \n",
      "==============================================================================\n",
      "Dep. Variable:                 D.Rate   No. Observations:                  244\n",
      "Model:                 ARIMA(0, 1, 5)   Log Likelihood                -686.205\n",
      "Method:                       css-mle   S.D. of innovations              4.028\n",
      "Date:                Fri, 07 Feb 2020   AIC                           1386.411\n",
      "Time:                        15:56:06   BIC                           1410.891\n",
      "Sample:                             1   HQIC                          1396.270\n",
      "                                                                              \n",
      "================================================================================\n",
      "                   coef    std err          z      P>|z|      [0.025      0.975]\n",
      "--------------------------------------------------------------------------------\n",
      "const            0.4687      0.254      1.843      0.067      -0.030       0.967\n",
      "ma.L1.D.Rate     0.0931      0.064      1.446      0.150      -0.033       0.219\n",
      "ma.L2.D.Rate    -0.0079      0.066     -0.119      0.905      -0.138       0.122\n",
      "ma.L3.D.Rate     0.0509      0.066      0.767      0.444      -0.079       0.181\n",
      "ma.L4.D.Rate    -0.0795      0.066     -1.206      0.229      -0.209       0.050\n",
      "ma.L5.D.Rate    -0.0724      0.066     -1.101      0.272      -0.201       0.056\n",
      "                                    Roots                                    \n",
      "=============================================================================\n",
      "                  Real          Imaginary           Modulus         Frequency\n",
      "-----------------------------------------------------------------------------\n",
      "MA.1            1.6175           -0.0000j            1.6175           -0.0000\n",
      "MA.2            0.3311           -1.5381j            1.5734           -0.2163\n",
      "MA.3            0.3311           +1.5381j            1.5734            0.2163\n",
      "MA.4           -1.6892           -0.7733j            1.8578           -0.4317\n",
      "MA.5           -1.6892           +0.7733j            1.8578            0.4317\n",
      "-----------------------------------------------------------------------------\n"
     ]
    }
   ],
   "source": [
    "model_27 = ARIMA(df_train, order=(0,1,5))\n",
    "model_27_fit = model_27.fit(trend='c',full_output=True, disp=1)\n",
    "print(model_27_fit.summary())"
   ]
  },
  {
   "cell_type": "code",
   "execution_count": 30,
   "metadata": {},
   "outputs": [
    {
     "name": "stderr",
     "output_type": "stream",
     "text": [
      "C:\\Users\\sm.woo\\Anaconda3\\lib\\site-packages\\statsmodels\\tsa\\base\\tsa_model.py:219: ValueWarning: A date index has been provided, but it has no associated frequency information and so will be ignored when e.g. forecasting.\n",
      "  ' ignored when e.g. forecasting.', ValueWarning)\n",
      "C:\\Users\\sm.woo\\Anaconda3\\lib\\site-packages\\statsmodels\\tsa\\base\\tsa_model.py:219: ValueWarning: A date index has been provided, but it has no associated frequency information and so will be ignored when e.g. forecasting.\n",
      "  ' ignored when e.g. forecasting.', ValueWarning)\n"
     ]
    },
    {
     "name": "stdout",
     "output_type": "stream",
     "text": [
      "                             ARIMA Model Results                              \n",
      "==============================================================================\n",
      "Dep. Variable:                 D.Rate   No. Observations:                  244\n",
      "Model:                 ARIMA(0, 1, 4)   Log Likelihood                -688.123\n",
      "Method:                       css-mle   S.D. of innovations              4.060\n",
      "Date:                Fri, 07 Feb 2020   AIC                           1386.247\n",
      "Time:                        15:56:07   BIC                           1403.733\n",
      "Sample:                             1   HQIC                          1393.289\n",
      "                                                                              \n",
      "================================================================================\n",
      "                   coef    std err          z      P>|z|      [0.025      0.975]\n",
      "--------------------------------------------------------------------------------\n",
      "ma.L1.D.Rate     0.1011      0.064      1.569      0.118      -0.025       0.227\n",
      "ma.L2.D.Rate     0.0253      0.065      0.391      0.696      -0.102       0.152\n",
      "ma.L3.D.Rate     0.0684      0.065      1.049      0.295      -0.059       0.196\n",
      "ma.L4.D.Rate    -0.0571      0.066     -0.864      0.389      -0.186       0.072\n",
      "                                    Roots                                    \n",
      "=============================================================================\n",
      "                  Real          Imaginary           Modulus         Frequency\n",
      "-----------------------------------------------------------------------------\n",
      "MA.1           -1.7494           -0.0000j            1.7494           -0.5000\n",
      "MA.2            0.1681           -1.9514j            1.9587           -0.2363\n",
      "MA.3            0.1681           +1.9514j            1.9587            0.2363\n",
      "MA.4            2.6117           -0.0000j            2.6117           -0.0000\n",
      "-----------------------------------------------------------------------------\n"
     ]
    }
   ],
   "source": [
    "model_28 = ARIMA(df_train, order=(0,1,4))\n",
    "model_28_fit = model_28.fit(trend='nc',full_output=True, disp=1)\n",
    "print(model_28_fit.summary())"
   ]
  },
  {
   "cell_type": "code",
   "execution_count": 31,
   "metadata": {},
   "outputs": [
    {
     "name": "stderr",
     "output_type": "stream",
     "text": [
      "C:\\Users\\sm.woo\\Anaconda3\\lib\\site-packages\\statsmodels\\tsa\\base\\tsa_model.py:219: ValueWarning: A date index has been provided, but it has no associated frequency information and so will be ignored when e.g. forecasting.\n",
      "  ' ignored when e.g. forecasting.', ValueWarning)\n",
      "C:\\Users\\sm.woo\\Anaconda3\\lib\\site-packages\\statsmodels\\tsa\\base\\tsa_model.py:219: ValueWarning: A date index has been provided, but it has no associated frequency information and so will be ignored when e.g. forecasting.\n",
      "  ' ignored when e.g. forecasting.', ValueWarning)\n"
     ]
    },
    {
     "name": "stdout",
     "output_type": "stream",
     "text": [
      "                             ARIMA Model Results                              \n",
      "==============================================================================\n",
      "Dep. Variable:                 D.Rate   No. Observations:                  244\n",
      "Model:                 ARIMA(0, 1, 4)   Log Likelihood                -686.807\n",
      "Method:                       css-mle   S.D. of innovations              4.038\n",
      "Date:                Fri, 07 Feb 2020   AIC                           1385.614\n",
      "Time:                        15:56:07   BIC                           1406.597\n",
      "Sample:                             1   HQIC                          1394.065\n",
      "                                                                              \n",
      "================================================================================\n",
      "                   coef    std err          z      P>|z|      [0.025      0.975]\n",
      "--------------------------------------------------------------------------------\n",
      "const            0.4667      0.278      1.676      0.095      -0.079       1.012\n",
      "ma.L1.D.Rate     0.0872      0.065      1.346      0.179      -0.040       0.214\n",
      "ma.L2.D.Rate     0.0116      0.065      0.179      0.858      -0.116       0.139\n",
      "ma.L3.D.Rate     0.0520      0.067      0.780      0.436      -0.079       0.183\n",
      "ma.L4.D.Rate    -0.0737      0.068     -1.091      0.277      -0.206       0.059\n",
      "                                    Roots                                    \n",
      "=============================================================================\n",
      "                  Real          Imaginary           Modulus         Frequency\n",
      "-----------------------------------------------------------------------------\n",
      "MA.1           -1.7074           -0.0000j            1.7074           -0.5000\n",
      "MA.2            0.0901           -1.8846j            1.8867           -0.2424\n",
      "MA.3            0.0901           +1.8846j            1.8867            0.2424\n",
      "MA.4            2.2326           -0.0000j            2.2326           -0.0000\n",
      "-----------------------------------------------------------------------------\n"
     ]
    }
   ],
   "source": [
    "model_29 = ARIMA(df_train, order=(0,1,4))\n",
    "model_29_fit = model_29.fit(trend='c',full_output=True, disp=1)\n",
    "print(model_29_fit.summary())"
   ]
  },
  {
   "cell_type": "markdown",
   "metadata": {},
   "source": [
    "### 예측"
   ]
  },
  {
   "cell_type": "code",
   "execution_count": 32,
   "metadata": {
    "scrolled": true
   },
   "outputs": [
    {
     "data": {
      "image/png": "[encoded data removed]",
      "text/plain": [
       "<Figure size 432x288 with 1 Axes>"
      ]
     },
     "metadata": {
      "needs_background": "light"
     },
     "output_type": "display_data"
    },
    {
     "data": {
      "image/png": "[encoded data removed]",
      "text/plain": [
       "<Figure size 432x288 with 1 Axes>"
      ]
     },
     "metadata": {
      "needs_background": "light"
     },
     "output_type": "display_data"
    },
    {
     "data": {
      "image/png": "[encoded data removed]",
      "text/plain": [
       "<Figure size 432x288 with 1 Axes>"
      ]
     },
     "metadata": {
      "needs_background": "light"
     },
     "output_type": "display_data"
    },
    {
     "data": {
      "image/png": "[encoded data removed]",
      "text/plain": [
       "<Figure size 432x288 with 1 Axes>"
      ]
     },
     "metadata": {
      "needs_background": "light"
     },
     "output_type": "display_data"
    },
    {
     "data": {
      "image/png": "[encoded data removed]",
      "text/plain": [
       "<Figure size 432x288 with 1 Axes>"
      ]
     },
     "metadata": {
      "needs_background": "light"
     },
     "output_type": "display_data"
    },
    {
     "data": {
      "image/png": "[encoded data removed]",
      "text/plain": [
       "<Figure size 432x288 with 1 Axes>"
      ]
     },
     "metadata": {
      "needs_background": "light"
     },
     "output_type": "display_data"
    },
    {
     "data": {
      "image/png": "[encoded data removed]",
      "text/plain": [
       "<Figure size 432x288 with 1 Axes>"
      ]
     },
     "metadata": {
      "needs_background": "light"
     },
     "output_type": "display_data"
    },
    {
     "data": {
      "image/png": "[encoded data removed]",
      "text/plain": [
       "<Figure size 432x288 with 1 Axes>"
      ]
     },
     "metadata": {
      "needs_background": "light"
     },
     "output_type": "display_data"
    },
    {
     "data": {
      "image/png": "[encoded data removed]",
      "text/plain": [
       "<Figure size 432x288 with 1 Axes>"
      ]
     },
     "metadata": {
      "needs_background": "light"
     },
     "output_type": "display_data"
    },
    {
     "data": {
      "image/png": "[encoded data removed]",
      "text/plain": [
       "<Figure size 432x288 with 1 Axes>"
      ]
     },
     "metadata": {
      "needs_background": "light"
     },
     "output_type": "display_data"
    },
    {
     "data": {
      "image/png": "[encoded data removed]",
      "text/plain": [
       "<Figure size 432x288 with 1 Axes>"
      ]
     },
     "metadata": {
      "needs_background": "light"
     },
     "output_type": "display_data"
    },
    {
     "data": {
      "image/png": "[encoded data removed]",
      "text/plain": [
       "<Figure size 432x288 with 1 Axes>"
      ]
     },
     "metadata": {
      "needs_background": "light"
     },
     "output_type": "display_data"
    }
   ],
   "source": [
    "Models = [model_1_fit, model_2_fit, model_3_fit, model_4_fit, model_18_fit, model_19_fit, model_20_fit, \n",
    "          model_25_fit, model_26_fit, model_27_fit, model_28_fit, model_29_fit]\n",
    "\n",
    "df_test=df_test[:5]\n",
    "actual_price=df_test['Rate'].tolist()[:5]\n",
    "RMSE_total=[]\n",
    "pred_price=[]\n",
    "\n",
    "for model in Models:\n",
    "    pred = model.forecast(steps=5)\n",
    "    pred_price_0=pred[0][:5]\n",
    "    pred_price.extend(pred_price_0)\n",
    "\n",
    "    plt.plot(pred_price_0)\n",
    "    plt.plot(df_test)\n",
    "    plt.show()\n",
    "    \n",
    "    RMSE = mean_squared_error(pred_price_0, actual_price)**0.5    \n",
    "    RMSE_total.append(RMSE)"
   ]
  },
  {
   "cell_type": "markdown",
   "metadata": {},
   "source": [
    "#### 예측값, stderr, upper bound, lower bound"
   ]
  },
  {
   "cell_type": "code",
   "execution_count": 33,
   "metadata": {},
   "outputs": [],
   "source": [
    "n = 5\n",
    "result = [pred_price[i * n:(i + 1) * n] for i in range((len(pred_price) + n - 1) // n )] \n",
    "pred_final = []\n",
    "for i in result:\n",
    "    pred_final.append(i)"
   ]
  },
  {
   "cell_type": "code",
   "execution_count": 34,
   "metadata": {
    "scrolled": true
   },
   "outputs": [],
   "source": [
    "pred_final=pd.DataFrame(pred_final)\n",
    "RMSE_total=pd.DataFrame(RMSE_total)\n",
    "final_df=pd.concat([pred_final, RMSE_total], axis=1)\n",
    "final_df.columns=[df_test.index[0],df_test.index[1],df_test.index[2],df_test.index[3],df_test.index[4],'RMSE']"
   ]
  },
  {
   "cell_type": "code",
   "execution_count": 35,
   "metadata": {},
   "outputs": [
    {
     "data": {
      "text/html": [
       "<div>\n",
       "<style scoped>\n",
       "    .dataframe tbody tr th:only-of-type {\n",
       "        vertical-align: middle;\n",
       "    }\n",
       "\n",
       "    .dataframe tbody tr th {\n",
       "        vertical-align: top;\n",
       "    }\n",
       "\n",
       "    .dataframe thead th {\n",
       "        text-align: right;\n",
       "    }\n",
       "</style>\n",
       "<table border=\"1\" class=\"dataframe\">\n",
       "  <thead>\n",
       "    <tr style=\"text-align: right;\">\n",
       "      <th></th>\n",
       "      <th>2019-06-03</th>\n",
       "      <th>2019-06-04</th>\n",
       "      <th>2019-06-05</th>\n",
       "      <th>2019-06-07</th>\n",
       "      <th>2019-06-10</th>\n",
       "      <th>RMSE</th>\n",
       "    </tr>\n",
       "  </thead>\n",
       "  <tbody>\n",
       "    <tr>\n",
       "      <td>0</td>\n",
       "      <td>1191.200000</td>\n",
       "      <td>1183.000000</td>\n",
       "      <td>1181.500000</td>\n",
       "      <td>1179.800000</td>\n",
       "      <td>1179.500000</td>\n",
       "      <td>0.000000</td>\n",
       "    </tr>\n",
       "    <tr>\n",
       "      <td>0</td>\n",
       "      <td>1189.817463</td>\n",
       "      <td>1189.759651</td>\n",
       "      <td>1189.741341</td>\n",
       "      <td>1189.735543</td>\n",
       "      <td>1189.733706</td>\n",
       "      <td>7.987086</td>\n",
       "    </tr>\n",
       "    <tr>\n",
       "      <td>1</td>\n",
       "      <td>1190.067768</td>\n",
       "      <td>1190.713869</td>\n",
       "      <td>1191.096420</td>\n",
       "      <td>1191.599073</td>\n",
       "      <td>1192.046994</td>\n",
       "      <td>9.481795</td>\n",
       "    </tr>\n",
       "    <tr>\n",
       "      <td>2</td>\n",
       "      <td>1190.167224</td>\n",
       "      <td>1190.590633</td>\n",
       "      <td>1191.045926</td>\n",
       "      <td>1191.507471</td>\n",
       "      <td>1191.970518</td>\n",
       "      <td>9.406251</td>\n",
       "    </tr>\n",
       "    <tr>\n",
       "      <td>3</td>\n",
       "      <td>1189.794823</td>\n",
       "      <td>1189.747406</td>\n",
       "      <td>1189.731412</td>\n",
       "      <td>1189.725802</td>\n",
       "      <td>1189.723828</td>\n",
       "      <td>7.978802</td>\n",
       "    </tr>\n",
       "    <tr>\n",
       "      <td>4</td>\n",
       "      <td>1191.958209</td>\n",
       "      <td>1193.882625</td>\n",
       "      <td>1194.361529</td>\n",
       "      <td>1194.859605</td>\n",
       "      <td>1194.792425</td>\n",
       "      <td>12.207173</td>\n",
       "    </tr>\n",
       "    <tr>\n",
       "      <td>5</td>\n",
       "      <td>1190.418117</td>\n",
       "      <td>1190.862920</td>\n",
       "      <td>1189.770881</td>\n",
       "      <td>1190.004748</td>\n",
       "      <td>1190.145690</td>\n",
       "      <td>8.346400</td>\n",
       "    </tr>\n",
       "    <tr>\n",
       "      <td>6</td>\n",
       "      <td>1190.873003</td>\n",
       "      <td>1191.769388</td>\n",
       "      <td>1191.110120</td>\n",
       "      <td>1191.905007</td>\n",
       "      <td>1192.551629</td>\n",
       "      <td>9.861437</td>\n",
       "    </tr>\n",
       "    <tr>\n",
       "      <td>7</td>\n",
       "      <td>1190.095195</td>\n",
       "      <td>1189.848236</td>\n",
       "      <td>1188.707727</td>\n",
       "      <td>1188.485315</td>\n",
       "      <td>1188.052399</td>\n",
       "      <td>7.051928</td>\n",
       "    </tr>\n",
       "    <tr>\n",
       "      <td>8</td>\n",
       "      <td>1190.366568</td>\n",
       "      <td>1190.707811</td>\n",
       "      <td>1189.908406</td>\n",
       "      <td>1189.840892</td>\n",
       "      <td>1189.840892</td>\n",
       "      <td>8.228728</td>\n",
       "    </tr>\n",
       "    <tr>\n",
       "      <td>9</td>\n",
       "      <td>1190.830572</td>\n",
       "      <td>1191.678543</td>\n",
       "      <td>1191.307763</td>\n",
       "      <td>1191.774705</td>\n",
       "      <td>1192.243355</td>\n",
       "      <td>9.771719</td>\n",
       "    </tr>\n",
       "    <tr>\n",
       "      <td>10</td>\n",
       "      <td>1190.383335</td>\n",
       "      <td>1190.395964</td>\n",
       "      <td>1189.870439</td>\n",
       "      <td>1190.066491</td>\n",
       "      <td>1190.066491</td>\n",
       "      <td>8.276268</td>\n",
       "    </tr>\n",
       "    <tr>\n",
       "      <td>11</td>\n",
       "      <td>1190.809861</td>\n",
       "      <td>1191.190343</td>\n",
       "      <td>1191.119173</td>\n",
       "      <td>1191.868883</td>\n",
       "      <td>1192.335536</td>\n",
       "      <td>9.697127</td>\n",
       "    </tr>\n",
       "  </tbody>\n",
       "</table>\n",
       "</div>"
      ],
      "text/plain": [
       "     2019-06-03   2019-06-04   2019-06-05   2019-06-07   2019-06-10       RMSE\n",
       "0   1191.200000  1183.000000  1181.500000  1179.800000  1179.500000   0.000000\n",
       "0   1189.817463  1189.759651  1189.741341  1189.735543  1189.733706   7.987086\n",
       "1   1190.067768  1190.713869  1191.096420  1191.599073  1192.046994   9.481795\n",
       "2   1190.167224  1190.590633  1191.045926  1191.507471  1191.970518   9.406251\n",
       "3   1189.794823  1189.747406  1189.731412  1189.725802  1189.723828   7.978802\n",
       "4   1191.958209  1193.882625  1194.361529  1194.859605  1194.792425  12.207173\n",
       "5   1190.418117  1190.862920  1189.770881  1190.004748  1190.145690   8.346400\n",
       "6   1190.873003  1191.769388  1191.110120  1191.905007  1192.551629   9.861437\n",
       "7   1190.095195  1189.848236  1188.707727  1188.485315  1188.052399   7.051928\n",
       "8   1190.366568  1190.707811  1189.908406  1189.840892  1189.840892   8.228728\n",
       "9   1190.830572  1191.678543  1191.307763  1191.774705  1192.243355   9.771719\n",
       "10  1190.383335  1190.395964  1189.870439  1190.066491  1190.066491   8.276268\n",
       "11  1190.809861  1191.190343  1191.119173  1191.868883  1192.335536   9.697127"
      ]
     },
     "execution_count": 35,
     "metadata": {},
     "output_type": "execute_result"
    }
   ],
   "source": [
    "actual_price = pd.DataFrame(actual_price + [0]).T\n",
    "actual_price.columns=[df_test.index[0],df_test.index[1],df_test.index[2],df_test.index[3],df_test.index[4],'RMSE']\n",
    "final_df=pd.concat([actual_price, final_df], axis=0)\n",
    "final_df"
   ]
  },
  {
   "cell_type": "code",
   "execution_count": 36,
   "metadata": {},
   "outputs": [],
   "source": [
    "final_df.to_csv('data/final05.csv', index=False)"
   ]
  },
  {
   "cell_type": "code",
   "execution_count": null,
   "metadata": {},
   "outputs": [],
   "source": []
  }
 ],
 "metadata": {
  "kernelspec": {
   "display_name": "Python 3",
   "language": "python",
   "name": "python3"
  },
  "language_info": {
   "codemirror_mode": {
    "name": "ipython",
    "version": 3
   },
   "file_extension": ".py",
   "mimetype": "text/x-python",
   "name": "python",
   "nbconvert_exporter": "python",
   "pygments_lexer": "ipython3",
   "version": "3.7.4"
  }
 },
 "nbformat": 4,
 "nbformat_minor": 2
}
