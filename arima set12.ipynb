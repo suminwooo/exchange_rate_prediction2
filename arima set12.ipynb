{
 "cells": [
  {
   "cell_type": "code",
   "execution_count": 1,
   "metadata": {},
   "outputs": [],
   "source": [
    "import pandas as pd\n",
    "import matplotlib.pyplot as plt\n",
    "\n",
    "from statsmodels.tsa.arima_model import ARIMA\n",
    "from sklearn.metrics import mean_squared_error"
   ]
  },
  {
   "cell_type": "code",
   "execution_count": 2,
   "metadata": {},
   "outputs": [],
   "source": [
    "data = pd.read_csv('exchange_data/set12.csv', header=0, squeeze=True)"
   ]
  },
  {
   "cell_type": "code",
   "execution_count": 3,
   "metadata": {},
   "outputs": [],
   "source": [
    "data = data.set_index('Date')"
   ]
  },
  {
   "cell_type": "code",
   "execution_count": 4,
   "metadata": {},
   "outputs": [],
   "source": [
    "#2018년 2월~2019년1월 train set/ 2019년 2월 test set\n",
    "df_train=data.loc['2019-01-01': '2019-12-31' ]\n",
    "df_test=data.loc['2020-01-01':]"
   ]
  },
  {
   "cell_type": "markdown",
   "metadata": {},
   "source": [
    "### 모형구축"
   ]
  },
  {
   "cell_type": "code",
   "execution_count": 5,
   "metadata": {},
   "outputs": [
    {
     "name": "stderr",
     "output_type": "stream",
     "text": [
      "C:\\Users\\sm.woo\\Anaconda3\\lib\\site-packages\\statsmodels\\tsa\\base\\tsa_model.py:219: ValueWarning: A date index has been provided, but it has no associated frequency information and so will be ignored when e.g. forecasting.\n",
      "  ' ignored when e.g. forecasting.', ValueWarning)\n",
      "C:\\Users\\sm.woo\\Anaconda3\\lib\\site-packages\\statsmodels\\tsa\\base\\tsa_model.py:219: ValueWarning: A date index has been provided, but it has no associated frequency information and so will be ignored when e.g. forecasting.\n",
      "  ' ignored when e.g. forecasting.', ValueWarning)\n"
     ]
    },
    {
     "name": "stdout",
     "output_type": "stream",
     "text": [
      "                             ARIMA Model Results                              \n",
      "==============================================================================\n",
      "Dep. Variable:                 D.Rate   No. Observations:                  246\n",
      "Model:                 ARIMA(1, 1, 1)   Log Likelihood                -693.113\n",
      "Method:                       css-mle   S.D. of innovations              4.049\n",
      "Date:                Fri, 07 Feb 2020   AIC                           1392.226\n",
      "Time:                        15:54:49   BIC                           1402.742\n",
      "Sample:                             1   HQIC                          1396.460\n",
      "                                                                              \n",
      "================================================================================\n",
      "                   coef    std err          z      P>|z|      [0.025      0.975]\n",
      "--------------------------------------------------------------------------------\n",
      "ar.L1.D.Rate     0.6927      0.274      2.526      0.012       0.155       1.230\n",
      "ma.L1.D.Rate    -0.6015      0.303     -1.983      0.048      -1.196      -0.007\n",
      "                                    Roots                                    \n",
      "=============================================================================\n",
      "                  Real          Imaginary           Modulus         Frequency\n",
      "-----------------------------------------------------------------------------\n",
      "AR.1            1.4436           +0.0000j            1.4436            0.0000\n",
      "MA.1            1.6625           +0.0000j            1.6625            0.0000\n",
      "-----------------------------------------------------------------------------\n"
     ]
    }
   ],
   "source": [
    "model_1 = ARIMA(df_train, order=(1,1,1))\n",
    "model_1_fit = model_1.fit(trend='nc',full_output=True, disp=1)\n",
    "print(model_1_fit.summary())"
   ]
  },
  {
   "cell_type": "code",
   "execution_count": 6,
   "metadata": {},
   "outputs": [
    {
     "name": "stderr",
     "output_type": "stream",
     "text": [
      "C:\\Users\\sm.woo\\Anaconda3\\lib\\site-packages\\statsmodels\\tsa\\base\\tsa_model.py:219: ValueWarning: A date index has been provided, but it has no associated frequency information and so will be ignored when e.g. forecasting.\n",
      "  ' ignored when e.g. forecasting.', ValueWarning)\n",
      "C:\\Users\\sm.woo\\Anaconda3\\lib\\site-packages\\statsmodels\\tsa\\base\\tsa_model.py:219: ValueWarning: A date index has been provided, but it has no associated frequency information and so will be ignored when e.g. forecasting.\n",
      "  ' ignored when e.g. forecasting.', ValueWarning)\n"
     ]
    },
    {
     "name": "stdout",
     "output_type": "stream",
     "text": [
      "                             ARIMA Model Results                              \n",
      "==============================================================================\n",
      "Dep. Variable:                 D.Rate   No. Observations:                  246\n",
      "Model:                 ARIMA(1, 1, 1)   Log Likelihood                -692.997\n",
      "Method:                       css-mle   S.D. of innovations              4.047\n",
      "Date:                Fri, 07 Feb 2020   AIC                           1393.994\n",
      "Time:                        15:54:51   BIC                           1408.015\n",
      "Sample:                             1   HQIC                          1399.639\n",
      "                                                                              \n",
      "================================================================================\n",
      "                   coef    std err          z      P>|z|      [0.025      0.975]\n",
      "--------------------------------------------------------------------------------\n",
      "const            0.1602      0.331      0.484      0.629      -0.488       0.808\n",
      "ar.L1.D.Rate     0.6823      0.285      2.395      0.017       0.124       1.241\n",
      "ma.L1.D.Rate    -0.5917      0.314     -1.886      0.060      -1.207       0.023\n",
      "                                    Roots                                    \n",
      "=============================================================================\n",
      "                  Real          Imaginary           Modulus         Frequency\n",
      "-----------------------------------------------------------------------------\n",
      "AR.1            1.4655           +0.0000j            1.4655            0.0000\n",
      "MA.1            1.6901           +0.0000j            1.6901            0.0000\n",
      "-----------------------------------------------------------------------------\n"
     ]
    }
   ],
   "source": [
    "model_2 = ARIMA(df_train, order=(1,1,1))\n",
    "model_2_fit = model_2.fit(trend='c',full_output=True, disp=1)\n",
    "print(model_2_fit.summary())"
   ]
  },
  {
   "cell_type": "code",
   "execution_count": 7,
   "metadata": {},
   "outputs": [
    {
     "name": "stderr",
     "output_type": "stream",
     "text": [
      "C:\\Users\\sm.woo\\Anaconda3\\lib\\site-packages\\statsmodels\\tsa\\base\\tsa_model.py:219: ValueWarning: A date index has been provided, but it has no associated frequency information and so will be ignored when e.g. forecasting.\n",
      "  ' ignored when e.g. forecasting.', ValueWarning)\n",
      "C:\\Users\\sm.woo\\Anaconda3\\lib\\site-packages\\statsmodels\\tsa\\base\\tsa_model.py:219: ValueWarning: A date index has been provided, but it has no associated frequency information and so will be ignored when e.g. forecasting.\n",
      "  ' ignored when e.g. forecasting.', ValueWarning)\n"
     ]
    },
    {
     "name": "stdout",
     "output_type": "stream",
     "text": [
      "                             ARIMA Model Results                              \n",
      "==============================================================================\n",
      "Dep. Variable:                 D.Rate   No. Observations:                  246\n",
      "Model:                 ARIMA(2, 1, 1)   Log Likelihood                -692.924\n",
      "Method:                       css-mle   S.D. of innovations              4.046\n",
      "Date:                Fri, 07 Feb 2020   AIC                           1395.847\n",
      "Time:                        15:54:54   BIC                           1413.374\n",
      "Sample:                             1   HQIC                          1402.904\n",
      "                                                                              \n",
      "================================================================================\n",
      "                   coef    std err          z      P>|z|      [0.025      0.975]\n",
      "--------------------------------------------------------------------------------\n",
      "const            0.1588      0.332      0.479      0.632      -0.491       0.809\n",
      "ar.L1.D.Rate     0.7824      0.347      2.253      0.025       0.102       1.463\n",
      "ar.L2.D.Rate    -0.0316      0.085     -0.372      0.710      -0.198       0.135\n",
      "ma.L1.D.Rate    -0.6788      0.341     -1.993      0.047      -1.346      -0.011\n",
      "                                    Roots                                    \n",
      "=============================================================================\n",
      "                  Real          Imaginary           Modulus         Frequency\n",
      "-----------------------------------------------------------------------------\n",
      "AR.1            1.3518           +0.0000j            1.3518            0.0000\n",
      "AR.2           23.4384           +0.0000j           23.4384            0.0000\n",
      "MA.1            1.4732           +0.0000j            1.4732            0.0000\n",
      "-----------------------------------------------------------------------------\n"
     ]
    }
   ],
   "source": [
    "model_3 = ARIMA(df_train, order=(2,1,1))\n",
    "model_3_fit = model_3.fit(trend='c',full_output=True, disp=1)\n",
    "print(model_3_fit.summary())"
   ]
  },
  {
   "cell_type": "code",
   "execution_count": 8,
   "metadata": {},
   "outputs": [
    {
     "name": "stderr",
     "output_type": "stream",
     "text": [
      "C:\\Users\\sm.woo\\Anaconda3\\lib\\site-packages\\statsmodels\\tsa\\base\\tsa_model.py:219: ValueWarning: A date index has been provided, but it has no associated frequency information and so will be ignored when e.g. forecasting.\n",
      "  ' ignored when e.g. forecasting.', ValueWarning)\n",
      "C:\\Users\\sm.woo\\Anaconda3\\lib\\site-packages\\statsmodels\\tsa\\base\\tsa_model.py:219: ValueWarning: A date index has been provided, but it has no associated frequency information and so will be ignored when e.g. forecasting.\n",
      "  ' ignored when e.g. forecasting.', ValueWarning)\n"
     ]
    },
    {
     "name": "stdout",
     "output_type": "stream",
     "text": [
      "                             ARIMA Model Results                              \n",
      "==============================================================================\n",
      "Dep. Variable:                 D.Rate   No. Observations:                  246\n",
      "Model:                 ARIMA(2, 1, 1)   Log Likelihood                -693.037\n",
      "Method:                       css-mle   S.D. of innovations              4.048\n",
      "Date:                Fri, 07 Feb 2020   AIC                           1394.074\n",
      "Time:                        15:54:57   BIC                           1408.095\n",
      "Sample:                             1   HQIC                          1399.720\n",
      "                                                                              \n",
      "================================================================================\n",
      "                   coef    std err          z      P>|z|      [0.025      0.975]\n",
      "--------------------------------------------------------------------------------\n",
      "ar.L1.D.Rate     0.7932      0.341      2.329      0.021       0.126       1.461\n",
      "ar.L2.D.Rate    -0.0323      0.085     -0.379      0.705      -0.199       0.135\n",
      "ma.L1.D.Rate    -0.6886      0.334     -2.064      0.040      -1.342      -0.035\n",
      "                                    Roots                                    \n",
      "=============================================================================\n",
      "                  Real          Imaginary           Modulus         Frequency\n",
      "-----------------------------------------------------------------------------\n",
      "AR.1            1.3330           +0.0000j            1.3330            0.0000\n",
      "AR.2           23.2261           +0.0000j           23.2261            0.0000\n",
      "MA.1            1.4522           +0.0000j            1.4522            0.0000\n",
      "-----------------------------------------------------------------------------\n"
     ]
    }
   ],
   "source": [
    "model_4 = ARIMA(df_train, order=(2,1,1))\n",
    "model_4_fit = model_4.fit(trend='nc',full_output=True, disp=1)\n",
    "print(model_4_fit.summary())"
   ]
  },
  {
   "cell_type": "code",
   "execution_count": 9,
   "metadata": {},
   "outputs": [
    {
     "name": "stderr",
     "output_type": "stream",
     "text": [
      "C:\\Users\\sm.woo\\Anaconda3\\lib\\site-packages\\statsmodels\\tsa\\base\\tsa_model.py:219: ValueWarning: A date index has been provided, but it has no associated frequency information and so will be ignored when e.g. forecasting.\n",
      "  ' ignored when e.g. forecasting.', ValueWarning)\n",
      "C:\\Users\\sm.woo\\Anaconda3\\lib\\site-packages\\statsmodels\\tsa\\base\\tsa_model.py:219: ValueWarning: A date index has been provided, but it has no associated frequency information and so will be ignored when e.g. forecasting.\n",
      "  ' ignored when e.g. forecasting.', ValueWarning)\n",
      "C:\\Users\\sm.woo\\Anaconda3\\lib\\site-packages\\statsmodels\\tsa\\tsatools.py:668: RuntimeWarning: invalid value encountered in true_divide\n",
      "  newparams = ((1-np.exp(-params))/(1+np.exp(-params))).copy()\n",
      "C:\\Users\\sm.woo\\Anaconda3\\lib\\site-packages\\statsmodels\\tsa\\tsatools.py:669: RuntimeWarning: invalid value encountered in true_divide\n",
      "  tmp = ((1-np.exp(-params))/(1+np.exp(-params))).copy()\n"
     ]
    },
    {
     "name": "stdout",
     "output_type": "stream",
     "text": [
      "                             ARIMA Model Results                              \n",
      "==============================================================================\n",
      "Dep. Variable:                 D.Rate   No. Observations:                  246\n",
      "Model:                 ARIMA(2, 1, 2)   Log Likelihood                -690.313\n",
      "Method:                       css-mle   S.D. of innovations              3.995\n",
      "Date:                Fri, 07 Feb 2020   AIC                           1390.626\n",
      "Time:                        15:55:02   BIC                           1408.153\n",
      "Sample:                             1   HQIC                          1397.684\n",
      "                                                                              \n",
      "================================================================================\n",
      "                   coef    std err          z      P>|z|      [0.025      0.975]\n",
      "--------------------------------------------------------------------------------\n",
      "ar.L1.D.Rate     0.4771      0.026     18.389      0.000       0.426       0.528\n",
      "ar.L2.D.Rate    -0.9804      0.024    -40.912      0.000      -1.027      -0.933\n",
      "ma.L1.D.Rate    -0.4364      0.038    -11.406      0.000      -0.511      -0.361\n",
      "ma.L2.D.Rate     0.9695      0.028     34.480      0.000       0.914       1.025\n",
      "                                    Roots                                    \n",
      "=============================================================================\n",
      "                  Real          Imaginary           Modulus         Frequency\n",
      "-----------------------------------------------------------------------------\n",
      "AR.1            0.2433           -0.9802j            1.0099           -0.2113\n",
      "AR.2            0.2433           +0.9802j            1.0099            0.2113\n",
      "MA.1            0.2251           -0.9904j            1.0156           -0.2144\n",
      "MA.2            0.2251           +0.9904j            1.0156            0.2144\n",
      "-----------------------------------------------------------------------------\n"
     ]
    }
   ],
   "source": [
    "model_5 = ARIMA(df_train, order=(2,1,2))\n",
    "model_5_fit = model_5.fit(trend='nc',full_output=True, disp=1)\n",
    "print(model_5_fit.summary())"
   ]
  },
  {
   "cell_type": "code",
   "execution_count": 10,
   "metadata": {},
   "outputs": [
    {
     "name": "stderr",
     "output_type": "stream",
     "text": [
      "C:\\Users\\sm.woo\\Anaconda3\\lib\\site-packages\\statsmodels\\tsa\\base\\tsa_model.py:219: ValueWarning: A date index has been provided, but it has no associated frequency information and so will be ignored when e.g. forecasting.\n",
      "  ' ignored when e.g. forecasting.', ValueWarning)\n",
      "C:\\Users\\sm.woo\\Anaconda3\\lib\\site-packages\\statsmodels\\tsa\\base\\tsa_model.py:219: ValueWarning: A date index has been provided, but it has no associated frequency information and so will be ignored when e.g. forecasting.\n",
      "  ' ignored when e.g. forecasting.', ValueWarning)\n"
     ]
    },
    {
     "name": "stdout",
     "output_type": "stream",
     "text": [
      "                             ARIMA Model Results                              \n",
      "==============================================================================\n",
      "Dep. Variable:                 D.Rate   No. Observations:                  246\n",
      "Model:                 ARIMA(2, 1, 2)   Log Likelihood                -690.116\n",
      "Method:                       css-mle   S.D. of innovations              3.992\n",
      "Date:                Fri, 07 Feb 2020   AIC                           1392.233\n",
      "Time:                        15:55:08   BIC                           1413.265\n",
      "Sample:                             1   HQIC                          1400.701\n",
      "                                                                              \n",
      "================================================================================\n",
      "                   coef    std err          z      P>|z|      [0.025      0.975]\n",
      "--------------------------------------------------------------------------------\n",
      "const            0.1629      0.260      0.628      0.531      -0.346       0.672\n",
      "ar.L1.D.Rate     0.4774      0.026     18.443      0.000       0.427       0.528\n",
      "ar.L2.D.Rate    -0.9806      0.024    -40.915      0.000      -1.028      -0.934\n",
      "ma.L1.D.Rate    -0.4368      0.038    -11.372      0.000      -0.512      -0.362\n",
      "ma.L2.D.Rate     0.9693      0.028     34.350      0.000       0.914       1.025\n",
      "                                    Roots                                    \n",
      "=============================================================================\n",
      "                  Real          Imaginary           Modulus         Frequency\n",
      "-----------------------------------------------------------------------------\n",
      "AR.1            0.2434           -0.9801j            1.0099           -0.2113\n",
      "AR.2            0.2434           +0.9801j            1.0099            0.2113\n",
      "MA.1            0.2253           -0.9904j            1.0157           -0.2144\n",
      "MA.2            0.2253           +0.9904j            1.0157            0.2144\n",
      "-----------------------------------------------------------------------------\n"
     ]
    }
   ],
   "source": [
    "model_6 = ARIMA(df_train, order=(2,1,2))\n",
    "model_6_fit = model_6.fit(trend='c',full_output=True, disp=1)\n",
    "print(model_6_fit.summary())"
   ]
  },
  {
   "cell_type": "code",
   "execution_count": 11,
   "metadata": {},
   "outputs": [
    {
     "name": "stderr",
     "output_type": "stream",
     "text": [
      "C:\\Users\\sm.woo\\Anaconda3\\lib\\site-packages\\statsmodels\\tsa\\base\\tsa_model.py:219: ValueWarning: A date index has been provided, but it has no associated frequency information and so will be ignored when e.g. forecasting.\n",
      "  ' ignored when e.g. forecasting.', ValueWarning)\n",
      "C:\\Users\\sm.woo\\Anaconda3\\lib\\site-packages\\statsmodels\\tsa\\base\\tsa_model.py:219: ValueWarning: A date index has been provided, but it has no associated frequency information and so will be ignored when e.g. forecasting.\n",
      "  ' ignored when e.g. forecasting.', ValueWarning)\n"
     ]
    },
    {
     "name": "stdout",
     "output_type": "stream",
     "text": [
      "                             ARIMA Model Results                              \n",
      "==============================================================================\n",
      "Dep. Variable:                 D.Rate   No. Observations:                  246\n",
      "Model:                 ARIMA(4, 1, 3)   Log Likelihood                -691.655\n",
      "Method:                       css-mle   S.D. of innovations              4.000\n",
      "Date:                Fri, 07 Feb 2020   AIC                           1399.310\n",
      "Time:                        15:55:18   BIC                           1427.353\n",
      "Sample:                             1   HQIC                          1410.602\n",
      "                                                                              \n",
      "================================================================================\n",
      "                   coef    std err          z      P>|z|      [0.025      0.975]\n",
      "--------------------------------------------------------------------------------\n",
      "ar.L1.D.Rate    -0.0739      0.355     -0.208      0.835      -0.769       0.622\n",
      "ar.L2.D.Rate    -0.2361      0.267     -0.884      0.378      -0.760       0.287\n",
      "ar.L3.D.Rate     0.7791      0.282      2.765      0.006       0.227       1.331\n",
      "ar.L4.D.Rate    -0.0666      0.093     -0.717      0.474      -0.249       0.116\n",
      "ma.L1.D.Rate     0.1896      0.347      0.546      0.586      -0.491       0.871\n",
      "ma.L2.D.Rate     0.3265      0.320      1.020      0.309      -0.301       0.954\n",
      "ma.L3.D.Rate    -0.7312      0.347     -2.105      0.036      -1.412      -0.050\n",
      "                                    Roots                                    \n",
      "=============================================================================\n",
      "                  Real          Imaginary           Modulus         Frequency\n",
      "-----------------------------------------------------------------------------\n",
      "AR.1           -0.4797           -0.8909j            1.0119           -0.3286\n",
      "AR.2           -0.4797           +0.8909j            1.0119            0.3286\n",
      "AR.3            1.2901           -0.0000j            1.2901           -0.0000\n",
      "AR.4           11.3606           -0.0000j           11.3606           -0.0000\n",
      "MA.1           -0.4605           -0.8877j            1.0000           -0.3262\n",
      "MA.2           -0.4605           +0.8877j            1.0000            0.3262\n",
      "MA.3            1.3675           -0.0000j            1.3675           -0.0000\n",
      "-----------------------------------------------------------------------------\n"
     ]
    }
   ],
   "source": [
    "model_9 = ARIMA(df_train, order=(4,1,3))\n",
    "model_9_fit = model_9.fit(trend='nc',full_output=True, disp=1)\n",
    "print(model_9_fit.summary())"
   ]
  },
  {
   "cell_type": "code",
   "execution_count": 12,
   "metadata": {},
   "outputs": [
    {
     "name": "stderr",
     "output_type": "stream",
     "text": [
      "C:\\Users\\sm.woo\\Anaconda3\\lib\\site-packages\\statsmodels\\tsa\\base\\tsa_model.py:219: ValueWarning: A date index has been provided, but it has no associated frequency information and so will be ignored when e.g. forecasting.\n",
      "  ' ignored when e.g. forecasting.', ValueWarning)\n",
      "C:\\Users\\sm.woo\\Anaconda3\\lib\\site-packages\\statsmodels\\tsa\\base\\tsa_model.py:219: ValueWarning: A date index has been provided, but it has no associated frequency information and so will be ignored when e.g. forecasting.\n",
      "  ' ignored when e.g. forecasting.', ValueWarning)\n"
     ]
    },
    {
     "name": "stdout",
     "output_type": "stream",
     "text": [
      "                             ARIMA Model Results                              \n",
      "==============================================================================\n",
      "Dep. Variable:                 D.Rate   No. Observations:                  246\n",
      "Model:                 ARIMA(4, 1, 3)   Log Likelihood                -691.160\n",
      "Method:                       css-mle   S.D. of innovations              3.993\n",
      "Date:                Fri, 07 Feb 2020   AIC                           1400.321\n",
      "Time:                        15:55:33   BIC                           1431.869\n",
      "Sample:                             1   HQIC                          1413.024\n",
      "                                                                              \n",
      "================================================================================\n",
      "                   coef    std err          z      P>|z|      [0.025      0.975]\n",
      "--------------------------------------------------------------------------------\n",
      "const            0.1598      0.331      0.483      0.629      -0.489       0.808\n",
      "ar.L1.D.Rate    -0.1638      0.372     -0.440      0.660      -0.893       0.565\n",
      "ar.L2.D.Rate    -0.2318      0.299     -0.775      0.439      -0.818       0.354\n",
      "ar.L3.D.Rate     0.7647      0.299      2.558      0.011       0.179       1.351\n",
      "ar.L4.D.Rate    -0.0590      0.094     -0.628      0.531      -0.243       0.125\n",
      "ma.L1.D.Rate     0.2813      0.365      0.771      0.442      -0.434       0.997\n",
      "ma.L2.D.Rate     0.3159      0.356      0.887      0.376      -0.382       1.014\n",
      "ma.L3.D.Rate    -0.6980      0.364     -1.918      0.056      -1.411       0.015\n",
      "                                    Roots                                    \n",
      "=============================================================================\n",
      "                  Real          Imaginary           Modulus         Frequency\n",
      "-----------------------------------------------------------------------------\n",
      "AR.1           -0.4989           -0.8700j            1.0029           -0.3329\n",
      "AR.2           -0.4989           +0.8700j            1.0029            0.3329\n",
      "AR.3            1.3350           -0.0000j            1.3350           -0.0000\n",
      "AR.4           12.6179           -0.0000j           12.6179           -0.0000\n",
      "MA.1           -0.4899           -0.8720j            1.0001           -0.3315\n",
      "MA.2           -0.4899           +0.8720j            1.0001            0.3315\n",
      "MA.3            1.4324           -0.0000j            1.4324           -0.0000\n",
      "-----------------------------------------------------------------------------\n"
     ]
    }
   ],
   "source": [
    "model_10 = ARIMA(df_train, order=(4,1,3))\n",
    "model_10_fit = model_10.fit(trend='c',full_output=True, disp=1)\n",
    "print(model_10_fit.summary())"
   ]
  },
  {
   "cell_type": "code",
   "execution_count": 13,
   "metadata": {},
   "outputs": [
    {
     "name": "stderr",
     "output_type": "stream",
     "text": [
      "C:\\Users\\sm.woo\\Anaconda3\\lib\\site-packages\\statsmodels\\tsa\\base\\tsa_model.py:219: ValueWarning: A date index has been provided, but it has no associated frequency information and so will be ignored when e.g. forecasting.\n",
      "  ' ignored when e.g. forecasting.', ValueWarning)\n",
      "C:\\Users\\sm.woo\\Anaconda3\\lib\\site-packages\\statsmodels\\tsa\\base\\tsa_model.py:219: ValueWarning: A date index has been provided, but it has no associated frequency information and so will be ignored when e.g. forecasting.\n",
      "  ' ignored when e.g. forecasting.', ValueWarning)\n"
     ]
    },
    {
     "name": "stdout",
     "output_type": "stream",
     "text": [
      "                             ARIMA Model Results                              \n",
      "==============================================================================\n",
      "Dep. Variable:                 D.Rate   No. Observations:                  246\n",
      "Model:                 ARIMA(4, 1, 4)   Log Likelihood                -690.372\n",
      "Method:                       css-mle   S.D. of innovations              3.997\n",
      "Date:                Fri, 07 Feb 2020   AIC                           1398.744\n",
      "Time:                        15:55:41   BIC                           1430.292\n",
      "Sample:                             1   HQIC                          1411.447\n",
      "                                                                              \n",
      "================================================================================\n",
      "                   coef    std err          z      P>|z|      [0.025      0.975]\n",
      "--------------------------------------------------------------------------------\n",
      "ar.L1.D.Rate     0.7747      0.012     64.694      0.000       0.751       0.798\n",
      "ar.L2.D.Rate     0.2843      0.008     34.681      0.000       0.268       0.300\n",
      "ar.L3.D.Rate    -1.0530      0.003   -379.033      0.000      -1.058      -1.048\n",
      "ar.L4.D.Rate     0.4372      0.010     44.230      0.000       0.418       0.457\n",
      "ma.L1.D.Rate    -0.6795      0.064    -10.669      0.000      -0.804      -0.555\n",
      "ma.L2.D.Rate    -0.3356      0.039     -8.646      0.000      -0.412      -0.260\n",
      "ma.L3.D.Rate     1.0458      0.037     28.089      0.000       0.973       1.119\n",
      "ma.L4.D.Rate    -0.2952      0.062     -4.777      0.000      -0.416      -0.174\n",
      "                                    Roots                                    \n",
      "=============================================================================\n",
      "                  Real          Imaginary           Modulus         Frequency\n",
      "-----------------------------------------------------------------------------\n",
      "AR.1           -1.0000           -0.0000j            1.0000           -0.5000\n",
      "AR.2            0.7489           -0.7975j            1.0940           -0.1300\n",
      "AR.3            0.7489           +0.7975j            1.0940            0.1300\n",
      "AR.4            1.9112           -0.0000j            1.9112           -0.0000\n",
      "MA.1           -1.0007           -0.0000j            1.0007           -0.5000\n",
      "MA.2            0.7516           -0.7407j            1.0552           -0.1238\n",
      "MA.3            0.7516           +0.7407j            1.0552            0.1238\n",
      "MA.4            3.0401           -0.0000j            3.0401           -0.0000\n",
      "-----------------------------------------------------------------------------\n"
     ]
    }
   ],
   "source": [
    "model_11 = ARIMA(df_train, order=(4,1,4))\n",
    "model_11_fit = model_11.fit(trend='nc',full_output=True, disp=1)\n",
    "print(model_11_fit.summary())"
   ]
  },
  {
   "cell_type": "code",
   "execution_count": 14,
   "metadata": {},
   "outputs": [
    {
     "name": "stderr",
     "output_type": "stream",
     "text": [
      "C:\\Users\\sm.woo\\Anaconda3\\lib\\site-packages\\statsmodels\\tsa\\base\\tsa_model.py:219: ValueWarning: A date index has been provided, but it has no associated frequency information and so will be ignored when e.g. forecasting.\n",
      "  ' ignored when e.g. forecasting.', ValueWarning)\n",
      "C:\\Users\\sm.woo\\Anaconda3\\lib\\site-packages\\statsmodels\\tsa\\base\\tsa_model.py:219: ValueWarning: A date index has been provided, but it has no associated frequency information and so will be ignored when e.g. forecasting.\n",
      "  ' ignored when e.g. forecasting.', ValueWarning)\n"
     ]
    },
    {
     "name": "stdout",
     "output_type": "stream",
     "text": [
      "                             ARIMA Model Results                              \n",
      "==============================================================================\n",
      "Dep. Variable:                 D.Rate   No. Observations:                  246\n",
      "Model:                 ARIMA(4, 1, 4)   Log Likelihood                -690.268\n",
      "Method:                       css-mle   S.D. of innovations              3.995\n",
      "Date:                Fri, 07 Feb 2020   AIC                           1400.536\n",
      "Time:                        15:55:54   BIC                           1435.589\n",
      "Sample:                             1   HQIC                          1414.650\n",
      "                                                                              \n",
      "================================================================================\n",
      "                   coef    std err          z      P>|z|      [0.025      0.975]\n",
      "--------------------------------------------------------------------------------\n",
      "const            0.1527      0.334      0.458      0.648      -0.502       0.807\n",
      "ar.L1.D.Rate     0.7688      0.011     68.074      0.000       0.747       0.791\n",
      "ar.L2.D.Rate     0.2862      0.009     32.422      0.000       0.269       0.304\n",
      "ar.L3.D.Rate    -1.0507      0.003   -368.443      0.000      -1.056      -1.045\n",
      "ar.L4.D.Rate     0.4317      0.004    120.193      0.000       0.425       0.439\n",
      "ma.L1.D.Rate    -0.6745      0.057    -11.781      0.000      -0.787      -0.562\n",
      "ma.L2.D.Rate    -0.3376      0.007    -45.084      0.000      -0.352      -0.323\n",
      "ma.L3.D.Rate     1.0435      0.023     44.697      0.000       0.998       1.089\n",
      "ma.L4.D.Rate    -0.2904      0.061     -4.793      0.000      -0.409      -0.172\n",
      "                                    Roots                                    \n",
      "=============================================================================\n",
      "                  Real          Imaginary           Modulus         Frequency\n",
      "-----------------------------------------------------------------------------\n",
      "AR.1           -1.0000           -0.0000j            1.0000           -0.5000\n",
      "AR.2            0.7493           -0.7972j            1.0940           -0.1299\n",
      "AR.3            0.7493           +0.7972j            1.0940            0.1299\n",
      "AR.4            1.9351           -0.0000j            1.9351           -0.0000\n",
      "MA.1           -1.0007           -0.0000j            1.0007           -0.5000\n",
      "MA.2            0.7517           -0.7405j            1.0552           -0.1238\n",
      "MA.3            0.7517           +0.7405j            1.0552            0.1238\n",
      "MA.4            3.0901           -0.0000j            3.0901           -0.0000\n",
      "-----------------------------------------------------------------------------\n"
     ]
    }
   ],
   "source": [
    "model_12 = ARIMA(df_train, order=(4,1,4))\n",
    "model_12_fit = model_12.fit(trend='c',full_output=True, disp=1)\n",
    "print(model_12_fit.summary())"
   ]
  },
  {
   "cell_type": "code",
   "execution_count": 15,
   "metadata": {},
   "outputs": [
    {
     "name": "stderr",
     "output_type": "stream",
     "text": [
      "C:\\Users\\sm.woo\\Anaconda3\\lib\\site-packages\\statsmodels\\tsa\\base\\tsa_model.py:219: ValueWarning: A date index has been provided, but it has no associated frequency information and so will be ignored when e.g. forecasting.\n",
      "  ' ignored when e.g. forecasting.', ValueWarning)\n",
      "C:\\Users\\sm.woo\\Anaconda3\\lib\\site-packages\\statsmodels\\tsa\\base\\tsa_model.py:219: ValueWarning: A date index has been provided, but it has no associated frequency information and so will be ignored when e.g. forecasting.\n",
      "  ' ignored when e.g. forecasting.', ValueWarning)\n",
      "C:\\Users\\sm.woo\\Anaconda3\\lib\\site-packages\\statsmodels\\base\\model.py:492: HessianInversionWarning: Inverting hessian failed, no bse or cov_params available\n",
      "  'available', HessianInversionWarning)\n"
     ]
    },
    {
     "name": "stdout",
     "output_type": "stream",
     "text": [
      "                             ARIMA Model Results                              \n",
      "==============================================================================\n",
      "Dep. Variable:                 D.Rate   No. Observations:                  246\n",
      "Model:                 ARIMA(5, 1, 4)   Log Likelihood                -689.346\n",
      "Method:                       css-mle   S.D. of innovations              3.932\n",
      "Date:                Fri, 07 Feb 2020   AIC                           1400.692\n",
      "Time:                        15:56:09   BIC                           1439.251\n",
      "Sample:                             1   HQIC                          1416.218\n",
      "                                                                              \n",
      "================================================================================\n",
      "                   coef    std err          z      P>|z|      [0.025      0.975]\n",
      "--------------------------------------------------------------------------------\n",
      "const            0.1529      0.303      0.504      0.615      -0.442       0.747\n",
      "ar.L1.D.Rate     0.5785      0.064      9.038      0.000       0.453       0.704\n",
      "ar.L2.D.Rate    -0.7358      0.046    -16.166      0.000      -0.825      -0.647\n",
      "ar.L3.D.Rate     0.5369      0.055      9.827      0.000       0.430       0.644\n",
      "ar.L4.D.Rate    -0.9956      0.042    -23.687      0.000      -1.078      -0.913\n",
      "ar.L5.D.Rate     0.1690      0.066      2.554      0.011       0.039       0.299\n",
      "ma.L1.D.Rate    -0.4792      0.026    -18.535      0.000      -0.530      -0.429\n",
      "ma.L2.D.Rate     0.7111      0.022     32.447      0.000       0.668       0.754\n",
      "ma.L3.D.Rate    -0.4792      0.026    -18.287      0.000      -0.531      -0.428\n",
      "ma.L4.D.Rate     1.0000      0.035     28.578      0.000       0.931       1.069\n",
      "                                    Roots                                    \n",
      "=============================================================================\n",
      "                  Real          Imaginary           Modulus         Frequency\n",
      "-----------------------------------------------------------------------------\n",
      "AR.1           -0.4821           -0.8906j            1.0127           -0.3290\n",
      "AR.2           -0.4821           +0.8906j            1.0127            0.3290\n",
      "AR.3            0.7078           -0.7481j            1.0299           -0.1294\n",
      "AR.4            0.7078           +0.7481j            1.0299            0.1294\n",
      "AR.5            5.4381           -0.0000j            5.4381           -0.0000\n",
      "MA.1           -0.4604           -0.8877j            1.0000           -0.3261\n",
      "MA.2           -0.4604           +0.8877j            1.0000            0.3261\n",
      "MA.3            0.6999           -0.7142j            1.0000           -0.1266\n",
      "MA.4            0.6999           +0.7142j            1.0000            0.1266\n",
      "-----------------------------------------------------------------------------\n"
     ]
    }
   ],
   "source": [
    "model_13 = ARIMA(df_train, order=(5,1,4))\n",
    "model_13_fit = model_13.fit(trend='c',full_output=True, disp=1)\n",
    "print(model_13_fit.summary())"
   ]
  },
  {
   "cell_type": "code",
   "execution_count": 16,
   "metadata": {},
   "outputs": [
    {
     "name": "stderr",
     "output_type": "stream",
     "text": [
      "C:\\Users\\sm.woo\\Anaconda3\\lib\\site-packages\\statsmodels\\tsa\\base\\tsa_model.py:219: ValueWarning: A date index has been provided, but it has no associated frequency information and so will be ignored when e.g. forecasting.\n",
      "  ' ignored when e.g. forecasting.', ValueWarning)\n",
      "C:\\Users\\sm.woo\\Anaconda3\\lib\\site-packages\\statsmodels\\tsa\\base\\tsa_model.py:219: ValueWarning: A date index has been provided, but it has no associated frequency information and so will be ignored when e.g. forecasting.\n",
      "  ' ignored when e.g. forecasting.', ValueWarning)\n"
     ]
    },
    {
     "name": "stdout",
     "output_type": "stream",
     "text": [
      "                             ARIMA Model Results                              \n",
      "==============================================================================\n",
      "Dep. Variable:                 D.Rate   No. Observations:                  246\n",
      "Model:                 ARIMA(5, 1, 4)   Log Likelihood                -689.871\n",
      "Method:                       css-mle   S.D. of innovations              3.946\n",
      "Date:                Fri, 07 Feb 2020   AIC                           1399.742\n",
      "Time:                        15:56:19   BIC                           1434.795\n",
      "Sample:                             1   HQIC                          1413.856\n",
      "                                                                              \n",
      "================================================================================\n",
      "                   coef    std err          z      P>|z|      [0.025      0.975]\n",
      "--------------------------------------------------------------------------------\n",
      "ar.L1.D.Rate     0.6370      0.065      9.731      0.000       0.509       0.765\n",
      "ar.L2.D.Rate    -0.8323      0.055    -15.222      0.000      -0.939      -0.725\n",
      "ar.L3.D.Rate     0.6013      0.062      9.737      0.000       0.480       0.722\n",
      "ar.L4.D.Rate    -0.9886      0.048    -20.628      0.000      -1.083      -0.895\n",
      "ar.L5.D.Rate     0.1505      0.067      2.248      0.026       0.019       0.282\n",
      "ma.L1.D.Rate    -0.5391      0.027    -20.012      0.000      -0.592      -0.486\n",
      "ma.L2.D.Rate     0.7944      0.026     30.007      0.000       0.743       0.846\n",
      "ma.L3.D.Rate    -0.5391      0.025    -21.447      0.000      -0.588      -0.490\n",
      "ma.L4.D.Rate     1.0000      0.032     31.722      0.000       0.938       1.062\n",
      "                                    Roots                                    \n",
      "=============================================================================\n",
      "                  Real          Imaginary           Modulus         Frequency\n",
      "-----------------------------------------------------------------------------\n",
      "AR.1           -0.4471           -0.9139j            1.0174           -0.3224\n",
      "AR.2           -0.4471           +0.9139j            1.0174            0.3224\n",
      "AR.3            0.7090           -0.7478j            1.0305           -0.1292\n",
      "AR.4            0.7090           +0.7478j            1.0305            0.1292\n",
      "AR.5            6.0441           -0.0000j            6.0441           -0.0000\n",
      "MA.1           -0.4305           -0.9026j            1.0000           -0.3208\n",
      "MA.2           -0.4305           +0.9026j            1.0000            0.3208\n",
      "MA.3            0.7001           -0.7141j            1.0000           -0.1266\n",
      "MA.4            0.7001           +0.7141j            1.0000            0.1266\n",
      "-----------------------------------------------------------------------------\n"
     ]
    }
   ],
   "source": [
    "model_14 = ARIMA(df_train, order=(5,1,4))\n",
    "model_14_fit = model_14.fit(trend='nc',full_output=True, disp=1)\n",
    "print(model_14_fit.summary())"
   ]
  },
  {
   "cell_type": "code",
   "execution_count": 17,
   "metadata": {},
   "outputs": [
    {
     "name": "stderr",
     "output_type": "stream",
     "text": [
      "C:\\Users\\sm.woo\\Anaconda3\\lib\\site-packages\\statsmodels\\tsa\\base\\tsa_model.py:219: ValueWarning: A date index has been provided, but it has no associated frequency information and so will be ignored when e.g. forecasting.\n",
      "  ' ignored when e.g. forecasting.', ValueWarning)\n",
      "C:\\Users\\sm.woo\\Anaconda3\\lib\\site-packages\\statsmodels\\tsa\\base\\tsa_model.py:219: ValueWarning: A date index has been provided, but it has no associated frequency information and so will be ignored when e.g. forecasting.\n",
      "  ' ignored when e.g. forecasting.', ValueWarning)\n"
     ]
    },
    {
     "name": "stdout",
     "output_type": "stream",
     "text": [
      "                             ARIMA Model Results                              \n",
      "==============================================================================\n",
      "Dep. Variable:                 D.Rate   No. Observations:                  246\n",
      "Model:                 ARIMA(5, 1, 3)   Log Likelihood                -687.917\n",
      "Method:                       css-mle   S.D. of innovations              3.956\n",
      "Date:                Fri, 07 Feb 2020   AIC                           1393.833\n",
      "Time:                        15:56:24   BIC                           1425.381\n",
      "Sample:                             1   HQIC                          1406.536\n",
      "                                                                              \n",
      "================================================================================\n",
      "                   coef    std err          z      P>|z|      [0.025      0.975]\n",
      "--------------------------------------------------------------------------------\n",
      "ar.L1.D.Rate     0.7205      0.640      1.126      0.261      -0.534       1.975\n",
      "ar.L2.D.Rate    -1.0409      0.370     -2.812      0.005      -1.766      -0.315\n",
      "ar.L3.D.Rate     0.2907      0.607      0.479      0.632      -0.899       1.481\n",
      "ar.L4.D.Rate     0.0134      0.085      0.158      0.875      -0.153       0.180\n",
      "ar.L5.D.Rate     0.0864      0.089      0.976      0.330      -0.087       0.260\n",
      "ma.L1.D.Rate    -0.6269      0.642     -0.977      0.330      -1.885       0.631\n",
      "ma.L2.D.Rate     1.0401      0.300      3.468      0.001       0.452       1.628\n",
      "ma.L3.D.Rate    -0.1737      0.625     -0.278      0.781      -1.399       1.051\n",
      "                                    Roots                                    \n",
      "=============================================================================\n",
      "                  Real          Imaginary           Modulus         Frequency\n",
      "-----------------------------------------------------------------------------\n",
      "AR.1            0.2471           -0.9774j            1.0081           -0.2106\n",
      "AR.2            0.2471           +0.9774j            1.0081            0.2106\n",
      "AR.3            1.7043           -0.0000j            1.7043           -0.0000\n",
      "AR.4           -1.1767           -2.3008j            2.5842           -0.3252\n",
      "AR.5           -1.1767           +2.3008j            2.5842            0.3252\n",
      "MA.1            0.2324           -0.9941j            1.0209           -0.2135\n",
      "MA.2            0.2324           +0.9941j            1.0209            0.2135\n",
      "MA.3            5.5246           -0.0000j            5.5246           -0.0000\n",
      "-----------------------------------------------------------------------------\n"
     ]
    }
   ],
   "source": [
    "model_15 = ARIMA(df_train, order=(5,1,3))\n",
    "model_15_fit = model_15.fit(trend='nc',full_output=True, disp=1)\n",
    "print(model_15_fit.summary())"
   ]
  },
  {
   "cell_type": "code",
   "execution_count": 18,
   "metadata": {},
   "outputs": [
    {
     "name": "stderr",
     "output_type": "stream",
     "text": [
      "C:\\Users\\sm.woo\\Anaconda3\\lib\\site-packages\\statsmodels\\tsa\\base\\tsa_model.py:219: ValueWarning: A date index has been provided, but it has no associated frequency information and so will be ignored when e.g. forecasting.\n",
      "  ' ignored when e.g. forecasting.', ValueWarning)\n",
      "C:\\Users\\sm.woo\\Anaconda3\\lib\\site-packages\\statsmodels\\tsa\\base\\tsa_model.py:219: ValueWarning: A date index has been provided, but it has no associated frequency information and so will be ignored when e.g. forecasting.\n",
      "  ' ignored when e.g. forecasting.', ValueWarning)\n"
     ]
    },
    {
     "name": "stdout",
     "output_type": "stream",
     "text": [
      "                             ARIMA Model Results                              \n",
      "==============================================================================\n",
      "Dep. Variable:                 D.Rate   No. Observations:                  246\n",
      "Model:                 ARIMA(5, 1, 3)   Log Likelihood                -687.793\n",
      "Method:                       css-mle   S.D. of innovations              3.954\n",
      "Date:                Fri, 07 Feb 2020   AIC                           1395.587\n",
      "Time:                        15:56:29   BIC                           1430.640\n",
      "Sample:                             1   HQIC                          1409.701\n",
      "                                                                              \n",
      "================================================================================\n",
      "                   coef    std err          z      P>|z|      [0.025      0.975]\n",
      "--------------------------------------------------------------------------------\n",
      "const            0.1660      0.333      0.498      0.619      -0.487       0.819\n",
      "ar.L1.D.Rate     0.7047      0.636      1.109      0.269      -0.541       1.951\n",
      "ar.L2.D.Rate    -1.0326      0.367     -2.814      0.005      -1.752      -0.313\n",
      "ar.L3.D.Rate     0.2749      0.604      0.455      0.649      -0.909       1.459\n",
      "ar.L4.D.Rate     0.0138      0.084      0.163      0.870      -0.152       0.179\n",
      "ar.L5.D.Rate     0.0867      0.087      0.995      0.321      -0.084       0.258\n",
      "ma.L1.D.Rate    -0.6121      0.637     -0.960      0.338      -1.861       0.637\n",
      "ma.L2.D.Rate     1.0332      0.298      3.467      0.001       0.449       1.617\n",
      "ma.L3.D.Rate    -0.1591      0.620     -0.257      0.798      -1.375       1.057\n",
      "                                    Roots                                    \n",
      "=============================================================================\n",
      "                  Real          Imaginary           Modulus         Frequency\n",
      "-----------------------------------------------------------------------------\n",
      "AR.1            0.2472           -0.9773j            1.0081           -0.2106\n",
      "AR.2            0.2472           +0.9773j            1.0081            0.2106\n",
      "AR.3            1.7250           -0.0000j            1.7250           -0.0000\n",
      "AR.4           -1.1891           -2.2728j            2.5651           -0.3267\n",
      "AR.5           -1.1891           +2.2728j            2.5651            0.3267\n",
      "MA.1            0.2326           -0.9942j            1.0211           -0.2134\n",
      "MA.2            0.2326           +0.9942j            1.0211            0.2134\n",
      "MA.3            6.0268           -0.0000j            6.0268           -0.0000\n",
      "-----------------------------------------------------------------------------\n"
     ]
    }
   ],
   "source": [
    "model_16 = ARIMA(df_train, order=(5,1,3))\n",
    "model_16_fit = model_16.fit(trend='c',full_output=True, disp=1)\n",
    "print(model_16_fit.summary())"
   ]
  },
  {
   "cell_type": "code",
   "execution_count": 19,
   "metadata": {},
   "outputs": [
    {
     "name": "stderr",
     "output_type": "stream",
     "text": [
      "C:\\Users\\sm.woo\\Anaconda3\\lib\\site-packages\\statsmodels\\tsa\\base\\tsa_model.py:219: ValueWarning: A date index has been provided, but it has no associated frequency information and so will be ignored when e.g. forecasting.\n",
      "  ' ignored when e.g. forecasting.', ValueWarning)\n",
      "C:\\Users\\sm.woo\\Anaconda3\\lib\\site-packages\\statsmodels\\tsa\\base\\tsa_model.py:219: ValueWarning: A date index has been provided, but it has no associated frequency information and so will be ignored when e.g. forecasting.\n",
      "  ' ignored when e.g. forecasting.', ValueWarning)\n"
     ]
    },
    {
     "name": "stdout",
     "output_type": "stream",
     "text": [
      "                             ARIMA Model Results                              \n",
      "==============================================================================\n",
      "Dep. Variable:                 D.Rate   No. Observations:                  246\n",
      "Model:                 ARIMA(5, 1, 2)   Log Likelihood                -686.024\n",
      "Method:                       css-mle   S.D. of innovations              3.896\n",
      "Date:                Fri, 07 Feb 2020   AIC                           1390.048\n",
      "Time:                        15:56:36   BIC                           1421.596\n",
      "Sample:                             1   HQIC                          1402.751\n",
      "                                                                              \n",
      "================================================================================\n",
      "                   coef    std err          z      P>|z|      [0.025      0.975]\n",
      "--------------------------------------------------------------------------------\n",
      "const            0.1670      0.327      0.510      0.610      -0.474       0.808\n",
      "ar.L1.D.Rate     0.6551      0.066      9.937      0.000       0.526       0.784\n",
      "ar.L2.D.Rate    -0.9647      0.077    -12.558      0.000      -1.115      -0.814\n",
      "ar.L3.D.Rate     0.1144      0.098      1.166      0.245      -0.078       0.307\n",
      "ar.L4.D.Rate     0.0595      0.078      0.767      0.444      -0.093       0.211\n",
      "ar.L5.D.Rate     0.0553      0.066      0.839      0.402      -0.074       0.184\n",
      "ma.L1.D.Rate    -0.5734      0.018    -31.530      0.000      -0.609      -0.538\n",
      "ma.L2.D.Rate     0.9999      0.019     52.213      0.000       0.962       1.037\n",
      "                                    Roots                                    \n",
      "=============================================================================\n",
      "                  Real          Imaginary           Modulus         Frequency\n",
      "-----------------------------------------------------------------------------\n",
      "AR.1            0.2744           -0.9640j            1.0023           -0.2059\n",
      "AR.2            0.2744           +0.9640j            1.0023            0.2059\n",
      "AR.3            1.9800           -0.0000j            1.9800           -0.0000\n",
      "AR.4           -1.8023           -2.4179j            3.0157           -0.3519\n",
      "AR.5           -1.8023           +2.4179j            3.0157            0.3519\n",
      "MA.1            0.2868           -0.9581j            1.0001           -0.2037\n",
      "MA.2            0.2868           +0.9581j            1.0001            0.2037\n",
      "-----------------------------------------------------------------------------\n"
     ]
    }
   ],
   "source": [
    "model_17 = ARIMA(df_train, order=(5,1,2))\n",
    "model_17_fit = model_17.fit(trend='c',full_output=True, disp=1)\n",
    "print(model_17_fit.summary())"
   ]
  },
  {
   "cell_type": "code",
   "execution_count": 20,
   "metadata": {},
   "outputs": [
    {
     "name": "stderr",
     "output_type": "stream",
     "text": [
      "C:\\Users\\sm.woo\\Anaconda3\\lib\\site-packages\\statsmodels\\tsa\\base\\tsa_model.py:219: ValueWarning: A date index has been provided, but it has no associated frequency information and so will be ignored when e.g. forecasting.\n",
      "  ' ignored when e.g. forecasting.', ValueWarning)\n",
      "C:\\Users\\sm.woo\\Anaconda3\\lib\\site-packages\\statsmodels\\tsa\\base\\tsa_model.py:219: ValueWarning: A date index has been provided, but it has no associated frequency information and so will be ignored when e.g. forecasting.\n",
      "  ' ignored when e.g. forecasting.', ValueWarning)\n"
     ]
    },
    {
     "name": "stdout",
     "output_type": "stream",
     "text": [
      "                             ARIMA Model Results                              \n",
      "==============================================================================\n",
      "Dep. Variable:                 D.Rate   No. Observations:                  246\n",
      "Model:                 ARIMA(5, 1, 2)   Log Likelihood                -686.154\n",
      "Method:                       css-mle   S.D. of innovations              3.898\n",
      "Date:                Fri, 07 Feb 2020   AIC                           1388.308\n",
      "Time:                        15:56:41   BIC                           1416.350\n",
      "Sample:                             1   HQIC                          1399.599\n",
      "                                                                              \n",
      "================================================================================\n",
      "                   coef    std err          z      P>|z|      [0.025      0.975]\n",
      "--------------------------------------------------------------------------------\n",
      "ar.L1.D.Rate     0.6563      0.066      9.957      0.000       0.527       0.786\n",
      "ar.L2.D.Rate    -0.9645      0.077    -12.548      0.000      -1.115      -0.814\n",
      "ar.L3.D.Rate     0.1162      0.098      1.183      0.238      -0.076       0.309\n",
      "ar.L4.D.Rate     0.0598      0.078      0.771      0.442      -0.092       0.212\n",
      "ar.L5.D.Rate     0.0563      0.066      0.854      0.394      -0.073       0.185\n",
      "ma.L1.D.Rate    -0.5735      0.018    -31.500      0.000      -0.609      -0.538\n",
      "ma.L2.D.Rate     0.9999      0.019     52.246      0.000       0.962       1.037\n",
      "                                    Roots                                    \n",
      "=============================================================================\n",
      "                  Real          Imaginary           Modulus         Frequency\n",
      "-----------------------------------------------------------------------------\n",
      "AR.1            0.2744           -0.9640j            1.0023           -0.2059\n",
      "AR.2            0.2744           +0.9640j            1.0023            0.2059\n",
      "AR.3            1.9679           -0.0000j            1.9679           -0.0000\n",
      "AR.4           -1.7898           -2.4053j            2.9981           -0.3518\n",
      "AR.5           -1.7898           +2.4053j            2.9981            0.3518\n",
      "MA.1            0.2868           -0.9581j            1.0001           -0.2037\n",
      "MA.2            0.2868           +0.9581j            1.0001            0.2037\n",
      "-----------------------------------------------------------------------------\n"
     ]
    }
   ],
   "source": [
    "model_18 = ARIMA(df_train, order=(5,1,2))\n",
    "model_18_fit = model_18.fit(trend='nc',full_output=True, disp=1)\n",
    "print(model_18_fit.summary())"
   ]
  },
  {
   "cell_type": "code",
   "execution_count": 21,
   "metadata": {},
   "outputs": [
    {
     "name": "stderr",
     "output_type": "stream",
     "text": [
      "C:\\Users\\sm.woo\\Anaconda3\\lib\\site-packages\\statsmodels\\tsa\\base\\tsa_model.py:219: ValueWarning: A date index has been provided, but it has no associated frequency information and so will be ignored when e.g. forecasting.\n",
      "  ' ignored when e.g. forecasting.', ValueWarning)\n",
      "C:\\Users\\sm.woo\\Anaconda3\\lib\\site-packages\\statsmodels\\tsa\\base\\tsa_model.py:219: ValueWarning: A date index has been provided, but it has no associated frequency information and so will be ignored when e.g. forecasting.\n",
      "  ' ignored when e.g. forecasting.', ValueWarning)\n"
     ]
    },
    {
     "name": "stdout",
     "output_type": "stream",
     "text": [
      "                             ARIMA Model Results                              \n",
      "==============================================================================\n",
      "Dep. Variable:                 D.Rate   No. Observations:                  246\n",
      "Model:                 ARIMA(5, 1, 1)   Log Likelihood                -692.550\n",
      "Method:                       css-mle   S.D. of innovations              4.040\n",
      "Date:                Fri, 07 Feb 2020   AIC                           1399.100\n",
      "Time:                        15:56:44   BIC                           1423.637\n",
      "Sample:                             1   HQIC                          1408.980\n",
      "                                                                              \n",
      "================================================================================\n",
      "                   coef    std err          z      P>|z|      [0.025      0.975]\n",
      "--------------------------------------------------------------------------------\n",
      "ar.L1.D.Rate     0.3388      0.463      0.731      0.465      -0.570       1.247\n",
      "ar.L2.D.Rate    -0.0075      0.083     -0.090      0.929      -0.171       0.156\n",
      "ar.L3.D.Rate     0.0272      0.068      0.399      0.690      -0.107       0.161\n",
      "ar.L4.D.Rate     0.0319      0.070      0.458      0.647      -0.105       0.168\n",
      "ar.L5.D.Rate     0.0474      0.070      0.674      0.501      -0.090       0.185\n",
      "ma.L1.D.Rate    -0.2357      0.460     -0.512      0.609      -1.138       0.667\n",
      "                                    Roots                                    \n",
      "=============================================================================\n",
      "                  Real          Imaginary           Modulus         Frequency\n",
      "-----------------------------------------------------------------------------\n",
      "AR.1            1.4484           -0.0000j            1.4484           -0.0000\n",
      "AR.2            0.6135           -1.6803j            1.7887           -0.1943\n",
      "AR.3            0.6135           +1.6803j            1.7887            0.1943\n",
      "AR.4           -1.6740           -1.3238j            2.1342           -0.3935\n",
      "AR.5           -1.6740           +1.3238j            2.1342            0.3935\n",
      "MA.1            4.2433           +0.0000j            4.2433            0.0000\n",
      "-----------------------------------------------------------------------------\n"
     ]
    }
   ],
   "source": [
    "model_19 = ARIMA(df_train, order=(5,1,1))\n",
    "model_19_fit = model_19.fit(trend='nc',full_output=True, disp=1)\n",
    "print(model_19_fit.summary())"
   ]
  },
  {
   "cell_type": "code",
   "execution_count": 22,
   "metadata": {},
   "outputs": [
    {
     "name": "stderr",
     "output_type": "stream",
     "text": [
      "C:\\Users\\sm.woo\\Anaconda3\\lib\\site-packages\\statsmodels\\tsa\\base\\tsa_model.py:219: ValueWarning: A date index has been provided, but it has no associated frequency information and so will be ignored when e.g. forecasting.\n",
      "  ' ignored when e.g. forecasting.', ValueWarning)\n",
      "C:\\Users\\sm.woo\\Anaconda3\\lib\\site-packages\\statsmodels\\tsa\\base\\tsa_model.py:219: ValueWarning: A date index has been provided, but it has no associated frequency information and so will be ignored when e.g. forecasting.\n",
      "  ' ignored when e.g. forecasting.', ValueWarning)\n"
     ]
    },
    {
     "name": "stdout",
     "output_type": "stream",
     "text": [
      "                             ARIMA Model Results                              \n",
      "==============================================================================\n",
      "Dep. Variable:                 D.Rate   No. Observations:                  246\n",
      "Model:                 ARIMA(5, 1, 1)   Log Likelihood                -692.447\n",
      "Method:                       css-mle   S.D. of innovations              4.038\n",
      "Date:                Fri, 07 Feb 2020   AIC                           1400.893\n",
      "Time:                        15:56:46   BIC                           1428.936\n",
      "Sample:                             1   HQIC                          1412.185\n",
      "                                                                              \n",
      "================================================================================\n",
      "                   coef    std err          z      P>|z|      [0.025      0.975]\n",
      "--------------------------------------------------------------------------------\n",
      "const            0.1580      0.346      0.456      0.649      -0.521       0.836\n",
      "ar.L1.D.Rate     0.3336      0.467      0.714      0.476      -0.582       1.249\n",
      "ar.L2.D.Rate    -0.0075      0.083     -0.090      0.929      -0.171       0.156\n",
      "ar.L3.D.Rate     0.0266      0.068      0.391      0.696      -0.107       0.160\n",
      "ar.L4.D.Rate     0.0312      0.069      0.450      0.653      -0.105       0.167\n",
      "ar.L5.D.Rate     0.0467      0.070      0.667      0.506      -0.091       0.184\n",
      "ma.L1.D.Rate    -0.2314      0.464     -0.499      0.619      -1.141       0.678\n",
      "                                    Roots                                    \n",
      "=============================================================================\n",
      "                  Real          Imaginary           Modulus         Frequency\n",
      "-----------------------------------------------------------------------------\n",
      "AR.1            1.4571           -0.0000j            1.4571           -0.0000\n",
      "AR.2            0.6138           -1.6856j            1.7939           -0.1944\n",
      "AR.3            0.6138           +1.6856j            1.7939            0.1944\n",
      "AR.4           -1.6770           -1.3250j            2.1373           -0.3936\n",
      "AR.5           -1.6770           +1.3250j            2.1373            0.3936\n",
      "MA.1            4.3222           +0.0000j            4.3222            0.0000\n",
      "-----------------------------------------------------------------------------\n"
     ]
    }
   ],
   "source": [
    "model_20 = ARIMA(df_train, order=(5,1,1))\n",
    "model_20_fit = model_20.fit(trend='c',full_output=True, disp=1)\n",
    "print(model_20_fit.summary())"
   ]
  },
  {
   "cell_type": "code",
   "execution_count": 23,
   "metadata": {},
   "outputs": [
    {
     "name": "stderr",
     "output_type": "stream",
     "text": [
      "C:\\Users\\sm.woo\\Anaconda3\\lib\\site-packages\\statsmodels\\tsa\\base\\tsa_model.py:219: ValueWarning: A date index has been provided, but it has no associated frequency information and so will be ignored when e.g. forecasting.\n",
      "  ' ignored when e.g. forecasting.', ValueWarning)\n",
      "C:\\Users\\sm.woo\\Anaconda3\\lib\\site-packages\\statsmodels\\tsa\\base\\tsa_model.py:219: ValueWarning: A date index has been provided, but it has no associated frequency information and so will be ignored when e.g. forecasting.\n",
      "  ' ignored when e.g. forecasting.', ValueWarning)\n"
     ]
    },
    {
     "name": "stdout",
     "output_type": "stream",
     "text": [
      "                             ARIMA Model Results                              \n",
      "==============================================================================\n",
      "Dep. Variable:                 D.Rate   No. Observations:                  246\n",
      "Model:                 ARIMA(5, 1, 5)   Log Likelihood                -685.729\n",
      "Method:                       css-mle   S.D. of innovations              3.894\n",
      "Date:                Fri, 07 Feb 2020   AIC                           1393.459\n",
      "Time:                        15:56:56   BIC                           1432.017\n",
      "Sample:                             1   HQIC                          1408.984\n",
      "                                                                              \n",
      "================================================================================\n",
      "                   coef    std err          z      P>|z|      [0.025      0.975]\n",
      "--------------------------------------------------------------------------------\n",
      "ar.L1.D.Rate    -0.5687      0.196     -2.903      0.004      -0.953      -0.185\n",
      "ar.L2.D.Rate    -0.0735      0.253     -0.291      0.771      -0.569       0.422\n",
      "ar.L3.D.Rate    -0.5228      0.208     -2.512      0.013      -0.931      -0.115\n",
      "ar.L4.D.Rate     0.0604      0.253      0.238      0.812      -0.436       0.557\n",
      "ar.L5.D.Rate     0.7060      0.177      3.996      0.000       0.360       1.052\n",
      "ma.L1.D.Rate     0.7166      0.213      3.363      0.001       0.299       1.134\n",
      "ma.L2.D.Rate     0.2068      0.296      0.699      0.485      -0.373       0.786\n",
      "ma.L3.D.Rate     0.5747      0.253      2.274      0.024       0.079       1.070\n",
      "ma.L4.D.Rate     0.0731      0.289      0.253      0.801      -0.494       0.640\n",
      "ma.L5.D.Rate    -0.6545      0.208     -3.144      0.002      -1.062      -0.247\n",
      "                                    Roots                                    \n",
      "=============================================================================\n",
      "                  Real          Imaginary           Modulus         Frequency\n",
      "-----------------------------------------------------------------------------\n",
      "AR.1           -0.9508           -0.3878j            1.0269           -0.4384\n",
      "AR.2           -0.9508           +0.3878j            1.0269            0.4384\n",
      "AR.3            0.2437           -0.9755j            1.0055           -0.2110\n",
      "AR.4            0.2437           +0.9755j            1.0055            0.2110\n",
      "AR.5            1.3286           -0.0000j            1.3286           -0.0000\n",
      "MA.1           -0.9208           -0.3901j            1.0000           -0.4362\n",
      "MA.2           -0.9208           +0.3901j            1.0000            0.4362\n",
      "MA.3            0.2325           -0.9862j            1.0133           -0.2131\n",
      "MA.4            0.2325           +0.9862j            1.0133            0.2131\n",
      "MA.5            1.4881           -0.0000j            1.4881           -0.0000\n",
      "-----------------------------------------------------------------------------\n"
     ]
    }
   ],
   "source": [
    "model_21 = ARIMA(df_train, order=(5,1,5))\n",
    "model_21_fit = model_21.fit(trend='nc',full_output=True, disp=1)\n",
    "print(model_21_fit.summary())"
   ]
  },
  {
   "cell_type": "code",
   "execution_count": 24,
   "metadata": {},
   "outputs": [
    {
     "name": "stderr",
     "output_type": "stream",
     "text": [
      "C:\\Users\\sm.woo\\Anaconda3\\lib\\site-packages\\statsmodels\\tsa\\base\\tsa_model.py:219: ValueWarning: A date index has been provided, but it has no associated frequency information and so will be ignored when e.g. forecasting.\n",
      "  ' ignored when e.g. forecasting.', ValueWarning)\n",
      "C:\\Users\\sm.woo\\Anaconda3\\lib\\site-packages\\statsmodels\\tsa\\base\\tsa_model.py:219: ValueWarning: A date index has been provided, but it has no associated frequency information and so will be ignored when e.g. forecasting.\n",
      "  ' ignored when e.g. forecasting.', ValueWarning)\n"
     ]
    },
    {
     "name": "stdout",
     "output_type": "stream",
     "text": [
      "                             ARIMA Model Results                              \n",
      "==============================================================================\n",
      "Dep. Variable:                 D.Rate   No. Observations:                  246\n",
      "Model:                 ARIMA(5, 1, 5)   Log Likelihood                -685.618\n",
      "Method:                       css-mle   S.D. of innovations              3.892\n",
      "Date:                Fri, 07 Feb 2020   AIC                           1395.236\n",
      "Time:                        15:57:11   BIC                           1437.300\n",
      "Sample:                             1   HQIC                          1412.173\n",
      "                                                                              \n",
      "================================================================================\n",
      "                   coef    std err          z      P>|z|      [0.025      0.975]\n",
      "--------------------------------------------------------------------------------\n",
      "const            0.1593      0.336      0.475      0.635      -0.499       0.817\n",
      "ar.L1.D.Rate    -0.5758      0.199     -2.890      0.004      -0.966      -0.185\n",
      "ar.L2.D.Rate    -0.0828      0.257     -0.322      0.748      -0.587       0.422\n",
      "ar.L3.D.Rate    -0.5305      0.212     -2.506      0.013      -0.945      -0.116\n",
      "ar.L4.D.Rate     0.0509      0.258      0.197      0.844      -0.455       0.557\n",
      "ar.L5.D.Rate     0.6994      0.180      3.886      0.000       0.347       1.052\n",
      "ma.L1.D.Rate     0.7227      0.216      3.350      0.001       0.300       1.146\n",
      "ma.L2.D.Rate     0.2152      0.300      0.718      0.473      -0.372       0.802\n",
      "ma.L3.D.Rate     0.5818      0.256      2.275      0.024       0.081       1.083\n",
      "ma.L4.D.Rate     0.0816      0.293      0.279      0.781      -0.492       0.656\n",
      "ma.L5.D.Rate    -0.6484      0.211     -3.077      0.002      -1.061      -0.235\n",
      "                                    Roots                                    \n",
      "=============================================================================\n",
      "                  Real          Imaginary           Modulus         Frequency\n",
      "-----------------------------------------------------------------------------\n",
      "AR.1           -0.9508           -0.3877j            1.0268           -0.4384\n",
      "AR.2           -0.9508           +0.3877j            1.0268            0.4384\n",
      "AR.3            0.2438           -0.9755j            1.0055           -0.2110\n",
      "AR.4            0.2438           +0.9755j            1.0055            0.2110\n",
      "AR.5            1.3413           -0.0000j            1.3413           -0.0000\n",
      "MA.1           -0.9208           -0.3901j            1.0000           -0.4362\n",
      "MA.2           -0.9208           +0.3901j            1.0000            0.4362\n",
      "MA.3            0.2326           -0.9862j            1.0133           -0.2131\n",
      "MA.4            0.2326           +0.9862j            1.0133            0.2131\n",
      "MA.5            1.5021           -0.0000j            1.5021           -0.0000\n",
      "-----------------------------------------------------------------------------\n"
     ]
    }
   ],
   "source": [
    "model_22 = ARIMA(df_train, order=(5,1,5))\n",
    "model_22_fit = model_22.fit(trend='c',full_output=True, disp=1)\n",
    "print(model_22_fit.summary())"
   ]
  },
  {
   "cell_type": "code",
   "execution_count": 25,
   "metadata": {},
   "outputs": [
    {
     "name": "stderr",
     "output_type": "stream",
     "text": [
      "C:\\Users\\sm.woo\\Anaconda3\\lib\\site-packages\\statsmodels\\tsa\\base\\tsa_model.py:219: ValueWarning: A date index has been provided, but it has no associated frequency information and so will be ignored when e.g. forecasting.\n",
      "  ' ignored when e.g. forecasting.', ValueWarning)\n",
      "C:\\Users\\sm.woo\\Anaconda3\\lib\\site-packages\\statsmodels\\base\\model.py:492: HessianInversionWarning: Inverting hessian failed, no bse or cov_params available\n",
      "  'available', HessianInversionWarning)\n",
      "C:\\Users\\sm.woo\\Anaconda3\\lib\\site-packages\\statsmodels\\base\\model.py:512: ConvergenceWarning: Maximum Likelihood optimization failed to converge. Check mle_retvals\n",
      "  \"Check mle_retvals\", ConvergenceWarning)\n"
     ]
    },
    {
     "name": "stdout",
     "output_type": "stream",
     "text": [
      "                              ARMA Model Results                              \n",
      "==============================================================================\n",
      "Dep. Variable:                   Rate   No. Observations:                  247\n",
      "Model:                     ARMA(5, 5)   Log Likelihood                -696.787\n",
      "Method:                       css-mle   S.D. of innovations              4.025\n",
      "Date:                Fri, 07 Feb 2020   AIC                           1417.574\n",
      "Time:                        15:57:30   BIC                           1459.686\n",
      "Sample:                             0   HQIC                          1434.529\n",
      "                                                                              \n",
      "==============================================================================\n",
      "                 coef    std err          z      P>|z|      [0.025      0.975]\n",
      "------------------------------------------------------------------------------\n",
      "const       1176.5650        nan        nan        nan         nan         nan\n",
      "ar.L1.Rate    -0.0043        nan        nan        nan         nan         nan\n",
      "ar.L2.Rate     1.1138        nan        nan        nan         nan         nan\n",
      "ar.L3.Rate     0.9441      0.038     25.056      0.000       0.870       1.018\n",
      "ar.L4.Rate    -0.2553        nan        nan        nan         nan         nan\n",
      "ar.L5.Rate    -0.7983        nan        nan        nan         nan         nan\n",
      "ma.L1.Rate     1.1156      0.058     19.231      0.000       1.002       1.229\n",
      "ma.L2.Rate     0.0139      0.071      0.194      0.846      -0.126       0.154\n",
      "ma.L3.Rate    -1.0517      0.041    -25.916      0.000      -1.131      -0.972\n",
      "ma.L4.Rate    -0.9318      0.063    -14.818      0.000      -1.055      -0.809\n",
      "ma.L5.Rate    -0.1459      0.062     -2.343      0.020      -0.268      -0.024\n",
      "                                    Roots                                    \n",
      "=============================================================================\n",
      "                  Real          Imaginary           Modulus         Frequency\n",
      "-----------------------------------------------------------------------------\n",
      "AR.1            1.0018           -0.0000j            1.0018           -0.0000\n",
      "AR.2            1.0059           -0.0000j            1.0059           -0.0000\n",
      "AR.3           -0.6148           -0.8686j            1.0642           -0.3480\n",
      "AR.4           -0.6148           +0.8686j            1.0642            0.3480\n",
      "AR.5           -1.0978           -0.0000j            1.0978           -0.5000\n",
      "MA.1            1.0000           -0.0000j            1.0000           -0.0000\n",
      "MA.2           -0.6247           -0.8976j            1.0936           -0.3468\n",
      "MA.3           -0.6247           +0.8976j            1.0936            0.3468\n",
      "MA.4           -1.1490           -0.0000j            1.1490           -0.5000\n",
      "MA.5           -4.9865           -0.0000j            4.9865           -0.5000\n",
      "-----------------------------------------------------------------------------\n"
     ]
    },
    {
     "name": "stderr",
     "output_type": "stream",
     "text": [
      "C:\\Users\\sm.woo\\Anaconda3\\lib\\site-packages\\statsmodels\\tsa\\arima_model.py:1441: RuntimeWarning: invalid value encountered in sqrt\n",
      "  return np.sqrt(np.diag(-inv(hess)))\n",
      "C:\\Users\\sm.woo\\Anaconda3\\lib\\site-packages\\scipy\\stats\\_distn_infrastructure.py:901: RuntimeWarning: invalid value encountered in greater\n",
      "  return (a < x) & (x < b)\n",
      "C:\\Users\\sm.woo\\Anaconda3\\lib\\site-packages\\scipy\\stats\\_distn_infrastructure.py:901: RuntimeWarning: invalid value encountered in less\n",
      "  return (a < x) & (x < b)\n",
      "C:\\Users\\sm.woo\\Anaconda3\\lib\\site-packages\\scipy\\stats\\_distn_infrastructure.py:1892: RuntimeWarning: invalid value encountered in less_equal\n",
      "  cond2 = cond0 & (x <= _a)\n"
     ]
    }
   ],
   "source": [
    "model_23 = ARIMA(df_train, order=(5,0,5))\n",
    "model_23_fit = model_23.fit(trend='c',full_output=True, disp=1)\n",
    "print(model_23_fit.summary())"
   ]
  },
  {
   "cell_type": "code",
   "execution_count": 26,
   "metadata": {},
   "outputs": [
    {
     "name": "stderr",
     "output_type": "stream",
     "text": [
      "C:\\Users\\sm.woo\\Anaconda3\\lib\\site-packages\\statsmodels\\tsa\\base\\tsa_model.py:219: ValueWarning: A date index has been provided, but it has no associated frequency information and so will be ignored when e.g. forecasting.\n",
      "  ' ignored when e.g. forecasting.', ValueWarning)\n",
      "C:\\Users\\sm.woo\\Anaconda3\\lib\\site-packages\\statsmodels\\base\\model.py:512: ConvergenceWarning: Maximum Likelihood optimization failed to converge. Check mle_retvals\n",
      "  \"Check mle_retvals\", ConvergenceWarning)\n"
     ]
    },
    {
     "name": "stdout",
     "output_type": "stream",
     "text": [
      "                              ARMA Model Results                              \n",
      "==============================================================================\n",
      "Dep. Variable:                   Rate   No. Observations:                  247\n",
      "Model:                     ARMA(5, 0)   Log Likelihood                -704.029\n",
      "Method:                       css-mle   S.D. of innovations              4.039\n",
      "Date:                Fri, 07 Feb 2020   AIC                           1420.057\n",
      "Time:                        15:57:33   BIC                           1441.114\n",
      "Sample:                             0   HQIC                          1428.535\n",
      "                                                                              \n",
      "==============================================================================\n",
      "                 coef    std err          z      P>|z|      [0.025      0.975]\n",
      "------------------------------------------------------------------------------\n",
      "ar.L1.Rate     1.1095   1.07e-05   1.04e+05      0.000       1.109       1.109\n",
      "ar.L2.Rate    -0.0859        nan        nan        nan         nan         nan\n",
      "ar.L3.Rate     0.0181        nan        nan        nan         nan         nan\n",
      "ar.L4.Rate     0.0034        nan        nan        nan         nan         nan\n",
      "ar.L5.Rate    -0.0451        nan        nan        nan         nan         nan\n",
      "                                    Roots                                    \n",
      "=============================================================================\n",
      "                  Real          Imaginary           Modulus         Frequency\n",
      "-----------------------------------------------------------------------------\n",
      "AR.1            1.0000           -0.0000j            1.0000           -0.0000\n",
      "AR.2            1.8063           -0.0000j            1.8063           -0.0000\n",
      "AR.3           -0.1114           -2.2104j            2.2132           -0.2580\n",
      "AR.4           -0.1114           +2.2104j            2.2132            0.2580\n",
      "AR.5           -2.5086           -0.0000j            2.5086           -0.5000\n",
      "-----------------------------------------------------------------------------\n"
     ]
    }
   ],
   "source": [
    "#non값 사용 불가능\n",
    "model_24 = ARIMA(df_train, order=(5,0,0))\n",
    "model_24_fit = model_24.fit(trend='nc',full_output=True, disp=1)\n",
    "print(model_24_fit.summary())"
   ]
  },
  {
   "cell_type": "code",
   "execution_count": 27,
   "metadata": {},
   "outputs": [
    {
     "name": "stderr",
     "output_type": "stream",
     "text": [
      "C:\\Users\\sm.woo\\Anaconda3\\lib\\site-packages\\statsmodels\\tsa\\base\\tsa_model.py:219: ValueWarning: A date index has been provided, but it has no associated frequency information and so will be ignored when e.g. forecasting.\n",
      "  ' ignored when e.g. forecasting.', ValueWarning)\n"
     ]
    },
    {
     "name": "stdout",
     "output_type": "stream",
     "text": [
      "                              ARMA Model Results                              \n",
      "==============================================================================\n",
      "Dep. Variable:                   Rate   No. Observations:                  247\n",
      "Model:                     ARMA(5, 0)   Log Likelihood                -696.845\n",
      "Method:                       css-mle   S.D. of innovations              4.031\n",
      "Date:                Fri, 07 Feb 2020   AIC                           1407.690\n",
      "Time:                        15:57:35   BIC                           1432.255\n",
      "Sample:                             0   HQIC                          1417.580\n",
      "                                                                              \n",
      "==============================================================================\n",
      "                 coef    std err          z      P>|z|      [0.025      0.975]\n",
      "------------------------------------------------------------------------------\n",
      "const       1155.7699     18.305     63.141      0.000    1119.894    1191.646\n",
      "ar.L1.Rate     1.0992      0.063     17.336      0.000       0.975       1.223\n",
      "ar.L2.Rate    -0.0874      0.095     -0.921      0.358      -0.273       0.099\n",
      "ar.L3.Rate     0.0153      0.096      0.160      0.873      -0.172       0.203\n",
      "ar.L4.Rate     0.0146      0.096      0.153      0.878      -0.173       0.202\n",
      "ar.L5.Rate    -0.0534      0.064     -0.830      0.408      -0.180       0.073\n",
      "                                    Roots                                    \n",
      "=============================================================================\n",
      "                  Real          Imaginary           Modulus         Frequency\n",
      "-----------------------------------------------------------------------------\n",
      "AR.1            1.0155           -0.0000j            1.0155           -0.0000\n",
      "AR.2            1.7486           -0.0000j            1.7486           -0.0000\n",
      "AR.3           -0.0708           -2.1172j            2.1184           -0.2553\n",
      "AR.4           -0.0708           +2.1172j            2.1184            0.2553\n",
      "AR.5           -2.3483           -0.0000j            2.3483           -0.5000\n",
      "-----------------------------------------------------------------------------\n"
     ]
    }
   ],
   "source": [
    "model_25 = ARIMA(df_train, order=(5,0,0))\n",
    "model_25_fit = model_25.fit(trend='c',full_output=True, disp=1)\n",
    "print(model_25_fit.summary())"
   ]
  },
  {
   "cell_type": "code",
   "execution_count": 28,
   "metadata": {},
   "outputs": [
    {
     "name": "stderr",
     "output_type": "stream",
     "text": [
      "C:\\Users\\sm.woo\\Anaconda3\\lib\\site-packages\\statsmodels\\tsa\\base\\tsa_model.py:219: ValueWarning: A date index has been provided, but it has no associated frequency information and so will be ignored when e.g. forecasting.\n",
      "  ' ignored when e.g. forecasting.', ValueWarning)\n",
      "C:\\Users\\sm.woo\\Anaconda3\\lib\\site-packages\\statsmodels\\tsa\\base\\tsa_model.py:219: ValueWarning: A date index has been provided, but it has no associated frequency information and so will be ignored when e.g. forecasting.\n",
      "  ' ignored when e.g. forecasting.', ValueWarning)\n"
     ]
    },
    {
     "name": "stdout",
     "output_type": "stream",
     "text": [
      "                             ARIMA Model Results                              \n",
      "==============================================================================\n",
      "Dep. Variable:                 D.Rate   No. Observations:                  246\n",
      "Model:                 ARIMA(0, 1, 5)   Log Likelihood                -692.763\n",
      "Method:                       css-mle   S.D. of innovations              4.043\n",
      "Date:                Fri, 07 Feb 2020   AIC                           1397.526\n",
      "Time:                        15:57:35   BIC                           1418.558\n",
      "Sample:                             1   HQIC                          1405.995\n",
      "                                                                              \n",
      "================================================================================\n",
      "                   coef    std err          z      P>|z|      [0.025      0.975]\n",
      "--------------------------------------------------------------------------------\n",
      "ma.L1.D.Rate     0.0929      0.065      1.429      0.154      -0.034       0.220\n",
      "ma.L2.D.Rate     0.0258      0.067      0.387      0.699      -0.105       0.156\n",
      "ma.L3.D.Rate     0.0397      0.058      0.680      0.497      -0.075       0.154\n",
      "ma.L4.D.Rate     0.0551      0.068      0.807      0.421      -0.079       0.189\n",
      "ma.L5.D.Rate     0.0589      0.071      0.829      0.408      -0.080       0.198\n",
      "                                    Roots                                    \n",
      "=============================================================================\n",
      "                  Real          Imaginary           Modulus         Frequency\n",
      "-----------------------------------------------------------------------------\n",
      "MA.1            1.2170           -1.1146j            1.6503           -0.1180\n",
      "MA.2            1.2170           +1.1146j            1.6503            0.1180\n",
      "MA.3           -0.7532           -1.6670j            1.8293           -0.3175\n",
      "MA.4           -0.7532           +1.6670j            1.8293            0.3175\n",
      "MA.5           -1.8643           -0.0000j            1.8643           -0.5000\n",
      "-----------------------------------------------------------------------------\n"
     ]
    }
   ],
   "source": [
    "model_26 = ARIMA(df_train, order=(0,1,5))\n",
    "model_26_fit = model_26.fit(trend='nc',full_output=True, disp=1)\n",
    "print(model_26_fit.summary())"
   ]
  },
  {
   "cell_type": "code",
   "execution_count": 29,
   "metadata": {},
   "outputs": [
    {
     "name": "stderr",
     "output_type": "stream",
     "text": [
      "C:\\Users\\sm.woo\\Anaconda3\\lib\\site-packages\\statsmodels\\tsa\\base\\tsa_model.py:219: ValueWarning: A date index has been provided, but it has no associated frequency information and so will be ignored when e.g. forecasting.\n",
      "  ' ignored when e.g. forecasting.', ValueWarning)\n",
      "C:\\Users\\sm.woo\\Anaconda3\\lib\\site-packages\\statsmodels\\tsa\\base\\tsa_model.py:219: ValueWarning: A date index has been provided, but it has no associated frequency information and so will be ignored when e.g. forecasting.\n",
      "  ' ignored when e.g. forecasting.', ValueWarning)\n"
     ]
    },
    {
     "name": "stdout",
     "output_type": "stream",
     "text": [
      "                             ARIMA Model Results                              \n",
      "==============================================================================\n",
      "Dep. Variable:                 D.Rate   No. Observations:                  246\n",
      "Model:                 ARIMA(0, 1, 5)   Log Likelihood                -692.644\n",
      "Method:                       css-mle   S.D. of innovations              4.041\n",
      "Date:                Fri, 07 Feb 2020   AIC                           1399.287\n",
      "Time:                        15:57:36   BIC                           1423.824\n",
      "Sample:                             1   HQIC                          1409.167\n",
      "                                                                              \n",
      "================================================================================\n",
      "                   coef    std err          z      P>|z|      [0.025      0.975]\n",
      "--------------------------------------------------------------------------------\n",
      "const            0.1596      0.326      0.490      0.625      -0.479       0.798\n",
      "ma.L1.D.Rate     0.0921      0.065      1.418      0.157      -0.035       0.219\n",
      "ma.L2.D.Rate     0.0251      0.067      0.378      0.706      -0.105       0.156\n",
      "ma.L3.D.Rate     0.0389      0.058      0.665      0.507      -0.076       0.153\n",
      "ma.L4.D.Rate     0.0541      0.068      0.790      0.430      -0.080       0.188\n",
      "ma.L5.D.Rate     0.0579      0.071      0.815      0.416      -0.081       0.197\n",
      "                                    Roots                                    \n",
      "=============================================================================\n",
      "                  Real          Imaginary           Modulus         Frequency\n",
      "-----------------------------------------------------------------------------\n",
      "MA.1            1.2226           -1.1179j            1.6566           -0.1179\n",
      "MA.2            1.2226           +1.1179j            1.6566            0.1179\n",
      "MA.3           -0.7548           -1.6728j            1.8352           -0.3175\n",
      "MA.4           -0.7548           +1.6728j            1.8352            0.3175\n",
      "MA.5           -1.8699           -0.0000j            1.8699           -0.5000\n",
      "-----------------------------------------------------------------------------\n"
     ]
    }
   ],
   "source": [
    "model_27 = ARIMA(df_train, order=(0,1,5))\n",
    "model_27_fit = model_27.fit(trend='c',full_output=True, disp=1)\n",
    "print(model_27_fit.summary())"
   ]
  },
  {
   "cell_type": "code",
   "execution_count": 30,
   "metadata": {},
   "outputs": [
    {
     "name": "stderr",
     "output_type": "stream",
     "text": [
      "C:\\Users\\sm.woo\\Anaconda3\\lib\\site-packages\\statsmodels\\tsa\\base\\tsa_model.py:219: ValueWarning: A date index has been provided, but it has no associated frequency information and so will be ignored when e.g. forecasting.\n",
      "  ' ignored when e.g. forecasting.', ValueWarning)\n",
      "C:\\Users\\sm.woo\\Anaconda3\\lib\\site-packages\\statsmodels\\tsa\\base\\tsa_model.py:219: ValueWarning: A date index has been provided, but it has no associated frequency information and so will be ignored when e.g. forecasting.\n",
      "  ' ignored when e.g. forecasting.', ValueWarning)\n"
     ]
    },
    {
     "name": "stdout",
     "output_type": "stream",
     "text": [
      "                             ARIMA Model Results                              \n",
      "==============================================================================\n",
      "Dep. Variable:                 D.Rate   No. Observations:                  246\n",
      "Model:                 ARIMA(0, 1, 4)   Log Likelihood                -693.110\n",
      "Method:                       css-mle   S.D. of innovations              4.049\n",
      "Date:                Fri, 07 Feb 2020   AIC                           1396.221\n",
      "Time:                        15:57:36   BIC                           1413.747\n",
      "Sample:                             1   HQIC                          1403.278\n",
      "                                                                              \n",
      "================================================================================\n",
      "                   coef    std err          z      P>|z|      [0.025      0.975]\n",
      "--------------------------------------------------------------------------------\n",
      "ma.L1.D.Rate     0.1030      0.064      1.605      0.110      -0.023       0.229\n",
      "ma.L2.D.Rate     0.0178      0.066      0.269      0.788      -0.112       0.147\n",
      "ma.L3.D.Rate     0.0376      0.059      0.635      0.526      -0.078       0.154\n",
      "ma.L4.D.Rate     0.0499      0.069      0.728      0.467      -0.084       0.184\n",
      "                                    Roots                                    \n",
      "=============================================================================\n",
      "                  Real          Imaginary           Modulus         Frequency\n",
      "-----------------------------------------------------------------------------\n",
      "MA.1            1.2904           -1.6105j            2.0637           -0.1425\n",
      "MA.2            1.2904           +1.6105j            2.0637            0.1425\n",
      "MA.3           -1.6670           -1.3868j            2.1685           -0.3896\n",
      "MA.4           -1.6670           +1.3868j            2.1685            0.3896\n",
      "-----------------------------------------------------------------------------\n"
     ]
    }
   ],
   "source": [
    "model_28 = ARIMA(df_train, order=(0,1,4))\n",
    "model_28_fit = model_28.fit(trend='nc',full_output=True, disp=1)\n",
    "print(model_28_fit.summary())"
   ]
  },
  {
   "cell_type": "code",
   "execution_count": 31,
   "metadata": {},
   "outputs": [
    {
     "name": "stderr",
     "output_type": "stream",
     "text": [
      "C:\\Users\\sm.woo\\Anaconda3\\lib\\site-packages\\statsmodels\\tsa\\base\\tsa_model.py:219: ValueWarning: A date index has been provided, but it has no associated frequency information and so will be ignored when e.g. forecasting.\n",
      "  ' ignored when e.g. forecasting.', ValueWarning)\n",
      "C:\\Users\\sm.woo\\Anaconda3\\lib\\site-packages\\statsmodels\\tsa\\base\\tsa_model.py:219: ValueWarning: A date index has been provided, but it has no associated frequency information and so will be ignored when e.g. forecasting.\n",
      "  ' ignored when e.g. forecasting.', ValueWarning)\n"
     ]
    },
    {
     "name": "stdout",
     "output_type": "stream",
     "text": [
      "                             ARIMA Model Results                              \n",
      "==============================================================================\n",
      "Dep. Variable:                 D.Rate   No. Observations:                  246\n",
      "Model:                 ARIMA(0, 1, 4)   Log Likelihood                -692.979\n",
      "Method:                       css-mle   S.D. of innovations              4.047\n",
      "Date:                Fri, 07 Feb 2020   AIC                           1397.957\n",
      "Time:                        15:57:36   BIC                           1418.989\n",
      "Sample:                             1   HQIC                          1406.426\n",
      "                                                                              \n",
      "================================================================================\n",
      "                   coef    std err          z      P>|z|      [0.025      0.975]\n",
      "--------------------------------------------------------------------------------\n",
      "const            0.1596      0.310      0.514      0.608      -0.449       0.768\n",
      "ma.L1.D.Rate     0.1020      0.064      1.589      0.113      -0.024       0.228\n",
      "ma.L2.D.Rate     0.0172      0.066      0.261      0.795      -0.112       0.147\n",
      "ma.L3.D.Rate     0.0367      0.059      0.619      0.536      -0.080       0.153\n",
      "ma.L4.D.Rate     0.0489      0.069      0.711      0.478      -0.086       0.183\n",
      "                                    Roots                                    \n",
      "=============================================================================\n",
      "                  Real          Imaginary           Modulus         Frequency\n",
      "-----------------------------------------------------------------------------\n",
      "MA.1            1.2994           -1.6187j            2.0757           -0.1423\n",
      "MA.2            1.2994           +1.6187j            2.0757            0.1423\n",
      "MA.3           -1.6752           -1.3946j            2.1797           -0.3895\n",
      "MA.4           -1.6752           +1.3946j            2.1797            0.3895\n",
      "-----------------------------------------------------------------------------\n"
     ]
    }
   ],
   "source": [
    "model_29 = ARIMA(df_train, order=(0,1,4))\n",
    "model_29_fit = model_29.fit(trend='c',full_output=True, disp=1)\n",
    "print(model_29_fit.summary())"
   ]
  },
  {
   "cell_type": "markdown",
   "metadata": {},
   "source": [
    "### 예측"
   ]
  },
  {
   "cell_type": "code",
   "execution_count": 32,
   "metadata": {
    "scrolled": true
   },
   "outputs": [
    {
     "data": {
      "image/png": "[encoded data removed]",
      "text/plain": [
       "<Figure size 432x288 with 1 Axes>"
      ]
     },
     "metadata": {
      "needs_background": "light"
     },
     "output_type": "display_data"
    },
    {
     "data": {
      "image/png": "[encoded data removed]",
      "text/plain": [
       "<Figure size 432x288 with 1 Axes>"
      ]
     },
     "metadata": {
      "needs_background": "light"
     },
     "output_type": "display_data"
    },
    {
     "data": {
      "image/png": "[encoded data removed]",
      "text/plain": [
       "<Figure size 432x288 with 1 Axes>"
      ]
     },
     "metadata": {
      "needs_background": "light"
     },
     "output_type": "display_data"
    },
    {
     "data": {
      "image/png": "[encoded data removed]",
      "text/plain": [
       "<Figure size 432x288 with 1 Axes>"
      ]
     },
     "metadata": {
      "needs_background": "light"
     },
     "output_type": "display_data"
    },
    {
     "data": {
      "image/png": "[encoded data removed]",
      "text/plain": [
       "<Figure size 432x288 with 1 Axes>"
      ]
     },
     "metadata": {
      "needs_background": "light"
     },
     "output_type": "display_data"
    },
    {
     "data": {
      "image/png": "[encoded data removed]",
      "text/plain": [
       "<Figure size 432x288 with 1 Axes>"
      ]
     },
     "metadata": {
      "needs_background": "light"
     },
     "output_type": "display_data"
    },
    {
     "data": {
      "image/png": "[encoded data removed]",
      "text/plain": [
       "<Figure size 432x288 with 1 Axes>"
      ]
     },
     "metadata": {
      "needs_background": "light"
     },
     "output_type": "display_data"
    },
    {
     "data": {
      "image/png": "[encoded data removed]",
      "text/plain": [
       "<Figure size 432x288 with 1 Axes>"
      ]
     },
     "metadata": {
      "needs_background": "light"
     },
     "output_type": "display_data"
    },
    {
     "data": {
      "image/png": "[encoded data removed]",
      "text/plain": [
       "<Figure size 432x288 with 1 Axes>"
      ]
     },
     "metadata": {
      "needs_background": "light"
     },
     "output_type": "display_data"
    },
    {
     "data": {
      "image/png": "[encoded data removed]",
      "text/plain": [
       "<Figure size 432x288 with 1 Axes>"
      ]
     },
     "metadata": {
      "needs_background": "light"
     },
     "output_type": "display_data"
    },
    {
     "data": {
      "image/png": "[encoded data removed]",
      "text/plain": [
       "<Figure size 432x288 with 1 Axes>"
      ]
     },
     "metadata": {
      "needs_background": "light"
     },
     "output_type": "display_data"
    },
    {
     "data": {
      "image/png": "[encoded data removed]",
      "text/plain": [
       "<Figure size 432x288 with 1 Axes>"
      ]
     },
     "metadata": {
      "needs_background": "light"
     },
     "output_type": "display_data"
    }
   ],
   "source": [
    "Models = [model_1_fit, model_2_fit, model_3_fit, model_4_fit, model_18_fit, model_19_fit, model_20_fit, \n",
    "          model_25_fit, model_26_fit, model_27_fit, model_28_fit, model_29_fit]\n",
    "\n",
    "df_test=df_test[:5]\n",
    "actual_price=df_test['Rate'].tolist()[:5]\n",
    "RMSE_total=[]\n",
    "pred_price=[]\n",
    "\n",
    "for model in Models:\n",
    "    pred = model.forecast(steps=5)\n",
    "    pred_price_0=pred[0][:5]\n",
    "    pred_price.extend(pred_price_0)\n",
    "\n",
    "    plt.plot(pred_price_0)\n",
    "    plt.plot(df_test)\n",
    "    plt.show()\n",
    "    \n",
    "    RMSE = mean_squared_error(pred_price_0, actual_price)**0.5    \n",
    "    RMSE_total.append(RMSE)"
   ]
  },
  {
   "cell_type": "markdown",
   "metadata": {},
   "source": [
    "#### 예측값, stderr, upper bound, lower bound"
   ]
  },
  {
   "cell_type": "code",
   "execution_count": 33,
   "metadata": {},
   "outputs": [],
   "source": [
    "n = 5\n",
    "result = [pred_price[i * n:(i + 1) * n] for i in range((len(pred_price) + n - 1) // n )] \n",
    "pred_final = []\n",
    "for i in result:\n",
    "    pred_final.append(i)"
   ]
  },
  {
   "cell_type": "code",
   "execution_count": 34,
   "metadata": {
    "scrolled": true
   },
   "outputs": [],
   "source": [
    "pred_final=pd.DataFrame(pred_final)\n",
    "RMSE_total=pd.DataFrame(RMSE_total)\n",
    "final_df=pd.concat([pred_final, RMSE_total], axis=1)\n",
    "final_df.columns=[df_test.index[0],df_test.index[1],df_test.index[2],df_test.index[3],df_test.index[4],'RMSE']"
   ]
  },
  {
   "cell_type": "code",
   "execution_count": 35,
   "metadata": {},
   "outputs": [
    {
     "data": {
      "text/html": [
       "<div>\n",
       "<style scoped>\n",
       "    .dataframe tbody tr th:only-of-type {\n",
       "        vertical-align: middle;\n",
       "    }\n",
       "\n",
       "    .dataframe tbody tr th {\n",
       "        vertical-align: top;\n",
       "    }\n",
       "\n",
       "    .dataframe thead th {\n",
       "        text-align: right;\n",
       "    }\n",
       "</style>\n",
       "<table border=\"1\" class=\"dataframe\">\n",
       "  <thead>\n",
       "    <tr style=\"text-align: right;\">\n",
       "      <th></th>\n",
       "      <th>2020-01-02</th>\n",
       "      <th>2020-01-03</th>\n",
       "      <th>2020-01-06</th>\n",
       "      <th>2020-01-07</th>\n",
       "      <th>2020-01-08</th>\n",
       "      <th>RMSE</th>\n",
       "    </tr>\n",
       "  </thead>\n",
       "  <tbody>\n",
       "    <tr>\n",
       "      <td>0</td>\n",
       "      <td>1157.800000</td>\n",
       "      <td>1156.900000</td>\n",
       "      <td>1162.700000</td>\n",
       "      <td>1169.600000</td>\n",
       "      <td>1165.300000</td>\n",
       "      <td>0.000000</td>\n",
       "    </tr>\n",
       "    <tr>\n",
       "      <td>0</td>\n",
       "      <td>1157.407357</td>\n",
       "      <td>1157.135361</td>\n",
       "      <td>1156.946942</td>\n",
       "      <td>1156.816418</td>\n",
       "      <td>1156.726000</td>\n",
       "      <td>7.351744</td>\n",
       "    </tr>\n",
       "    <tr>\n",
       "      <td>1</td>\n",
       "      <td>1157.540573</td>\n",
       "      <td>1157.414439</td>\n",
       "      <td>1157.379256</td>\n",
       "      <td>1157.406132</td>\n",
       "      <td>1157.475355</td>\n",
       "      <td>6.907355</td>\n",
       "    </tr>\n",
       "    <tr>\n",
       "      <td>2</td>\n",
       "      <td>1157.488167</td>\n",
       "      <td>1157.381586</td>\n",
       "      <td>1157.347599</td>\n",
       "      <td>1157.363936</td>\n",
       "      <td>1157.417354</td>\n",
       "      <td>6.940241</td>\n",
       "    </tr>\n",
       "    <tr>\n",
       "      <td>3</td>\n",
       "      <td>1157.352483</td>\n",
       "      <td>1157.097624</td>\n",
       "      <td>1156.909914</td>\n",
       "      <td>1156.769248</td>\n",
       "      <td>1156.663729</td>\n",
       "      <td>7.388881</td>\n",
       "    </tr>\n",
       "    <tr>\n",
       "      <td>4</td>\n",
       "      <td>1157.786588</td>\n",
       "      <td>1158.982172</td>\n",
       "      <td>1159.261014</td>\n",
       "      <td>1158.087104</td>\n",
       "      <td>1157.011337</td>\n",
       "      <td>6.594103</td>\n",
       "    </tr>\n",
       "    <tr>\n",
       "      <td>5</td>\n",
       "      <td>1157.394563</td>\n",
       "      <td>1157.287281</td>\n",
       "      <td>1157.041609</td>\n",
       "      <td>1156.835126</td>\n",
       "      <td>1156.604301</td>\n",
       "      <td>7.360556</td>\n",
       "    </tr>\n",
       "    <tr>\n",
       "      <td>6</td>\n",
       "      <td>1157.517084</td>\n",
       "      <td>1157.543042</td>\n",
       "      <td>1157.435136</td>\n",
       "      <td>1157.370482</td>\n",
       "      <td>1157.286776</td>\n",
       "      <td>6.956798</td>\n",
       "    </tr>\n",
       "    <tr>\n",
       "      <td>7</td>\n",
       "      <td>1157.435307</td>\n",
       "      <td>1157.157362</td>\n",
       "      <td>1156.965451</td>\n",
       "      <td>1156.743839</td>\n",
       "      <td>1156.673082</td>\n",
       "      <td>7.386324</td>\n",
       "    </tr>\n",
       "    <tr>\n",
       "      <td>8</td>\n",
       "      <td>1157.505025</td>\n",
       "      <td>1157.418553</td>\n",
       "      <td>1157.136185</td>\n",
       "      <td>1156.965209</td>\n",
       "      <td>1156.965209</td>\n",
       "      <td>7.216905</td>\n",
       "    </tr>\n",
       "    <tr>\n",
       "      <td>9</td>\n",
       "      <td>1157.633413</td>\n",
       "      <td>1157.686857</td>\n",
       "      <td>1157.550617</td>\n",
       "      <td>1157.528498</td>\n",
       "      <td>1157.688128</td>\n",
       "      <td>6.794480</td>\n",
       "    </tr>\n",
       "    <tr>\n",
       "      <td>10</td>\n",
       "      <td>1157.484006</td>\n",
       "      <td>1157.298298</td>\n",
       "      <td>1157.183181</td>\n",
       "      <td>1157.027646</td>\n",
       "      <td>1157.027646</td>\n",
       "      <td>7.172025</td>\n",
       "    </tr>\n",
       "    <tr>\n",
       "      <td>11</td>\n",
       "      <td>1157.619823</td>\n",
       "      <td>1157.584651</td>\n",
       "      <td>1157.620393</td>\n",
       "      <td>1157.621364</td>\n",
       "      <td>1157.780930</td>\n",
       "      <td>6.727968</td>\n",
       "    </tr>\n",
       "  </tbody>\n",
       "</table>\n",
       "</div>"
      ],
      "text/plain": [
       "     2020-01-02   2020-01-03   2020-01-06   2020-01-07   2020-01-08      RMSE\n",
       "0   1157.800000  1156.900000  1162.700000  1169.600000  1165.300000  0.000000\n",
       "0   1157.407357  1157.135361  1156.946942  1156.816418  1156.726000  7.351744\n",
       "1   1157.540573  1157.414439  1157.379256  1157.406132  1157.475355  6.907355\n",
       "2   1157.488167  1157.381586  1157.347599  1157.363936  1157.417354  6.940241\n",
       "3   1157.352483  1157.097624  1156.909914  1156.769248  1156.663729  7.388881\n",
       "4   1157.786588  1158.982172  1159.261014  1158.087104  1157.011337  6.594103\n",
       "5   1157.394563  1157.287281  1157.041609  1156.835126  1156.604301  7.360556\n",
       "6   1157.517084  1157.543042  1157.435136  1157.370482  1157.286776  6.956798\n",
       "7   1157.435307  1157.157362  1156.965451  1156.743839  1156.673082  7.386324\n",
       "8   1157.505025  1157.418553  1157.136185  1156.965209  1156.965209  7.216905\n",
       "9   1157.633413  1157.686857  1157.550617  1157.528498  1157.688128  6.794480\n",
       "10  1157.484006  1157.298298  1157.183181  1157.027646  1157.027646  7.172025\n",
       "11  1157.619823  1157.584651  1157.620393  1157.621364  1157.780930  6.727968"
      ]
     },
     "execution_count": 35,
     "metadata": {},
     "output_type": "execute_result"
    }
   ],
   "source": [
    "actual_price = pd.DataFrame(actual_price + [0]).T\n",
    "actual_price.columns=[df_test.index[0],df_test.index[1],df_test.index[2],df_test.index[3],df_test.index[4],'RMSE']\n",
    "final_df=pd.concat([actual_price, final_df], axis=0)\n",
    "final_df"
   ]
  },
  {
   "cell_type": "code",
   "execution_count": 36,
   "metadata": {},
   "outputs": [],
   "source": [
    "final_df.to_csv('data/final12.csv', index=False)"
   ]
  },
  {
   "cell_type": "code",
   "execution_count": null,
   "metadata": {},
   "outputs": [],
   "source": []
  }
 ],
 "metadata": {
  "kernelspec": {
   "display_name": "Python 3",
   "language": "python",
   "name": "python3"
  },
  "language_info": {
   "codemirror_mode": {
    "name": "ipython",
    "version": 3
   },
   "file_extension": ".py",
   "mimetype": "text/x-python",
   "name": "python",
   "nbconvert_exporter": "python",
   "pygments_lexer": "ipython3",
   "version": "3.7.4"
  }
 },
 "nbformat": 4,
 "nbformat_minor": 2
}
